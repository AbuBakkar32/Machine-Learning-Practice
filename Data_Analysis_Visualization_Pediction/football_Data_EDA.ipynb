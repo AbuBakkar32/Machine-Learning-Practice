{
 "cells": [
  {
   "cell_type": "code",
   "execution_count": 1,
   "id": "initial_id",
   "metadata": {
    "collapsed": true,
    "ExecuteTime": {
     "end_time": "2023-11-14T12:33:46.573816700Z",
     "start_time": "2023-11-14T12:33:46.516718900Z"
    }
   },
   "outputs": [],
   "source": [
    "import pandas as pd\n",
    "import numpy as np\n",
    "import matplotlib.pyplot as plt\n",
    "import seaborn as sns\n",
    "%matplotlib inline"
   ]
  },
  {
   "cell_type": "code",
   "execution_count": 2,
   "outputs": [],
   "source": [
    "df = pd.read_csv('data/fifa_players.csv')"
   ],
   "metadata": {
    "collapsed": false,
    "ExecuteTime": {
     "end_time": "2023-11-14T12:33:50.582740700Z",
     "start_time": "2023-11-14T12:33:49.710528900Z"
    }
   },
   "id": "cb057a243aa68343"
  },
  {
   "cell_type": "code",
   "execution_count": 3,
   "outputs": [
    {
     "data": {
      "text/plain": "           name                          full_name  birth_date  age  \\\n0      L. Messi     Lionel Andrés Messi Cuccittini   6/24/1987   31   \n1    C. Eriksen       Christian  Dannemann Eriksen   2/14/1992   27   \n2      P. Pogba                         Paul Pogba   3/15/1993   25   \n3    L. Insigne                    Lorenzo Insigne    6/4/1991   27   \n4  K. Koulibaly                  Kalidou Koulibaly   6/20/1991   27   \n5   V. van Dijk                    Virgil van Dijk    7/8/1991   27   \n6     K. Mbappé                      Kylian Mbappé  12/20/1998   20   \n7     S. Agüero  Sergio Leonel Agüero del Castillo    6/2/1988   30   \n8      M. Neuer                       Manuel Neuer   3/27/1986   32   \n9     E. Cavani       Edinson Roberto Cavani Gómez   2/14/1987   32   \n\n   height_cm  weight_kgs  positions  nationality  overall_rating  potential  \\\n0     170.18        72.1   CF,RW,ST    Argentina              94         94   \n1     154.94        76.2  CAM,RM,CM      Denmark              88         89   \n2     190.50        83.9     CM,CAM       France              88         91   \n3     162.56        59.0      LW,ST        Italy              88         88   \n4     187.96        88.9         CB      Senegal              88         91   \n5     193.04        92.1         CB  Netherlands              88         90   \n6     152.40        73.0   RW,ST,RM       France              88         95   \n7     172.72        69.9         ST    Argentina              89         89   \n8     193.04        92.1         GK      Germany              89         89   \n9     185.42        77.1         ST      Uruguay              89         89   \n\n   ...  long_shots  aggression interceptions  positioning  vision  penalties  \\\n0  ...          94          48            22           94      94         75   \n1  ...          89          46            56           84      91         67   \n2  ...          82          78            64           82      88         82   \n3  ...          84          34            26           83      87         61   \n4  ...          15          87            88           24      49         33   \n5  ...          64          82            88           41      60         62   \n6  ...          78          62            38           88      82         70   \n7  ...          83          65            24           92      83         83   \n8  ...          16          29            30           12      70         47   \n9  ...          79          84            48           93      77         85   \n\n  composure  marking standing_tackle  sliding_tackle  \n0        96       33              28              26  \n1        88       59              57              22  \n2        87       63              67              67  \n3        83       51              24              22  \n4        80       91              88              87  \n5        87       90              89              84  \n6        86       34              34              32  \n7        90       30              20              12  \n8        70       17              10              11  \n9        82       52              45              39  \n\n[10 rows x 51 columns]",
      "text/html": "<div>\n<style scoped>\n    .dataframe tbody tr th:only-of-type {\n        vertical-align: middle;\n    }\n\n    .dataframe tbody tr th {\n        vertical-align: top;\n    }\n\n    .dataframe thead th {\n        text-align: right;\n    }\n</style>\n<table border=\"1\" class=\"dataframe\">\n  <thead>\n    <tr style=\"text-align: right;\">\n      <th></th>\n      <th>name</th>\n      <th>full_name</th>\n      <th>birth_date</th>\n      <th>age</th>\n      <th>height_cm</th>\n      <th>weight_kgs</th>\n      <th>positions</th>\n      <th>nationality</th>\n      <th>overall_rating</th>\n      <th>potential</th>\n      <th>...</th>\n      <th>long_shots</th>\n      <th>aggression</th>\n      <th>interceptions</th>\n      <th>positioning</th>\n      <th>vision</th>\n      <th>penalties</th>\n      <th>composure</th>\n      <th>marking</th>\n      <th>standing_tackle</th>\n      <th>sliding_tackle</th>\n    </tr>\n  </thead>\n  <tbody>\n    <tr>\n      <th>0</th>\n      <td>L. Messi</td>\n      <td>Lionel Andrés Messi Cuccittini</td>\n      <td>6/24/1987</td>\n      <td>31</td>\n      <td>170.18</td>\n      <td>72.1</td>\n      <td>CF,RW,ST</td>\n      <td>Argentina</td>\n      <td>94</td>\n      <td>94</td>\n      <td>...</td>\n      <td>94</td>\n      <td>48</td>\n      <td>22</td>\n      <td>94</td>\n      <td>94</td>\n      <td>75</td>\n      <td>96</td>\n      <td>33</td>\n      <td>28</td>\n      <td>26</td>\n    </tr>\n    <tr>\n      <th>1</th>\n      <td>C. Eriksen</td>\n      <td>Christian  Dannemann Eriksen</td>\n      <td>2/14/1992</td>\n      <td>27</td>\n      <td>154.94</td>\n      <td>76.2</td>\n      <td>CAM,RM,CM</td>\n      <td>Denmark</td>\n      <td>88</td>\n      <td>89</td>\n      <td>...</td>\n      <td>89</td>\n      <td>46</td>\n      <td>56</td>\n      <td>84</td>\n      <td>91</td>\n      <td>67</td>\n      <td>88</td>\n      <td>59</td>\n      <td>57</td>\n      <td>22</td>\n    </tr>\n    <tr>\n      <th>2</th>\n      <td>P. Pogba</td>\n      <td>Paul Pogba</td>\n      <td>3/15/1993</td>\n      <td>25</td>\n      <td>190.50</td>\n      <td>83.9</td>\n      <td>CM,CAM</td>\n      <td>France</td>\n      <td>88</td>\n      <td>91</td>\n      <td>...</td>\n      <td>82</td>\n      <td>78</td>\n      <td>64</td>\n      <td>82</td>\n      <td>88</td>\n      <td>82</td>\n      <td>87</td>\n      <td>63</td>\n      <td>67</td>\n      <td>67</td>\n    </tr>\n    <tr>\n      <th>3</th>\n      <td>L. Insigne</td>\n      <td>Lorenzo Insigne</td>\n      <td>6/4/1991</td>\n      <td>27</td>\n      <td>162.56</td>\n      <td>59.0</td>\n      <td>LW,ST</td>\n      <td>Italy</td>\n      <td>88</td>\n      <td>88</td>\n      <td>...</td>\n      <td>84</td>\n      <td>34</td>\n      <td>26</td>\n      <td>83</td>\n      <td>87</td>\n      <td>61</td>\n      <td>83</td>\n      <td>51</td>\n      <td>24</td>\n      <td>22</td>\n    </tr>\n    <tr>\n      <th>4</th>\n      <td>K. Koulibaly</td>\n      <td>Kalidou Koulibaly</td>\n      <td>6/20/1991</td>\n      <td>27</td>\n      <td>187.96</td>\n      <td>88.9</td>\n      <td>CB</td>\n      <td>Senegal</td>\n      <td>88</td>\n      <td>91</td>\n      <td>...</td>\n      <td>15</td>\n      <td>87</td>\n      <td>88</td>\n      <td>24</td>\n      <td>49</td>\n      <td>33</td>\n      <td>80</td>\n      <td>91</td>\n      <td>88</td>\n      <td>87</td>\n    </tr>\n    <tr>\n      <th>5</th>\n      <td>V. van Dijk</td>\n      <td>Virgil van Dijk</td>\n      <td>7/8/1991</td>\n      <td>27</td>\n      <td>193.04</td>\n      <td>92.1</td>\n      <td>CB</td>\n      <td>Netherlands</td>\n      <td>88</td>\n      <td>90</td>\n      <td>...</td>\n      <td>64</td>\n      <td>82</td>\n      <td>88</td>\n      <td>41</td>\n      <td>60</td>\n      <td>62</td>\n      <td>87</td>\n      <td>90</td>\n      <td>89</td>\n      <td>84</td>\n    </tr>\n    <tr>\n      <th>6</th>\n      <td>K. Mbappé</td>\n      <td>Kylian Mbappé</td>\n      <td>12/20/1998</td>\n      <td>20</td>\n      <td>152.40</td>\n      <td>73.0</td>\n      <td>RW,ST,RM</td>\n      <td>France</td>\n      <td>88</td>\n      <td>95</td>\n      <td>...</td>\n      <td>78</td>\n      <td>62</td>\n      <td>38</td>\n      <td>88</td>\n      <td>82</td>\n      <td>70</td>\n      <td>86</td>\n      <td>34</td>\n      <td>34</td>\n      <td>32</td>\n    </tr>\n    <tr>\n      <th>7</th>\n      <td>S. Agüero</td>\n      <td>Sergio Leonel Agüero del Castillo</td>\n      <td>6/2/1988</td>\n      <td>30</td>\n      <td>172.72</td>\n      <td>69.9</td>\n      <td>ST</td>\n      <td>Argentina</td>\n      <td>89</td>\n      <td>89</td>\n      <td>...</td>\n      <td>83</td>\n      <td>65</td>\n      <td>24</td>\n      <td>92</td>\n      <td>83</td>\n      <td>83</td>\n      <td>90</td>\n      <td>30</td>\n      <td>20</td>\n      <td>12</td>\n    </tr>\n    <tr>\n      <th>8</th>\n      <td>M. Neuer</td>\n      <td>Manuel Neuer</td>\n      <td>3/27/1986</td>\n      <td>32</td>\n      <td>193.04</td>\n      <td>92.1</td>\n      <td>GK</td>\n      <td>Germany</td>\n      <td>89</td>\n      <td>89</td>\n      <td>...</td>\n      <td>16</td>\n      <td>29</td>\n      <td>30</td>\n      <td>12</td>\n      <td>70</td>\n      <td>47</td>\n      <td>70</td>\n      <td>17</td>\n      <td>10</td>\n      <td>11</td>\n    </tr>\n    <tr>\n      <th>9</th>\n      <td>E. Cavani</td>\n      <td>Edinson Roberto Cavani Gómez</td>\n      <td>2/14/1987</td>\n      <td>32</td>\n      <td>185.42</td>\n      <td>77.1</td>\n      <td>ST</td>\n      <td>Uruguay</td>\n      <td>89</td>\n      <td>89</td>\n      <td>...</td>\n      <td>79</td>\n      <td>84</td>\n      <td>48</td>\n      <td>93</td>\n      <td>77</td>\n      <td>85</td>\n      <td>82</td>\n      <td>52</td>\n      <td>45</td>\n      <td>39</td>\n    </tr>\n  </tbody>\n</table>\n<p>10 rows × 51 columns</p>\n</div>"
     },
     "execution_count": 3,
     "metadata": {},
     "output_type": "execute_result"
    }
   ],
   "source": [
    "df.head(10)"
   ],
   "metadata": {
    "collapsed": false,
    "ExecuteTime": {
     "end_time": "2023-11-14T12:34:09.446454800Z",
     "start_time": "2023-11-14T12:34:09.213953400Z"
    }
   },
   "id": "fac0ef6fda2afaea"
  },
  {
   "cell_type": "code",
   "execution_count": 13,
   "outputs": [
    {
     "data": {
      "text/plain": "(17954, 51)"
     },
     "execution_count": 13,
     "metadata": {},
     "output_type": "execute_result"
    }
   ],
   "source": [
    "df.shape"
   ],
   "metadata": {
    "collapsed": false,
    "ExecuteTime": {
     "end_time": "2023-11-14T12:44:54.711574200Z",
     "start_time": "2023-11-14T12:44:54.431101700Z"
    }
   },
   "id": "6397b094a595e212"
  },
  {
   "cell_type": "code",
   "execution_count": 4,
   "outputs": [
    {
     "name": "stdout",
     "output_type": "stream",
     "text": [
      "<class 'pandas.core.frame.DataFrame'>\n",
      "RangeIndex: 17954 entries, 0 to 17953\n",
      "Data columns (total 51 columns):\n",
      " #   Column                         Non-Null Count  Dtype  \n",
      "---  ------                         --------------  -----  \n",
      " 0   name                           17954 non-null  object \n",
      " 1   full_name                      17954 non-null  object \n",
      " 2   birth_date                     17954 non-null  object \n",
      " 3   age                            17954 non-null  int64  \n",
      " 4   height_cm                      17954 non-null  float64\n",
      " 5   weight_kgs                     17954 non-null  float64\n",
      " 6   positions                      17954 non-null  object \n",
      " 7   nationality                    17954 non-null  object \n",
      " 8   overall_rating                 17954 non-null  int64  \n",
      " 9   potential                      17954 non-null  int64  \n",
      " 10  value_euro                     17699 non-null  float64\n",
      " 11  wage_euro                      17708 non-null  float64\n",
      " 12  preferred_foot                 17954 non-null  object \n",
      " 13  international_reputation(1-5)  17954 non-null  int64  \n",
      " 14  weak_foot(1-5)                 17954 non-null  int64  \n",
      " 15  skill_moves(1-5)               17954 non-null  int64  \n",
      " 16  body_type                      17954 non-null  object \n",
      " 17  release_clause_euro            16117 non-null  float64\n",
      " 18  national_team                  857 non-null    object \n",
      " 19  national_rating                857 non-null    float64\n",
      " 20  national_team_position         857 non-null    object \n",
      " 21  national_jersey_number         857 non-null    float64\n",
      " 22  crossing                       17954 non-null  int64  \n",
      " 23  finishing                      17954 non-null  int64  \n",
      " 24  heading_accuracy               17954 non-null  int64  \n",
      " 25  short_passing                  17954 non-null  int64  \n",
      " 26  volleys                        17954 non-null  int64  \n",
      " 27  dribbling                      17954 non-null  int64  \n",
      " 28  curve                          17954 non-null  int64  \n",
      " 29  freekick_accuracy              17954 non-null  int64  \n",
      " 30  long_passing                   17954 non-null  int64  \n",
      " 31  ball_control                   17954 non-null  int64  \n",
      " 32  acceleration                   17954 non-null  int64  \n",
      " 33  sprint_speed                   17954 non-null  int64  \n",
      " 34  agility                        17954 non-null  int64  \n",
      " 35  reactions                      17954 non-null  int64  \n",
      " 36  balance                        17954 non-null  int64  \n",
      " 37  shot_power                     17954 non-null  int64  \n",
      " 38  jumping                        17954 non-null  int64  \n",
      " 39  stamina                        17954 non-null  int64  \n",
      " 40  strength                       17954 non-null  int64  \n",
      " 41  long_shots                     17954 non-null  int64  \n",
      " 42  aggression                     17954 non-null  int64  \n",
      " 43  interceptions                  17954 non-null  int64  \n",
      " 44  positioning                    17954 non-null  int64  \n",
      " 45  vision                         17954 non-null  int64  \n",
      " 46  penalties                      17954 non-null  int64  \n",
      " 47  composure                      17954 non-null  int64  \n",
      " 48  marking                        17954 non-null  int64  \n",
      " 49  standing_tackle                17954 non-null  int64  \n",
      " 50  sliding_tackle                 17954 non-null  int64  \n",
      "dtypes: float64(7), int64(35), object(9)\n",
      "memory usage: 7.0+ MB\n"
     ]
    }
   ],
   "source": [
    "df.info()"
   ],
   "metadata": {
    "collapsed": false,
    "ExecuteTime": {
     "end_time": "2023-11-14T12:36:12.416659700Z",
     "start_time": "2023-11-14T12:36:12.043985900Z"
    }
   },
   "id": "3c469db9f8416278"
  },
  {
   "cell_type": "code",
   "execution_count": 5,
   "outputs": [
    {
     "data": {
      "text/plain": "                age     height_cm    weight_kgs  overall_rating     potential  \\\ncount  17954.000000  17954.000000  17954.000000    17954.000000  17954.000000   \nmean      25.565445    174.946921     75.301047       66.240169     71.430935   \nstd        4.705708     14.029449      7.083684        6.963730      6.131339   \nmin       17.000000    152.400000     49.900000       47.000000     48.000000   \n25%       22.000000    154.940000     69.900000       62.000000     67.000000   \n50%       25.000000    175.260000     74.800000       66.000000     71.000000   \n75%       29.000000    185.420000     79.800000       71.000000     75.000000   \nmax       46.000000    205.740000    110.200000       94.000000     95.000000   \n\n         value_euro      wage_euro  international_reputation(1-5)  \\\ncount  1.769900e+04   17708.000000                   17954.000000   \nmean   2.479280e+06    9902.134628                       1.111674   \nstd    5.687014e+06   21995.593750                       0.392168   \nmin    1.000000e+04    1000.000000                       1.000000   \n25%    3.250000e+05    1000.000000                       1.000000   \n50%    7.000000e+05    3000.000000                       1.000000   \n75%    2.100000e+06    9000.000000                       1.000000   \nmax    1.105000e+08  565000.000000                       5.000000   \n\n       weak_foot(1-5)  skill_moves(1-5)  ...    long_shots    aggression  \\\ncount    17954.000000      17954.000000  ...  17954.000000  17954.000000   \nmean         2.945695          2.361034  ...     46.852456     55.816531   \nstd          0.663691          0.763223  ...     19.429337     17.394047   \nmin          1.000000          1.000000  ...      3.000000     11.000000   \n25%          3.000000          2.000000  ...     32.000000     44.000000   \n50%          3.000000          2.000000  ...     51.000000     59.000000   \n75%          3.000000          3.000000  ...     62.000000     69.000000   \nmax          5.000000          5.000000  ...     94.000000     95.000000   \n\n       interceptions   positioning        vision     penalties     composure  \\\ncount   17954.000000  17954.000000  17954.000000  17954.000000  17954.000000   \nmean       46.657959     49.857302     53.406260     48.357302     58.680183   \nstd        20.754649     19.694311     14.156038     15.810844     11.625541   \nmin         3.000000      2.000000     10.000000      5.000000     12.000000   \n25%        26.000000     38.000000     44.000000     38.000000     51.000000   \n50%        52.000000     55.000000     55.000000     49.000000     60.000000   \n75%        64.000000     64.000000     64.000000     60.000000     67.000000   \nmax        92.000000     95.000000     94.000000     92.000000     96.000000   \n\n            marking  standing_tackle  sliding_tackle  \ncount  17954.000000     17954.000000    17954.000000  \nmean      47.162861        47.733040       45.705915  \nstd       20.037346        21.674973       21.285812  \nmin        3.000000         2.000000        3.000000  \n25%       30.000000        27.000000       24.000000  \n50%       52.500000        55.000000       52.000000  \n75%       64.000000        66.000000       64.000000  \nmax       94.000000        93.000000       90.000000  \n\n[8 rows x 42 columns]",
      "text/html": "<div>\n<style scoped>\n    .dataframe tbody tr th:only-of-type {\n        vertical-align: middle;\n    }\n\n    .dataframe tbody tr th {\n        vertical-align: top;\n    }\n\n    .dataframe thead th {\n        text-align: right;\n    }\n</style>\n<table border=\"1\" class=\"dataframe\">\n  <thead>\n    <tr style=\"text-align: right;\">\n      <th></th>\n      <th>age</th>\n      <th>height_cm</th>\n      <th>weight_kgs</th>\n      <th>overall_rating</th>\n      <th>potential</th>\n      <th>value_euro</th>\n      <th>wage_euro</th>\n      <th>international_reputation(1-5)</th>\n      <th>weak_foot(1-5)</th>\n      <th>skill_moves(1-5)</th>\n      <th>...</th>\n      <th>long_shots</th>\n      <th>aggression</th>\n      <th>interceptions</th>\n      <th>positioning</th>\n      <th>vision</th>\n      <th>penalties</th>\n      <th>composure</th>\n      <th>marking</th>\n      <th>standing_tackle</th>\n      <th>sliding_tackle</th>\n    </tr>\n  </thead>\n  <tbody>\n    <tr>\n      <th>count</th>\n      <td>17954.000000</td>\n      <td>17954.000000</td>\n      <td>17954.000000</td>\n      <td>17954.000000</td>\n      <td>17954.000000</td>\n      <td>1.769900e+04</td>\n      <td>17708.000000</td>\n      <td>17954.000000</td>\n      <td>17954.000000</td>\n      <td>17954.000000</td>\n      <td>...</td>\n      <td>17954.000000</td>\n      <td>17954.000000</td>\n      <td>17954.000000</td>\n      <td>17954.000000</td>\n      <td>17954.000000</td>\n      <td>17954.000000</td>\n      <td>17954.000000</td>\n      <td>17954.000000</td>\n      <td>17954.000000</td>\n      <td>17954.000000</td>\n    </tr>\n    <tr>\n      <th>mean</th>\n      <td>25.565445</td>\n      <td>174.946921</td>\n      <td>75.301047</td>\n      <td>66.240169</td>\n      <td>71.430935</td>\n      <td>2.479280e+06</td>\n      <td>9902.134628</td>\n      <td>1.111674</td>\n      <td>2.945695</td>\n      <td>2.361034</td>\n      <td>...</td>\n      <td>46.852456</td>\n      <td>55.816531</td>\n      <td>46.657959</td>\n      <td>49.857302</td>\n      <td>53.406260</td>\n      <td>48.357302</td>\n      <td>58.680183</td>\n      <td>47.162861</td>\n      <td>47.733040</td>\n      <td>45.705915</td>\n    </tr>\n    <tr>\n      <th>std</th>\n      <td>4.705708</td>\n      <td>14.029449</td>\n      <td>7.083684</td>\n      <td>6.963730</td>\n      <td>6.131339</td>\n      <td>5.687014e+06</td>\n      <td>21995.593750</td>\n      <td>0.392168</td>\n      <td>0.663691</td>\n      <td>0.763223</td>\n      <td>...</td>\n      <td>19.429337</td>\n      <td>17.394047</td>\n      <td>20.754649</td>\n      <td>19.694311</td>\n      <td>14.156038</td>\n      <td>15.810844</td>\n      <td>11.625541</td>\n      <td>20.037346</td>\n      <td>21.674973</td>\n      <td>21.285812</td>\n    </tr>\n    <tr>\n      <th>min</th>\n      <td>17.000000</td>\n      <td>152.400000</td>\n      <td>49.900000</td>\n      <td>47.000000</td>\n      <td>48.000000</td>\n      <td>1.000000e+04</td>\n      <td>1000.000000</td>\n      <td>1.000000</td>\n      <td>1.000000</td>\n      <td>1.000000</td>\n      <td>...</td>\n      <td>3.000000</td>\n      <td>11.000000</td>\n      <td>3.000000</td>\n      <td>2.000000</td>\n      <td>10.000000</td>\n      <td>5.000000</td>\n      <td>12.000000</td>\n      <td>3.000000</td>\n      <td>2.000000</td>\n      <td>3.000000</td>\n    </tr>\n    <tr>\n      <th>25%</th>\n      <td>22.000000</td>\n      <td>154.940000</td>\n      <td>69.900000</td>\n      <td>62.000000</td>\n      <td>67.000000</td>\n      <td>3.250000e+05</td>\n      <td>1000.000000</td>\n      <td>1.000000</td>\n      <td>3.000000</td>\n      <td>2.000000</td>\n      <td>...</td>\n      <td>32.000000</td>\n      <td>44.000000</td>\n      <td>26.000000</td>\n      <td>38.000000</td>\n      <td>44.000000</td>\n      <td>38.000000</td>\n      <td>51.000000</td>\n      <td>30.000000</td>\n      <td>27.000000</td>\n      <td>24.000000</td>\n    </tr>\n    <tr>\n      <th>50%</th>\n      <td>25.000000</td>\n      <td>175.260000</td>\n      <td>74.800000</td>\n      <td>66.000000</td>\n      <td>71.000000</td>\n      <td>7.000000e+05</td>\n      <td>3000.000000</td>\n      <td>1.000000</td>\n      <td>3.000000</td>\n      <td>2.000000</td>\n      <td>...</td>\n      <td>51.000000</td>\n      <td>59.000000</td>\n      <td>52.000000</td>\n      <td>55.000000</td>\n      <td>55.000000</td>\n      <td>49.000000</td>\n      <td>60.000000</td>\n      <td>52.500000</td>\n      <td>55.000000</td>\n      <td>52.000000</td>\n    </tr>\n    <tr>\n      <th>75%</th>\n      <td>29.000000</td>\n      <td>185.420000</td>\n      <td>79.800000</td>\n      <td>71.000000</td>\n      <td>75.000000</td>\n      <td>2.100000e+06</td>\n      <td>9000.000000</td>\n      <td>1.000000</td>\n      <td>3.000000</td>\n      <td>3.000000</td>\n      <td>...</td>\n      <td>62.000000</td>\n      <td>69.000000</td>\n      <td>64.000000</td>\n      <td>64.000000</td>\n      <td>64.000000</td>\n      <td>60.000000</td>\n      <td>67.000000</td>\n      <td>64.000000</td>\n      <td>66.000000</td>\n      <td>64.000000</td>\n    </tr>\n    <tr>\n      <th>max</th>\n      <td>46.000000</td>\n      <td>205.740000</td>\n      <td>110.200000</td>\n      <td>94.000000</td>\n      <td>95.000000</td>\n      <td>1.105000e+08</td>\n      <td>565000.000000</td>\n      <td>5.000000</td>\n      <td>5.000000</td>\n      <td>5.000000</td>\n      <td>...</td>\n      <td>94.000000</td>\n      <td>95.000000</td>\n      <td>92.000000</td>\n      <td>95.000000</td>\n      <td>94.000000</td>\n      <td>92.000000</td>\n      <td>96.000000</td>\n      <td>94.000000</td>\n      <td>93.000000</td>\n      <td>90.000000</td>\n    </tr>\n  </tbody>\n</table>\n<p>8 rows × 42 columns</p>\n</div>"
     },
     "execution_count": 5,
     "metadata": {},
     "output_type": "execute_result"
    }
   ],
   "source": [
    "df.describe()"
   ],
   "metadata": {
    "collapsed": false,
    "ExecuteTime": {
     "end_time": "2023-11-14T12:38:03.707414200Z",
     "start_time": "2023-11-14T12:38:02.794969200Z"
    }
   },
   "id": "312891ab149b9ba0"
  },
  {
   "cell_type": "code",
   "execution_count": 6,
   "outputs": [
    {
     "data": {
      "text/plain": "name                                 0\nfull_name                            0\nbirth_date                           0\nage                                  0\nheight_cm                            0\nweight_kgs                           0\npositions                            0\nnationality                          0\noverall_rating                       0\npotential                            0\nvalue_euro                         255\nwage_euro                          246\npreferred_foot                       0\ninternational_reputation(1-5)        0\nweak_foot(1-5)                       0\nskill_moves(1-5)                     0\nbody_type                            0\nrelease_clause_euro               1837\nnational_team                    17097\nnational_rating                  17097\nnational_team_position           17097\nnational_jersey_number           17097\ncrossing                             0\nfinishing                            0\nheading_accuracy                     0\nshort_passing                        0\nvolleys                              0\ndribbling                            0\ncurve                                0\nfreekick_accuracy                    0\nlong_passing                         0\nball_control                         0\nacceleration                         0\nsprint_speed                         0\nagility                              0\nreactions                            0\nbalance                              0\nshot_power                           0\njumping                              0\nstamina                              0\nstrength                             0\nlong_shots                           0\naggression                           0\ninterceptions                        0\npositioning                          0\nvision                               0\npenalties                            0\ncomposure                            0\nmarking                              0\nstanding_tackle                      0\nsliding_tackle                       0\ndtype: int64"
     },
     "execution_count": 6,
     "metadata": {},
     "output_type": "execute_result"
    }
   ],
   "source": [
    "df.isnull().sum()"
   ],
   "metadata": {
    "collapsed": false,
    "ExecuteTime": {
     "end_time": "2023-11-14T12:38:37.623557500Z",
     "start_time": "2023-11-14T12:38:37.521158500Z"
    }
   },
   "id": "23f4c81b5a8b9c6b"
  },
  {
   "cell_type": "code",
   "execution_count": 9,
   "outputs": [
    {
     "data": {
      "text/plain": "Index(['name', 'full_name', 'birth_date', 'age', 'height_cm', 'weight_kgs',\n       'positions', 'nationality', 'overall_rating', 'potential', 'value_euro',\n       'wage_euro', 'preferred_foot', 'international_reputation(1-5)',\n       'weak_foot(1-5)', 'skill_moves(1-5)', 'body_type',\n       'release_clause_euro', 'national_team', 'national_rating',\n       'national_team_position', 'national_jersey_number', 'crossing',\n       'finishing', 'heading_accuracy', 'short_passing', 'volleys',\n       'dribbling', 'curve', 'freekick_accuracy', 'long_passing',\n       'ball_control', 'acceleration', 'sprint_speed', 'agility', 'reactions',\n       'balance', 'shot_power', 'jumping', 'stamina', 'strength', 'long_shots',\n       'aggression', 'interceptions', 'positioning', 'vision', 'penalties',\n       'composure', 'marking', 'standing_tackle', 'sliding_tackle'],\n      dtype='object')"
     },
     "execution_count": 9,
     "metadata": {},
     "output_type": "execute_result"
    }
   ],
   "source": [
    "df.columns"
   ],
   "metadata": {
    "collapsed": false,
    "ExecuteTime": {
     "end_time": "2023-11-14T12:40:03.377532100Z",
     "start_time": "2023-11-14T12:40:03.342510500Z"
    }
   },
   "id": "76f2e9396e10fa2a"
  },
  {
   "cell_type": "code",
   "execution_count": 18,
   "outputs": [
    {
     "data": {
      "text/plain": "   release_clause_euro  count\n0            1100000.0    509\n1            1200000.0    436\n2            1300000.0    408\n3            1400000.0    347\n4            1500000.0    312\n5            1600000.0    284\n6            1000000.0    256\n7            1700000.0    235\n8            1800000.0    231\n9            1900000.0    206",
      "text/html": "<div>\n<style scoped>\n    .dataframe tbody tr th:only-of-type {\n        vertical-align: middle;\n    }\n\n    .dataframe tbody tr th {\n        vertical-align: top;\n    }\n\n    .dataframe thead th {\n        text-align: right;\n    }\n</style>\n<table border=\"1\" class=\"dataframe\">\n  <thead>\n    <tr style=\"text-align: right;\">\n      <th></th>\n      <th>release_clause_euro</th>\n      <th>count</th>\n    </tr>\n  </thead>\n  <tbody>\n    <tr>\n      <th>0</th>\n      <td>1100000.0</td>\n      <td>509</td>\n    </tr>\n    <tr>\n      <th>1</th>\n      <td>1200000.0</td>\n      <td>436</td>\n    </tr>\n    <tr>\n      <th>2</th>\n      <td>1300000.0</td>\n      <td>408</td>\n    </tr>\n    <tr>\n      <th>3</th>\n      <td>1400000.0</td>\n      <td>347</td>\n    </tr>\n    <tr>\n      <th>4</th>\n      <td>1500000.0</td>\n      <td>312</td>\n    </tr>\n    <tr>\n      <th>5</th>\n      <td>1600000.0</td>\n      <td>284</td>\n    </tr>\n    <tr>\n      <th>6</th>\n      <td>1000000.0</td>\n      <td>256</td>\n    </tr>\n    <tr>\n      <th>7</th>\n      <td>1700000.0</td>\n      <td>235</td>\n    </tr>\n    <tr>\n      <th>8</th>\n      <td>1800000.0</td>\n      <td>231</td>\n    </tr>\n    <tr>\n      <th>9</th>\n      <td>1900000.0</td>\n      <td>206</td>\n    </tr>\n  </tbody>\n</table>\n</div>"
     },
     "execution_count": 18,
     "metadata": {},
     "output_type": "execute_result"
    }
   ],
   "source": [
    "df['release_clause_euro'].value_counts().sort_values(ascending=False).reset_index().head(10).rename(columns={'index':'release_clause_euro'})"
   ],
   "metadata": {
    "collapsed": false,
    "ExecuteTime": {
     "end_time": "2023-11-14T12:49:48.655962100Z",
     "start_time": "2023-11-14T12:49:47.189088200Z"
    }
   },
   "id": "c8241216bca45f8f"
  },
  {
   "cell_type": "code",
   "execution_count": null,
   "outputs": [],
   "source": [],
   "metadata": {
    "collapsed": false
   },
   "id": "3ad2a1df9c73e02"
  }
 ],
 "metadata": {
  "kernelspec": {
   "display_name": "Python 3",
   "language": "python",
   "name": "python3"
  },
  "language_info": {
   "codemirror_mode": {
    "name": "ipython",
    "version": 2
   },
   "file_extension": ".py",
   "mimetype": "text/x-python",
   "name": "python",
   "nbconvert_exporter": "python",
   "pygments_lexer": "ipython2",
   "version": "2.7.6"
  }
 },
 "nbformat": 4,
 "nbformat_minor": 5
}
