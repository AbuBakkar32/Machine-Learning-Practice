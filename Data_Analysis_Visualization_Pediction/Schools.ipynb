{
 "cells": [
  {
   "cell_type": "markdown",
   "source": [
    "# NYC Project - Data Analysis with Python\n",
    "**Author:** Abu Bakkar Siddikk\n",
    "**Date:** 2024-03-06\n",
    "**Description:** This project is about NYC schools data analysis\n",
    "**Data Source:** https://data.cityofnewyork.us/Education/SAT-Results/f9bf-2cp4\n"
   ],
   "metadata": {
    "collapsed": false
   },
   "id": "22b60578f1e27e91"
  },
  {
   "source": [
    "# Re-run this cell \n",
    "import pandas as pd\n",
    "# Read in the data\n",
    "schools = pd.read_csv(\"data/schools.csv\")\n",
    "# Preview first 5 data rows\n",
    "schools.head()"
   ],
   "metadata": {
    "id": "bA5ajAmk7XH6",
    "executionTime": 21,
    "lastSuccessfullyExecutedCode": "# Re-run this cell \nimport pandas as pd\n\n# Read in the data\nschools = pd.read_csv(\"schools.csv\")\n\n# Preview the data\nschools.head()\n\n# Start coding here...\n# Which schools are best for math?\nbest_math_schools = schools[schools[\"average_math\"] >= 640][[\"school_name\", \"average_math\"]].sort_values(\"average_math\", ascending=False)\n\n# Calculate total_SAT per school\nschools[\"total_SAT\"] = schools[\"average_math\"] + schools[\"average_reading\"] + schools[\"average_writing\"]\n\n# Who are the top 10 performing schools?\ntop_10_schools = schools.sort_values(\"total_SAT\", ascending=False)[[\"school_name\", \"total_SAT\"]].head(10)\n\n# Which NYC borough has the highest standard deviation for total_SAT?\nboroughs = schools.groupby(\"borough\")[\"total_SAT\"].agg([\"count\", \"mean\", \"std\"]).round(2)\n\n# Filter for max std and make borough a column\nlargest_std_dev = boroughs[boroughs[\"std\"] == boroughs[\"std\"].max()]\n\n# Rename the columns for clarity\nlargest_std_dev = largest_std_dev.rename(columns={\"count\": \"num_schools\", \"mean\": \"average_SAT\", \"std\": \"std_SAT\"})\n# Add as many cells as you like...",
    "executionCancelledAt": null,
    "lastExecutedAt": 1707141352566,
    "lastScheduledRunId": null,
    "outputsMetadata": {
     "0": {
      "height": 215,
      "type": "dataFrame"
     }
    },
    "ExecuteTime": {
     "end_time": "2024-03-11T01:31:36.256397500Z",
     "start_time": "2024-03-11T01:31:32.150153600Z"
    }
   },
   "id": "d0eb4f16-5a99-460d-a5ba-706b7ef0bbe7",
   "cell_type": "code",
   "execution_count": 10,
   "outputs": [
    {
     "data": {
      "text/plain": "                                         school_name    borough building_code  \\\n0  New Explorations into Science, Technology and ...  Manhattan          M022   \n1                               Essex Street Academy  Manhattan          M445   \n2                       Lower Manhattan Arts Academy  Manhattan          M445   \n3    High School for Dual Language and Asian Studies  Manhattan          M445   \n4      Henry Street School for International Studies  Manhattan          M056   \n\n   average_math  average_reading  average_writing  percent_tested  \n0           657              601              601             NaN  \n1           395              411              387            78.9  \n2           418              428              415            65.1  \n3           613              453              463            95.9  \n4           410              406              381            59.7  ",
      "text/html": "<div>\n<style scoped>\n    .dataframe tbody tr th:only-of-type {\n        vertical-align: middle;\n    }\n\n    .dataframe tbody tr th {\n        vertical-align: top;\n    }\n\n    .dataframe thead th {\n        text-align: right;\n    }\n</style>\n<table border=\"1\" class=\"dataframe\">\n  <thead>\n    <tr style=\"text-align: right;\">\n      <th></th>\n      <th>school_name</th>\n      <th>borough</th>\n      <th>building_code</th>\n      <th>average_math</th>\n      <th>average_reading</th>\n      <th>average_writing</th>\n      <th>percent_tested</th>\n    </tr>\n  </thead>\n  <tbody>\n    <tr>\n      <th>0</th>\n      <td>New Explorations into Science, Technology and ...</td>\n      <td>Manhattan</td>\n      <td>M022</td>\n      <td>657</td>\n      <td>601</td>\n      <td>601</td>\n      <td>NaN</td>\n    </tr>\n    <tr>\n      <th>1</th>\n      <td>Essex Street Academy</td>\n      <td>Manhattan</td>\n      <td>M445</td>\n      <td>395</td>\n      <td>411</td>\n      <td>387</td>\n      <td>78.9</td>\n    </tr>\n    <tr>\n      <th>2</th>\n      <td>Lower Manhattan Arts Academy</td>\n      <td>Manhattan</td>\n      <td>M445</td>\n      <td>418</td>\n      <td>428</td>\n      <td>415</td>\n      <td>65.1</td>\n    </tr>\n    <tr>\n      <th>3</th>\n      <td>High School for Dual Language and Asian Studies</td>\n      <td>Manhattan</td>\n      <td>M445</td>\n      <td>613</td>\n      <td>453</td>\n      <td>463</td>\n      <td>95.9</td>\n    </tr>\n    <tr>\n      <th>4</th>\n      <td>Henry Street School for International Studies</td>\n      <td>Manhattan</td>\n      <td>M056</td>\n      <td>410</td>\n      <td>406</td>\n      <td>381</td>\n      <td>59.7</td>\n    </tr>\n  </tbody>\n</table>\n</div>"
     },
     "execution_count": 10,
     "metadata": {},
     "output_type": "execute_result"
    }
   ]
  },
  {
   "cell_type": "code",
   "outputs": [
    {
     "data": {
      "text/plain": "                                           school_name  average_math\n88                              Stuyvesant High School           754\n170                       Bronx High School of Science           714\n93                 Staten Island Technical High School           711\n365  Queens High School for the Sciences at York Co...           701\n68   High School for Mathematics, Science, and Engi...           683\n280                     Brooklyn Technical High School           682\n333                        Townsend Harris High School           680\n174  High School of American Studies at Lehman College           669\n0    New Explorations into Science, Technology and ...           657\n45                       Eleanor Roosevelt High School           641",
      "text/html": "<div>\n<style scoped>\n    .dataframe tbody tr th:only-of-type {\n        vertical-align: middle;\n    }\n\n    .dataframe tbody tr th {\n        vertical-align: top;\n    }\n\n    .dataframe thead th {\n        text-align: right;\n    }\n</style>\n<table border=\"1\" class=\"dataframe\">\n  <thead>\n    <tr style=\"text-align: right;\">\n      <th></th>\n      <th>school_name</th>\n      <th>average_math</th>\n    </tr>\n  </thead>\n  <tbody>\n    <tr>\n      <th>88</th>\n      <td>Stuyvesant High School</td>\n      <td>754</td>\n    </tr>\n    <tr>\n      <th>170</th>\n      <td>Bronx High School of Science</td>\n      <td>714</td>\n    </tr>\n    <tr>\n      <th>93</th>\n      <td>Staten Island Technical High School</td>\n      <td>711</td>\n    </tr>\n    <tr>\n      <th>365</th>\n      <td>Queens High School for the Sciences at York Co...</td>\n      <td>701</td>\n    </tr>\n    <tr>\n      <th>68</th>\n      <td>High School for Mathematics, Science, and Engi...</td>\n      <td>683</td>\n    </tr>\n    <tr>\n      <th>280</th>\n      <td>Brooklyn Technical High School</td>\n      <td>682</td>\n    </tr>\n    <tr>\n      <th>333</th>\n      <td>Townsend Harris High School</td>\n      <td>680</td>\n    </tr>\n    <tr>\n      <th>174</th>\n      <td>High School of American Studies at Lehman College</td>\n      <td>669</td>\n    </tr>\n    <tr>\n      <th>0</th>\n      <td>New Explorations into Science, Technology and ...</td>\n      <td>657</td>\n    </tr>\n    <tr>\n      <th>45</th>\n      <td>Eleanor Roosevelt High School</td>\n      <td>641</td>\n    </tr>\n  </tbody>\n</table>\n</div>"
     },
     "execution_count": 11,
     "metadata": {},
     "output_type": "execute_result"
    }
   ],
   "source": [
    "# Which schools are best for math?\n",
    "best_math_schools = schools[schools.average_math >= 640][[\"school_name\", \"average_math\"]].sort_values(\"average_math\", ascending=False)\n",
    "best_math_schools"
   ],
   "metadata": {
    "collapsed": false,
    "ExecuteTime": {
     "end_time": "2024-03-11T01:31:36.935532Z",
     "start_time": "2024-03-11T01:31:36.237554100Z"
    }
   },
   "id": "4a713b7462ff4d5c",
   "execution_count": 11
  },
  {
   "cell_type": "code",
   "outputs": [],
   "source": [
    "best_math_schools.plot(kind=\"bar\", x=\"school_name\", y=\"average_math\", title=\"Best Math Schools\", xlabel=\"School Name\", ylabel=\"Average Math Score\", figsize=(10, 5), color=\"skyblue\")"
   ],
   "metadata": {
    "collapsed": false,
    "is_executing": true,
    "ExecuteTime": {
     "start_time": "2024-03-11T01:31:37.036871200Z"
    }
   },
   "id": "67e5a8af248711d0",
   "execution_count": null
  },
  {
   "cell_type": "code",
   "outputs": [],
   "source": [
    "# Calculate total_SAT per school\n",
    "schools[\"total_SAT\"] = schools[\"average_math\"] + schools[\"average_reading\"] + schools[\"average_writing\"]\n",
    "schools.head()"
   ],
   "metadata": {
    "collapsed": false,
    "is_executing": true
   },
   "id": "b3e73c89fb36b8b",
   "execution_count": null
  },
  {
   "cell_type": "code",
   "outputs": [],
   "source": [
    "# Who are the top 10 performing schools?\n",
    "top_10_schools = schools.sort_values(\"total_SAT\", ascending=False)[[\"school_name\", \"total_SAT\"]].head(10)\n",
    "top_10_schools"
   ],
   "metadata": {
    "collapsed": false,
    "is_executing": true
   },
   "id": "3833e8fa5ae90bdd",
   "execution_count": null
  },
  {
   "cell_type": "code",
   "outputs": [],
   "source": [
    "top_10_schools.plot(kind=\"bar\", x=\"school_name\", y=\"total_SAT\", title=\"Top 10 Performing Schools\", xlabel=\"School Name\", ylabel=\"Total SAT Score\", figsize=(10, 5), color=\"lightgreen\")"
   ],
   "metadata": {
    "collapsed": false,
    "is_executing": true
   },
   "id": "64d82e8cbbda0ee9",
   "execution_count": null
  },
  {
   "cell_type": "code",
   "outputs": [],
   "source": [
    "# Which NYC borough has the highest standard deviation for total_SAT?\n",
    "boroughs = schools.groupby(\"borough\")[\"total_SAT\"].agg([\"count\", \"mean\", \"std\"]).round(2)\n",
    "boroughs"
   ],
   "metadata": {
    "collapsed": false,
    "is_executing": true
   },
   "id": "26336d1b433548c9",
   "execution_count": null
  },
  {
   "cell_type": "code",
   "outputs": [],
   "source": [
    "# Filter for max std and make borough a column\n",
    "largest_std_dev = boroughs[boroughs[\"std\"] == boroughs[\"std\"].max()]\n",
    "largest_std_dev"
   ],
   "metadata": {
    "collapsed": false,
    "is_executing": true
   },
   "id": "47e409d52262c2e",
   "execution_count": null
  },
  {
   "cell_type": "code",
   "outputs": [],
   "source": [
    "# Rename the columns for clarity\n",
    "largest_std_dev = largest_std_dev.rename(columns={\"count\": \"num_schools\", \"mean\": \"average_SAT\", \"std\": \"std_SAT\"})\n",
    "largest_std_dev"
   ],
   "metadata": {
    "collapsed": false,
    "is_executing": true
   },
   "id": "d8e1ad82b11b257",
   "execution_count": null
  },
  {
   "cell_type": "markdown",
   "source": [
    "# Observation\n",
    "### Which schools are best for math?\n",
    "      Ans: Stuyvesant High School\n",
    "   \n",
    "### Which schools is the top performer?\n",
    "      Ans: Stuyvesant High School\n",
    "      \n",
    "### Which NYC borough has the highest standard deviation for total_SAT?\n",
    "      Ans: Manhattan"
   ],
   "metadata": {
    "collapsed": false
   },
   "id": "85be91d870940a68"
  }
 ],
 "metadata": {
  "language_info": {
   "name": "python",
   "version": "3.8.10",
   "mimetype": "text/x-python",
   "codemirror_mode": {
    "name": "ipython",
    "version": 3
   },
   "pygments_lexer": "ipython3",
   "nbconvert_exporter": "python",
   "file_extension": ".py"
  },
  "kernelspec": {
   "display_name": "Python 3 (ipykernel)",
   "language": "python",
   "name": "python3"
  },
  "editor": "DataCamp Workspace"
 },
 "nbformat": 4,
 "nbformat_minor": 5
}
