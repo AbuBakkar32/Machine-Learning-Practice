{
 "cells": [
  {
   "source": [
    "![New York City schoolbus](schoolbus.jpg)\n",
    "\n",
    "Photo by [Jannis Lucas](https://unsplash.com/@jannis_lucas) on [Unsplash](https://unsplash.com).\n",
    "<br>\n",
    "\n",
    "Every year, American high school students take SATs, which are standardized tests intended to measure literacy, numeracy, and writing skills. There are three sections - reading, math, and writing, each with a **maximum score of 800 points**. These tests are extremely important for students and colleges, as they play a pivotal role in the admissions process.\n",
    "\n",
    "Analyzing the performance of schools is important for a variety of stakeholders, including policy and education professionals, researchers, government, and even parents considering which school their children should attend. \n",
    "\n",
    "You have been provided with a dataset called `schools.csv`, which is previewed below.\n",
    "\n",
    "You have been tasked with answering three key questions about New York City (NYC) public school SAT performance."
   ],
   "metadata": {},
   "id": "fe0ea788-58dd-459e-8976-fafdb5c05c6d",
   "cell_type": "markdown"
  },
  {
   "source": [
    "# Re-run this cell \n",
    "import pandas as pd\n",
    "\n",
    "# Read in the data\n",
    "schools = pd.read_csv(\"schools.csv\")\n",
    "\n",
    "# Preview the data\n",
    "schools.head()\n",
    "\n",
    "# Start coding here...\n",
    "# Which schools are best for math?\n",
    "best_math_schools = schools[schools[\"average_math\"] >= 640][[\"school_name\", \"average_math\"]].sort_values(\"average_math\", ascending=False)\n",
    "\n",
    "# Calculate total_SAT per school\n",
    "schools[\"total_SAT\"] = schools[\"average_math\"] + schools[\"average_reading\"] + schools[\"average_writing\"]\n",
    "\n",
    "# Who are the top 10 performing schools?\n",
    "top_10_schools = schools.sort_values(\"total_SAT\", ascending=False)[[\"school_name\", \"total_SAT\"]].head(10)\n",
    "\n",
    "# Which NYC borough has the highest standard deviation for total_SAT?\n",
    "boroughs = schools.groupby(\"borough\")[\"total_SAT\"].agg([\"count\", \"mean\", \"std\"]).round(2)\n",
    "\n",
    "# Filter for max std and make borough a column\n",
    "largest_std_dev = boroughs[boroughs[\"std\"] == boroughs[\"std\"].max()]\n",
    "\n",
    "# Rename the columns for clarity\n",
    "largest_std_dev = largest_std_dev.rename(columns={\"count\": \"num_schools\", \"mean\": \"average_SAT\", \"std\": \"std_SAT\"})\n",
    "# Add as many cells as you like..."
   ],
   "metadata": {
    "id": "bA5ajAmk7XH6",
    "executionTime": 21,
    "lastSuccessfullyExecutedCode": "# Re-run this cell \nimport pandas as pd\n\n# Read in the data\nschools = pd.read_csv(\"schools.csv\")\n\n# Preview the data\nschools.head()\n\n# Start coding here...\n# Which schools are best for math?\nbest_math_schools = schools[schools[\"average_math\"] >= 640][[\"school_name\", \"average_math\"]].sort_values(\"average_math\", ascending=False)\n\n# Calculate total_SAT per school\nschools[\"total_SAT\"] = schools[\"average_math\"] + schools[\"average_reading\"] + schools[\"average_writing\"]\n\n# Who are the top 10 performing schools?\ntop_10_schools = schools.sort_values(\"total_SAT\", ascending=False)[[\"school_name\", \"total_SAT\"]].head(10)\n\n# Which NYC borough has the highest standard deviation for total_SAT?\nboroughs = schools.groupby(\"borough\")[\"total_SAT\"].agg([\"count\", \"mean\", \"std\"]).round(2)\n\n# Filter for max std and make borough a column\nlargest_std_dev = boroughs[boroughs[\"std\"] == boroughs[\"std\"].max()]\n\n# Rename the columns for clarity\nlargest_std_dev = largest_std_dev.rename(columns={\"count\": \"num_schools\", \"mean\": \"average_SAT\", \"std\": \"std_SAT\"})\n# Add as many cells as you like...",
    "executionCancelledAt": null,
    "lastExecutedAt": 1707141352566,
    "lastScheduledRunId": null,
    "outputsMetadata": {
     "0": {
      "height": 215,
      "type": "dataFrame"
     }
    }
   },
   "id": "d0eb4f16-5a99-460d-a5ba-706b7ef0bbe7",
   "cell_type": "code",
   "execution_count": 43,
   "outputs": []
  },
  {
   "source": [],
   "metadata": {},
   "cell_type": "code",
   "id": "ad421db3-5705-4c13-8c2f-fa6662d2711d",
   "outputs": [],
   "execution_count": null
  }
 ],
 "metadata": {
  "language_info": {
   "name": "python",
   "version": "3.8.10",
   "mimetype": "text/x-python",
   "codemirror_mode": {
    "name": "ipython",
    "version": 3
   },
   "pygments_lexer": "ipython3",
   "nbconvert_exporter": "python",
   "file_extension": ".py"
  },
  "kernelspec": {
   "display_name": "Python 3 (ipykernel)",
   "language": "python",
   "name": "python3"
  },
  "editor": "DataCamp Workspace"
 },
 "nbformat": 4,
 "nbformat_minor": 5
}
