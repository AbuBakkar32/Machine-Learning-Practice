{
 "cells": [
  {
   "cell_type": "code",
   "execution_count": 1,
   "id": "initial_id",
   "metadata": {
    "collapsed": true,
    "ExecuteTime": {
     "end_time": "2023-12-06T06:08:26.116169400Z",
     "start_time": "2023-12-06T06:08:06.531129Z"
    }
   },
   "outputs": [],
   "source": [
    "import pandas as pd \n",
    "import numpy as np\n",
    "import plotly.express as px\n",
    "import plotly.graph_objects as go\n",
    "import matplotlib.pyplot as plt"
   ]
  },
  {
   "cell_type": "code",
   "execution_count": 3,
   "outputs": [],
   "source": [
    "df = pd.read_csv('data/Global_Education.csv', encoding='latin-1')"
   ],
   "metadata": {
    "collapsed": false,
    "ExecuteTime": {
     "end_time": "2023-12-06T06:09:18.686758300Z",
     "start_time": "2023-12-06T06:09:16.931808800Z"
    }
   },
   "id": "6c68b7de97f4537c"
  },
  {
   "cell_type": "code",
   "execution_count": 4,
   "outputs": [
    {
     "data": {
      "text/plain": "  Countries and areas  Latitude   Longitude  OOSR_Pre0Primary_Age_Male  \\\n0         Afghanistan  33.939110  67.709953                          0   \n1             Albania  41.153332  20.168331                          4   \n2             Algeria  28.033886   1.659626                          0   \n3             Andorra  42.506285   1.521801                          0   \n4              Angola  11.202692  17.873887                         31   \n\n   OOSR_Pre0Primary_Age_Female  OOSR_Primary_Age_Male  \\\n0                            0                      0   \n1                            2                      6   \n2                            0                      0   \n3                            0                      0   \n4                           39                      0   \n\n   OOSR_Primary_Age_Female  OOSR_Lower_Secondary_Age_Male  \\\n0                        0                              0   \n1                        3                              6   \n2                        0                              0   \n3                        0                              0   \n4                        0                              0   \n\n   OOSR_Lower_Secondary_Age_Female  OOSR_Upper_Secondary_Age_Male  ...  \\\n0                                0                             44  ...   \n1                                1                             21  ...   \n2                                0                              0  ...   \n3                                0                              0  ...   \n4                                0                              0  ...   \n\n   Primary_End_Proficiency_Reading  Primary_End_Proficiency_Math  \\\n0                               13                            11   \n1                                0                             0   \n2                                0                             0   \n3                                0                             0   \n4                                0                             0   \n\n   Lower_Secondary_End_Proficiency_Reading  \\\n0                                        0   \n1                                       48   \n2                                       21   \n3                                        0   \n4                                        0   \n\n   Lower_Secondary_End_Proficiency_Math  Youth_15_24_Literacy_Rate_Male  \\\n0                                     0                              74   \n1                                    58                              99   \n2                                    19                              98   \n3                                     0                               0   \n4                                     0                               0   \n\n   Youth_15_24_Literacy_Rate_Female  Birth_Rate  \\\n0                                56       32.49   \n1                               100       11.78   \n2                                97       24.28   \n3                                 0        7.20   \n4                                 0       40.73   \n\n   Gross_Primary_Education_Enrollment  Gross_Tertiary_Education_Enrollment  \\\n0                               104.0                                  9.7   \n1                               107.0                                 55.0   \n2                               109.9                                 51.4   \n3                               106.4                                  0.0   \n4                               113.5                                  9.3   \n\n   Unemployment_Rate  \n0              11.12  \n1              12.33  \n2              11.70  \n3               0.00  \n4               6.89  \n\n[5 rows x 29 columns]",
      "text/html": "<div>\n<style scoped>\n    .dataframe tbody tr th:only-of-type {\n        vertical-align: middle;\n    }\n\n    .dataframe tbody tr th {\n        vertical-align: top;\n    }\n\n    .dataframe thead th {\n        text-align: right;\n    }\n</style>\n<table border=\"1\" class=\"dataframe\">\n  <thead>\n    <tr style=\"text-align: right;\">\n      <th></th>\n      <th>Countries and areas</th>\n      <th>Latitude</th>\n      <th>Longitude</th>\n      <th>OOSR_Pre0Primary_Age_Male</th>\n      <th>OOSR_Pre0Primary_Age_Female</th>\n      <th>OOSR_Primary_Age_Male</th>\n      <th>OOSR_Primary_Age_Female</th>\n      <th>OOSR_Lower_Secondary_Age_Male</th>\n      <th>OOSR_Lower_Secondary_Age_Female</th>\n      <th>OOSR_Upper_Secondary_Age_Male</th>\n      <th>...</th>\n      <th>Primary_End_Proficiency_Reading</th>\n      <th>Primary_End_Proficiency_Math</th>\n      <th>Lower_Secondary_End_Proficiency_Reading</th>\n      <th>Lower_Secondary_End_Proficiency_Math</th>\n      <th>Youth_15_24_Literacy_Rate_Male</th>\n      <th>Youth_15_24_Literacy_Rate_Female</th>\n      <th>Birth_Rate</th>\n      <th>Gross_Primary_Education_Enrollment</th>\n      <th>Gross_Tertiary_Education_Enrollment</th>\n      <th>Unemployment_Rate</th>\n    </tr>\n  </thead>\n  <tbody>\n    <tr>\n      <th>0</th>\n      <td>Afghanistan</td>\n      <td>33.939110</td>\n      <td>67.709953</td>\n      <td>0</td>\n      <td>0</td>\n      <td>0</td>\n      <td>0</td>\n      <td>0</td>\n      <td>0</td>\n      <td>44</td>\n      <td>...</td>\n      <td>13</td>\n      <td>11</td>\n      <td>0</td>\n      <td>0</td>\n      <td>74</td>\n      <td>56</td>\n      <td>32.49</td>\n      <td>104.0</td>\n      <td>9.7</td>\n      <td>11.12</td>\n    </tr>\n    <tr>\n      <th>1</th>\n      <td>Albania</td>\n      <td>41.153332</td>\n      <td>20.168331</td>\n      <td>4</td>\n      <td>2</td>\n      <td>6</td>\n      <td>3</td>\n      <td>6</td>\n      <td>1</td>\n      <td>21</td>\n      <td>...</td>\n      <td>0</td>\n      <td>0</td>\n      <td>48</td>\n      <td>58</td>\n      <td>99</td>\n      <td>100</td>\n      <td>11.78</td>\n      <td>107.0</td>\n      <td>55.0</td>\n      <td>12.33</td>\n    </tr>\n    <tr>\n      <th>2</th>\n      <td>Algeria</td>\n      <td>28.033886</td>\n      <td>1.659626</td>\n      <td>0</td>\n      <td>0</td>\n      <td>0</td>\n      <td>0</td>\n      <td>0</td>\n      <td>0</td>\n      <td>0</td>\n      <td>...</td>\n      <td>0</td>\n      <td>0</td>\n      <td>21</td>\n      <td>19</td>\n      <td>98</td>\n      <td>97</td>\n      <td>24.28</td>\n      <td>109.9</td>\n      <td>51.4</td>\n      <td>11.70</td>\n    </tr>\n    <tr>\n      <th>3</th>\n      <td>Andorra</td>\n      <td>42.506285</td>\n      <td>1.521801</td>\n      <td>0</td>\n      <td>0</td>\n      <td>0</td>\n      <td>0</td>\n      <td>0</td>\n      <td>0</td>\n      <td>0</td>\n      <td>...</td>\n      <td>0</td>\n      <td>0</td>\n      <td>0</td>\n      <td>0</td>\n      <td>0</td>\n      <td>0</td>\n      <td>7.20</td>\n      <td>106.4</td>\n      <td>0.0</td>\n      <td>0.00</td>\n    </tr>\n    <tr>\n      <th>4</th>\n      <td>Angola</td>\n      <td>11.202692</td>\n      <td>17.873887</td>\n      <td>31</td>\n      <td>39</td>\n      <td>0</td>\n      <td>0</td>\n      <td>0</td>\n      <td>0</td>\n      <td>0</td>\n      <td>...</td>\n      <td>0</td>\n      <td>0</td>\n      <td>0</td>\n      <td>0</td>\n      <td>0</td>\n      <td>0</td>\n      <td>40.73</td>\n      <td>113.5</td>\n      <td>9.3</td>\n      <td>6.89</td>\n    </tr>\n  </tbody>\n</table>\n<p>5 rows × 29 columns</p>\n</div>"
     },
     "execution_count": 4,
     "metadata": {},
     "output_type": "execute_result"
    }
   ],
   "source": [
    "df.head()"
   ],
   "metadata": {
    "collapsed": false,
    "ExecuteTime": {
     "end_time": "2023-12-06T06:09:21.436971400Z",
     "start_time": "2023-12-06T06:09:21.311768Z"
    }
   },
   "id": "96000008d465d3dc"
  },
  {
   "cell_type": "code",
   "execution_count": null,
   "outputs": [],
   "source": [],
   "metadata": {
    "collapsed": false
   },
   "id": "d05f422eee78009"
  }
 ],
 "metadata": {
  "kernelspec": {
   "display_name": "Python 3",
   "language": "python",
   "name": "python3"
  },
  "language_info": {
   "codemirror_mode": {
    "name": "ipython",
    "version": 2
   },
   "file_extension": ".py",
   "mimetype": "text/x-python",
   "name": "python",
   "nbconvert_exporter": "python",
   "pygments_lexer": "ipython2",
   "version": "2.7.6"
  }
 },
 "nbformat": 4,
 "nbformat_minor": 5
}
