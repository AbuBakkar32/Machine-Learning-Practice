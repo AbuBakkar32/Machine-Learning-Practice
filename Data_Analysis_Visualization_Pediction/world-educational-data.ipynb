{
 "cells": [
  {
   "cell_type": "code",
   "execution_count": 1,
   "id": "initial_id",
   "metadata": {
    "collapsed": true,
    "ExecuteTime": {
     "end_time": "2024-01-31T03:16:36.872926600Z",
     "start_time": "2024-01-31T03:16:34.465055200Z"
    }
   },
   "outputs": [],
   "source": [
    "import pandas as pd \n",
    "import numpy as np\n",
    "import plotly.express as px\n",
    "import plotly.graph_objects as go\n",
    "import matplotlib.pyplot as plt"
   ]
  },
  {
   "cell_type": "code",
   "execution_count": 2,
   "outputs": [],
   "source": [
    "df = pd.read_csv('data/Global_Education.csv', encoding='latin-1')"
   ],
   "metadata": {
    "collapsed": false,
    "ExecuteTime": {
     "end_time": "2024-01-31T03:16:41.350505200Z",
     "start_time": "2024-01-31T03:16:41.197779900Z"
    }
   },
   "id": "6c68b7de97f4537c"
  },
  {
   "cell_type": "code",
   "execution_count": 3,
   "outputs": [
    {
     "data": {
      "text/plain": "  Countries and areas  Latitude   Longitude  OOSR_Pre0Primary_Age_Male  \\\n0         Afghanistan  33.939110  67.709953                          0   \n1             Albania  41.153332  20.168331                          4   \n2             Algeria  28.033886   1.659626                          0   \n3             Andorra  42.506285   1.521801                          0   \n4              Angola  11.202692  17.873887                         31   \n\n   OOSR_Pre0Primary_Age_Female  OOSR_Primary_Age_Male  \\\n0                            0                      0   \n1                            2                      6   \n2                            0                      0   \n3                            0                      0   \n4                           39                      0   \n\n   OOSR_Primary_Age_Female  OOSR_Lower_Secondary_Age_Male  \\\n0                        0                              0   \n1                        3                              6   \n2                        0                              0   \n3                        0                              0   \n4                        0                              0   \n\n   OOSR_Lower_Secondary_Age_Female  OOSR_Upper_Secondary_Age_Male  ...  \\\n0                                0                             44  ...   \n1                                1                             21  ...   \n2                                0                              0  ...   \n3                                0                              0  ...   \n4                                0                              0  ...   \n\n   Primary_End_Proficiency_Reading  Primary_End_Proficiency_Math  \\\n0                               13                            11   \n1                                0                             0   \n2                                0                             0   \n3                                0                             0   \n4                                0                             0   \n\n   Lower_Secondary_End_Proficiency_Reading  \\\n0                                        0   \n1                                       48   \n2                                       21   \n3                                        0   \n4                                        0   \n\n   Lower_Secondary_End_Proficiency_Math  Youth_15_24_Literacy_Rate_Male  \\\n0                                     0                              74   \n1                                    58                              99   \n2                                    19                              98   \n3                                     0                               0   \n4                                     0                               0   \n\n   Youth_15_24_Literacy_Rate_Female  Birth_Rate  \\\n0                                56       32.49   \n1                               100       11.78   \n2                                97       24.28   \n3                                 0        7.20   \n4                                 0       40.73   \n\n   Gross_Primary_Education_Enrollment  Gross_Tertiary_Education_Enrollment  \\\n0                               104.0                                  9.7   \n1                               107.0                                 55.0   \n2                               109.9                                 51.4   \n3                               106.4                                  0.0   \n4                               113.5                                  9.3   \n\n   Unemployment_Rate  \n0              11.12  \n1              12.33  \n2              11.70  \n3               0.00  \n4               6.89  \n\n[5 rows x 29 columns]",
      "text/html": "<div>\n<style scoped>\n    .dataframe tbody tr th:only-of-type {\n        vertical-align: middle;\n    }\n\n    .dataframe tbody tr th {\n        vertical-align: top;\n    }\n\n    .dataframe thead th {\n        text-align: right;\n    }\n</style>\n<table border=\"1\" class=\"dataframe\">\n  <thead>\n    <tr style=\"text-align: right;\">\n      <th></th>\n      <th>Countries and areas</th>\n      <th>Latitude</th>\n      <th>Longitude</th>\n      <th>OOSR_Pre0Primary_Age_Male</th>\n      <th>OOSR_Pre0Primary_Age_Female</th>\n      <th>OOSR_Primary_Age_Male</th>\n      <th>OOSR_Primary_Age_Female</th>\n      <th>OOSR_Lower_Secondary_Age_Male</th>\n      <th>OOSR_Lower_Secondary_Age_Female</th>\n      <th>OOSR_Upper_Secondary_Age_Male</th>\n      <th>...</th>\n      <th>Primary_End_Proficiency_Reading</th>\n      <th>Primary_End_Proficiency_Math</th>\n      <th>Lower_Secondary_End_Proficiency_Reading</th>\n      <th>Lower_Secondary_End_Proficiency_Math</th>\n      <th>Youth_15_24_Literacy_Rate_Male</th>\n      <th>Youth_15_24_Literacy_Rate_Female</th>\n      <th>Birth_Rate</th>\n      <th>Gross_Primary_Education_Enrollment</th>\n      <th>Gross_Tertiary_Education_Enrollment</th>\n      <th>Unemployment_Rate</th>\n    </tr>\n  </thead>\n  <tbody>\n    <tr>\n      <th>0</th>\n      <td>Afghanistan</td>\n      <td>33.939110</td>\n      <td>67.709953</td>\n      <td>0</td>\n      <td>0</td>\n      <td>0</td>\n      <td>0</td>\n      <td>0</td>\n      <td>0</td>\n      <td>44</td>\n      <td>...</td>\n      <td>13</td>\n      <td>11</td>\n      <td>0</td>\n      <td>0</td>\n      <td>74</td>\n      <td>56</td>\n      <td>32.49</td>\n      <td>104.0</td>\n      <td>9.7</td>\n      <td>11.12</td>\n    </tr>\n    <tr>\n      <th>1</th>\n      <td>Albania</td>\n      <td>41.153332</td>\n      <td>20.168331</td>\n      <td>4</td>\n      <td>2</td>\n      <td>6</td>\n      <td>3</td>\n      <td>6</td>\n      <td>1</td>\n      <td>21</td>\n      <td>...</td>\n      <td>0</td>\n      <td>0</td>\n      <td>48</td>\n      <td>58</td>\n      <td>99</td>\n      <td>100</td>\n      <td>11.78</td>\n      <td>107.0</td>\n      <td>55.0</td>\n      <td>12.33</td>\n    </tr>\n    <tr>\n      <th>2</th>\n      <td>Algeria</td>\n      <td>28.033886</td>\n      <td>1.659626</td>\n      <td>0</td>\n      <td>0</td>\n      <td>0</td>\n      <td>0</td>\n      <td>0</td>\n      <td>0</td>\n      <td>0</td>\n      <td>...</td>\n      <td>0</td>\n      <td>0</td>\n      <td>21</td>\n      <td>19</td>\n      <td>98</td>\n      <td>97</td>\n      <td>24.28</td>\n      <td>109.9</td>\n      <td>51.4</td>\n      <td>11.70</td>\n    </tr>\n    <tr>\n      <th>3</th>\n      <td>Andorra</td>\n      <td>42.506285</td>\n      <td>1.521801</td>\n      <td>0</td>\n      <td>0</td>\n      <td>0</td>\n      <td>0</td>\n      <td>0</td>\n      <td>0</td>\n      <td>0</td>\n      <td>...</td>\n      <td>0</td>\n      <td>0</td>\n      <td>0</td>\n      <td>0</td>\n      <td>0</td>\n      <td>0</td>\n      <td>7.20</td>\n      <td>106.4</td>\n      <td>0.0</td>\n      <td>0.00</td>\n    </tr>\n    <tr>\n      <th>4</th>\n      <td>Angola</td>\n      <td>11.202692</td>\n      <td>17.873887</td>\n      <td>31</td>\n      <td>39</td>\n      <td>0</td>\n      <td>0</td>\n      <td>0</td>\n      <td>0</td>\n      <td>0</td>\n      <td>...</td>\n      <td>0</td>\n      <td>0</td>\n      <td>0</td>\n      <td>0</td>\n      <td>0</td>\n      <td>0</td>\n      <td>40.73</td>\n      <td>113.5</td>\n      <td>9.3</td>\n      <td>6.89</td>\n    </tr>\n  </tbody>\n</table>\n<p>5 rows × 29 columns</p>\n</div>"
     },
     "execution_count": 3,
     "metadata": {},
     "output_type": "execute_result"
    }
   ],
   "source": [
    "df.head()"
   ],
   "metadata": {
    "collapsed": false,
    "ExecuteTime": {
     "end_time": "2024-01-31T03:16:46.075756300Z",
     "start_time": "2024-01-31T03:16:45.840204500Z"
    }
   },
   "id": "96000008d465d3dc"
  },
  {
   "cell_type": "code",
   "execution_count": 15,
   "outputs": [
    {
     "data": {
      "application/vnd.plotly.v1+json": {
       "data": [
        {
         "coloraxis": "coloraxis",
         "geo": "geo",
         "hovertemplate": "Countries and areas=%{location}<br>Grade_2_3_Proficiency_Reading=%{z}<extra></extra>",
         "locationmode": "country names",
         "locations": [
          "Afghanistan",
          "Albania",
          "Algeria",
          "Andorra",
          "Angola",
          "Anguilla",
          "Antigua and Barbuda",
          "Argentina",
          "Armenia",
          "Australia",
          "Austria",
          "Azerbaijan",
          "The Bahamas",
          "Bahrain",
          "Bangladesh",
          "Barbados",
          "Belarus",
          "Belgium",
          "Belize",
          "Benin",
          "Bhutan",
          "Bolivia",
          "Bosnia and Herzegovina",
          "Botswana",
          "Brazil",
          "British Virgin Islands",
          "Brunei",
          "Bulgaria",
          "Burkina Faso",
          "Burundi",
          "Cape Verde",
          "Cambodia",
          "Cameroon",
          "Canada",
          "Central African Republic",
          "Chad",
          "Chile",
          "China",
          "Colombia",
          "Comoros",
          "Republic of the Congo",
          "Cook Islands",
          "Costa Rica",
          "Ivory Coast",
          "Croatia",
          "Cuba",
          "Cyprus",
          "Czech Republic",
          "North Korea",
          "Democratic Republic of the Congo",
          "Denmark",
          "Djibouti",
          "Dominica",
          "Dominican Republic",
          "Ecuador",
          "Egypt",
          "El Salvador",
          "Equatorial Guinea",
          "Eritrea",
          "Estonia",
          "Eswatini",
          "Ethiopia",
          "Fiji",
          "Finland",
          "France",
          "Gabon",
          "The Gambia",
          "Georgia",
          "Germany",
          "Ghana",
          "Greece",
          "Grenada",
          "Guatemala",
          "Guinea",
          "Guinea0Bissau",
          "Guyana",
          "Haiti",
          "Vatican City",
          "Honduras",
          "Hungary",
          "Iceland",
          "India",
          "Indonesia",
          "Iran",
          "Iraq",
          "Republic of Ireland",
          "Israel",
          "Italy",
          "Jamaica",
          "Japan",
          "Jordan",
          "Kazakhstan",
          "Kenya",
          "Kiribati",
          "Kuwait",
          "Kyrgyzstan",
          "Laos",
          "Latvia",
          "Lebanon",
          "Lesotho",
          "Liberia",
          "Libya",
          "Liechtenstein",
          "Lithuania",
          "Luxembourg",
          "Madagascar",
          "Malawi",
          "Malaysia",
          "Maldives",
          "Mali",
          "Malta",
          "Marshall Islands",
          "Mauritania",
          "Mauritius",
          "Mexico",
          "Federated States of Micronesia",
          "Monaco",
          "Mongolia",
          "Montenegro",
          "Montserrat",
          "Morocco",
          "Mozambique",
          "Myanmar",
          "Namibia",
          "Nauru",
          "Nepal",
          "Netherlands",
          "New Zealand",
          "Nicaragua",
          "Niger",
          "Nigeria",
          "Niue",
          "North Macedonia",
          "Norway",
          "Oman",
          "Pakistan",
          "Palau",
          "Panama",
          "Papua New Guinea",
          "Paraguay",
          "Peru",
          "Philippines",
          "Poland",
          "Portugal",
          "Qatar",
          "South Korea",
          "Moldova",
          "Romania",
          "Russia",
          "Rwanda",
          "Saint Kitts and Nevis",
          "Saint Lucia",
          "Saint Vincent and the Grenadines",
          "Samoa",
          "San Marino",
          "Sï¿½ï¿½ï¿½ï¿½ï¿½ï¿½ï¿½ï¿",
          "Saudi Arabia",
          "Senegal",
          "Serbia",
          "Seychelles",
          "Sierra Leone",
          "Singapore",
          "Slovakia",
          "Slovenia",
          "Solomon Islands",
          "Somalia",
          "South Africa",
          "South Sudan",
          "Spain",
          "Sri Lanka",
          "Palestinian National Authority",
          "Sudan",
          "Suriname",
          "Sweden",
          "Switzerland",
          "Syria",
          "Tajikistan",
          "Thailand",
          "East Timor",
          "Togo",
          "Tokelau",
          "Tonga",
          "Trinidad and Tobago",
          "Tunisia",
          "Turkey",
          "Turkmenistan",
          "Turks and Caicos Islands",
          "Tuvalu",
          "Uganda",
          "Ukraine",
          "United Arab Emirates",
          "United Kingdom",
          "Tanzania",
          "United States",
          "Uruguay",
          "Uzbekistan",
          "Vanuatu",
          "Venezuela",
          "Vietnam",
          "Yemen",
          "Zambia",
          "Zimbabwe"
         ],
         "name": "",
         "z": [
          22,
          0,
          0,
          0,
          0,
          0,
          0,
          76,
          0,
          94,
          0,
          0,
          0,
          69,
          47,
          0,
          0,
          0,
          0,
          9,
          0,
          0,
          0,
          0,
          80,
          0,
          0,
          0,
          36,
          79,
          0,
          0,
          30,
          96,
          0,
          18,
          94,
          82,
          79,
          0,
          38,
          0,
          89,
          17,
          0,
          0,
          0,
          97,
          94,
          0,
          97,
          0,
          0,
          44,
          74,
          0,
          0,
          0,
          0,
          0,
          0,
          0,
          0,
          98,
          0,
          0,
          5,
          86,
          0,
          0,
          0,
          0,
          68,
          0,
          0,
          0,
          0,
          0,
          70,
          0,
          0,
          47,
          0,
          66,
          0,
          98,
          91,
          98,
          0,
          0,
          0,
          0,
          53,
          0,
          0,
          39,
          0,
          99,
          0,
          13,
          0,
          0,
          0,
          0,
          0,
          13,
          0,
          0,
          0,
          0,
          73,
          0,
          0,
          0,
          78,
          0,
          0,
          44,
          0,
          0,
          36,
          0,
          0,
          0,
          0,
          0,
          99,
          90,
          61,
          9,
          0,
          0,
          0,
          99,
          59,
          35,
          0,
          65,
          0,
          61,
          80,
          0,
          98,
          97,
          66,
          0,
          0,
          0,
          0,
          0,
          0,
          0,
          0,
          0,
          0,
          0,
          63,
          29,
          0,
          0,
          6,
          97,
          0,
          96,
          0,
          0,
          22,
          0,
          97,
          0,
          0,
          0,
          30,
          98,
          0,
          0,
          0,
          0,
          0,
          19,
          0,
          0,
          80,
          47,
          0,
          0,
          0,
          0,
          33,
          0,
          68,
          0,
          0,
          0,
          80,
          0,
          0,
          0,
          0,
          0,
          0,
          20
         ],
         "type": "choropleth"
        }
       ],
       "layout": {
        "template": {
         "data": {
          "histogram2dcontour": [
           {
            "type": "histogram2dcontour",
            "colorbar": {
             "outlinewidth": 0,
             "ticks": ""
            },
            "colorscale": [
             [
              0.0,
              "#0d0887"
             ],
             [
              0.1111111111111111,
              "#46039f"
             ],
             [
              0.2222222222222222,
              "#7201a8"
             ],
             [
              0.3333333333333333,
              "#9c179e"
             ],
             [
              0.4444444444444444,
              "#bd3786"
             ],
             [
              0.5555555555555556,
              "#d8576b"
             ],
             [
              0.6666666666666666,
              "#ed7953"
             ],
             [
              0.7777777777777778,
              "#fb9f3a"
             ],
             [
              0.8888888888888888,
              "#fdca26"
             ],
             [
              1.0,
              "#f0f921"
             ]
            ]
           }
          ],
          "choropleth": [
           {
            "type": "choropleth",
            "colorbar": {
             "outlinewidth": 0,
             "ticks": ""
            }
           }
          ],
          "histogram2d": [
           {
            "type": "histogram2d",
            "colorbar": {
             "outlinewidth": 0,
             "ticks": ""
            },
            "colorscale": [
             [
              0.0,
              "#0d0887"
             ],
             [
              0.1111111111111111,
              "#46039f"
             ],
             [
              0.2222222222222222,
              "#7201a8"
             ],
             [
              0.3333333333333333,
              "#9c179e"
             ],
             [
              0.4444444444444444,
              "#bd3786"
             ],
             [
              0.5555555555555556,
              "#d8576b"
             ],
             [
              0.6666666666666666,
              "#ed7953"
             ],
             [
              0.7777777777777778,
              "#fb9f3a"
             ],
             [
              0.8888888888888888,
              "#fdca26"
             ],
             [
              1.0,
              "#f0f921"
             ]
            ]
           }
          ],
          "heatmap": [
           {
            "type": "heatmap",
            "colorbar": {
             "outlinewidth": 0,
             "ticks": ""
            },
            "colorscale": [
             [
              0.0,
              "#0d0887"
             ],
             [
              0.1111111111111111,
              "#46039f"
             ],
             [
              0.2222222222222222,
              "#7201a8"
             ],
             [
              0.3333333333333333,
              "#9c179e"
             ],
             [
              0.4444444444444444,
              "#bd3786"
             ],
             [
              0.5555555555555556,
              "#d8576b"
             ],
             [
              0.6666666666666666,
              "#ed7953"
             ],
             [
              0.7777777777777778,
              "#fb9f3a"
             ],
             [
              0.8888888888888888,
              "#fdca26"
             ],
             [
              1.0,
              "#f0f921"
             ]
            ]
           }
          ],
          "heatmapgl": [
           {
            "type": "heatmapgl",
            "colorbar": {
             "outlinewidth": 0,
             "ticks": ""
            },
            "colorscale": [
             [
              0.0,
              "#0d0887"
             ],
             [
              0.1111111111111111,
              "#46039f"
             ],
             [
              0.2222222222222222,
              "#7201a8"
             ],
             [
              0.3333333333333333,
              "#9c179e"
             ],
             [
              0.4444444444444444,
              "#bd3786"
             ],
             [
              0.5555555555555556,
              "#d8576b"
             ],
             [
              0.6666666666666666,
              "#ed7953"
             ],
             [
              0.7777777777777778,
              "#fb9f3a"
             ],
             [
              0.8888888888888888,
              "#fdca26"
             ],
             [
              1.0,
              "#f0f921"
             ]
            ]
           }
          ],
          "contourcarpet": [
           {
            "type": "contourcarpet",
            "colorbar": {
             "outlinewidth": 0,
             "ticks": ""
            }
           }
          ],
          "contour": [
           {
            "type": "contour",
            "colorbar": {
             "outlinewidth": 0,
             "ticks": ""
            },
            "colorscale": [
             [
              0.0,
              "#0d0887"
             ],
             [
              0.1111111111111111,
              "#46039f"
             ],
             [
              0.2222222222222222,
              "#7201a8"
             ],
             [
              0.3333333333333333,
              "#9c179e"
             ],
             [
              0.4444444444444444,
              "#bd3786"
             ],
             [
              0.5555555555555556,
              "#d8576b"
             ],
             [
              0.6666666666666666,
              "#ed7953"
             ],
             [
              0.7777777777777778,
              "#fb9f3a"
             ],
             [
              0.8888888888888888,
              "#fdca26"
             ],
             [
              1.0,
              "#f0f921"
             ]
            ]
           }
          ],
          "surface": [
           {
            "type": "surface",
            "colorbar": {
             "outlinewidth": 0,
             "ticks": ""
            },
            "colorscale": [
             [
              0.0,
              "#0d0887"
             ],
             [
              0.1111111111111111,
              "#46039f"
             ],
             [
              0.2222222222222222,
              "#7201a8"
             ],
             [
              0.3333333333333333,
              "#9c179e"
             ],
             [
              0.4444444444444444,
              "#bd3786"
             ],
             [
              0.5555555555555556,
              "#d8576b"
             ],
             [
              0.6666666666666666,
              "#ed7953"
             ],
             [
              0.7777777777777778,
              "#fb9f3a"
             ],
             [
              0.8888888888888888,
              "#fdca26"
             ],
             [
              1.0,
              "#f0f921"
             ]
            ]
           }
          ],
          "mesh3d": [
           {
            "type": "mesh3d",
            "colorbar": {
             "outlinewidth": 0,
             "ticks": ""
            }
           }
          ],
          "scatter": [
           {
            "marker": {
             "line": {
              "color": "#283442"
             }
            },
            "type": "scatter"
           }
          ],
          "parcoords": [
           {
            "type": "parcoords",
            "line": {
             "colorbar": {
              "outlinewidth": 0,
              "ticks": ""
             }
            }
           }
          ],
          "scatterpolargl": [
           {
            "type": "scatterpolargl",
            "marker": {
             "colorbar": {
              "outlinewidth": 0,
              "ticks": ""
             }
            }
           }
          ],
          "bar": [
           {
            "error_x": {
             "color": "#f2f5fa"
            },
            "error_y": {
             "color": "#f2f5fa"
            },
            "marker": {
             "line": {
              "color": "rgb(17,17,17)",
              "width": 0.5
             },
             "pattern": {
              "fillmode": "overlay",
              "size": 10,
              "solidity": 0.2
             }
            },
            "type": "bar"
           }
          ],
          "scattergeo": [
           {
            "type": "scattergeo",
            "marker": {
             "colorbar": {
              "outlinewidth": 0,
              "ticks": ""
             }
            }
           }
          ],
          "scatterpolar": [
           {
            "type": "scatterpolar",
            "marker": {
             "colorbar": {
              "outlinewidth": 0,
              "ticks": ""
             }
            }
           }
          ],
          "histogram": [
           {
            "marker": {
             "pattern": {
              "fillmode": "overlay",
              "size": 10,
              "solidity": 0.2
             }
            },
            "type": "histogram"
           }
          ],
          "scattergl": [
           {
            "marker": {
             "line": {
              "color": "#283442"
             }
            },
            "type": "scattergl"
           }
          ],
          "scatter3d": [
           {
            "type": "scatter3d",
            "line": {
             "colorbar": {
              "outlinewidth": 0,
              "ticks": ""
             }
            },
            "marker": {
             "colorbar": {
              "outlinewidth": 0,
              "ticks": ""
             }
            }
           }
          ],
          "scattermapbox": [
           {
            "type": "scattermapbox",
            "marker": {
             "colorbar": {
              "outlinewidth": 0,
              "ticks": ""
             }
            }
           }
          ],
          "scatterternary": [
           {
            "type": "scatterternary",
            "marker": {
             "colorbar": {
              "outlinewidth": 0,
              "ticks": ""
             }
            }
           }
          ],
          "scattercarpet": [
           {
            "type": "scattercarpet",
            "marker": {
             "colorbar": {
              "outlinewidth": 0,
              "ticks": ""
             }
            }
           }
          ],
          "carpet": [
           {
            "aaxis": {
             "endlinecolor": "#A2B1C6",
             "gridcolor": "#506784",
             "linecolor": "#506784",
             "minorgridcolor": "#506784",
             "startlinecolor": "#A2B1C6"
            },
            "baxis": {
             "endlinecolor": "#A2B1C6",
             "gridcolor": "#506784",
             "linecolor": "#506784",
             "minorgridcolor": "#506784",
             "startlinecolor": "#A2B1C6"
            },
            "type": "carpet"
           }
          ],
          "table": [
           {
            "cells": {
             "fill": {
              "color": "#506784"
             },
             "line": {
              "color": "rgb(17,17,17)"
             }
            },
            "header": {
             "fill": {
              "color": "#2a3f5f"
             },
             "line": {
              "color": "rgb(17,17,17)"
             }
            },
            "type": "table"
           }
          ],
          "barpolar": [
           {
            "marker": {
             "line": {
              "color": "rgb(17,17,17)",
              "width": 0.5
             },
             "pattern": {
              "fillmode": "overlay",
              "size": 10,
              "solidity": 0.2
             }
            },
            "type": "barpolar"
           }
          ],
          "pie": [
           {
            "automargin": true,
            "type": "pie"
           }
          ]
         },
         "layout": {
          "autotypenumbers": "strict",
          "colorway": [
           "#636efa",
           "#EF553B",
           "#00cc96",
           "#ab63fa",
           "#FFA15A",
           "#19d3f3",
           "#FF6692",
           "#B6E880",
           "#FF97FF",
           "#FECB52"
          ],
          "font": {
           "color": "#f2f5fa"
          },
          "hovermode": "closest",
          "hoverlabel": {
           "align": "left"
          },
          "paper_bgcolor": "rgb(17,17,17)",
          "plot_bgcolor": "rgb(17,17,17)",
          "polar": {
           "bgcolor": "rgb(17,17,17)",
           "angularaxis": {
            "gridcolor": "#506784",
            "linecolor": "#506784",
            "ticks": ""
           },
           "radialaxis": {
            "gridcolor": "#506784",
            "linecolor": "#506784",
            "ticks": ""
           }
          },
          "ternary": {
           "bgcolor": "rgb(17,17,17)",
           "aaxis": {
            "gridcolor": "#506784",
            "linecolor": "#506784",
            "ticks": ""
           },
           "baxis": {
            "gridcolor": "#506784",
            "linecolor": "#506784",
            "ticks": ""
           },
           "caxis": {
            "gridcolor": "#506784",
            "linecolor": "#506784",
            "ticks": ""
           }
          },
          "coloraxis": {
           "colorbar": {
            "outlinewidth": 0,
            "ticks": ""
           }
          },
          "colorscale": {
           "sequential": [
            [
             0.0,
             "#0d0887"
            ],
            [
             0.1111111111111111,
             "#46039f"
            ],
            [
             0.2222222222222222,
             "#7201a8"
            ],
            [
             0.3333333333333333,
             "#9c179e"
            ],
            [
             0.4444444444444444,
             "#bd3786"
            ],
            [
             0.5555555555555556,
             "#d8576b"
            ],
            [
             0.6666666666666666,
             "#ed7953"
            ],
            [
             0.7777777777777778,
             "#fb9f3a"
            ],
            [
             0.8888888888888888,
             "#fdca26"
            ],
            [
             1.0,
             "#f0f921"
            ]
           ],
           "sequentialminus": [
            [
             0.0,
             "#0d0887"
            ],
            [
             0.1111111111111111,
             "#46039f"
            ],
            [
             0.2222222222222222,
             "#7201a8"
            ],
            [
             0.3333333333333333,
             "#9c179e"
            ],
            [
             0.4444444444444444,
             "#bd3786"
            ],
            [
             0.5555555555555556,
             "#d8576b"
            ],
            [
             0.6666666666666666,
             "#ed7953"
            ],
            [
             0.7777777777777778,
             "#fb9f3a"
            ],
            [
             0.8888888888888888,
             "#fdca26"
            ],
            [
             1.0,
             "#f0f921"
            ]
           ],
           "diverging": [
            [
             0,
             "#8e0152"
            ],
            [
             0.1,
             "#c51b7d"
            ],
            [
             0.2,
             "#de77ae"
            ],
            [
             0.3,
             "#f1b6da"
            ],
            [
             0.4,
             "#fde0ef"
            ],
            [
             0.5,
             "#f7f7f7"
            ],
            [
             0.6,
             "#e6f5d0"
            ],
            [
             0.7,
             "#b8e186"
            ],
            [
             0.8,
             "#7fbc41"
            ],
            [
             0.9,
             "#4d9221"
            ],
            [
             1,
             "#276419"
            ]
           ]
          },
          "xaxis": {
           "gridcolor": "#283442",
           "linecolor": "#506784",
           "ticks": "",
           "title": {
            "standoff": 15
           },
           "zerolinecolor": "#283442",
           "automargin": true,
           "zerolinewidth": 2
          },
          "yaxis": {
           "gridcolor": "#283442",
           "linecolor": "#506784",
           "ticks": "",
           "title": {
            "standoff": 15
           },
           "zerolinecolor": "#283442",
           "automargin": true,
           "zerolinewidth": 2
          },
          "scene": {
           "xaxis": {
            "backgroundcolor": "rgb(17,17,17)",
            "gridcolor": "#506784",
            "linecolor": "#506784",
            "showbackground": true,
            "ticks": "",
            "zerolinecolor": "#C8D4E3",
            "gridwidth": 2
           },
           "yaxis": {
            "backgroundcolor": "rgb(17,17,17)",
            "gridcolor": "#506784",
            "linecolor": "#506784",
            "showbackground": true,
            "ticks": "",
            "zerolinecolor": "#C8D4E3",
            "gridwidth": 2
           },
           "zaxis": {
            "backgroundcolor": "rgb(17,17,17)",
            "gridcolor": "#506784",
            "linecolor": "#506784",
            "showbackground": true,
            "ticks": "",
            "zerolinecolor": "#C8D4E3",
            "gridwidth": 2
           }
          },
          "shapedefaults": {
           "line": {
            "color": "#f2f5fa"
           }
          },
          "annotationdefaults": {
           "arrowcolor": "#f2f5fa",
           "arrowhead": 0,
           "arrowwidth": 1
          },
          "geo": {
           "bgcolor": "rgb(17,17,17)",
           "landcolor": "rgb(17,17,17)",
           "subunitcolor": "#506784",
           "showland": true,
           "showlakes": true,
           "lakecolor": "rgb(17,17,17)"
          },
          "title": {
           "x": 0.05
          },
          "updatemenudefaults": {
           "bgcolor": "#506784",
           "borderwidth": 0
          },
          "sliderdefaults": {
           "bgcolor": "#C8D4E3",
           "borderwidth": 1,
           "bordercolor": "rgb(17,17,17)",
           "tickwidth": 0
          },
          "mapbox": {
           "style": "dark"
          }
         }
        },
        "geo": {
         "domain": {
          "x": [
           0.0,
           1.0
          ],
          "y": [
           0.0,
           1.0
          ]
         },
         "center": {}
        },
        "coloraxis": {
         "colorbar": {
          "title": {
           "text": "Grade_2_3_Proficiency_Reading"
          }
         },
         "colorscale": [
          [
           0.0,
           "#0d0887"
          ],
          [
           0.1111111111111111,
           "#46039f"
          ],
          [
           0.2222222222222222,
           "#7201a8"
          ],
          [
           0.3333333333333333,
           "#9c179e"
          ],
          [
           0.4444444444444444,
           "#bd3786"
          ],
          [
           0.5555555555555556,
           "#d8576b"
          ],
          [
           0.6666666666666666,
           "#ed7953"
          ],
          [
           0.7777777777777778,
           "#fb9f3a"
          ],
          [
           0.8888888888888888,
           "#fdca26"
          ],
          [
           1.0,
           "#f0f921"
          ]
         ],
         "cmin": 0,
         "cmax": 100
        },
        "legend": {
         "tracegroupgap": 0
        },
        "title": {
         "text": "Proficiency in Reading by Country"
        }
       },
       "config": {
        "plotlyServerURL": "https://plot.ly"
       }
      },
      "text/html": "<div>                            <div id=\"9f474b61-635f-4528-9766-5cb95ab0d3f3\" class=\"plotly-graph-div\" style=\"height:525px; width:100%;\"></div>            <script type=\"text/javascript\">                require([\"plotly\"], function(Plotly) {                    window.PLOTLYENV=window.PLOTLYENV || {};                                    if (document.getElementById(\"9f474b61-635f-4528-9766-5cb95ab0d3f3\")) {                    Plotly.newPlot(                        \"9f474b61-635f-4528-9766-5cb95ab0d3f3\",                        [{\"coloraxis\":\"coloraxis\",\"geo\":\"geo\",\"hovertemplate\":\"Countries and areas=%{location}\\u003cbr\\u003eGrade_2_3_Proficiency_Reading=%{z}\\u003cextra\\u003e\\u003c\\u002fextra\\u003e\",\"locationmode\":\"country names\",\"locations\":[\"Afghanistan\",\"Albania\",\"Algeria\",\"Andorra\",\"Angola\",\"Anguilla\",\"Antigua and Barbuda\",\"Argentina\",\"Armenia\",\"Australia\",\"Austria\",\"Azerbaijan\",\"The Bahamas\",\"Bahrain\",\"Bangladesh\",\"Barbados\",\"Belarus\",\"Belgium\",\"Belize\",\"Benin\",\"Bhutan\",\"Bolivia\",\"Bosnia and Herzegovina\",\"Botswana\",\"Brazil\",\"British Virgin Islands\",\"Brunei\",\"Bulgaria\",\"Burkina Faso\",\"Burundi\",\"Cape Verde\",\"Cambodia\",\"Cameroon\",\"Canada\",\"Central African Republic\",\"Chad\",\"Chile\",\"China\",\"Colombia\",\"Comoros\",\"Republic of the Congo\",\"Cook Islands\",\"Costa Rica\",\"Ivory Coast\",\"Croatia\",\"Cuba\",\"Cyprus\",\"Czech Republic\",\"North Korea\",\"Democratic Republic of the Congo\",\"Denmark\",\"Djibouti\",\"Dominica\",\"Dominican Republic\",\"Ecuador\",\"Egypt\",\"El Salvador\",\"Equatorial Guinea\",\"Eritrea\",\"Estonia\",\"Eswatini\",\"Ethiopia\",\"Fiji\",\"Finland\",\"France\",\"Gabon\",\"The Gambia\",\"Georgia\",\"Germany\",\"Ghana\",\"Greece\",\"Grenada\",\"Guatemala\",\"Guinea\",\"Guinea0Bissau\",\"Guyana\",\"Haiti\",\"Vatican City\",\"Honduras\",\"Hungary\",\"Iceland\",\"India\",\"Indonesia\",\"Iran\",\"Iraq\",\"Republic of Ireland\",\"Israel\",\"Italy\",\"Jamaica\",\"Japan\",\"Jordan\",\"Kazakhstan\",\"Kenya\",\"Kiribati\",\"Kuwait\",\"Kyrgyzstan\",\"Laos\",\"Latvia\",\"Lebanon\",\"Lesotho\",\"Liberia\",\"Libya\",\"Liechtenstein\",\"Lithuania\",\"Luxembourg\",\"Madagascar\",\"Malawi\",\"Malaysia\",\"Maldives\",\"Mali\",\"Malta\",\"Marshall Islands\",\"Mauritania\",\"Mauritius\",\"Mexico\",\"Federated States of Micronesia\",\"Monaco\",\"Mongolia\",\"Montenegro\",\"Montserrat\",\"Morocco\",\"Mozambique\",\"Myanmar\",\"Namibia\",\"Nauru\",\"Nepal\",\"Netherlands\",\"New Zealand\",\"Nicaragua\",\"Niger\",\"Nigeria\",\"Niue\",\"North Macedonia\",\"Norway\",\"Oman\",\"Pakistan\",\"Palau\",\"Panama\",\"Papua New Guinea\",\"Paraguay\",\"Peru\",\"Philippines\",\"Poland\",\"Portugal\",\"Qatar\",\"South Korea\",\"Moldova\",\"Romania\",\"Russia\",\"Rwanda\",\"Saint Kitts and Nevis\",\"Saint Lucia\",\"Saint Vincent and the Grenadines\",\"Samoa\",\"San Marino\",\"S\\u00ef\\u00bf\\u00bd\\u00ef\\u00bf\\u00bd\\u00ef\\u00bf\\u00bd\\u00ef\\u00bf\\u00bd\\u00ef\\u00bf\\u00bd\\u00ef\\u00bf\\u00bd\\u00ef\\u00bf\\u00bd\\u00ef\\u00bf\",\"Saudi Arabia\",\"Senegal\",\"Serbia\",\"Seychelles\",\"Sierra Leone\",\"Singapore\",\"Slovakia\",\"Slovenia\",\"Solomon Islands\",\"Somalia\",\"South Africa\",\"South Sudan\",\"Spain\",\"Sri Lanka\",\"Palestinian National Authority\",\"Sudan\",\"Suriname\",\"Sweden\",\"Switzerland\",\"Syria\",\"Tajikistan\",\"Thailand\",\"East Timor\",\"Togo\",\"Tokelau\",\"Tonga\",\"Trinidad and Tobago\",\"Tunisia\",\"Turkey\",\"Turkmenistan\",\"Turks and Caicos Islands\",\"Tuvalu\",\"Uganda\",\"Ukraine\",\"United Arab Emirates\",\"United Kingdom\",\"Tanzania\",\"United States\",\"Uruguay\",\"Uzbekistan\",\"Vanuatu\",\"Venezuela\",\"Vietnam\",\"Yemen\",\"Zambia\",\"Zimbabwe\"],\"name\":\"\",\"z\":[22,0,0,0,0,0,0,76,0,94,0,0,0,69,47,0,0,0,0,9,0,0,0,0,80,0,0,0,36,79,0,0,30,96,0,18,94,82,79,0,38,0,89,17,0,0,0,97,94,0,97,0,0,44,74,0,0,0,0,0,0,0,0,98,0,0,5,86,0,0,0,0,68,0,0,0,0,0,70,0,0,47,0,66,0,98,91,98,0,0,0,0,53,0,0,39,0,99,0,13,0,0,0,0,0,13,0,0,0,0,73,0,0,0,78,0,0,44,0,0,36,0,0,0,0,0,99,90,61,9,0,0,0,99,59,35,0,65,0,61,80,0,98,97,66,0,0,0,0,0,0,0,0,0,0,0,63,29,0,0,6,97,0,96,0,0,22,0,97,0,0,0,30,98,0,0,0,0,0,19,0,0,80,47,0,0,0,0,33,0,68,0,0,0,80,0,0,0,0,0,0,20],\"type\":\"choropleth\"}],                        {\"template\":{\"data\":{\"histogram2dcontour\":[{\"type\":\"histogram2dcontour\",\"colorbar\":{\"outlinewidth\":0,\"ticks\":\"\"},\"colorscale\":[[0.0,\"#0d0887\"],[0.1111111111111111,\"#46039f\"],[0.2222222222222222,\"#7201a8\"],[0.3333333333333333,\"#9c179e\"],[0.4444444444444444,\"#bd3786\"],[0.5555555555555556,\"#d8576b\"],[0.6666666666666666,\"#ed7953\"],[0.7777777777777778,\"#fb9f3a\"],[0.8888888888888888,\"#fdca26\"],[1.0,\"#f0f921\"]]}],\"choropleth\":[{\"type\":\"choropleth\",\"colorbar\":{\"outlinewidth\":0,\"ticks\":\"\"}}],\"histogram2d\":[{\"type\":\"histogram2d\",\"colorbar\":{\"outlinewidth\":0,\"ticks\":\"\"},\"colorscale\":[[0.0,\"#0d0887\"],[0.1111111111111111,\"#46039f\"],[0.2222222222222222,\"#7201a8\"],[0.3333333333333333,\"#9c179e\"],[0.4444444444444444,\"#bd3786\"],[0.5555555555555556,\"#d8576b\"],[0.6666666666666666,\"#ed7953\"],[0.7777777777777778,\"#fb9f3a\"],[0.8888888888888888,\"#fdca26\"],[1.0,\"#f0f921\"]]}],\"heatmap\":[{\"type\":\"heatmap\",\"colorbar\":{\"outlinewidth\":0,\"ticks\":\"\"},\"colorscale\":[[0.0,\"#0d0887\"],[0.1111111111111111,\"#46039f\"],[0.2222222222222222,\"#7201a8\"],[0.3333333333333333,\"#9c179e\"],[0.4444444444444444,\"#bd3786\"],[0.5555555555555556,\"#d8576b\"],[0.6666666666666666,\"#ed7953\"],[0.7777777777777778,\"#fb9f3a\"],[0.8888888888888888,\"#fdca26\"],[1.0,\"#f0f921\"]]}],\"heatmapgl\":[{\"type\":\"heatmapgl\",\"colorbar\":{\"outlinewidth\":0,\"ticks\":\"\"},\"colorscale\":[[0.0,\"#0d0887\"],[0.1111111111111111,\"#46039f\"],[0.2222222222222222,\"#7201a8\"],[0.3333333333333333,\"#9c179e\"],[0.4444444444444444,\"#bd3786\"],[0.5555555555555556,\"#d8576b\"],[0.6666666666666666,\"#ed7953\"],[0.7777777777777778,\"#fb9f3a\"],[0.8888888888888888,\"#fdca26\"],[1.0,\"#f0f921\"]]}],\"contourcarpet\":[{\"type\":\"contourcarpet\",\"colorbar\":{\"outlinewidth\":0,\"ticks\":\"\"}}],\"contour\":[{\"type\":\"contour\",\"colorbar\":{\"outlinewidth\":0,\"ticks\":\"\"},\"colorscale\":[[0.0,\"#0d0887\"],[0.1111111111111111,\"#46039f\"],[0.2222222222222222,\"#7201a8\"],[0.3333333333333333,\"#9c179e\"],[0.4444444444444444,\"#bd3786\"],[0.5555555555555556,\"#d8576b\"],[0.6666666666666666,\"#ed7953\"],[0.7777777777777778,\"#fb9f3a\"],[0.8888888888888888,\"#fdca26\"],[1.0,\"#f0f921\"]]}],\"surface\":[{\"type\":\"surface\",\"colorbar\":{\"outlinewidth\":0,\"ticks\":\"\"},\"colorscale\":[[0.0,\"#0d0887\"],[0.1111111111111111,\"#46039f\"],[0.2222222222222222,\"#7201a8\"],[0.3333333333333333,\"#9c179e\"],[0.4444444444444444,\"#bd3786\"],[0.5555555555555556,\"#d8576b\"],[0.6666666666666666,\"#ed7953\"],[0.7777777777777778,\"#fb9f3a\"],[0.8888888888888888,\"#fdca26\"],[1.0,\"#f0f921\"]]}],\"mesh3d\":[{\"type\":\"mesh3d\",\"colorbar\":{\"outlinewidth\":0,\"ticks\":\"\"}}],\"scatter\":[{\"marker\":{\"line\":{\"color\":\"#283442\"}},\"type\":\"scatter\"}],\"parcoords\":[{\"type\":\"parcoords\",\"line\":{\"colorbar\":{\"outlinewidth\":0,\"ticks\":\"\"}}}],\"scatterpolargl\":[{\"type\":\"scatterpolargl\",\"marker\":{\"colorbar\":{\"outlinewidth\":0,\"ticks\":\"\"}}}],\"bar\":[{\"error_x\":{\"color\":\"#f2f5fa\"},\"error_y\":{\"color\":\"#f2f5fa\"},\"marker\":{\"line\":{\"color\":\"rgb(17,17,17)\",\"width\":0.5},\"pattern\":{\"fillmode\":\"overlay\",\"size\":10,\"solidity\":0.2}},\"type\":\"bar\"}],\"scattergeo\":[{\"type\":\"scattergeo\",\"marker\":{\"colorbar\":{\"outlinewidth\":0,\"ticks\":\"\"}}}],\"scatterpolar\":[{\"type\":\"scatterpolar\",\"marker\":{\"colorbar\":{\"outlinewidth\":0,\"ticks\":\"\"}}}],\"histogram\":[{\"marker\":{\"pattern\":{\"fillmode\":\"overlay\",\"size\":10,\"solidity\":0.2}},\"type\":\"histogram\"}],\"scattergl\":[{\"marker\":{\"line\":{\"color\":\"#283442\"}},\"type\":\"scattergl\"}],\"scatter3d\":[{\"type\":\"scatter3d\",\"line\":{\"colorbar\":{\"outlinewidth\":0,\"ticks\":\"\"}},\"marker\":{\"colorbar\":{\"outlinewidth\":0,\"ticks\":\"\"}}}],\"scattermapbox\":[{\"type\":\"scattermapbox\",\"marker\":{\"colorbar\":{\"outlinewidth\":0,\"ticks\":\"\"}}}],\"scatterternary\":[{\"type\":\"scatterternary\",\"marker\":{\"colorbar\":{\"outlinewidth\":0,\"ticks\":\"\"}}}],\"scattercarpet\":[{\"type\":\"scattercarpet\",\"marker\":{\"colorbar\":{\"outlinewidth\":0,\"ticks\":\"\"}}}],\"carpet\":[{\"aaxis\":{\"endlinecolor\":\"#A2B1C6\",\"gridcolor\":\"#506784\",\"linecolor\":\"#506784\",\"minorgridcolor\":\"#506784\",\"startlinecolor\":\"#A2B1C6\"},\"baxis\":{\"endlinecolor\":\"#A2B1C6\",\"gridcolor\":\"#506784\",\"linecolor\":\"#506784\",\"minorgridcolor\":\"#506784\",\"startlinecolor\":\"#A2B1C6\"},\"type\":\"carpet\"}],\"table\":[{\"cells\":{\"fill\":{\"color\":\"#506784\"},\"line\":{\"color\":\"rgb(17,17,17)\"}},\"header\":{\"fill\":{\"color\":\"#2a3f5f\"},\"line\":{\"color\":\"rgb(17,17,17)\"}},\"type\":\"table\"}],\"barpolar\":[{\"marker\":{\"line\":{\"color\":\"rgb(17,17,17)\",\"width\":0.5},\"pattern\":{\"fillmode\":\"overlay\",\"size\":10,\"solidity\":0.2}},\"type\":\"barpolar\"}],\"pie\":[{\"automargin\":true,\"type\":\"pie\"}]},\"layout\":{\"autotypenumbers\":\"strict\",\"colorway\":[\"#636efa\",\"#EF553B\",\"#00cc96\",\"#ab63fa\",\"#FFA15A\",\"#19d3f3\",\"#FF6692\",\"#B6E880\",\"#FF97FF\",\"#FECB52\"],\"font\":{\"color\":\"#f2f5fa\"},\"hovermode\":\"closest\",\"hoverlabel\":{\"align\":\"left\"},\"paper_bgcolor\":\"rgb(17,17,17)\",\"plot_bgcolor\":\"rgb(17,17,17)\",\"polar\":{\"bgcolor\":\"rgb(17,17,17)\",\"angularaxis\":{\"gridcolor\":\"#506784\",\"linecolor\":\"#506784\",\"ticks\":\"\"},\"radialaxis\":{\"gridcolor\":\"#506784\",\"linecolor\":\"#506784\",\"ticks\":\"\"}},\"ternary\":{\"bgcolor\":\"rgb(17,17,17)\",\"aaxis\":{\"gridcolor\":\"#506784\",\"linecolor\":\"#506784\",\"ticks\":\"\"},\"baxis\":{\"gridcolor\":\"#506784\",\"linecolor\":\"#506784\",\"ticks\":\"\"},\"caxis\":{\"gridcolor\":\"#506784\",\"linecolor\":\"#506784\",\"ticks\":\"\"}},\"coloraxis\":{\"colorbar\":{\"outlinewidth\":0,\"ticks\":\"\"}},\"colorscale\":{\"sequential\":[[0.0,\"#0d0887\"],[0.1111111111111111,\"#46039f\"],[0.2222222222222222,\"#7201a8\"],[0.3333333333333333,\"#9c179e\"],[0.4444444444444444,\"#bd3786\"],[0.5555555555555556,\"#d8576b\"],[0.6666666666666666,\"#ed7953\"],[0.7777777777777778,\"#fb9f3a\"],[0.8888888888888888,\"#fdca26\"],[1.0,\"#f0f921\"]],\"sequentialminus\":[[0.0,\"#0d0887\"],[0.1111111111111111,\"#46039f\"],[0.2222222222222222,\"#7201a8\"],[0.3333333333333333,\"#9c179e\"],[0.4444444444444444,\"#bd3786\"],[0.5555555555555556,\"#d8576b\"],[0.6666666666666666,\"#ed7953\"],[0.7777777777777778,\"#fb9f3a\"],[0.8888888888888888,\"#fdca26\"],[1.0,\"#f0f921\"]],\"diverging\":[[0,\"#8e0152\"],[0.1,\"#c51b7d\"],[0.2,\"#de77ae\"],[0.3,\"#f1b6da\"],[0.4,\"#fde0ef\"],[0.5,\"#f7f7f7\"],[0.6,\"#e6f5d0\"],[0.7,\"#b8e186\"],[0.8,\"#7fbc41\"],[0.9,\"#4d9221\"],[1,\"#276419\"]]},\"xaxis\":{\"gridcolor\":\"#283442\",\"linecolor\":\"#506784\",\"ticks\":\"\",\"title\":{\"standoff\":15},\"zerolinecolor\":\"#283442\",\"automargin\":true,\"zerolinewidth\":2},\"yaxis\":{\"gridcolor\":\"#283442\",\"linecolor\":\"#506784\",\"ticks\":\"\",\"title\":{\"standoff\":15},\"zerolinecolor\":\"#283442\",\"automargin\":true,\"zerolinewidth\":2},\"scene\":{\"xaxis\":{\"backgroundcolor\":\"rgb(17,17,17)\",\"gridcolor\":\"#506784\",\"linecolor\":\"#506784\",\"showbackground\":true,\"ticks\":\"\",\"zerolinecolor\":\"#C8D4E3\",\"gridwidth\":2},\"yaxis\":{\"backgroundcolor\":\"rgb(17,17,17)\",\"gridcolor\":\"#506784\",\"linecolor\":\"#506784\",\"showbackground\":true,\"ticks\":\"\",\"zerolinecolor\":\"#C8D4E3\",\"gridwidth\":2},\"zaxis\":{\"backgroundcolor\":\"rgb(17,17,17)\",\"gridcolor\":\"#506784\",\"linecolor\":\"#506784\",\"showbackground\":true,\"ticks\":\"\",\"zerolinecolor\":\"#C8D4E3\",\"gridwidth\":2}},\"shapedefaults\":{\"line\":{\"color\":\"#f2f5fa\"}},\"annotationdefaults\":{\"arrowcolor\":\"#f2f5fa\",\"arrowhead\":0,\"arrowwidth\":1},\"geo\":{\"bgcolor\":\"rgb(17,17,17)\",\"landcolor\":\"rgb(17,17,17)\",\"subunitcolor\":\"#506784\",\"showland\":true,\"showlakes\":true,\"lakecolor\":\"rgb(17,17,17)\"},\"title\":{\"x\":0.05},\"updatemenudefaults\":{\"bgcolor\":\"#506784\",\"borderwidth\":0},\"sliderdefaults\":{\"bgcolor\":\"#C8D4E3\",\"borderwidth\":1,\"bordercolor\":\"rgb(17,17,17)\",\"tickwidth\":0},\"mapbox\":{\"style\":\"dark\"}}},\"geo\":{\"domain\":{\"x\":[0.0,1.0],\"y\":[0.0,1.0]},\"center\":{}},\"coloraxis\":{\"colorbar\":{\"title\":{\"text\":\"Grade_2_3_Proficiency_Reading\"}},\"colorscale\":[[0.0,\"#0d0887\"],[0.1111111111111111,\"#46039f\"],[0.2222222222222222,\"#7201a8\"],[0.3333333333333333,\"#9c179e\"],[0.4444444444444444,\"#bd3786\"],[0.5555555555555556,\"#d8576b\"],[0.6666666666666666,\"#ed7953\"],[0.7777777777777778,\"#fb9f3a\"],[0.8888888888888888,\"#fdca26\"],[1.0,\"#f0f921\"]],\"cmin\":0,\"cmax\":100},\"legend\":{\"tracegroupgap\":0},\"title\":{\"text\":\"Proficiency in Reading by Country\"}},                        {\"responsive\": true}                    ).then(function(){\n                            \nvar gd = document.getElementById('9f474b61-635f-4528-9766-5cb95ab0d3f3');\nvar x = new MutationObserver(function (mutations, observer) {{\n        var display = window.getComputedStyle(gd).display;\n        if (!display || display === 'none') {{\n            console.log([gd, 'removed!']);\n            Plotly.purge(gd);\n            observer.disconnect();\n        }}\n}});\n\n// Listen for the removal of the full notebook cells\nvar notebookContainer = gd.closest('#notebook-container');\nif (notebookContainer) {{\n    x.observe(notebookContainer, {childList: true});\n}}\n\n// Listen for the clearing of the current output cell\nvar outputEl = gd.closest('.output');\nif (outputEl) {{\n    x.observe(outputEl, {childList: true});\n}}\n\n                        })                };                });            </script>        </div>"
     },
     "metadata": {},
     "output_type": "display_data"
    }
   ],
   "source": [
    "fig = px.choropleth(df, locations='Countries and areas', locationmode='country names',\n",
    "                    color='Grade_2_3_Proficiency_Reading', range_color=[0, 100],\n",
    "                    title='Proficiency in Reading by Country')\n",
    "fig.show()"
   ],
   "metadata": {
    "collapsed": false,
    "ExecuteTime": {
     "end_time": "2024-01-30T11:30:35.019920100Z",
     "start_time": "2024-01-30T11:30:34.696090700Z"
    }
   },
   "id": "d05f422eee78009"
  },
  {
   "cell_type": "markdown",
   "source": [
    "# Completion Rates Over Different Education Levels"
   ],
   "metadata": {
    "collapsed": false
   },
   "id": "4c4e0c0fa0e1ad73"
  },
  {
   "cell_type": "code",
   "execution_count": 5,
   "outputs": [
    {
     "data": {
      "application/vnd.plotly.v1+json": {
       "data": [
        {
         "hovertemplate": "variable=Completion_Rate_Primary_Male<br>Countries and areas=%{x}<br>value=%{y}<extra></extra>",
         "legendgroup": "Completion_Rate_Primary_Male",
         "line": {
          "color": "#636efa",
          "dash": "solid"
         },
         "marker": {
          "symbol": "circle"
         },
         "mode": "lines",
         "name": "Completion_Rate_Primary_Male",
         "showlegend": true,
         "x": [
          "Afghanistan",
          "Albania",
          "Algeria",
          "Andorra",
          "Angola",
          "Anguilla",
          "Antigua and Barbuda",
          "Argentina",
          "Armenia",
          "Australia",
          "Austria",
          "Azerbaijan",
          "The Bahamas",
          "Bahrain",
          "Bangladesh",
          "Barbados",
          "Belarus",
          "Belgium",
          "Belize",
          "Benin",
          "Bhutan",
          "Bolivia",
          "Bosnia and Herzegovina",
          "Botswana",
          "Brazil",
          "British Virgin Islands",
          "Brunei",
          "Bulgaria",
          "Burkina Faso",
          "Burundi",
          "Cape Verde",
          "Cambodia",
          "Cameroon",
          "Canada",
          "Central African Republic",
          "Chad",
          "Chile",
          "China",
          "Colombia",
          "Comoros",
          "Republic of the Congo",
          "Cook Islands",
          "Costa Rica",
          "Ivory Coast",
          "Croatia",
          "Cuba",
          "Cyprus",
          "Czech Republic",
          "North Korea",
          "Democratic Republic of the Congo",
          "Denmark",
          "Djibouti",
          "Dominica",
          "Dominican Republic",
          "Ecuador",
          "Egypt",
          "El Salvador",
          "Equatorial Guinea",
          "Eritrea",
          "Estonia",
          "Eswatini",
          "Ethiopia",
          "Fiji",
          "Finland",
          "France",
          "Gabon",
          "The Gambia",
          "Georgia",
          "Germany",
          "Ghana",
          "Greece",
          "Grenada",
          "Guatemala",
          "Guinea",
          "Guinea0Bissau",
          "Guyana",
          "Haiti",
          "Vatican City",
          "Honduras",
          "Hungary",
          "Iceland",
          "India",
          "Indonesia",
          "Iran",
          "Iraq",
          "Republic of Ireland",
          "Israel",
          "Italy",
          "Jamaica",
          "Japan",
          "Jordan",
          "Kazakhstan",
          "Kenya",
          "Kiribati",
          "Kuwait",
          "Kyrgyzstan",
          "Laos",
          "Latvia",
          "Lebanon",
          "Lesotho",
          "Liberia",
          "Libya",
          "Liechtenstein",
          "Lithuania",
          "Luxembourg",
          "Madagascar",
          "Malawi",
          "Malaysia",
          "Maldives",
          "Mali",
          "Malta",
          "Marshall Islands",
          "Mauritania",
          "Mauritius",
          "Mexico",
          "Federated States of Micronesia",
          "Monaco",
          "Mongolia",
          "Montenegro",
          "Montserrat",
          "Morocco",
          "Mozambique",
          "Myanmar",
          "Namibia",
          "Nauru",
          "Nepal",
          "Netherlands",
          "New Zealand",
          "Nicaragua",
          "Niger",
          "Nigeria",
          "Niue",
          "North Macedonia",
          "Norway",
          "Oman",
          "Pakistan",
          "Palau",
          "Panama",
          "Papua New Guinea",
          "Paraguay",
          "Peru",
          "Philippines",
          "Poland",
          "Portugal",
          "Qatar",
          "South Korea",
          "Moldova",
          "Romania",
          "Russia",
          "Rwanda",
          "Saint Kitts and Nevis",
          "Saint Lucia",
          "Saint Vincent and the Grenadines",
          "Samoa",
          "San Marino",
          "Sï¿½ï¿½ï¿½ï¿½ï¿½ï¿½ï¿½ï¿",
          "Saudi Arabia",
          "Senegal",
          "Serbia",
          "Seychelles",
          "Sierra Leone",
          "Singapore",
          "Slovakia",
          "Slovenia",
          "Solomon Islands",
          "Somalia",
          "South Africa",
          "South Sudan",
          "Spain",
          "Sri Lanka",
          "Palestinian National Authority",
          "Sudan",
          "Suriname",
          "Sweden",
          "Switzerland",
          "Syria",
          "Tajikistan",
          "Thailand",
          "East Timor",
          "Togo",
          "Tokelau",
          "Tonga",
          "Trinidad and Tobago",
          "Tunisia",
          "Turkey",
          "Turkmenistan",
          "Turks and Caicos Islands",
          "Tuvalu",
          "Uganda",
          "Ukraine",
          "United Arab Emirates",
          "United Kingdom",
          "Tanzania",
          "United States",
          "Uruguay",
          "Uzbekistan",
          "Vanuatu",
          "Venezuela",
          "Vietnam",
          "Yemen",
          "Zambia",
          "Zimbabwe"
         ],
         "xaxis": "x",
         "y": [
          67,
          94,
          93,
          0,
          63,
          0,
          0,
          91,
          99,
          0,
          0,
          0,
          0,
          0,
          76,
          99,
          100,
          0,
          95,
          51,
          67,
          0,
          99,
          95,
          95,
          0,
          0,
          0,
          32,
          46,
          0,
          68,
          75,
          0,
          54,
          31,
          96,
          97,
          91,
          75,
          78,
          0,
          98,
          60,
          0,
          100,
          0,
          0,
          100,
          67,
          0,
          0,
          0,
          88,
          98,
          91,
          84,
          0,
          0,
          0,
          64,
          47,
          0,
          0,
          0,
          66,
          64,
          100,
          0,
          69,
          0,
          0,
          80,
          52,
          29,
          96,
          49,
          0,
          81,
          0,
          0,
          92,
          91,
          0,
          78,
          0,
          0,
          0,
          99,
          0,
          96,
          100,
          77,
          92,
          0,
          99,
          84,
          0,
          0,
          69,
          36,
          0,
          0,
          0,
          0,
          52,
          43,
          0,
          0,
          50,
          0,
          0,
          68,
          0,
          98,
          0,
          0,
          96,
          95,
          0,
          0,
          44,
          82,
          75,
          0,
          81,
          0,
          0,
          0,
          35,
          71,
          0,
          97,
          0,
          0,
          64,
          0,
          95,
          0,
          93,
          95,
          89,
          0,
          0,
          0,
          0,
          99,
          0,
          0,
          48,
          0,
          99,
          0,
          0,
          0,
          79,
          0,
          44,
          99,
          0,
          63,
          0,
          0,
          0,
          0,
          0,
          95,
          31,
          0,
          99,
          99,
          66,
          80,
          0,
          0,
          0,
          99,
          98,
          77,
          83,
          0,
          98,
          0,
          94,
          99,
          100,
          0,
          0,
          39,
          100,
          0,
          0,
          75,
          0,
          96,
          0,
          0,
          0,
          96,
          70,
          71,
          86
         ],
         "yaxis": "y",
         "type": "scattergl"
        },
        {
         "hovertemplate": "variable=Completion_Rate_Primary_Female<br>Countries and areas=%{x}<br>value=%{y}<extra></extra>",
         "legendgroup": "Completion_Rate_Primary_Female",
         "line": {
          "color": "#EF553B",
          "dash": "solid"
         },
         "marker": {
          "symbol": "circle"
         },
         "mode": "lines",
         "name": "Completion_Rate_Primary_Female",
         "showlegend": true,
         "x": [
          "Afghanistan",
          "Albania",
          "Algeria",
          "Andorra",
          "Angola",
          "Anguilla",
          "Antigua and Barbuda",
          "Argentina",
          "Armenia",
          "Australia",
          "Austria",
          "Azerbaijan",
          "The Bahamas",
          "Bahrain",
          "Bangladesh",
          "Barbados",
          "Belarus",
          "Belgium",
          "Belize",
          "Benin",
          "Bhutan",
          "Bolivia",
          "Bosnia and Herzegovina",
          "Botswana",
          "Brazil",
          "British Virgin Islands",
          "Brunei",
          "Bulgaria",
          "Burkina Faso",
          "Burundi",
          "Cape Verde",
          "Cambodia",
          "Cameroon",
          "Canada",
          "Central African Republic",
          "Chad",
          "Chile",
          "China",
          "Colombia",
          "Comoros",
          "Republic of the Congo",
          "Cook Islands",
          "Costa Rica",
          "Ivory Coast",
          "Croatia",
          "Cuba",
          "Cyprus",
          "Czech Republic",
          "North Korea",
          "Democratic Republic of the Congo",
          "Denmark",
          "Djibouti",
          "Dominica",
          "Dominican Republic",
          "Ecuador",
          "Egypt",
          "El Salvador",
          "Equatorial Guinea",
          "Eritrea",
          "Estonia",
          "Eswatini",
          "Ethiopia",
          "Fiji",
          "Finland",
          "France",
          "Gabon",
          "The Gambia",
          "Georgia",
          "Germany",
          "Ghana",
          "Greece",
          "Grenada",
          "Guatemala",
          "Guinea",
          "Guinea0Bissau",
          "Guyana",
          "Haiti",
          "Vatican City",
          "Honduras",
          "Hungary",
          "Iceland",
          "India",
          "Indonesia",
          "Iran",
          "Iraq",
          "Republic of Ireland",
          "Israel",
          "Italy",
          "Jamaica",
          "Japan",
          "Jordan",
          "Kazakhstan",
          "Kenya",
          "Kiribati",
          "Kuwait",
          "Kyrgyzstan",
          "Laos",
          "Latvia",
          "Lebanon",
          "Lesotho",
          "Liberia",
          "Libya",
          "Liechtenstein",
          "Lithuania",
          "Luxembourg",
          "Madagascar",
          "Malawi",
          "Malaysia",
          "Maldives",
          "Mali",
          "Malta",
          "Marshall Islands",
          "Mauritania",
          "Mauritius",
          "Mexico",
          "Federated States of Micronesia",
          "Monaco",
          "Mongolia",
          "Montenegro",
          "Montserrat",
          "Morocco",
          "Mozambique",
          "Myanmar",
          "Namibia",
          "Nauru",
          "Nepal",
          "Netherlands",
          "New Zealand",
          "Nicaragua",
          "Niger",
          "Nigeria",
          "Niue",
          "North Macedonia",
          "Norway",
          "Oman",
          "Pakistan",
          "Palau",
          "Panama",
          "Papua New Guinea",
          "Paraguay",
          "Peru",
          "Philippines",
          "Poland",
          "Portugal",
          "Qatar",
          "South Korea",
          "Moldova",
          "Romania",
          "Russia",
          "Rwanda",
          "Saint Kitts and Nevis",
          "Saint Lucia",
          "Saint Vincent and the Grenadines",
          "Samoa",
          "San Marino",
          "Sï¿½ï¿½ï¿½ï¿½ï¿½ï¿½ï¿½ï¿",
          "Saudi Arabia",
          "Senegal",
          "Serbia",
          "Seychelles",
          "Sierra Leone",
          "Singapore",
          "Slovakia",
          "Slovenia",
          "Solomon Islands",
          "Somalia",
          "South Africa",
          "South Sudan",
          "Spain",
          "Sri Lanka",
          "Palestinian National Authority",
          "Sudan",
          "Suriname",
          "Sweden",
          "Switzerland",
          "Syria",
          "Tajikistan",
          "Thailand",
          "East Timor",
          "Togo",
          "Tokelau",
          "Tonga",
          "Trinidad and Tobago",
          "Tunisia",
          "Turkey",
          "Turkmenistan",
          "Turks and Caicos Islands",
          "Tuvalu",
          "Uganda",
          "Ukraine",
          "United Arab Emirates",
          "United Kingdom",
          "Tanzania",
          "United States",
          "Uruguay",
          "Uzbekistan",
          "Vanuatu",
          "Venezuela",
          "Vietnam",
          "Yemen",
          "Zambia",
          "Zimbabwe"
         ],
         "xaxis": "x",
         "y": [
          40,
          96,
          93,
          0,
          57,
          0,
          0,
          94,
          99,
          0,
          0,
          0,
          0,
          0,
          89,
          99,
          100,
          0,
          96,
          44,
          71,
          0,
          100,
          98,
          97,
          0,
          0,
          0,
          29,
          54,
          0,
          79,
          74,
          0,
          33,
          24,
          97,
          97,
          95,
          77,
          82,
          0,
          99,
          53,
          0,
          98,
          0,
          0,
          100,
          66,
          0,
          0,
          0,
          94,
          98,
          92,
          89,
          0,
          0,
          0,
          77,
          48,
          0,
          0,
          0,
          75,
          60,
          100,
          0,
          73,
          0,
          0,
          76,
          39,
          25,
          99,
          58,
          0,
          87,
          0,
          0,
          91,
          92,
          0,
          73,
          0,
          0,
          0,
          100,
          0,
          97,
          100,
          82,
          96,
          0,
          100,
          83,
          0,
          0,
          92,
          33,
          0,
          0,
          0,
          0,
          60,
          52,
          0,
          0,
          41,
          0,
          0,
          58,
          0,
          98,
          0,
          0,
          98,
          98,
          0,
          0,
          39,
          84,
          86,
          0,
          83,
          0,
          0,
          0,
          24,
          71,
          0,
          100,
          0,
          0,
          55,
          0,
          96,
          0,
          96,
          95,
          95,
          0,
          0,
          0,
          0,
          99,
          0,
          0,
          61,
          0,
          99,
          0,
          0,
          0,
          86,
          0,
          50,
          100,
          0,
          65,
          0,
          0,
          0,
          0,
          0,
          98,
          18,
          0,
          99,
          100,
          64,
          90,
          0,
          0,
          0,
          98,
          99,
          85,
          76,
          0,
          99,
          0,
          97,
          98,
          100,
          0,
          0,
          43,
          99,
          0,
          0,
          84,
          0,
          98,
          0,
          0,
          0,
          97,
          55,
          73,
          92
         ],
         "yaxis": "y",
         "type": "scattergl"
        },
        {
         "hovertemplate": "variable=Completion_Rate_Lower_Secondary_Male<br>Countries and areas=%{x}<br>value=%{y}<extra></extra>",
         "legendgroup": "Completion_Rate_Lower_Secondary_Male",
         "line": {
          "color": "#00cc96",
          "dash": "solid"
         },
         "marker": {
          "symbol": "circle"
         },
         "mode": "lines",
         "name": "Completion_Rate_Lower_Secondary_Male",
         "showlegend": true,
         "x": [
          "Afghanistan",
          "Albania",
          "Algeria",
          "Andorra",
          "Angola",
          "Anguilla",
          "Antigua and Barbuda",
          "Argentina",
          "Armenia",
          "Australia",
          "Austria",
          "Azerbaijan",
          "The Bahamas",
          "Bahrain",
          "Bangladesh",
          "Barbados",
          "Belarus",
          "Belgium",
          "Belize",
          "Benin",
          "Bhutan",
          "Bolivia",
          "Bosnia and Herzegovina",
          "Botswana",
          "Brazil",
          "British Virgin Islands",
          "Brunei",
          "Bulgaria",
          "Burkina Faso",
          "Burundi",
          "Cape Verde",
          "Cambodia",
          "Cameroon",
          "Canada",
          "Central African Republic",
          "Chad",
          "Chile",
          "China",
          "Colombia",
          "Comoros",
          "Republic of the Congo",
          "Cook Islands",
          "Costa Rica",
          "Ivory Coast",
          "Croatia",
          "Cuba",
          "Cyprus",
          "Czech Republic",
          "North Korea",
          "Democratic Republic of the Congo",
          "Denmark",
          "Djibouti",
          "Dominica",
          "Dominican Republic",
          "Ecuador",
          "Egypt",
          "El Salvador",
          "Equatorial Guinea",
          "Eritrea",
          "Estonia",
          "Eswatini",
          "Ethiopia",
          "Fiji",
          "Finland",
          "France",
          "Gabon",
          "The Gambia",
          "Georgia",
          "Germany",
          "Ghana",
          "Greece",
          "Grenada",
          "Guatemala",
          "Guinea",
          "Guinea0Bissau",
          "Guyana",
          "Haiti",
          "Vatican City",
          "Honduras",
          "Hungary",
          "Iceland",
          "India",
          "Indonesia",
          "Iran",
          "Iraq",
          "Republic of Ireland",
          "Israel",
          "Italy",
          "Jamaica",
          "Japan",
          "Jordan",
          "Kazakhstan",
          "Kenya",
          "Kiribati",
          "Kuwait",
          "Kyrgyzstan",
          "Laos",
          "Latvia",
          "Lebanon",
          "Lesotho",
          "Liberia",
          "Libya",
          "Liechtenstein",
          "Lithuania",
          "Luxembourg",
          "Madagascar",
          "Malawi",
          "Malaysia",
          "Maldives",
          "Mali",
          "Malta",
          "Marshall Islands",
          "Mauritania",
          "Mauritius",
          "Mexico",
          "Federated States of Micronesia",
          "Monaco",
          "Mongolia",
          "Montenegro",
          "Montserrat",
          "Morocco",
          "Mozambique",
          "Myanmar",
          "Namibia",
          "Nauru",
          "Nepal",
          "Netherlands",
          "New Zealand",
          "Nicaragua",
          "Niger",
          "Nigeria",
          "Niue",
          "North Macedonia",
          "Norway",
          "Oman",
          "Pakistan",
          "Palau",
          "Panama",
          "Papua New Guinea",
          "Paraguay",
          "Peru",
          "Philippines",
          "Poland",
          "Portugal",
          "Qatar",
          "South Korea",
          "Moldova",
          "Romania",
          "Russia",
          "Rwanda",
          "Saint Kitts and Nevis",
          "Saint Lucia",
          "Saint Vincent and the Grenadines",
          "Samoa",
          "San Marino",
          "Sï¿½ï¿½ï¿½ï¿½ï¿½ï¿½ï¿½ï¿",
          "Saudi Arabia",
          "Senegal",
          "Serbia",
          "Seychelles",
          "Sierra Leone",
          "Singapore",
          "Slovakia",
          "Slovenia",
          "Solomon Islands",
          "Somalia",
          "South Africa",
          "South Sudan",
          "Spain",
          "Sri Lanka",
          "Palestinian National Authority",
          "Sudan",
          "Suriname",
          "Sweden",
          "Switzerland",
          "Syria",
          "Tajikistan",
          "Thailand",
          "East Timor",
          "Togo",
          "Tokelau",
          "Tonga",
          "Trinidad and Tobago",
          "Tunisia",
          "Turkey",
          "Turkmenistan",
          "Turks and Caicos Islands",
          "Tuvalu",
          "Uganda",
          "Ukraine",
          "United Arab Emirates",
          "United Kingdom",
          "Tanzania",
          "United States",
          "Uruguay",
          "Uzbekistan",
          "Vanuatu",
          "Venezuela",
          "Vietnam",
          "Yemen",
          "Zambia",
          "Zimbabwe"
         ],
         "xaxis": "x",
         "y": [
          49,
          98,
          49,
          0,
          42,
          0,
          0,
          70,
          95,
          0,
          0,
          0,
          0,
          0,
          59,
          98,
          100,
          0,
          55,
          25,
          41,
          0,
          97,
          92,
          81,
          0,
          0,
          0,
          13,
          26,
          0,
          41,
          52,
          0,
          16,
          18,
          94,
          93,
          74,
          47,
          56,
          0,
          70,
          36,
          0,
          95,
          0,
          0,
          100,
          58,
          0,
          0,
          0,
          76,
          89,
          79,
          73,
          0,
          0,
          0,
          47,
          19,
          0,
          0,
          0,
          32,
          50,
          98,
          0,
          45,
          0,
          0,
          52,
          33,
          18,
          80,
          32,
          0,
          46,
          0,
          0,
          82,
          64,
          0,
          46,
          0,
          0,
          0,
          97,
          0,
          86,
          100,
          61,
          69,
          0,
          99,
          54,
          0,
          0,
          33,
          29,
          0,
          0,
          0,
          0,
          26,
          23,
          0,
          0,
          36,
          0,
          0,
          53,
          0,
          87,
          0,
          0,
          87,
          93,
          0,
          0,
          15,
          45,
          48,
          0,
          71,
          0,
          0,
          0,
          10,
          66,
          0,
          93,
          0,
          0,
          55,
          0,
          75,
          0,
          81,
          83,
          75,
          0,
          0,
          0,
          0,
          95,
          0,
          0,
          25,
          0,
          85,
          0,
          0,
          0,
          32,
          0,
          27,
          99,
          0,
          47,
          0,
          0,
          0,
          0,
          0,
          85,
          22,
          0,
          94,
          80,
          49,
          41,
          0,
          0,
          0,
          95,
          81,
          63,
          55,
          0,
          65,
          0,
          68,
          96,
          99,
          0,
          0,
          27,
          100,
          0,
          0,
          31,
          0,
          66,
          0,
          0,
          0,
          81,
          55,
          54,
          45
         ],
         "yaxis": "y",
         "type": "scattergl"
        },
        {
         "hovertemplate": "variable=Completion_Rate_Lower_Secondary_Female<br>Countries and areas=%{x}<br>value=%{y}<extra></extra>",
         "legendgroup": "Completion_Rate_Lower_Secondary_Female",
         "line": {
          "color": "#ab63fa",
          "dash": "solid"
         },
         "marker": {
          "symbol": "circle"
         },
         "mode": "lines",
         "name": "Completion_Rate_Lower_Secondary_Female",
         "showlegend": true,
         "x": [
          "Afghanistan",
          "Albania",
          "Algeria",
          "Andorra",
          "Angola",
          "Anguilla",
          "Antigua and Barbuda",
          "Argentina",
          "Armenia",
          "Australia",
          "Austria",
          "Azerbaijan",
          "The Bahamas",
          "Bahrain",
          "Bangladesh",
          "Barbados",
          "Belarus",
          "Belgium",
          "Belize",
          "Benin",
          "Bhutan",
          "Bolivia",
          "Bosnia and Herzegovina",
          "Botswana",
          "Brazil",
          "British Virgin Islands",
          "Brunei",
          "Bulgaria",
          "Burkina Faso",
          "Burundi",
          "Cape Verde",
          "Cambodia",
          "Cameroon",
          "Canada",
          "Central African Republic",
          "Chad",
          "Chile",
          "China",
          "Colombia",
          "Comoros",
          "Republic of the Congo",
          "Cook Islands",
          "Costa Rica",
          "Ivory Coast",
          "Croatia",
          "Cuba",
          "Cyprus",
          "Czech Republic",
          "North Korea",
          "Democratic Republic of the Congo",
          "Denmark",
          "Djibouti",
          "Dominica",
          "Dominican Republic",
          "Ecuador",
          "Egypt",
          "El Salvador",
          "Equatorial Guinea",
          "Eritrea",
          "Estonia",
          "Eswatini",
          "Ethiopia",
          "Fiji",
          "Finland",
          "France",
          "Gabon",
          "The Gambia",
          "Georgia",
          "Germany",
          "Ghana",
          "Greece",
          "Grenada",
          "Guatemala",
          "Guinea",
          "Guinea0Bissau",
          "Guyana",
          "Haiti",
          "Vatican City",
          "Honduras",
          "Hungary",
          "Iceland",
          "India",
          "Indonesia",
          "Iran",
          "Iraq",
          "Republic of Ireland",
          "Israel",
          "Italy",
          "Jamaica",
          "Japan",
          "Jordan",
          "Kazakhstan",
          "Kenya",
          "Kiribati",
          "Kuwait",
          "Kyrgyzstan",
          "Laos",
          "Latvia",
          "Lebanon",
          "Lesotho",
          "Liberia",
          "Libya",
          "Liechtenstein",
          "Lithuania",
          "Luxembourg",
          "Madagascar",
          "Malawi",
          "Malaysia",
          "Maldives",
          "Mali",
          "Malta",
          "Marshall Islands",
          "Mauritania",
          "Mauritius",
          "Mexico",
          "Federated States of Micronesia",
          "Monaco",
          "Mongolia",
          "Montenegro",
          "Montserrat",
          "Morocco",
          "Mozambique",
          "Myanmar",
          "Namibia",
          "Nauru",
          "Nepal",
          "Netherlands",
          "New Zealand",
          "Nicaragua",
          "Niger",
          "Nigeria",
          "Niue",
          "North Macedonia",
          "Norway",
          "Oman",
          "Pakistan",
          "Palau",
          "Panama",
          "Papua New Guinea",
          "Paraguay",
          "Peru",
          "Philippines",
          "Poland",
          "Portugal",
          "Qatar",
          "South Korea",
          "Moldova",
          "Romania",
          "Russia",
          "Rwanda",
          "Saint Kitts and Nevis",
          "Saint Lucia",
          "Saint Vincent and the Grenadines",
          "Samoa",
          "San Marino",
          "Sï¿½ï¿½ï¿½ï¿½ï¿½ï¿½ï¿½ï¿",
          "Saudi Arabia",
          "Senegal",
          "Serbia",
          "Seychelles",
          "Sierra Leone",
          "Singapore",
          "Slovakia",
          "Slovenia",
          "Solomon Islands",
          "Somalia",
          "South Africa",
          "South Sudan",
          "Spain",
          "Sri Lanka",
          "Palestinian National Authority",
          "Sudan",
          "Suriname",
          "Sweden",
          "Switzerland",
          "Syria",
          "Tajikistan",
          "Thailand",
          "East Timor",
          "Togo",
          "Tokelau",
          "Tonga",
          "Trinidad and Tobago",
          "Tunisia",
          "Turkey",
          "Turkmenistan",
          "Turks and Caicos Islands",
          "Tuvalu",
          "Uganda",
          "Ukraine",
          "United Arab Emirates",
          "United Kingdom",
          "Tanzania",
          "United States",
          "Uruguay",
          "Uzbekistan",
          "Vanuatu",
          "Venezuela",
          "Vietnam",
          "Yemen",
          "Zambia",
          "Zimbabwe"
         ],
         "xaxis": "x",
         "y": [
          26,
          97,
          65,
          0,
          32,
          0,
          0,
          79,
          99,
          0,
          0,
          0,
          0,
          0,
          71,
          98,
          100,
          0,
          66,
          13,
          38,
          0,
          97,
          92,
          89,
          0,
          0,
          0,
          6,
          19,
          0,
          39,
          43,
          0,
          8,
          10,
          97,
          93,
          81,
          45,
          45,
          0,
          76,
          22,
          0,
          98,
          0,
          0,
          100,
          52,
          0,
          0,
          0,
          89,
          92,
          81,
          74,
          0,
          0,
          0,
          54,
          22,
          0,
          0,
          0,
          33,
          48,
          98,
          0,
          50,
          0,
          0,
          45,
          20,
          16,
          88,
          38,
          0,
          52,
          0,
          0,
          79,
          59,
          0,
          47,
          0,
          0,
          0,
          97,
          0,
          88,
          100,
          69,
          88,
          0,
          99,
          53,
          0,
          0,
          55,
          23,
          0,
          0,
          0,
          0,
          27,
          21,
          0,
          0,
          25,
          0,
          0,
          40,
          0,
          90,
          0,
          0,
          93,
          97,
          0,
          0,
          11,
          45,
          62,
          0,
          75,
          0,
          0,
          0,
          4,
          59,
          0,
          95,
          0,
          0,
          45,
          0,
          81,
          0,
          79,
          83,
          88,
          0,
          0,
          0,
          0,
          98,
          0,
          0,
          30,
          0,
          98,
          0,
          0,
          0,
          36,
          0,
          30,
          99,
          0,
          42,
          0,
          0,
          0,
          0,
          0,
          91,
          10,
          0,
          96,
          93,
          52,
          58,
          0,
          0,
          0,
          93,
          92,
          70,
          39,
          0,
          76,
          0,
          80,
          92,
          100,
          0,
          0,
          23,
          100,
          0,
          0,
          27,
          0,
          73,
          0,
          0,
          0,
          87,
          39,
          50,
          53
         ],
         "yaxis": "y",
         "type": "scattergl"
        },
        {
         "hovertemplate": "variable=Completion_Rate_Upper_Secondary_Male<br>Countries and areas=%{x}<br>value=%{y}<extra></extra>",
         "legendgroup": "Completion_Rate_Upper_Secondary_Male",
         "line": {
          "color": "#FFA15A",
          "dash": "solid"
         },
         "marker": {
          "symbol": "circle"
         },
         "mode": "lines",
         "name": "Completion_Rate_Upper_Secondary_Male",
         "showlegend": true,
         "x": [
          "Afghanistan",
          "Albania",
          "Algeria",
          "Andorra",
          "Angola",
          "Anguilla",
          "Antigua and Barbuda",
          "Argentina",
          "Armenia",
          "Australia",
          "Austria",
          "Azerbaijan",
          "The Bahamas",
          "Bahrain",
          "Bangladesh",
          "Barbados",
          "Belarus",
          "Belgium",
          "Belize",
          "Benin",
          "Bhutan",
          "Bolivia",
          "Bosnia and Herzegovina",
          "Botswana",
          "Brazil",
          "British Virgin Islands",
          "Brunei",
          "Bulgaria",
          "Burkina Faso",
          "Burundi",
          "Cape Verde",
          "Cambodia",
          "Cameroon",
          "Canada",
          "Central African Republic",
          "Chad",
          "Chile",
          "China",
          "Colombia",
          "Comoros",
          "Republic of the Congo",
          "Cook Islands",
          "Costa Rica",
          "Ivory Coast",
          "Croatia",
          "Cuba",
          "Cyprus",
          "Czech Republic",
          "North Korea",
          "Democratic Republic of the Congo",
          "Denmark",
          "Djibouti",
          "Dominica",
          "Dominican Republic",
          "Ecuador",
          "Egypt",
          "El Salvador",
          "Equatorial Guinea",
          "Eritrea",
          "Estonia",
          "Eswatini",
          "Ethiopia",
          "Fiji",
          "Finland",
          "France",
          "Gabon",
          "The Gambia",
          "Georgia",
          "Germany",
          "Ghana",
          "Greece",
          "Grenada",
          "Guatemala",
          "Guinea",
          "Guinea0Bissau",
          "Guyana",
          "Haiti",
          "Vatican City",
          "Honduras",
          "Hungary",
          "Iceland",
          "India",
          "Indonesia",
          "Iran",
          "Iraq",
          "Republic of Ireland",
          "Israel",
          "Italy",
          "Jamaica",
          "Japan",
          "Jordan",
          "Kazakhstan",
          "Kenya",
          "Kiribati",
          "Kuwait",
          "Kyrgyzstan",
          "Laos",
          "Latvia",
          "Lebanon",
          "Lesotho",
          "Liberia",
          "Libya",
          "Liechtenstein",
          "Lithuania",
          "Luxembourg",
          "Madagascar",
          "Malawi",
          "Malaysia",
          "Maldives",
          "Mali",
          "Malta",
          "Marshall Islands",
          "Mauritania",
          "Mauritius",
          "Mexico",
          "Federated States of Micronesia",
          "Monaco",
          "Mongolia",
          "Montenegro",
          "Montserrat",
          "Morocco",
          "Mozambique",
          "Myanmar",
          "Namibia",
          "Nauru",
          "Nepal",
          "Netherlands",
          "New Zealand",
          "Nicaragua",
          "Niger",
          "Nigeria",
          "Niue",
          "North Macedonia",
          "Norway",
          "Oman",
          "Pakistan",
          "Palau",
          "Panama",
          "Papua New Guinea",
          "Paraguay",
          "Peru",
          "Philippines",
          "Poland",
          "Portugal",
          "Qatar",
          "South Korea",
          "Moldova",
          "Romania",
          "Russia",
          "Rwanda",
          "Saint Kitts and Nevis",
          "Saint Lucia",
          "Saint Vincent and the Grenadines",
          "Samoa",
          "San Marino",
          "Sï¿½ï¿½ï¿½ï¿½ï¿½ï¿½ï¿½ï¿",
          "Saudi Arabia",
          "Senegal",
          "Serbia",
          "Seychelles",
          "Sierra Leone",
          "Singapore",
          "Slovakia",
          "Slovenia",
          "Solomon Islands",
          "Somalia",
          "South Africa",
          "South Sudan",
          "Spain",
          "Sri Lanka",
          "Palestinian National Authority",
          "Sudan",
          "Suriname",
          "Sweden",
          "Switzerland",
          "Syria",
          "Tajikistan",
          "Thailand",
          "East Timor",
          "Togo",
          "Tokelau",
          "Tonga",
          "Trinidad and Tobago",
          "Tunisia",
          "Turkey",
          "Turkmenistan",
          "Turks and Caicos Islands",
          "Tuvalu",
          "Uganda",
          "Ukraine",
          "United Arab Emirates",
          "United Kingdom",
          "Tanzania",
          "United States",
          "Uruguay",
          "Uzbekistan",
          "Vanuatu",
          "Venezuela",
          "Vietnam",
          "Yemen",
          "Zambia",
          "Zimbabwe"
         ],
         "xaxis": "x",
         "y": [
          32,
          76,
          22,
          0,
          24,
          0,
          0,
          46,
          69,
          0,
          0,
          0,
          0,
          0,
          32,
          91,
          91,
          0,
          48,
          12,
          25,
          0,
          92,
          55,
          65,
          0,
          0,
          0,
          6,
          4,
          0,
          20,
          26,
          0,
          8,
          15,
          83,
          63,
          69,
          24,
          28,
          0,
          56,
          17,
          0,
          85,
          0,
          0,
          100,
          36,
          0,
          0,
          0,
          48,
          78,
          43,
          34,
          0,
          0,
          0,
          31,
          11,
          0,
          0,
          0,
          14,
          33,
          79,
          0,
          12,
          0,
          0,
          27,
          22,
          14,
          49,
          17,
          0,
          29,
          0,
          0,
          46,
          40,
          0,
          45,
          0,
          0,
          0,
          80,
          0,
          49,
          95,
          44,
          13,
          0,
          89,
          32,
          0,
          0,
          27,
          18,
          0,
          0,
          0,
          0,
          16,
          15,
          0,
          0,
          23,
          0,
          0,
          31,
          0,
          56,
          0,
          0,
          60,
          83,
          0,
          0,
          8,
          14,
          33,
          0,
          27,
          0,
          0,
          0,
          4,
          57,
          0,
          86,
          0,
          0,
          24,
          0,
          57,
          0,
          60,
          78,
          74,
          0,
          0,
          0,
          0,
          63,
          0,
          0,
          19,
          0,
          70,
          0,
          0,
          0,
          4,
          0,
          11,
          71,
          0,
          27,
          0,
          0,
          0,
          0,
          0,
          45,
          12,
          0,
          32,
          52,
          33,
          18,
          0,
          0,
          0,
          80,
          59,
          49,
          31,
          0,
          45,
          0,
          40,
          51,
          93,
          0,
          0,
          18,
          97,
          0,
          0,
          32,
          0,
          48,
          0,
          0,
          0,
          50,
          37,
          33,
          17
         ],
         "yaxis": "y",
         "type": "scattergl"
        },
        {
         "hovertemplate": "variable=Completion_Rate_Upper_Secondary_Female<br>Countries and areas=%{x}<br>value=%{y}<extra></extra>",
         "legendgroup": "Completion_Rate_Upper_Secondary_Female",
         "line": {
          "color": "#19d3f3",
          "dash": "solid"
         },
         "marker": {
          "symbol": "circle"
         },
         "mode": "lines",
         "name": "Completion_Rate_Upper_Secondary_Female",
         "showlegend": true,
         "x": [
          "Afghanistan",
          "Albania",
          "Algeria",
          "Andorra",
          "Angola",
          "Anguilla",
          "Antigua and Barbuda",
          "Argentina",
          "Armenia",
          "Australia",
          "Austria",
          "Azerbaijan",
          "The Bahamas",
          "Bahrain",
          "Bangladesh",
          "Barbados",
          "Belarus",
          "Belgium",
          "Belize",
          "Benin",
          "Bhutan",
          "Bolivia",
          "Bosnia and Herzegovina",
          "Botswana",
          "Brazil",
          "British Virgin Islands",
          "Brunei",
          "Bulgaria",
          "Burkina Faso",
          "Burundi",
          "Cape Verde",
          "Cambodia",
          "Cameroon",
          "Canada",
          "Central African Republic",
          "Chad",
          "Chile",
          "China",
          "Colombia",
          "Comoros",
          "Republic of the Congo",
          "Cook Islands",
          "Costa Rica",
          "Ivory Coast",
          "Croatia",
          "Cuba",
          "Cyprus",
          "Czech Republic",
          "North Korea",
          "Democratic Republic of the Congo",
          "Denmark",
          "Djibouti",
          "Dominica",
          "Dominican Republic",
          "Ecuador",
          "Egypt",
          "El Salvador",
          "Equatorial Guinea",
          "Eritrea",
          "Estonia",
          "Eswatini",
          "Ethiopia",
          "Fiji",
          "Finland",
          "France",
          "Gabon",
          "The Gambia",
          "Georgia",
          "Germany",
          "Ghana",
          "Greece",
          "Grenada",
          "Guatemala",
          "Guinea",
          "Guinea0Bissau",
          "Guyana",
          "Haiti",
          "Vatican City",
          "Honduras",
          "Hungary",
          "Iceland",
          "India",
          "Indonesia",
          "Iran",
          "Iraq",
          "Republic of Ireland",
          "Israel",
          "Italy",
          "Jamaica",
          "Japan",
          "Jordan",
          "Kazakhstan",
          "Kenya",
          "Kiribati",
          "Kuwait",
          "Kyrgyzstan",
          "Laos",
          "Latvia",
          "Lebanon",
          "Lesotho",
          "Liberia",
          "Libya",
          "Liechtenstein",
          "Lithuania",
          "Luxembourg",
          "Madagascar",
          "Malawi",
          "Malaysia",
          "Maldives",
          "Mali",
          "Malta",
          "Marshall Islands",
          "Mauritania",
          "Mauritius",
          "Mexico",
          "Federated States of Micronesia",
          "Monaco",
          "Mongolia",
          "Montenegro",
          "Montserrat",
          "Morocco",
          "Mozambique",
          "Myanmar",
          "Namibia",
          "Nauru",
          "Nepal",
          "Netherlands",
          "New Zealand",
          "Nicaragua",
          "Niger",
          "Nigeria",
          "Niue",
          "North Macedonia",
          "Norway",
          "Oman",
          "Pakistan",
          "Palau",
          "Panama",
          "Papua New Guinea",
          "Paraguay",
          "Peru",
          "Philippines",
          "Poland",
          "Portugal",
          "Qatar",
          "South Korea",
          "Moldova",
          "Romania",
          "Russia",
          "Rwanda",
          "Saint Kitts and Nevis",
          "Saint Lucia",
          "Saint Vincent and the Grenadines",
          "Samoa",
          "San Marino",
          "Sï¿½ï¿½ï¿½ï¿½ï¿½ï¿½ï¿½ï¿",
          "Saudi Arabia",
          "Senegal",
          "Serbia",
          "Seychelles",
          "Sierra Leone",
          "Singapore",
          "Slovakia",
          "Slovenia",
          "Solomon Islands",
          "Somalia",
          "South Africa",
          "South Sudan",
          "Spain",
          "Sri Lanka",
          "Palestinian National Authority",
          "Sudan",
          "Suriname",
          "Sweden",
          "Switzerland",
          "Syria",
          "Tajikistan",
          "Thailand",
          "East Timor",
          "Togo",
          "Tokelau",
          "Tonga",
          "Trinidad and Tobago",
          "Tunisia",
          "Turkey",
          "Turkmenistan",
          "Turks and Caicos Islands",
          "Tuvalu",
          "Uganda",
          "Ukraine",
          "United Arab Emirates",
          "United Kingdom",
          "Tanzania",
          "United States",
          "Uruguay",
          "Uzbekistan",
          "Vanuatu",
          "Venezuela",
          "Vietnam",
          "Yemen",
          "Zambia",
          "Zimbabwe"
         ],
         "xaxis": "x",
         "y": [
          14,
          80,
          37,
          0,
          15,
          0,
          0,
          53,
          79,
          0,
          0,
          0,
          0,
          0,
          27,
          97,
          94,
          0,
          51,
          5,
          18,
          0,
          92,
          66,
          75,
          0,
          0,
          0,
          2,
          3,
          0,
          20,
          21,
          0,
          6,
          6,
          88,
          67,
          78,
          32,
          19,
          0,
          60,
          15,
          0,
          86,
          0,
          0,
          100,
          27,
          0,
          0,
          0,
          66,
          79,
          41,
          36,
          0,
          0,
          0,
          33,
          14,
          0,
          0,
          0,
          14,
          28,
          83,
          0,
          9,
          0,
          0,
          25,
          13,
          8,
          64,
          16,
          0,
          35,
          0,
          0,
          40,
          37,
          0,
          43,
          0,
          0,
          0,
          83,
          0,
          63,
          96,
          38,
          20,
          0,
          85,
          31,
          0,
          0,
          37,
          9,
          0,
          0,
          0,
          0,
          15,
          13,
          0,
          0,
          12,
          0,
          0,
          23,
          0,
          60,
          0,
          0,
          73,
          90,
          0,
          0,
          5,
          19,
          39,
          0,
          28,
          0,
          0,
          0,
          1,
          44,
          0,
          79,
          0,
          0,
          23,
          0,
          68,
          0,
          67,
          72,
          83,
          0,
          0,
          0,
          0,
          71,
          0,
          0,
          16,
          0,
          90,
          0,
          0,
          0,
          8,
          0,
          10,
          81,
          0,
          18,
          0,
          0,
          0,
          0,
          0,
          52,
          4,
          0,
          43,
          73,
          28,
          26,
          0,
          0,
          0,
          63,
          72,
          55,
          12,
          0,
          56,
          0,
          57,
          44,
          95,
          0,
          0,
          15,
          97,
          0,
          0,
          27,
          0,
          29,
          0,
          0,
          0,
          61,
          23,
          27,
          14
         ],
         "yaxis": "y",
         "type": "scattergl"
        }
       ],
       "layout": {
        "template": {
         "data": {
          "histogram2dcontour": [
           {
            "type": "histogram2dcontour",
            "colorbar": {
             "outlinewidth": 0,
             "ticks": ""
            },
            "colorscale": [
             [
              0.0,
              "#0d0887"
             ],
             [
              0.1111111111111111,
              "#46039f"
             ],
             [
              0.2222222222222222,
              "#7201a8"
             ],
             [
              0.3333333333333333,
              "#9c179e"
             ],
             [
              0.4444444444444444,
              "#bd3786"
             ],
             [
              0.5555555555555556,
              "#d8576b"
             ],
             [
              0.6666666666666666,
              "#ed7953"
             ],
             [
              0.7777777777777778,
              "#fb9f3a"
             ],
             [
              0.8888888888888888,
              "#fdca26"
             ],
             [
              1.0,
              "#f0f921"
             ]
            ]
           }
          ],
          "choropleth": [
           {
            "type": "choropleth",
            "colorbar": {
             "outlinewidth": 0,
             "ticks": ""
            }
           }
          ],
          "histogram2d": [
           {
            "type": "histogram2d",
            "colorbar": {
             "outlinewidth": 0,
             "ticks": ""
            },
            "colorscale": [
             [
              0.0,
              "#0d0887"
             ],
             [
              0.1111111111111111,
              "#46039f"
             ],
             [
              0.2222222222222222,
              "#7201a8"
             ],
             [
              0.3333333333333333,
              "#9c179e"
             ],
             [
              0.4444444444444444,
              "#bd3786"
             ],
             [
              0.5555555555555556,
              "#d8576b"
             ],
             [
              0.6666666666666666,
              "#ed7953"
             ],
             [
              0.7777777777777778,
              "#fb9f3a"
             ],
             [
              0.8888888888888888,
              "#fdca26"
             ],
             [
              1.0,
              "#f0f921"
             ]
            ]
           }
          ],
          "heatmap": [
           {
            "type": "heatmap",
            "colorbar": {
             "outlinewidth": 0,
             "ticks": ""
            },
            "colorscale": [
             [
              0.0,
              "#0d0887"
             ],
             [
              0.1111111111111111,
              "#46039f"
             ],
             [
              0.2222222222222222,
              "#7201a8"
             ],
             [
              0.3333333333333333,
              "#9c179e"
             ],
             [
              0.4444444444444444,
              "#bd3786"
             ],
             [
              0.5555555555555556,
              "#d8576b"
             ],
             [
              0.6666666666666666,
              "#ed7953"
             ],
             [
              0.7777777777777778,
              "#fb9f3a"
             ],
             [
              0.8888888888888888,
              "#fdca26"
             ],
             [
              1.0,
              "#f0f921"
             ]
            ]
           }
          ],
          "heatmapgl": [
           {
            "type": "heatmapgl",
            "colorbar": {
             "outlinewidth": 0,
             "ticks": ""
            },
            "colorscale": [
             [
              0.0,
              "#0d0887"
             ],
             [
              0.1111111111111111,
              "#46039f"
             ],
             [
              0.2222222222222222,
              "#7201a8"
             ],
             [
              0.3333333333333333,
              "#9c179e"
             ],
             [
              0.4444444444444444,
              "#bd3786"
             ],
             [
              0.5555555555555556,
              "#d8576b"
             ],
             [
              0.6666666666666666,
              "#ed7953"
             ],
             [
              0.7777777777777778,
              "#fb9f3a"
             ],
             [
              0.8888888888888888,
              "#fdca26"
             ],
             [
              1.0,
              "#f0f921"
             ]
            ]
           }
          ],
          "contourcarpet": [
           {
            "type": "contourcarpet",
            "colorbar": {
             "outlinewidth": 0,
             "ticks": ""
            }
           }
          ],
          "contour": [
           {
            "type": "contour",
            "colorbar": {
             "outlinewidth": 0,
             "ticks": ""
            },
            "colorscale": [
             [
              0.0,
              "#0d0887"
             ],
             [
              0.1111111111111111,
              "#46039f"
             ],
             [
              0.2222222222222222,
              "#7201a8"
             ],
             [
              0.3333333333333333,
              "#9c179e"
             ],
             [
              0.4444444444444444,
              "#bd3786"
             ],
             [
              0.5555555555555556,
              "#d8576b"
             ],
             [
              0.6666666666666666,
              "#ed7953"
             ],
             [
              0.7777777777777778,
              "#fb9f3a"
             ],
             [
              0.8888888888888888,
              "#fdca26"
             ],
             [
              1.0,
              "#f0f921"
             ]
            ]
           }
          ],
          "surface": [
           {
            "type": "surface",
            "colorbar": {
             "outlinewidth": 0,
             "ticks": ""
            },
            "colorscale": [
             [
              0.0,
              "#0d0887"
             ],
             [
              0.1111111111111111,
              "#46039f"
             ],
             [
              0.2222222222222222,
              "#7201a8"
             ],
             [
              0.3333333333333333,
              "#9c179e"
             ],
             [
              0.4444444444444444,
              "#bd3786"
             ],
             [
              0.5555555555555556,
              "#d8576b"
             ],
             [
              0.6666666666666666,
              "#ed7953"
             ],
             [
              0.7777777777777778,
              "#fb9f3a"
             ],
             [
              0.8888888888888888,
              "#fdca26"
             ],
             [
              1.0,
              "#f0f921"
             ]
            ]
           }
          ],
          "mesh3d": [
           {
            "type": "mesh3d",
            "colorbar": {
             "outlinewidth": 0,
             "ticks": ""
            }
           }
          ],
          "scatter": [
           {
            "marker": {
             "line": {
              "color": "#283442"
             }
            },
            "type": "scatter"
           }
          ],
          "parcoords": [
           {
            "type": "parcoords",
            "line": {
             "colorbar": {
              "outlinewidth": 0,
              "ticks": ""
             }
            }
           }
          ],
          "scatterpolargl": [
           {
            "type": "scatterpolargl",
            "marker": {
             "colorbar": {
              "outlinewidth": 0,
              "ticks": ""
             }
            }
           }
          ],
          "bar": [
           {
            "error_x": {
             "color": "#f2f5fa"
            },
            "error_y": {
             "color": "#f2f5fa"
            },
            "marker": {
             "line": {
              "color": "rgb(17,17,17)",
              "width": 0.5
             },
             "pattern": {
              "fillmode": "overlay",
              "size": 10,
              "solidity": 0.2
             }
            },
            "type": "bar"
           }
          ],
          "scattergeo": [
           {
            "type": "scattergeo",
            "marker": {
             "colorbar": {
              "outlinewidth": 0,
              "ticks": ""
             }
            }
           }
          ],
          "scatterpolar": [
           {
            "type": "scatterpolar",
            "marker": {
             "colorbar": {
              "outlinewidth": 0,
              "ticks": ""
             }
            }
           }
          ],
          "histogram": [
           {
            "marker": {
             "pattern": {
              "fillmode": "overlay",
              "size": 10,
              "solidity": 0.2
             }
            },
            "type": "histogram"
           }
          ],
          "scattergl": [
           {
            "marker": {
             "line": {
              "color": "#283442"
             }
            },
            "type": "scattergl"
           }
          ],
          "scatter3d": [
           {
            "type": "scatter3d",
            "line": {
             "colorbar": {
              "outlinewidth": 0,
              "ticks": ""
             }
            },
            "marker": {
             "colorbar": {
              "outlinewidth": 0,
              "ticks": ""
             }
            }
           }
          ],
          "scattermapbox": [
           {
            "type": "scattermapbox",
            "marker": {
             "colorbar": {
              "outlinewidth": 0,
              "ticks": ""
             }
            }
           }
          ],
          "scatterternary": [
           {
            "type": "scatterternary",
            "marker": {
             "colorbar": {
              "outlinewidth": 0,
              "ticks": ""
             }
            }
           }
          ],
          "scattercarpet": [
           {
            "type": "scattercarpet",
            "marker": {
             "colorbar": {
              "outlinewidth": 0,
              "ticks": ""
             }
            }
           }
          ],
          "carpet": [
           {
            "aaxis": {
             "endlinecolor": "#A2B1C6",
             "gridcolor": "#506784",
             "linecolor": "#506784",
             "minorgridcolor": "#506784",
             "startlinecolor": "#A2B1C6"
            },
            "baxis": {
             "endlinecolor": "#A2B1C6",
             "gridcolor": "#506784",
             "linecolor": "#506784",
             "minorgridcolor": "#506784",
             "startlinecolor": "#A2B1C6"
            },
            "type": "carpet"
           }
          ],
          "table": [
           {
            "cells": {
             "fill": {
              "color": "#506784"
             },
             "line": {
              "color": "rgb(17,17,17)"
             }
            },
            "header": {
             "fill": {
              "color": "#2a3f5f"
             },
             "line": {
              "color": "rgb(17,17,17)"
             }
            },
            "type": "table"
           }
          ],
          "barpolar": [
           {
            "marker": {
             "line": {
              "color": "rgb(17,17,17)",
              "width": 0.5
             },
             "pattern": {
              "fillmode": "overlay",
              "size": 10,
              "solidity": 0.2
             }
            },
            "type": "barpolar"
           }
          ],
          "pie": [
           {
            "automargin": true,
            "type": "pie"
           }
          ]
         },
         "layout": {
          "autotypenumbers": "strict",
          "colorway": [
           "#636efa",
           "#EF553B",
           "#00cc96",
           "#ab63fa",
           "#FFA15A",
           "#19d3f3",
           "#FF6692",
           "#B6E880",
           "#FF97FF",
           "#FECB52"
          ],
          "font": {
           "color": "#f2f5fa"
          },
          "hovermode": "closest",
          "hoverlabel": {
           "align": "left"
          },
          "paper_bgcolor": "rgb(17,17,17)",
          "plot_bgcolor": "rgb(17,17,17)",
          "polar": {
           "bgcolor": "rgb(17,17,17)",
           "angularaxis": {
            "gridcolor": "#506784",
            "linecolor": "#506784",
            "ticks": ""
           },
           "radialaxis": {
            "gridcolor": "#506784",
            "linecolor": "#506784",
            "ticks": ""
           }
          },
          "ternary": {
           "bgcolor": "rgb(17,17,17)",
           "aaxis": {
            "gridcolor": "#506784",
            "linecolor": "#506784",
            "ticks": ""
           },
           "baxis": {
            "gridcolor": "#506784",
            "linecolor": "#506784",
            "ticks": ""
           },
           "caxis": {
            "gridcolor": "#506784",
            "linecolor": "#506784",
            "ticks": ""
           }
          },
          "coloraxis": {
           "colorbar": {
            "outlinewidth": 0,
            "ticks": ""
           }
          },
          "colorscale": {
           "sequential": [
            [
             0.0,
             "#0d0887"
            ],
            [
             0.1111111111111111,
             "#46039f"
            ],
            [
             0.2222222222222222,
             "#7201a8"
            ],
            [
             0.3333333333333333,
             "#9c179e"
            ],
            [
             0.4444444444444444,
             "#bd3786"
            ],
            [
             0.5555555555555556,
             "#d8576b"
            ],
            [
             0.6666666666666666,
             "#ed7953"
            ],
            [
             0.7777777777777778,
             "#fb9f3a"
            ],
            [
             0.8888888888888888,
             "#fdca26"
            ],
            [
             1.0,
             "#f0f921"
            ]
           ],
           "sequentialminus": [
            [
             0.0,
             "#0d0887"
            ],
            [
             0.1111111111111111,
             "#46039f"
            ],
            [
             0.2222222222222222,
             "#7201a8"
            ],
            [
             0.3333333333333333,
             "#9c179e"
            ],
            [
             0.4444444444444444,
             "#bd3786"
            ],
            [
             0.5555555555555556,
             "#d8576b"
            ],
            [
             0.6666666666666666,
             "#ed7953"
            ],
            [
             0.7777777777777778,
             "#fb9f3a"
            ],
            [
             0.8888888888888888,
             "#fdca26"
            ],
            [
             1.0,
             "#f0f921"
            ]
           ],
           "diverging": [
            [
             0,
             "#8e0152"
            ],
            [
             0.1,
             "#c51b7d"
            ],
            [
             0.2,
             "#de77ae"
            ],
            [
             0.3,
             "#f1b6da"
            ],
            [
             0.4,
             "#fde0ef"
            ],
            [
             0.5,
             "#f7f7f7"
            ],
            [
             0.6,
             "#e6f5d0"
            ],
            [
             0.7,
             "#b8e186"
            ],
            [
             0.8,
             "#7fbc41"
            ],
            [
             0.9,
             "#4d9221"
            ],
            [
             1,
             "#276419"
            ]
           ]
          },
          "xaxis": {
           "gridcolor": "#283442",
           "linecolor": "#506784",
           "ticks": "",
           "title": {
            "standoff": 15
           },
           "zerolinecolor": "#283442",
           "automargin": true,
           "zerolinewidth": 2
          },
          "yaxis": {
           "gridcolor": "#283442",
           "linecolor": "#506784",
           "ticks": "",
           "title": {
            "standoff": 15
           },
           "zerolinecolor": "#283442",
           "automargin": true,
           "zerolinewidth": 2
          },
          "scene": {
           "xaxis": {
            "backgroundcolor": "rgb(17,17,17)",
            "gridcolor": "#506784",
            "linecolor": "#506784",
            "showbackground": true,
            "ticks": "",
            "zerolinecolor": "#C8D4E3",
            "gridwidth": 2
           },
           "yaxis": {
            "backgroundcolor": "rgb(17,17,17)",
            "gridcolor": "#506784",
            "linecolor": "#506784",
            "showbackground": true,
            "ticks": "",
            "zerolinecolor": "#C8D4E3",
            "gridwidth": 2
           },
           "zaxis": {
            "backgroundcolor": "rgb(17,17,17)",
            "gridcolor": "#506784",
            "linecolor": "#506784",
            "showbackground": true,
            "ticks": "",
            "zerolinecolor": "#C8D4E3",
            "gridwidth": 2
           }
          },
          "shapedefaults": {
           "line": {
            "color": "#f2f5fa"
           }
          },
          "annotationdefaults": {
           "arrowcolor": "#f2f5fa",
           "arrowhead": 0,
           "arrowwidth": 1
          },
          "geo": {
           "bgcolor": "rgb(17,17,17)",
           "landcolor": "rgb(17,17,17)",
           "subunitcolor": "#506784",
           "showland": true,
           "showlakes": true,
           "lakecolor": "rgb(17,17,17)"
          },
          "title": {
           "x": 0.05
          },
          "updatemenudefaults": {
           "bgcolor": "#506784",
           "borderwidth": 0
          },
          "sliderdefaults": {
           "bgcolor": "#C8D4E3",
           "borderwidth": 1,
           "bordercolor": "rgb(17,17,17)",
           "tickwidth": 0
          },
          "mapbox": {
           "style": "dark"
          }
         }
        },
        "xaxis": {
         "anchor": "y",
         "domain": [
          0.0,
          1.0
         ],
         "title": {
          "text": "Countries and areas"
         },
         "tickangle": -45
        },
        "yaxis": {
         "anchor": "x",
         "domain": [
          0.0,
          1.0
         ],
         "title": {
          "text": "value"
         }
        },
        "legend": {
         "title": {
          "text": "variable"
         },
         "tracegroupgap": 0
        },
        "title": {
         "text": "Completion Rates Over Different Education Levels"
        }
       },
       "config": {
        "plotlyServerURL": "https://plot.ly"
       }
      },
      "text/html": "<div>                            <div id=\"996bc7ee-5edd-40d5-8ddc-9f88c2930019\" class=\"plotly-graph-div\" style=\"height:525px; width:100%;\"></div>            <script type=\"text/javascript\">                require([\"plotly\"], function(Plotly) {                    window.PLOTLYENV=window.PLOTLYENV || {};                                    if (document.getElementById(\"996bc7ee-5edd-40d5-8ddc-9f88c2930019\")) {                    Plotly.newPlot(                        \"996bc7ee-5edd-40d5-8ddc-9f88c2930019\",                        [{\"hovertemplate\":\"variable=Completion_Rate_Primary_Male\\u003cbr\\u003eCountries and areas=%{x}\\u003cbr\\u003evalue=%{y}\\u003cextra\\u003e\\u003c\\u002fextra\\u003e\",\"legendgroup\":\"Completion_Rate_Primary_Male\",\"line\":{\"color\":\"#636efa\",\"dash\":\"solid\"},\"marker\":{\"symbol\":\"circle\"},\"mode\":\"lines\",\"name\":\"Completion_Rate_Primary_Male\",\"showlegend\":true,\"x\":[\"Afghanistan\",\"Albania\",\"Algeria\",\"Andorra\",\"Angola\",\"Anguilla\",\"Antigua and Barbuda\",\"Argentina\",\"Armenia\",\"Australia\",\"Austria\",\"Azerbaijan\",\"The Bahamas\",\"Bahrain\",\"Bangladesh\",\"Barbados\",\"Belarus\",\"Belgium\",\"Belize\",\"Benin\",\"Bhutan\",\"Bolivia\",\"Bosnia and Herzegovina\",\"Botswana\",\"Brazil\",\"British Virgin Islands\",\"Brunei\",\"Bulgaria\",\"Burkina Faso\",\"Burundi\",\"Cape Verde\",\"Cambodia\",\"Cameroon\",\"Canada\",\"Central African Republic\",\"Chad\",\"Chile\",\"China\",\"Colombia\",\"Comoros\",\"Republic of the Congo\",\"Cook Islands\",\"Costa Rica\",\"Ivory Coast\",\"Croatia\",\"Cuba\",\"Cyprus\",\"Czech Republic\",\"North Korea\",\"Democratic Republic of the Congo\",\"Denmark\",\"Djibouti\",\"Dominica\",\"Dominican Republic\",\"Ecuador\",\"Egypt\",\"El Salvador\",\"Equatorial Guinea\",\"Eritrea\",\"Estonia\",\"Eswatini\",\"Ethiopia\",\"Fiji\",\"Finland\",\"France\",\"Gabon\",\"The Gambia\",\"Georgia\",\"Germany\",\"Ghana\",\"Greece\",\"Grenada\",\"Guatemala\",\"Guinea\",\"Guinea0Bissau\",\"Guyana\",\"Haiti\",\"Vatican City\",\"Honduras\",\"Hungary\",\"Iceland\",\"India\",\"Indonesia\",\"Iran\",\"Iraq\",\"Republic of Ireland\",\"Israel\",\"Italy\",\"Jamaica\",\"Japan\",\"Jordan\",\"Kazakhstan\",\"Kenya\",\"Kiribati\",\"Kuwait\",\"Kyrgyzstan\",\"Laos\",\"Latvia\",\"Lebanon\",\"Lesotho\",\"Liberia\",\"Libya\",\"Liechtenstein\",\"Lithuania\",\"Luxembourg\",\"Madagascar\",\"Malawi\",\"Malaysia\",\"Maldives\",\"Mali\",\"Malta\",\"Marshall Islands\",\"Mauritania\",\"Mauritius\",\"Mexico\",\"Federated States of Micronesia\",\"Monaco\",\"Mongolia\",\"Montenegro\",\"Montserrat\",\"Morocco\",\"Mozambique\",\"Myanmar\",\"Namibia\",\"Nauru\",\"Nepal\",\"Netherlands\",\"New Zealand\",\"Nicaragua\",\"Niger\",\"Nigeria\",\"Niue\",\"North Macedonia\",\"Norway\",\"Oman\",\"Pakistan\",\"Palau\",\"Panama\",\"Papua New Guinea\",\"Paraguay\",\"Peru\",\"Philippines\",\"Poland\",\"Portugal\",\"Qatar\",\"South Korea\",\"Moldova\",\"Romania\",\"Russia\",\"Rwanda\",\"Saint Kitts and Nevis\",\"Saint Lucia\",\"Saint Vincent and the Grenadines\",\"Samoa\",\"San Marino\",\"S\\u00ef\\u00bf\\u00bd\\u00ef\\u00bf\\u00bd\\u00ef\\u00bf\\u00bd\\u00ef\\u00bf\\u00bd\\u00ef\\u00bf\\u00bd\\u00ef\\u00bf\\u00bd\\u00ef\\u00bf\\u00bd\\u00ef\\u00bf\",\"Saudi Arabia\",\"Senegal\",\"Serbia\",\"Seychelles\",\"Sierra Leone\",\"Singapore\",\"Slovakia\",\"Slovenia\",\"Solomon Islands\",\"Somalia\",\"South Africa\",\"South Sudan\",\"Spain\",\"Sri Lanka\",\"Palestinian National Authority\",\"Sudan\",\"Suriname\",\"Sweden\",\"Switzerland\",\"Syria\",\"Tajikistan\",\"Thailand\",\"East Timor\",\"Togo\",\"Tokelau\",\"Tonga\",\"Trinidad and Tobago\",\"Tunisia\",\"Turkey\",\"Turkmenistan\",\"Turks and Caicos Islands\",\"Tuvalu\",\"Uganda\",\"Ukraine\",\"United Arab Emirates\",\"United Kingdom\",\"Tanzania\",\"United States\",\"Uruguay\",\"Uzbekistan\",\"Vanuatu\",\"Venezuela\",\"Vietnam\",\"Yemen\",\"Zambia\",\"Zimbabwe\"],\"xaxis\":\"x\",\"y\":[67,94,93,0,63,0,0,91,99,0,0,0,0,0,76,99,100,0,95,51,67,0,99,95,95,0,0,0,32,46,0,68,75,0,54,31,96,97,91,75,78,0,98,60,0,100,0,0,100,67,0,0,0,88,98,91,84,0,0,0,64,47,0,0,0,66,64,100,0,69,0,0,80,52,29,96,49,0,81,0,0,92,91,0,78,0,0,0,99,0,96,100,77,92,0,99,84,0,0,69,36,0,0,0,0,52,43,0,0,50,0,0,68,0,98,0,0,96,95,0,0,44,82,75,0,81,0,0,0,35,71,0,97,0,0,64,0,95,0,93,95,89,0,0,0,0,99,0,0,48,0,99,0,0,0,79,0,44,99,0,63,0,0,0,0,0,95,31,0,99,99,66,80,0,0,0,99,98,77,83,0,98,0,94,99,100,0,0,39,100,0,0,75,0,96,0,0,0,96,70,71,86],\"yaxis\":\"y\",\"type\":\"scattergl\"},{\"hovertemplate\":\"variable=Completion_Rate_Primary_Female\\u003cbr\\u003eCountries and areas=%{x}\\u003cbr\\u003evalue=%{y}\\u003cextra\\u003e\\u003c\\u002fextra\\u003e\",\"legendgroup\":\"Completion_Rate_Primary_Female\",\"line\":{\"color\":\"#EF553B\",\"dash\":\"solid\"},\"marker\":{\"symbol\":\"circle\"},\"mode\":\"lines\",\"name\":\"Completion_Rate_Primary_Female\",\"showlegend\":true,\"x\":[\"Afghanistan\",\"Albania\",\"Algeria\",\"Andorra\",\"Angola\",\"Anguilla\",\"Antigua and Barbuda\",\"Argentina\",\"Armenia\",\"Australia\",\"Austria\",\"Azerbaijan\",\"The Bahamas\",\"Bahrain\",\"Bangladesh\",\"Barbados\",\"Belarus\",\"Belgium\",\"Belize\",\"Benin\",\"Bhutan\",\"Bolivia\",\"Bosnia and Herzegovina\",\"Botswana\",\"Brazil\",\"British Virgin Islands\",\"Brunei\",\"Bulgaria\",\"Burkina Faso\",\"Burundi\",\"Cape Verde\",\"Cambodia\",\"Cameroon\",\"Canada\",\"Central African Republic\",\"Chad\",\"Chile\",\"China\",\"Colombia\",\"Comoros\",\"Republic of the Congo\",\"Cook Islands\",\"Costa Rica\",\"Ivory Coast\",\"Croatia\",\"Cuba\",\"Cyprus\",\"Czech Republic\",\"North Korea\",\"Democratic Republic of the Congo\",\"Denmark\",\"Djibouti\",\"Dominica\",\"Dominican Republic\",\"Ecuador\",\"Egypt\",\"El Salvador\",\"Equatorial Guinea\",\"Eritrea\",\"Estonia\",\"Eswatini\",\"Ethiopia\",\"Fiji\",\"Finland\",\"France\",\"Gabon\",\"The Gambia\",\"Georgia\",\"Germany\",\"Ghana\",\"Greece\",\"Grenada\",\"Guatemala\",\"Guinea\",\"Guinea0Bissau\",\"Guyana\",\"Haiti\",\"Vatican City\",\"Honduras\",\"Hungary\",\"Iceland\",\"India\",\"Indonesia\",\"Iran\",\"Iraq\",\"Republic of Ireland\",\"Israel\",\"Italy\",\"Jamaica\",\"Japan\",\"Jordan\",\"Kazakhstan\",\"Kenya\",\"Kiribati\",\"Kuwait\",\"Kyrgyzstan\",\"Laos\",\"Latvia\",\"Lebanon\",\"Lesotho\",\"Liberia\",\"Libya\",\"Liechtenstein\",\"Lithuania\",\"Luxembourg\",\"Madagascar\",\"Malawi\",\"Malaysia\",\"Maldives\",\"Mali\",\"Malta\",\"Marshall Islands\",\"Mauritania\",\"Mauritius\",\"Mexico\",\"Federated States of Micronesia\",\"Monaco\",\"Mongolia\",\"Montenegro\",\"Montserrat\",\"Morocco\",\"Mozambique\",\"Myanmar\",\"Namibia\",\"Nauru\",\"Nepal\",\"Netherlands\",\"New Zealand\",\"Nicaragua\",\"Niger\",\"Nigeria\",\"Niue\",\"North Macedonia\",\"Norway\",\"Oman\",\"Pakistan\",\"Palau\",\"Panama\",\"Papua New Guinea\",\"Paraguay\",\"Peru\",\"Philippines\",\"Poland\",\"Portugal\",\"Qatar\",\"South Korea\",\"Moldova\",\"Romania\",\"Russia\",\"Rwanda\",\"Saint Kitts and Nevis\",\"Saint Lucia\",\"Saint Vincent and the Grenadines\",\"Samoa\",\"San Marino\",\"S\\u00ef\\u00bf\\u00bd\\u00ef\\u00bf\\u00bd\\u00ef\\u00bf\\u00bd\\u00ef\\u00bf\\u00bd\\u00ef\\u00bf\\u00bd\\u00ef\\u00bf\\u00bd\\u00ef\\u00bf\\u00bd\\u00ef\\u00bf\",\"Saudi Arabia\",\"Senegal\",\"Serbia\",\"Seychelles\",\"Sierra Leone\",\"Singapore\",\"Slovakia\",\"Slovenia\",\"Solomon Islands\",\"Somalia\",\"South Africa\",\"South Sudan\",\"Spain\",\"Sri Lanka\",\"Palestinian National Authority\",\"Sudan\",\"Suriname\",\"Sweden\",\"Switzerland\",\"Syria\",\"Tajikistan\",\"Thailand\",\"East Timor\",\"Togo\",\"Tokelau\",\"Tonga\",\"Trinidad and Tobago\",\"Tunisia\",\"Turkey\",\"Turkmenistan\",\"Turks and Caicos Islands\",\"Tuvalu\",\"Uganda\",\"Ukraine\",\"United Arab Emirates\",\"United Kingdom\",\"Tanzania\",\"United States\",\"Uruguay\",\"Uzbekistan\",\"Vanuatu\",\"Venezuela\",\"Vietnam\",\"Yemen\",\"Zambia\",\"Zimbabwe\"],\"xaxis\":\"x\",\"y\":[40,96,93,0,57,0,0,94,99,0,0,0,0,0,89,99,100,0,96,44,71,0,100,98,97,0,0,0,29,54,0,79,74,0,33,24,97,97,95,77,82,0,99,53,0,98,0,0,100,66,0,0,0,94,98,92,89,0,0,0,77,48,0,0,0,75,60,100,0,73,0,0,76,39,25,99,58,0,87,0,0,91,92,0,73,0,0,0,100,0,97,100,82,96,0,100,83,0,0,92,33,0,0,0,0,60,52,0,0,41,0,0,58,0,98,0,0,98,98,0,0,39,84,86,0,83,0,0,0,24,71,0,100,0,0,55,0,96,0,96,95,95,0,0,0,0,99,0,0,61,0,99,0,0,0,86,0,50,100,0,65,0,0,0,0,0,98,18,0,99,100,64,90,0,0,0,98,99,85,76,0,99,0,97,98,100,0,0,43,99,0,0,84,0,98,0,0,0,97,55,73,92],\"yaxis\":\"y\",\"type\":\"scattergl\"},{\"hovertemplate\":\"variable=Completion_Rate_Lower_Secondary_Male\\u003cbr\\u003eCountries and areas=%{x}\\u003cbr\\u003evalue=%{y}\\u003cextra\\u003e\\u003c\\u002fextra\\u003e\",\"legendgroup\":\"Completion_Rate_Lower_Secondary_Male\",\"line\":{\"color\":\"#00cc96\",\"dash\":\"solid\"},\"marker\":{\"symbol\":\"circle\"},\"mode\":\"lines\",\"name\":\"Completion_Rate_Lower_Secondary_Male\",\"showlegend\":true,\"x\":[\"Afghanistan\",\"Albania\",\"Algeria\",\"Andorra\",\"Angola\",\"Anguilla\",\"Antigua and Barbuda\",\"Argentina\",\"Armenia\",\"Australia\",\"Austria\",\"Azerbaijan\",\"The Bahamas\",\"Bahrain\",\"Bangladesh\",\"Barbados\",\"Belarus\",\"Belgium\",\"Belize\",\"Benin\",\"Bhutan\",\"Bolivia\",\"Bosnia and Herzegovina\",\"Botswana\",\"Brazil\",\"British Virgin Islands\",\"Brunei\",\"Bulgaria\",\"Burkina Faso\",\"Burundi\",\"Cape Verde\",\"Cambodia\",\"Cameroon\",\"Canada\",\"Central African Republic\",\"Chad\",\"Chile\",\"China\",\"Colombia\",\"Comoros\",\"Republic of the Congo\",\"Cook Islands\",\"Costa Rica\",\"Ivory Coast\",\"Croatia\",\"Cuba\",\"Cyprus\",\"Czech Republic\",\"North Korea\",\"Democratic Republic of the Congo\",\"Denmark\",\"Djibouti\",\"Dominica\",\"Dominican Republic\",\"Ecuador\",\"Egypt\",\"El Salvador\",\"Equatorial Guinea\",\"Eritrea\",\"Estonia\",\"Eswatini\",\"Ethiopia\",\"Fiji\",\"Finland\",\"France\",\"Gabon\",\"The Gambia\",\"Georgia\",\"Germany\",\"Ghana\",\"Greece\",\"Grenada\",\"Guatemala\",\"Guinea\",\"Guinea0Bissau\",\"Guyana\",\"Haiti\",\"Vatican City\",\"Honduras\",\"Hungary\",\"Iceland\",\"India\",\"Indonesia\",\"Iran\",\"Iraq\",\"Republic of Ireland\",\"Israel\",\"Italy\",\"Jamaica\",\"Japan\",\"Jordan\",\"Kazakhstan\",\"Kenya\",\"Kiribati\",\"Kuwait\",\"Kyrgyzstan\",\"Laos\",\"Latvia\",\"Lebanon\",\"Lesotho\",\"Liberia\",\"Libya\",\"Liechtenstein\",\"Lithuania\",\"Luxembourg\",\"Madagascar\",\"Malawi\",\"Malaysia\",\"Maldives\",\"Mali\",\"Malta\",\"Marshall Islands\",\"Mauritania\",\"Mauritius\",\"Mexico\",\"Federated States of Micronesia\",\"Monaco\",\"Mongolia\",\"Montenegro\",\"Montserrat\",\"Morocco\",\"Mozambique\",\"Myanmar\",\"Namibia\",\"Nauru\",\"Nepal\",\"Netherlands\",\"New Zealand\",\"Nicaragua\",\"Niger\",\"Nigeria\",\"Niue\",\"North Macedonia\",\"Norway\",\"Oman\",\"Pakistan\",\"Palau\",\"Panama\",\"Papua New Guinea\",\"Paraguay\",\"Peru\",\"Philippines\",\"Poland\",\"Portugal\",\"Qatar\",\"South Korea\",\"Moldova\",\"Romania\",\"Russia\",\"Rwanda\",\"Saint Kitts and Nevis\",\"Saint Lucia\",\"Saint Vincent and the Grenadines\",\"Samoa\",\"San Marino\",\"S\\u00ef\\u00bf\\u00bd\\u00ef\\u00bf\\u00bd\\u00ef\\u00bf\\u00bd\\u00ef\\u00bf\\u00bd\\u00ef\\u00bf\\u00bd\\u00ef\\u00bf\\u00bd\\u00ef\\u00bf\\u00bd\\u00ef\\u00bf\",\"Saudi Arabia\",\"Senegal\",\"Serbia\",\"Seychelles\",\"Sierra Leone\",\"Singapore\",\"Slovakia\",\"Slovenia\",\"Solomon Islands\",\"Somalia\",\"South Africa\",\"South Sudan\",\"Spain\",\"Sri Lanka\",\"Palestinian National Authority\",\"Sudan\",\"Suriname\",\"Sweden\",\"Switzerland\",\"Syria\",\"Tajikistan\",\"Thailand\",\"East Timor\",\"Togo\",\"Tokelau\",\"Tonga\",\"Trinidad and Tobago\",\"Tunisia\",\"Turkey\",\"Turkmenistan\",\"Turks and Caicos Islands\",\"Tuvalu\",\"Uganda\",\"Ukraine\",\"United Arab Emirates\",\"United Kingdom\",\"Tanzania\",\"United States\",\"Uruguay\",\"Uzbekistan\",\"Vanuatu\",\"Venezuela\",\"Vietnam\",\"Yemen\",\"Zambia\",\"Zimbabwe\"],\"xaxis\":\"x\",\"y\":[49,98,49,0,42,0,0,70,95,0,0,0,0,0,59,98,100,0,55,25,41,0,97,92,81,0,0,0,13,26,0,41,52,0,16,18,94,93,74,47,56,0,70,36,0,95,0,0,100,58,0,0,0,76,89,79,73,0,0,0,47,19,0,0,0,32,50,98,0,45,0,0,52,33,18,80,32,0,46,0,0,82,64,0,46,0,0,0,97,0,86,100,61,69,0,99,54,0,0,33,29,0,0,0,0,26,23,0,0,36,0,0,53,0,87,0,0,87,93,0,0,15,45,48,0,71,0,0,0,10,66,0,93,0,0,55,0,75,0,81,83,75,0,0,0,0,95,0,0,25,0,85,0,0,0,32,0,27,99,0,47,0,0,0,0,0,85,22,0,94,80,49,41,0,0,0,95,81,63,55,0,65,0,68,96,99,0,0,27,100,0,0,31,0,66,0,0,0,81,55,54,45],\"yaxis\":\"y\",\"type\":\"scattergl\"},{\"hovertemplate\":\"variable=Completion_Rate_Lower_Secondary_Female\\u003cbr\\u003eCountries and areas=%{x}\\u003cbr\\u003evalue=%{y}\\u003cextra\\u003e\\u003c\\u002fextra\\u003e\",\"legendgroup\":\"Completion_Rate_Lower_Secondary_Female\",\"line\":{\"color\":\"#ab63fa\",\"dash\":\"solid\"},\"marker\":{\"symbol\":\"circle\"},\"mode\":\"lines\",\"name\":\"Completion_Rate_Lower_Secondary_Female\",\"showlegend\":true,\"x\":[\"Afghanistan\",\"Albania\",\"Algeria\",\"Andorra\",\"Angola\",\"Anguilla\",\"Antigua and Barbuda\",\"Argentina\",\"Armenia\",\"Australia\",\"Austria\",\"Azerbaijan\",\"The Bahamas\",\"Bahrain\",\"Bangladesh\",\"Barbados\",\"Belarus\",\"Belgium\",\"Belize\",\"Benin\",\"Bhutan\",\"Bolivia\",\"Bosnia and Herzegovina\",\"Botswana\",\"Brazil\",\"British Virgin Islands\",\"Brunei\",\"Bulgaria\",\"Burkina Faso\",\"Burundi\",\"Cape Verde\",\"Cambodia\",\"Cameroon\",\"Canada\",\"Central African Republic\",\"Chad\",\"Chile\",\"China\",\"Colombia\",\"Comoros\",\"Republic of the Congo\",\"Cook Islands\",\"Costa Rica\",\"Ivory Coast\",\"Croatia\",\"Cuba\",\"Cyprus\",\"Czech Republic\",\"North Korea\",\"Democratic Republic of the Congo\",\"Denmark\",\"Djibouti\",\"Dominica\",\"Dominican Republic\",\"Ecuador\",\"Egypt\",\"El Salvador\",\"Equatorial Guinea\",\"Eritrea\",\"Estonia\",\"Eswatini\",\"Ethiopia\",\"Fiji\",\"Finland\",\"France\",\"Gabon\",\"The Gambia\",\"Georgia\",\"Germany\",\"Ghana\",\"Greece\",\"Grenada\",\"Guatemala\",\"Guinea\",\"Guinea0Bissau\",\"Guyana\",\"Haiti\",\"Vatican City\",\"Honduras\",\"Hungary\",\"Iceland\",\"India\",\"Indonesia\",\"Iran\",\"Iraq\",\"Republic of Ireland\",\"Israel\",\"Italy\",\"Jamaica\",\"Japan\",\"Jordan\",\"Kazakhstan\",\"Kenya\",\"Kiribati\",\"Kuwait\",\"Kyrgyzstan\",\"Laos\",\"Latvia\",\"Lebanon\",\"Lesotho\",\"Liberia\",\"Libya\",\"Liechtenstein\",\"Lithuania\",\"Luxembourg\",\"Madagascar\",\"Malawi\",\"Malaysia\",\"Maldives\",\"Mali\",\"Malta\",\"Marshall Islands\",\"Mauritania\",\"Mauritius\",\"Mexico\",\"Federated States of Micronesia\",\"Monaco\",\"Mongolia\",\"Montenegro\",\"Montserrat\",\"Morocco\",\"Mozambique\",\"Myanmar\",\"Namibia\",\"Nauru\",\"Nepal\",\"Netherlands\",\"New Zealand\",\"Nicaragua\",\"Niger\",\"Nigeria\",\"Niue\",\"North Macedonia\",\"Norway\",\"Oman\",\"Pakistan\",\"Palau\",\"Panama\",\"Papua New Guinea\",\"Paraguay\",\"Peru\",\"Philippines\",\"Poland\",\"Portugal\",\"Qatar\",\"South Korea\",\"Moldova\",\"Romania\",\"Russia\",\"Rwanda\",\"Saint Kitts and Nevis\",\"Saint Lucia\",\"Saint Vincent and the Grenadines\",\"Samoa\",\"San Marino\",\"S\\u00ef\\u00bf\\u00bd\\u00ef\\u00bf\\u00bd\\u00ef\\u00bf\\u00bd\\u00ef\\u00bf\\u00bd\\u00ef\\u00bf\\u00bd\\u00ef\\u00bf\\u00bd\\u00ef\\u00bf\\u00bd\\u00ef\\u00bf\",\"Saudi Arabia\",\"Senegal\",\"Serbia\",\"Seychelles\",\"Sierra Leone\",\"Singapore\",\"Slovakia\",\"Slovenia\",\"Solomon Islands\",\"Somalia\",\"South Africa\",\"South Sudan\",\"Spain\",\"Sri Lanka\",\"Palestinian National Authority\",\"Sudan\",\"Suriname\",\"Sweden\",\"Switzerland\",\"Syria\",\"Tajikistan\",\"Thailand\",\"East Timor\",\"Togo\",\"Tokelau\",\"Tonga\",\"Trinidad and Tobago\",\"Tunisia\",\"Turkey\",\"Turkmenistan\",\"Turks and Caicos Islands\",\"Tuvalu\",\"Uganda\",\"Ukraine\",\"United Arab Emirates\",\"United Kingdom\",\"Tanzania\",\"United States\",\"Uruguay\",\"Uzbekistan\",\"Vanuatu\",\"Venezuela\",\"Vietnam\",\"Yemen\",\"Zambia\",\"Zimbabwe\"],\"xaxis\":\"x\",\"y\":[26,97,65,0,32,0,0,79,99,0,0,0,0,0,71,98,100,0,66,13,38,0,97,92,89,0,0,0,6,19,0,39,43,0,8,10,97,93,81,45,45,0,76,22,0,98,0,0,100,52,0,0,0,89,92,81,74,0,0,0,54,22,0,0,0,33,48,98,0,50,0,0,45,20,16,88,38,0,52,0,0,79,59,0,47,0,0,0,97,0,88,100,69,88,0,99,53,0,0,55,23,0,0,0,0,27,21,0,0,25,0,0,40,0,90,0,0,93,97,0,0,11,45,62,0,75,0,0,0,4,59,0,95,0,0,45,0,81,0,79,83,88,0,0,0,0,98,0,0,30,0,98,0,0,0,36,0,30,99,0,42,0,0,0,0,0,91,10,0,96,93,52,58,0,0,0,93,92,70,39,0,76,0,80,92,100,0,0,23,100,0,0,27,0,73,0,0,0,87,39,50,53],\"yaxis\":\"y\",\"type\":\"scattergl\"},{\"hovertemplate\":\"variable=Completion_Rate_Upper_Secondary_Male\\u003cbr\\u003eCountries and areas=%{x}\\u003cbr\\u003evalue=%{y}\\u003cextra\\u003e\\u003c\\u002fextra\\u003e\",\"legendgroup\":\"Completion_Rate_Upper_Secondary_Male\",\"line\":{\"color\":\"#FFA15A\",\"dash\":\"solid\"},\"marker\":{\"symbol\":\"circle\"},\"mode\":\"lines\",\"name\":\"Completion_Rate_Upper_Secondary_Male\",\"showlegend\":true,\"x\":[\"Afghanistan\",\"Albania\",\"Algeria\",\"Andorra\",\"Angola\",\"Anguilla\",\"Antigua and Barbuda\",\"Argentina\",\"Armenia\",\"Australia\",\"Austria\",\"Azerbaijan\",\"The Bahamas\",\"Bahrain\",\"Bangladesh\",\"Barbados\",\"Belarus\",\"Belgium\",\"Belize\",\"Benin\",\"Bhutan\",\"Bolivia\",\"Bosnia and Herzegovina\",\"Botswana\",\"Brazil\",\"British Virgin Islands\",\"Brunei\",\"Bulgaria\",\"Burkina Faso\",\"Burundi\",\"Cape Verde\",\"Cambodia\",\"Cameroon\",\"Canada\",\"Central African Republic\",\"Chad\",\"Chile\",\"China\",\"Colombia\",\"Comoros\",\"Republic of the Congo\",\"Cook Islands\",\"Costa Rica\",\"Ivory Coast\",\"Croatia\",\"Cuba\",\"Cyprus\",\"Czech Republic\",\"North Korea\",\"Democratic Republic of the Congo\",\"Denmark\",\"Djibouti\",\"Dominica\",\"Dominican Republic\",\"Ecuador\",\"Egypt\",\"El Salvador\",\"Equatorial Guinea\",\"Eritrea\",\"Estonia\",\"Eswatini\",\"Ethiopia\",\"Fiji\",\"Finland\",\"France\",\"Gabon\",\"The Gambia\",\"Georgia\",\"Germany\",\"Ghana\",\"Greece\",\"Grenada\",\"Guatemala\",\"Guinea\",\"Guinea0Bissau\",\"Guyana\",\"Haiti\",\"Vatican City\",\"Honduras\",\"Hungary\",\"Iceland\",\"India\",\"Indonesia\",\"Iran\",\"Iraq\",\"Republic of Ireland\",\"Israel\",\"Italy\",\"Jamaica\",\"Japan\",\"Jordan\",\"Kazakhstan\",\"Kenya\",\"Kiribati\",\"Kuwait\",\"Kyrgyzstan\",\"Laos\",\"Latvia\",\"Lebanon\",\"Lesotho\",\"Liberia\",\"Libya\",\"Liechtenstein\",\"Lithuania\",\"Luxembourg\",\"Madagascar\",\"Malawi\",\"Malaysia\",\"Maldives\",\"Mali\",\"Malta\",\"Marshall Islands\",\"Mauritania\",\"Mauritius\",\"Mexico\",\"Federated States of Micronesia\",\"Monaco\",\"Mongolia\",\"Montenegro\",\"Montserrat\",\"Morocco\",\"Mozambique\",\"Myanmar\",\"Namibia\",\"Nauru\",\"Nepal\",\"Netherlands\",\"New Zealand\",\"Nicaragua\",\"Niger\",\"Nigeria\",\"Niue\",\"North Macedonia\",\"Norway\",\"Oman\",\"Pakistan\",\"Palau\",\"Panama\",\"Papua New Guinea\",\"Paraguay\",\"Peru\",\"Philippines\",\"Poland\",\"Portugal\",\"Qatar\",\"South Korea\",\"Moldova\",\"Romania\",\"Russia\",\"Rwanda\",\"Saint Kitts and Nevis\",\"Saint Lucia\",\"Saint Vincent and the Grenadines\",\"Samoa\",\"San Marino\",\"S\\u00ef\\u00bf\\u00bd\\u00ef\\u00bf\\u00bd\\u00ef\\u00bf\\u00bd\\u00ef\\u00bf\\u00bd\\u00ef\\u00bf\\u00bd\\u00ef\\u00bf\\u00bd\\u00ef\\u00bf\\u00bd\\u00ef\\u00bf\",\"Saudi Arabia\",\"Senegal\",\"Serbia\",\"Seychelles\",\"Sierra Leone\",\"Singapore\",\"Slovakia\",\"Slovenia\",\"Solomon Islands\",\"Somalia\",\"South Africa\",\"South Sudan\",\"Spain\",\"Sri Lanka\",\"Palestinian National Authority\",\"Sudan\",\"Suriname\",\"Sweden\",\"Switzerland\",\"Syria\",\"Tajikistan\",\"Thailand\",\"East Timor\",\"Togo\",\"Tokelau\",\"Tonga\",\"Trinidad and Tobago\",\"Tunisia\",\"Turkey\",\"Turkmenistan\",\"Turks and Caicos Islands\",\"Tuvalu\",\"Uganda\",\"Ukraine\",\"United Arab Emirates\",\"United Kingdom\",\"Tanzania\",\"United States\",\"Uruguay\",\"Uzbekistan\",\"Vanuatu\",\"Venezuela\",\"Vietnam\",\"Yemen\",\"Zambia\",\"Zimbabwe\"],\"xaxis\":\"x\",\"y\":[32,76,22,0,24,0,0,46,69,0,0,0,0,0,32,91,91,0,48,12,25,0,92,55,65,0,0,0,6,4,0,20,26,0,8,15,83,63,69,24,28,0,56,17,0,85,0,0,100,36,0,0,0,48,78,43,34,0,0,0,31,11,0,0,0,14,33,79,0,12,0,0,27,22,14,49,17,0,29,0,0,46,40,0,45,0,0,0,80,0,49,95,44,13,0,89,32,0,0,27,18,0,0,0,0,16,15,0,0,23,0,0,31,0,56,0,0,60,83,0,0,8,14,33,0,27,0,0,0,4,57,0,86,0,0,24,0,57,0,60,78,74,0,0,0,0,63,0,0,19,0,70,0,0,0,4,0,11,71,0,27,0,0,0,0,0,45,12,0,32,52,33,18,0,0,0,80,59,49,31,0,45,0,40,51,93,0,0,18,97,0,0,32,0,48,0,0,0,50,37,33,17],\"yaxis\":\"y\",\"type\":\"scattergl\"},{\"hovertemplate\":\"variable=Completion_Rate_Upper_Secondary_Female\\u003cbr\\u003eCountries and areas=%{x}\\u003cbr\\u003evalue=%{y}\\u003cextra\\u003e\\u003c\\u002fextra\\u003e\",\"legendgroup\":\"Completion_Rate_Upper_Secondary_Female\",\"line\":{\"color\":\"#19d3f3\",\"dash\":\"solid\"},\"marker\":{\"symbol\":\"circle\"},\"mode\":\"lines\",\"name\":\"Completion_Rate_Upper_Secondary_Female\",\"showlegend\":true,\"x\":[\"Afghanistan\",\"Albania\",\"Algeria\",\"Andorra\",\"Angola\",\"Anguilla\",\"Antigua and Barbuda\",\"Argentina\",\"Armenia\",\"Australia\",\"Austria\",\"Azerbaijan\",\"The Bahamas\",\"Bahrain\",\"Bangladesh\",\"Barbados\",\"Belarus\",\"Belgium\",\"Belize\",\"Benin\",\"Bhutan\",\"Bolivia\",\"Bosnia and Herzegovina\",\"Botswana\",\"Brazil\",\"British Virgin Islands\",\"Brunei\",\"Bulgaria\",\"Burkina Faso\",\"Burundi\",\"Cape Verde\",\"Cambodia\",\"Cameroon\",\"Canada\",\"Central African Republic\",\"Chad\",\"Chile\",\"China\",\"Colombia\",\"Comoros\",\"Republic of the Congo\",\"Cook Islands\",\"Costa Rica\",\"Ivory Coast\",\"Croatia\",\"Cuba\",\"Cyprus\",\"Czech Republic\",\"North Korea\",\"Democratic Republic of the Congo\",\"Denmark\",\"Djibouti\",\"Dominica\",\"Dominican Republic\",\"Ecuador\",\"Egypt\",\"El Salvador\",\"Equatorial Guinea\",\"Eritrea\",\"Estonia\",\"Eswatini\",\"Ethiopia\",\"Fiji\",\"Finland\",\"France\",\"Gabon\",\"The Gambia\",\"Georgia\",\"Germany\",\"Ghana\",\"Greece\",\"Grenada\",\"Guatemala\",\"Guinea\",\"Guinea0Bissau\",\"Guyana\",\"Haiti\",\"Vatican City\",\"Honduras\",\"Hungary\",\"Iceland\",\"India\",\"Indonesia\",\"Iran\",\"Iraq\",\"Republic of Ireland\",\"Israel\",\"Italy\",\"Jamaica\",\"Japan\",\"Jordan\",\"Kazakhstan\",\"Kenya\",\"Kiribati\",\"Kuwait\",\"Kyrgyzstan\",\"Laos\",\"Latvia\",\"Lebanon\",\"Lesotho\",\"Liberia\",\"Libya\",\"Liechtenstein\",\"Lithuania\",\"Luxembourg\",\"Madagascar\",\"Malawi\",\"Malaysia\",\"Maldives\",\"Mali\",\"Malta\",\"Marshall Islands\",\"Mauritania\",\"Mauritius\",\"Mexico\",\"Federated States of Micronesia\",\"Monaco\",\"Mongolia\",\"Montenegro\",\"Montserrat\",\"Morocco\",\"Mozambique\",\"Myanmar\",\"Namibia\",\"Nauru\",\"Nepal\",\"Netherlands\",\"New Zealand\",\"Nicaragua\",\"Niger\",\"Nigeria\",\"Niue\",\"North Macedonia\",\"Norway\",\"Oman\",\"Pakistan\",\"Palau\",\"Panama\",\"Papua New Guinea\",\"Paraguay\",\"Peru\",\"Philippines\",\"Poland\",\"Portugal\",\"Qatar\",\"South Korea\",\"Moldova\",\"Romania\",\"Russia\",\"Rwanda\",\"Saint Kitts and Nevis\",\"Saint Lucia\",\"Saint Vincent and the Grenadines\",\"Samoa\",\"San Marino\",\"S\\u00ef\\u00bf\\u00bd\\u00ef\\u00bf\\u00bd\\u00ef\\u00bf\\u00bd\\u00ef\\u00bf\\u00bd\\u00ef\\u00bf\\u00bd\\u00ef\\u00bf\\u00bd\\u00ef\\u00bf\\u00bd\\u00ef\\u00bf\",\"Saudi Arabia\",\"Senegal\",\"Serbia\",\"Seychelles\",\"Sierra Leone\",\"Singapore\",\"Slovakia\",\"Slovenia\",\"Solomon Islands\",\"Somalia\",\"South Africa\",\"South Sudan\",\"Spain\",\"Sri Lanka\",\"Palestinian National Authority\",\"Sudan\",\"Suriname\",\"Sweden\",\"Switzerland\",\"Syria\",\"Tajikistan\",\"Thailand\",\"East Timor\",\"Togo\",\"Tokelau\",\"Tonga\",\"Trinidad and Tobago\",\"Tunisia\",\"Turkey\",\"Turkmenistan\",\"Turks and Caicos Islands\",\"Tuvalu\",\"Uganda\",\"Ukraine\",\"United Arab Emirates\",\"United Kingdom\",\"Tanzania\",\"United States\",\"Uruguay\",\"Uzbekistan\",\"Vanuatu\",\"Venezuela\",\"Vietnam\",\"Yemen\",\"Zambia\",\"Zimbabwe\"],\"xaxis\":\"x\",\"y\":[14,80,37,0,15,0,0,53,79,0,0,0,0,0,27,97,94,0,51,5,18,0,92,66,75,0,0,0,2,3,0,20,21,0,6,6,88,67,78,32,19,0,60,15,0,86,0,0,100,27,0,0,0,66,79,41,36,0,0,0,33,14,0,0,0,14,28,83,0,9,0,0,25,13,8,64,16,0,35,0,0,40,37,0,43,0,0,0,83,0,63,96,38,20,0,85,31,0,0,37,9,0,0,0,0,15,13,0,0,12,0,0,23,0,60,0,0,73,90,0,0,5,19,39,0,28,0,0,0,1,44,0,79,0,0,23,0,68,0,67,72,83,0,0,0,0,71,0,0,16,0,90,0,0,0,8,0,10,81,0,18,0,0,0,0,0,52,4,0,43,73,28,26,0,0,0,63,72,55,12,0,56,0,57,44,95,0,0,15,97,0,0,27,0,29,0,0,0,61,23,27,14],\"yaxis\":\"y\",\"type\":\"scattergl\"}],                        {\"template\":{\"data\":{\"histogram2dcontour\":[{\"type\":\"histogram2dcontour\",\"colorbar\":{\"outlinewidth\":0,\"ticks\":\"\"},\"colorscale\":[[0.0,\"#0d0887\"],[0.1111111111111111,\"#46039f\"],[0.2222222222222222,\"#7201a8\"],[0.3333333333333333,\"#9c179e\"],[0.4444444444444444,\"#bd3786\"],[0.5555555555555556,\"#d8576b\"],[0.6666666666666666,\"#ed7953\"],[0.7777777777777778,\"#fb9f3a\"],[0.8888888888888888,\"#fdca26\"],[1.0,\"#f0f921\"]]}],\"choropleth\":[{\"type\":\"choropleth\",\"colorbar\":{\"outlinewidth\":0,\"ticks\":\"\"}}],\"histogram2d\":[{\"type\":\"histogram2d\",\"colorbar\":{\"outlinewidth\":0,\"ticks\":\"\"},\"colorscale\":[[0.0,\"#0d0887\"],[0.1111111111111111,\"#46039f\"],[0.2222222222222222,\"#7201a8\"],[0.3333333333333333,\"#9c179e\"],[0.4444444444444444,\"#bd3786\"],[0.5555555555555556,\"#d8576b\"],[0.6666666666666666,\"#ed7953\"],[0.7777777777777778,\"#fb9f3a\"],[0.8888888888888888,\"#fdca26\"],[1.0,\"#f0f921\"]]}],\"heatmap\":[{\"type\":\"heatmap\",\"colorbar\":{\"outlinewidth\":0,\"ticks\":\"\"},\"colorscale\":[[0.0,\"#0d0887\"],[0.1111111111111111,\"#46039f\"],[0.2222222222222222,\"#7201a8\"],[0.3333333333333333,\"#9c179e\"],[0.4444444444444444,\"#bd3786\"],[0.5555555555555556,\"#d8576b\"],[0.6666666666666666,\"#ed7953\"],[0.7777777777777778,\"#fb9f3a\"],[0.8888888888888888,\"#fdca26\"],[1.0,\"#f0f921\"]]}],\"heatmapgl\":[{\"type\":\"heatmapgl\",\"colorbar\":{\"outlinewidth\":0,\"ticks\":\"\"},\"colorscale\":[[0.0,\"#0d0887\"],[0.1111111111111111,\"#46039f\"],[0.2222222222222222,\"#7201a8\"],[0.3333333333333333,\"#9c179e\"],[0.4444444444444444,\"#bd3786\"],[0.5555555555555556,\"#d8576b\"],[0.6666666666666666,\"#ed7953\"],[0.7777777777777778,\"#fb9f3a\"],[0.8888888888888888,\"#fdca26\"],[1.0,\"#f0f921\"]]}],\"contourcarpet\":[{\"type\":\"contourcarpet\",\"colorbar\":{\"outlinewidth\":0,\"ticks\":\"\"}}],\"contour\":[{\"type\":\"contour\",\"colorbar\":{\"outlinewidth\":0,\"ticks\":\"\"},\"colorscale\":[[0.0,\"#0d0887\"],[0.1111111111111111,\"#46039f\"],[0.2222222222222222,\"#7201a8\"],[0.3333333333333333,\"#9c179e\"],[0.4444444444444444,\"#bd3786\"],[0.5555555555555556,\"#d8576b\"],[0.6666666666666666,\"#ed7953\"],[0.7777777777777778,\"#fb9f3a\"],[0.8888888888888888,\"#fdca26\"],[1.0,\"#f0f921\"]]}],\"surface\":[{\"type\":\"surface\",\"colorbar\":{\"outlinewidth\":0,\"ticks\":\"\"},\"colorscale\":[[0.0,\"#0d0887\"],[0.1111111111111111,\"#46039f\"],[0.2222222222222222,\"#7201a8\"],[0.3333333333333333,\"#9c179e\"],[0.4444444444444444,\"#bd3786\"],[0.5555555555555556,\"#d8576b\"],[0.6666666666666666,\"#ed7953\"],[0.7777777777777778,\"#fb9f3a\"],[0.8888888888888888,\"#fdca26\"],[1.0,\"#f0f921\"]]}],\"mesh3d\":[{\"type\":\"mesh3d\",\"colorbar\":{\"outlinewidth\":0,\"ticks\":\"\"}}],\"scatter\":[{\"marker\":{\"line\":{\"color\":\"#283442\"}},\"type\":\"scatter\"}],\"parcoords\":[{\"type\":\"parcoords\",\"line\":{\"colorbar\":{\"outlinewidth\":0,\"ticks\":\"\"}}}],\"scatterpolargl\":[{\"type\":\"scatterpolargl\",\"marker\":{\"colorbar\":{\"outlinewidth\":0,\"ticks\":\"\"}}}],\"bar\":[{\"error_x\":{\"color\":\"#f2f5fa\"},\"error_y\":{\"color\":\"#f2f5fa\"},\"marker\":{\"line\":{\"color\":\"rgb(17,17,17)\",\"width\":0.5},\"pattern\":{\"fillmode\":\"overlay\",\"size\":10,\"solidity\":0.2}},\"type\":\"bar\"}],\"scattergeo\":[{\"type\":\"scattergeo\",\"marker\":{\"colorbar\":{\"outlinewidth\":0,\"ticks\":\"\"}}}],\"scatterpolar\":[{\"type\":\"scatterpolar\",\"marker\":{\"colorbar\":{\"outlinewidth\":0,\"ticks\":\"\"}}}],\"histogram\":[{\"marker\":{\"pattern\":{\"fillmode\":\"overlay\",\"size\":10,\"solidity\":0.2}},\"type\":\"histogram\"}],\"scattergl\":[{\"marker\":{\"line\":{\"color\":\"#283442\"}},\"type\":\"scattergl\"}],\"scatter3d\":[{\"type\":\"scatter3d\",\"line\":{\"colorbar\":{\"outlinewidth\":0,\"ticks\":\"\"}},\"marker\":{\"colorbar\":{\"outlinewidth\":0,\"ticks\":\"\"}}}],\"scattermapbox\":[{\"type\":\"scattermapbox\",\"marker\":{\"colorbar\":{\"outlinewidth\":0,\"ticks\":\"\"}}}],\"scatterternary\":[{\"type\":\"scatterternary\",\"marker\":{\"colorbar\":{\"outlinewidth\":0,\"ticks\":\"\"}}}],\"scattercarpet\":[{\"type\":\"scattercarpet\",\"marker\":{\"colorbar\":{\"outlinewidth\":0,\"ticks\":\"\"}}}],\"carpet\":[{\"aaxis\":{\"endlinecolor\":\"#A2B1C6\",\"gridcolor\":\"#506784\",\"linecolor\":\"#506784\",\"minorgridcolor\":\"#506784\",\"startlinecolor\":\"#A2B1C6\"},\"baxis\":{\"endlinecolor\":\"#A2B1C6\",\"gridcolor\":\"#506784\",\"linecolor\":\"#506784\",\"minorgridcolor\":\"#506784\",\"startlinecolor\":\"#A2B1C6\"},\"type\":\"carpet\"}],\"table\":[{\"cells\":{\"fill\":{\"color\":\"#506784\"},\"line\":{\"color\":\"rgb(17,17,17)\"}},\"header\":{\"fill\":{\"color\":\"#2a3f5f\"},\"line\":{\"color\":\"rgb(17,17,17)\"}},\"type\":\"table\"}],\"barpolar\":[{\"marker\":{\"line\":{\"color\":\"rgb(17,17,17)\",\"width\":0.5},\"pattern\":{\"fillmode\":\"overlay\",\"size\":10,\"solidity\":0.2}},\"type\":\"barpolar\"}],\"pie\":[{\"automargin\":true,\"type\":\"pie\"}]},\"layout\":{\"autotypenumbers\":\"strict\",\"colorway\":[\"#636efa\",\"#EF553B\",\"#00cc96\",\"#ab63fa\",\"#FFA15A\",\"#19d3f3\",\"#FF6692\",\"#B6E880\",\"#FF97FF\",\"#FECB52\"],\"font\":{\"color\":\"#f2f5fa\"},\"hovermode\":\"closest\",\"hoverlabel\":{\"align\":\"left\"},\"paper_bgcolor\":\"rgb(17,17,17)\",\"plot_bgcolor\":\"rgb(17,17,17)\",\"polar\":{\"bgcolor\":\"rgb(17,17,17)\",\"angularaxis\":{\"gridcolor\":\"#506784\",\"linecolor\":\"#506784\",\"ticks\":\"\"},\"radialaxis\":{\"gridcolor\":\"#506784\",\"linecolor\":\"#506784\",\"ticks\":\"\"}},\"ternary\":{\"bgcolor\":\"rgb(17,17,17)\",\"aaxis\":{\"gridcolor\":\"#506784\",\"linecolor\":\"#506784\",\"ticks\":\"\"},\"baxis\":{\"gridcolor\":\"#506784\",\"linecolor\":\"#506784\",\"ticks\":\"\"},\"caxis\":{\"gridcolor\":\"#506784\",\"linecolor\":\"#506784\",\"ticks\":\"\"}},\"coloraxis\":{\"colorbar\":{\"outlinewidth\":0,\"ticks\":\"\"}},\"colorscale\":{\"sequential\":[[0.0,\"#0d0887\"],[0.1111111111111111,\"#46039f\"],[0.2222222222222222,\"#7201a8\"],[0.3333333333333333,\"#9c179e\"],[0.4444444444444444,\"#bd3786\"],[0.5555555555555556,\"#d8576b\"],[0.6666666666666666,\"#ed7953\"],[0.7777777777777778,\"#fb9f3a\"],[0.8888888888888888,\"#fdca26\"],[1.0,\"#f0f921\"]],\"sequentialminus\":[[0.0,\"#0d0887\"],[0.1111111111111111,\"#46039f\"],[0.2222222222222222,\"#7201a8\"],[0.3333333333333333,\"#9c179e\"],[0.4444444444444444,\"#bd3786\"],[0.5555555555555556,\"#d8576b\"],[0.6666666666666666,\"#ed7953\"],[0.7777777777777778,\"#fb9f3a\"],[0.8888888888888888,\"#fdca26\"],[1.0,\"#f0f921\"]],\"diverging\":[[0,\"#8e0152\"],[0.1,\"#c51b7d\"],[0.2,\"#de77ae\"],[0.3,\"#f1b6da\"],[0.4,\"#fde0ef\"],[0.5,\"#f7f7f7\"],[0.6,\"#e6f5d0\"],[0.7,\"#b8e186\"],[0.8,\"#7fbc41\"],[0.9,\"#4d9221\"],[1,\"#276419\"]]},\"xaxis\":{\"gridcolor\":\"#283442\",\"linecolor\":\"#506784\",\"ticks\":\"\",\"title\":{\"standoff\":15},\"zerolinecolor\":\"#283442\",\"automargin\":true,\"zerolinewidth\":2},\"yaxis\":{\"gridcolor\":\"#283442\",\"linecolor\":\"#506784\",\"ticks\":\"\",\"title\":{\"standoff\":15},\"zerolinecolor\":\"#283442\",\"automargin\":true,\"zerolinewidth\":2},\"scene\":{\"xaxis\":{\"backgroundcolor\":\"rgb(17,17,17)\",\"gridcolor\":\"#506784\",\"linecolor\":\"#506784\",\"showbackground\":true,\"ticks\":\"\",\"zerolinecolor\":\"#C8D4E3\",\"gridwidth\":2},\"yaxis\":{\"backgroundcolor\":\"rgb(17,17,17)\",\"gridcolor\":\"#506784\",\"linecolor\":\"#506784\",\"showbackground\":true,\"ticks\":\"\",\"zerolinecolor\":\"#C8D4E3\",\"gridwidth\":2},\"zaxis\":{\"backgroundcolor\":\"rgb(17,17,17)\",\"gridcolor\":\"#506784\",\"linecolor\":\"#506784\",\"showbackground\":true,\"ticks\":\"\",\"zerolinecolor\":\"#C8D4E3\",\"gridwidth\":2}},\"shapedefaults\":{\"line\":{\"color\":\"#f2f5fa\"}},\"annotationdefaults\":{\"arrowcolor\":\"#f2f5fa\",\"arrowhead\":0,\"arrowwidth\":1},\"geo\":{\"bgcolor\":\"rgb(17,17,17)\",\"landcolor\":\"rgb(17,17,17)\",\"subunitcolor\":\"#506784\",\"showland\":true,\"showlakes\":true,\"lakecolor\":\"rgb(17,17,17)\"},\"title\":{\"x\":0.05},\"updatemenudefaults\":{\"bgcolor\":\"#506784\",\"borderwidth\":0},\"sliderdefaults\":{\"bgcolor\":\"#C8D4E3\",\"borderwidth\":1,\"bordercolor\":\"rgb(17,17,17)\",\"tickwidth\":0},\"mapbox\":{\"style\":\"dark\"}}},\"xaxis\":{\"anchor\":\"y\",\"domain\":[0.0,1.0],\"title\":{\"text\":\"Countries and areas\"},\"tickangle\":-45},\"yaxis\":{\"anchor\":\"x\",\"domain\":[0.0,1.0],\"title\":{\"text\":\"value\"}},\"legend\":{\"title\":{\"text\":\"variable\"},\"tracegroupgap\":0},\"title\":{\"text\":\"Completion Rates Over Different Education Levels\"}},                        {\"responsive\": true}                    ).then(function(){\n                            \nvar gd = document.getElementById('996bc7ee-5edd-40d5-8ddc-9f88c2930019');\nvar x = new MutationObserver(function (mutations, observer) {{\n        var display = window.getComputedStyle(gd).display;\n        if (!display || display === 'none') {{\n            console.log([gd, 'removed!']);\n            Plotly.purge(gd);\n            observer.disconnect();\n        }}\n}});\n\n// Listen for the removal of the full notebook cells\nvar notebookContainer = gd.closest('#notebook-container');\nif (notebookContainer) {{\n    x.observe(notebookContainer, {childList: true});\n}}\n\n// Listen for the clearing of the current output cell\nvar outputEl = gd.closest('.output');\nif (outputEl) {{\n    x.observe(outputEl, {childList: true});\n}}\n\n                        })                };                });            </script>        </div>"
     },
     "metadata": {},
     "output_type": "display_data"
    }
   ],
   "source": [
    "completion_columns = ['Completion_Rate_Primary_Male', 'Completion_Rate_Primary_Female',\n",
    "                      'Completion_Rate_Lower_Secondary_Male', 'Completion_Rate_Lower_Secondary_Female',\n",
    "                      'Completion_Rate_Upper_Secondary_Male', 'Completion_Rate_Upper_Secondary_Female']\n",
    "fig = px.line(df, x='Countries and areas', y=completion_columns,\n",
    "              title='Completion Rates Over Different Education Levels')\n",
    "fig.update_layout(xaxis_tickangle=-45)\n",
    "fig.show()"
   ],
   "metadata": {
    "collapsed": false,
    "ExecuteTime": {
     "end_time": "2024-01-30T11:22:13.742288400Z",
     "start_time": "2024-01-30T11:22:12.195531400Z"
    }
   },
   "id": "6f542708e7cfb8de"
  },
  {
   "cell_type": "code",
   "execution_count": 6,
   "outputs": [],
   "source": [
    "fig = px.bar(df, x='Countries and areas', y=completion_columns,\n",
    "              title='Completion Rates Over Different Education Levels')"
   ],
   "metadata": {
    "collapsed": false,
    "ExecuteTime": {
     "end_time": "2024-01-30T11:22:16.020835800Z",
     "start_time": "2024-01-30T11:22:14.155392700Z"
    }
   },
   "id": "d17adedbfaf225fa"
  },
  {
   "cell_type": "code",
   "execution_count": 7,
   "outputs": [
    {
     "data": {
      "application/vnd.plotly.v1+json": {
       "data": [
        {
         "alignmentgroup": "True",
         "hovertemplate": "variable=Completion_Rate_Primary_Male<br>Countries and areas=%{x}<br>value=%{y}<extra></extra>",
         "legendgroup": "Completion_Rate_Primary_Male",
         "marker": {
          "color": "#636efa",
          "pattern": {
           "shape": ""
          }
         },
         "name": "Completion_Rate_Primary_Male",
         "offsetgroup": "Completion_Rate_Primary_Male",
         "orientation": "v",
         "showlegend": true,
         "textposition": "auto",
         "x": [
          "Afghanistan",
          "Albania",
          "Algeria",
          "Andorra",
          "Angola",
          "Anguilla",
          "Antigua and Barbuda",
          "Argentina",
          "Armenia",
          "Australia",
          "Austria",
          "Azerbaijan",
          "The Bahamas",
          "Bahrain",
          "Bangladesh",
          "Barbados",
          "Belarus",
          "Belgium",
          "Belize",
          "Benin",
          "Bhutan",
          "Bolivia",
          "Bosnia and Herzegovina",
          "Botswana",
          "Brazil",
          "British Virgin Islands",
          "Brunei",
          "Bulgaria",
          "Burkina Faso",
          "Burundi",
          "Cape Verde",
          "Cambodia",
          "Cameroon",
          "Canada",
          "Central African Republic",
          "Chad",
          "Chile",
          "China",
          "Colombia",
          "Comoros",
          "Republic of the Congo",
          "Cook Islands",
          "Costa Rica",
          "Ivory Coast",
          "Croatia",
          "Cuba",
          "Cyprus",
          "Czech Republic",
          "North Korea",
          "Democratic Republic of the Congo",
          "Denmark",
          "Djibouti",
          "Dominica",
          "Dominican Republic",
          "Ecuador",
          "Egypt",
          "El Salvador",
          "Equatorial Guinea",
          "Eritrea",
          "Estonia",
          "Eswatini",
          "Ethiopia",
          "Fiji",
          "Finland",
          "France",
          "Gabon",
          "The Gambia",
          "Georgia",
          "Germany",
          "Ghana",
          "Greece",
          "Grenada",
          "Guatemala",
          "Guinea",
          "Guinea0Bissau",
          "Guyana",
          "Haiti",
          "Vatican City",
          "Honduras",
          "Hungary",
          "Iceland",
          "India",
          "Indonesia",
          "Iran",
          "Iraq",
          "Republic of Ireland",
          "Israel",
          "Italy",
          "Jamaica",
          "Japan",
          "Jordan",
          "Kazakhstan",
          "Kenya",
          "Kiribati",
          "Kuwait",
          "Kyrgyzstan",
          "Laos",
          "Latvia",
          "Lebanon",
          "Lesotho",
          "Liberia",
          "Libya",
          "Liechtenstein",
          "Lithuania",
          "Luxembourg",
          "Madagascar",
          "Malawi",
          "Malaysia",
          "Maldives",
          "Mali",
          "Malta",
          "Marshall Islands",
          "Mauritania",
          "Mauritius",
          "Mexico",
          "Federated States of Micronesia",
          "Monaco",
          "Mongolia",
          "Montenegro",
          "Montserrat",
          "Morocco",
          "Mozambique",
          "Myanmar",
          "Namibia",
          "Nauru",
          "Nepal",
          "Netherlands",
          "New Zealand",
          "Nicaragua",
          "Niger",
          "Nigeria",
          "Niue",
          "North Macedonia",
          "Norway",
          "Oman",
          "Pakistan",
          "Palau",
          "Panama",
          "Papua New Guinea",
          "Paraguay",
          "Peru",
          "Philippines",
          "Poland",
          "Portugal",
          "Qatar",
          "South Korea",
          "Moldova",
          "Romania",
          "Russia",
          "Rwanda",
          "Saint Kitts and Nevis",
          "Saint Lucia",
          "Saint Vincent and the Grenadines",
          "Samoa",
          "San Marino",
          "Sï¿½ï¿½ï¿½ï¿½ï¿½ï¿½ï¿½ï¿",
          "Saudi Arabia",
          "Senegal",
          "Serbia",
          "Seychelles",
          "Sierra Leone",
          "Singapore",
          "Slovakia",
          "Slovenia",
          "Solomon Islands",
          "Somalia",
          "South Africa",
          "South Sudan",
          "Spain",
          "Sri Lanka",
          "Palestinian National Authority",
          "Sudan",
          "Suriname",
          "Sweden",
          "Switzerland",
          "Syria",
          "Tajikistan",
          "Thailand",
          "East Timor",
          "Togo",
          "Tokelau",
          "Tonga",
          "Trinidad and Tobago",
          "Tunisia",
          "Turkey",
          "Turkmenistan",
          "Turks and Caicos Islands",
          "Tuvalu",
          "Uganda",
          "Ukraine",
          "United Arab Emirates",
          "United Kingdom",
          "Tanzania",
          "United States",
          "Uruguay",
          "Uzbekistan",
          "Vanuatu",
          "Venezuela",
          "Vietnam",
          "Yemen",
          "Zambia",
          "Zimbabwe"
         ],
         "xaxis": "x",
         "y": [
          67,
          94,
          93,
          0,
          63,
          0,
          0,
          91,
          99,
          0,
          0,
          0,
          0,
          0,
          76,
          99,
          100,
          0,
          95,
          51,
          67,
          0,
          99,
          95,
          95,
          0,
          0,
          0,
          32,
          46,
          0,
          68,
          75,
          0,
          54,
          31,
          96,
          97,
          91,
          75,
          78,
          0,
          98,
          60,
          0,
          100,
          0,
          0,
          100,
          67,
          0,
          0,
          0,
          88,
          98,
          91,
          84,
          0,
          0,
          0,
          64,
          47,
          0,
          0,
          0,
          66,
          64,
          100,
          0,
          69,
          0,
          0,
          80,
          52,
          29,
          96,
          49,
          0,
          81,
          0,
          0,
          92,
          91,
          0,
          78,
          0,
          0,
          0,
          99,
          0,
          96,
          100,
          77,
          92,
          0,
          99,
          84,
          0,
          0,
          69,
          36,
          0,
          0,
          0,
          0,
          52,
          43,
          0,
          0,
          50,
          0,
          0,
          68,
          0,
          98,
          0,
          0,
          96,
          95,
          0,
          0,
          44,
          82,
          75,
          0,
          81,
          0,
          0,
          0,
          35,
          71,
          0,
          97,
          0,
          0,
          64,
          0,
          95,
          0,
          93,
          95,
          89,
          0,
          0,
          0,
          0,
          99,
          0,
          0,
          48,
          0,
          99,
          0,
          0,
          0,
          79,
          0,
          44,
          99,
          0,
          63,
          0,
          0,
          0,
          0,
          0,
          95,
          31,
          0,
          99,
          99,
          66,
          80,
          0,
          0,
          0,
          99,
          98,
          77,
          83,
          0,
          98,
          0,
          94,
          99,
          100,
          0,
          0,
          39,
          100,
          0,
          0,
          75,
          0,
          96,
          0,
          0,
          0,
          96,
          70,
          71,
          86
         ],
         "yaxis": "y",
         "type": "bar"
        },
        {
         "alignmentgroup": "True",
         "hovertemplate": "variable=Completion_Rate_Primary_Female<br>Countries and areas=%{x}<br>value=%{y}<extra></extra>",
         "legendgroup": "Completion_Rate_Primary_Female",
         "marker": {
          "color": "#EF553B",
          "pattern": {
           "shape": ""
          }
         },
         "name": "Completion_Rate_Primary_Female",
         "offsetgroup": "Completion_Rate_Primary_Female",
         "orientation": "v",
         "showlegend": true,
         "textposition": "auto",
         "x": [
          "Afghanistan",
          "Albania",
          "Algeria",
          "Andorra",
          "Angola",
          "Anguilla",
          "Antigua and Barbuda",
          "Argentina",
          "Armenia",
          "Australia",
          "Austria",
          "Azerbaijan",
          "The Bahamas",
          "Bahrain",
          "Bangladesh",
          "Barbados",
          "Belarus",
          "Belgium",
          "Belize",
          "Benin",
          "Bhutan",
          "Bolivia",
          "Bosnia and Herzegovina",
          "Botswana",
          "Brazil",
          "British Virgin Islands",
          "Brunei",
          "Bulgaria",
          "Burkina Faso",
          "Burundi",
          "Cape Verde",
          "Cambodia",
          "Cameroon",
          "Canada",
          "Central African Republic",
          "Chad",
          "Chile",
          "China",
          "Colombia",
          "Comoros",
          "Republic of the Congo",
          "Cook Islands",
          "Costa Rica",
          "Ivory Coast",
          "Croatia",
          "Cuba",
          "Cyprus",
          "Czech Republic",
          "North Korea",
          "Democratic Republic of the Congo",
          "Denmark",
          "Djibouti",
          "Dominica",
          "Dominican Republic",
          "Ecuador",
          "Egypt",
          "El Salvador",
          "Equatorial Guinea",
          "Eritrea",
          "Estonia",
          "Eswatini",
          "Ethiopia",
          "Fiji",
          "Finland",
          "France",
          "Gabon",
          "The Gambia",
          "Georgia",
          "Germany",
          "Ghana",
          "Greece",
          "Grenada",
          "Guatemala",
          "Guinea",
          "Guinea0Bissau",
          "Guyana",
          "Haiti",
          "Vatican City",
          "Honduras",
          "Hungary",
          "Iceland",
          "India",
          "Indonesia",
          "Iran",
          "Iraq",
          "Republic of Ireland",
          "Israel",
          "Italy",
          "Jamaica",
          "Japan",
          "Jordan",
          "Kazakhstan",
          "Kenya",
          "Kiribati",
          "Kuwait",
          "Kyrgyzstan",
          "Laos",
          "Latvia",
          "Lebanon",
          "Lesotho",
          "Liberia",
          "Libya",
          "Liechtenstein",
          "Lithuania",
          "Luxembourg",
          "Madagascar",
          "Malawi",
          "Malaysia",
          "Maldives",
          "Mali",
          "Malta",
          "Marshall Islands",
          "Mauritania",
          "Mauritius",
          "Mexico",
          "Federated States of Micronesia",
          "Monaco",
          "Mongolia",
          "Montenegro",
          "Montserrat",
          "Morocco",
          "Mozambique",
          "Myanmar",
          "Namibia",
          "Nauru",
          "Nepal",
          "Netherlands",
          "New Zealand",
          "Nicaragua",
          "Niger",
          "Nigeria",
          "Niue",
          "North Macedonia",
          "Norway",
          "Oman",
          "Pakistan",
          "Palau",
          "Panama",
          "Papua New Guinea",
          "Paraguay",
          "Peru",
          "Philippines",
          "Poland",
          "Portugal",
          "Qatar",
          "South Korea",
          "Moldova",
          "Romania",
          "Russia",
          "Rwanda",
          "Saint Kitts and Nevis",
          "Saint Lucia",
          "Saint Vincent and the Grenadines",
          "Samoa",
          "San Marino",
          "Sï¿½ï¿½ï¿½ï¿½ï¿½ï¿½ï¿½ï¿",
          "Saudi Arabia",
          "Senegal",
          "Serbia",
          "Seychelles",
          "Sierra Leone",
          "Singapore",
          "Slovakia",
          "Slovenia",
          "Solomon Islands",
          "Somalia",
          "South Africa",
          "South Sudan",
          "Spain",
          "Sri Lanka",
          "Palestinian National Authority",
          "Sudan",
          "Suriname",
          "Sweden",
          "Switzerland",
          "Syria",
          "Tajikistan",
          "Thailand",
          "East Timor",
          "Togo",
          "Tokelau",
          "Tonga",
          "Trinidad and Tobago",
          "Tunisia",
          "Turkey",
          "Turkmenistan",
          "Turks and Caicos Islands",
          "Tuvalu",
          "Uganda",
          "Ukraine",
          "United Arab Emirates",
          "United Kingdom",
          "Tanzania",
          "United States",
          "Uruguay",
          "Uzbekistan",
          "Vanuatu",
          "Venezuela",
          "Vietnam",
          "Yemen",
          "Zambia",
          "Zimbabwe"
         ],
         "xaxis": "x",
         "y": [
          40,
          96,
          93,
          0,
          57,
          0,
          0,
          94,
          99,
          0,
          0,
          0,
          0,
          0,
          89,
          99,
          100,
          0,
          96,
          44,
          71,
          0,
          100,
          98,
          97,
          0,
          0,
          0,
          29,
          54,
          0,
          79,
          74,
          0,
          33,
          24,
          97,
          97,
          95,
          77,
          82,
          0,
          99,
          53,
          0,
          98,
          0,
          0,
          100,
          66,
          0,
          0,
          0,
          94,
          98,
          92,
          89,
          0,
          0,
          0,
          77,
          48,
          0,
          0,
          0,
          75,
          60,
          100,
          0,
          73,
          0,
          0,
          76,
          39,
          25,
          99,
          58,
          0,
          87,
          0,
          0,
          91,
          92,
          0,
          73,
          0,
          0,
          0,
          100,
          0,
          97,
          100,
          82,
          96,
          0,
          100,
          83,
          0,
          0,
          92,
          33,
          0,
          0,
          0,
          0,
          60,
          52,
          0,
          0,
          41,
          0,
          0,
          58,
          0,
          98,
          0,
          0,
          98,
          98,
          0,
          0,
          39,
          84,
          86,
          0,
          83,
          0,
          0,
          0,
          24,
          71,
          0,
          100,
          0,
          0,
          55,
          0,
          96,
          0,
          96,
          95,
          95,
          0,
          0,
          0,
          0,
          99,
          0,
          0,
          61,
          0,
          99,
          0,
          0,
          0,
          86,
          0,
          50,
          100,
          0,
          65,
          0,
          0,
          0,
          0,
          0,
          98,
          18,
          0,
          99,
          100,
          64,
          90,
          0,
          0,
          0,
          98,
          99,
          85,
          76,
          0,
          99,
          0,
          97,
          98,
          100,
          0,
          0,
          43,
          99,
          0,
          0,
          84,
          0,
          98,
          0,
          0,
          0,
          97,
          55,
          73,
          92
         ],
         "yaxis": "y",
         "type": "bar"
        },
        {
         "alignmentgroup": "True",
         "hovertemplate": "variable=Completion_Rate_Lower_Secondary_Male<br>Countries and areas=%{x}<br>value=%{y}<extra></extra>",
         "legendgroup": "Completion_Rate_Lower_Secondary_Male",
         "marker": {
          "color": "#00cc96",
          "pattern": {
           "shape": ""
          }
         },
         "name": "Completion_Rate_Lower_Secondary_Male",
         "offsetgroup": "Completion_Rate_Lower_Secondary_Male",
         "orientation": "v",
         "showlegend": true,
         "textposition": "auto",
         "x": [
          "Afghanistan",
          "Albania",
          "Algeria",
          "Andorra",
          "Angola",
          "Anguilla",
          "Antigua and Barbuda",
          "Argentina",
          "Armenia",
          "Australia",
          "Austria",
          "Azerbaijan",
          "The Bahamas",
          "Bahrain",
          "Bangladesh",
          "Barbados",
          "Belarus",
          "Belgium",
          "Belize",
          "Benin",
          "Bhutan",
          "Bolivia",
          "Bosnia and Herzegovina",
          "Botswana",
          "Brazil",
          "British Virgin Islands",
          "Brunei",
          "Bulgaria",
          "Burkina Faso",
          "Burundi",
          "Cape Verde",
          "Cambodia",
          "Cameroon",
          "Canada",
          "Central African Republic",
          "Chad",
          "Chile",
          "China",
          "Colombia",
          "Comoros",
          "Republic of the Congo",
          "Cook Islands",
          "Costa Rica",
          "Ivory Coast",
          "Croatia",
          "Cuba",
          "Cyprus",
          "Czech Republic",
          "North Korea",
          "Democratic Republic of the Congo",
          "Denmark",
          "Djibouti",
          "Dominica",
          "Dominican Republic",
          "Ecuador",
          "Egypt",
          "El Salvador",
          "Equatorial Guinea",
          "Eritrea",
          "Estonia",
          "Eswatini",
          "Ethiopia",
          "Fiji",
          "Finland",
          "France",
          "Gabon",
          "The Gambia",
          "Georgia",
          "Germany",
          "Ghana",
          "Greece",
          "Grenada",
          "Guatemala",
          "Guinea",
          "Guinea0Bissau",
          "Guyana",
          "Haiti",
          "Vatican City",
          "Honduras",
          "Hungary",
          "Iceland",
          "India",
          "Indonesia",
          "Iran",
          "Iraq",
          "Republic of Ireland",
          "Israel",
          "Italy",
          "Jamaica",
          "Japan",
          "Jordan",
          "Kazakhstan",
          "Kenya",
          "Kiribati",
          "Kuwait",
          "Kyrgyzstan",
          "Laos",
          "Latvia",
          "Lebanon",
          "Lesotho",
          "Liberia",
          "Libya",
          "Liechtenstein",
          "Lithuania",
          "Luxembourg",
          "Madagascar",
          "Malawi",
          "Malaysia",
          "Maldives",
          "Mali",
          "Malta",
          "Marshall Islands",
          "Mauritania",
          "Mauritius",
          "Mexico",
          "Federated States of Micronesia",
          "Monaco",
          "Mongolia",
          "Montenegro",
          "Montserrat",
          "Morocco",
          "Mozambique",
          "Myanmar",
          "Namibia",
          "Nauru",
          "Nepal",
          "Netherlands",
          "New Zealand",
          "Nicaragua",
          "Niger",
          "Nigeria",
          "Niue",
          "North Macedonia",
          "Norway",
          "Oman",
          "Pakistan",
          "Palau",
          "Panama",
          "Papua New Guinea",
          "Paraguay",
          "Peru",
          "Philippines",
          "Poland",
          "Portugal",
          "Qatar",
          "South Korea",
          "Moldova",
          "Romania",
          "Russia",
          "Rwanda",
          "Saint Kitts and Nevis",
          "Saint Lucia",
          "Saint Vincent and the Grenadines",
          "Samoa",
          "San Marino",
          "Sï¿½ï¿½ï¿½ï¿½ï¿½ï¿½ï¿½ï¿",
          "Saudi Arabia",
          "Senegal",
          "Serbia",
          "Seychelles",
          "Sierra Leone",
          "Singapore",
          "Slovakia",
          "Slovenia",
          "Solomon Islands",
          "Somalia",
          "South Africa",
          "South Sudan",
          "Spain",
          "Sri Lanka",
          "Palestinian National Authority",
          "Sudan",
          "Suriname",
          "Sweden",
          "Switzerland",
          "Syria",
          "Tajikistan",
          "Thailand",
          "East Timor",
          "Togo",
          "Tokelau",
          "Tonga",
          "Trinidad and Tobago",
          "Tunisia",
          "Turkey",
          "Turkmenistan",
          "Turks and Caicos Islands",
          "Tuvalu",
          "Uganda",
          "Ukraine",
          "United Arab Emirates",
          "United Kingdom",
          "Tanzania",
          "United States",
          "Uruguay",
          "Uzbekistan",
          "Vanuatu",
          "Venezuela",
          "Vietnam",
          "Yemen",
          "Zambia",
          "Zimbabwe"
         ],
         "xaxis": "x",
         "y": [
          49,
          98,
          49,
          0,
          42,
          0,
          0,
          70,
          95,
          0,
          0,
          0,
          0,
          0,
          59,
          98,
          100,
          0,
          55,
          25,
          41,
          0,
          97,
          92,
          81,
          0,
          0,
          0,
          13,
          26,
          0,
          41,
          52,
          0,
          16,
          18,
          94,
          93,
          74,
          47,
          56,
          0,
          70,
          36,
          0,
          95,
          0,
          0,
          100,
          58,
          0,
          0,
          0,
          76,
          89,
          79,
          73,
          0,
          0,
          0,
          47,
          19,
          0,
          0,
          0,
          32,
          50,
          98,
          0,
          45,
          0,
          0,
          52,
          33,
          18,
          80,
          32,
          0,
          46,
          0,
          0,
          82,
          64,
          0,
          46,
          0,
          0,
          0,
          97,
          0,
          86,
          100,
          61,
          69,
          0,
          99,
          54,
          0,
          0,
          33,
          29,
          0,
          0,
          0,
          0,
          26,
          23,
          0,
          0,
          36,
          0,
          0,
          53,
          0,
          87,
          0,
          0,
          87,
          93,
          0,
          0,
          15,
          45,
          48,
          0,
          71,
          0,
          0,
          0,
          10,
          66,
          0,
          93,
          0,
          0,
          55,
          0,
          75,
          0,
          81,
          83,
          75,
          0,
          0,
          0,
          0,
          95,
          0,
          0,
          25,
          0,
          85,
          0,
          0,
          0,
          32,
          0,
          27,
          99,
          0,
          47,
          0,
          0,
          0,
          0,
          0,
          85,
          22,
          0,
          94,
          80,
          49,
          41,
          0,
          0,
          0,
          95,
          81,
          63,
          55,
          0,
          65,
          0,
          68,
          96,
          99,
          0,
          0,
          27,
          100,
          0,
          0,
          31,
          0,
          66,
          0,
          0,
          0,
          81,
          55,
          54,
          45
         ],
         "yaxis": "y",
         "type": "bar"
        },
        {
         "alignmentgroup": "True",
         "hovertemplate": "variable=Completion_Rate_Lower_Secondary_Female<br>Countries and areas=%{x}<br>value=%{y}<extra></extra>",
         "legendgroup": "Completion_Rate_Lower_Secondary_Female",
         "marker": {
          "color": "#ab63fa",
          "pattern": {
           "shape": ""
          }
         },
         "name": "Completion_Rate_Lower_Secondary_Female",
         "offsetgroup": "Completion_Rate_Lower_Secondary_Female",
         "orientation": "v",
         "showlegend": true,
         "textposition": "auto",
         "x": [
          "Afghanistan",
          "Albania",
          "Algeria",
          "Andorra",
          "Angola",
          "Anguilla",
          "Antigua and Barbuda",
          "Argentina",
          "Armenia",
          "Australia",
          "Austria",
          "Azerbaijan",
          "The Bahamas",
          "Bahrain",
          "Bangladesh",
          "Barbados",
          "Belarus",
          "Belgium",
          "Belize",
          "Benin",
          "Bhutan",
          "Bolivia",
          "Bosnia and Herzegovina",
          "Botswana",
          "Brazil",
          "British Virgin Islands",
          "Brunei",
          "Bulgaria",
          "Burkina Faso",
          "Burundi",
          "Cape Verde",
          "Cambodia",
          "Cameroon",
          "Canada",
          "Central African Republic",
          "Chad",
          "Chile",
          "China",
          "Colombia",
          "Comoros",
          "Republic of the Congo",
          "Cook Islands",
          "Costa Rica",
          "Ivory Coast",
          "Croatia",
          "Cuba",
          "Cyprus",
          "Czech Republic",
          "North Korea",
          "Democratic Republic of the Congo",
          "Denmark",
          "Djibouti",
          "Dominica",
          "Dominican Republic",
          "Ecuador",
          "Egypt",
          "El Salvador",
          "Equatorial Guinea",
          "Eritrea",
          "Estonia",
          "Eswatini",
          "Ethiopia",
          "Fiji",
          "Finland",
          "France",
          "Gabon",
          "The Gambia",
          "Georgia",
          "Germany",
          "Ghana",
          "Greece",
          "Grenada",
          "Guatemala",
          "Guinea",
          "Guinea0Bissau",
          "Guyana",
          "Haiti",
          "Vatican City",
          "Honduras",
          "Hungary",
          "Iceland",
          "India",
          "Indonesia",
          "Iran",
          "Iraq",
          "Republic of Ireland",
          "Israel",
          "Italy",
          "Jamaica",
          "Japan",
          "Jordan",
          "Kazakhstan",
          "Kenya",
          "Kiribati",
          "Kuwait",
          "Kyrgyzstan",
          "Laos",
          "Latvia",
          "Lebanon",
          "Lesotho",
          "Liberia",
          "Libya",
          "Liechtenstein",
          "Lithuania",
          "Luxembourg",
          "Madagascar",
          "Malawi",
          "Malaysia",
          "Maldives",
          "Mali",
          "Malta",
          "Marshall Islands",
          "Mauritania",
          "Mauritius",
          "Mexico",
          "Federated States of Micronesia",
          "Monaco",
          "Mongolia",
          "Montenegro",
          "Montserrat",
          "Morocco",
          "Mozambique",
          "Myanmar",
          "Namibia",
          "Nauru",
          "Nepal",
          "Netherlands",
          "New Zealand",
          "Nicaragua",
          "Niger",
          "Nigeria",
          "Niue",
          "North Macedonia",
          "Norway",
          "Oman",
          "Pakistan",
          "Palau",
          "Panama",
          "Papua New Guinea",
          "Paraguay",
          "Peru",
          "Philippines",
          "Poland",
          "Portugal",
          "Qatar",
          "South Korea",
          "Moldova",
          "Romania",
          "Russia",
          "Rwanda",
          "Saint Kitts and Nevis",
          "Saint Lucia",
          "Saint Vincent and the Grenadines",
          "Samoa",
          "San Marino",
          "Sï¿½ï¿½ï¿½ï¿½ï¿½ï¿½ï¿½ï¿",
          "Saudi Arabia",
          "Senegal",
          "Serbia",
          "Seychelles",
          "Sierra Leone",
          "Singapore",
          "Slovakia",
          "Slovenia",
          "Solomon Islands",
          "Somalia",
          "South Africa",
          "South Sudan",
          "Spain",
          "Sri Lanka",
          "Palestinian National Authority",
          "Sudan",
          "Suriname",
          "Sweden",
          "Switzerland",
          "Syria",
          "Tajikistan",
          "Thailand",
          "East Timor",
          "Togo",
          "Tokelau",
          "Tonga",
          "Trinidad and Tobago",
          "Tunisia",
          "Turkey",
          "Turkmenistan",
          "Turks and Caicos Islands",
          "Tuvalu",
          "Uganda",
          "Ukraine",
          "United Arab Emirates",
          "United Kingdom",
          "Tanzania",
          "United States",
          "Uruguay",
          "Uzbekistan",
          "Vanuatu",
          "Venezuela",
          "Vietnam",
          "Yemen",
          "Zambia",
          "Zimbabwe"
         ],
         "xaxis": "x",
         "y": [
          26,
          97,
          65,
          0,
          32,
          0,
          0,
          79,
          99,
          0,
          0,
          0,
          0,
          0,
          71,
          98,
          100,
          0,
          66,
          13,
          38,
          0,
          97,
          92,
          89,
          0,
          0,
          0,
          6,
          19,
          0,
          39,
          43,
          0,
          8,
          10,
          97,
          93,
          81,
          45,
          45,
          0,
          76,
          22,
          0,
          98,
          0,
          0,
          100,
          52,
          0,
          0,
          0,
          89,
          92,
          81,
          74,
          0,
          0,
          0,
          54,
          22,
          0,
          0,
          0,
          33,
          48,
          98,
          0,
          50,
          0,
          0,
          45,
          20,
          16,
          88,
          38,
          0,
          52,
          0,
          0,
          79,
          59,
          0,
          47,
          0,
          0,
          0,
          97,
          0,
          88,
          100,
          69,
          88,
          0,
          99,
          53,
          0,
          0,
          55,
          23,
          0,
          0,
          0,
          0,
          27,
          21,
          0,
          0,
          25,
          0,
          0,
          40,
          0,
          90,
          0,
          0,
          93,
          97,
          0,
          0,
          11,
          45,
          62,
          0,
          75,
          0,
          0,
          0,
          4,
          59,
          0,
          95,
          0,
          0,
          45,
          0,
          81,
          0,
          79,
          83,
          88,
          0,
          0,
          0,
          0,
          98,
          0,
          0,
          30,
          0,
          98,
          0,
          0,
          0,
          36,
          0,
          30,
          99,
          0,
          42,
          0,
          0,
          0,
          0,
          0,
          91,
          10,
          0,
          96,
          93,
          52,
          58,
          0,
          0,
          0,
          93,
          92,
          70,
          39,
          0,
          76,
          0,
          80,
          92,
          100,
          0,
          0,
          23,
          100,
          0,
          0,
          27,
          0,
          73,
          0,
          0,
          0,
          87,
          39,
          50,
          53
         ],
         "yaxis": "y",
         "type": "bar"
        },
        {
         "alignmentgroup": "True",
         "hovertemplate": "variable=Completion_Rate_Upper_Secondary_Male<br>Countries and areas=%{x}<br>value=%{y}<extra></extra>",
         "legendgroup": "Completion_Rate_Upper_Secondary_Male",
         "marker": {
          "color": "#FFA15A",
          "pattern": {
           "shape": ""
          }
         },
         "name": "Completion_Rate_Upper_Secondary_Male",
         "offsetgroup": "Completion_Rate_Upper_Secondary_Male",
         "orientation": "v",
         "showlegend": true,
         "textposition": "auto",
         "x": [
          "Afghanistan",
          "Albania",
          "Algeria",
          "Andorra",
          "Angola",
          "Anguilla",
          "Antigua and Barbuda",
          "Argentina",
          "Armenia",
          "Australia",
          "Austria",
          "Azerbaijan",
          "The Bahamas",
          "Bahrain",
          "Bangladesh",
          "Barbados",
          "Belarus",
          "Belgium",
          "Belize",
          "Benin",
          "Bhutan",
          "Bolivia",
          "Bosnia and Herzegovina",
          "Botswana",
          "Brazil",
          "British Virgin Islands",
          "Brunei",
          "Bulgaria",
          "Burkina Faso",
          "Burundi",
          "Cape Verde",
          "Cambodia",
          "Cameroon",
          "Canada",
          "Central African Republic",
          "Chad",
          "Chile",
          "China",
          "Colombia",
          "Comoros",
          "Republic of the Congo",
          "Cook Islands",
          "Costa Rica",
          "Ivory Coast",
          "Croatia",
          "Cuba",
          "Cyprus",
          "Czech Republic",
          "North Korea",
          "Democratic Republic of the Congo",
          "Denmark",
          "Djibouti",
          "Dominica",
          "Dominican Republic",
          "Ecuador",
          "Egypt",
          "El Salvador",
          "Equatorial Guinea",
          "Eritrea",
          "Estonia",
          "Eswatini",
          "Ethiopia",
          "Fiji",
          "Finland",
          "France",
          "Gabon",
          "The Gambia",
          "Georgia",
          "Germany",
          "Ghana",
          "Greece",
          "Grenada",
          "Guatemala",
          "Guinea",
          "Guinea0Bissau",
          "Guyana",
          "Haiti",
          "Vatican City",
          "Honduras",
          "Hungary",
          "Iceland",
          "India",
          "Indonesia",
          "Iran",
          "Iraq",
          "Republic of Ireland",
          "Israel",
          "Italy",
          "Jamaica",
          "Japan",
          "Jordan",
          "Kazakhstan",
          "Kenya",
          "Kiribati",
          "Kuwait",
          "Kyrgyzstan",
          "Laos",
          "Latvia",
          "Lebanon",
          "Lesotho",
          "Liberia",
          "Libya",
          "Liechtenstein",
          "Lithuania",
          "Luxembourg",
          "Madagascar",
          "Malawi",
          "Malaysia",
          "Maldives",
          "Mali",
          "Malta",
          "Marshall Islands",
          "Mauritania",
          "Mauritius",
          "Mexico",
          "Federated States of Micronesia",
          "Monaco",
          "Mongolia",
          "Montenegro",
          "Montserrat",
          "Morocco",
          "Mozambique",
          "Myanmar",
          "Namibia",
          "Nauru",
          "Nepal",
          "Netherlands",
          "New Zealand",
          "Nicaragua",
          "Niger",
          "Nigeria",
          "Niue",
          "North Macedonia",
          "Norway",
          "Oman",
          "Pakistan",
          "Palau",
          "Panama",
          "Papua New Guinea",
          "Paraguay",
          "Peru",
          "Philippines",
          "Poland",
          "Portugal",
          "Qatar",
          "South Korea",
          "Moldova",
          "Romania",
          "Russia",
          "Rwanda",
          "Saint Kitts and Nevis",
          "Saint Lucia",
          "Saint Vincent and the Grenadines",
          "Samoa",
          "San Marino",
          "Sï¿½ï¿½ï¿½ï¿½ï¿½ï¿½ï¿½ï¿",
          "Saudi Arabia",
          "Senegal",
          "Serbia",
          "Seychelles",
          "Sierra Leone",
          "Singapore",
          "Slovakia",
          "Slovenia",
          "Solomon Islands",
          "Somalia",
          "South Africa",
          "South Sudan",
          "Spain",
          "Sri Lanka",
          "Palestinian National Authority",
          "Sudan",
          "Suriname",
          "Sweden",
          "Switzerland",
          "Syria",
          "Tajikistan",
          "Thailand",
          "East Timor",
          "Togo",
          "Tokelau",
          "Tonga",
          "Trinidad and Tobago",
          "Tunisia",
          "Turkey",
          "Turkmenistan",
          "Turks and Caicos Islands",
          "Tuvalu",
          "Uganda",
          "Ukraine",
          "United Arab Emirates",
          "United Kingdom",
          "Tanzania",
          "United States",
          "Uruguay",
          "Uzbekistan",
          "Vanuatu",
          "Venezuela",
          "Vietnam",
          "Yemen",
          "Zambia",
          "Zimbabwe"
         ],
         "xaxis": "x",
         "y": [
          32,
          76,
          22,
          0,
          24,
          0,
          0,
          46,
          69,
          0,
          0,
          0,
          0,
          0,
          32,
          91,
          91,
          0,
          48,
          12,
          25,
          0,
          92,
          55,
          65,
          0,
          0,
          0,
          6,
          4,
          0,
          20,
          26,
          0,
          8,
          15,
          83,
          63,
          69,
          24,
          28,
          0,
          56,
          17,
          0,
          85,
          0,
          0,
          100,
          36,
          0,
          0,
          0,
          48,
          78,
          43,
          34,
          0,
          0,
          0,
          31,
          11,
          0,
          0,
          0,
          14,
          33,
          79,
          0,
          12,
          0,
          0,
          27,
          22,
          14,
          49,
          17,
          0,
          29,
          0,
          0,
          46,
          40,
          0,
          45,
          0,
          0,
          0,
          80,
          0,
          49,
          95,
          44,
          13,
          0,
          89,
          32,
          0,
          0,
          27,
          18,
          0,
          0,
          0,
          0,
          16,
          15,
          0,
          0,
          23,
          0,
          0,
          31,
          0,
          56,
          0,
          0,
          60,
          83,
          0,
          0,
          8,
          14,
          33,
          0,
          27,
          0,
          0,
          0,
          4,
          57,
          0,
          86,
          0,
          0,
          24,
          0,
          57,
          0,
          60,
          78,
          74,
          0,
          0,
          0,
          0,
          63,
          0,
          0,
          19,
          0,
          70,
          0,
          0,
          0,
          4,
          0,
          11,
          71,
          0,
          27,
          0,
          0,
          0,
          0,
          0,
          45,
          12,
          0,
          32,
          52,
          33,
          18,
          0,
          0,
          0,
          80,
          59,
          49,
          31,
          0,
          45,
          0,
          40,
          51,
          93,
          0,
          0,
          18,
          97,
          0,
          0,
          32,
          0,
          48,
          0,
          0,
          0,
          50,
          37,
          33,
          17
         ],
         "yaxis": "y",
         "type": "bar"
        },
        {
         "alignmentgroup": "True",
         "hovertemplate": "variable=Completion_Rate_Upper_Secondary_Female<br>Countries and areas=%{x}<br>value=%{y}<extra></extra>",
         "legendgroup": "Completion_Rate_Upper_Secondary_Female",
         "marker": {
          "color": "#19d3f3",
          "pattern": {
           "shape": ""
          }
         },
         "name": "Completion_Rate_Upper_Secondary_Female",
         "offsetgroup": "Completion_Rate_Upper_Secondary_Female",
         "orientation": "v",
         "showlegend": true,
         "textposition": "auto",
         "x": [
          "Afghanistan",
          "Albania",
          "Algeria",
          "Andorra",
          "Angola",
          "Anguilla",
          "Antigua and Barbuda",
          "Argentina",
          "Armenia",
          "Australia",
          "Austria",
          "Azerbaijan",
          "The Bahamas",
          "Bahrain",
          "Bangladesh",
          "Barbados",
          "Belarus",
          "Belgium",
          "Belize",
          "Benin",
          "Bhutan",
          "Bolivia",
          "Bosnia and Herzegovina",
          "Botswana",
          "Brazil",
          "British Virgin Islands",
          "Brunei",
          "Bulgaria",
          "Burkina Faso",
          "Burundi",
          "Cape Verde",
          "Cambodia",
          "Cameroon",
          "Canada",
          "Central African Republic",
          "Chad",
          "Chile",
          "China",
          "Colombia",
          "Comoros",
          "Republic of the Congo",
          "Cook Islands",
          "Costa Rica",
          "Ivory Coast",
          "Croatia",
          "Cuba",
          "Cyprus",
          "Czech Republic",
          "North Korea",
          "Democratic Republic of the Congo",
          "Denmark",
          "Djibouti",
          "Dominica",
          "Dominican Republic",
          "Ecuador",
          "Egypt",
          "El Salvador",
          "Equatorial Guinea",
          "Eritrea",
          "Estonia",
          "Eswatini",
          "Ethiopia",
          "Fiji",
          "Finland",
          "France",
          "Gabon",
          "The Gambia",
          "Georgia",
          "Germany",
          "Ghana",
          "Greece",
          "Grenada",
          "Guatemala",
          "Guinea",
          "Guinea0Bissau",
          "Guyana",
          "Haiti",
          "Vatican City",
          "Honduras",
          "Hungary",
          "Iceland",
          "India",
          "Indonesia",
          "Iran",
          "Iraq",
          "Republic of Ireland",
          "Israel",
          "Italy",
          "Jamaica",
          "Japan",
          "Jordan",
          "Kazakhstan",
          "Kenya",
          "Kiribati",
          "Kuwait",
          "Kyrgyzstan",
          "Laos",
          "Latvia",
          "Lebanon",
          "Lesotho",
          "Liberia",
          "Libya",
          "Liechtenstein",
          "Lithuania",
          "Luxembourg",
          "Madagascar",
          "Malawi",
          "Malaysia",
          "Maldives",
          "Mali",
          "Malta",
          "Marshall Islands",
          "Mauritania",
          "Mauritius",
          "Mexico",
          "Federated States of Micronesia",
          "Monaco",
          "Mongolia",
          "Montenegro",
          "Montserrat",
          "Morocco",
          "Mozambique",
          "Myanmar",
          "Namibia",
          "Nauru",
          "Nepal",
          "Netherlands",
          "New Zealand",
          "Nicaragua",
          "Niger",
          "Nigeria",
          "Niue",
          "North Macedonia",
          "Norway",
          "Oman",
          "Pakistan",
          "Palau",
          "Panama",
          "Papua New Guinea",
          "Paraguay",
          "Peru",
          "Philippines",
          "Poland",
          "Portugal",
          "Qatar",
          "South Korea",
          "Moldova",
          "Romania",
          "Russia",
          "Rwanda",
          "Saint Kitts and Nevis",
          "Saint Lucia",
          "Saint Vincent and the Grenadines",
          "Samoa",
          "San Marino",
          "Sï¿½ï¿½ï¿½ï¿½ï¿½ï¿½ï¿½ï¿",
          "Saudi Arabia",
          "Senegal",
          "Serbia",
          "Seychelles",
          "Sierra Leone",
          "Singapore",
          "Slovakia",
          "Slovenia",
          "Solomon Islands",
          "Somalia",
          "South Africa",
          "South Sudan",
          "Spain",
          "Sri Lanka",
          "Palestinian National Authority",
          "Sudan",
          "Suriname",
          "Sweden",
          "Switzerland",
          "Syria",
          "Tajikistan",
          "Thailand",
          "East Timor",
          "Togo",
          "Tokelau",
          "Tonga",
          "Trinidad and Tobago",
          "Tunisia",
          "Turkey",
          "Turkmenistan",
          "Turks and Caicos Islands",
          "Tuvalu",
          "Uganda",
          "Ukraine",
          "United Arab Emirates",
          "United Kingdom",
          "Tanzania",
          "United States",
          "Uruguay",
          "Uzbekistan",
          "Vanuatu",
          "Venezuela",
          "Vietnam",
          "Yemen",
          "Zambia",
          "Zimbabwe"
         ],
         "xaxis": "x",
         "y": [
          14,
          80,
          37,
          0,
          15,
          0,
          0,
          53,
          79,
          0,
          0,
          0,
          0,
          0,
          27,
          97,
          94,
          0,
          51,
          5,
          18,
          0,
          92,
          66,
          75,
          0,
          0,
          0,
          2,
          3,
          0,
          20,
          21,
          0,
          6,
          6,
          88,
          67,
          78,
          32,
          19,
          0,
          60,
          15,
          0,
          86,
          0,
          0,
          100,
          27,
          0,
          0,
          0,
          66,
          79,
          41,
          36,
          0,
          0,
          0,
          33,
          14,
          0,
          0,
          0,
          14,
          28,
          83,
          0,
          9,
          0,
          0,
          25,
          13,
          8,
          64,
          16,
          0,
          35,
          0,
          0,
          40,
          37,
          0,
          43,
          0,
          0,
          0,
          83,
          0,
          63,
          96,
          38,
          20,
          0,
          85,
          31,
          0,
          0,
          37,
          9,
          0,
          0,
          0,
          0,
          15,
          13,
          0,
          0,
          12,
          0,
          0,
          23,
          0,
          60,
          0,
          0,
          73,
          90,
          0,
          0,
          5,
          19,
          39,
          0,
          28,
          0,
          0,
          0,
          1,
          44,
          0,
          79,
          0,
          0,
          23,
          0,
          68,
          0,
          67,
          72,
          83,
          0,
          0,
          0,
          0,
          71,
          0,
          0,
          16,
          0,
          90,
          0,
          0,
          0,
          8,
          0,
          10,
          81,
          0,
          18,
          0,
          0,
          0,
          0,
          0,
          52,
          4,
          0,
          43,
          73,
          28,
          26,
          0,
          0,
          0,
          63,
          72,
          55,
          12,
          0,
          56,
          0,
          57,
          44,
          95,
          0,
          0,
          15,
          97,
          0,
          0,
          27,
          0,
          29,
          0,
          0,
          0,
          61,
          23,
          27,
          14
         ],
         "yaxis": "y",
         "type": "bar"
        }
       ],
       "layout": {
        "template": {
         "data": {
          "histogram2dcontour": [
           {
            "type": "histogram2dcontour",
            "colorbar": {
             "outlinewidth": 0,
             "ticks": ""
            },
            "colorscale": [
             [
              0.0,
              "#0d0887"
             ],
             [
              0.1111111111111111,
              "#46039f"
             ],
             [
              0.2222222222222222,
              "#7201a8"
             ],
             [
              0.3333333333333333,
              "#9c179e"
             ],
             [
              0.4444444444444444,
              "#bd3786"
             ],
             [
              0.5555555555555556,
              "#d8576b"
             ],
             [
              0.6666666666666666,
              "#ed7953"
             ],
             [
              0.7777777777777778,
              "#fb9f3a"
             ],
             [
              0.8888888888888888,
              "#fdca26"
             ],
             [
              1.0,
              "#f0f921"
             ]
            ]
           }
          ],
          "choropleth": [
           {
            "type": "choropleth",
            "colorbar": {
             "outlinewidth": 0,
             "ticks": ""
            }
           }
          ],
          "histogram2d": [
           {
            "type": "histogram2d",
            "colorbar": {
             "outlinewidth": 0,
             "ticks": ""
            },
            "colorscale": [
             [
              0.0,
              "#0d0887"
             ],
             [
              0.1111111111111111,
              "#46039f"
             ],
             [
              0.2222222222222222,
              "#7201a8"
             ],
             [
              0.3333333333333333,
              "#9c179e"
             ],
             [
              0.4444444444444444,
              "#bd3786"
             ],
             [
              0.5555555555555556,
              "#d8576b"
             ],
             [
              0.6666666666666666,
              "#ed7953"
             ],
             [
              0.7777777777777778,
              "#fb9f3a"
             ],
             [
              0.8888888888888888,
              "#fdca26"
             ],
             [
              1.0,
              "#f0f921"
             ]
            ]
           }
          ],
          "heatmap": [
           {
            "type": "heatmap",
            "colorbar": {
             "outlinewidth": 0,
             "ticks": ""
            },
            "colorscale": [
             [
              0.0,
              "#0d0887"
             ],
             [
              0.1111111111111111,
              "#46039f"
             ],
             [
              0.2222222222222222,
              "#7201a8"
             ],
             [
              0.3333333333333333,
              "#9c179e"
             ],
             [
              0.4444444444444444,
              "#bd3786"
             ],
             [
              0.5555555555555556,
              "#d8576b"
             ],
             [
              0.6666666666666666,
              "#ed7953"
             ],
             [
              0.7777777777777778,
              "#fb9f3a"
             ],
             [
              0.8888888888888888,
              "#fdca26"
             ],
             [
              1.0,
              "#f0f921"
             ]
            ]
           }
          ],
          "heatmapgl": [
           {
            "type": "heatmapgl",
            "colorbar": {
             "outlinewidth": 0,
             "ticks": ""
            },
            "colorscale": [
             [
              0.0,
              "#0d0887"
             ],
             [
              0.1111111111111111,
              "#46039f"
             ],
             [
              0.2222222222222222,
              "#7201a8"
             ],
             [
              0.3333333333333333,
              "#9c179e"
             ],
             [
              0.4444444444444444,
              "#bd3786"
             ],
             [
              0.5555555555555556,
              "#d8576b"
             ],
             [
              0.6666666666666666,
              "#ed7953"
             ],
             [
              0.7777777777777778,
              "#fb9f3a"
             ],
             [
              0.8888888888888888,
              "#fdca26"
             ],
             [
              1.0,
              "#f0f921"
             ]
            ]
           }
          ],
          "contourcarpet": [
           {
            "type": "contourcarpet",
            "colorbar": {
             "outlinewidth": 0,
             "ticks": ""
            }
           }
          ],
          "contour": [
           {
            "type": "contour",
            "colorbar": {
             "outlinewidth": 0,
             "ticks": ""
            },
            "colorscale": [
             [
              0.0,
              "#0d0887"
             ],
             [
              0.1111111111111111,
              "#46039f"
             ],
             [
              0.2222222222222222,
              "#7201a8"
             ],
             [
              0.3333333333333333,
              "#9c179e"
             ],
             [
              0.4444444444444444,
              "#bd3786"
             ],
             [
              0.5555555555555556,
              "#d8576b"
             ],
             [
              0.6666666666666666,
              "#ed7953"
             ],
             [
              0.7777777777777778,
              "#fb9f3a"
             ],
             [
              0.8888888888888888,
              "#fdca26"
             ],
             [
              1.0,
              "#f0f921"
             ]
            ]
           }
          ],
          "surface": [
           {
            "type": "surface",
            "colorbar": {
             "outlinewidth": 0,
             "ticks": ""
            },
            "colorscale": [
             [
              0.0,
              "#0d0887"
             ],
             [
              0.1111111111111111,
              "#46039f"
             ],
             [
              0.2222222222222222,
              "#7201a8"
             ],
             [
              0.3333333333333333,
              "#9c179e"
             ],
             [
              0.4444444444444444,
              "#bd3786"
             ],
             [
              0.5555555555555556,
              "#d8576b"
             ],
             [
              0.6666666666666666,
              "#ed7953"
             ],
             [
              0.7777777777777778,
              "#fb9f3a"
             ],
             [
              0.8888888888888888,
              "#fdca26"
             ],
             [
              1.0,
              "#f0f921"
             ]
            ]
           }
          ],
          "mesh3d": [
           {
            "type": "mesh3d",
            "colorbar": {
             "outlinewidth": 0,
             "ticks": ""
            }
           }
          ],
          "scatter": [
           {
            "marker": {
             "line": {
              "color": "#283442"
             }
            },
            "type": "scatter"
           }
          ],
          "parcoords": [
           {
            "type": "parcoords",
            "line": {
             "colorbar": {
              "outlinewidth": 0,
              "ticks": ""
             }
            }
           }
          ],
          "scatterpolargl": [
           {
            "type": "scatterpolargl",
            "marker": {
             "colorbar": {
              "outlinewidth": 0,
              "ticks": ""
             }
            }
           }
          ],
          "bar": [
           {
            "error_x": {
             "color": "#f2f5fa"
            },
            "error_y": {
             "color": "#f2f5fa"
            },
            "marker": {
             "line": {
              "color": "rgb(17,17,17)",
              "width": 0.5
             },
             "pattern": {
              "fillmode": "overlay",
              "size": 10,
              "solidity": 0.2
             }
            },
            "type": "bar"
           }
          ],
          "scattergeo": [
           {
            "type": "scattergeo",
            "marker": {
             "colorbar": {
              "outlinewidth": 0,
              "ticks": ""
             }
            }
           }
          ],
          "scatterpolar": [
           {
            "type": "scatterpolar",
            "marker": {
             "colorbar": {
              "outlinewidth": 0,
              "ticks": ""
             }
            }
           }
          ],
          "histogram": [
           {
            "marker": {
             "pattern": {
              "fillmode": "overlay",
              "size": 10,
              "solidity": 0.2
             }
            },
            "type": "histogram"
           }
          ],
          "scattergl": [
           {
            "marker": {
             "line": {
              "color": "#283442"
             }
            },
            "type": "scattergl"
           }
          ],
          "scatter3d": [
           {
            "type": "scatter3d",
            "line": {
             "colorbar": {
              "outlinewidth": 0,
              "ticks": ""
             }
            },
            "marker": {
             "colorbar": {
              "outlinewidth": 0,
              "ticks": ""
             }
            }
           }
          ],
          "scattermapbox": [
           {
            "type": "scattermapbox",
            "marker": {
             "colorbar": {
              "outlinewidth": 0,
              "ticks": ""
             }
            }
           }
          ],
          "scatterternary": [
           {
            "type": "scatterternary",
            "marker": {
             "colorbar": {
              "outlinewidth": 0,
              "ticks": ""
             }
            }
           }
          ],
          "scattercarpet": [
           {
            "type": "scattercarpet",
            "marker": {
             "colorbar": {
              "outlinewidth": 0,
              "ticks": ""
             }
            }
           }
          ],
          "carpet": [
           {
            "aaxis": {
             "endlinecolor": "#A2B1C6",
             "gridcolor": "#506784",
             "linecolor": "#506784",
             "minorgridcolor": "#506784",
             "startlinecolor": "#A2B1C6"
            },
            "baxis": {
             "endlinecolor": "#A2B1C6",
             "gridcolor": "#506784",
             "linecolor": "#506784",
             "minorgridcolor": "#506784",
             "startlinecolor": "#A2B1C6"
            },
            "type": "carpet"
           }
          ],
          "table": [
           {
            "cells": {
             "fill": {
              "color": "#506784"
             },
             "line": {
              "color": "rgb(17,17,17)"
             }
            },
            "header": {
             "fill": {
              "color": "#2a3f5f"
             },
             "line": {
              "color": "rgb(17,17,17)"
             }
            },
            "type": "table"
           }
          ],
          "barpolar": [
           {
            "marker": {
             "line": {
              "color": "rgb(17,17,17)",
              "width": 0.5
             },
             "pattern": {
              "fillmode": "overlay",
              "size": 10,
              "solidity": 0.2
             }
            },
            "type": "barpolar"
           }
          ],
          "pie": [
           {
            "automargin": true,
            "type": "pie"
           }
          ]
         },
         "layout": {
          "autotypenumbers": "strict",
          "colorway": [
           "#636efa",
           "#EF553B",
           "#00cc96",
           "#ab63fa",
           "#FFA15A",
           "#19d3f3",
           "#FF6692",
           "#B6E880",
           "#FF97FF",
           "#FECB52"
          ],
          "font": {
           "color": "#f2f5fa"
          },
          "hovermode": "closest",
          "hoverlabel": {
           "align": "left"
          },
          "paper_bgcolor": "rgb(17,17,17)",
          "plot_bgcolor": "rgb(17,17,17)",
          "polar": {
           "bgcolor": "rgb(17,17,17)",
           "angularaxis": {
            "gridcolor": "#506784",
            "linecolor": "#506784",
            "ticks": ""
           },
           "radialaxis": {
            "gridcolor": "#506784",
            "linecolor": "#506784",
            "ticks": ""
           }
          },
          "ternary": {
           "bgcolor": "rgb(17,17,17)",
           "aaxis": {
            "gridcolor": "#506784",
            "linecolor": "#506784",
            "ticks": ""
           },
           "baxis": {
            "gridcolor": "#506784",
            "linecolor": "#506784",
            "ticks": ""
           },
           "caxis": {
            "gridcolor": "#506784",
            "linecolor": "#506784",
            "ticks": ""
           }
          },
          "coloraxis": {
           "colorbar": {
            "outlinewidth": 0,
            "ticks": ""
           }
          },
          "colorscale": {
           "sequential": [
            [
             0.0,
             "#0d0887"
            ],
            [
             0.1111111111111111,
             "#46039f"
            ],
            [
             0.2222222222222222,
             "#7201a8"
            ],
            [
             0.3333333333333333,
             "#9c179e"
            ],
            [
             0.4444444444444444,
             "#bd3786"
            ],
            [
             0.5555555555555556,
             "#d8576b"
            ],
            [
             0.6666666666666666,
             "#ed7953"
            ],
            [
             0.7777777777777778,
             "#fb9f3a"
            ],
            [
             0.8888888888888888,
             "#fdca26"
            ],
            [
             1.0,
             "#f0f921"
            ]
           ],
           "sequentialminus": [
            [
             0.0,
             "#0d0887"
            ],
            [
             0.1111111111111111,
             "#46039f"
            ],
            [
             0.2222222222222222,
             "#7201a8"
            ],
            [
             0.3333333333333333,
             "#9c179e"
            ],
            [
             0.4444444444444444,
             "#bd3786"
            ],
            [
             0.5555555555555556,
             "#d8576b"
            ],
            [
             0.6666666666666666,
             "#ed7953"
            ],
            [
             0.7777777777777778,
             "#fb9f3a"
            ],
            [
             0.8888888888888888,
             "#fdca26"
            ],
            [
             1.0,
             "#f0f921"
            ]
           ],
           "diverging": [
            [
             0,
             "#8e0152"
            ],
            [
             0.1,
             "#c51b7d"
            ],
            [
             0.2,
             "#de77ae"
            ],
            [
             0.3,
             "#f1b6da"
            ],
            [
             0.4,
             "#fde0ef"
            ],
            [
             0.5,
             "#f7f7f7"
            ],
            [
             0.6,
             "#e6f5d0"
            ],
            [
             0.7,
             "#b8e186"
            ],
            [
             0.8,
             "#7fbc41"
            ],
            [
             0.9,
             "#4d9221"
            ],
            [
             1,
             "#276419"
            ]
           ]
          },
          "xaxis": {
           "gridcolor": "#283442",
           "linecolor": "#506784",
           "ticks": "",
           "title": {
            "standoff": 15
           },
           "zerolinecolor": "#283442",
           "automargin": true,
           "zerolinewidth": 2
          },
          "yaxis": {
           "gridcolor": "#283442",
           "linecolor": "#506784",
           "ticks": "",
           "title": {
            "standoff": 15
           },
           "zerolinecolor": "#283442",
           "automargin": true,
           "zerolinewidth": 2
          },
          "scene": {
           "xaxis": {
            "backgroundcolor": "rgb(17,17,17)",
            "gridcolor": "#506784",
            "linecolor": "#506784",
            "showbackground": true,
            "ticks": "",
            "zerolinecolor": "#C8D4E3",
            "gridwidth": 2
           },
           "yaxis": {
            "backgroundcolor": "rgb(17,17,17)",
            "gridcolor": "#506784",
            "linecolor": "#506784",
            "showbackground": true,
            "ticks": "",
            "zerolinecolor": "#C8D4E3",
            "gridwidth": 2
           },
           "zaxis": {
            "backgroundcolor": "rgb(17,17,17)",
            "gridcolor": "#506784",
            "linecolor": "#506784",
            "showbackground": true,
            "ticks": "",
            "zerolinecolor": "#C8D4E3",
            "gridwidth": 2
           }
          },
          "shapedefaults": {
           "line": {
            "color": "#f2f5fa"
           }
          },
          "annotationdefaults": {
           "arrowcolor": "#f2f5fa",
           "arrowhead": 0,
           "arrowwidth": 1
          },
          "geo": {
           "bgcolor": "rgb(17,17,17)",
           "landcolor": "rgb(17,17,17)",
           "subunitcolor": "#506784",
           "showland": true,
           "showlakes": true,
           "lakecolor": "rgb(17,17,17)"
          },
          "title": {
           "x": 0.05
          },
          "updatemenudefaults": {
           "bgcolor": "#506784",
           "borderwidth": 0
          },
          "sliderdefaults": {
           "bgcolor": "#C8D4E3",
           "borderwidth": 1,
           "bordercolor": "rgb(17,17,17)",
           "tickwidth": 0
          },
          "mapbox": {
           "style": "dark"
          }
         }
        },
        "xaxis": {
         "anchor": "y",
         "domain": [
          0.0,
          1.0
         ],
         "title": {
          "text": "Countries and areas"
         },
         "tickangle": -45
        },
        "yaxis": {
         "anchor": "x",
         "domain": [
          0.0,
          1.0
         ],
         "title": {
          "text": "value"
         }
        },
        "legend": {
         "title": {
          "text": "variable"
         },
         "tracegroupgap": 0
        },
        "title": {
         "text": "Completion Rates Over Different Education Levels"
        },
        "barmode": "relative"
       },
       "config": {
        "plotlyServerURL": "https://plot.ly"
       }
      },
      "text/html": "<div>                            <div id=\"bac39e09-717c-4fac-88ce-3a332715c4d1\" class=\"plotly-graph-div\" style=\"height:525px; width:100%;\"></div>            <script type=\"text/javascript\">                require([\"plotly\"], function(Plotly) {                    window.PLOTLYENV=window.PLOTLYENV || {};                                    if (document.getElementById(\"bac39e09-717c-4fac-88ce-3a332715c4d1\")) {                    Plotly.newPlot(                        \"bac39e09-717c-4fac-88ce-3a332715c4d1\",                        [{\"alignmentgroup\":\"True\",\"hovertemplate\":\"variable=Completion_Rate_Primary_Male\\u003cbr\\u003eCountries and areas=%{x}\\u003cbr\\u003evalue=%{y}\\u003cextra\\u003e\\u003c\\u002fextra\\u003e\",\"legendgroup\":\"Completion_Rate_Primary_Male\",\"marker\":{\"color\":\"#636efa\",\"pattern\":{\"shape\":\"\"}},\"name\":\"Completion_Rate_Primary_Male\",\"offsetgroup\":\"Completion_Rate_Primary_Male\",\"orientation\":\"v\",\"showlegend\":true,\"textposition\":\"auto\",\"x\":[\"Afghanistan\",\"Albania\",\"Algeria\",\"Andorra\",\"Angola\",\"Anguilla\",\"Antigua and Barbuda\",\"Argentina\",\"Armenia\",\"Australia\",\"Austria\",\"Azerbaijan\",\"The Bahamas\",\"Bahrain\",\"Bangladesh\",\"Barbados\",\"Belarus\",\"Belgium\",\"Belize\",\"Benin\",\"Bhutan\",\"Bolivia\",\"Bosnia and Herzegovina\",\"Botswana\",\"Brazil\",\"British Virgin Islands\",\"Brunei\",\"Bulgaria\",\"Burkina Faso\",\"Burundi\",\"Cape Verde\",\"Cambodia\",\"Cameroon\",\"Canada\",\"Central African Republic\",\"Chad\",\"Chile\",\"China\",\"Colombia\",\"Comoros\",\"Republic of the Congo\",\"Cook Islands\",\"Costa Rica\",\"Ivory Coast\",\"Croatia\",\"Cuba\",\"Cyprus\",\"Czech Republic\",\"North Korea\",\"Democratic Republic of the Congo\",\"Denmark\",\"Djibouti\",\"Dominica\",\"Dominican Republic\",\"Ecuador\",\"Egypt\",\"El Salvador\",\"Equatorial Guinea\",\"Eritrea\",\"Estonia\",\"Eswatini\",\"Ethiopia\",\"Fiji\",\"Finland\",\"France\",\"Gabon\",\"The Gambia\",\"Georgia\",\"Germany\",\"Ghana\",\"Greece\",\"Grenada\",\"Guatemala\",\"Guinea\",\"Guinea0Bissau\",\"Guyana\",\"Haiti\",\"Vatican City\",\"Honduras\",\"Hungary\",\"Iceland\",\"India\",\"Indonesia\",\"Iran\",\"Iraq\",\"Republic of Ireland\",\"Israel\",\"Italy\",\"Jamaica\",\"Japan\",\"Jordan\",\"Kazakhstan\",\"Kenya\",\"Kiribati\",\"Kuwait\",\"Kyrgyzstan\",\"Laos\",\"Latvia\",\"Lebanon\",\"Lesotho\",\"Liberia\",\"Libya\",\"Liechtenstein\",\"Lithuania\",\"Luxembourg\",\"Madagascar\",\"Malawi\",\"Malaysia\",\"Maldives\",\"Mali\",\"Malta\",\"Marshall Islands\",\"Mauritania\",\"Mauritius\",\"Mexico\",\"Federated States of Micronesia\",\"Monaco\",\"Mongolia\",\"Montenegro\",\"Montserrat\",\"Morocco\",\"Mozambique\",\"Myanmar\",\"Namibia\",\"Nauru\",\"Nepal\",\"Netherlands\",\"New Zealand\",\"Nicaragua\",\"Niger\",\"Nigeria\",\"Niue\",\"North Macedonia\",\"Norway\",\"Oman\",\"Pakistan\",\"Palau\",\"Panama\",\"Papua New Guinea\",\"Paraguay\",\"Peru\",\"Philippines\",\"Poland\",\"Portugal\",\"Qatar\",\"South Korea\",\"Moldova\",\"Romania\",\"Russia\",\"Rwanda\",\"Saint Kitts and Nevis\",\"Saint Lucia\",\"Saint Vincent and the Grenadines\",\"Samoa\",\"San Marino\",\"S\\u00ef\\u00bf\\u00bd\\u00ef\\u00bf\\u00bd\\u00ef\\u00bf\\u00bd\\u00ef\\u00bf\\u00bd\\u00ef\\u00bf\\u00bd\\u00ef\\u00bf\\u00bd\\u00ef\\u00bf\\u00bd\\u00ef\\u00bf\",\"Saudi Arabia\",\"Senegal\",\"Serbia\",\"Seychelles\",\"Sierra Leone\",\"Singapore\",\"Slovakia\",\"Slovenia\",\"Solomon Islands\",\"Somalia\",\"South Africa\",\"South Sudan\",\"Spain\",\"Sri Lanka\",\"Palestinian National Authority\",\"Sudan\",\"Suriname\",\"Sweden\",\"Switzerland\",\"Syria\",\"Tajikistan\",\"Thailand\",\"East Timor\",\"Togo\",\"Tokelau\",\"Tonga\",\"Trinidad and Tobago\",\"Tunisia\",\"Turkey\",\"Turkmenistan\",\"Turks and Caicos Islands\",\"Tuvalu\",\"Uganda\",\"Ukraine\",\"United Arab Emirates\",\"United Kingdom\",\"Tanzania\",\"United States\",\"Uruguay\",\"Uzbekistan\",\"Vanuatu\",\"Venezuela\",\"Vietnam\",\"Yemen\",\"Zambia\",\"Zimbabwe\"],\"xaxis\":\"x\",\"y\":[67,94,93,0,63,0,0,91,99,0,0,0,0,0,76,99,100,0,95,51,67,0,99,95,95,0,0,0,32,46,0,68,75,0,54,31,96,97,91,75,78,0,98,60,0,100,0,0,100,67,0,0,0,88,98,91,84,0,0,0,64,47,0,0,0,66,64,100,0,69,0,0,80,52,29,96,49,0,81,0,0,92,91,0,78,0,0,0,99,0,96,100,77,92,0,99,84,0,0,69,36,0,0,0,0,52,43,0,0,50,0,0,68,0,98,0,0,96,95,0,0,44,82,75,0,81,0,0,0,35,71,0,97,0,0,64,0,95,0,93,95,89,0,0,0,0,99,0,0,48,0,99,0,0,0,79,0,44,99,0,63,0,0,0,0,0,95,31,0,99,99,66,80,0,0,0,99,98,77,83,0,98,0,94,99,100,0,0,39,100,0,0,75,0,96,0,0,0,96,70,71,86],\"yaxis\":\"y\",\"type\":\"bar\"},{\"alignmentgroup\":\"True\",\"hovertemplate\":\"variable=Completion_Rate_Primary_Female\\u003cbr\\u003eCountries and areas=%{x}\\u003cbr\\u003evalue=%{y}\\u003cextra\\u003e\\u003c\\u002fextra\\u003e\",\"legendgroup\":\"Completion_Rate_Primary_Female\",\"marker\":{\"color\":\"#EF553B\",\"pattern\":{\"shape\":\"\"}},\"name\":\"Completion_Rate_Primary_Female\",\"offsetgroup\":\"Completion_Rate_Primary_Female\",\"orientation\":\"v\",\"showlegend\":true,\"textposition\":\"auto\",\"x\":[\"Afghanistan\",\"Albania\",\"Algeria\",\"Andorra\",\"Angola\",\"Anguilla\",\"Antigua and Barbuda\",\"Argentina\",\"Armenia\",\"Australia\",\"Austria\",\"Azerbaijan\",\"The Bahamas\",\"Bahrain\",\"Bangladesh\",\"Barbados\",\"Belarus\",\"Belgium\",\"Belize\",\"Benin\",\"Bhutan\",\"Bolivia\",\"Bosnia and Herzegovina\",\"Botswana\",\"Brazil\",\"British Virgin Islands\",\"Brunei\",\"Bulgaria\",\"Burkina Faso\",\"Burundi\",\"Cape Verde\",\"Cambodia\",\"Cameroon\",\"Canada\",\"Central African Republic\",\"Chad\",\"Chile\",\"China\",\"Colombia\",\"Comoros\",\"Republic of the Congo\",\"Cook Islands\",\"Costa Rica\",\"Ivory Coast\",\"Croatia\",\"Cuba\",\"Cyprus\",\"Czech Republic\",\"North Korea\",\"Democratic Republic of the Congo\",\"Denmark\",\"Djibouti\",\"Dominica\",\"Dominican Republic\",\"Ecuador\",\"Egypt\",\"El Salvador\",\"Equatorial Guinea\",\"Eritrea\",\"Estonia\",\"Eswatini\",\"Ethiopia\",\"Fiji\",\"Finland\",\"France\",\"Gabon\",\"The Gambia\",\"Georgia\",\"Germany\",\"Ghana\",\"Greece\",\"Grenada\",\"Guatemala\",\"Guinea\",\"Guinea0Bissau\",\"Guyana\",\"Haiti\",\"Vatican City\",\"Honduras\",\"Hungary\",\"Iceland\",\"India\",\"Indonesia\",\"Iran\",\"Iraq\",\"Republic of Ireland\",\"Israel\",\"Italy\",\"Jamaica\",\"Japan\",\"Jordan\",\"Kazakhstan\",\"Kenya\",\"Kiribati\",\"Kuwait\",\"Kyrgyzstan\",\"Laos\",\"Latvia\",\"Lebanon\",\"Lesotho\",\"Liberia\",\"Libya\",\"Liechtenstein\",\"Lithuania\",\"Luxembourg\",\"Madagascar\",\"Malawi\",\"Malaysia\",\"Maldives\",\"Mali\",\"Malta\",\"Marshall Islands\",\"Mauritania\",\"Mauritius\",\"Mexico\",\"Federated States of Micronesia\",\"Monaco\",\"Mongolia\",\"Montenegro\",\"Montserrat\",\"Morocco\",\"Mozambique\",\"Myanmar\",\"Namibia\",\"Nauru\",\"Nepal\",\"Netherlands\",\"New Zealand\",\"Nicaragua\",\"Niger\",\"Nigeria\",\"Niue\",\"North Macedonia\",\"Norway\",\"Oman\",\"Pakistan\",\"Palau\",\"Panama\",\"Papua New Guinea\",\"Paraguay\",\"Peru\",\"Philippines\",\"Poland\",\"Portugal\",\"Qatar\",\"South Korea\",\"Moldova\",\"Romania\",\"Russia\",\"Rwanda\",\"Saint Kitts and Nevis\",\"Saint Lucia\",\"Saint Vincent and the Grenadines\",\"Samoa\",\"San Marino\",\"S\\u00ef\\u00bf\\u00bd\\u00ef\\u00bf\\u00bd\\u00ef\\u00bf\\u00bd\\u00ef\\u00bf\\u00bd\\u00ef\\u00bf\\u00bd\\u00ef\\u00bf\\u00bd\\u00ef\\u00bf\\u00bd\\u00ef\\u00bf\",\"Saudi Arabia\",\"Senegal\",\"Serbia\",\"Seychelles\",\"Sierra Leone\",\"Singapore\",\"Slovakia\",\"Slovenia\",\"Solomon Islands\",\"Somalia\",\"South Africa\",\"South Sudan\",\"Spain\",\"Sri Lanka\",\"Palestinian National Authority\",\"Sudan\",\"Suriname\",\"Sweden\",\"Switzerland\",\"Syria\",\"Tajikistan\",\"Thailand\",\"East Timor\",\"Togo\",\"Tokelau\",\"Tonga\",\"Trinidad and Tobago\",\"Tunisia\",\"Turkey\",\"Turkmenistan\",\"Turks and Caicos Islands\",\"Tuvalu\",\"Uganda\",\"Ukraine\",\"United Arab Emirates\",\"United Kingdom\",\"Tanzania\",\"United States\",\"Uruguay\",\"Uzbekistan\",\"Vanuatu\",\"Venezuela\",\"Vietnam\",\"Yemen\",\"Zambia\",\"Zimbabwe\"],\"xaxis\":\"x\",\"y\":[40,96,93,0,57,0,0,94,99,0,0,0,0,0,89,99,100,0,96,44,71,0,100,98,97,0,0,0,29,54,0,79,74,0,33,24,97,97,95,77,82,0,99,53,0,98,0,0,100,66,0,0,0,94,98,92,89,0,0,0,77,48,0,0,0,75,60,100,0,73,0,0,76,39,25,99,58,0,87,0,0,91,92,0,73,0,0,0,100,0,97,100,82,96,0,100,83,0,0,92,33,0,0,0,0,60,52,0,0,41,0,0,58,0,98,0,0,98,98,0,0,39,84,86,0,83,0,0,0,24,71,0,100,0,0,55,0,96,0,96,95,95,0,0,0,0,99,0,0,61,0,99,0,0,0,86,0,50,100,0,65,0,0,0,0,0,98,18,0,99,100,64,90,0,0,0,98,99,85,76,0,99,0,97,98,100,0,0,43,99,0,0,84,0,98,0,0,0,97,55,73,92],\"yaxis\":\"y\",\"type\":\"bar\"},{\"alignmentgroup\":\"True\",\"hovertemplate\":\"variable=Completion_Rate_Lower_Secondary_Male\\u003cbr\\u003eCountries and areas=%{x}\\u003cbr\\u003evalue=%{y}\\u003cextra\\u003e\\u003c\\u002fextra\\u003e\",\"legendgroup\":\"Completion_Rate_Lower_Secondary_Male\",\"marker\":{\"color\":\"#00cc96\",\"pattern\":{\"shape\":\"\"}},\"name\":\"Completion_Rate_Lower_Secondary_Male\",\"offsetgroup\":\"Completion_Rate_Lower_Secondary_Male\",\"orientation\":\"v\",\"showlegend\":true,\"textposition\":\"auto\",\"x\":[\"Afghanistan\",\"Albania\",\"Algeria\",\"Andorra\",\"Angola\",\"Anguilla\",\"Antigua and Barbuda\",\"Argentina\",\"Armenia\",\"Australia\",\"Austria\",\"Azerbaijan\",\"The Bahamas\",\"Bahrain\",\"Bangladesh\",\"Barbados\",\"Belarus\",\"Belgium\",\"Belize\",\"Benin\",\"Bhutan\",\"Bolivia\",\"Bosnia and Herzegovina\",\"Botswana\",\"Brazil\",\"British Virgin Islands\",\"Brunei\",\"Bulgaria\",\"Burkina Faso\",\"Burundi\",\"Cape Verde\",\"Cambodia\",\"Cameroon\",\"Canada\",\"Central African Republic\",\"Chad\",\"Chile\",\"China\",\"Colombia\",\"Comoros\",\"Republic of the Congo\",\"Cook Islands\",\"Costa Rica\",\"Ivory Coast\",\"Croatia\",\"Cuba\",\"Cyprus\",\"Czech Republic\",\"North Korea\",\"Democratic Republic of the Congo\",\"Denmark\",\"Djibouti\",\"Dominica\",\"Dominican Republic\",\"Ecuador\",\"Egypt\",\"El Salvador\",\"Equatorial Guinea\",\"Eritrea\",\"Estonia\",\"Eswatini\",\"Ethiopia\",\"Fiji\",\"Finland\",\"France\",\"Gabon\",\"The Gambia\",\"Georgia\",\"Germany\",\"Ghana\",\"Greece\",\"Grenada\",\"Guatemala\",\"Guinea\",\"Guinea0Bissau\",\"Guyana\",\"Haiti\",\"Vatican City\",\"Honduras\",\"Hungary\",\"Iceland\",\"India\",\"Indonesia\",\"Iran\",\"Iraq\",\"Republic of Ireland\",\"Israel\",\"Italy\",\"Jamaica\",\"Japan\",\"Jordan\",\"Kazakhstan\",\"Kenya\",\"Kiribati\",\"Kuwait\",\"Kyrgyzstan\",\"Laos\",\"Latvia\",\"Lebanon\",\"Lesotho\",\"Liberia\",\"Libya\",\"Liechtenstein\",\"Lithuania\",\"Luxembourg\",\"Madagascar\",\"Malawi\",\"Malaysia\",\"Maldives\",\"Mali\",\"Malta\",\"Marshall Islands\",\"Mauritania\",\"Mauritius\",\"Mexico\",\"Federated States of Micronesia\",\"Monaco\",\"Mongolia\",\"Montenegro\",\"Montserrat\",\"Morocco\",\"Mozambique\",\"Myanmar\",\"Namibia\",\"Nauru\",\"Nepal\",\"Netherlands\",\"New Zealand\",\"Nicaragua\",\"Niger\",\"Nigeria\",\"Niue\",\"North Macedonia\",\"Norway\",\"Oman\",\"Pakistan\",\"Palau\",\"Panama\",\"Papua New Guinea\",\"Paraguay\",\"Peru\",\"Philippines\",\"Poland\",\"Portugal\",\"Qatar\",\"South Korea\",\"Moldova\",\"Romania\",\"Russia\",\"Rwanda\",\"Saint Kitts and Nevis\",\"Saint Lucia\",\"Saint Vincent and the Grenadines\",\"Samoa\",\"San Marino\",\"S\\u00ef\\u00bf\\u00bd\\u00ef\\u00bf\\u00bd\\u00ef\\u00bf\\u00bd\\u00ef\\u00bf\\u00bd\\u00ef\\u00bf\\u00bd\\u00ef\\u00bf\\u00bd\\u00ef\\u00bf\\u00bd\\u00ef\\u00bf\",\"Saudi Arabia\",\"Senegal\",\"Serbia\",\"Seychelles\",\"Sierra Leone\",\"Singapore\",\"Slovakia\",\"Slovenia\",\"Solomon Islands\",\"Somalia\",\"South Africa\",\"South Sudan\",\"Spain\",\"Sri Lanka\",\"Palestinian National Authority\",\"Sudan\",\"Suriname\",\"Sweden\",\"Switzerland\",\"Syria\",\"Tajikistan\",\"Thailand\",\"East Timor\",\"Togo\",\"Tokelau\",\"Tonga\",\"Trinidad and Tobago\",\"Tunisia\",\"Turkey\",\"Turkmenistan\",\"Turks and Caicos Islands\",\"Tuvalu\",\"Uganda\",\"Ukraine\",\"United Arab Emirates\",\"United Kingdom\",\"Tanzania\",\"United States\",\"Uruguay\",\"Uzbekistan\",\"Vanuatu\",\"Venezuela\",\"Vietnam\",\"Yemen\",\"Zambia\",\"Zimbabwe\"],\"xaxis\":\"x\",\"y\":[49,98,49,0,42,0,0,70,95,0,0,0,0,0,59,98,100,0,55,25,41,0,97,92,81,0,0,0,13,26,0,41,52,0,16,18,94,93,74,47,56,0,70,36,0,95,0,0,100,58,0,0,0,76,89,79,73,0,0,0,47,19,0,0,0,32,50,98,0,45,0,0,52,33,18,80,32,0,46,0,0,82,64,0,46,0,0,0,97,0,86,100,61,69,0,99,54,0,0,33,29,0,0,0,0,26,23,0,0,36,0,0,53,0,87,0,0,87,93,0,0,15,45,48,0,71,0,0,0,10,66,0,93,0,0,55,0,75,0,81,83,75,0,0,0,0,95,0,0,25,0,85,0,0,0,32,0,27,99,0,47,0,0,0,0,0,85,22,0,94,80,49,41,0,0,0,95,81,63,55,0,65,0,68,96,99,0,0,27,100,0,0,31,0,66,0,0,0,81,55,54,45],\"yaxis\":\"y\",\"type\":\"bar\"},{\"alignmentgroup\":\"True\",\"hovertemplate\":\"variable=Completion_Rate_Lower_Secondary_Female\\u003cbr\\u003eCountries and areas=%{x}\\u003cbr\\u003evalue=%{y}\\u003cextra\\u003e\\u003c\\u002fextra\\u003e\",\"legendgroup\":\"Completion_Rate_Lower_Secondary_Female\",\"marker\":{\"color\":\"#ab63fa\",\"pattern\":{\"shape\":\"\"}},\"name\":\"Completion_Rate_Lower_Secondary_Female\",\"offsetgroup\":\"Completion_Rate_Lower_Secondary_Female\",\"orientation\":\"v\",\"showlegend\":true,\"textposition\":\"auto\",\"x\":[\"Afghanistan\",\"Albania\",\"Algeria\",\"Andorra\",\"Angola\",\"Anguilla\",\"Antigua and Barbuda\",\"Argentina\",\"Armenia\",\"Australia\",\"Austria\",\"Azerbaijan\",\"The Bahamas\",\"Bahrain\",\"Bangladesh\",\"Barbados\",\"Belarus\",\"Belgium\",\"Belize\",\"Benin\",\"Bhutan\",\"Bolivia\",\"Bosnia and Herzegovina\",\"Botswana\",\"Brazil\",\"British Virgin Islands\",\"Brunei\",\"Bulgaria\",\"Burkina Faso\",\"Burundi\",\"Cape Verde\",\"Cambodia\",\"Cameroon\",\"Canada\",\"Central African Republic\",\"Chad\",\"Chile\",\"China\",\"Colombia\",\"Comoros\",\"Republic of the Congo\",\"Cook Islands\",\"Costa Rica\",\"Ivory Coast\",\"Croatia\",\"Cuba\",\"Cyprus\",\"Czech Republic\",\"North Korea\",\"Democratic Republic of the Congo\",\"Denmark\",\"Djibouti\",\"Dominica\",\"Dominican Republic\",\"Ecuador\",\"Egypt\",\"El Salvador\",\"Equatorial Guinea\",\"Eritrea\",\"Estonia\",\"Eswatini\",\"Ethiopia\",\"Fiji\",\"Finland\",\"France\",\"Gabon\",\"The Gambia\",\"Georgia\",\"Germany\",\"Ghana\",\"Greece\",\"Grenada\",\"Guatemala\",\"Guinea\",\"Guinea0Bissau\",\"Guyana\",\"Haiti\",\"Vatican City\",\"Honduras\",\"Hungary\",\"Iceland\",\"India\",\"Indonesia\",\"Iran\",\"Iraq\",\"Republic of Ireland\",\"Israel\",\"Italy\",\"Jamaica\",\"Japan\",\"Jordan\",\"Kazakhstan\",\"Kenya\",\"Kiribati\",\"Kuwait\",\"Kyrgyzstan\",\"Laos\",\"Latvia\",\"Lebanon\",\"Lesotho\",\"Liberia\",\"Libya\",\"Liechtenstein\",\"Lithuania\",\"Luxembourg\",\"Madagascar\",\"Malawi\",\"Malaysia\",\"Maldives\",\"Mali\",\"Malta\",\"Marshall Islands\",\"Mauritania\",\"Mauritius\",\"Mexico\",\"Federated States of Micronesia\",\"Monaco\",\"Mongolia\",\"Montenegro\",\"Montserrat\",\"Morocco\",\"Mozambique\",\"Myanmar\",\"Namibia\",\"Nauru\",\"Nepal\",\"Netherlands\",\"New Zealand\",\"Nicaragua\",\"Niger\",\"Nigeria\",\"Niue\",\"North Macedonia\",\"Norway\",\"Oman\",\"Pakistan\",\"Palau\",\"Panama\",\"Papua New Guinea\",\"Paraguay\",\"Peru\",\"Philippines\",\"Poland\",\"Portugal\",\"Qatar\",\"South Korea\",\"Moldova\",\"Romania\",\"Russia\",\"Rwanda\",\"Saint Kitts and Nevis\",\"Saint Lucia\",\"Saint Vincent and the Grenadines\",\"Samoa\",\"San Marino\",\"S\\u00ef\\u00bf\\u00bd\\u00ef\\u00bf\\u00bd\\u00ef\\u00bf\\u00bd\\u00ef\\u00bf\\u00bd\\u00ef\\u00bf\\u00bd\\u00ef\\u00bf\\u00bd\\u00ef\\u00bf\\u00bd\\u00ef\\u00bf\",\"Saudi Arabia\",\"Senegal\",\"Serbia\",\"Seychelles\",\"Sierra Leone\",\"Singapore\",\"Slovakia\",\"Slovenia\",\"Solomon Islands\",\"Somalia\",\"South Africa\",\"South Sudan\",\"Spain\",\"Sri Lanka\",\"Palestinian National Authority\",\"Sudan\",\"Suriname\",\"Sweden\",\"Switzerland\",\"Syria\",\"Tajikistan\",\"Thailand\",\"East Timor\",\"Togo\",\"Tokelau\",\"Tonga\",\"Trinidad and Tobago\",\"Tunisia\",\"Turkey\",\"Turkmenistan\",\"Turks and Caicos Islands\",\"Tuvalu\",\"Uganda\",\"Ukraine\",\"United Arab Emirates\",\"United Kingdom\",\"Tanzania\",\"United States\",\"Uruguay\",\"Uzbekistan\",\"Vanuatu\",\"Venezuela\",\"Vietnam\",\"Yemen\",\"Zambia\",\"Zimbabwe\"],\"xaxis\":\"x\",\"y\":[26,97,65,0,32,0,0,79,99,0,0,0,0,0,71,98,100,0,66,13,38,0,97,92,89,0,0,0,6,19,0,39,43,0,8,10,97,93,81,45,45,0,76,22,0,98,0,0,100,52,0,0,0,89,92,81,74,0,0,0,54,22,0,0,0,33,48,98,0,50,0,0,45,20,16,88,38,0,52,0,0,79,59,0,47,0,0,0,97,0,88,100,69,88,0,99,53,0,0,55,23,0,0,0,0,27,21,0,0,25,0,0,40,0,90,0,0,93,97,0,0,11,45,62,0,75,0,0,0,4,59,0,95,0,0,45,0,81,0,79,83,88,0,0,0,0,98,0,0,30,0,98,0,0,0,36,0,30,99,0,42,0,0,0,0,0,91,10,0,96,93,52,58,0,0,0,93,92,70,39,0,76,0,80,92,100,0,0,23,100,0,0,27,0,73,0,0,0,87,39,50,53],\"yaxis\":\"y\",\"type\":\"bar\"},{\"alignmentgroup\":\"True\",\"hovertemplate\":\"variable=Completion_Rate_Upper_Secondary_Male\\u003cbr\\u003eCountries and areas=%{x}\\u003cbr\\u003evalue=%{y}\\u003cextra\\u003e\\u003c\\u002fextra\\u003e\",\"legendgroup\":\"Completion_Rate_Upper_Secondary_Male\",\"marker\":{\"color\":\"#FFA15A\",\"pattern\":{\"shape\":\"\"}},\"name\":\"Completion_Rate_Upper_Secondary_Male\",\"offsetgroup\":\"Completion_Rate_Upper_Secondary_Male\",\"orientation\":\"v\",\"showlegend\":true,\"textposition\":\"auto\",\"x\":[\"Afghanistan\",\"Albania\",\"Algeria\",\"Andorra\",\"Angola\",\"Anguilla\",\"Antigua and Barbuda\",\"Argentina\",\"Armenia\",\"Australia\",\"Austria\",\"Azerbaijan\",\"The Bahamas\",\"Bahrain\",\"Bangladesh\",\"Barbados\",\"Belarus\",\"Belgium\",\"Belize\",\"Benin\",\"Bhutan\",\"Bolivia\",\"Bosnia and Herzegovina\",\"Botswana\",\"Brazil\",\"British Virgin Islands\",\"Brunei\",\"Bulgaria\",\"Burkina Faso\",\"Burundi\",\"Cape Verde\",\"Cambodia\",\"Cameroon\",\"Canada\",\"Central African Republic\",\"Chad\",\"Chile\",\"China\",\"Colombia\",\"Comoros\",\"Republic of the Congo\",\"Cook Islands\",\"Costa Rica\",\"Ivory Coast\",\"Croatia\",\"Cuba\",\"Cyprus\",\"Czech Republic\",\"North Korea\",\"Democratic Republic of the Congo\",\"Denmark\",\"Djibouti\",\"Dominica\",\"Dominican Republic\",\"Ecuador\",\"Egypt\",\"El Salvador\",\"Equatorial Guinea\",\"Eritrea\",\"Estonia\",\"Eswatini\",\"Ethiopia\",\"Fiji\",\"Finland\",\"France\",\"Gabon\",\"The Gambia\",\"Georgia\",\"Germany\",\"Ghana\",\"Greece\",\"Grenada\",\"Guatemala\",\"Guinea\",\"Guinea0Bissau\",\"Guyana\",\"Haiti\",\"Vatican City\",\"Honduras\",\"Hungary\",\"Iceland\",\"India\",\"Indonesia\",\"Iran\",\"Iraq\",\"Republic of Ireland\",\"Israel\",\"Italy\",\"Jamaica\",\"Japan\",\"Jordan\",\"Kazakhstan\",\"Kenya\",\"Kiribati\",\"Kuwait\",\"Kyrgyzstan\",\"Laos\",\"Latvia\",\"Lebanon\",\"Lesotho\",\"Liberia\",\"Libya\",\"Liechtenstein\",\"Lithuania\",\"Luxembourg\",\"Madagascar\",\"Malawi\",\"Malaysia\",\"Maldives\",\"Mali\",\"Malta\",\"Marshall Islands\",\"Mauritania\",\"Mauritius\",\"Mexico\",\"Federated States of Micronesia\",\"Monaco\",\"Mongolia\",\"Montenegro\",\"Montserrat\",\"Morocco\",\"Mozambique\",\"Myanmar\",\"Namibia\",\"Nauru\",\"Nepal\",\"Netherlands\",\"New Zealand\",\"Nicaragua\",\"Niger\",\"Nigeria\",\"Niue\",\"North Macedonia\",\"Norway\",\"Oman\",\"Pakistan\",\"Palau\",\"Panama\",\"Papua New Guinea\",\"Paraguay\",\"Peru\",\"Philippines\",\"Poland\",\"Portugal\",\"Qatar\",\"South Korea\",\"Moldova\",\"Romania\",\"Russia\",\"Rwanda\",\"Saint Kitts and Nevis\",\"Saint Lucia\",\"Saint Vincent and the Grenadines\",\"Samoa\",\"San Marino\",\"S\\u00ef\\u00bf\\u00bd\\u00ef\\u00bf\\u00bd\\u00ef\\u00bf\\u00bd\\u00ef\\u00bf\\u00bd\\u00ef\\u00bf\\u00bd\\u00ef\\u00bf\\u00bd\\u00ef\\u00bf\\u00bd\\u00ef\\u00bf\",\"Saudi Arabia\",\"Senegal\",\"Serbia\",\"Seychelles\",\"Sierra Leone\",\"Singapore\",\"Slovakia\",\"Slovenia\",\"Solomon Islands\",\"Somalia\",\"South Africa\",\"South Sudan\",\"Spain\",\"Sri Lanka\",\"Palestinian National Authority\",\"Sudan\",\"Suriname\",\"Sweden\",\"Switzerland\",\"Syria\",\"Tajikistan\",\"Thailand\",\"East Timor\",\"Togo\",\"Tokelau\",\"Tonga\",\"Trinidad and Tobago\",\"Tunisia\",\"Turkey\",\"Turkmenistan\",\"Turks and Caicos Islands\",\"Tuvalu\",\"Uganda\",\"Ukraine\",\"United Arab Emirates\",\"United Kingdom\",\"Tanzania\",\"United States\",\"Uruguay\",\"Uzbekistan\",\"Vanuatu\",\"Venezuela\",\"Vietnam\",\"Yemen\",\"Zambia\",\"Zimbabwe\"],\"xaxis\":\"x\",\"y\":[32,76,22,0,24,0,0,46,69,0,0,0,0,0,32,91,91,0,48,12,25,0,92,55,65,0,0,0,6,4,0,20,26,0,8,15,83,63,69,24,28,0,56,17,0,85,0,0,100,36,0,0,0,48,78,43,34,0,0,0,31,11,0,0,0,14,33,79,0,12,0,0,27,22,14,49,17,0,29,0,0,46,40,0,45,0,0,0,80,0,49,95,44,13,0,89,32,0,0,27,18,0,0,0,0,16,15,0,0,23,0,0,31,0,56,0,0,60,83,0,0,8,14,33,0,27,0,0,0,4,57,0,86,0,0,24,0,57,0,60,78,74,0,0,0,0,63,0,0,19,0,70,0,0,0,4,0,11,71,0,27,0,0,0,0,0,45,12,0,32,52,33,18,0,0,0,80,59,49,31,0,45,0,40,51,93,0,0,18,97,0,0,32,0,48,0,0,0,50,37,33,17],\"yaxis\":\"y\",\"type\":\"bar\"},{\"alignmentgroup\":\"True\",\"hovertemplate\":\"variable=Completion_Rate_Upper_Secondary_Female\\u003cbr\\u003eCountries and areas=%{x}\\u003cbr\\u003evalue=%{y}\\u003cextra\\u003e\\u003c\\u002fextra\\u003e\",\"legendgroup\":\"Completion_Rate_Upper_Secondary_Female\",\"marker\":{\"color\":\"#19d3f3\",\"pattern\":{\"shape\":\"\"}},\"name\":\"Completion_Rate_Upper_Secondary_Female\",\"offsetgroup\":\"Completion_Rate_Upper_Secondary_Female\",\"orientation\":\"v\",\"showlegend\":true,\"textposition\":\"auto\",\"x\":[\"Afghanistan\",\"Albania\",\"Algeria\",\"Andorra\",\"Angola\",\"Anguilla\",\"Antigua and Barbuda\",\"Argentina\",\"Armenia\",\"Australia\",\"Austria\",\"Azerbaijan\",\"The Bahamas\",\"Bahrain\",\"Bangladesh\",\"Barbados\",\"Belarus\",\"Belgium\",\"Belize\",\"Benin\",\"Bhutan\",\"Bolivia\",\"Bosnia and Herzegovina\",\"Botswana\",\"Brazil\",\"British Virgin Islands\",\"Brunei\",\"Bulgaria\",\"Burkina Faso\",\"Burundi\",\"Cape Verde\",\"Cambodia\",\"Cameroon\",\"Canada\",\"Central African Republic\",\"Chad\",\"Chile\",\"China\",\"Colombia\",\"Comoros\",\"Republic of the Congo\",\"Cook Islands\",\"Costa Rica\",\"Ivory Coast\",\"Croatia\",\"Cuba\",\"Cyprus\",\"Czech Republic\",\"North Korea\",\"Democratic Republic of the Congo\",\"Denmark\",\"Djibouti\",\"Dominica\",\"Dominican Republic\",\"Ecuador\",\"Egypt\",\"El Salvador\",\"Equatorial Guinea\",\"Eritrea\",\"Estonia\",\"Eswatini\",\"Ethiopia\",\"Fiji\",\"Finland\",\"France\",\"Gabon\",\"The Gambia\",\"Georgia\",\"Germany\",\"Ghana\",\"Greece\",\"Grenada\",\"Guatemala\",\"Guinea\",\"Guinea0Bissau\",\"Guyana\",\"Haiti\",\"Vatican City\",\"Honduras\",\"Hungary\",\"Iceland\",\"India\",\"Indonesia\",\"Iran\",\"Iraq\",\"Republic of Ireland\",\"Israel\",\"Italy\",\"Jamaica\",\"Japan\",\"Jordan\",\"Kazakhstan\",\"Kenya\",\"Kiribati\",\"Kuwait\",\"Kyrgyzstan\",\"Laos\",\"Latvia\",\"Lebanon\",\"Lesotho\",\"Liberia\",\"Libya\",\"Liechtenstein\",\"Lithuania\",\"Luxembourg\",\"Madagascar\",\"Malawi\",\"Malaysia\",\"Maldives\",\"Mali\",\"Malta\",\"Marshall Islands\",\"Mauritania\",\"Mauritius\",\"Mexico\",\"Federated States of Micronesia\",\"Monaco\",\"Mongolia\",\"Montenegro\",\"Montserrat\",\"Morocco\",\"Mozambique\",\"Myanmar\",\"Namibia\",\"Nauru\",\"Nepal\",\"Netherlands\",\"New Zealand\",\"Nicaragua\",\"Niger\",\"Nigeria\",\"Niue\",\"North Macedonia\",\"Norway\",\"Oman\",\"Pakistan\",\"Palau\",\"Panama\",\"Papua New Guinea\",\"Paraguay\",\"Peru\",\"Philippines\",\"Poland\",\"Portugal\",\"Qatar\",\"South Korea\",\"Moldova\",\"Romania\",\"Russia\",\"Rwanda\",\"Saint Kitts and Nevis\",\"Saint Lucia\",\"Saint Vincent and the Grenadines\",\"Samoa\",\"San Marino\",\"S\\u00ef\\u00bf\\u00bd\\u00ef\\u00bf\\u00bd\\u00ef\\u00bf\\u00bd\\u00ef\\u00bf\\u00bd\\u00ef\\u00bf\\u00bd\\u00ef\\u00bf\\u00bd\\u00ef\\u00bf\\u00bd\\u00ef\\u00bf\",\"Saudi Arabia\",\"Senegal\",\"Serbia\",\"Seychelles\",\"Sierra Leone\",\"Singapore\",\"Slovakia\",\"Slovenia\",\"Solomon Islands\",\"Somalia\",\"South Africa\",\"South Sudan\",\"Spain\",\"Sri Lanka\",\"Palestinian National Authority\",\"Sudan\",\"Suriname\",\"Sweden\",\"Switzerland\",\"Syria\",\"Tajikistan\",\"Thailand\",\"East Timor\",\"Togo\",\"Tokelau\",\"Tonga\",\"Trinidad and Tobago\",\"Tunisia\",\"Turkey\",\"Turkmenistan\",\"Turks and Caicos Islands\",\"Tuvalu\",\"Uganda\",\"Ukraine\",\"United Arab Emirates\",\"United Kingdom\",\"Tanzania\",\"United States\",\"Uruguay\",\"Uzbekistan\",\"Vanuatu\",\"Venezuela\",\"Vietnam\",\"Yemen\",\"Zambia\",\"Zimbabwe\"],\"xaxis\":\"x\",\"y\":[14,80,37,0,15,0,0,53,79,0,0,0,0,0,27,97,94,0,51,5,18,0,92,66,75,0,0,0,2,3,0,20,21,0,6,6,88,67,78,32,19,0,60,15,0,86,0,0,100,27,0,0,0,66,79,41,36,0,0,0,33,14,0,0,0,14,28,83,0,9,0,0,25,13,8,64,16,0,35,0,0,40,37,0,43,0,0,0,83,0,63,96,38,20,0,85,31,0,0,37,9,0,0,0,0,15,13,0,0,12,0,0,23,0,60,0,0,73,90,0,0,5,19,39,0,28,0,0,0,1,44,0,79,0,0,23,0,68,0,67,72,83,0,0,0,0,71,0,0,16,0,90,0,0,0,8,0,10,81,0,18,0,0,0,0,0,52,4,0,43,73,28,26,0,0,0,63,72,55,12,0,56,0,57,44,95,0,0,15,97,0,0,27,0,29,0,0,0,61,23,27,14],\"yaxis\":\"y\",\"type\":\"bar\"}],                        {\"template\":{\"data\":{\"histogram2dcontour\":[{\"type\":\"histogram2dcontour\",\"colorbar\":{\"outlinewidth\":0,\"ticks\":\"\"},\"colorscale\":[[0.0,\"#0d0887\"],[0.1111111111111111,\"#46039f\"],[0.2222222222222222,\"#7201a8\"],[0.3333333333333333,\"#9c179e\"],[0.4444444444444444,\"#bd3786\"],[0.5555555555555556,\"#d8576b\"],[0.6666666666666666,\"#ed7953\"],[0.7777777777777778,\"#fb9f3a\"],[0.8888888888888888,\"#fdca26\"],[1.0,\"#f0f921\"]]}],\"choropleth\":[{\"type\":\"choropleth\",\"colorbar\":{\"outlinewidth\":0,\"ticks\":\"\"}}],\"histogram2d\":[{\"type\":\"histogram2d\",\"colorbar\":{\"outlinewidth\":0,\"ticks\":\"\"},\"colorscale\":[[0.0,\"#0d0887\"],[0.1111111111111111,\"#46039f\"],[0.2222222222222222,\"#7201a8\"],[0.3333333333333333,\"#9c179e\"],[0.4444444444444444,\"#bd3786\"],[0.5555555555555556,\"#d8576b\"],[0.6666666666666666,\"#ed7953\"],[0.7777777777777778,\"#fb9f3a\"],[0.8888888888888888,\"#fdca26\"],[1.0,\"#f0f921\"]]}],\"heatmap\":[{\"type\":\"heatmap\",\"colorbar\":{\"outlinewidth\":0,\"ticks\":\"\"},\"colorscale\":[[0.0,\"#0d0887\"],[0.1111111111111111,\"#46039f\"],[0.2222222222222222,\"#7201a8\"],[0.3333333333333333,\"#9c179e\"],[0.4444444444444444,\"#bd3786\"],[0.5555555555555556,\"#d8576b\"],[0.6666666666666666,\"#ed7953\"],[0.7777777777777778,\"#fb9f3a\"],[0.8888888888888888,\"#fdca26\"],[1.0,\"#f0f921\"]]}],\"heatmapgl\":[{\"type\":\"heatmapgl\",\"colorbar\":{\"outlinewidth\":0,\"ticks\":\"\"},\"colorscale\":[[0.0,\"#0d0887\"],[0.1111111111111111,\"#46039f\"],[0.2222222222222222,\"#7201a8\"],[0.3333333333333333,\"#9c179e\"],[0.4444444444444444,\"#bd3786\"],[0.5555555555555556,\"#d8576b\"],[0.6666666666666666,\"#ed7953\"],[0.7777777777777778,\"#fb9f3a\"],[0.8888888888888888,\"#fdca26\"],[1.0,\"#f0f921\"]]}],\"contourcarpet\":[{\"type\":\"contourcarpet\",\"colorbar\":{\"outlinewidth\":0,\"ticks\":\"\"}}],\"contour\":[{\"type\":\"contour\",\"colorbar\":{\"outlinewidth\":0,\"ticks\":\"\"},\"colorscale\":[[0.0,\"#0d0887\"],[0.1111111111111111,\"#46039f\"],[0.2222222222222222,\"#7201a8\"],[0.3333333333333333,\"#9c179e\"],[0.4444444444444444,\"#bd3786\"],[0.5555555555555556,\"#d8576b\"],[0.6666666666666666,\"#ed7953\"],[0.7777777777777778,\"#fb9f3a\"],[0.8888888888888888,\"#fdca26\"],[1.0,\"#f0f921\"]]}],\"surface\":[{\"type\":\"surface\",\"colorbar\":{\"outlinewidth\":0,\"ticks\":\"\"},\"colorscale\":[[0.0,\"#0d0887\"],[0.1111111111111111,\"#46039f\"],[0.2222222222222222,\"#7201a8\"],[0.3333333333333333,\"#9c179e\"],[0.4444444444444444,\"#bd3786\"],[0.5555555555555556,\"#d8576b\"],[0.6666666666666666,\"#ed7953\"],[0.7777777777777778,\"#fb9f3a\"],[0.8888888888888888,\"#fdca26\"],[1.0,\"#f0f921\"]]}],\"mesh3d\":[{\"type\":\"mesh3d\",\"colorbar\":{\"outlinewidth\":0,\"ticks\":\"\"}}],\"scatter\":[{\"marker\":{\"line\":{\"color\":\"#283442\"}},\"type\":\"scatter\"}],\"parcoords\":[{\"type\":\"parcoords\",\"line\":{\"colorbar\":{\"outlinewidth\":0,\"ticks\":\"\"}}}],\"scatterpolargl\":[{\"type\":\"scatterpolargl\",\"marker\":{\"colorbar\":{\"outlinewidth\":0,\"ticks\":\"\"}}}],\"bar\":[{\"error_x\":{\"color\":\"#f2f5fa\"},\"error_y\":{\"color\":\"#f2f5fa\"},\"marker\":{\"line\":{\"color\":\"rgb(17,17,17)\",\"width\":0.5},\"pattern\":{\"fillmode\":\"overlay\",\"size\":10,\"solidity\":0.2}},\"type\":\"bar\"}],\"scattergeo\":[{\"type\":\"scattergeo\",\"marker\":{\"colorbar\":{\"outlinewidth\":0,\"ticks\":\"\"}}}],\"scatterpolar\":[{\"type\":\"scatterpolar\",\"marker\":{\"colorbar\":{\"outlinewidth\":0,\"ticks\":\"\"}}}],\"histogram\":[{\"marker\":{\"pattern\":{\"fillmode\":\"overlay\",\"size\":10,\"solidity\":0.2}},\"type\":\"histogram\"}],\"scattergl\":[{\"marker\":{\"line\":{\"color\":\"#283442\"}},\"type\":\"scattergl\"}],\"scatter3d\":[{\"type\":\"scatter3d\",\"line\":{\"colorbar\":{\"outlinewidth\":0,\"ticks\":\"\"}},\"marker\":{\"colorbar\":{\"outlinewidth\":0,\"ticks\":\"\"}}}],\"scattermapbox\":[{\"type\":\"scattermapbox\",\"marker\":{\"colorbar\":{\"outlinewidth\":0,\"ticks\":\"\"}}}],\"scatterternary\":[{\"type\":\"scatterternary\",\"marker\":{\"colorbar\":{\"outlinewidth\":0,\"ticks\":\"\"}}}],\"scattercarpet\":[{\"type\":\"scattercarpet\",\"marker\":{\"colorbar\":{\"outlinewidth\":0,\"ticks\":\"\"}}}],\"carpet\":[{\"aaxis\":{\"endlinecolor\":\"#A2B1C6\",\"gridcolor\":\"#506784\",\"linecolor\":\"#506784\",\"minorgridcolor\":\"#506784\",\"startlinecolor\":\"#A2B1C6\"},\"baxis\":{\"endlinecolor\":\"#A2B1C6\",\"gridcolor\":\"#506784\",\"linecolor\":\"#506784\",\"minorgridcolor\":\"#506784\",\"startlinecolor\":\"#A2B1C6\"},\"type\":\"carpet\"}],\"table\":[{\"cells\":{\"fill\":{\"color\":\"#506784\"},\"line\":{\"color\":\"rgb(17,17,17)\"}},\"header\":{\"fill\":{\"color\":\"#2a3f5f\"},\"line\":{\"color\":\"rgb(17,17,17)\"}},\"type\":\"table\"}],\"barpolar\":[{\"marker\":{\"line\":{\"color\":\"rgb(17,17,17)\",\"width\":0.5},\"pattern\":{\"fillmode\":\"overlay\",\"size\":10,\"solidity\":0.2}},\"type\":\"barpolar\"}],\"pie\":[{\"automargin\":true,\"type\":\"pie\"}]},\"layout\":{\"autotypenumbers\":\"strict\",\"colorway\":[\"#636efa\",\"#EF553B\",\"#00cc96\",\"#ab63fa\",\"#FFA15A\",\"#19d3f3\",\"#FF6692\",\"#B6E880\",\"#FF97FF\",\"#FECB52\"],\"font\":{\"color\":\"#f2f5fa\"},\"hovermode\":\"closest\",\"hoverlabel\":{\"align\":\"left\"},\"paper_bgcolor\":\"rgb(17,17,17)\",\"plot_bgcolor\":\"rgb(17,17,17)\",\"polar\":{\"bgcolor\":\"rgb(17,17,17)\",\"angularaxis\":{\"gridcolor\":\"#506784\",\"linecolor\":\"#506784\",\"ticks\":\"\"},\"radialaxis\":{\"gridcolor\":\"#506784\",\"linecolor\":\"#506784\",\"ticks\":\"\"}},\"ternary\":{\"bgcolor\":\"rgb(17,17,17)\",\"aaxis\":{\"gridcolor\":\"#506784\",\"linecolor\":\"#506784\",\"ticks\":\"\"},\"baxis\":{\"gridcolor\":\"#506784\",\"linecolor\":\"#506784\",\"ticks\":\"\"},\"caxis\":{\"gridcolor\":\"#506784\",\"linecolor\":\"#506784\",\"ticks\":\"\"}},\"coloraxis\":{\"colorbar\":{\"outlinewidth\":0,\"ticks\":\"\"}},\"colorscale\":{\"sequential\":[[0.0,\"#0d0887\"],[0.1111111111111111,\"#46039f\"],[0.2222222222222222,\"#7201a8\"],[0.3333333333333333,\"#9c179e\"],[0.4444444444444444,\"#bd3786\"],[0.5555555555555556,\"#d8576b\"],[0.6666666666666666,\"#ed7953\"],[0.7777777777777778,\"#fb9f3a\"],[0.8888888888888888,\"#fdca26\"],[1.0,\"#f0f921\"]],\"sequentialminus\":[[0.0,\"#0d0887\"],[0.1111111111111111,\"#46039f\"],[0.2222222222222222,\"#7201a8\"],[0.3333333333333333,\"#9c179e\"],[0.4444444444444444,\"#bd3786\"],[0.5555555555555556,\"#d8576b\"],[0.6666666666666666,\"#ed7953\"],[0.7777777777777778,\"#fb9f3a\"],[0.8888888888888888,\"#fdca26\"],[1.0,\"#f0f921\"]],\"diverging\":[[0,\"#8e0152\"],[0.1,\"#c51b7d\"],[0.2,\"#de77ae\"],[0.3,\"#f1b6da\"],[0.4,\"#fde0ef\"],[0.5,\"#f7f7f7\"],[0.6,\"#e6f5d0\"],[0.7,\"#b8e186\"],[0.8,\"#7fbc41\"],[0.9,\"#4d9221\"],[1,\"#276419\"]]},\"xaxis\":{\"gridcolor\":\"#283442\",\"linecolor\":\"#506784\",\"ticks\":\"\",\"title\":{\"standoff\":15},\"zerolinecolor\":\"#283442\",\"automargin\":true,\"zerolinewidth\":2},\"yaxis\":{\"gridcolor\":\"#283442\",\"linecolor\":\"#506784\",\"ticks\":\"\",\"title\":{\"standoff\":15},\"zerolinecolor\":\"#283442\",\"automargin\":true,\"zerolinewidth\":2},\"scene\":{\"xaxis\":{\"backgroundcolor\":\"rgb(17,17,17)\",\"gridcolor\":\"#506784\",\"linecolor\":\"#506784\",\"showbackground\":true,\"ticks\":\"\",\"zerolinecolor\":\"#C8D4E3\",\"gridwidth\":2},\"yaxis\":{\"backgroundcolor\":\"rgb(17,17,17)\",\"gridcolor\":\"#506784\",\"linecolor\":\"#506784\",\"showbackground\":true,\"ticks\":\"\",\"zerolinecolor\":\"#C8D4E3\",\"gridwidth\":2},\"zaxis\":{\"backgroundcolor\":\"rgb(17,17,17)\",\"gridcolor\":\"#506784\",\"linecolor\":\"#506784\",\"showbackground\":true,\"ticks\":\"\",\"zerolinecolor\":\"#C8D4E3\",\"gridwidth\":2}},\"shapedefaults\":{\"line\":{\"color\":\"#f2f5fa\"}},\"annotationdefaults\":{\"arrowcolor\":\"#f2f5fa\",\"arrowhead\":0,\"arrowwidth\":1},\"geo\":{\"bgcolor\":\"rgb(17,17,17)\",\"landcolor\":\"rgb(17,17,17)\",\"subunitcolor\":\"#506784\",\"showland\":true,\"showlakes\":true,\"lakecolor\":\"rgb(17,17,17)\"},\"title\":{\"x\":0.05},\"updatemenudefaults\":{\"bgcolor\":\"#506784\",\"borderwidth\":0},\"sliderdefaults\":{\"bgcolor\":\"#C8D4E3\",\"borderwidth\":1,\"bordercolor\":\"rgb(17,17,17)\",\"tickwidth\":0},\"mapbox\":{\"style\":\"dark\"}}},\"xaxis\":{\"anchor\":\"y\",\"domain\":[0.0,1.0],\"title\":{\"text\":\"Countries and areas\"},\"tickangle\":-45},\"yaxis\":{\"anchor\":\"x\",\"domain\":[0.0,1.0],\"title\":{\"text\":\"value\"}},\"legend\":{\"title\":{\"text\":\"variable\"},\"tracegroupgap\":0},\"title\":{\"text\":\"Completion Rates Over Different Education Levels\"},\"barmode\":\"relative\"},                        {\"responsive\": true}                    ).then(function(){\n                            \nvar gd = document.getElementById('bac39e09-717c-4fac-88ce-3a332715c4d1');\nvar x = new MutationObserver(function (mutations, observer) {{\n        var display = window.getComputedStyle(gd).display;\n        if (!display || display === 'none') {{\n            console.log([gd, 'removed!']);\n            Plotly.purge(gd);\n            observer.disconnect();\n        }}\n}});\n\n// Listen for the removal of the full notebook cells\nvar notebookContainer = gd.closest('#notebook-container');\nif (notebookContainer) {{\n    x.observe(notebookContainer, {childList: true});\n}}\n\n// Listen for the clearing of the current output cell\nvar outputEl = gd.closest('.output');\nif (outputEl) {{\n    x.observe(outputEl, {childList: true});\n}}\n\n                        })                };                });            </script>        </div>"
     },
     "metadata": {},
     "output_type": "display_data"
    }
   ],
   "source": [
    "fig.update_layout(xaxis_tickangle=-45)\n",
    "fig.show()"
   ],
   "metadata": {
    "collapsed": false,
    "ExecuteTime": {
     "end_time": "2024-01-30T11:22:17.119068900Z",
     "start_time": "2024-01-30T11:22:16.058832600Z"
    }
   },
   "id": "ac366bbaee579860"
  },
  {
   "cell_type": "markdown",
   "source": [
    "# Proficiency in Reading and Math"
   ],
   "metadata": {
    "collapsed": false
   },
   "id": "45c16c4991875e5c"
  },
  {
   "cell_type": "code",
   "execution_count": 8,
   "outputs": [
    {
     "data": {
      "application/vnd.plotly.v1+json": {
       "data": [
        {
         "hovertemplate": "Reading Proficiency=%{x}<br>Math Proficiency=%{y}<br>Youth_15_24_Literacy_Rate_Female=%{marker.size}<br>Countries and areas=%{text}<br>Youth_15_24_Literacy_Rate_Male=%{marker.color}<extra></extra>",
         "legendgroup": "",
         "marker": {
          "color": [
           74,
           99,
           98,
           0,
           0,
           0,
           0,
           99,
           0,
           0,
           0,
           0,
           0,
           100,
           94,
           0,
           100,
           0,
           0,
           70,
           0,
           0,
           0,
           0,
           99,
           0,
           100,
           0,
           62,
           0,
           0,
           0,
           88,
           0,
           48,
           0,
           0,
           100,
           99,
           78,
           85,
           0,
           99,
           64,
           0,
           0,
           0,
           0,
           0,
           0,
           0,
           0,
           0,
           0,
           0,
           0,
           98,
           0,
           94,
           0,
           94,
           0,
           0,
           0,
           0,
           88,
           0,
           0,
           0,
           93,
           99,
           0,
           0,
           70,
           0,
           0,
           0,
           0,
           95,
           0,
           0,
           93,
           100,
           0,
           0,
           0,
           0,
           100,
           0,
           0,
           99,
           100,
           88,
           0,
           99,
           100,
           0,
           100,
           100,
           0,
           0,
           0,
           0,
           0,
           0,
           82,
           0,
           97,
           0,
           58,
           99,
           0,
           0,
           99,
           99,
           0,
           0,
           98,
           99,
           0,
           98,
           0,
           0,
           94,
           0,
           94,
           0,
           0,
           0,
           51,
           82,
           0,
           0,
           0,
           98,
           0,
           0,
           99,
           0,
           98,
           99,
           0,
           0,
           100,
           0,
           0,
           0,
           99,
           100,
           84,
           0,
           0,
           0,
           99,
           100,
           98,
           0,
           0,
           0,
           99,
           71,
           100,
           0,
           0,
           0,
           0,
           0,
           48,
           100,
           99,
           99,
           73,
           99,
           0,
           0,
           0,
           0,
           98,
           82,
           0,
           0,
           99,
           0,
           0,
           0,
           0,
           0,
           0,
           89,
           0,
           0,
           0,
           0,
           0,
           99,
           100,
           96,
           0,
           98,
           0,
           93,
           0
          ],
          "coloraxis": "coloraxis",
          "size": 12,
          "sizemode": "area",
          "sizeref": 0.25,
          "symbol": "circle",
          "opacity": 0.7
         },
         "mode": "markers+text",
         "name": "",
         "orientation": "v",
         "showlegend": false,
         "text": [
          "Afghanistan",
          "Albania",
          "Algeria",
          "Andorra",
          "Angola",
          "Anguilla",
          "Antigua and Barbuda",
          "Argentina",
          "Armenia",
          "Australia",
          "Austria",
          "Azerbaijan",
          "The Bahamas",
          "Bahrain",
          "Bangladesh",
          "Barbados",
          "Belarus",
          "Belgium",
          "Belize",
          "Benin",
          "Bhutan",
          "Bolivia",
          "Bosnia and Herzegovina",
          "Botswana",
          "Brazil",
          "British Virgin Islands",
          "Brunei",
          "Bulgaria",
          "Burkina Faso",
          "Burundi",
          "Cape Verde",
          "Cambodia",
          "Cameroon",
          "Canada",
          "Central African Republic",
          "Chad",
          "Chile",
          "China",
          "Colombia",
          "Comoros",
          "Republic of the Congo",
          "Cook Islands",
          "Costa Rica",
          "Ivory Coast",
          "Croatia",
          "Cuba",
          "Cyprus",
          "Czech Republic",
          "North Korea",
          "Democratic Republic of the Congo",
          "Denmark",
          "Djibouti",
          "Dominica",
          "Dominican Republic",
          "Ecuador",
          "Egypt",
          "El Salvador",
          "Equatorial Guinea",
          "Eritrea",
          "Estonia",
          "Eswatini",
          "Ethiopia",
          "Fiji",
          "Finland",
          "France",
          "Gabon",
          "The Gambia",
          "Georgia",
          "Germany",
          "Ghana",
          "Greece",
          "Grenada",
          "Guatemala",
          "Guinea",
          "Guinea0Bissau",
          "Guyana",
          "Haiti",
          "Vatican City",
          "Honduras",
          "Hungary",
          "Iceland",
          "India",
          "Indonesia",
          "Iran",
          "Iraq",
          "Republic of Ireland",
          "Israel",
          "Italy",
          "Jamaica",
          "Japan",
          "Jordan",
          "Kazakhstan",
          "Kenya",
          "Kiribati",
          "Kuwait",
          "Kyrgyzstan",
          "Laos",
          "Latvia",
          "Lebanon",
          "Lesotho",
          "Liberia",
          "Libya",
          "Liechtenstein",
          "Lithuania",
          "Luxembourg",
          "Madagascar",
          "Malawi",
          "Malaysia",
          "Maldives",
          "Mali",
          "Malta",
          "Marshall Islands",
          "Mauritania",
          "Mauritius",
          "Mexico",
          "Federated States of Micronesia",
          "Monaco",
          "Mongolia",
          "Montenegro",
          "Montserrat",
          "Morocco",
          "Mozambique",
          "Myanmar",
          "Namibia",
          "Nauru",
          "Nepal",
          "Netherlands",
          "New Zealand",
          "Nicaragua",
          "Niger",
          "Nigeria",
          "Niue",
          "North Macedonia",
          "Norway",
          "Oman",
          "Pakistan",
          "Palau",
          "Panama",
          "Papua New Guinea",
          "Paraguay",
          "Peru",
          "Philippines",
          "Poland",
          "Portugal",
          "Qatar",
          "South Korea",
          "Moldova",
          "Romania",
          "Russia",
          "Rwanda",
          "Saint Kitts and Nevis",
          "Saint Lucia",
          "Saint Vincent and the Grenadines",
          "Samoa",
          "San Marino",
          "Sï¿½ï¿½ï¿½ï¿½ï¿½ï¿½ï¿½ï¿",
          "Saudi Arabia",
          "Senegal",
          "Serbia",
          "Seychelles",
          "Sierra Leone",
          "Singapore",
          "Slovakia",
          "Slovenia",
          "Solomon Islands",
          "Somalia",
          "South Africa",
          "South Sudan",
          "Spain",
          "Sri Lanka",
          "Palestinian National Authority",
          "Sudan",
          "Suriname",
          "Sweden",
          "Switzerland",
          "Syria",
          "Tajikistan",
          "Thailand",
          "East Timor",
          "Togo",
          "Tokelau",
          "Tonga",
          "Trinidad and Tobago",
          "Tunisia",
          "Turkey",
          "Turkmenistan",
          "Turks and Caicos Islands",
          "Tuvalu",
          "Uganda",
          "Ukraine",
          "United Arab Emirates",
          "United Kingdom",
          "Tanzania",
          "United States",
          "Uruguay",
          "Uzbekistan",
          "Vanuatu",
          "Venezuela",
          "Vietnam",
          "Yemen",
          "Zambia",
          "Zimbabwe"
         ],
         "x": [
          22,
          0,
          0,
          0,
          0,
          0,
          0,
          76,
          0,
          94,
          0,
          0,
          0,
          69,
          47,
          0,
          0,
          0,
          0,
          9,
          0,
          0,
          0,
          0,
          80,
          0,
          0,
          0,
          36,
          79,
          0,
          0,
          30,
          96,
          0,
          18,
          94,
          82,
          79,
          0,
          38,
          0,
          89,
          17,
          0,
          0,
          0,
          97,
          94,
          0,
          97,
          0,
          0,
          44,
          74,
          0,
          0,
          0,
          0,
          0,
          0,
          0,
          0,
          98,
          0,
          0,
          5,
          86,
          0,
          0,
          0,
          0,
          68,
          0,
          0,
          0,
          0,
          0,
          70,
          0,
          0,
          47,
          0,
          66,
          0,
          98,
          91,
          98,
          0,
          0,
          0,
          0,
          53,
          0,
          0,
          39,
          0,
          99,
          0,
          13,
          0,
          0,
          0,
          0,
          0,
          13,
          0,
          0,
          0,
          0,
          73,
          0,
          0,
          0,
          78,
          0,
          0,
          44,
          0,
          0,
          36,
          0,
          0,
          0,
          0,
          0,
          99,
          90,
          61,
          9,
          0,
          0,
          0,
          99,
          59,
          35,
          0,
          65,
          0,
          61,
          80,
          0,
          98,
          97,
          66,
          0,
          0,
          0,
          0,
          0,
          0,
          0,
          0,
          0,
          0,
          0,
          63,
          29,
          0,
          0,
          6,
          97,
          0,
          96,
          0,
          0,
          22,
          0,
          97,
          0,
          0,
          0,
          30,
          98,
          0,
          0,
          0,
          0,
          0,
          19,
          0,
          0,
          80,
          47,
          0,
          0,
          0,
          0,
          33,
          0,
          68,
          0,
          0,
          0,
          80,
          0,
          0,
          0,
          0,
          0,
          0,
          20
         ],
         "xaxis": "x",
         "y": [
          25,
          0,
          0,
          0,
          0,
          0,
          0,
          71,
          0,
          70,
          0,
          0,
          0,
          40,
          34,
          0,
          0,
          0,
          0,
          34,
          0,
          0,
          0,
          0,
          71,
          0,
          0,
          0,
          59,
          97,
          0,
          0,
          57,
          69,
          0,
          48,
          90,
          85,
          64,
          0,
          72,
          0,
          84,
          33,
          0,
          0,
          74,
          78,
          0,
          0,
          80,
          0,
          0,
          25,
          65,
          0,
          0,
          0,
          0,
          0,
          0,
          0,
          0,
          82,
          0,
          0,
          0,
          47,
          0,
          0,
          0,
          0,
          52,
          0,
          0,
          0,
          0,
          0,
          57,
          0,
          0,
          53,
          18,
          33,
          0,
          84,
          0,
          69,
          0,
          95,
          0,
          0,
          42,
          0,
          12,
          0,
          0,
          0,
          0,
          0,
          0,
          0,
          0,
          0,
          0,
          0,
          0,
          0,
          0,
          0,
          0,
          0,
          0,
          0,
          77,
          0,
          0,
          0,
          0,
          0,
          16,
          0,
          0,
          0,
          0,
          0,
          83,
          59,
          44,
          27,
          0,
          0,
          0,
          86,
          32,
          0,
          0,
          51,
          0,
          47,
          70,
          0,
          80,
          82,
          36,
          97,
          0,
          0,
          0,
          0,
          0,
          0,
          0,
          0,
          0,
          0,
          16,
          63,
          0,
          0,
          0,
          93,
          0,
          75,
          0,
          0,
          0,
          0,
          67,
          0,
          0,
          0,
          0,
          75,
          0,
          0,
          0,
          0,
          0,
          40,
          0,
          0,
          0,
          0,
          0,
          0,
          0,
          0,
          21,
          0,
          42,
          0,
          0,
          0,
          75,
          0,
          0,
          0,
          0,
          0,
          0,
          0
         ],
         "yaxis": "y",
         "type": "scatter",
         "textposition": "top center"
        }
       ],
       "layout": {
        "template": {
         "data": {
          "histogram2dcontour": [
           {
            "type": "histogram2dcontour",
            "colorbar": {
             "outlinewidth": 0,
             "ticks": ""
            },
            "colorscale": [
             [
              0.0,
              "#0d0887"
             ],
             [
              0.1111111111111111,
              "#46039f"
             ],
             [
              0.2222222222222222,
              "#7201a8"
             ],
             [
              0.3333333333333333,
              "#9c179e"
             ],
             [
              0.4444444444444444,
              "#bd3786"
             ],
             [
              0.5555555555555556,
              "#d8576b"
             ],
             [
              0.6666666666666666,
              "#ed7953"
             ],
             [
              0.7777777777777778,
              "#fb9f3a"
             ],
             [
              0.8888888888888888,
              "#fdca26"
             ],
             [
              1.0,
              "#f0f921"
             ]
            ]
           }
          ],
          "choropleth": [
           {
            "type": "choropleth",
            "colorbar": {
             "outlinewidth": 0,
             "ticks": ""
            }
           }
          ],
          "histogram2d": [
           {
            "type": "histogram2d",
            "colorbar": {
             "outlinewidth": 0,
             "ticks": ""
            },
            "colorscale": [
             [
              0.0,
              "#0d0887"
             ],
             [
              0.1111111111111111,
              "#46039f"
             ],
             [
              0.2222222222222222,
              "#7201a8"
             ],
             [
              0.3333333333333333,
              "#9c179e"
             ],
             [
              0.4444444444444444,
              "#bd3786"
             ],
             [
              0.5555555555555556,
              "#d8576b"
             ],
             [
              0.6666666666666666,
              "#ed7953"
             ],
             [
              0.7777777777777778,
              "#fb9f3a"
             ],
             [
              0.8888888888888888,
              "#fdca26"
             ],
             [
              1.0,
              "#f0f921"
             ]
            ]
           }
          ],
          "heatmap": [
           {
            "type": "heatmap",
            "colorbar": {
             "outlinewidth": 0,
             "ticks": ""
            },
            "colorscale": [
             [
              0.0,
              "#0d0887"
             ],
             [
              0.1111111111111111,
              "#46039f"
             ],
             [
              0.2222222222222222,
              "#7201a8"
             ],
             [
              0.3333333333333333,
              "#9c179e"
             ],
             [
              0.4444444444444444,
              "#bd3786"
             ],
             [
              0.5555555555555556,
              "#d8576b"
             ],
             [
              0.6666666666666666,
              "#ed7953"
             ],
             [
              0.7777777777777778,
              "#fb9f3a"
             ],
             [
              0.8888888888888888,
              "#fdca26"
             ],
             [
              1.0,
              "#f0f921"
             ]
            ]
           }
          ],
          "heatmapgl": [
           {
            "type": "heatmapgl",
            "colorbar": {
             "outlinewidth": 0,
             "ticks": ""
            },
            "colorscale": [
             [
              0.0,
              "#0d0887"
             ],
             [
              0.1111111111111111,
              "#46039f"
             ],
             [
              0.2222222222222222,
              "#7201a8"
             ],
             [
              0.3333333333333333,
              "#9c179e"
             ],
             [
              0.4444444444444444,
              "#bd3786"
             ],
             [
              0.5555555555555556,
              "#d8576b"
             ],
             [
              0.6666666666666666,
              "#ed7953"
             ],
             [
              0.7777777777777778,
              "#fb9f3a"
             ],
             [
              0.8888888888888888,
              "#fdca26"
             ],
             [
              1.0,
              "#f0f921"
             ]
            ]
           }
          ],
          "contourcarpet": [
           {
            "type": "contourcarpet",
            "colorbar": {
             "outlinewidth": 0,
             "ticks": ""
            }
           }
          ],
          "contour": [
           {
            "type": "contour",
            "colorbar": {
             "outlinewidth": 0,
             "ticks": ""
            },
            "colorscale": [
             [
              0.0,
              "#0d0887"
             ],
             [
              0.1111111111111111,
              "#46039f"
             ],
             [
              0.2222222222222222,
              "#7201a8"
             ],
             [
              0.3333333333333333,
              "#9c179e"
             ],
             [
              0.4444444444444444,
              "#bd3786"
             ],
             [
              0.5555555555555556,
              "#d8576b"
             ],
             [
              0.6666666666666666,
              "#ed7953"
             ],
             [
              0.7777777777777778,
              "#fb9f3a"
             ],
             [
              0.8888888888888888,
              "#fdca26"
             ],
             [
              1.0,
              "#f0f921"
             ]
            ]
           }
          ],
          "surface": [
           {
            "type": "surface",
            "colorbar": {
             "outlinewidth": 0,
             "ticks": ""
            },
            "colorscale": [
             [
              0.0,
              "#0d0887"
             ],
             [
              0.1111111111111111,
              "#46039f"
             ],
             [
              0.2222222222222222,
              "#7201a8"
             ],
             [
              0.3333333333333333,
              "#9c179e"
             ],
             [
              0.4444444444444444,
              "#bd3786"
             ],
             [
              0.5555555555555556,
              "#d8576b"
             ],
             [
              0.6666666666666666,
              "#ed7953"
             ],
             [
              0.7777777777777778,
              "#fb9f3a"
             ],
             [
              0.8888888888888888,
              "#fdca26"
             ],
             [
              1.0,
              "#f0f921"
             ]
            ]
           }
          ],
          "mesh3d": [
           {
            "type": "mesh3d",
            "colorbar": {
             "outlinewidth": 0,
             "ticks": ""
            }
           }
          ],
          "scatter": [
           {
            "marker": {
             "line": {
              "color": "#283442"
             }
            },
            "type": "scatter"
           }
          ],
          "parcoords": [
           {
            "type": "parcoords",
            "line": {
             "colorbar": {
              "outlinewidth": 0,
              "ticks": ""
             }
            }
           }
          ],
          "scatterpolargl": [
           {
            "type": "scatterpolargl",
            "marker": {
             "colorbar": {
              "outlinewidth": 0,
              "ticks": ""
             }
            }
           }
          ],
          "bar": [
           {
            "error_x": {
             "color": "#f2f5fa"
            },
            "error_y": {
             "color": "#f2f5fa"
            },
            "marker": {
             "line": {
              "color": "rgb(17,17,17)",
              "width": 0.5
             },
             "pattern": {
              "fillmode": "overlay",
              "size": 10,
              "solidity": 0.2
             }
            },
            "type": "bar"
           }
          ],
          "scattergeo": [
           {
            "type": "scattergeo",
            "marker": {
             "colorbar": {
              "outlinewidth": 0,
              "ticks": ""
             }
            }
           }
          ],
          "scatterpolar": [
           {
            "type": "scatterpolar",
            "marker": {
             "colorbar": {
              "outlinewidth": 0,
              "ticks": ""
             }
            }
           }
          ],
          "histogram": [
           {
            "marker": {
             "pattern": {
              "fillmode": "overlay",
              "size": 10,
              "solidity": 0.2
             }
            },
            "type": "histogram"
           }
          ],
          "scattergl": [
           {
            "marker": {
             "line": {
              "color": "#283442"
             }
            },
            "type": "scattergl"
           }
          ],
          "scatter3d": [
           {
            "type": "scatter3d",
            "line": {
             "colorbar": {
              "outlinewidth": 0,
              "ticks": ""
             }
            },
            "marker": {
             "colorbar": {
              "outlinewidth": 0,
              "ticks": ""
             }
            }
           }
          ],
          "scattermapbox": [
           {
            "type": "scattermapbox",
            "marker": {
             "colorbar": {
              "outlinewidth": 0,
              "ticks": ""
             }
            }
           }
          ],
          "scatterternary": [
           {
            "type": "scatterternary",
            "marker": {
             "colorbar": {
              "outlinewidth": 0,
              "ticks": ""
             }
            }
           }
          ],
          "scattercarpet": [
           {
            "type": "scattercarpet",
            "marker": {
             "colorbar": {
              "outlinewidth": 0,
              "ticks": ""
             }
            }
           }
          ],
          "carpet": [
           {
            "aaxis": {
             "endlinecolor": "#A2B1C6",
             "gridcolor": "#506784",
             "linecolor": "#506784",
             "minorgridcolor": "#506784",
             "startlinecolor": "#A2B1C6"
            },
            "baxis": {
             "endlinecolor": "#A2B1C6",
             "gridcolor": "#506784",
             "linecolor": "#506784",
             "minorgridcolor": "#506784",
             "startlinecolor": "#A2B1C6"
            },
            "type": "carpet"
           }
          ],
          "table": [
           {
            "cells": {
             "fill": {
              "color": "#506784"
             },
             "line": {
              "color": "rgb(17,17,17)"
             }
            },
            "header": {
             "fill": {
              "color": "#2a3f5f"
             },
             "line": {
              "color": "rgb(17,17,17)"
             }
            },
            "type": "table"
           }
          ],
          "barpolar": [
           {
            "marker": {
             "line": {
              "color": "rgb(17,17,17)",
              "width": 0.5
             },
             "pattern": {
              "fillmode": "overlay",
              "size": 10,
              "solidity": 0.2
             }
            },
            "type": "barpolar"
           }
          ],
          "pie": [
           {
            "automargin": true,
            "type": "pie"
           }
          ]
         },
         "layout": {
          "autotypenumbers": "strict",
          "colorway": [
           "#636efa",
           "#EF553B",
           "#00cc96",
           "#ab63fa",
           "#FFA15A",
           "#19d3f3",
           "#FF6692",
           "#B6E880",
           "#FF97FF",
           "#FECB52"
          ],
          "font": {
           "color": "#f2f5fa"
          },
          "hovermode": "closest",
          "hoverlabel": {
           "align": "left"
          },
          "paper_bgcolor": "rgb(17,17,17)",
          "plot_bgcolor": "rgb(17,17,17)",
          "polar": {
           "bgcolor": "rgb(17,17,17)",
           "angularaxis": {
            "gridcolor": "#506784",
            "linecolor": "#506784",
            "ticks": ""
           },
           "radialaxis": {
            "gridcolor": "#506784",
            "linecolor": "#506784",
            "ticks": ""
           }
          },
          "ternary": {
           "bgcolor": "rgb(17,17,17)",
           "aaxis": {
            "gridcolor": "#506784",
            "linecolor": "#506784",
            "ticks": ""
           },
           "baxis": {
            "gridcolor": "#506784",
            "linecolor": "#506784",
            "ticks": ""
           },
           "caxis": {
            "gridcolor": "#506784",
            "linecolor": "#506784",
            "ticks": ""
           }
          },
          "coloraxis": {
           "colorbar": {
            "outlinewidth": 0,
            "ticks": ""
           }
          },
          "colorscale": {
           "sequential": [
            [
             0.0,
             "#0d0887"
            ],
            [
             0.1111111111111111,
             "#46039f"
            ],
            [
             0.2222222222222222,
             "#7201a8"
            ],
            [
             0.3333333333333333,
             "#9c179e"
            ],
            [
             0.4444444444444444,
             "#bd3786"
            ],
            [
             0.5555555555555556,
             "#d8576b"
            ],
            [
             0.6666666666666666,
             "#ed7953"
            ],
            [
             0.7777777777777778,
             "#fb9f3a"
            ],
            [
             0.8888888888888888,
             "#fdca26"
            ],
            [
             1.0,
             "#f0f921"
            ]
           ],
           "sequentialminus": [
            [
             0.0,
             "#0d0887"
            ],
            [
             0.1111111111111111,
             "#46039f"
            ],
            [
             0.2222222222222222,
             "#7201a8"
            ],
            [
             0.3333333333333333,
             "#9c179e"
            ],
            [
             0.4444444444444444,
             "#bd3786"
            ],
            [
             0.5555555555555556,
             "#d8576b"
            ],
            [
             0.6666666666666666,
             "#ed7953"
            ],
            [
             0.7777777777777778,
             "#fb9f3a"
            ],
            [
             0.8888888888888888,
             "#fdca26"
            ],
            [
             1.0,
             "#f0f921"
            ]
           ],
           "diverging": [
            [
             0,
             "#8e0152"
            ],
            [
             0.1,
             "#c51b7d"
            ],
            [
             0.2,
             "#de77ae"
            ],
            [
             0.3,
             "#f1b6da"
            ],
            [
             0.4,
             "#fde0ef"
            ],
            [
             0.5,
             "#f7f7f7"
            ],
            [
             0.6,
             "#e6f5d0"
            ],
            [
             0.7,
             "#b8e186"
            ],
            [
             0.8,
             "#7fbc41"
            ],
            [
             0.9,
             "#4d9221"
            ],
            [
             1,
             "#276419"
            ]
           ]
          },
          "xaxis": {
           "gridcolor": "#283442",
           "linecolor": "#506784",
           "ticks": "",
           "title": {
            "standoff": 15
           },
           "zerolinecolor": "#283442",
           "automargin": true,
           "zerolinewidth": 2
          },
          "yaxis": {
           "gridcolor": "#283442",
           "linecolor": "#506784",
           "ticks": "",
           "title": {
            "standoff": 15
           },
           "zerolinecolor": "#283442",
           "automargin": true,
           "zerolinewidth": 2
          },
          "scene": {
           "xaxis": {
            "backgroundcolor": "rgb(17,17,17)",
            "gridcolor": "#506784",
            "linecolor": "#506784",
            "showbackground": true,
            "ticks": "",
            "zerolinecolor": "#C8D4E3",
            "gridwidth": 2
           },
           "yaxis": {
            "backgroundcolor": "rgb(17,17,17)",
            "gridcolor": "#506784",
            "linecolor": "#506784",
            "showbackground": true,
            "ticks": "",
            "zerolinecolor": "#C8D4E3",
            "gridwidth": 2
           },
           "zaxis": {
            "backgroundcolor": "rgb(17,17,17)",
            "gridcolor": "#506784",
            "linecolor": "#506784",
            "showbackground": true,
            "ticks": "",
            "zerolinecolor": "#C8D4E3",
            "gridwidth": 2
           }
          },
          "shapedefaults": {
           "line": {
            "color": "#f2f5fa"
           }
          },
          "annotationdefaults": {
           "arrowcolor": "#f2f5fa",
           "arrowhead": 0,
           "arrowwidth": 1
          },
          "geo": {
           "bgcolor": "rgb(17,17,17)",
           "landcolor": "rgb(17,17,17)",
           "subunitcolor": "#506784",
           "showland": true,
           "showlakes": true,
           "lakecolor": "rgb(17,17,17)"
          },
          "title": {
           "x": 0.05
          },
          "updatemenudefaults": {
           "bgcolor": "#506784",
           "borderwidth": 0
          },
          "sliderdefaults": {
           "bgcolor": "#C8D4E3",
           "borderwidth": 1,
           "bordercolor": "rgb(17,17,17)",
           "tickwidth": 0
          },
          "mapbox": {
           "style": "dark"
          }
         }
        },
        "xaxis": {
         "anchor": "y",
         "domain": [
          0.0,
          1.0
         ],
         "title": {
          "text": "Reading Proficiency"
         }
        },
        "yaxis": {
         "anchor": "x",
         "domain": [
          0.0,
          1.0
         ],
         "title": {
          "text": "Math Proficiency"
         }
        },
        "coloraxis": {
         "colorbar": {
          "title": {
           "text": "Youth_15_24_Literacy_Rate_Male"
          }
         },
         "colorscale": [
          [
           0.0,
           "#0d0887"
          ],
          [
           0.1111111111111111,
           "#46039f"
          ],
          [
           0.2222222222222222,
           "#7201a8"
          ],
          [
           0.3333333333333333,
           "#9c179e"
          ],
          [
           0.4444444444444444,
           "#bd3786"
          ],
          [
           0.5555555555555556,
           "#d8576b"
          ],
          [
           0.6666666666666666,
           "#ed7953"
          ],
          [
           0.7777777777777778,
           "#fb9f3a"
          ],
          [
           0.8888888888888888,
           "#fdca26"
          ],
          [
           1.0,
           "#f0f921"
          ]
         ]
        },
        "legend": {
         "tracegroupgap": 0,
         "itemsizing": "constant"
        },
        "title": {
         "text": "Proficiency in Reading vs. Math for Grade 2-3 Students"
        }
       },
       "config": {
        "plotlyServerURL": "https://plot.ly"
       }
      },
      "text/html": "<div>                            <div id=\"b796081f-a5b4-4ca2-aefc-36af83ea48ce\" class=\"plotly-graph-div\" style=\"height:525px; width:100%;\"></div>            <script type=\"text/javascript\">                require([\"plotly\"], function(Plotly) {                    window.PLOTLYENV=window.PLOTLYENV || {};                                    if (document.getElementById(\"b796081f-a5b4-4ca2-aefc-36af83ea48ce\")) {                    Plotly.newPlot(                        \"b796081f-a5b4-4ca2-aefc-36af83ea48ce\",                        [{\"hovertemplate\":\"Reading Proficiency=%{x}\\u003cbr\\u003eMath Proficiency=%{y}\\u003cbr\\u003eYouth_15_24_Literacy_Rate_Female=%{marker.size}\\u003cbr\\u003eCountries and areas=%{text}\\u003cbr\\u003eYouth_15_24_Literacy_Rate_Male=%{marker.color}\\u003cextra\\u003e\\u003c\\u002fextra\\u003e\",\"legendgroup\":\"\",\"marker\":{\"color\":[74,99,98,0,0,0,0,99,0,0,0,0,0,100,94,0,100,0,0,70,0,0,0,0,99,0,100,0,62,0,0,0,88,0,48,0,0,100,99,78,85,0,99,64,0,0,0,0,0,0,0,0,0,0,0,0,98,0,94,0,94,0,0,0,0,88,0,0,0,93,99,0,0,70,0,0,0,0,95,0,0,93,100,0,0,0,0,100,0,0,99,100,88,0,99,100,0,100,100,0,0,0,0,0,0,82,0,97,0,58,99,0,0,99,99,0,0,98,99,0,98,0,0,94,0,94,0,0,0,51,82,0,0,0,98,0,0,99,0,98,99,0,0,100,0,0,0,99,100,84,0,0,0,99,100,98,0,0,0,99,71,100,0,0,0,0,0,48,100,99,99,73,99,0,0,0,0,98,82,0,0,99,0,0,0,0,0,0,89,0,0,0,0,0,99,100,96,0,98,0,93,0],\"coloraxis\":\"coloraxis\",\"size\":12,\"sizemode\":\"area\",\"sizeref\":0.25,\"symbol\":\"circle\",\"opacity\":0.7},\"mode\":\"markers+text\",\"name\":\"\",\"orientation\":\"v\",\"showlegend\":false,\"text\":[\"Afghanistan\",\"Albania\",\"Algeria\",\"Andorra\",\"Angola\",\"Anguilla\",\"Antigua and Barbuda\",\"Argentina\",\"Armenia\",\"Australia\",\"Austria\",\"Azerbaijan\",\"The Bahamas\",\"Bahrain\",\"Bangladesh\",\"Barbados\",\"Belarus\",\"Belgium\",\"Belize\",\"Benin\",\"Bhutan\",\"Bolivia\",\"Bosnia and Herzegovina\",\"Botswana\",\"Brazil\",\"British Virgin Islands\",\"Brunei\",\"Bulgaria\",\"Burkina Faso\",\"Burundi\",\"Cape Verde\",\"Cambodia\",\"Cameroon\",\"Canada\",\"Central African Republic\",\"Chad\",\"Chile\",\"China\",\"Colombia\",\"Comoros\",\"Republic of the Congo\",\"Cook Islands\",\"Costa Rica\",\"Ivory Coast\",\"Croatia\",\"Cuba\",\"Cyprus\",\"Czech Republic\",\"North Korea\",\"Democratic Republic of the Congo\",\"Denmark\",\"Djibouti\",\"Dominica\",\"Dominican Republic\",\"Ecuador\",\"Egypt\",\"El Salvador\",\"Equatorial Guinea\",\"Eritrea\",\"Estonia\",\"Eswatini\",\"Ethiopia\",\"Fiji\",\"Finland\",\"France\",\"Gabon\",\"The Gambia\",\"Georgia\",\"Germany\",\"Ghana\",\"Greece\",\"Grenada\",\"Guatemala\",\"Guinea\",\"Guinea0Bissau\",\"Guyana\",\"Haiti\",\"Vatican City\",\"Honduras\",\"Hungary\",\"Iceland\",\"India\",\"Indonesia\",\"Iran\",\"Iraq\",\"Republic of Ireland\",\"Israel\",\"Italy\",\"Jamaica\",\"Japan\",\"Jordan\",\"Kazakhstan\",\"Kenya\",\"Kiribati\",\"Kuwait\",\"Kyrgyzstan\",\"Laos\",\"Latvia\",\"Lebanon\",\"Lesotho\",\"Liberia\",\"Libya\",\"Liechtenstein\",\"Lithuania\",\"Luxembourg\",\"Madagascar\",\"Malawi\",\"Malaysia\",\"Maldives\",\"Mali\",\"Malta\",\"Marshall Islands\",\"Mauritania\",\"Mauritius\",\"Mexico\",\"Federated States of Micronesia\",\"Monaco\",\"Mongolia\",\"Montenegro\",\"Montserrat\",\"Morocco\",\"Mozambique\",\"Myanmar\",\"Namibia\",\"Nauru\",\"Nepal\",\"Netherlands\",\"New Zealand\",\"Nicaragua\",\"Niger\",\"Nigeria\",\"Niue\",\"North Macedonia\",\"Norway\",\"Oman\",\"Pakistan\",\"Palau\",\"Panama\",\"Papua New Guinea\",\"Paraguay\",\"Peru\",\"Philippines\",\"Poland\",\"Portugal\",\"Qatar\",\"South Korea\",\"Moldova\",\"Romania\",\"Russia\",\"Rwanda\",\"Saint Kitts and Nevis\",\"Saint Lucia\",\"Saint Vincent and the Grenadines\",\"Samoa\",\"San Marino\",\"S\\u00ef\\u00bf\\u00bd\\u00ef\\u00bf\\u00bd\\u00ef\\u00bf\\u00bd\\u00ef\\u00bf\\u00bd\\u00ef\\u00bf\\u00bd\\u00ef\\u00bf\\u00bd\\u00ef\\u00bf\\u00bd\\u00ef\\u00bf\",\"Saudi Arabia\",\"Senegal\",\"Serbia\",\"Seychelles\",\"Sierra Leone\",\"Singapore\",\"Slovakia\",\"Slovenia\",\"Solomon Islands\",\"Somalia\",\"South Africa\",\"South Sudan\",\"Spain\",\"Sri Lanka\",\"Palestinian National Authority\",\"Sudan\",\"Suriname\",\"Sweden\",\"Switzerland\",\"Syria\",\"Tajikistan\",\"Thailand\",\"East Timor\",\"Togo\",\"Tokelau\",\"Tonga\",\"Trinidad and Tobago\",\"Tunisia\",\"Turkey\",\"Turkmenistan\",\"Turks and Caicos Islands\",\"Tuvalu\",\"Uganda\",\"Ukraine\",\"United Arab Emirates\",\"United Kingdom\",\"Tanzania\",\"United States\",\"Uruguay\",\"Uzbekistan\",\"Vanuatu\",\"Venezuela\",\"Vietnam\",\"Yemen\",\"Zambia\",\"Zimbabwe\"],\"x\":[22,0,0,0,0,0,0,76,0,94,0,0,0,69,47,0,0,0,0,9,0,0,0,0,80,0,0,0,36,79,0,0,30,96,0,18,94,82,79,0,38,0,89,17,0,0,0,97,94,0,97,0,0,44,74,0,0,0,0,0,0,0,0,98,0,0,5,86,0,0,0,0,68,0,0,0,0,0,70,0,0,47,0,66,0,98,91,98,0,0,0,0,53,0,0,39,0,99,0,13,0,0,0,0,0,13,0,0,0,0,73,0,0,0,78,0,0,44,0,0,36,0,0,0,0,0,99,90,61,9,0,0,0,99,59,35,0,65,0,61,80,0,98,97,66,0,0,0,0,0,0,0,0,0,0,0,63,29,0,0,6,97,0,96,0,0,22,0,97,0,0,0,30,98,0,0,0,0,0,19,0,0,80,47,0,0,0,0,33,0,68,0,0,0,80,0,0,0,0,0,0,20],\"xaxis\":\"x\",\"y\":[25,0,0,0,0,0,0,71,0,70,0,0,0,40,34,0,0,0,0,34,0,0,0,0,71,0,0,0,59,97,0,0,57,69,0,48,90,85,64,0,72,0,84,33,0,0,74,78,0,0,80,0,0,25,65,0,0,0,0,0,0,0,0,82,0,0,0,47,0,0,0,0,52,0,0,0,0,0,57,0,0,53,18,33,0,84,0,69,0,95,0,0,42,0,12,0,0,0,0,0,0,0,0,0,0,0,0,0,0,0,0,0,0,0,77,0,0,0,0,0,16,0,0,0,0,0,83,59,44,27,0,0,0,86,32,0,0,51,0,47,70,0,80,82,36,97,0,0,0,0,0,0,0,0,0,0,16,63,0,0,0,93,0,75,0,0,0,0,67,0,0,0,0,75,0,0,0,0,0,40,0,0,0,0,0,0,0,0,21,0,42,0,0,0,75,0,0,0,0,0,0,0],\"yaxis\":\"y\",\"type\":\"scatter\",\"textposition\":\"top center\"}],                        {\"template\":{\"data\":{\"histogram2dcontour\":[{\"type\":\"histogram2dcontour\",\"colorbar\":{\"outlinewidth\":0,\"ticks\":\"\"},\"colorscale\":[[0.0,\"#0d0887\"],[0.1111111111111111,\"#46039f\"],[0.2222222222222222,\"#7201a8\"],[0.3333333333333333,\"#9c179e\"],[0.4444444444444444,\"#bd3786\"],[0.5555555555555556,\"#d8576b\"],[0.6666666666666666,\"#ed7953\"],[0.7777777777777778,\"#fb9f3a\"],[0.8888888888888888,\"#fdca26\"],[1.0,\"#f0f921\"]]}],\"choropleth\":[{\"type\":\"choropleth\",\"colorbar\":{\"outlinewidth\":0,\"ticks\":\"\"}}],\"histogram2d\":[{\"type\":\"histogram2d\",\"colorbar\":{\"outlinewidth\":0,\"ticks\":\"\"},\"colorscale\":[[0.0,\"#0d0887\"],[0.1111111111111111,\"#46039f\"],[0.2222222222222222,\"#7201a8\"],[0.3333333333333333,\"#9c179e\"],[0.4444444444444444,\"#bd3786\"],[0.5555555555555556,\"#d8576b\"],[0.6666666666666666,\"#ed7953\"],[0.7777777777777778,\"#fb9f3a\"],[0.8888888888888888,\"#fdca26\"],[1.0,\"#f0f921\"]]}],\"heatmap\":[{\"type\":\"heatmap\",\"colorbar\":{\"outlinewidth\":0,\"ticks\":\"\"},\"colorscale\":[[0.0,\"#0d0887\"],[0.1111111111111111,\"#46039f\"],[0.2222222222222222,\"#7201a8\"],[0.3333333333333333,\"#9c179e\"],[0.4444444444444444,\"#bd3786\"],[0.5555555555555556,\"#d8576b\"],[0.6666666666666666,\"#ed7953\"],[0.7777777777777778,\"#fb9f3a\"],[0.8888888888888888,\"#fdca26\"],[1.0,\"#f0f921\"]]}],\"heatmapgl\":[{\"type\":\"heatmapgl\",\"colorbar\":{\"outlinewidth\":0,\"ticks\":\"\"},\"colorscale\":[[0.0,\"#0d0887\"],[0.1111111111111111,\"#46039f\"],[0.2222222222222222,\"#7201a8\"],[0.3333333333333333,\"#9c179e\"],[0.4444444444444444,\"#bd3786\"],[0.5555555555555556,\"#d8576b\"],[0.6666666666666666,\"#ed7953\"],[0.7777777777777778,\"#fb9f3a\"],[0.8888888888888888,\"#fdca26\"],[1.0,\"#f0f921\"]]}],\"contourcarpet\":[{\"type\":\"contourcarpet\",\"colorbar\":{\"outlinewidth\":0,\"ticks\":\"\"}}],\"contour\":[{\"type\":\"contour\",\"colorbar\":{\"outlinewidth\":0,\"ticks\":\"\"},\"colorscale\":[[0.0,\"#0d0887\"],[0.1111111111111111,\"#46039f\"],[0.2222222222222222,\"#7201a8\"],[0.3333333333333333,\"#9c179e\"],[0.4444444444444444,\"#bd3786\"],[0.5555555555555556,\"#d8576b\"],[0.6666666666666666,\"#ed7953\"],[0.7777777777777778,\"#fb9f3a\"],[0.8888888888888888,\"#fdca26\"],[1.0,\"#f0f921\"]]}],\"surface\":[{\"type\":\"surface\",\"colorbar\":{\"outlinewidth\":0,\"ticks\":\"\"},\"colorscale\":[[0.0,\"#0d0887\"],[0.1111111111111111,\"#46039f\"],[0.2222222222222222,\"#7201a8\"],[0.3333333333333333,\"#9c179e\"],[0.4444444444444444,\"#bd3786\"],[0.5555555555555556,\"#d8576b\"],[0.6666666666666666,\"#ed7953\"],[0.7777777777777778,\"#fb9f3a\"],[0.8888888888888888,\"#fdca26\"],[1.0,\"#f0f921\"]]}],\"mesh3d\":[{\"type\":\"mesh3d\",\"colorbar\":{\"outlinewidth\":0,\"ticks\":\"\"}}],\"scatter\":[{\"marker\":{\"line\":{\"color\":\"#283442\"}},\"type\":\"scatter\"}],\"parcoords\":[{\"type\":\"parcoords\",\"line\":{\"colorbar\":{\"outlinewidth\":0,\"ticks\":\"\"}}}],\"scatterpolargl\":[{\"type\":\"scatterpolargl\",\"marker\":{\"colorbar\":{\"outlinewidth\":0,\"ticks\":\"\"}}}],\"bar\":[{\"error_x\":{\"color\":\"#f2f5fa\"},\"error_y\":{\"color\":\"#f2f5fa\"},\"marker\":{\"line\":{\"color\":\"rgb(17,17,17)\",\"width\":0.5},\"pattern\":{\"fillmode\":\"overlay\",\"size\":10,\"solidity\":0.2}},\"type\":\"bar\"}],\"scattergeo\":[{\"type\":\"scattergeo\",\"marker\":{\"colorbar\":{\"outlinewidth\":0,\"ticks\":\"\"}}}],\"scatterpolar\":[{\"type\":\"scatterpolar\",\"marker\":{\"colorbar\":{\"outlinewidth\":0,\"ticks\":\"\"}}}],\"histogram\":[{\"marker\":{\"pattern\":{\"fillmode\":\"overlay\",\"size\":10,\"solidity\":0.2}},\"type\":\"histogram\"}],\"scattergl\":[{\"marker\":{\"line\":{\"color\":\"#283442\"}},\"type\":\"scattergl\"}],\"scatter3d\":[{\"type\":\"scatter3d\",\"line\":{\"colorbar\":{\"outlinewidth\":0,\"ticks\":\"\"}},\"marker\":{\"colorbar\":{\"outlinewidth\":0,\"ticks\":\"\"}}}],\"scattermapbox\":[{\"type\":\"scattermapbox\",\"marker\":{\"colorbar\":{\"outlinewidth\":0,\"ticks\":\"\"}}}],\"scatterternary\":[{\"type\":\"scatterternary\",\"marker\":{\"colorbar\":{\"outlinewidth\":0,\"ticks\":\"\"}}}],\"scattercarpet\":[{\"type\":\"scattercarpet\",\"marker\":{\"colorbar\":{\"outlinewidth\":0,\"ticks\":\"\"}}}],\"carpet\":[{\"aaxis\":{\"endlinecolor\":\"#A2B1C6\",\"gridcolor\":\"#506784\",\"linecolor\":\"#506784\",\"minorgridcolor\":\"#506784\",\"startlinecolor\":\"#A2B1C6\"},\"baxis\":{\"endlinecolor\":\"#A2B1C6\",\"gridcolor\":\"#506784\",\"linecolor\":\"#506784\",\"minorgridcolor\":\"#506784\",\"startlinecolor\":\"#A2B1C6\"},\"type\":\"carpet\"}],\"table\":[{\"cells\":{\"fill\":{\"color\":\"#506784\"},\"line\":{\"color\":\"rgb(17,17,17)\"}},\"header\":{\"fill\":{\"color\":\"#2a3f5f\"},\"line\":{\"color\":\"rgb(17,17,17)\"}},\"type\":\"table\"}],\"barpolar\":[{\"marker\":{\"line\":{\"color\":\"rgb(17,17,17)\",\"width\":0.5},\"pattern\":{\"fillmode\":\"overlay\",\"size\":10,\"solidity\":0.2}},\"type\":\"barpolar\"}],\"pie\":[{\"automargin\":true,\"type\":\"pie\"}]},\"layout\":{\"autotypenumbers\":\"strict\",\"colorway\":[\"#636efa\",\"#EF553B\",\"#00cc96\",\"#ab63fa\",\"#FFA15A\",\"#19d3f3\",\"#FF6692\",\"#B6E880\",\"#FF97FF\",\"#FECB52\"],\"font\":{\"color\":\"#f2f5fa\"},\"hovermode\":\"closest\",\"hoverlabel\":{\"align\":\"left\"},\"paper_bgcolor\":\"rgb(17,17,17)\",\"plot_bgcolor\":\"rgb(17,17,17)\",\"polar\":{\"bgcolor\":\"rgb(17,17,17)\",\"angularaxis\":{\"gridcolor\":\"#506784\",\"linecolor\":\"#506784\",\"ticks\":\"\"},\"radialaxis\":{\"gridcolor\":\"#506784\",\"linecolor\":\"#506784\",\"ticks\":\"\"}},\"ternary\":{\"bgcolor\":\"rgb(17,17,17)\",\"aaxis\":{\"gridcolor\":\"#506784\",\"linecolor\":\"#506784\",\"ticks\":\"\"},\"baxis\":{\"gridcolor\":\"#506784\",\"linecolor\":\"#506784\",\"ticks\":\"\"},\"caxis\":{\"gridcolor\":\"#506784\",\"linecolor\":\"#506784\",\"ticks\":\"\"}},\"coloraxis\":{\"colorbar\":{\"outlinewidth\":0,\"ticks\":\"\"}},\"colorscale\":{\"sequential\":[[0.0,\"#0d0887\"],[0.1111111111111111,\"#46039f\"],[0.2222222222222222,\"#7201a8\"],[0.3333333333333333,\"#9c179e\"],[0.4444444444444444,\"#bd3786\"],[0.5555555555555556,\"#d8576b\"],[0.6666666666666666,\"#ed7953\"],[0.7777777777777778,\"#fb9f3a\"],[0.8888888888888888,\"#fdca26\"],[1.0,\"#f0f921\"]],\"sequentialminus\":[[0.0,\"#0d0887\"],[0.1111111111111111,\"#46039f\"],[0.2222222222222222,\"#7201a8\"],[0.3333333333333333,\"#9c179e\"],[0.4444444444444444,\"#bd3786\"],[0.5555555555555556,\"#d8576b\"],[0.6666666666666666,\"#ed7953\"],[0.7777777777777778,\"#fb9f3a\"],[0.8888888888888888,\"#fdca26\"],[1.0,\"#f0f921\"]],\"diverging\":[[0,\"#8e0152\"],[0.1,\"#c51b7d\"],[0.2,\"#de77ae\"],[0.3,\"#f1b6da\"],[0.4,\"#fde0ef\"],[0.5,\"#f7f7f7\"],[0.6,\"#e6f5d0\"],[0.7,\"#b8e186\"],[0.8,\"#7fbc41\"],[0.9,\"#4d9221\"],[1,\"#276419\"]]},\"xaxis\":{\"gridcolor\":\"#283442\",\"linecolor\":\"#506784\",\"ticks\":\"\",\"title\":{\"standoff\":15},\"zerolinecolor\":\"#283442\",\"automargin\":true,\"zerolinewidth\":2},\"yaxis\":{\"gridcolor\":\"#283442\",\"linecolor\":\"#506784\",\"ticks\":\"\",\"title\":{\"standoff\":15},\"zerolinecolor\":\"#283442\",\"automargin\":true,\"zerolinewidth\":2},\"scene\":{\"xaxis\":{\"backgroundcolor\":\"rgb(17,17,17)\",\"gridcolor\":\"#506784\",\"linecolor\":\"#506784\",\"showbackground\":true,\"ticks\":\"\",\"zerolinecolor\":\"#C8D4E3\",\"gridwidth\":2},\"yaxis\":{\"backgroundcolor\":\"rgb(17,17,17)\",\"gridcolor\":\"#506784\",\"linecolor\":\"#506784\",\"showbackground\":true,\"ticks\":\"\",\"zerolinecolor\":\"#C8D4E3\",\"gridwidth\":2},\"zaxis\":{\"backgroundcolor\":\"rgb(17,17,17)\",\"gridcolor\":\"#506784\",\"linecolor\":\"#506784\",\"showbackground\":true,\"ticks\":\"\",\"zerolinecolor\":\"#C8D4E3\",\"gridwidth\":2}},\"shapedefaults\":{\"line\":{\"color\":\"#f2f5fa\"}},\"annotationdefaults\":{\"arrowcolor\":\"#f2f5fa\",\"arrowhead\":0,\"arrowwidth\":1},\"geo\":{\"bgcolor\":\"rgb(17,17,17)\",\"landcolor\":\"rgb(17,17,17)\",\"subunitcolor\":\"#506784\",\"showland\":true,\"showlakes\":true,\"lakecolor\":\"rgb(17,17,17)\"},\"title\":{\"x\":0.05},\"updatemenudefaults\":{\"bgcolor\":\"#506784\",\"borderwidth\":0},\"sliderdefaults\":{\"bgcolor\":\"#C8D4E3\",\"borderwidth\":1,\"bordercolor\":\"rgb(17,17,17)\",\"tickwidth\":0},\"mapbox\":{\"style\":\"dark\"}}},\"xaxis\":{\"anchor\":\"y\",\"domain\":[0.0,1.0],\"title\":{\"text\":\"Reading Proficiency\"}},\"yaxis\":{\"anchor\":\"x\",\"domain\":[0.0,1.0],\"title\":{\"text\":\"Math Proficiency\"}},\"coloraxis\":{\"colorbar\":{\"title\":{\"text\":\"Youth_15_24_Literacy_Rate_Male\"}},\"colorscale\":[[0.0,\"#0d0887\"],[0.1111111111111111,\"#46039f\"],[0.2222222222222222,\"#7201a8\"],[0.3333333333333333,\"#9c179e\"],[0.4444444444444444,\"#bd3786\"],[0.5555555555555556,\"#d8576b\"],[0.6666666666666666,\"#ed7953\"],[0.7777777777777778,\"#fb9f3a\"],[0.8888888888888888,\"#fdca26\"],[1.0,\"#f0f921\"]]},\"legend\":{\"tracegroupgap\":0,\"itemsizing\":\"constant\"},\"title\":{\"text\":\"Proficiency in Reading vs. Math for Grade 2-3 Students\"}},                        {\"responsive\": true}                    ).then(function(){\n                            \nvar gd = document.getElementById('b796081f-a5b4-4ca2-aefc-36af83ea48ce');\nvar x = new MutationObserver(function (mutations, observer) {{\n        var display = window.getComputedStyle(gd).display;\n        if (!display || display === 'none') {{\n            console.log([gd, 'removed!']);\n            Plotly.purge(gd);\n            observer.disconnect();\n        }}\n}});\n\n// Listen for the removal of the full notebook cells\nvar notebookContainer = gd.closest('#notebook-container');\nif (notebookContainer) {{\n    x.observe(notebookContainer, {childList: true});\n}}\n\n// Listen for the clearing of the current output cell\nvar outputEl = gd.closest('.output');\nif (outputEl) {{\n    x.observe(outputEl, {childList: true});\n}}\n\n                        })                };                });            </script>        </div>"
     },
     "metadata": {},
     "output_type": "display_data"
    }
   ],
   "source": [
    "fig = px.scatter(df, x=\"Grade_2_3_Proficiency_Reading\", y=\"Grade_2_3_Proficiency_Math\", text=\"Countries and areas\",\n",
    "                 title=\"Proficiency in Reading vs. Math for Grade 2-3 Students\",\n",
    "                 labels={\"Grade_2_3_Proficiency_Reading\": \"Reading Proficiency\", \"Grade_2_3_Proficiency_Math\": \"Math Proficiency\"},\n",
    "                 color=\"Youth_15_24_Literacy_Rate_Male\", size=\"Youth_15_24_Literacy_Rate_Female\")\n",
    "\n",
    "fig.update_traces(textposition='top center', marker=dict(size=12, opacity=0.7))\n",
    "fig.show()"
   ],
   "metadata": {
    "collapsed": false,
    "ExecuteTime": {
     "end_time": "2024-01-30T11:22:19.218021600Z",
     "start_time": "2024-01-30T11:22:17.104072Z"
    }
   },
   "id": "77b6ccc04365f691"
  },
  {
   "cell_type": "markdown",
   "source": [
    "# Out-of-School Rates by Gender"
   ],
   "metadata": {
    "collapsed": false
   },
   "id": "4b16e46942dd43fa"
  },
  {
   "cell_type": "code",
   "execution_count": 9,
   "outputs": [
    {
     "data": {
      "application/vnd.plotly.v1+json": {
       "data": [
        {
         "alignmentgroup": "True",
         "hovertemplate": "variable=OOSR_Pre0Primary_Age_Male<br>Countries and areas=%{x}<br>value=%{y}<extra></extra>",
         "legendgroup": "OOSR_Pre0Primary_Age_Male",
         "marker": {
          "color": "#636efa",
          "pattern": {
           "shape": ""
          }
         },
         "name": "OOSR_Pre0Primary_Age_Male",
         "offsetgroup": "OOSR_Pre0Primary_Age_Male",
         "orientation": "v",
         "showlegend": true,
         "textposition": "auto",
         "x": [
          "Afghanistan",
          "Albania",
          "Algeria",
          "Andorra",
          "Angola",
          "Anguilla",
          "Antigua and Barbuda",
          "Argentina",
          "Armenia",
          "Australia",
          "Austria",
          "Azerbaijan",
          "The Bahamas",
          "Bahrain",
          "Bangladesh",
          "Barbados",
          "Belarus",
          "Belgium",
          "Belize",
          "Benin",
          "Bhutan",
          "Bolivia",
          "Bosnia and Herzegovina",
          "Botswana",
          "Brazil",
          "British Virgin Islands",
          "Brunei",
          "Bulgaria",
          "Burkina Faso",
          "Burundi",
          "Cape Verde",
          "Cambodia",
          "Cameroon",
          "Canada",
          "Central African Republic",
          "Chad",
          "Chile",
          "China",
          "Colombia",
          "Comoros",
          "Republic of the Congo",
          "Cook Islands",
          "Costa Rica",
          "Ivory Coast",
          "Croatia",
          "Cuba",
          "Cyprus",
          "Czech Republic",
          "North Korea",
          "Democratic Republic of the Congo",
          "Denmark",
          "Djibouti",
          "Dominica",
          "Dominican Republic",
          "Ecuador",
          "Egypt",
          "El Salvador",
          "Equatorial Guinea",
          "Eritrea",
          "Estonia",
          "Eswatini",
          "Ethiopia",
          "Fiji",
          "Finland",
          "France",
          "Gabon",
          "The Gambia",
          "Georgia",
          "Germany",
          "Ghana",
          "Greece",
          "Grenada",
          "Guatemala",
          "Guinea",
          "Guinea0Bissau",
          "Guyana",
          "Haiti",
          "Vatican City",
          "Honduras",
          "Hungary",
          "Iceland",
          "India",
          "Indonesia",
          "Iran",
          "Iraq",
          "Republic of Ireland",
          "Israel",
          "Italy",
          "Jamaica",
          "Japan",
          "Jordan",
          "Kazakhstan",
          "Kenya",
          "Kiribati",
          "Kuwait",
          "Kyrgyzstan",
          "Laos",
          "Latvia",
          "Lebanon",
          "Lesotho",
          "Liberia",
          "Libya",
          "Liechtenstein",
          "Lithuania",
          "Luxembourg",
          "Madagascar",
          "Malawi",
          "Malaysia",
          "Maldives",
          "Mali",
          "Malta",
          "Marshall Islands",
          "Mauritania",
          "Mauritius",
          "Mexico",
          "Federated States of Micronesia",
          "Monaco",
          "Mongolia",
          "Montenegro",
          "Montserrat",
          "Morocco",
          "Mozambique",
          "Myanmar",
          "Namibia",
          "Nauru",
          "Nepal",
          "Netherlands",
          "New Zealand",
          "Nicaragua",
          "Niger",
          "Nigeria",
          "Niue",
          "North Macedonia",
          "Norway",
          "Oman",
          "Pakistan",
          "Palau",
          "Panama",
          "Papua New Guinea",
          "Paraguay",
          "Peru",
          "Philippines",
          "Poland",
          "Portugal",
          "Qatar",
          "South Korea",
          "Moldova",
          "Romania",
          "Russia",
          "Rwanda",
          "Saint Kitts and Nevis",
          "Saint Lucia",
          "Saint Vincent and the Grenadines",
          "Samoa",
          "San Marino",
          "Sï¿½ï¿½ï¿½ï¿½ï¿½ï¿½ï¿½ï¿",
          "Saudi Arabia",
          "Senegal",
          "Serbia",
          "Seychelles",
          "Sierra Leone",
          "Singapore",
          "Slovakia",
          "Slovenia",
          "Solomon Islands",
          "Somalia",
          "South Africa",
          "South Sudan",
          "Spain",
          "Sri Lanka",
          "Palestinian National Authority",
          "Sudan",
          "Suriname",
          "Sweden",
          "Switzerland",
          "Syria",
          "Tajikistan",
          "Thailand",
          "East Timor",
          "Togo",
          "Tokelau",
          "Tonga",
          "Trinidad and Tobago",
          "Tunisia",
          "Turkey",
          "Turkmenistan",
          "Turks and Caicos Islands",
          "Tuvalu",
          "Uganda",
          "Ukraine",
          "United Arab Emirates",
          "United Kingdom",
          "Tanzania",
          "United States",
          "Uruguay",
          "Uzbekistan",
          "Vanuatu",
          "Venezuela",
          "Vietnam",
          "Yemen",
          "Zambia",
          "Zimbabwe"
         ],
         "xaxis": "x",
         "y": [
          0,
          4,
          0,
          0,
          31,
          14,
          14,
          2,
          52,
          13,
          0,
          32,
          0,
          31,
          0,
          6,
          0,
          3,
          18,
          15,
          58,
          9,
          72,
          79,
          0,
          9,
          17,
          19,
          81,
          52,
          19,
          48,
          56,
          0,
          0,
          85,
          8,
          0,
          3,
          71,
          71,
          3,
          4,
          78,
          5,
          2,
          1,
          10,
          0,
          0,
          2,
          85,
          21,
          7,
          8,
          63,
          18,
          57,
          73,
          12,
          0,
          62,
          0,
          2,
          0,
          0,
          42,
          0,
          1,
          14,
          6,
          4,
          16,
          57,
          0,
          0,
          0,
          0,
          24,
          12,
          4,
          0,
          8,
          50,
          0,
          2,
          1,
          6,
          8,
          0,
          55,
          22,
          0,
          0,
          21,
          11,
          31,
          2,
          0,
          58,
          21,
          0,
          1,
          3,
          1,
          43,
          0,
          1,
          8,
          53,
          0,
          32,
          0,
          9,
          2,
          30,
          0,
          3,
          23,
          19,
          31,
          0,
          88,
          33,
          11,
          9,
          1,
          6,
          0,
          76,
          0,
          13,
          51,
          3,
          16,
          0,
          0,
          25,
          28,
          31,
          1,
          14,
          4,
          5,
          10,
          1,
          5,
          18,
          9,
          48,
          0,
          5,
          9,
          65,
          12,
          49,
          51,
          85,
          9,
          9,
          58,
          0,
          15,
          5,
          36,
          0,
          28,
          78,
          5,
          0,
          35,
          60,
          12,
          0,
          1,
          60,
          87,
          1,
          51,
          1,
          20,
          0,
          0,
          0,
          23,
          0,
          19,
          13,
          0,
          0,
          0,
          3,
          45,
          12,
          2,
          53,
          38,
          14,
          0,
          96,
          0,
          60
         ],
         "yaxis": "y",
         "type": "bar"
        },
        {
         "alignmentgroup": "True",
         "hovertemplate": "variable=OOSR_Pre0Primary_Age_Female<br>Countries and areas=%{x}<br>value=%{y}<extra></extra>",
         "legendgroup": "OOSR_Pre0Primary_Age_Female",
         "marker": {
          "color": "#EF553B",
          "pattern": {
           "shape": ""
          }
         },
         "name": "OOSR_Pre0Primary_Age_Female",
         "offsetgroup": "OOSR_Pre0Primary_Age_Female",
         "orientation": "v",
         "showlegend": true,
         "textposition": "auto",
         "x": [
          "Afghanistan",
          "Albania",
          "Algeria",
          "Andorra",
          "Angola",
          "Anguilla",
          "Antigua and Barbuda",
          "Argentina",
          "Armenia",
          "Australia",
          "Austria",
          "Azerbaijan",
          "The Bahamas",
          "Bahrain",
          "Bangladesh",
          "Barbados",
          "Belarus",
          "Belgium",
          "Belize",
          "Benin",
          "Bhutan",
          "Bolivia",
          "Bosnia and Herzegovina",
          "Botswana",
          "Brazil",
          "British Virgin Islands",
          "Brunei",
          "Bulgaria",
          "Burkina Faso",
          "Burundi",
          "Cape Verde",
          "Cambodia",
          "Cameroon",
          "Canada",
          "Central African Republic",
          "Chad",
          "Chile",
          "China",
          "Colombia",
          "Comoros",
          "Republic of the Congo",
          "Cook Islands",
          "Costa Rica",
          "Ivory Coast",
          "Croatia",
          "Cuba",
          "Cyprus",
          "Czech Republic",
          "North Korea",
          "Democratic Republic of the Congo",
          "Denmark",
          "Djibouti",
          "Dominica",
          "Dominican Republic",
          "Ecuador",
          "Egypt",
          "El Salvador",
          "Equatorial Guinea",
          "Eritrea",
          "Estonia",
          "Eswatini",
          "Ethiopia",
          "Fiji",
          "Finland",
          "France",
          "Gabon",
          "The Gambia",
          "Georgia",
          "Germany",
          "Ghana",
          "Greece",
          "Grenada",
          "Guatemala",
          "Guinea",
          "Guinea0Bissau",
          "Guyana",
          "Haiti",
          "Vatican City",
          "Honduras",
          "Hungary",
          "Iceland",
          "India",
          "Indonesia",
          "Iran",
          "Iraq",
          "Republic of Ireland",
          "Israel",
          "Italy",
          "Jamaica",
          "Japan",
          "Jordan",
          "Kazakhstan",
          "Kenya",
          "Kiribati",
          "Kuwait",
          "Kyrgyzstan",
          "Laos",
          "Latvia",
          "Lebanon",
          "Lesotho",
          "Liberia",
          "Libya",
          "Liechtenstein",
          "Lithuania",
          "Luxembourg",
          "Madagascar",
          "Malawi",
          "Malaysia",
          "Maldives",
          "Mali",
          "Malta",
          "Marshall Islands",
          "Mauritania",
          "Mauritius",
          "Mexico",
          "Federated States of Micronesia",
          "Monaco",
          "Mongolia",
          "Montenegro",
          "Montserrat",
          "Morocco",
          "Mozambique",
          "Myanmar",
          "Namibia",
          "Nauru",
          "Nepal",
          "Netherlands",
          "New Zealand",
          "Nicaragua",
          "Niger",
          "Nigeria",
          "Niue",
          "North Macedonia",
          "Norway",
          "Oman",
          "Pakistan",
          "Palau",
          "Panama",
          "Papua New Guinea",
          "Paraguay",
          "Peru",
          "Philippines",
          "Poland",
          "Portugal",
          "Qatar",
          "South Korea",
          "Moldova",
          "Romania",
          "Russia",
          "Rwanda",
          "Saint Kitts and Nevis",
          "Saint Lucia",
          "Saint Vincent and the Grenadines",
          "Samoa",
          "San Marino",
          "Sï¿½ï¿½ï¿½ï¿½ï¿½ï¿½ï¿½ï¿",
          "Saudi Arabia",
          "Senegal",
          "Serbia",
          "Seychelles",
          "Sierra Leone",
          "Singapore",
          "Slovakia",
          "Slovenia",
          "Solomon Islands",
          "Somalia",
          "South Africa",
          "South Sudan",
          "Spain",
          "Sri Lanka",
          "Palestinian National Authority",
          "Sudan",
          "Suriname",
          "Sweden",
          "Switzerland",
          "Syria",
          "Tajikistan",
          "Thailand",
          "East Timor",
          "Togo",
          "Tokelau",
          "Tonga",
          "Trinidad and Tobago",
          "Tunisia",
          "Turkey",
          "Turkmenistan",
          "Turks and Caicos Islands",
          "Tuvalu",
          "Uganda",
          "Ukraine",
          "United Arab Emirates",
          "United Kingdom",
          "Tanzania",
          "United States",
          "Uruguay",
          "Uzbekistan",
          "Vanuatu",
          "Venezuela",
          "Vietnam",
          "Yemen",
          "Zambia",
          "Zimbabwe"
         ],
         "xaxis": "x",
         "y": [
          0,
          2,
          0,
          0,
          39,
          0,
          4,
          2,
          50,
          14,
          0,
          19,
          0,
          28,
          0,
          10,
          4,
          2,
          16,
          16,
          59,
          8,
          73,
          78,
          1,
          2,
          18,
          20,
          81,
          50,
          19,
          44,
          57,
          0,
          0,
          87,
          8,
          0,
          1,
          70,
          70,
          0,
          4,
          78,
          5,
          2,
          2,
          10,
          0,
          0,
          2,
          88,
          7,
          6,
          3,
          63,
          17,
          55,
          73,
          12,
          0,
          64,
          1,
          3,
          0,
          0,
          36,
          0,
          1,
          12,
          5,
          1,
          16,
          60,
          0,
          0,
          0,
          0,
          22,
          14,
          3,
          0,
          2,
          49,
          0,
          2,
          0,
          7,
          6,
          0,
          55,
          23,
          0,
          0,
          16,
          10,
          30,
          2,
          0,
          57,
          21,
          0,
          2,
          3,
          1,
          38,
          0,
          1,
          5,
          57,
          5,
          31,
          0,
          8,
          0,
          34,
          0,
          5,
          24,
          14,
          39,
          0,
          88,
          30,
          3,
          17,
          0,
          7,
          0,
          76,
          0,
          38,
          51,
          3,
          13,
          14,
          19,
          23,
          29,
          30,
          1,
          13,
          5,
          6,
          7,
          1,
          5,
          18,
          10,
          47,
          21,
          0,
          3,
          65,
          14,
          46,
          48,
          83,
          10,
          6,
          57,
          0,
          17,
          6,
          33,
          0,
          27,
          81,
          5,
          0,
          34,
          60,
          10,
          0,
          0,
          61,
          88,
          1,
          48,
          7,
          0,
          0,
          0,
          0,
          25,
          0,
          0,
          9,
          0,
          0,
          0,
          0,
          42,
          8,
          1,
          55,
          38,
          14,
          0,
          96,
          0,
          58
         ],
         "yaxis": "y",
         "type": "bar"
        }
       ],
       "layout": {
        "template": {
         "data": {
          "histogram2dcontour": [
           {
            "type": "histogram2dcontour",
            "colorbar": {
             "outlinewidth": 0,
             "ticks": ""
            },
            "colorscale": [
             [
              0.0,
              "#0d0887"
             ],
             [
              0.1111111111111111,
              "#46039f"
             ],
             [
              0.2222222222222222,
              "#7201a8"
             ],
             [
              0.3333333333333333,
              "#9c179e"
             ],
             [
              0.4444444444444444,
              "#bd3786"
             ],
             [
              0.5555555555555556,
              "#d8576b"
             ],
             [
              0.6666666666666666,
              "#ed7953"
             ],
             [
              0.7777777777777778,
              "#fb9f3a"
             ],
             [
              0.8888888888888888,
              "#fdca26"
             ],
             [
              1.0,
              "#f0f921"
             ]
            ]
           }
          ],
          "choropleth": [
           {
            "type": "choropleth",
            "colorbar": {
             "outlinewidth": 0,
             "ticks": ""
            }
           }
          ],
          "histogram2d": [
           {
            "type": "histogram2d",
            "colorbar": {
             "outlinewidth": 0,
             "ticks": ""
            },
            "colorscale": [
             [
              0.0,
              "#0d0887"
             ],
             [
              0.1111111111111111,
              "#46039f"
             ],
             [
              0.2222222222222222,
              "#7201a8"
             ],
             [
              0.3333333333333333,
              "#9c179e"
             ],
             [
              0.4444444444444444,
              "#bd3786"
             ],
             [
              0.5555555555555556,
              "#d8576b"
             ],
             [
              0.6666666666666666,
              "#ed7953"
             ],
             [
              0.7777777777777778,
              "#fb9f3a"
             ],
             [
              0.8888888888888888,
              "#fdca26"
             ],
             [
              1.0,
              "#f0f921"
             ]
            ]
           }
          ],
          "heatmap": [
           {
            "type": "heatmap",
            "colorbar": {
             "outlinewidth": 0,
             "ticks": ""
            },
            "colorscale": [
             [
              0.0,
              "#0d0887"
             ],
             [
              0.1111111111111111,
              "#46039f"
             ],
             [
              0.2222222222222222,
              "#7201a8"
             ],
             [
              0.3333333333333333,
              "#9c179e"
             ],
             [
              0.4444444444444444,
              "#bd3786"
             ],
             [
              0.5555555555555556,
              "#d8576b"
             ],
             [
              0.6666666666666666,
              "#ed7953"
             ],
             [
              0.7777777777777778,
              "#fb9f3a"
             ],
             [
              0.8888888888888888,
              "#fdca26"
             ],
             [
              1.0,
              "#f0f921"
             ]
            ]
           }
          ],
          "heatmapgl": [
           {
            "type": "heatmapgl",
            "colorbar": {
             "outlinewidth": 0,
             "ticks": ""
            },
            "colorscale": [
             [
              0.0,
              "#0d0887"
             ],
             [
              0.1111111111111111,
              "#46039f"
             ],
             [
              0.2222222222222222,
              "#7201a8"
             ],
             [
              0.3333333333333333,
              "#9c179e"
             ],
             [
              0.4444444444444444,
              "#bd3786"
             ],
             [
              0.5555555555555556,
              "#d8576b"
             ],
             [
              0.6666666666666666,
              "#ed7953"
             ],
             [
              0.7777777777777778,
              "#fb9f3a"
             ],
             [
              0.8888888888888888,
              "#fdca26"
             ],
             [
              1.0,
              "#f0f921"
             ]
            ]
           }
          ],
          "contourcarpet": [
           {
            "type": "contourcarpet",
            "colorbar": {
             "outlinewidth": 0,
             "ticks": ""
            }
           }
          ],
          "contour": [
           {
            "type": "contour",
            "colorbar": {
             "outlinewidth": 0,
             "ticks": ""
            },
            "colorscale": [
             [
              0.0,
              "#0d0887"
             ],
             [
              0.1111111111111111,
              "#46039f"
             ],
             [
              0.2222222222222222,
              "#7201a8"
             ],
             [
              0.3333333333333333,
              "#9c179e"
             ],
             [
              0.4444444444444444,
              "#bd3786"
             ],
             [
              0.5555555555555556,
              "#d8576b"
             ],
             [
              0.6666666666666666,
              "#ed7953"
             ],
             [
              0.7777777777777778,
              "#fb9f3a"
             ],
             [
              0.8888888888888888,
              "#fdca26"
             ],
             [
              1.0,
              "#f0f921"
             ]
            ]
           }
          ],
          "surface": [
           {
            "type": "surface",
            "colorbar": {
             "outlinewidth": 0,
             "ticks": ""
            },
            "colorscale": [
             [
              0.0,
              "#0d0887"
             ],
             [
              0.1111111111111111,
              "#46039f"
             ],
             [
              0.2222222222222222,
              "#7201a8"
             ],
             [
              0.3333333333333333,
              "#9c179e"
             ],
             [
              0.4444444444444444,
              "#bd3786"
             ],
             [
              0.5555555555555556,
              "#d8576b"
             ],
             [
              0.6666666666666666,
              "#ed7953"
             ],
             [
              0.7777777777777778,
              "#fb9f3a"
             ],
             [
              0.8888888888888888,
              "#fdca26"
             ],
             [
              1.0,
              "#f0f921"
             ]
            ]
           }
          ],
          "mesh3d": [
           {
            "type": "mesh3d",
            "colorbar": {
             "outlinewidth": 0,
             "ticks": ""
            }
           }
          ],
          "scatter": [
           {
            "marker": {
             "line": {
              "color": "#283442"
             }
            },
            "type": "scatter"
           }
          ],
          "parcoords": [
           {
            "type": "parcoords",
            "line": {
             "colorbar": {
              "outlinewidth": 0,
              "ticks": ""
             }
            }
           }
          ],
          "scatterpolargl": [
           {
            "type": "scatterpolargl",
            "marker": {
             "colorbar": {
              "outlinewidth": 0,
              "ticks": ""
             }
            }
           }
          ],
          "bar": [
           {
            "error_x": {
             "color": "#f2f5fa"
            },
            "error_y": {
             "color": "#f2f5fa"
            },
            "marker": {
             "line": {
              "color": "rgb(17,17,17)",
              "width": 0.5
             },
             "pattern": {
              "fillmode": "overlay",
              "size": 10,
              "solidity": 0.2
             }
            },
            "type": "bar"
           }
          ],
          "scattergeo": [
           {
            "type": "scattergeo",
            "marker": {
             "colorbar": {
              "outlinewidth": 0,
              "ticks": ""
             }
            }
           }
          ],
          "scatterpolar": [
           {
            "type": "scatterpolar",
            "marker": {
             "colorbar": {
              "outlinewidth": 0,
              "ticks": ""
             }
            }
           }
          ],
          "histogram": [
           {
            "marker": {
             "pattern": {
              "fillmode": "overlay",
              "size": 10,
              "solidity": 0.2
             }
            },
            "type": "histogram"
           }
          ],
          "scattergl": [
           {
            "marker": {
             "line": {
              "color": "#283442"
             }
            },
            "type": "scattergl"
           }
          ],
          "scatter3d": [
           {
            "type": "scatter3d",
            "line": {
             "colorbar": {
              "outlinewidth": 0,
              "ticks": ""
             }
            },
            "marker": {
             "colorbar": {
              "outlinewidth": 0,
              "ticks": ""
             }
            }
           }
          ],
          "scattermapbox": [
           {
            "type": "scattermapbox",
            "marker": {
             "colorbar": {
              "outlinewidth": 0,
              "ticks": ""
             }
            }
           }
          ],
          "scatterternary": [
           {
            "type": "scatterternary",
            "marker": {
             "colorbar": {
              "outlinewidth": 0,
              "ticks": ""
             }
            }
           }
          ],
          "scattercarpet": [
           {
            "type": "scattercarpet",
            "marker": {
             "colorbar": {
              "outlinewidth": 0,
              "ticks": ""
             }
            }
           }
          ],
          "carpet": [
           {
            "aaxis": {
             "endlinecolor": "#A2B1C6",
             "gridcolor": "#506784",
             "linecolor": "#506784",
             "minorgridcolor": "#506784",
             "startlinecolor": "#A2B1C6"
            },
            "baxis": {
             "endlinecolor": "#A2B1C6",
             "gridcolor": "#506784",
             "linecolor": "#506784",
             "minorgridcolor": "#506784",
             "startlinecolor": "#A2B1C6"
            },
            "type": "carpet"
           }
          ],
          "table": [
           {
            "cells": {
             "fill": {
              "color": "#506784"
             },
             "line": {
              "color": "rgb(17,17,17)"
             }
            },
            "header": {
             "fill": {
              "color": "#2a3f5f"
             },
             "line": {
              "color": "rgb(17,17,17)"
             }
            },
            "type": "table"
           }
          ],
          "barpolar": [
           {
            "marker": {
             "line": {
              "color": "rgb(17,17,17)",
              "width": 0.5
             },
             "pattern": {
              "fillmode": "overlay",
              "size": 10,
              "solidity": 0.2
             }
            },
            "type": "barpolar"
           }
          ],
          "pie": [
           {
            "automargin": true,
            "type": "pie"
           }
          ]
         },
         "layout": {
          "autotypenumbers": "strict",
          "colorway": [
           "#636efa",
           "#EF553B",
           "#00cc96",
           "#ab63fa",
           "#FFA15A",
           "#19d3f3",
           "#FF6692",
           "#B6E880",
           "#FF97FF",
           "#FECB52"
          ],
          "font": {
           "color": "#f2f5fa"
          },
          "hovermode": "closest",
          "hoverlabel": {
           "align": "left"
          },
          "paper_bgcolor": "rgb(17,17,17)",
          "plot_bgcolor": "rgb(17,17,17)",
          "polar": {
           "bgcolor": "rgb(17,17,17)",
           "angularaxis": {
            "gridcolor": "#506784",
            "linecolor": "#506784",
            "ticks": ""
           },
           "radialaxis": {
            "gridcolor": "#506784",
            "linecolor": "#506784",
            "ticks": ""
           }
          },
          "ternary": {
           "bgcolor": "rgb(17,17,17)",
           "aaxis": {
            "gridcolor": "#506784",
            "linecolor": "#506784",
            "ticks": ""
           },
           "baxis": {
            "gridcolor": "#506784",
            "linecolor": "#506784",
            "ticks": ""
           },
           "caxis": {
            "gridcolor": "#506784",
            "linecolor": "#506784",
            "ticks": ""
           }
          },
          "coloraxis": {
           "colorbar": {
            "outlinewidth": 0,
            "ticks": ""
           }
          },
          "colorscale": {
           "sequential": [
            [
             0.0,
             "#0d0887"
            ],
            [
             0.1111111111111111,
             "#46039f"
            ],
            [
             0.2222222222222222,
             "#7201a8"
            ],
            [
             0.3333333333333333,
             "#9c179e"
            ],
            [
             0.4444444444444444,
             "#bd3786"
            ],
            [
             0.5555555555555556,
             "#d8576b"
            ],
            [
             0.6666666666666666,
             "#ed7953"
            ],
            [
             0.7777777777777778,
             "#fb9f3a"
            ],
            [
             0.8888888888888888,
             "#fdca26"
            ],
            [
             1.0,
             "#f0f921"
            ]
           ],
           "sequentialminus": [
            [
             0.0,
             "#0d0887"
            ],
            [
             0.1111111111111111,
             "#46039f"
            ],
            [
             0.2222222222222222,
             "#7201a8"
            ],
            [
             0.3333333333333333,
             "#9c179e"
            ],
            [
             0.4444444444444444,
             "#bd3786"
            ],
            [
             0.5555555555555556,
             "#d8576b"
            ],
            [
             0.6666666666666666,
             "#ed7953"
            ],
            [
             0.7777777777777778,
             "#fb9f3a"
            ],
            [
             0.8888888888888888,
             "#fdca26"
            ],
            [
             1.0,
             "#f0f921"
            ]
           ],
           "diverging": [
            [
             0,
             "#8e0152"
            ],
            [
             0.1,
             "#c51b7d"
            ],
            [
             0.2,
             "#de77ae"
            ],
            [
             0.3,
             "#f1b6da"
            ],
            [
             0.4,
             "#fde0ef"
            ],
            [
             0.5,
             "#f7f7f7"
            ],
            [
             0.6,
             "#e6f5d0"
            ],
            [
             0.7,
             "#b8e186"
            ],
            [
             0.8,
             "#7fbc41"
            ],
            [
             0.9,
             "#4d9221"
            ],
            [
             1,
             "#276419"
            ]
           ]
          },
          "xaxis": {
           "gridcolor": "#283442",
           "linecolor": "#506784",
           "ticks": "",
           "title": {
            "standoff": 15
           },
           "zerolinecolor": "#283442",
           "automargin": true,
           "zerolinewidth": 2
          },
          "yaxis": {
           "gridcolor": "#283442",
           "linecolor": "#506784",
           "ticks": "",
           "title": {
            "standoff": 15
           },
           "zerolinecolor": "#283442",
           "automargin": true,
           "zerolinewidth": 2
          },
          "scene": {
           "xaxis": {
            "backgroundcolor": "rgb(17,17,17)",
            "gridcolor": "#506784",
            "linecolor": "#506784",
            "showbackground": true,
            "ticks": "",
            "zerolinecolor": "#C8D4E3",
            "gridwidth": 2
           },
           "yaxis": {
            "backgroundcolor": "rgb(17,17,17)",
            "gridcolor": "#506784",
            "linecolor": "#506784",
            "showbackground": true,
            "ticks": "",
            "zerolinecolor": "#C8D4E3",
            "gridwidth": 2
           },
           "zaxis": {
            "backgroundcolor": "rgb(17,17,17)",
            "gridcolor": "#506784",
            "linecolor": "#506784",
            "showbackground": true,
            "ticks": "",
            "zerolinecolor": "#C8D4E3",
            "gridwidth": 2
           }
          },
          "shapedefaults": {
           "line": {
            "color": "#f2f5fa"
           }
          },
          "annotationdefaults": {
           "arrowcolor": "#f2f5fa",
           "arrowhead": 0,
           "arrowwidth": 1
          },
          "geo": {
           "bgcolor": "rgb(17,17,17)",
           "landcolor": "rgb(17,17,17)",
           "subunitcolor": "#506784",
           "showland": true,
           "showlakes": true,
           "lakecolor": "rgb(17,17,17)"
          },
          "title": {
           "x": 0.05
          },
          "updatemenudefaults": {
           "bgcolor": "#506784",
           "borderwidth": 0
          },
          "sliderdefaults": {
           "bgcolor": "#C8D4E3",
           "borderwidth": 1,
           "bordercolor": "rgb(17,17,17)",
           "tickwidth": 0
          },
          "mapbox": {
           "style": "dark"
          }
         }
        },
        "xaxis": {
         "anchor": "y",
         "domain": [
          0.0,
          1.0
         ],
         "title": {
          "text": "Countries and areas"
         },
         "tickangle": -45
        },
        "yaxis": {
         "anchor": "x",
         "domain": [
          0.0,
          1.0
         ],
         "title": {
          "text": "value"
         }
        },
        "legend": {
         "title": {
          "text": "variable"
         },
         "tracegroupgap": 0
        },
        "title": {
         "text": "Out-of-School Rates by Gender (Pre-Primary Age)"
        },
        "barmode": "relative"
       },
       "config": {
        "plotlyServerURL": "https://plot.ly"
       }
      },
      "text/html": "<div>                            <div id=\"0505f970-973f-4749-9a68-a97dfb8a723e\" class=\"plotly-graph-div\" style=\"height:525px; width:100%;\"></div>            <script type=\"text/javascript\">                require([\"plotly\"], function(Plotly) {                    window.PLOTLYENV=window.PLOTLYENV || {};                                    if (document.getElementById(\"0505f970-973f-4749-9a68-a97dfb8a723e\")) {                    Plotly.newPlot(                        \"0505f970-973f-4749-9a68-a97dfb8a723e\",                        [{\"alignmentgroup\":\"True\",\"hovertemplate\":\"variable=OOSR_Pre0Primary_Age_Male\\u003cbr\\u003eCountries and areas=%{x}\\u003cbr\\u003evalue=%{y}\\u003cextra\\u003e\\u003c\\u002fextra\\u003e\",\"legendgroup\":\"OOSR_Pre0Primary_Age_Male\",\"marker\":{\"color\":\"#636efa\",\"pattern\":{\"shape\":\"\"}},\"name\":\"OOSR_Pre0Primary_Age_Male\",\"offsetgroup\":\"OOSR_Pre0Primary_Age_Male\",\"orientation\":\"v\",\"showlegend\":true,\"textposition\":\"auto\",\"x\":[\"Afghanistan\",\"Albania\",\"Algeria\",\"Andorra\",\"Angola\",\"Anguilla\",\"Antigua and Barbuda\",\"Argentina\",\"Armenia\",\"Australia\",\"Austria\",\"Azerbaijan\",\"The Bahamas\",\"Bahrain\",\"Bangladesh\",\"Barbados\",\"Belarus\",\"Belgium\",\"Belize\",\"Benin\",\"Bhutan\",\"Bolivia\",\"Bosnia and Herzegovina\",\"Botswana\",\"Brazil\",\"British Virgin Islands\",\"Brunei\",\"Bulgaria\",\"Burkina Faso\",\"Burundi\",\"Cape Verde\",\"Cambodia\",\"Cameroon\",\"Canada\",\"Central African Republic\",\"Chad\",\"Chile\",\"China\",\"Colombia\",\"Comoros\",\"Republic of the Congo\",\"Cook Islands\",\"Costa Rica\",\"Ivory Coast\",\"Croatia\",\"Cuba\",\"Cyprus\",\"Czech Republic\",\"North Korea\",\"Democratic Republic of the Congo\",\"Denmark\",\"Djibouti\",\"Dominica\",\"Dominican Republic\",\"Ecuador\",\"Egypt\",\"El Salvador\",\"Equatorial Guinea\",\"Eritrea\",\"Estonia\",\"Eswatini\",\"Ethiopia\",\"Fiji\",\"Finland\",\"France\",\"Gabon\",\"The Gambia\",\"Georgia\",\"Germany\",\"Ghana\",\"Greece\",\"Grenada\",\"Guatemala\",\"Guinea\",\"Guinea0Bissau\",\"Guyana\",\"Haiti\",\"Vatican City\",\"Honduras\",\"Hungary\",\"Iceland\",\"India\",\"Indonesia\",\"Iran\",\"Iraq\",\"Republic of Ireland\",\"Israel\",\"Italy\",\"Jamaica\",\"Japan\",\"Jordan\",\"Kazakhstan\",\"Kenya\",\"Kiribati\",\"Kuwait\",\"Kyrgyzstan\",\"Laos\",\"Latvia\",\"Lebanon\",\"Lesotho\",\"Liberia\",\"Libya\",\"Liechtenstein\",\"Lithuania\",\"Luxembourg\",\"Madagascar\",\"Malawi\",\"Malaysia\",\"Maldives\",\"Mali\",\"Malta\",\"Marshall Islands\",\"Mauritania\",\"Mauritius\",\"Mexico\",\"Federated States of Micronesia\",\"Monaco\",\"Mongolia\",\"Montenegro\",\"Montserrat\",\"Morocco\",\"Mozambique\",\"Myanmar\",\"Namibia\",\"Nauru\",\"Nepal\",\"Netherlands\",\"New Zealand\",\"Nicaragua\",\"Niger\",\"Nigeria\",\"Niue\",\"North Macedonia\",\"Norway\",\"Oman\",\"Pakistan\",\"Palau\",\"Panama\",\"Papua New Guinea\",\"Paraguay\",\"Peru\",\"Philippines\",\"Poland\",\"Portugal\",\"Qatar\",\"South Korea\",\"Moldova\",\"Romania\",\"Russia\",\"Rwanda\",\"Saint Kitts and Nevis\",\"Saint Lucia\",\"Saint Vincent and the Grenadines\",\"Samoa\",\"San Marino\",\"S\\u00ef\\u00bf\\u00bd\\u00ef\\u00bf\\u00bd\\u00ef\\u00bf\\u00bd\\u00ef\\u00bf\\u00bd\\u00ef\\u00bf\\u00bd\\u00ef\\u00bf\\u00bd\\u00ef\\u00bf\\u00bd\\u00ef\\u00bf\",\"Saudi Arabia\",\"Senegal\",\"Serbia\",\"Seychelles\",\"Sierra Leone\",\"Singapore\",\"Slovakia\",\"Slovenia\",\"Solomon Islands\",\"Somalia\",\"South Africa\",\"South Sudan\",\"Spain\",\"Sri Lanka\",\"Palestinian National Authority\",\"Sudan\",\"Suriname\",\"Sweden\",\"Switzerland\",\"Syria\",\"Tajikistan\",\"Thailand\",\"East Timor\",\"Togo\",\"Tokelau\",\"Tonga\",\"Trinidad and Tobago\",\"Tunisia\",\"Turkey\",\"Turkmenistan\",\"Turks and Caicos Islands\",\"Tuvalu\",\"Uganda\",\"Ukraine\",\"United Arab Emirates\",\"United Kingdom\",\"Tanzania\",\"United States\",\"Uruguay\",\"Uzbekistan\",\"Vanuatu\",\"Venezuela\",\"Vietnam\",\"Yemen\",\"Zambia\",\"Zimbabwe\"],\"xaxis\":\"x\",\"y\":[0,4,0,0,31,14,14,2,52,13,0,32,0,31,0,6,0,3,18,15,58,9,72,79,0,9,17,19,81,52,19,48,56,0,0,85,8,0,3,71,71,3,4,78,5,2,1,10,0,0,2,85,21,7,8,63,18,57,73,12,0,62,0,2,0,0,42,0,1,14,6,4,16,57,0,0,0,0,24,12,4,0,8,50,0,2,1,6,8,0,55,22,0,0,21,11,31,2,0,58,21,0,1,3,1,43,0,1,8,53,0,32,0,9,2,30,0,3,23,19,31,0,88,33,11,9,1,6,0,76,0,13,51,3,16,0,0,25,28,31,1,14,4,5,10,1,5,18,9,48,0,5,9,65,12,49,51,85,9,9,58,0,15,5,36,0,28,78,5,0,35,60,12,0,1,60,87,1,51,1,20,0,0,0,23,0,19,13,0,0,0,3,45,12,2,53,38,14,0,96,0,60],\"yaxis\":\"y\",\"type\":\"bar\"},{\"alignmentgroup\":\"True\",\"hovertemplate\":\"variable=OOSR_Pre0Primary_Age_Female\\u003cbr\\u003eCountries and areas=%{x}\\u003cbr\\u003evalue=%{y}\\u003cextra\\u003e\\u003c\\u002fextra\\u003e\",\"legendgroup\":\"OOSR_Pre0Primary_Age_Female\",\"marker\":{\"color\":\"#EF553B\",\"pattern\":{\"shape\":\"\"}},\"name\":\"OOSR_Pre0Primary_Age_Female\",\"offsetgroup\":\"OOSR_Pre0Primary_Age_Female\",\"orientation\":\"v\",\"showlegend\":true,\"textposition\":\"auto\",\"x\":[\"Afghanistan\",\"Albania\",\"Algeria\",\"Andorra\",\"Angola\",\"Anguilla\",\"Antigua and Barbuda\",\"Argentina\",\"Armenia\",\"Australia\",\"Austria\",\"Azerbaijan\",\"The Bahamas\",\"Bahrain\",\"Bangladesh\",\"Barbados\",\"Belarus\",\"Belgium\",\"Belize\",\"Benin\",\"Bhutan\",\"Bolivia\",\"Bosnia and Herzegovina\",\"Botswana\",\"Brazil\",\"British Virgin Islands\",\"Brunei\",\"Bulgaria\",\"Burkina Faso\",\"Burundi\",\"Cape Verde\",\"Cambodia\",\"Cameroon\",\"Canada\",\"Central African Republic\",\"Chad\",\"Chile\",\"China\",\"Colombia\",\"Comoros\",\"Republic of the Congo\",\"Cook Islands\",\"Costa Rica\",\"Ivory Coast\",\"Croatia\",\"Cuba\",\"Cyprus\",\"Czech Republic\",\"North Korea\",\"Democratic Republic of the Congo\",\"Denmark\",\"Djibouti\",\"Dominica\",\"Dominican Republic\",\"Ecuador\",\"Egypt\",\"El Salvador\",\"Equatorial Guinea\",\"Eritrea\",\"Estonia\",\"Eswatini\",\"Ethiopia\",\"Fiji\",\"Finland\",\"France\",\"Gabon\",\"The Gambia\",\"Georgia\",\"Germany\",\"Ghana\",\"Greece\",\"Grenada\",\"Guatemala\",\"Guinea\",\"Guinea0Bissau\",\"Guyana\",\"Haiti\",\"Vatican City\",\"Honduras\",\"Hungary\",\"Iceland\",\"India\",\"Indonesia\",\"Iran\",\"Iraq\",\"Republic of Ireland\",\"Israel\",\"Italy\",\"Jamaica\",\"Japan\",\"Jordan\",\"Kazakhstan\",\"Kenya\",\"Kiribati\",\"Kuwait\",\"Kyrgyzstan\",\"Laos\",\"Latvia\",\"Lebanon\",\"Lesotho\",\"Liberia\",\"Libya\",\"Liechtenstein\",\"Lithuania\",\"Luxembourg\",\"Madagascar\",\"Malawi\",\"Malaysia\",\"Maldives\",\"Mali\",\"Malta\",\"Marshall Islands\",\"Mauritania\",\"Mauritius\",\"Mexico\",\"Federated States of Micronesia\",\"Monaco\",\"Mongolia\",\"Montenegro\",\"Montserrat\",\"Morocco\",\"Mozambique\",\"Myanmar\",\"Namibia\",\"Nauru\",\"Nepal\",\"Netherlands\",\"New Zealand\",\"Nicaragua\",\"Niger\",\"Nigeria\",\"Niue\",\"North Macedonia\",\"Norway\",\"Oman\",\"Pakistan\",\"Palau\",\"Panama\",\"Papua New Guinea\",\"Paraguay\",\"Peru\",\"Philippines\",\"Poland\",\"Portugal\",\"Qatar\",\"South Korea\",\"Moldova\",\"Romania\",\"Russia\",\"Rwanda\",\"Saint Kitts and Nevis\",\"Saint Lucia\",\"Saint Vincent and the Grenadines\",\"Samoa\",\"San Marino\",\"S\\u00ef\\u00bf\\u00bd\\u00ef\\u00bf\\u00bd\\u00ef\\u00bf\\u00bd\\u00ef\\u00bf\\u00bd\\u00ef\\u00bf\\u00bd\\u00ef\\u00bf\\u00bd\\u00ef\\u00bf\\u00bd\\u00ef\\u00bf\",\"Saudi Arabia\",\"Senegal\",\"Serbia\",\"Seychelles\",\"Sierra Leone\",\"Singapore\",\"Slovakia\",\"Slovenia\",\"Solomon Islands\",\"Somalia\",\"South Africa\",\"South Sudan\",\"Spain\",\"Sri Lanka\",\"Palestinian National Authority\",\"Sudan\",\"Suriname\",\"Sweden\",\"Switzerland\",\"Syria\",\"Tajikistan\",\"Thailand\",\"East Timor\",\"Togo\",\"Tokelau\",\"Tonga\",\"Trinidad and Tobago\",\"Tunisia\",\"Turkey\",\"Turkmenistan\",\"Turks and Caicos Islands\",\"Tuvalu\",\"Uganda\",\"Ukraine\",\"United Arab Emirates\",\"United Kingdom\",\"Tanzania\",\"United States\",\"Uruguay\",\"Uzbekistan\",\"Vanuatu\",\"Venezuela\",\"Vietnam\",\"Yemen\",\"Zambia\",\"Zimbabwe\"],\"xaxis\":\"x\",\"y\":[0,2,0,0,39,0,4,2,50,14,0,19,0,28,0,10,4,2,16,16,59,8,73,78,1,2,18,20,81,50,19,44,57,0,0,87,8,0,1,70,70,0,4,78,5,2,2,10,0,0,2,88,7,6,3,63,17,55,73,12,0,64,1,3,0,0,36,0,1,12,5,1,16,60,0,0,0,0,22,14,3,0,2,49,0,2,0,7,6,0,55,23,0,0,16,10,30,2,0,57,21,0,2,3,1,38,0,1,5,57,5,31,0,8,0,34,0,5,24,14,39,0,88,30,3,17,0,7,0,76,0,38,51,3,13,14,19,23,29,30,1,13,5,6,7,1,5,18,10,47,21,0,3,65,14,46,48,83,10,6,57,0,17,6,33,0,27,81,5,0,34,60,10,0,0,61,88,1,48,7,0,0,0,0,25,0,0,9,0,0,0,0,42,8,1,55,38,14,0,96,0,58],\"yaxis\":\"y\",\"type\":\"bar\"}],                        {\"template\":{\"data\":{\"histogram2dcontour\":[{\"type\":\"histogram2dcontour\",\"colorbar\":{\"outlinewidth\":0,\"ticks\":\"\"},\"colorscale\":[[0.0,\"#0d0887\"],[0.1111111111111111,\"#46039f\"],[0.2222222222222222,\"#7201a8\"],[0.3333333333333333,\"#9c179e\"],[0.4444444444444444,\"#bd3786\"],[0.5555555555555556,\"#d8576b\"],[0.6666666666666666,\"#ed7953\"],[0.7777777777777778,\"#fb9f3a\"],[0.8888888888888888,\"#fdca26\"],[1.0,\"#f0f921\"]]}],\"choropleth\":[{\"type\":\"choropleth\",\"colorbar\":{\"outlinewidth\":0,\"ticks\":\"\"}}],\"histogram2d\":[{\"type\":\"histogram2d\",\"colorbar\":{\"outlinewidth\":0,\"ticks\":\"\"},\"colorscale\":[[0.0,\"#0d0887\"],[0.1111111111111111,\"#46039f\"],[0.2222222222222222,\"#7201a8\"],[0.3333333333333333,\"#9c179e\"],[0.4444444444444444,\"#bd3786\"],[0.5555555555555556,\"#d8576b\"],[0.6666666666666666,\"#ed7953\"],[0.7777777777777778,\"#fb9f3a\"],[0.8888888888888888,\"#fdca26\"],[1.0,\"#f0f921\"]]}],\"heatmap\":[{\"type\":\"heatmap\",\"colorbar\":{\"outlinewidth\":0,\"ticks\":\"\"},\"colorscale\":[[0.0,\"#0d0887\"],[0.1111111111111111,\"#46039f\"],[0.2222222222222222,\"#7201a8\"],[0.3333333333333333,\"#9c179e\"],[0.4444444444444444,\"#bd3786\"],[0.5555555555555556,\"#d8576b\"],[0.6666666666666666,\"#ed7953\"],[0.7777777777777778,\"#fb9f3a\"],[0.8888888888888888,\"#fdca26\"],[1.0,\"#f0f921\"]]}],\"heatmapgl\":[{\"type\":\"heatmapgl\",\"colorbar\":{\"outlinewidth\":0,\"ticks\":\"\"},\"colorscale\":[[0.0,\"#0d0887\"],[0.1111111111111111,\"#46039f\"],[0.2222222222222222,\"#7201a8\"],[0.3333333333333333,\"#9c179e\"],[0.4444444444444444,\"#bd3786\"],[0.5555555555555556,\"#d8576b\"],[0.6666666666666666,\"#ed7953\"],[0.7777777777777778,\"#fb9f3a\"],[0.8888888888888888,\"#fdca26\"],[1.0,\"#f0f921\"]]}],\"contourcarpet\":[{\"type\":\"contourcarpet\",\"colorbar\":{\"outlinewidth\":0,\"ticks\":\"\"}}],\"contour\":[{\"type\":\"contour\",\"colorbar\":{\"outlinewidth\":0,\"ticks\":\"\"},\"colorscale\":[[0.0,\"#0d0887\"],[0.1111111111111111,\"#46039f\"],[0.2222222222222222,\"#7201a8\"],[0.3333333333333333,\"#9c179e\"],[0.4444444444444444,\"#bd3786\"],[0.5555555555555556,\"#d8576b\"],[0.6666666666666666,\"#ed7953\"],[0.7777777777777778,\"#fb9f3a\"],[0.8888888888888888,\"#fdca26\"],[1.0,\"#f0f921\"]]}],\"surface\":[{\"type\":\"surface\",\"colorbar\":{\"outlinewidth\":0,\"ticks\":\"\"},\"colorscale\":[[0.0,\"#0d0887\"],[0.1111111111111111,\"#46039f\"],[0.2222222222222222,\"#7201a8\"],[0.3333333333333333,\"#9c179e\"],[0.4444444444444444,\"#bd3786\"],[0.5555555555555556,\"#d8576b\"],[0.6666666666666666,\"#ed7953\"],[0.7777777777777778,\"#fb9f3a\"],[0.8888888888888888,\"#fdca26\"],[1.0,\"#f0f921\"]]}],\"mesh3d\":[{\"type\":\"mesh3d\",\"colorbar\":{\"outlinewidth\":0,\"ticks\":\"\"}}],\"scatter\":[{\"marker\":{\"line\":{\"color\":\"#283442\"}},\"type\":\"scatter\"}],\"parcoords\":[{\"type\":\"parcoords\",\"line\":{\"colorbar\":{\"outlinewidth\":0,\"ticks\":\"\"}}}],\"scatterpolargl\":[{\"type\":\"scatterpolargl\",\"marker\":{\"colorbar\":{\"outlinewidth\":0,\"ticks\":\"\"}}}],\"bar\":[{\"error_x\":{\"color\":\"#f2f5fa\"},\"error_y\":{\"color\":\"#f2f5fa\"},\"marker\":{\"line\":{\"color\":\"rgb(17,17,17)\",\"width\":0.5},\"pattern\":{\"fillmode\":\"overlay\",\"size\":10,\"solidity\":0.2}},\"type\":\"bar\"}],\"scattergeo\":[{\"type\":\"scattergeo\",\"marker\":{\"colorbar\":{\"outlinewidth\":0,\"ticks\":\"\"}}}],\"scatterpolar\":[{\"type\":\"scatterpolar\",\"marker\":{\"colorbar\":{\"outlinewidth\":0,\"ticks\":\"\"}}}],\"histogram\":[{\"marker\":{\"pattern\":{\"fillmode\":\"overlay\",\"size\":10,\"solidity\":0.2}},\"type\":\"histogram\"}],\"scattergl\":[{\"marker\":{\"line\":{\"color\":\"#283442\"}},\"type\":\"scattergl\"}],\"scatter3d\":[{\"type\":\"scatter3d\",\"line\":{\"colorbar\":{\"outlinewidth\":0,\"ticks\":\"\"}},\"marker\":{\"colorbar\":{\"outlinewidth\":0,\"ticks\":\"\"}}}],\"scattermapbox\":[{\"type\":\"scattermapbox\",\"marker\":{\"colorbar\":{\"outlinewidth\":0,\"ticks\":\"\"}}}],\"scatterternary\":[{\"type\":\"scatterternary\",\"marker\":{\"colorbar\":{\"outlinewidth\":0,\"ticks\":\"\"}}}],\"scattercarpet\":[{\"type\":\"scattercarpet\",\"marker\":{\"colorbar\":{\"outlinewidth\":0,\"ticks\":\"\"}}}],\"carpet\":[{\"aaxis\":{\"endlinecolor\":\"#A2B1C6\",\"gridcolor\":\"#506784\",\"linecolor\":\"#506784\",\"minorgridcolor\":\"#506784\",\"startlinecolor\":\"#A2B1C6\"},\"baxis\":{\"endlinecolor\":\"#A2B1C6\",\"gridcolor\":\"#506784\",\"linecolor\":\"#506784\",\"minorgridcolor\":\"#506784\",\"startlinecolor\":\"#A2B1C6\"},\"type\":\"carpet\"}],\"table\":[{\"cells\":{\"fill\":{\"color\":\"#506784\"},\"line\":{\"color\":\"rgb(17,17,17)\"}},\"header\":{\"fill\":{\"color\":\"#2a3f5f\"},\"line\":{\"color\":\"rgb(17,17,17)\"}},\"type\":\"table\"}],\"barpolar\":[{\"marker\":{\"line\":{\"color\":\"rgb(17,17,17)\",\"width\":0.5},\"pattern\":{\"fillmode\":\"overlay\",\"size\":10,\"solidity\":0.2}},\"type\":\"barpolar\"}],\"pie\":[{\"automargin\":true,\"type\":\"pie\"}]},\"layout\":{\"autotypenumbers\":\"strict\",\"colorway\":[\"#636efa\",\"#EF553B\",\"#00cc96\",\"#ab63fa\",\"#FFA15A\",\"#19d3f3\",\"#FF6692\",\"#B6E880\",\"#FF97FF\",\"#FECB52\"],\"font\":{\"color\":\"#f2f5fa\"},\"hovermode\":\"closest\",\"hoverlabel\":{\"align\":\"left\"},\"paper_bgcolor\":\"rgb(17,17,17)\",\"plot_bgcolor\":\"rgb(17,17,17)\",\"polar\":{\"bgcolor\":\"rgb(17,17,17)\",\"angularaxis\":{\"gridcolor\":\"#506784\",\"linecolor\":\"#506784\",\"ticks\":\"\"},\"radialaxis\":{\"gridcolor\":\"#506784\",\"linecolor\":\"#506784\",\"ticks\":\"\"}},\"ternary\":{\"bgcolor\":\"rgb(17,17,17)\",\"aaxis\":{\"gridcolor\":\"#506784\",\"linecolor\":\"#506784\",\"ticks\":\"\"},\"baxis\":{\"gridcolor\":\"#506784\",\"linecolor\":\"#506784\",\"ticks\":\"\"},\"caxis\":{\"gridcolor\":\"#506784\",\"linecolor\":\"#506784\",\"ticks\":\"\"}},\"coloraxis\":{\"colorbar\":{\"outlinewidth\":0,\"ticks\":\"\"}},\"colorscale\":{\"sequential\":[[0.0,\"#0d0887\"],[0.1111111111111111,\"#46039f\"],[0.2222222222222222,\"#7201a8\"],[0.3333333333333333,\"#9c179e\"],[0.4444444444444444,\"#bd3786\"],[0.5555555555555556,\"#d8576b\"],[0.6666666666666666,\"#ed7953\"],[0.7777777777777778,\"#fb9f3a\"],[0.8888888888888888,\"#fdca26\"],[1.0,\"#f0f921\"]],\"sequentialminus\":[[0.0,\"#0d0887\"],[0.1111111111111111,\"#46039f\"],[0.2222222222222222,\"#7201a8\"],[0.3333333333333333,\"#9c179e\"],[0.4444444444444444,\"#bd3786\"],[0.5555555555555556,\"#d8576b\"],[0.6666666666666666,\"#ed7953\"],[0.7777777777777778,\"#fb9f3a\"],[0.8888888888888888,\"#fdca26\"],[1.0,\"#f0f921\"]],\"diverging\":[[0,\"#8e0152\"],[0.1,\"#c51b7d\"],[0.2,\"#de77ae\"],[0.3,\"#f1b6da\"],[0.4,\"#fde0ef\"],[0.5,\"#f7f7f7\"],[0.6,\"#e6f5d0\"],[0.7,\"#b8e186\"],[0.8,\"#7fbc41\"],[0.9,\"#4d9221\"],[1,\"#276419\"]]},\"xaxis\":{\"gridcolor\":\"#283442\",\"linecolor\":\"#506784\",\"ticks\":\"\",\"title\":{\"standoff\":15},\"zerolinecolor\":\"#283442\",\"automargin\":true,\"zerolinewidth\":2},\"yaxis\":{\"gridcolor\":\"#283442\",\"linecolor\":\"#506784\",\"ticks\":\"\",\"title\":{\"standoff\":15},\"zerolinecolor\":\"#283442\",\"automargin\":true,\"zerolinewidth\":2},\"scene\":{\"xaxis\":{\"backgroundcolor\":\"rgb(17,17,17)\",\"gridcolor\":\"#506784\",\"linecolor\":\"#506784\",\"showbackground\":true,\"ticks\":\"\",\"zerolinecolor\":\"#C8D4E3\",\"gridwidth\":2},\"yaxis\":{\"backgroundcolor\":\"rgb(17,17,17)\",\"gridcolor\":\"#506784\",\"linecolor\":\"#506784\",\"showbackground\":true,\"ticks\":\"\",\"zerolinecolor\":\"#C8D4E3\",\"gridwidth\":2},\"zaxis\":{\"backgroundcolor\":\"rgb(17,17,17)\",\"gridcolor\":\"#506784\",\"linecolor\":\"#506784\",\"showbackground\":true,\"ticks\":\"\",\"zerolinecolor\":\"#C8D4E3\",\"gridwidth\":2}},\"shapedefaults\":{\"line\":{\"color\":\"#f2f5fa\"}},\"annotationdefaults\":{\"arrowcolor\":\"#f2f5fa\",\"arrowhead\":0,\"arrowwidth\":1},\"geo\":{\"bgcolor\":\"rgb(17,17,17)\",\"landcolor\":\"rgb(17,17,17)\",\"subunitcolor\":\"#506784\",\"showland\":true,\"showlakes\":true,\"lakecolor\":\"rgb(17,17,17)\"},\"title\":{\"x\":0.05},\"updatemenudefaults\":{\"bgcolor\":\"#506784\",\"borderwidth\":0},\"sliderdefaults\":{\"bgcolor\":\"#C8D4E3\",\"borderwidth\":1,\"bordercolor\":\"rgb(17,17,17)\",\"tickwidth\":0},\"mapbox\":{\"style\":\"dark\"}}},\"xaxis\":{\"anchor\":\"y\",\"domain\":[0.0,1.0],\"title\":{\"text\":\"Countries and areas\"},\"tickangle\":-45},\"yaxis\":{\"anchor\":\"x\",\"domain\":[0.0,1.0],\"title\":{\"text\":\"value\"}},\"legend\":{\"title\":{\"text\":\"variable\"},\"tracegroupgap\":0},\"title\":{\"text\":\"Out-of-School Rates by Gender (Pre-Primary Age)\"},\"barmode\":\"relative\"},                        {\"responsive\": true}                    ).then(function(){\n                            \nvar gd = document.getElementById('0505f970-973f-4749-9a68-a97dfb8a723e');\nvar x = new MutationObserver(function (mutations, observer) {{\n        var display = window.getComputedStyle(gd).display;\n        if (!display || display === 'none') {{\n            console.log([gd, 'removed!']);\n            Plotly.purge(gd);\n            observer.disconnect();\n        }}\n}});\n\n// Listen for the removal of the full notebook cells\nvar notebookContainer = gd.closest('#notebook-container');\nif (notebookContainer) {{\n    x.observe(notebookContainer, {childList: true});\n}}\n\n// Listen for the clearing of the current output cell\nvar outputEl = gd.closest('.output');\nif (outputEl) {{\n    x.observe(outputEl, {childList: true});\n}}\n\n                        })                };                });            </script>        </div>"
     },
     "metadata": {},
     "output_type": "display_data"
    }
   ],
   "source": [
    "fig = px.bar(df, x='Countries and areas', y=['OOSR_Pre0Primary_Age_Male', 'OOSR_Pre0Primary_Age_Female'],\n",
    "             title='Out-of-School Rates by Gender (Pre-Primary Age)')\n",
    "fig.update_layout(xaxis_tickangle=-45)\n",
    "fig.show()"
   ],
   "metadata": {
    "collapsed": false,
    "ExecuteTime": {
     "end_time": "2024-01-30T11:22:20.821366600Z",
     "start_time": "2024-01-30T11:22:19.246019800Z"
    }
   },
   "id": "889c6d51503d73d0"
  },
  {
   "cell_type": "markdown",
   "source": [
    "\n",
    "# Unemployment Rates Across Countries"
   ],
   "metadata": {
    "collapsed": false
   },
   "id": "cdad2a7ee09db04d"
  },
  {
   "cell_type": "code",
   "execution_count": 10,
   "outputs": [
    {
     "data": {
      "application/vnd.plotly.v1+json": {
       "data": [
        {
         "hovertemplate": "Countries and areas=%{x}<br>Unemployment_Rate=%{marker.color}<extra></extra>",
         "legendgroup": "",
         "marker": {
          "color": [
           11.12,
           12.33,
           11.7,
           0.0,
           6.89,
           0.0,
           0.0,
           9.79,
           16.99,
           5.27,
           4.67,
           5.51,
           10.36,
           0.71,
           4.19,
           10.33,
           4.59,
           5.59,
           6.41,
           2.23,
           2.34,
           3.5,
           18.42,
           18.19,
           12.08,
           0.0,
           9.12,
           4.34,
           6.26,
           1.43,
           12.25,
           0.68,
           3.38,
           5.56,
           3.68,
           1.89,
           7.09,
           4.32,
           9.71,
           4.34,
           9.47,
           0.0,
           11.85,
           3.32,
           6.93,
           1.64,
           7.27,
           1.93,
           2.74,
           4.24,
           4.91,
           10.3,
           0.0,
           5.84,
           3.97,
           10.76,
           4.11,
           6.43,
           5.14,
           5.11,
           0.0,
           2.08,
           4.1,
           6.59,
           8.43,
           20.0,
           9.06,
           14.4,
           3.04,
           4.33,
           17.24,
           0.0,
           2.46,
           4.3,
           2.47,
           11.85,
           13.78,
           0.0,
           5.39,
           3.4,
           2.84,
           5.36,
           4.69,
           11.38,
           12.82,
           4.93,
           3.86,
           9.89,
           8.0,
           2.29,
           14.72,
           4.59,
           2.64,
           0.0,
           2.18,
           6.33,
           0.63,
           6.52,
           6.23,
           23.41,
           2.81,
           18.56,
           0.0,
           6.35,
           5.36,
           1.76,
           5.65,
           3.32,
           6.14,
           7.22,
           3.47,
           0.0,
           9.55,
           6.67,
           3.42,
           0.0,
           0.0,
           6.01,
           14.88,
           0.0,
           9.02,
           3.24,
           1.58,
           20.27,
           0.0,
           1.41,
           3.2,
           4.07,
           6.84,
           0.47,
           8.1,
           0.0,
           0.0,
           3.35,
           2.67,
           4.45,
           0.0,
           3.9,
           2.46,
           4.81,
           3.31,
           2.15,
           3.47,
           6.33,
           0.09,
           4.15,
           5.47,
           3.98,
           4.59,
           1.03,
           0.0,
           20.71,
           18.88,
           8.36,
           0.0,
           13.37,
           5.93,
           6.6,
           12.69,
           0.0,
           4.43,
           4.11,
           5.56,
           4.2,
           0.58,
           11.35,
           28.18,
           12.24,
           13.96,
           4.2,
           0.0,
           16.53,
           7.33,
           6.48,
           4.58,
           8.37,
           11.02,
           0.75,
           4.55,
           2.04,
           0.0,
           1.12,
           2.69,
           16.02,
           13.49,
           3.91,
           0.0,
           0.0,
           1.84,
           8.88,
           2.35,
           3.85,
           1.98,
           14.7,
           8.73,
           5.92,
           4.39,
           8.8,
           2.01,
           12.91,
           11.43,
           4.95
          ],
          "coloraxis": "coloraxis",
          "symbol": "circle"
         },
         "mode": "markers",
         "name": "",
         "orientation": "v",
         "showlegend": false,
         "x": [
          "Afghanistan",
          "Albania",
          "Algeria",
          "Andorra",
          "Angola",
          "Anguilla",
          "Antigua and Barbuda",
          "Argentina",
          "Armenia",
          "Australia",
          "Austria",
          "Azerbaijan",
          "The Bahamas",
          "Bahrain",
          "Bangladesh",
          "Barbados",
          "Belarus",
          "Belgium",
          "Belize",
          "Benin",
          "Bhutan",
          "Bolivia",
          "Bosnia and Herzegovina",
          "Botswana",
          "Brazil",
          "British Virgin Islands",
          "Brunei",
          "Bulgaria",
          "Burkina Faso",
          "Burundi",
          "Cape Verde",
          "Cambodia",
          "Cameroon",
          "Canada",
          "Central African Republic",
          "Chad",
          "Chile",
          "China",
          "Colombia",
          "Comoros",
          "Republic of the Congo",
          "Cook Islands",
          "Costa Rica",
          "Ivory Coast",
          "Croatia",
          "Cuba",
          "Cyprus",
          "Czech Republic",
          "North Korea",
          "Democratic Republic of the Congo",
          "Denmark",
          "Djibouti",
          "Dominica",
          "Dominican Republic",
          "Ecuador",
          "Egypt",
          "El Salvador",
          "Equatorial Guinea",
          "Eritrea",
          "Estonia",
          "Eswatini",
          "Ethiopia",
          "Fiji",
          "Finland",
          "France",
          "Gabon",
          "The Gambia",
          "Georgia",
          "Germany",
          "Ghana",
          "Greece",
          "Grenada",
          "Guatemala",
          "Guinea",
          "Guinea0Bissau",
          "Guyana",
          "Haiti",
          "Vatican City",
          "Honduras",
          "Hungary",
          "Iceland",
          "India",
          "Indonesia",
          "Iran",
          "Iraq",
          "Republic of Ireland",
          "Israel",
          "Italy",
          "Jamaica",
          "Japan",
          "Jordan",
          "Kazakhstan",
          "Kenya",
          "Kiribati",
          "Kuwait",
          "Kyrgyzstan",
          "Laos",
          "Latvia",
          "Lebanon",
          "Lesotho",
          "Liberia",
          "Libya",
          "Liechtenstein",
          "Lithuania",
          "Luxembourg",
          "Madagascar",
          "Malawi",
          "Malaysia",
          "Maldives",
          "Mali",
          "Malta",
          "Marshall Islands",
          "Mauritania",
          "Mauritius",
          "Mexico",
          "Federated States of Micronesia",
          "Monaco",
          "Mongolia",
          "Montenegro",
          "Montserrat",
          "Morocco",
          "Mozambique",
          "Myanmar",
          "Namibia",
          "Nauru",
          "Nepal",
          "Netherlands",
          "New Zealand",
          "Nicaragua",
          "Niger",
          "Nigeria",
          "Niue",
          "North Macedonia",
          "Norway",
          "Oman",
          "Pakistan",
          "Palau",
          "Panama",
          "Papua New Guinea",
          "Paraguay",
          "Peru",
          "Philippines",
          "Poland",
          "Portugal",
          "Qatar",
          "South Korea",
          "Moldova",
          "Romania",
          "Russia",
          "Rwanda",
          "Saint Kitts and Nevis",
          "Saint Lucia",
          "Saint Vincent and the Grenadines",
          "Samoa",
          "San Marino",
          "Sï¿½ï¿½ï¿½ï¿½ï¿½ï¿½ï¿½ï¿",
          "Saudi Arabia",
          "Senegal",
          "Serbia",
          "Seychelles",
          "Sierra Leone",
          "Singapore",
          "Slovakia",
          "Slovenia",
          "Solomon Islands",
          "Somalia",
          "South Africa",
          "South Sudan",
          "Spain",
          "Sri Lanka",
          "Palestinian National Authority",
          "Sudan",
          "Suriname",
          "Sweden",
          "Switzerland",
          "Syria",
          "Tajikistan",
          "Thailand",
          "East Timor",
          "Togo",
          "Tokelau",
          "Tonga",
          "Trinidad and Tobago",
          "Tunisia",
          "Turkey",
          "Turkmenistan",
          "Turks and Caicos Islands",
          "Tuvalu",
          "Uganda",
          "Ukraine",
          "United Arab Emirates",
          "United Kingdom",
          "Tanzania",
          "United States",
          "Uruguay",
          "Uzbekistan",
          "Vanuatu",
          "Venezuela",
          "Vietnam",
          "Yemen",
          "Zambia",
          "Zimbabwe"
         ],
         "xaxis": "x",
         "y": [
          11.12,
          12.33,
          11.7,
          0.0,
          6.89,
          0.0,
          0.0,
          9.79,
          16.99,
          5.27,
          4.67,
          5.51,
          10.36,
          0.71,
          4.19,
          10.33,
          4.59,
          5.59,
          6.41,
          2.23,
          2.34,
          3.5,
          18.42,
          18.19,
          12.08,
          0.0,
          9.12,
          4.34,
          6.26,
          1.43,
          12.25,
          0.68,
          3.38,
          5.56,
          3.68,
          1.89,
          7.09,
          4.32,
          9.71,
          4.34,
          9.47,
          0.0,
          11.85,
          3.32,
          6.93,
          1.64,
          7.27,
          1.93,
          2.74,
          4.24,
          4.91,
          10.3,
          0.0,
          5.84,
          3.97,
          10.76,
          4.11,
          6.43,
          5.14,
          5.11,
          0.0,
          2.08,
          4.1,
          6.59,
          8.43,
          20.0,
          9.06,
          14.4,
          3.04,
          4.33,
          17.24,
          0.0,
          2.46,
          4.3,
          2.47,
          11.85,
          13.78,
          0.0,
          5.39,
          3.4,
          2.84,
          5.36,
          4.69,
          11.38,
          12.82,
          4.93,
          3.86,
          9.89,
          8.0,
          2.29,
          14.72,
          4.59,
          2.64,
          0.0,
          2.18,
          6.33,
          0.63,
          6.52,
          6.23,
          23.41,
          2.81,
          18.56,
          0.0,
          6.35,
          5.36,
          1.76,
          5.65,
          3.32,
          6.14,
          7.22,
          3.47,
          0.0,
          9.55,
          6.67,
          3.42,
          0.0,
          0.0,
          6.01,
          14.88,
          0.0,
          9.02,
          3.24,
          1.58,
          20.27,
          0.0,
          1.41,
          3.2,
          4.07,
          6.84,
          0.47,
          8.1,
          0.0,
          0.0,
          3.35,
          2.67,
          4.45,
          0.0,
          3.9,
          2.46,
          4.81,
          3.31,
          2.15,
          3.47,
          6.33,
          0.09,
          4.15,
          5.47,
          3.98,
          4.59,
          1.03,
          0.0,
          20.71,
          18.88,
          8.36,
          0.0,
          13.37,
          5.93,
          6.6,
          12.69,
          0.0,
          4.43,
          4.11,
          5.56,
          4.2,
          0.58,
          11.35,
          28.18,
          12.24,
          13.96,
          4.2,
          0.0,
          16.53,
          7.33,
          6.48,
          4.58,
          8.37,
          11.02,
          0.75,
          4.55,
          2.04,
          0.0,
          1.12,
          2.69,
          16.02,
          13.49,
          3.91,
          0.0,
          0.0,
          1.84,
          8.88,
          2.35,
          3.85,
          1.98,
          14.7,
          8.73,
          5.92,
          4.39,
          8.8,
          2.01,
          12.91,
          11.43,
          4.95
         ],
         "yaxis": "y",
         "type": "scatter"
        }
       ],
       "layout": {
        "template": {
         "data": {
          "histogram2dcontour": [
           {
            "type": "histogram2dcontour",
            "colorbar": {
             "outlinewidth": 0,
             "ticks": ""
            },
            "colorscale": [
             [
              0.0,
              "#0d0887"
             ],
             [
              0.1111111111111111,
              "#46039f"
             ],
             [
              0.2222222222222222,
              "#7201a8"
             ],
             [
              0.3333333333333333,
              "#9c179e"
             ],
             [
              0.4444444444444444,
              "#bd3786"
             ],
             [
              0.5555555555555556,
              "#d8576b"
             ],
             [
              0.6666666666666666,
              "#ed7953"
             ],
             [
              0.7777777777777778,
              "#fb9f3a"
             ],
             [
              0.8888888888888888,
              "#fdca26"
             ],
             [
              1.0,
              "#f0f921"
             ]
            ]
           }
          ],
          "choropleth": [
           {
            "type": "choropleth",
            "colorbar": {
             "outlinewidth": 0,
             "ticks": ""
            }
           }
          ],
          "histogram2d": [
           {
            "type": "histogram2d",
            "colorbar": {
             "outlinewidth": 0,
             "ticks": ""
            },
            "colorscale": [
             [
              0.0,
              "#0d0887"
             ],
             [
              0.1111111111111111,
              "#46039f"
             ],
             [
              0.2222222222222222,
              "#7201a8"
             ],
             [
              0.3333333333333333,
              "#9c179e"
             ],
             [
              0.4444444444444444,
              "#bd3786"
             ],
             [
              0.5555555555555556,
              "#d8576b"
             ],
             [
              0.6666666666666666,
              "#ed7953"
             ],
             [
              0.7777777777777778,
              "#fb9f3a"
             ],
             [
              0.8888888888888888,
              "#fdca26"
             ],
             [
              1.0,
              "#f0f921"
             ]
            ]
           }
          ],
          "heatmap": [
           {
            "type": "heatmap",
            "colorbar": {
             "outlinewidth": 0,
             "ticks": ""
            },
            "colorscale": [
             [
              0.0,
              "#0d0887"
             ],
             [
              0.1111111111111111,
              "#46039f"
             ],
             [
              0.2222222222222222,
              "#7201a8"
             ],
             [
              0.3333333333333333,
              "#9c179e"
             ],
             [
              0.4444444444444444,
              "#bd3786"
             ],
             [
              0.5555555555555556,
              "#d8576b"
             ],
             [
              0.6666666666666666,
              "#ed7953"
             ],
             [
              0.7777777777777778,
              "#fb9f3a"
             ],
             [
              0.8888888888888888,
              "#fdca26"
             ],
             [
              1.0,
              "#f0f921"
             ]
            ]
           }
          ],
          "heatmapgl": [
           {
            "type": "heatmapgl",
            "colorbar": {
             "outlinewidth": 0,
             "ticks": ""
            },
            "colorscale": [
             [
              0.0,
              "#0d0887"
             ],
             [
              0.1111111111111111,
              "#46039f"
             ],
             [
              0.2222222222222222,
              "#7201a8"
             ],
             [
              0.3333333333333333,
              "#9c179e"
             ],
             [
              0.4444444444444444,
              "#bd3786"
             ],
             [
              0.5555555555555556,
              "#d8576b"
             ],
             [
              0.6666666666666666,
              "#ed7953"
             ],
             [
              0.7777777777777778,
              "#fb9f3a"
             ],
             [
              0.8888888888888888,
              "#fdca26"
             ],
             [
              1.0,
              "#f0f921"
             ]
            ]
           }
          ],
          "contourcarpet": [
           {
            "type": "contourcarpet",
            "colorbar": {
             "outlinewidth": 0,
             "ticks": ""
            }
           }
          ],
          "contour": [
           {
            "type": "contour",
            "colorbar": {
             "outlinewidth": 0,
             "ticks": ""
            },
            "colorscale": [
             [
              0.0,
              "#0d0887"
             ],
             [
              0.1111111111111111,
              "#46039f"
             ],
             [
              0.2222222222222222,
              "#7201a8"
             ],
             [
              0.3333333333333333,
              "#9c179e"
             ],
             [
              0.4444444444444444,
              "#bd3786"
             ],
             [
              0.5555555555555556,
              "#d8576b"
             ],
             [
              0.6666666666666666,
              "#ed7953"
             ],
             [
              0.7777777777777778,
              "#fb9f3a"
             ],
             [
              0.8888888888888888,
              "#fdca26"
             ],
             [
              1.0,
              "#f0f921"
             ]
            ]
           }
          ],
          "surface": [
           {
            "type": "surface",
            "colorbar": {
             "outlinewidth": 0,
             "ticks": ""
            },
            "colorscale": [
             [
              0.0,
              "#0d0887"
             ],
             [
              0.1111111111111111,
              "#46039f"
             ],
             [
              0.2222222222222222,
              "#7201a8"
             ],
             [
              0.3333333333333333,
              "#9c179e"
             ],
             [
              0.4444444444444444,
              "#bd3786"
             ],
             [
              0.5555555555555556,
              "#d8576b"
             ],
             [
              0.6666666666666666,
              "#ed7953"
             ],
             [
              0.7777777777777778,
              "#fb9f3a"
             ],
             [
              0.8888888888888888,
              "#fdca26"
             ],
             [
              1.0,
              "#f0f921"
             ]
            ]
           }
          ],
          "mesh3d": [
           {
            "type": "mesh3d",
            "colorbar": {
             "outlinewidth": 0,
             "ticks": ""
            }
           }
          ],
          "scatter": [
           {
            "marker": {
             "line": {
              "color": "#283442"
             }
            },
            "type": "scatter"
           }
          ],
          "parcoords": [
           {
            "type": "parcoords",
            "line": {
             "colorbar": {
              "outlinewidth": 0,
              "ticks": ""
             }
            }
           }
          ],
          "scatterpolargl": [
           {
            "type": "scatterpolargl",
            "marker": {
             "colorbar": {
              "outlinewidth": 0,
              "ticks": ""
             }
            }
           }
          ],
          "bar": [
           {
            "error_x": {
             "color": "#f2f5fa"
            },
            "error_y": {
             "color": "#f2f5fa"
            },
            "marker": {
             "line": {
              "color": "rgb(17,17,17)",
              "width": 0.5
             },
             "pattern": {
              "fillmode": "overlay",
              "size": 10,
              "solidity": 0.2
             }
            },
            "type": "bar"
           }
          ],
          "scattergeo": [
           {
            "type": "scattergeo",
            "marker": {
             "colorbar": {
              "outlinewidth": 0,
              "ticks": ""
             }
            }
           }
          ],
          "scatterpolar": [
           {
            "type": "scatterpolar",
            "marker": {
             "colorbar": {
              "outlinewidth": 0,
              "ticks": ""
             }
            }
           }
          ],
          "histogram": [
           {
            "marker": {
             "pattern": {
              "fillmode": "overlay",
              "size": 10,
              "solidity": 0.2
             }
            },
            "type": "histogram"
           }
          ],
          "scattergl": [
           {
            "marker": {
             "line": {
              "color": "#283442"
             }
            },
            "type": "scattergl"
           }
          ],
          "scatter3d": [
           {
            "type": "scatter3d",
            "line": {
             "colorbar": {
              "outlinewidth": 0,
              "ticks": ""
             }
            },
            "marker": {
             "colorbar": {
              "outlinewidth": 0,
              "ticks": ""
             }
            }
           }
          ],
          "scattermapbox": [
           {
            "type": "scattermapbox",
            "marker": {
             "colorbar": {
              "outlinewidth": 0,
              "ticks": ""
             }
            }
           }
          ],
          "scatterternary": [
           {
            "type": "scatterternary",
            "marker": {
             "colorbar": {
              "outlinewidth": 0,
              "ticks": ""
             }
            }
           }
          ],
          "scattercarpet": [
           {
            "type": "scattercarpet",
            "marker": {
             "colorbar": {
              "outlinewidth": 0,
              "ticks": ""
             }
            }
           }
          ],
          "carpet": [
           {
            "aaxis": {
             "endlinecolor": "#A2B1C6",
             "gridcolor": "#506784",
             "linecolor": "#506784",
             "minorgridcolor": "#506784",
             "startlinecolor": "#A2B1C6"
            },
            "baxis": {
             "endlinecolor": "#A2B1C6",
             "gridcolor": "#506784",
             "linecolor": "#506784",
             "minorgridcolor": "#506784",
             "startlinecolor": "#A2B1C6"
            },
            "type": "carpet"
           }
          ],
          "table": [
           {
            "cells": {
             "fill": {
              "color": "#506784"
             },
             "line": {
              "color": "rgb(17,17,17)"
             }
            },
            "header": {
             "fill": {
              "color": "#2a3f5f"
             },
             "line": {
              "color": "rgb(17,17,17)"
             }
            },
            "type": "table"
           }
          ],
          "barpolar": [
           {
            "marker": {
             "line": {
              "color": "rgb(17,17,17)",
              "width": 0.5
             },
             "pattern": {
              "fillmode": "overlay",
              "size": 10,
              "solidity": 0.2
             }
            },
            "type": "barpolar"
           }
          ],
          "pie": [
           {
            "automargin": true,
            "type": "pie"
           }
          ]
         },
         "layout": {
          "autotypenumbers": "strict",
          "colorway": [
           "#636efa",
           "#EF553B",
           "#00cc96",
           "#ab63fa",
           "#FFA15A",
           "#19d3f3",
           "#FF6692",
           "#B6E880",
           "#FF97FF",
           "#FECB52"
          ],
          "font": {
           "color": "#f2f5fa"
          },
          "hovermode": "closest",
          "hoverlabel": {
           "align": "left"
          },
          "paper_bgcolor": "rgb(17,17,17)",
          "plot_bgcolor": "rgb(17,17,17)",
          "polar": {
           "bgcolor": "rgb(17,17,17)",
           "angularaxis": {
            "gridcolor": "#506784",
            "linecolor": "#506784",
            "ticks": ""
           },
           "radialaxis": {
            "gridcolor": "#506784",
            "linecolor": "#506784",
            "ticks": ""
           }
          },
          "ternary": {
           "bgcolor": "rgb(17,17,17)",
           "aaxis": {
            "gridcolor": "#506784",
            "linecolor": "#506784",
            "ticks": ""
           },
           "baxis": {
            "gridcolor": "#506784",
            "linecolor": "#506784",
            "ticks": ""
           },
           "caxis": {
            "gridcolor": "#506784",
            "linecolor": "#506784",
            "ticks": ""
           }
          },
          "coloraxis": {
           "colorbar": {
            "outlinewidth": 0,
            "ticks": ""
           }
          },
          "colorscale": {
           "sequential": [
            [
             0.0,
             "#0d0887"
            ],
            [
             0.1111111111111111,
             "#46039f"
            ],
            [
             0.2222222222222222,
             "#7201a8"
            ],
            [
             0.3333333333333333,
             "#9c179e"
            ],
            [
             0.4444444444444444,
             "#bd3786"
            ],
            [
             0.5555555555555556,
             "#d8576b"
            ],
            [
             0.6666666666666666,
             "#ed7953"
            ],
            [
             0.7777777777777778,
             "#fb9f3a"
            ],
            [
             0.8888888888888888,
             "#fdca26"
            ],
            [
             1.0,
             "#f0f921"
            ]
           ],
           "sequentialminus": [
            [
             0.0,
             "#0d0887"
            ],
            [
             0.1111111111111111,
             "#46039f"
            ],
            [
             0.2222222222222222,
             "#7201a8"
            ],
            [
             0.3333333333333333,
             "#9c179e"
            ],
            [
             0.4444444444444444,
             "#bd3786"
            ],
            [
             0.5555555555555556,
             "#d8576b"
            ],
            [
             0.6666666666666666,
             "#ed7953"
            ],
            [
             0.7777777777777778,
             "#fb9f3a"
            ],
            [
             0.8888888888888888,
             "#fdca26"
            ],
            [
             1.0,
             "#f0f921"
            ]
           ],
           "diverging": [
            [
             0,
             "#8e0152"
            ],
            [
             0.1,
             "#c51b7d"
            ],
            [
             0.2,
             "#de77ae"
            ],
            [
             0.3,
             "#f1b6da"
            ],
            [
             0.4,
             "#fde0ef"
            ],
            [
             0.5,
             "#f7f7f7"
            ],
            [
             0.6,
             "#e6f5d0"
            ],
            [
             0.7,
             "#b8e186"
            ],
            [
             0.8,
             "#7fbc41"
            ],
            [
             0.9,
             "#4d9221"
            ],
            [
             1,
             "#276419"
            ]
           ]
          },
          "xaxis": {
           "gridcolor": "#283442",
           "linecolor": "#506784",
           "ticks": "",
           "title": {
            "standoff": 15
           },
           "zerolinecolor": "#283442",
           "automargin": true,
           "zerolinewidth": 2
          },
          "yaxis": {
           "gridcolor": "#283442",
           "linecolor": "#506784",
           "ticks": "",
           "title": {
            "standoff": 15
           },
           "zerolinecolor": "#283442",
           "automargin": true,
           "zerolinewidth": 2
          },
          "scene": {
           "xaxis": {
            "backgroundcolor": "rgb(17,17,17)",
            "gridcolor": "#506784",
            "linecolor": "#506784",
            "showbackground": true,
            "ticks": "",
            "zerolinecolor": "#C8D4E3",
            "gridwidth": 2
           },
           "yaxis": {
            "backgroundcolor": "rgb(17,17,17)",
            "gridcolor": "#506784",
            "linecolor": "#506784",
            "showbackground": true,
            "ticks": "",
            "zerolinecolor": "#C8D4E3",
            "gridwidth": 2
           },
           "zaxis": {
            "backgroundcolor": "rgb(17,17,17)",
            "gridcolor": "#506784",
            "linecolor": "#506784",
            "showbackground": true,
            "ticks": "",
            "zerolinecolor": "#C8D4E3",
            "gridwidth": 2
           }
          },
          "shapedefaults": {
           "line": {
            "color": "#f2f5fa"
           }
          },
          "annotationdefaults": {
           "arrowcolor": "#f2f5fa",
           "arrowhead": 0,
           "arrowwidth": 1
          },
          "geo": {
           "bgcolor": "rgb(17,17,17)",
           "landcolor": "rgb(17,17,17)",
           "subunitcolor": "#506784",
           "showland": true,
           "showlakes": true,
           "lakecolor": "rgb(17,17,17)"
          },
          "title": {
           "x": 0.05
          },
          "updatemenudefaults": {
           "bgcolor": "#506784",
           "borderwidth": 0
          },
          "sliderdefaults": {
           "bgcolor": "#C8D4E3",
           "borderwidth": 1,
           "bordercolor": "rgb(17,17,17)",
           "tickwidth": 0
          },
          "mapbox": {
           "style": "dark"
          }
         }
        },
        "xaxis": {
         "anchor": "y",
         "domain": [
          0.0,
          1.0
         ],
         "title": {
          "text": "Countries and areas"
         },
         "tickangle": -45
        },
        "yaxis": {
         "anchor": "x",
         "domain": [
          0.0,
          1.0
         ],
         "title": {
          "text": "Unemployment_Rate"
         }
        },
        "coloraxis": {
         "colorbar": {
          "title": {
           "text": "Unemployment_Rate"
          }
         },
         "colorscale": [
          [
           0.0,
           "#0d0887"
          ],
          [
           0.1111111111111111,
           "#46039f"
          ],
          [
           0.2222222222222222,
           "#7201a8"
          ],
          [
           0.3333333333333333,
           "#9c179e"
          ],
          [
           0.4444444444444444,
           "#bd3786"
          ],
          [
           0.5555555555555556,
           "#d8576b"
          ],
          [
           0.6666666666666666,
           "#ed7953"
          ],
          [
           0.7777777777777778,
           "#fb9f3a"
          ],
          [
           0.8888888888888888,
           "#fdca26"
          ],
          [
           1.0,
           "#f0f921"
          ]
         ]
        },
        "legend": {
         "tracegroupgap": 0
        },
        "title": {
         "text": "Unemployment Rates Across Countries"
        }
       },
       "config": {
        "plotlyServerURL": "https://plot.ly"
       }
      },
      "text/html": "<div>                            <div id=\"d32b2498-02c8-4124-9ae3-14a19bf9a045\" class=\"plotly-graph-div\" style=\"height:525px; width:100%;\"></div>            <script type=\"text/javascript\">                require([\"plotly\"], function(Plotly) {                    window.PLOTLYENV=window.PLOTLYENV || {};                                    if (document.getElementById(\"d32b2498-02c8-4124-9ae3-14a19bf9a045\")) {                    Plotly.newPlot(                        \"d32b2498-02c8-4124-9ae3-14a19bf9a045\",                        [{\"hovertemplate\":\"Countries and areas=%{x}\\u003cbr\\u003eUnemployment_Rate=%{marker.color}\\u003cextra\\u003e\\u003c\\u002fextra\\u003e\",\"legendgroup\":\"\",\"marker\":{\"color\":[11.12,12.33,11.7,0.0,6.89,0.0,0.0,9.79,16.99,5.27,4.67,5.51,10.36,0.71,4.19,10.33,4.59,5.59,6.41,2.23,2.34,3.5,18.42,18.19,12.08,0.0,9.12,4.34,6.26,1.43,12.25,0.68,3.38,5.56,3.68,1.89,7.09,4.32,9.71,4.34,9.47,0.0,11.85,3.32,6.93,1.64,7.27,1.93,2.74,4.24,4.91,10.3,0.0,5.84,3.97,10.76,4.11,6.43,5.14,5.11,0.0,2.08,4.1,6.59,8.43,20.0,9.06,14.4,3.04,4.33,17.24,0.0,2.46,4.3,2.47,11.85,13.78,0.0,5.39,3.4,2.84,5.36,4.69,11.38,12.82,4.93,3.86,9.89,8.0,2.29,14.72,4.59,2.64,0.0,2.18,6.33,0.63,6.52,6.23,23.41,2.81,18.56,0.0,6.35,5.36,1.76,5.65,3.32,6.14,7.22,3.47,0.0,9.55,6.67,3.42,0.0,0.0,6.01,14.88,0.0,9.02,3.24,1.58,20.27,0.0,1.41,3.2,4.07,6.84,0.47,8.1,0.0,0.0,3.35,2.67,4.45,0.0,3.9,2.46,4.81,3.31,2.15,3.47,6.33,0.09,4.15,5.47,3.98,4.59,1.03,0.0,20.71,18.88,8.36,0.0,13.37,5.93,6.6,12.69,0.0,4.43,4.11,5.56,4.2,0.58,11.35,28.18,12.24,13.96,4.2,0.0,16.53,7.33,6.48,4.58,8.37,11.02,0.75,4.55,2.04,0.0,1.12,2.69,16.02,13.49,3.91,0.0,0.0,1.84,8.88,2.35,3.85,1.98,14.7,8.73,5.92,4.39,8.8,2.01,12.91,11.43,4.95],\"coloraxis\":\"coloraxis\",\"symbol\":\"circle\"},\"mode\":\"markers\",\"name\":\"\",\"orientation\":\"v\",\"showlegend\":false,\"x\":[\"Afghanistan\",\"Albania\",\"Algeria\",\"Andorra\",\"Angola\",\"Anguilla\",\"Antigua and Barbuda\",\"Argentina\",\"Armenia\",\"Australia\",\"Austria\",\"Azerbaijan\",\"The Bahamas\",\"Bahrain\",\"Bangladesh\",\"Barbados\",\"Belarus\",\"Belgium\",\"Belize\",\"Benin\",\"Bhutan\",\"Bolivia\",\"Bosnia and Herzegovina\",\"Botswana\",\"Brazil\",\"British Virgin Islands\",\"Brunei\",\"Bulgaria\",\"Burkina Faso\",\"Burundi\",\"Cape Verde\",\"Cambodia\",\"Cameroon\",\"Canada\",\"Central African Republic\",\"Chad\",\"Chile\",\"China\",\"Colombia\",\"Comoros\",\"Republic of the Congo\",\"Cook Islands\",\"Costa Rica\",\"Ivory Coast\",\"Croatia\",\"Cuba\",\"Cyprus\",\"Czech Republic\",\"North Korea\",\"Democratic Republic of the Congo\",\"Denmark\",\"Djibouti\",\"Dominica\",\"Dominican Republic\",\"Ecuador\",\"Egypt\",\"El Salvador\",\"Equatorial Guinea\",\"Eritrea\",\"Estonia\",\"Eswatini\",\"Ethiopia\",\"Fiji\",\"Finland\",\"France\",\"Gabon\",\"The Gambia\",\"Georgia\",\"Germany\",\"Ghana\",\"Greece\",\"Grenada\",\"Guatemala\",\"Guinea\",\"Guinea0Bissau\",\"Guyana\",\"Haiti\",\"Vatican City\",\"Honduras\",\"Hungary\",\"Iceland\",\"India\",\"Indonesia\",\"Iran\",\"Iraq\",\"Republic of Ireland\",\"Israel\",\"Italy\",\"Jamaica\",\"Japan\",\"Jordan\",\"Kazakhstan\",\"Kenya\",\"Kiribati\",\"Kuwait\",\"Kyrgyzstan\",\"Laos\",\"Latvia\",\"Lebanon\",\"Lesotho\",\"Liberia\",\"Libya\",\"Liechtenstein\",\"Lithuania\",\"Luxembourg\",\"Madagascar\",\"Malawi\",\"Malaysia\",\"Maldives\",\"Mali\",\"Malta\",\"Marshall Islands\",\"Mauritania\",\"Mauritius\",\"Mexico\",\"Federated States of Micronesia\",\"Monaco\",\"Mongolia\",\"Montenegro\",\"Montserrat\",\"Morocco\",\"Mozambique\",\"Myanmar\",\"Namibia\",\"Nauru\",\"Nepal\",\"Netherlands\",\"New Zealand\",\"Nicaragua\",\"Niger\",\"Nigeria\",\"Niue\",\"North Macedonia\",\"Norway\",\"Oman\",\"Pakistan\",\"Palau\",\"Panama\",\"Papua New Guinea\",\"Paraguay\",\"Peru\",\"Philippines\",\"Poland\",\"Portugal\",\"Qatar\",\"South Korea\",\"Moldova\",\"Romania\",\"Russia\",\"Rwanda\",\"Saint Kitts and Nevis\",\"Saint Lucia\",\"Saint Vincent and the Grenadines\",\"Samoa\",\"San Marino\",\"S\\u00ef\\u00bf\\u00bd\\u00ef\\u00bf\\u00bd\\u00ef\\u00bf\\u00bd\\u00ef\\u00bf\\u00bd\\u00ef\\u00bf\\u00bd\\u00ef\\u00bf\\u00bd\\u00ef\\u00bf\\u00bd\\u00ef\\u00bf\",\"Saudi Arabia\",\"Senegal\",\"Serbia\",\"Seychelles\",\"Sierra Leone\",\"Singapore\",\"Slovakia\",\"Slovenia\",\"Solomon Islands\",\"Somalia\",\"South Africa\",\"South Sudan\",\"Spain\",\"Sri Lanka\",\"Palestinian National Authority\",\"Sudan\",\"Suriname\",\"Sweden\",\"Switzerland\",\"Syria\",\"Tajikistan\",\"Thailand\",\"East Timor\",\"Togo\",\"Tokelau\",\"Tonga\",\"Trinidad and Tobago\",\"Tunisia\",\"Turkey\",\"Turkmenistan\",\"Turks and Caicos Islands\",\"Tuvalu\",\"Uganda\",\"Ukraine\",\"United Arab Emirates\",\"United Kingdom\",\"Tanzania\",\"United States\",\"Uruguay\",\"Uzbekistan\",\"Vanuatu\",\"Venezuela\",\"Vietnam\",\"Yemen\",\"Zambia\",\"Zimbabwe\"],\"xaxis\":\"x\",\"y\":[11.12,12.33,11.7,0.0,6.89,0.0,0.0,9.79,16.99,5.27,4.67,5.51,10.36,0.71,4.19,10.33,4.59,5.59,6.41,2.23,2.34,3.5,18.42,18.19,12.08,0.0,9.12,4.34,6.26,1.43,12.25,0.68,3.38,5.56,3.68,1.89,7.09,4.32,9.71,4.34,9.47,0.0,11.85,3.32,6.93,1.64,7.27,1.93,2.74,4.24,4.91,10.3,0.0,5.84,3.97,10.76,4.11,6.43,5.14,5.11,0.0,2.08,4.1,6.59,8.43,20.0,9.06,14.4,3.04,4.33,17.24,0.0,2.46,4.3,2.47,11.85,13.78,0.0,5.39,3.4,2.84,5.36,4.69,11.38,12.82,4.93,3.86,9.89,8.0,2.29,14.72,4.59,2.64,0.0,2.18,6.33,0.63,6.52,6.23,23.41,2.81,18.56,0.0,6.35,5.36,1.76,5.65,3.32,6.14,7.22,3.47,0.0,9.55,6.67,3.42,0.0,0.0,6.01,14.88,0.0,9.02,3.24,1.58,20.27,0.0,1.41,3.2,4.07,6.84,0.47,8.1,0.0,0.0,3.35,2.67,4.45,0.0,3.9,2.46,4.81,3.31,2.15,3.47,6.33,0.09,4.15,5.47,3.98,4.59,1.03,0.0,20.71,18.88,8.36,0.0,13.37,5.93,6.6,12.69,0.0,4.43,4.11,5.56,4.2,0.58,11.35,28.18,12.24,13.96,4.2,0.0,16.53,7.33,6.48,4.58,8.37,11.02,0.75,4.55,2.04,0.0,1.12,2.69,16.02,13.49,3.91,0.0,0.0,1.84,8.88,2.35,3.85,1.98,14.7,8.73,5.92,4.39,8.8,2.01,12.91,11.43,4.95],\"yaxis\":\"y\",\"type\":\"scatter\"}],                        {\"template\":{\"data\":{\"histogram2dcontour\":[{\"type\":\"histogram2dcontour\",\"colorbar\":{\"outlinewidth\":0,\"ticks\":\"\"},\"colorscale\":[[0.0,\"#0d0887\"],[0.1111111111111111,\"#46039f\"],[0.2222222222222222,\"#7201a8\"],[0.3333333333333333,\"#9c179e\"],[0.4444444444444444,\"#bd3786\"],[0.5555555555555556,\"#d8576b\"],[0.6666666666666666,\"#ed7953\"],[0.7777777777777778,\"#fb9f3a\"],[0.8888888888888888,\"#fdca26\"],[1.0,\"#f0f921\"]]}],\"choropleth\":[{\"type\":\"choropleth\",\"colorbar\":{\"outlinewidth\":0,\"ticks\":\"\"}}],\"histogram2d\":[{\"type\":\"histogram2d\",\"colorbar\":{\"outlinewidth\":0,\"ticks\":\"\"},\"colorscale\":[[0.0,\"#0d0887\"],[0.1111111111111111,\"#46039f\"],[0.2222222222222222,\"#7201a8\"],[0.3333333333333333,\"#9c179e\"],[0.4444444444444444,\"#bd3786\"],[0.5555555555555556,\"#d8576b\"],[0.6666666666666666,\"#ed7953\"],[0.7777777777777778,\"#fb9f3a\"],[0.8888888888888888,\"#fdca26\"],[1.0,\"#f0f921\"]]}],\"heatmap\":[{\"type\":\"heatmap\",\"colorbar\":{\"outlinewidth\":0,\"ticks\":\"\"},\"colorscale\":[[0.0,\"#0d0887\"],[0.1111111111111111,\"#46039f\"],[0.2222222222222222,\"#7201a8\"],[0.3333333333333333,\"#9c179e\"],[0.4444444444444444,\"#bd3786\"],[0.5555555555555556,\"#d8576b\"],[0.6666666666666666,\"#ed7953\"],[0.7777777777777778,\"#fb9f3a\"],[0.8888888888888888,\"#fdca26\"],[1.0,\"#f0f921\"]]}],\"heatmapgl\":[{\"type\":\"heatmapgl\",\"colorbar\":{\"outlinewidth\":0,\"ticks\":\"\"},\"colorscale\":[[0.0,\"#0d0887\"],[0.1111111111111111,\"#46039f\"],[0.2222222222222222,\"#7201a8\"],[0.3333333333333333,\"#9c179e\"],[0.4444444444444444,\"#bd3786\"],[0.5555555555555556,\"#d8576b\"],[0.6666666666666666,\"#ed7953\"],[0.7777777777777778,\"#fb9f3a\"],[0.8888888888888888,\"#fdca26\"],[1.0,\"#f0f921\"]]}],\"contourcarpet\":[{\"type\":\"contourcarpet\",\"colorbar\":{\"outlinewidth\":0,\"ticks\":\"\"}}],\"contour\":[{\"type\":\"contour\",\"colorbar\":{\"outlinewidth\":0,\"ticks\":\"\"},\"colorscale\":[[0.0,\"#0d0887\"],[0.1111111111111111,\"#46039f\"],[0.2222222222222222,\"#7201a8\"],[0.3333333333333333,\"#9c179e\"],[0.4444444444444444,\"#bd3786\"],[0.5555555555555556,\"#d8576b\"],[0.6666666666666666,\"#ed7953\"],[0.7777777777777778,\"#fb9f3a\"],[0.8888888888888888,\"#fdca26\"],[1.0,\"#f0f921\"]]}],\"surface\":[{\"type\":\"surface\",\"colorbar\":{\"outlinewidth\":0,\"ticks\":\"\"},\"colorscale\":[[0.0,\"#0d0887\"],[0.1111111111111111,\"#46039f\"],[0.2222222222222222,\"#7201a8\"],[0.3333333333333333,\"#9c179e\"],[0.4444444444444444,\"#bd3786\"],[0.5555555555555556,\"#d8576b\"],[0.6666666666666666,\"#ed7953\"],[0.7777777777777778,\"#fb9f3a\"],[0.8888888888888888,\"#fdca26\"],[1.0,\"#f0f921\"]]}],\"mesh3d\":[{\"type\":\"mesh3d\",\"colorbar\":{\"outlinewidth\":0,\"ticks\":\"\"}}],\"scatter\":[{\"marker\":{\"line\":{\"color\":\"#283442\"}},\"type\":\"scatter\"}],\"parcoords\":[{\"type\":\"parcoords\",\"line\":{\"colorbar\":{\"outlinewidth\":0,\"ticks\":\"\"}}}],\"scatterpolargl\":[{\"type\":\"scatterpolargl\",\"marker\":{\"colorbar\":{\"outlinewidth\":0,\"ticks\":\"\"}}}],\"bar\":[{\"error_x\":{\"color\":\"#f2f5fa\"},\"error_y\":{\"color\":\"#f2f5fa\"},\"marker\":{\"line\":{\"color\":\"rgb(17,17,17)\",\"width\":0.5},\"pattern\":{\"fillmode\":\"overlay\",\"size\":10,\"solidity\":0.2}},\"type\":\"bar\"}],\"scattergeo\":[{\"type\":\"scattergeo\",\"marker\":{\"colorbar\":{\"outlinewidth\":0,\"ticks\":\"\"}}}],\"scatterpolar\":[{\"type\":\"scatterpolar\",\"marker\":{\"colorbar\":{\"outlinewidth\":0,\"ticks\":\"\"}}}],\"histogram\":[{\"marker\":{\"pattern\":{\"fillmode\":\"overlay\",\"size\":10,\"solidity\":0.2}},\"type\":\"histogram\"}],\"scattergl\":[{\"marker\":{\"line\":{\"color\":\"#283442\"}},\"type\":\"scattergl\"}],\"scatter3d\":[{\"type\":\"scatter3d\",\"line\":{\"colorbar\":{\"outlinewidth\":0,\"ticks\":\"\"}},\"marker\":{\"colorbar\":{\"outlinewidth\":0,\"ticks\":\"\"}}}],\"scattermapbox\":[{\"type\":\"scattermapbox\",\"marker\":{\"colorbar\":{\"outlinewidth\":0,\"ticks\":\"\"}}}],\"scatterternary\":[{\"type\":\"scatterternary\",\"marker\":{\"colorbar\":{\"outlinewidth\":0,\"ticks\":\"\"}}}],\"scattercarpet\":[{\"type\":\"scattercarpet\",\"marker\":{\"colorbar\":{\"outlinewidth\":0,\"ticks\":\"\"}}}],\"carpet\":[{\"aaxis\":{\"endlinecolor\":\"#A2B1C6\",\"gridcolor\":\"#506784\",\"linecolor\":\"#506784\",\"minorgridcolor\":\"#506784\",\"startlinecolor\":\"#A2B1C6\"},\"baxis\":{\"endlinecolor\":\"#A2B1C6\",\"gridcolor\":\"#506784\",\"linecolor\":\"#506784\",\"minorgridcolor\":\"#506784\",\"startlinecolor\":\"#A2B1C6\"},\"type\":\"carpet\"}],\"table\":[{\"cells\":{\"fill\":{\"color\":\"#506784\"},\"line\":{\"color\":\"rgb(17,17,17)\"}},\"header\":{\"fill\":{\"color\":\"#2a3f5f\"},\"line\":{\"color\":\"rgb(17,17,17)\"}},\"type\":\"table\"}],\"barpolar\":[{\"marker\":{\"line\":{\"color\":\"rgb(17,17,17)\",\"width\":0.5},\"pattern\":{\"fillmode\":\"overlay\",\"size\":10,\"solidity\":0.2}},\"type\":\"barpolar\"}],\"pie\":[{\"automargin\":true,\"type\":\"pie\"}]},\"layout\":{\"autotypenumbers\":\"strict\",\"colorway\":[\"#636efa\",\"#EF553B\",\"#00cc96\",\"#ab63fa\",\"#FFA15A\",\"#19d3f3\",\"#FF6692\",\"#B6E880\",\"#FF97FF\",\"#FECB52\"],\"font\":{\"color\":\"#f2f5fa\"},\"hovermode\":\"closest\",\"hoverlabel\":{\"align\":\"left\"},\"paper_bgcolor\":\"rgb(17,17,17)\",\"plot_bgcolor\":\"rgb(17,17,17)\",\"polar\":{\"bgcolor\":\"rgb(17,17,17)\",\"angularaxis\":{\"gridcolor\":\"#506784\",\"linecolor\":\"#506784\",\"ticks\":\"\"},\"radialaxis\":{\"gridcolor\":\"#506784\",\"linecolor\":\"#506784\",\"ticks\":\"\"}},\"ternary\":{\"bgcolor\":\"rgb(17,17,17)\",\"aaxis\":{\"gridcolor\":\"#506784\",\"linecolor\":\"#506784\",\"ticks\":\"\"},\"baxis\":{\"gridcolor\":\"#506784\",\"linecolor\":\"#506784\",\"ticks\":\"\"},\"caxis\":{\"gridcolor\":\"#506784\",\"linecolor\":\"#506784\",\"ticks\":\"\"}},\"coloraxis\":{\"colorbar\":{\"outlinewidth\":0,\"ticks\":\"\"}},\"colorscale\":{\"sequential\":[[0.0,\"#0d0887\"],[0.1111111111111111,\"#46039f\"],[0.2222222222222222,\"#7201a8\"],[0.3333333333333333,\"#9c179e\"],[0.4444444444444444,\"#bd3786\"],[0.5555555555555556,\"#d8576b\"],[0.6666666666666666,\"#ed7953\"],[0.7777777777777778,\"#fb9f3a\"],[0.8888888888888888,\"#fdca26\"],[1.0,\"#f0f921\"]],\"sequentialminus\":[[0.0,\"#0d0887\"],[0.1111111111111111,\"#46039f\"],[0.2222222222222222,\"#7201a8\"],[0.3333333333333333,\"#9c179e\"],[0.4444444444444444,\"#bd3786\"],[0.5555555555555556,\"#d8576b\"],[0.6666666666666666,\"#ed7953\"],[0.7777777777777778,\"#fb9f3a\"],[0.8888888888888888,\"#fdca26\"],[1.0,\"#f0f921\"]],\"diverging\":[[0,\"#8e0152\"],[0.1,\"#c51b7d\"],[0.2,\"#de77ae\"],[0.3,\"#f1b6da\"],[0.4,\"#fde0ef\"],[0.5,\"#f7f7f7\"],[0.6,\"#e6f5d0\"],[0.7,\"#b8e186\"],[0.8,\"#7fbc41\"],[0.9,\"#4d9221\"],[1,\"#276419\"]]},\"xaxis\":{\"gridcolor\":\"#283442\",\"linecolor\":\"#506784\",\"ticks\":\"\",\"title\":{\"standoff\":15},\"zerolinecolor\":\"#283442\",\"automargin\":true,\"zerolinewidth\":2},\"yaxis\":{\"gridcolor\":\"#283442\",\"linecolor\":\"#506784\",\"ticks\":\"\",\"title\":{\"standoff\":15},\"zerolinecolor\":\"#283442\",\"automargin\":true,\"zerolinewidth\":2},\"scene\":{\"xaxis\":{\"backgroundcolor\":\"rgb(17,17,17)\",\"gridcolor\":\"#506784\",\"linecolor\":\"#506784\",\"showbackground\":true,\"ticks\":\"\",\"zerolinecolor\":\"#C8D4E3\",\"gridwidth\":2},\"yaxis\":{\"backgroundcolor\":\"rgb(17,17,17)\",\"gridcolor\":\"#506784\",\"linecolor\":\"#506784\",\"showbackground\":true,\"ticks\":\"\",\"zerolinecolor\":\"#C8D4E3\",\"gridwidth\":2},\"zaxis\":{\"backgroundcolor\":\"rgb(17,17,17)\",\"gridcolor\":\"#506784\",\"linecolor\":\"#506784\",\"showbackground\":true,\"ticks\":\"\",\"zerolinecolor\":\"#C8D4E3\",\"gridwidth\":2}},\"shapedefaults\":{\"line\":{\"color\":\"#f2f5fa\"}},\"annotationdefaults\":{\"arrowcolor\":\"#f2f5fa\",\"arrowhead\":0,\"arrowwidth\":1},\"geo\":{\"bgcolor\":\"rgb(17,17,17)\",\"landcolor\":\"rgb(17,17,17)\",\"subunitcolor\":\"#506784\",\"showland\":true,\"showlakes\":true,\"lakecolor\":\"rgb(17,17,17)\"},\"title\":{\"x\":0.05},\"updatemenudefaults\":{\"bgcolor\":\"#506784\",\"borderwidth\":0},\"sliderdefaults\":{\"bgcolor\":\"#C8D4E3\",\"borderwidth\":1,\"bordercolor\":\"rgb(17,17,17)\",\"tickwidth\":0},\"mapbox\":{\"style\":\"dark\"}}},\"xaxis\":{\"anchor\":\"y\",\"domain\":[0.0,1.0],\"title\":{\"text\":\"Countries and areas\"},\"tickangle\":-45},\"yaxis\":{\"anchor\":\"x\",\"domain\":[0.0,1.0],\"title\":{\"text\":\"Unemployment_Rate\"}},\"coloraxis\":{\"colorbar\":{\"title\":{\"text\":\"Unemployment_Rate\"}},\"colorscale\":[[0.0,\"#0d0887\"],[0.1111111111111111,\"#46039f\"],[0.2222222222222222,\"#7201a8\"],[0.3333333333333333,\"#9c179e\"],[0.4444444444444444,\"#bd3786\"],[0.5555555555555556,\"#d8576b\"],[0.6666666666666666,\"#ed7953\"],[0.7777777777777778,\"#fb9f3a\"],[0.8888888888888888,\"#fdca26\"],[1.0,\"#f0f921\"]]},\"legend\":{\"tracegroupgap\":0},\"title\":{\"text\":\"Unemployment Rates Across Countries\"}},                        {\"responsive\": true}                    ).then(function(){\n                            \nvar gd = document.getElementById('d32b2498-02c8-4124-9ae3-14a19bf9a045');\nvar x = new MutationObserver(function (mutations, observer) {{\n        var display = window.getComputedStyle(gd).display;\n        if (!display || display === 'none') {{\n            console.log([gd, 'removed!']);\n            Plotly.purge(gd);\n            observer.disconnect();\n        }}\n}});\n\n// Listen for the removal of the full notebook cells\nvar notebookContainer = gd.closest('#notebook-container');\nif (notebookContainer) {{\n    x.observe(notebookContainer, {childList: true});\n}}\n\n// Listen for the clearing of the current output cell\nvar outputEl = gd.closest('.output');\nif (outputEl) {{\n    x.observe(outputEl, {childList: true});\n}}\n\n                        })                };                });            </script>        </div>"
     },
     "metadata": {},
     "output_type": "display_data"
    }
   ],
   "source": [
    "fig = px.scatter(df, x='Countries and areas', y='Unemployment_Rate', color='Unemployment_Rate',\n",
    "                 title='Unemployment Rates Across Countries')\n",
    "fig.update_layout(xaxis_tickangle=-45)\n",
    "fig.show()"
   ],
   "metadata": {
    "collapsed": false,
    "ExecuteTime": {
     "end_time": "2024-01-30T11:22:21.729487800Z",
     "start_time": "2024-01-30T11:22:20.822366700Z"
    }
   },
   "id": "ea8e65910f25018a"
  },
  {
   "cell_type": "code",
   "execution_count": 11,
   "outputs": [
    {
     "data": {
      "application/vnd.plotly.v1+json": {
       "data": [
        {
         "alignmentgroup": "True",
         "hovertemplate": "Countries and areas=%{x}<br>Unemployment_Rate=%{y}<extra></extra>",
         "legendgroup": "",
         "marker": {
          "color": "#636efa",
          "pattern": {
           "shape": ""
          }
         },
         "name": "",
         "offsetgroup": "",
         "orientation": "v",
         "showlegend": false,
         "textposition": "auto",
         "x": [
          "Afghanistan",
          "Albania",
          "Algeria",
          "Andorra",
          "Angola",
          "Anguilla",
          "Antigua and Barbuda",
          "Argentina",
          "Armenia",
          "Australia",
          "Austria",
          "Azerbaijan",
          "The Bahamas",
          "Bahrain",
          "Bangladesh",
          "Barbados",
          "Belarus",
          "Belgium",
          "Belize",
          "Benin",
          "Bhutan",
          "Bolivia",
          "Bosnia and Herzegovina",
          "Botswana",
          "Brazil",
          "British Virgin Islands",
          "Brunei",
          "Bulgaria",
          "Burkina Faso",
          "Burundi",
          "Cape Verde",
          "Cambodia",
          "Cameroon",
          "Canada",
          "Central African Republic",
          "Chad",
          "Chile",
          "China",
          "Colombia",
          "Comoros",
          "Republic of the Congo",
          "Cook Islands",
          "Costa Rica",
          "Ivory Coast",
          "Croatia",
          "Cuba",
          "Cyprus",
          "Czech Republic",
          "North Korea",
          "Democratic Republic of the Congo",
          "Denmark",
          "Djibouti",
          "Dominica",
          "Dominican Republic",
          "Ecuador",
          "Egypt",
          "El Salvador",
          "Equatorial Guinea",
          "Eritrea",
          "Estonia",
          "Eswatini",
          "Ethiopia",
          "Fiji",
          "Finland",
          "France",
          "Gabon",
          "The Gambia",
          "Georgia",
          "Germany",
          "Ghana",
          "Greece",
          "Grenada",
          "Guatemala",
          "Guinea",
          "Guinea0Bissau",
          "Guyana",
          "Haiti",
          "Vatican City",
          "Honduras",
          "Hungary",
          "Iceland",
          "India",
          "Indonesia",
          "Iran",
          "Iraq",
          "Republic of Ireland",
          "Israel",
          "Italy",
          "Jamaica",
          "Japan",
          "Jordan",
          "Kazakhstan",
          "Kenya",
          "Kiribati",
          "Kuwait",
          "Kyrgyzstan",
          "Laos",
          "Latvia",
          "Lebanon",
          "Lesotho",
          "Liberia",
          "Libya",
          "Liechtenstein",
          "Lithuania",
          "Luxembourg",
          "Madagascar",
          "Malawi",
          "Malaysia",
          "Maldives",
          "Mali",
          "Malta",
          "Marshall Islands",
          "Mauritania",
          "Mauritius",
          "Mexico",
          "Federated States of Micronesia",
          "Monaco",
          "Mongolia",
          "Montenegro",
          "Montserrat",
          "Morocco",
          "Mozambique",
          "Myanmar",
          "Namibia",
          "Nauru",
          "Nepal",
          "Netherlands",
          "New Zealand",
          "Nicaragua",
          "Niger",
          "Nigeria",
          "Niue",
          "North Macedonia",
          "Norway",
          "Oman",
          "Pakistan",
          "Palau",
          "Panama",
          "Papua New Guinea",
          "Paraguay",
          "Peru",
          "Philippines",
          "Poland",
          "Portugal",
          "Qatar",
          "South Korea",
          "Moldova",
          "Romania",
          "Russia",
          "Rwanda",
          "Saint Kitts and Nevis",
          "Saint Lucia",
          "Saint Vincent and the Grenadines",
          "Samoa",
          "San Marino",
          "Sï¿½ï¿½ï¿½ï¿½ï¿½ï¿½ï¿½ï¿",
          "Saudi Arabia",
          "Senegal",
          "Serbia",
          "Seychelles",
          "Sierra Leone",
          "Singapore",
          "Slovakia",
          "Slovenia",
          "Solomon Islands",
          "Somalia",
          "South Africa",
          "South Sudan",
          "Spain",
          "Sri Lanka",
          "Palestinian National Authority",
          "Sudan",
          "Suriname",
          "Sweden",
          "Switzerland",
          "Syria",
          "Tajikistan",
          "Thailand",
          "East Timor",
          "Togo",
          "Tokelau",
          "Tonga",
          "Trinidad and Tobago",
          "Tunisia",
          "Turkey",
          "Turkmenistan",
          "Turks and Caicos Islands",
          "Tuvalu",
          "Uganda",
          "Ukraine",
          "United Arab Emirates",
          "United Kingdom",
          "Tanzania",
          "United States",
          "Uruguay",
          "Uzbekistan",
          "Vanuatu",
          "Venezuela",
          "Vietnam",
          "Yemen",
          "Zambia",
          "Zimbabwe"
         ],
         "xaxis": "x",
         "y": [
          11.12,
          12.33,
          11.7,
          0.0,
          6.89,
          0.0,
          0.0,
          9.79,
          16.99,
          5.27,
          4.67,
          5.51,
          10.36,
          0.71,
          4.19,
          10.33,
          4.59,
          5.59,
          6.41,
          2.23,
          2.34,
          3.5,
          18.42,
          18.19,
          12.08,
          0.0,
          9.12,
          4.34,
          6.26,
          1.43,
          12.25,
          0.68,
          3.38,
          5.56,
          3.68,
          1.89,
          7.09,
          4.32,
          9.71,
          4.34,
          9.47,
          0.0,
          11.85,
          3.32,
          6.93,
          1.64,
          7.27,
          1.93,
          2.74,
          4.24,
          4.91,
          10.3,
          0.0,
          5.84,
          3.97,
          10.76,
          4.11,
          6.43,
          5.14,
          5.11,
          0.0,
          2.08,
          4.1,
          6.59,
          8.43,
          20.0,
          9.06,
          14.4,
          3.04,
          4.33,
          17.24,
          0.0,
          2.46,
          4.3,
          2.47,
          11.85,
          13.78,
          0.0,
          5.39,
          3.4,
          2.84,
          5.36,
          4.69,
          11.38,
          12.82,
          4.93,
          3.86,
          9.89,
          8.0,
          2.29,
          14.72,
          4.59,
          2.64,
          0.0,
          2.18,
          6.33,
          0.63,
          6.52,
          6.23,
          23.41,
          2.81,
          18.56,
          0.0,
          6.35,
          5.36,
          1.76,
          5.65,
          3.32,
          6.14,
          7.22,
          3.47,
          0.0,
          9.55,
          6.67,
          3.42,
          0.0,
          0.0,
          6.01,
          14.88,
          0.0,
          9.02,
          3.24,
          1.58,
          20.27,
          0.0,
          1.41,
          3.2,
          4.07,
          6.84,
          0.47,
          8.1,
          0.0,
          0.0,
          3.35,
          2.67,
          4.45,
          0.0,
          3.9,
          2.46,
          4.81,
          3.31,
          2.15,
          3.47,
          6.33,
          0.09,
          4.15,
          5.47,
          3.98,
          4.59,
          1.03,
          0.0,
          20.71,
          18.88,
          8.36,
          0.0,
          13.37,
          5.93,
          6.6,
          12.69,
          0.0,
          4.43,
          4.11,
          5.56,
          4.2,
          0.58,
          11.35,
          28.18,
          12.24,
          13.96,
          4.2,
          0.0,
          16.53,
          7.33,
          6.48,
          4.58,
          8.37,
          11.02,
          0.75,
          4.55,
          2.04,
          0.0,
          1.12,
          2.69,
          16.02,
          13.49,
          3.91,
          0.0,
          0.0,
          1.84,
          8.88,
          2.35,
          3.85,
          1.98,
          14.7,
          8.73,
          5.92,
          4.39,
          8.8,
          2.01,
          12.91,
          11.43,
          4.95
         ],
         "yaxis": "y",
         "type": "bar"
        }
       ],
       "layout": {
        "template": {
         "data": {
          "histogram2dcontour": [
           {
            "type": "histogram2dcontour",
            "colorbar": {
             "outlinewidth": 0,
             "ticks": ""
            },
            "colorscale": [
             [
              0.0,
              "#0d0887"
             ],
             [
              0.1111111111111111,
              "#46039f"
             ],
             [
              0.2222222222222222,
              "#7201a8"
             ],
             [
              0.3333333333333333,
              "#9c179e"
             ],
             [
              0.4444444444444444,
              "#bd3786"
             ],
             [
              0.5555555555555556,
              "#d8576b"
             ],
             [
              0.6666666666666666,
              "#ed7953"
             ],
             [
              0.7777777777777778,
              "#fb9f3a"
             ],
             [
              0.8888888888888888,
              "#fdca26"
             ],
             [
              1.0,
              "#f0f921"
             ]
            ]
           }
          ],
          "choropleth": [
           {
            "type": "choropleth",
            "colorbar": {
             "outlinewidth": 0,
             "ticks": ""
            }
           }
          ],
          "histogram2d": [
           {
            "type": "histogram2d",
            "colorbar": {
             "outlinewidth": 0,
             "ticks": ""
            },
            "colorscale": [
             [
              0.0,
              "#0d0887"
             ],
             [
              0.1111111111111111,
              "#46039f"
             ],
             [
              0.2222222222222222,
              "#7201a8"
             ],
             [
              0.3333333333333333,
              "#9c179e"
             ],
             [
              0.4444444444444444,
              "#bd3786"
             ],
             [
              0.5555555555555556,
              "#d8576b"
             ],
             [
              0.6666666666666666,
              "#ed7953"
             ],
             [
              0.7777777777777778,
              "#fb9f3a"
             ],
             [
              0.8888888888888888,
              "#fdca26"
             ],
             [
              1.0,
              "#f0f921"
             ]
            ]
           }
          ],
          "heatmap": [
           {
            "type": "heatmap",
            "colorbar": {
             "outlinewidth": 0,
             "ticks": ""
            },
            "colorscale": [
             [
              0.0,
              "#0d0887"
             ],
             [
              0.1111111111111111,
              "#46039f"
             ],
             [
              0.2222222222222222,
              "#7201a8"
             ],
             [
              0.3333333333333333,
              "#9c179e"
             ],
             [
              0.4444444444444444,
              "#bd3786"
             ],
             [
              0.5555555555555556,
              "#d8576b"
             ],
             [
              0.6666666666666666,
              "#ed7953"
             ],
             [
              0.7777777777777778,
              "#fb9f3a"
             ],
             [
              0.8888888888888888,
              "#fdca26"
             ],
             [
              1.0,
              "#f0f921"
             ]
            ]
           }
          ],
          "heatmapgl": [
           {
            "type": "heatmapgl",
            "colorbar": {
             "outlinewidth": 0,
             "ticks": ""
            },
            "colorscale": [
             [
              0.0,
              "#0d0887"
             ],
             [
              0.1111111111111111,
              "#46039f"
             ],
             [
              0.2222222222222222,
              "#7201a8"
             ],
             [
              0.3333333333333333,
              "#9c179e"
             ],
             [
              0.4444444444444444,
              "#bd3786"
             ],
             [
              0.5555555555555556,
              "#d8576b"
             ],
             [
              0.6666666666666666,
              "#ed7953"
             ],
             [
              0.7777777777777778,
              "#fb9f3a"
             ],
             [
              0.8888888888888888,
              "#fdca26"
             ],
             [
              1.0,
              "#f0f921"
             ]
            ]
           }
          ],
          "contourcarpet": [
           {
            "type": "contourcarpet",
            "colorbar": {
             "outlinewidth": 0,
             "ticks": ""
            }
           }
          ],
          "contour": [
           {
            "type": "contour",
            "colorbar": {
             "outlinewidth": 0,
             "ticks": ""
            },
            "colorscale": [
             [
              0.0,
              "#0d0887"
             ],
             [
              0.1111111111111111,
              "#46039f"
             ],
             [
              0.2222222222222222,
              "#7201a8"
             ],
             [
              0.3333333333333333,
              "#9c179e"
             ],
             [
              0.4444444444444444,
              "#bd3786"
             ],
             [
              0.5555555555555556,
              "#d8576b"
             ],
             [
              0.6666666666666666,
              "#ed7953"
             ],
             [
              0.7777777777777778,
              "#fb9f3a"
             ],
             [
              0.8888888888888888,
              "#fdca26"
             ],
             [
              1.0,
              "#f0f921"
             ]
            ]
           }
          ],
          "surface": [
           {
            "type": "surface",
            "colorbar": {
             "outlinewidth": 0,
             "ticks": ""
            },
            "colorscale": [
             [
              0.0,
              "#0d0887"
             ],
             [
              0.1111111111111111,
              "#46039f"
             ],
             [
              0.2222222222222222,
              "#7201a8"
             ],
             [
              0.3333333333333333,
              "#9c179e"
             ],
             [
              0.4444444444444444,
              "#bd3786"
             ],
             [
              0.5555555555555556,
              "#d8576b"
             ],
             [
              0.6666666666666666,
              "#ed7953"
             ],
             [
              0.7777777777777778,
              "#fb9f3a"
             ],
             [
              0.8888888888888888,
              "#fdca26"
             ],
             [
              1.0,
              "#f0f921"
             ]
            ]
           }
          ],
          "mesh3d": [
           {
            "type": "mesh3d",
            "colorbar": {
             "outlinewidth": 0,
             "ticks": ""
            }
           }
          ],
          "scatter": [
           {
            "marker": {
             "line": {
              "color": "#283442"
             }
            },
            "type": "scatter"
           }
          ],
          "parcoords": [
           {
            "type": "parcoords",
            "line": {
             "colorbar": {
              "outlinewidth": 0,
              "ticks": ""
             }
            }
           }
          ],
          "scatterpolargl": [
           {
            "type": "scatterpolargl",
            "marker": {
             "colorbar": {
              "outlinewidth": 0,
              "ticks": ""
             }
            }
           }
          ],
          "bar": [
           {
            "error_x": {
             "color": "#f2f5fa"
            },
            "error_y": {
             "color": "#f2f5fa"
            },
            "marker": {
             "line": {
              "color": "rgb(17,17,17)",
              "width": 0.5
             },
             "pattern": {
              "fillmode": "overlay",
              "size": 10,
              "solidity": 0.2
             }
            },
            "type": "bar"
           }
          ],
          "scattergeo": [
           {
            "type": "scattergeo",
            "marker": {
             "colorbar": {
              "outlinewidth": 0,
              "ticks": ""
             }
            }
           }
          ],
          "scatterpolar": [
           {
            "type": "scatterpolar",
            "marker": {
             "colorbar": {
              "outlinewidth": 0,
              "ticks": ""
             }
            }
           }
          ],
          "histogram": [
           {
            "marker": {
             "pattern": {
              "fillmode": "overlay",
              "size": 10,
              "solidity": 0.2
             }
            },
            "type": "histogram"
           }
          ],
          "scattergl": [
           {
            "marker": {
             "line": {
              "color": "#283442"
             }
            },
            "type": "scattergl"
           }
          ],
          "scatter3d": [
           {
            "type": "scatter3d",
            "line": {
             "colorbar": {
              "outlinewidth": 0,
              "ticks": ""
             }
            },
            "marker": {
             "colorbar": {
              "outlinewidth": 0,
              "ticks": ""
             }
            }
           }
          ],
          "scattermapbox": [
           {
            "type": "scattermapbox",
            "marker": {
             "colorbar": {
              "outlinewidth": 0,
              "ticks": ""
             }
            }
           }
          ],
          "scatterternary": [
           {
            "type": "scatterternary",
            "marker": {
             "colorbar": {
              "outlinewidth": 0,
              "ticks": ""
             }
            }
           }
          ],
          "scattercarpet": [
           {
            "type": "scattercarpet",
            "marker": {
             "colorbar": {
              "outlinewidth": 0,
              "ticks": ""
             }
            }
           }
          ],
          "carpet": [
           {
            "aaxis": {
             "endlinecolor": "#A2B1C6",
             "gridcolor": "#506784",
             "linecolor": "#506784",
             "minorgridcolor": "#506784",
             "startlinecolor": "#A2B1C6"
            },
            "baxis": {
             "endlinecolor": "#A2B1C6",
             "gridcolor": "#506784",
             "linecolor": "#506784",
             "minorgridcolor": "#506784",
             "startlinecolor": "#A2B1C6"
            },
            "type": "carpet"
           }
          ],
          "table": [
           {
            "cells": {
             "fill": {
              "color": "#506784"
             },
             "line": {
              "color": "rgb(17,17,17)"
             }
            },
            "header": {
             "fill": {
              "color": "#2a3f5f"
             },
             "line": {
              "color": "rgb(17,17,17)"
             }
            },
            "type": "table"
           }
          ],
          "barpolar": [
           {
            "marker": {
             "line": {
              "color": "rgb(17,17,17)",
              "width": 0.5
             },
             "pattern": {
              "fillmode": "overlay",
              "size": 10,
              "solidity": 0.2
             }
            },
            "type": "barpolar"
           }
          ],
          "pie": [
           {
            "automargin": true,
            "type": "pie"
           }
          ]
         },
         "layout": {
          "autotypenumbers": "strict",
          "colorway": [
           "#636efa",
           "#EF553B",
           "#00cc96",
           "#ab63fa",
           "#FFA15A",
           "#19d3f3",
           "#FF6692",
           "#B6E880",
           "#FF97FF",
           "#FECB52"
          ],
          "font": {
           "color": "#f2f5fa"
          },
          "hovermode": "closest",
          "hoverlabel": {
           "align": "left"
          },
          "paper_bgcolor": "rgb(17,17,17)",
          "plot_bgcolor": "rgb(17,17,17)",
          "polar": {
           "bgcolor": "rgb(17,17,17)",
           "angularaxis": {
            "gridcolor": "#506784",
            "linecolor": "#506784",
            "ticks": ""
           },
           "radialaxis": {
            "gridcolor": "#506784",
            "linecolor": "#506784",
            "ticks": ""
           }
          },
          "ternary": {
           "bgcolor": "rgb(17,17,17)",
           "aaxis": {
            "gridcolor": "#506784",
            "linecolor": "#506784",
            "ticks": ""
           },
           "baxis": {
            "gridcolor": "#506784",
            "linecolor": "#506784",
            "ticks": ""
           },
           "caxis": {
            "gridcolor": "#506784",
            "linecolor": "#506784",
            "ticks": ""
           }
          },
          "coloraxis": {
           "colorbar": {
            "outlinewidth": 0,
            "ticks": ""
           }
          },
          "colorscale": {
           "sequential": [
            [
             0.0,
             "#0d0887"
            ],
            [
             0.1111111111111111,
             "#46039f"
            ],
            [
             0.2222222222222222,
             "#7201a8"
            ],
            [
             0.3333333333333333,
             "#9c179e"
            ],
            [
             0.4444444444444444,
             "#bd3786"
            ],
            [
             0.5555555555555556,
             "#d8576b"
            ],
            [
             0.6666666666666666,
             "#ed7953"
            ],
            [
             0.7777777777777778,
             "#fb9f3a"
            ],
            [
             0.8888888888888888,
             "#fdca26"
            ],
            [
             1.0,
             "#f0f921"
            ]
           ],
           "sequentialminus": [
            [
             0.0,
             "#0d0887"
            ],
            [
             0.1111111111111111,
             "#46039f"
            ],
            [
             0.2222222222222222,
             "#7201a8"
            ],
            [
             0.3333333333333333,
             "#9c179e"
            ],
            [
             0.4444444444444444,
             "#bd3786"
            ],
            [
             0.5555555555555556,
             "#d8576b"
            ],
            [
             0.6666666666666666,
             "#ed7953"
            ],
            [
             0.7777777777777778,
             "#fb9f3a"
            ],
            [
             0.8888888888888888,
             "#fdca26"
            ],
            [
             1.0,
             "#f0f921"
            ]
           ],
           "diverging": [
            [
             0,
             "#8e0152"
            ],
            [
             0.1,
             "#c51b7d"
            ],
            [
             0.2,
             "#de77ae"
            ],
            [
             0.3,
             "#f1b6da"
            ],
            [
             0.4,
             "#fde0ef"
            ],
            [
             0.5,
             "#f7f7f7"
            ],
            [
             0.6,
             "#e6f5d0"
            ],
            [
             0.7,
             "#b8e186"
            ],
            [
             0.8,
             "#7fbc41"
            ],
            [
             0.9,
             "#4d9221"
            ],
            [
             1,
             "#276419"
            ]
           ]
          },
          "xaxis": {
           "gridcolor": "#283442",
           "linecolor": "#506784",
           "ticks": "",
           "title": {
            "standoff": 15
           },
           "zerolinecolor": "#283442",
           "automargin": true,
           "zerolinewidth": 2
          },
          "yaxis": {
           "gridcolor": "#283442",
           "linecolor": "#506784",
           "ticks": "",
           "title": {
            "standoff": 15
           },
           "zerolinecolor": "#283442",
           "automargin": true,
           "zerolinewidth": 2
          },
          "scene": {
           "xaxis": {
            "backgroundcolor": "rgb(17,17,17)",
            "gridcolor": "#506784",
            "linecolor": "#506784",
            "showbackground": true,
            "ticks": "",
            "zerolinecolor": "#C8D4E3",
            "gridwidth": 2
           },
           "yaxis": {
            "backgroundcolor": "rgb(17,17,17)",
            "gridcolor": "#506784",
            "linecolor": "#506784",
            "showbackground": true,
            "ticks": "",
            "zerolinecolor": "#C8D4E3",
            "gridwidth": 2
           },
           "zaxis": {
            "backgroundcolor": "rgb(17,17,17)",
            "gridcolor": "#506784",
            "linecolor": "#506784",
            "showbackground": true,
            "ticks": "",
            "zerolinecolor": "#C8D4E3",
            "gridwidth": 2
           }
          },
          "shapedefaults": {
           "line": {
            "color": "#f2f5fa"
           }
          },
          "annotationdefaults": {
           "arrowcolor": "#f2f5fa",
           "arrowhead": 0,
           "arrowwidth": 1
          },
          "geo": {
           "bgcolor": "rgb(17,17,17)",
           "landcolor": "rgb(17,17,17)",
           "subunitcolor": "#506784",
           "showland": true,
           "showlakes": true,
           "lakecolor": "rgb(17,17,17)"
          },
          "title": {
           "x": 0.05
          },
          "updatemenudefaults": {
           "bgcolor": "#506784",
           "borderwidth": 0
          },
          "sliderdefaults": {
           "bgcolor": "#C8D4E3",
           "borderwidth": 1,
           "bordercolor": "rgb(17,17,17)",
           "tickwidth": 0
          },
          "mapbox": {
           "style": "dark"
          }
         }
        },
        "xaxis": {
         "anchor": "y",
         "domain": [
          0.0,
          1.0
         ],
         "title": {
          "text": "Countries and areas"
         },
         "tickangle": -45
        },
        "yaxis": {
         "anchor": "x",
         "domain": [
          0.0,
          1.0
         ],
         "title": {
          "text": "Unemployment_Rate"
         }
        },
        "legend": {
         "tracegroupgap": 0
        },
        "title": {
         "text": "Unemployment Rates Across Countries"
        },
        "barmode": "relative"
       },
       "config": {
        "plotlyServerURL": "https://plot.ly"
       }
      },
      "text/html": "<div>                            <div id=\"6295ab0f-64ab-449e-8df9-751d69e2a253\" class=\"plotly-graph-div\" style=\"height:525px; width:100%;\"></div>            <script type=\"text/javascript\">                require([\"plotly\"], function(Plotly) {                    window.PLOTLYENV=window.PLOTLYENV || {};                                    if (document.getElementById(\"6295ab0f-64ab-449e-8df9-751d69e2a253\")) {                    Plotly.newPlot(                        \"6295ab0f-64ab-449e-8df9-751d69e2a253\",                        [{\"alignmentgroup\":\"True\",\"hovertemplate\":\"Countries and areas=%{x}\\u003cbr\\u003eUnemployment_Rate=%{y}\\u003cextra\\u003e\\u003c\\u002fextra\\u003e\",\"legendgroup\":\"\",\"marker\":{\"color\":\"#636efa\",\"pattern\":{\"shape\":\"\"}},\"name\":\"\",\"offsetgroup\":\"\",\"orientation\":\"v\",\"showlegend\":false,\"textposition\":\"auto\",\"x\":[\"Afghanistan\",\"Albania\",\"Algeria\",\"Andorra\",\"Angola\",\"Anguilla\",\"Antigua and Barbuda\",\"Argentina\",\"Armenia\",\"Australia\",\"Austria\",\"Azerbaijan\",\"The Bahamas\",\"Bahrain\",\"Bangladesh\",\"Barbados\",\"Belarus\",\"Belgium\",\"Belize\",\"Benin\",\"Bhutan\",\"Bolivia\",\"Bosnia and Herzegovina\",\"Botswana\",\"Brazil\",\"British Virgin Islands\",\"Brunei\",\"Bulgaria\",\"Burkina Faso\",\"Burundi\",\"Cape Verde\",\"Cambodia\",\"Cameroon\",\"Canada\",\"Central African Republic\",\"Chad\",\"Chile\",\"China\",\"Colombia\",\"Comoros\",\"Republic of the Congo\",\"Cook Islands\",\"Costa Rica\",\"Ivory Coast\",\"Croatia\",\"Cuba\",\"Cyprus\",\"Czech Republic\",\"North Korea\",\"Democratic Republic of the Congo\",\"Denmark\",\"Djibouti\",\"Dominica\",\"Dominican Republic\",\"Ecuador\",\"Egypt\",\"El Salvador\",\"Equatorial Guinea\",\"Eritrea\",\"Estonia\",\"Eswatini\",\"Ethiopia\",\"Fiji\",\"Finland\",\"France\",\"Gabon\",\"The Gambia\",\"Georgia\",\"Germany\",\"Ghana\",\"Greece\",\"Grenada\",\"Guatemala\",\"Guinea\",\"Guinea0Bissau\",\"Guyana\",\"Haiti\",\"Vatican City\",\"Honduras\",\"Hungary\",\"Iceland\",\"India\",\"Indonesia\",\"Iran\",\"Iraq\",\"Republic of Ireland\",\"Israel\",\"Italy\",\"Jamaica\",\"Japan\",\"Jordan\",\"Kazakhstan\",\"Kenya\",\"Kiribati\",\"Kuwait\",\"Kyrgyzstan\",\"Laos\",\"Latvia\",\"Lebanon\",\"Lesotho\",\"Liberia\",\"Libya\",\"Liechtenstein\",\"Lithuania\",\"Luxembourg\",\"Madagascar\",\"Malawi\",\"Malaysia\",\"Maldives\",\"Mali\",\"Malta\",\"Marshall Islands\",\"Mauritania\",\"Mauritius\",\"Mexico\",\"Federated States of Micronesia\",\"Monaco\",\"Mongolia\",\"Montenegro\",\"Montserrat\",\"Morocco\",\"Mozambique\",\"Myanmar\",\"Namibia\",\"Nauru\",\"Nepal\",\"Netherlands\",\"New Zealand\",\"Nicaragua\",\"Niger\",\"Nigeria\",\"Niue\",\"North Macedonia\",\"Norway\",\"Oman\",\"Pakistan\",\"Palau\",\"Panama\",\"Papua New Guinea\",\"Paraguay\",\"Peru\",\"Philippines\",\"Poland\",\"Portugal\",\"Qatar\",\"South Korea\",\"Moldova\",\"Romania\",\"Russia\",\"Rwanda\",\"Saint Kitts and Nevis\",\"Saint Lucia\",\"Saint Vincent and the Grenadines\",\"Samoa\",\"San Marino\",\"S\\u00ef\\u00bf\\u00bd\\u00ef\\u00bf\\u00bd\\u00ef\\u00bf\\u00bd\\u00ef\\u00bf\\u00bd\\u00ef\\u00bf\\u00bd\\u00ef\\u00bf\\u00bd\\u00ef\\u00bf\\u00bd\\u00ef\\u00bf\",\"Saudi Arabia\",\"Senegal\",\"Serbia\",\"Seychelles\",\"Sierra Leone\",\"Singapore\",\"Slovakia\",\"Slovenia\",\"Solomon Islands\",\"Somalia\",\"South Africa\",\"South Sudan\",\"Spain\",\"Sri Lanka\",\"Palestinian National Authority\",\"Sudan\",\"Suriname\",\"Sweden\",\"Switzerland\",\"Syria\",\"Tajikistan\",\"Thailand\",\"East Timor\",\"Togo\",\"Tokelau\",\"Tonga\",\"Trinidad and Tobago\",\"Tunisia\",\"Turkey\",\"Turkmenistan\",\"Turks and Caicos Islands\",\"Tuvalu\",\"Uganda\",\"Ukraine\",\"United Arab Emirates\",\"United Kingdom\",\"Tanzania\",\"United States\",\"Uruguay\",\"Uzbekistan\",\"Vanuatu\",\"Venezuela\",\"Vietnam\",\"Yemen\",\"Zambia\",\"Zimbabwe\"],\"xaxis\":\"x\",\"y\":[11.12,12.33,11.7,0.0,6.89,0.0,0.0,9.79,16.99,5.27,4.67,5.51,10.36,0.71,4.19,10.33,4.59,5.59,6.41,2.23,2.34,3.5,18.42,18.19,12.08,0.0,9.12,4.34,6.26,1.43,12.25,0.68,3.38,5.56,3.68,1.89,7.09,4.32,9.71,4.34,9.47,0.0,11.85,3.32,6.93,1.64,7.27,1.93,2.74,4.24,4.91,10.3,0.0,5.84,3.97,10.76,4.11,6.43,5.14,5.11,0.0,2.08,4.1,6.59,8.43,20.0,9.06,14.4,3.04,4.33,17.24,0.0,2.46,4.3,2.47,11.85,13.78,0.0,5.39,3.4,2.84,5.36,4.69,11.38,12.82,4.93,3.86,9.89,8.0,2.29,14.72,4.59,2.64,0.0,2.18,6.33,0.63,6.52,6.23,23.41,2.81,18.56,0.0,6.35,5.36,1.76,5.65,3.32,6.14,7.22,3.47,0.0,9.55,6.67,3.42,0.0,0.0,6.01,14.88,0.0,9.02,3.24,1.58,20.27,0.0,1.41,3.2,4.07,6.84,0.47,8.1,0.0,0.0,3.35,2.67,4.45,0.0,3.9,2.46,4.81,3.31,2.15,3.47,6.33,0.09,4.15,5.47,3.98,4.59,1.03,0.0,20.71,18.88,8.36,0.0,13.37,5.93,6.6,12.69,0.0,4.43,4.11,5.56,4.2,0.58,11.35,28.18,12.24,13.96,4.2,0.0,16.53,7.33,6.48,4.58,8.37,11.02,0.75,4.55,2.04,0.0,1.12,2.69,16.02,13.49,3.91,0.0,0.0,1.84,8.88,2.35,3.85,1.98,14.7,8.73,5.92,4.39,8.8,2.01,12.91,11.43,4.95],\"yaxis\":\"y\",\"type\":\"bar\"}],                        {\"template\":{\"data\":{\"histogram2dcontour\":[{\"type\":\"histogram2dcontour\",\"colorbar\":{\"outlinewidth\":0,\"ticks\":\"\"},\"colorscale\":[[0.0,\"#0d0887\"],[0.1111111111111111,\"#46039f\"],[0.2222222222222222,\"#7201a8\"],[0.3333333333333333,\"#9c179e\"],[0.4444444444444444,\"#bd3786\"],[0.5555555555555556,\"#d8576b\"],[0.6666666666666666,\"#ed7953\"],[0.7777777777777778,\"#fb9f3a\"],[0.8888888888888888,\"#fdca26\"],[1.0,\"#f0f921\"]]}],\"choropleth\":[{\"type\":\"choropleth\",\"colorbar\":{\"outlinewidth\":0,\"ticks\":\"\"}}],\"histogram2d\":[{\"type\":\"histogram2d\",\"colorbar\":{\"outlinewidth\":0,\"ticks\":\"\"},\"colorscale\":[[0.0,\"#0d0887\"],[0.1111111111111111,\"#46039f\"],[0.2222222222222222,\"#7201a8\"],[0.3333333333333333,\"#9c179e\"],[0.4444444444444444,\"#bd3786\"],[0.5555555555555556,\"#d8576b\"],[0.6666666666666666,\"#ed7953\"],[0.7777777777777778,\"#fb9f3a\"],[0.8888888888888888,\"#fdca26\"],[1.0,\"#f0f921\"]]}],\"heatmap\":[{\"type\":\"heatmap\",\"colorbar\":{\"outlinewidth\":0,\"ticks\":\"\"},\"colorscale\":[[0.0,\"#0d0887\"],[0.1111111111111111,\"#46039f\"],[0.2222222222222222,\"#7201a8\"],[0.3333333333333333,\"#9c179e\"],[0.4444444444444444,\"#bd3786\"],[0.5555555555555556,\"#d8576b\"],[0.6666666666666666,\"#ed7953\"],[0.7777777777777778,\"#fb9f3a\"],[0.8888888888888888,\"#fdca26\"],[1.0,\"#f0f921\"]]}],\"heatmapgl\":[{\"type\":\"heatmapgl\",\"colorbar\":{\"outlinewidth\":0,\"ticks\":\"\"},\"colorscale\":[[0.0,\"#0d0887\"],[0.1111111111111111,\"#46039f\"],[0.2222222222222222,\"#7201a8\"],[0.3333333333333333,\"#9c179e\"],[0.4444444444444444,\"#bd3786\"],[0.5555555555555556,\"#d8576b\"],[0.6666666666666666,\"#ed7953\"],[0.7777777777777778,\"#fb9f3a\"],[0.8888888888888888,\"#fdca26\"],[1.0,\"#f0f921\"]]}],\"contourcarpet\":[{\"type\":\"contourcarpet\",\"colorbar\":{\"outlinewidth\":0,\"ticks\":\"\"}}],\"contour\":[{\"type\":\"contour\",\"colorbar\":{\"outlinewidth\":0,\"ticks\":\"\"},\"colorscale\":[[0.0,\"#0d0887\"],[0.1111111111111111,\"#46039f\"],[0.2222222222222222,\"#7201a8\"],[0.3333333333333333,\"#9c179e\"],[0.4444444444444444,\"#bd3786\"],[0.5555555555555556,\"#d8576b\"],[0.6666666666666666,\"#ed7953\"],[0.7777777777777778,\"#fb9f3a\"],[0.8888888888888888,\"#fdca26\"],[1.0,\"#f0f921\"]]}],\"surface\":[{\"type\":\"surface\",\"colorbar\":{\"outlinewidth\":0,\"ticks\":\"\"},\"colorscale\":[[0.0,\"#0d0887\"],[0.1111111111111111,\"#46039f\"],[0.2222222222222222,\"#7201a8\"],[0.3333333333333333,\"#9c179e\"],[0.4444444444444444,\"#bd3786\"],[0.5555555555555556,\"#d8576b\"],[0.6666666666666666,\"#ed7953\"],[0.7777777777777778,\"#fb9f3a\"],[0.8888888888888888,\"#fdca26\"],[1.0,\"#f0f921\"]]}],\"mesh3d\":[{\"type\":\"mesh3d\",\"colorbar\":{\"outlinewidth\":0,\"ticks\":\"\"}}],\"scatter\":[{\"marker\":{\"line\":{\"color\":\"#283442\"}},\"type\":\"scatter\"}],\"parcoords\":[{\"type\":\"parcoords\",\"line\":{\"colorbar\":{\"outlinewidth\":0,\"ticks\":\"\"}}}],\"scatterpolargl\":[{\"type\":\"scatterpolargl\",\"marker\":{\"colorbar\":{\"outlinewidth\":0,\"ticks\":\"\"}}}],\"bar\":[{\"error_x\":{\"color\":\"#f2f5fa\"},\"error_y\":{\"color\":\"#f2f5fa\"},\"marker\":{\"line\":{\"color\":\"rgb(17,17,17)\",\"width\":0.5},\"pattern\":{\"fillmode\":\"overlay\",\"size\":10,\"solidity\":0.2}},\"type\":\"bar\"}],\"scattergeo\":[{\"type\":\"scattergeo\",\"marker\":{\"colorbar\":{\"outlinewidth\":0,\"ticks\":\"\"}}}],\"scatterpolar\":[{\"type\":\"scatterpolar\",\"marker\":{\"colorbar\":{\"outlinewidth\":0,\"ticks\":\"\"}}}],\"histogram\":[{\"marker\":{\"pattern\":{\"fillmode\":\"overlay\",\"size\":10,\"solidity\":0.2}},\"type\":\"histogram\"}],\"scattergl\":[{\"marker\":{\"line\":{\"color\":\"#283442\"}},\"type\":\"scattergl\"}],\"scatter3d\":[{\"type\":\"scatter3d\",\"line\":{\"colorbar\":{\"outlinewidth\":0,\"ticks\":\"\"}},\"marker\":{\"colorbar\":{\"outlinewidth\":0,\"ticks\":\"\"}}}],\"scattermapbox\":[{\"type\":\"scattermapbox\",\"marker\":{\"colorbar\":{\"outlinewidth\":0,\"ticks\":\"\"}}}],\"scatterternary\":[{\"type\":\"scatterternary\",\"marker\":{\"colorbar\":{\"outlinewidth\":0,\"ticks\":\"\"}}}],\"scattercarpet\":[{\"type\":\"scattercarpet\",\"marker\":{\"colorbar\":{\"outlinewidth\":0,\"ticks\":\"\"}}}],\"carpet\":[{\"aaxis\":{\"endlinecolor\":\"#A2B1C6\",\"gridcolor\":\"#506784\",\"linecolor\":\"#506784\",\"minorgridcolor\":\"#506784\",\"startlinecolor\":\"#A2B1C6\"},\"baxis\":{\"endlinecolor\":\"#A2B1C6\",\"gridcolor\":\"#506784\",\"linecolor\":\"#506784\",\"minorgridcolor\":\"#506784\",\"startlinecolor\":\"#A2B1C6\"},\"type\":\"carpet\"}],\"table\":[{\"cells\":{\"fill\":{\"color\":\"#506784\"},\"line\":{\"color\":\"rgb(17,17,17)\"}},\"header\":{\"fill\":{\"color\":\"#2a3f5f\"},\"line\":{\"color\":\"rgb(17,17,17)\"}},\"type\":\"table\"}],\"barpolar\":[{\"marker\":{\"line\":{\"color\":\"rgb(17,17,17)\",\"width\":0.5},\"pattern\":{\"fillmode\":\"overlay\",\"size\":10,\"solidity\":0.2}},\"type\":\"barpolar\"}],\"pie\":[{\"automargin\":true,\"type\":\"pie\"}]},\"layout\":{\"autotypenumbers\":\"strict\",\"colorway\":[\"#636efa\",\"#EF553B\",\"#00cc96\",\"#ab63fa\",\"#FFA15A\",\"#19d3f3\",\"#FF6692\",\"#B6E880\",\"#FF97FF\",\"#FECB52\"],\"font\":{\"color\":\"#f2f5fa\"},\"hovermode\":\"closest\",\"hoverlabel\":{\"align\":\"left\"},\"paper_bgcolor\":\"rgb(17,17,17)\",\"plot_bgcolor\":\"rgb(17,17,17)\",\"polar\":{\"bgcolor\":\"rgb(17,17,17)\",\"angularaxis\":{\"gridcolor\":\"#506784\",\"linecolor\":\"#506784\",\"ticks\":\"\"},\"radialaxis\":{\"gridcolor\":\"#506784\",\"linecolor\":\"#506784\",\"ticks\":\"\"}},\"ternary\":{\"bgcolor\":\"rgb(17,17,17)\",\"aaxis\":{\"gridcolor\":\"#506784\",\"linecolor\":\"#506784\",\"ticks\":\"\"},\"baxis\":{\"gridcolor\":\"#506784\",\"linecolor\":\"#506784\",\"ticks\":\"\"},\"caxis\":{\"gridcolor\":\"#506784\",\"linecolor\":\"#506784\",\"ticks\":\"\"}},\"coloraxis\":{\"colorbar\":{\"outlinewidth\":0,\"ticks\":\"\"}},\"colorscale\":{\"sequential\":[[0.0,\"#0d0887\"],[0.1111111111111111,\"#46039f\"],[0.2222222222222222,\"#7201a8\"],[0.3333333333333333,\"#9c179e\"],[0.4444444444444444,\"#bd3786\"],[0.5555555555555556,\"#d8576b\"],[0.6666666666666666,\"#ed7953\"],[0.7777777777777778,\"#fb9f3a\"],[0.8888888888888888,\"#fdca26\"],[1.0,\"#f0f921\"]],\"sequentialminus\":[[0.0,\"#0d0887\"],[0.1111111111111111,\"#46039f\"],[0.2222222222222222,\"#7201a8\"],[0.3333333333333333,\"#9c179e\"],[0.4444444444444444,\"#bd3786\"],[0.5555555555555556,\"#d8576b\"],[0.6666666666666666,\"#ed7953\"],[0.7777777777777778,\"#fb9f3a\"],[0.8888888888888888,\"#fdca26\"],[1.0,\"#f0f921\"]],\"diverging\":[[0,\"#8e0152\"],[0.1,\"#c51b7d\"],[0.2,\"#de77ae\"],[0.3,\"#f1b6da\"],[0.4,\"#fde0ef\"],[0.5,\"#f7f7f7\"],[0.6,\"#e6f5d0\"],[0.7,\"#b8e186\"],[0.8,\"#7fbc41\"],[0.9,\"#4d9221\"],[1,\"#276419\"]]},\"xaxis\":{\"gridcolor\":\"#283442\",\"linecolor\":\"#506784\",\"ticks\":\"\",\"title\":{\"standoff\":15},\"zerolinecolor\":\"#283442\",\"automargin\":true,\"zerolinewidth\":2},\"yaxis\":{\"gridcolor\":\"#283442\",\"linecolor\":\"#506784\",\"ticks\":\"\",\"title\":{\"standoff\":15},\"zerolinecolor\":\"#283442\",\"automargin\":true,\"zerolinewidth\":2},\"scene\":{\"xaxis\":{\"backgroundcolor\":\"rgb(17,17,17)\",\"gridcolor\":\"#506784\",\"linecolor\":\"#506784\",\"showbackground\":true,\"ticks\":\"\",\"zerolinecolor\":\"#C8D4E3\",\"gridwidth\":2},\"yaxis\":{\"backgroundcolor\":\"rgb(17,17,17)\",\"gridcolor\":\"#506784\",\"linecolor\":\"#506784\",\"showbackground\":true,\"ticks\":\"\",\"zerolinecolor\":\"#C8D4E3\",\"gridwidth\":2},\"zaxis\":{\"backgroundcolor\":\"rgb(17,17,17)\",\"gridcolor\":\"#506784\",\"linecolor\":\"#506784\",\"showbackground\":true,\"ticks\":\"\",\"zerolinecolor\":\"#C8D4E3\",\"gridwidth\":2}},\"shapedefaults\":{\"line\":{\"color\":\"#f2f5fa\"}},\"annotationdefaults\":{\"arrowcolor\":\"#f2f5fa\",\"arrowhead\":0,\"arrowwidth\":1},\"geo\":{\"bgcolor\":\"rgb(17,17,17)\",\"landcolor\":\"rgb(17,17,17)\",\"subunitcolor\":\"#506784\",\"showland\":true,\"showlakes\":true,\"lakecolor\":\"rgb(17,17,17)\"},\"title\":{\"x\":0.05},\"updatemenudefaults\":{\"bgcolor\":\"#506784\",\"borderwidth\":0},\"sliderdefaults\":{\"bgcolor\":\"#C8D4E3\",\"borderwidth\":1,\"bordercolor\":\"rgb(17,17,17)\",\"tickwidth\":0},\"mapbox\":{\"style\":\"dark\"}}},\"xaxis\":{\"anchor\":\"y\",\"domain\":[0.0,1.0],\"title\":{\"text\":\"Countries and areas\"},\"tickangle\":-45},\"yaxis\":{\"anchor\":\"x\",\"domain\":[0.0,1.0],\"title\":{\"text\":\"Unemployment_Rate\"}},\"legend\":{\"tracegroupgap\":0},\"title\":{\"text\":\"Unemployment Rates Across Countries\"},\"barmode\":\"relative\"},                        {\"responsive\": true}                    ).then(function(){\n                            \nvar gd = document.getElementById('6295ab0f-64ab-449e-8df9-751d69e2a253');\nvar x = new MutationObserver(function (mutations, observer) {{\n        var display = window.getComputedStyle(gd).display;\n        if (!display || display === 'none') {{\n            console.log([gd, 'removed!']);\n            Plotly.purge(gd);\n            observer.disconnect();\n        }}\n}});\n\n// Listen for the removal of the full notebook cells\nvar notebookContainer = gd.closest('#notebook-container');\nif (notebookContainer) {{\n    x.observe(notebookContainer, {childList: true});\n}}\n\n// Listen for the clearing of the current output cell\nvar outputEl = gd.closest('.output');\nif (outputEl) {{\n    x.observe(outputEl, {childList: true});\n}}\n\n                        })                };                });            </script>        </div>"
     },
     "metadata": {},
     "output_type": "display_data"
    }
   ],
   "source": [
    "fig = px.bar(df, x='Countries and areas', y='Unemployment_Rate',\n",
    "             title='Unemployment Rates Across Countries')\n",
    "fig.update_layout(xaxis_tickangle=-45)\n",
    "fig.show()"
   ],
   "metadata": {
    "collapsed": false,
    "ExecuteTime": {
     "end_time": "2024-01-30T11:22:23.727234100Z",
     "start_time": "2024-01-30T11:22:21.848489800Z"
    }
   },
   "id": "7bc7304c9ea10038"
  },
  {
   "cell_type": "code",
   "execution_count": 12,
   "outputs": [
    {
     "data": {
      "application/vnd.plotly.v1+json": {
       "data": [
        {
         "coloraxis": "coloraxis",
         "geo": "geo",
         "hovertemplate": "Countries and areas=%{location}<br>Unemployment_Rate=%{z}<extra></extra>",
         "locationmode": "country names",
         "locations": [
          "Afghanistan",
          "Albania",
          "Algeria",
          "Andorra",
          "Angola",
          "Anguilla",
          "Antigua and Barbuda",
          "Argentina",
          "Armenia",
          "Australia",
          "Austria",
          "Azerbaijan",
          "The Bahamas",
          "Bahrain",
          "Bangladesh",
          "Barbados",
          "Belarus",
          "Belgium",
          "Belize",
          "Benin",
          "Bhutan",
          "Bolivia",
          "Bosnia and Herzegovina",
          "Botswana",
          "Brazil",
          "British Virgin Islands",
          "Brunei",
          "Bulgaria",
          "Burkina Faso",
          "Burundi",
          "Cape Verde",
          "Cambodia",
          "Cameroon",
          "Canada",
          "Central African Republic",
          "Chad",
          "Chile",
          "China",
          "Colombia",
          "Comoros",
          "Republic of the Congo",
          "Cook Islands",
          "Costa Rica",
          "Ivory Coast",
          "Croatia",
          "Cuba",
          "Cyprus",
          "Czech Republic",
          "North Korea",
          "Democratic Republic of the Congo",
          "Denmark",
          "Djibouti",
          "Dominica",
          "Dominican Republic",
          "Ecuador",
          "Egypt",
          "El Salvador",
          "Equatorial Guinea",
          "Eritrea",
          "Estonia",
          "Eswatini",
          "Ethiopia",
          "Fiji",
          "Finland",
          "France",
          "Gabon",
          "The Gambia",
          "Georgia",
          "Germany",
          "Ghana",
          "Greece",
          "Grenada",
          "Guatemala",
          "Guinea",
          "Guinea0Bissau",
          "Guyana",
          "Haiti",
          "Vatican City",
          "Honduras",
          "Hungary",
          "Iceland",
          "India",
          "Indonesia",
          "Iran",
          "Iraq",
          "Republic of Ireland",
          "Israel",
          "Italy",
          "Jamaica",
          "Japan",
          "Jordan",
          "Kazakhstan",
          "Kenya",
          "Kiribati",
          "Kuwait",
          "Kyrgyzstan",
          "Laos",
          "Latvia",
          "Lebanon",
          "Lesotho",
          "Liberia",
          "Libya",
          "Liechtenstein",
          "Lithuania",
          "Luxembourg",
          "Madagascar",
          "Malawi",
          "Malaysia",
          "Maldives",
          "Mali",
          "Malta",
          "Marshall Islands",
          "Mauritania",
          "Mauritius",
          "Mexico",
          "Federated States of Micronesia",
          "Monaco",
          "Mongolia",
          "Montenegro",
          "Montserrat",
          "Morocco",
          "Mozambique",
          "Myanmar",
          "Namibia",
          "Nauru",
          "Nepal",
          "Netherlands",
          "New Zealand",
          "Nicaragua",
          "Niger",
          "Nigeria",
          "Niue",
          "North Macedonia",
          "Norway",
          "Oman",
          "Pakistan",
          "Palau",
          "Panama",
          "Papua New Guinea",
          "Paraguay",
          "Peru",
          "Philippines",
          "Poland",
          "Portugal",
          "Qatar",
          "South Korea",
          "Moldova",
          "Romania",
          "Russia",
          "Rwanda",
          "Saint Kitts and Nevis",
          "Saint Lucia",
          "Saint Vincent and the Grenadines",
          "Samoa",
          "San Marino",
          "Sï¿½ï¿½ï¿½ï¿½ï¿½ï¿½ï¿½ï¿",
          "Saudi Arabia",
          "Senegal",
          "Serbia",
          "Seychelles",
          "Sierra Leone",
          "Singapore",
          "Slovakia",
          "Slovenia",
          "Solomon Islands",
          "Somalia",
          "South Africa",
          "South Sudan",
          "Spain",
          "Sri Lanka",
          "Palestinian National Authority",
          "Sudan",
          "Suriname",
          "Sweden",
          "Switzerland",
          "Syria",
          "Tajikistan",
          "Thailand",
          "East Timor",
          "Togo",
          "Tokelau",
          "Tonga",
          "Trinidad and Tobago",
          "Tunisia",
          "Turkey",
          "Turkmenistan",
          "Turks and Caicos Islands",
          "Tuvalu",
          "Uganda",
          "Ukraine",
          "United Arab Emirates",
          "United Kingdom",
          "Tanzania",
          "United States",
          "Uruguay",
          "Uzbekistan",
          "Vanuatu",
          "Venezuela",
          "Vietnam",
          "Yemen",
          "Zambia",
          "Zimbabwe"
         ],
         "name": "",
         "z": [
          11.12,
          12.33,
          11.7,
          0.0,
          6.89,
          0.0,
          0.0,
          9.79,
          16.99,
          5.27,
          4.67,
          5.51,
          10.36,
          0.71,
          4.19,
          10.33,
          4.59,
          5.59,
          6.41,
          2.23,
          2.34,
          3.5,
          18.42,
          18.19,
          12.08,
          0.0,
          9.12,
          4.34,
          6.26,
          1.43,
          12.25,
          0.68,
          3.38,
          5.56,
          3.68,
          1.89,
          7.09,
          4.32,
          9.71,
          4.34,
          9.47,
          0.0,
          11.85,
          3.32,
          6.93,
          1.64,
          7.27,
          1.93,
          2.74,
          4.24,
          4.91,
          10.3,
          0.0,
          5.84,
          3.97,
          10.76,
          4.11,
          6.43,
          5.14,
          5.11,
          0.0,
          2.08,
          4.1,
          6.59,
          8.43,
          20.0,
          9.06,
          14.4,
          3.04,
          4.33,
          17.24,
          0.0,
          2.46,
          4.3,
          2.47,
          11.85,
          13.78,
          0.0,
          5.39,
          3.4,
          2.84,
          5.36,
          4.69,
          11.38,
          12.82,
          4.93,
          3.86,
          9.89,
          8.0,
          2.29,
          14.72,
          4.59,
          2.64,
          0.0,
          2.18,
          6.33,
          0.63,
          6.52,
          6.23,
          23.41,
          2.81,
          18.56,
          0.0,
          6.35,
          5.36,
          1.76,
          5.65,
          3.32,
          6.14,
          7.22,
          3.47,
          0.0,
          9.55,
          6.67,
          3.42,
          0.0,
          0.0,
          6.01,
          14.88,
          0.0,
          9.02,
          3.24,
          1.58,
          20.27,
          0.0,
          1.41,
          3.2,
          4.07,
          6.84,
          0.47,
          8.1,
          0.0,
          0.0,
          3.35,
          2.67,
          4.45,
          0.0,
          3.9,
          2.46,
          4.81,
          3.31,
          2.15,
          3.47,
          6.33,
          0.09,
          4.15,
          5.47,
          3.98,
          4.59,
          1.03,
          0.0,
          20.71,
          18.88,
          8.36,
          0.0,
          13.37,
          5.93,
          6.6,
          12.69,
          0.0,
          4.43,
          4.11,
          5.56,
          4.2,
          0.58,
          11.35,
          28.18,
          12.24,
          13.96,
          4.2,
          0.0,
          16.53,
          7.33,
          6.48,
          4.58,
          8.37,
          11.02,
          0.75,
          4.55,
          2.04,
          0.0,
          1.12,
          2.69,
          16.02,
          13.49,
          3.91,
          0.0,
          0.0,
          1.84,
          8.88,
          2.35,
          3.85,
          1.98,
          14.7,
          8.73,
          5.92,
          4.39,
          8.8,
          2.01,
          12.91,
          11.43,
          4.95
         ],
         "type": "choropleth"
        }
       ],
       "layout": {
        "template": {
         "data": {
          "histogram2dcontour": [
           {
            "type": "histogram2dcontour",
            "colorbar": {
             "outlinewidth": 0,
             "ticks": ""
            },
            "colorscale": [
             [
              0.0,
              "#0d0887"
             ],
             [
              0.1111111111111111,
              "#46039f"
             ],
             [
              0.2222222222222222,
              "#7201a8"
             ],
             [
              0.3333333333333333,
              "#9c179e"
             ],
             [
              0.4444444444444444,
              "#bd3786"
             ],
             [
              0.5555555555555556,
              "#d8576b"
             ],
             [
              0.6666666666666666,
              "#ed7953"
             ],
             [
              0.7777777777777778,
              "#fb9f3a"
             ],
             [
              0.8888888888888888,
              "#fdca26"
             ],
             [
              1.0,
              "#f0f921"
             ]
            ]
           }
          ],
          "choropleth": [
           {
            "type": "choropleth",
            "colorbar": {
             "outlinewidth": 0,
             "ticks": ""
            }
           }
          ],
          "histogram2d": [
           {
            "type": "histogram2d",
            "colorbar": {
             "outlinewidth": 0,
             "ticks": ""
            },
            "colorscale": [
             [
              0.0,
              "#0d0887"
             ],
             [
              0.1111111111111111,
              "#46039f"
             ],
             [
              0.2222222222222222,
              "#7201a8"
             ],
             [
              0.3333333333333333,
              "#9c179e"
             ],
             [
              0.4444444444444444,
              "#bd3786"
             ],
             [
              0.5555555555555556,
              "#d8576b"
             ],
             [
              0.6666666666666666,
              "#ed7953"
             ],
             [
              0.7777777777777778,
              "#fb9f3a"
             ],
             [
              0.8888888888888888,
              "#fdca26"
             ],
             [
              1.0,
              "#f0f921"
             ]
            ]
           }
          ],
          "heatmap": [
           {
            "type": "heatmap",
            "colorbar": {
             "outlinewidth": 0,
             "ticks": ""
            },
            "colorscale": [
             [
              0.0,
              "#0d0887"
             ],
             [
              0.1111111111111111,
              "#46039f"
             ],
             [
              0.2222222222222222,
              "#7201a8"
             ],
             [
              0.3333333333333333,
              "#9c179e"
             ],
             [
              0.4444444444444444,
              "#bd3786"
             ],
             [
              0.5555555555555556,
              "#d8576b"
             ],
             [
              0.6666666666666666,
              "#ed7953"
             ],
             [
              0.7777777777777778,
              "#fb9f3a"
             ],
             [
              0.8888888888888888,
              "#fdca26"
             ],
             [
              1.0,
              "#f0f921"
             ]
            ]
           }
          ],
          "heatmapgl": [
           {
            "type": "heatmapgl",
            "colorbar": {
             "outlinewidth": 0,
             "ticks": ""
            },
            "colorscale": [
             [
              0.0,
              "#0d0887"
             ],
             [
              0.1111111111111111,
              "#46039f"
             ],
             [
              0.2222222222222222,
              "#7201a8"
             ],
             [
              0.3333333333333333,
              "#9c179e"
             ],
             [
              0.4444444444444444,
              "#bd3786"
             ],
             [
              0.5555555555555556,
              "#d8576b"
             ],
             [
              0.6666666666666666,
              "#ed7953"
             ],
             [
              0.7777777777777778,
              "#fb9f3a"
             ],
             [
              0.8888888888888888,
              "#fdca26"
             ],
             [
              1.0,
              "#f0f921"
             ]
            ]
           }
          ],
          "contourcarpet": [
           {
            "type": "contourcarpet",
            "colorbar": {
             "outlinewidth": 0,
             "ticks": ""
            }
           }
          ],
          "contour": [
           {
            "type": "contour",
            "colorbar": {
             "outlinewidth": 0,
             "ticks": ""
            },
            "colorscale": [
             [
              0.0,
              "#0d0887"
             ],
             [
              0.1111111111111111,
              "#46039f"
             ],
             [
              0.2222222222222222,
              "#7201a8"
             ],
             [
              0.3333333333333333,
              "#9c179e"
             ],
             [
              0.4444444444444444,
              "#bd3786"
             ],
             [
              0.5555555555555556,
              "#d8576b"
             ],
             [
              0.6666666666666666,
              "#ed7953"
             ],
             [
              0.7777777777777778,
              "#fb9f3a"
             ],
             [
              0.8888888888888888,
              "#fdca26"
             ],
             [
              1.0,
              "#f0f921"
             ]
            ]
           }
          ],
          "surface": [
           {
            "type": "surface",
            "colorbar": {
             "outlinewidth": 0,
             "ticks": ""
            },
            "colorscale": [
             [
              0.0,
              "#0d0887"
             ],
             [
              0.1111111111111111,
              "#46039f"
             ],
             [
              0.2222222222222222,
              "#7201a8"
             ],
             [
              0.3333333333333333,
              "#9c179e"
             ],
             [
              0.4444444444444444,
              "#bd3786"
             ],
             [
              0.5555555555555556,
              "#d8576b"
             ],
             [
              0.6666666666666666,
              "#ed7953"
             ],
             [
              0.7777777777777778,
              "#fb9f3a"
             ],
             [
              0.8888888888888888,
              "#fdca26"
             ],
             [
              1.0,
              "#f0f921"
             ]
            ]
           }
          ],
          "mesh3d": [
           {
            "type": "mesh3d",
            "colorbar": {
             "outlinewidth": 0,
             "ticks": ""
            }
           }
          ],
          "scatter": [
           {
            "marker": {
             "line": {
              "color": "#283442"
             }
            },
            "type": "scatter"
           }
          ],
          "parcoords": [
           {
            "type": "parcoords",
            "line": {
             "colorbar": {
              "outlinewidth": 0,
              "ticks": ""
             }
            }
           }
          ],
          "scatterpolargl": [
           {
            "type": "scatterpolargl",
            "marker": {
             "colorbar": {
              "outlinewidth": 0,
              "ticks": ""
             }
            }
           }
          ],
          "bar": [
           {
            "error_x": {
             "color": "#f2f5fa"
            },
            "error_y": {
             "color": "#f2f5fa"
            },
            "marker": {
             "line": {
              "color": "rgb(17,17,17)",
              "width": 0.5
             },
             "pattern": {
              "fillmode": "overlay",
              "size": 10,
              "solidity": 0.2
             }
            },
            "type": "bar"
           }
          ],
          "scattergeo": [
           {
            "type": "scattergeo",
            "marker": {
             "colorbar": {
              "outlinewidth": 0,
              "ticks": ""
             }
            }
           }
          ],
          "scatterpolar": [
           {
            "type": "scatterpolar",
            "marker": {
             "colorbar": {
              "outlinewidth": 0,
              "ticks": ""
             }
            }
           }
          ],
          "histogram": [
           {
            "marker": {
             "pattern": {
              "fillmode": "overlay",
              "size": 10,
              "solidity": 0.2
             }
            },
            "type": "histogram"
           }
          ],
          "scattergl": [
           {
            "marker": {
             "line": {
              "color": "#283442"
             }
            },
            "type": "scattergl"
           }
          ],
          "scatter3d": [
           {
            "type": "scatter3d",
            "line": {
             "colorbar": {
              "outlinewidth": 0,
              "ticks": ""
             }
            },
            "marker": {
             "colorbar": {
              "outlinewidth": 0,
              "ticks": ""
             }
            }
           }
          ],
          "scattermapbox": [
           {
            "type": "scattermapbox",
            "marker": {
             "colorbar": {
              "outlinewidth": 0,
              "ticks": ""
             }
            }
           }
          ],
          "scatterternary": [
           {
            "type": "scatterternary",
            "marker": {
             "colorbar": {
              "outlinewidth": 0,
              "ticks": ""
             }
            }
           }
          ],
          "scattercarpet": [
           {
            "type": "scattercarpet",
            "marker": {
             "colorbar": {
              "outlinewidth": 0,
              "ticks": ""
             }
            }
           }
          ],
          "carpet": [
           {
            "aaxis": {
             "endlinecolor": "#A2B1C6",
             "gridcolor": "#506784",
             "linecolor": "#506784",
             "minorgridcolor": "#506784",
             "startlinecolor": "#A2B1C6"
            },
            "baxis": {
             "endlinecolor": "#A2B1C6",
             "gridcolor": "#506784",
             "linecolor": "#506784",
             "minorgridcolor": "#506784",
             "startlinecolor": "#A2B1C6"
            },
            "type": "carpet"
           }
          ],
          "table": [
           {
            "cells": {
             "fill": {
              "color": "#506784"
             },
             "line": {
              "color": "rgb(17,17,17)"
             }
            },
            "header": {
             "fill": {
              "color": "#2a3f5f"
             },
             "line": {
              "color": "rgb(17,17,17)"
             }
            },
            "type": "table"
           }
          ],
          "barpolar": [
           {
            "marker": {
             "line": {
              "color": "rgb(17,17,17)",
              "width": 0.5
             },
             "pattern": {
              "fillmode": "overlay",
              "size": 10,
              "solidity": 0.2
             }
            },
            "type": "barpolar"
           }
          ],
          "pie": [
           {
            "automargin": true,
            "type": "pie"
           }
          ]
         },
         "layout": {
          "autotypenumbers": "strict",
          "colorway": [
           "#636efa",
           "#EF553B",
           "#00cc96",
           "#ab63fa",
           "#FFA15A",
           "#19d3f3",
           "#FF6692",
           "#B6E880",
           "#FF97FF",
           "#FECB52"
          ],
          "font": {
           "color": "#f2f5fa"
          },
          "hovermode": "closest",
          "hoverlabel": {
           "align": "left"
          },
          "paper_bgcolor": "rgb(17,17,17)",
          "plot_bgcolor": "rgb(17,17,17)",
          "polar": {
           "bgcolor": "rgb(17,17,17)",
           "angularaxis": {
            "gridcolor": "#506784",
            "linecolor": "#506784",
            "ticks": ""
           },
           "radialaxis": {
            "gridcolor": "#506784",
            "linecolor": "#506784",
            "ticks": ""
           }
          },
          "ternary": {
           "bgcolor": "rgb(17,17,17)",
           "aaxis": {
            "gridcolor": "#506784",
            "linecolor": "#506784",
            "ticks": ""
           },
           "baxis": {
            "gridcolor": "#506784",
            "linecolor": "#506784",
            "ticks": ""
           },
           "caxis": {
            "gridcolor": "#506784",
            "linecolor": "#506784",
            "ticks": ""
           }
          },
          "coloraxis": {
           "colorbar": {
            "outlinewidth": 0,
            "ticks": ""
           }
          },
          "colorscale": {
           "sequential": [
            [
             0.0,
             "#0d0887"
            ],
            [
             0.1111111111111111,
             "#46039f"
            ],
            [
             0.2222222222222222,
             "#7201a8"
            ],
            [
             0.3333333333333333,
             "#9c179e"
            ],
            [
             0.4444444444444444,
             "#bd3786"
            ],
            [
             0.5555555555555556,
             "#d8576b"
            ],
            [
             0.6666666666666666,
             "#ed7953"
            ],
            [
             0.7777777777777778,
             "#fb9f3a"
            ],
            [
             0.8888888888888888,
             "#fdca26"
            ],
            [
             1.0,
             "#f0f921"
            ]
           ],
           "sequentialminus": [
            [
             0.0,
             "#0d0887"
            ],
            [
             0.1111111111111111,
             "#46039f"
            ],
            [
             0.2222222222222222,
             "#7201a8"
            ],
            [
             0.3333333333333333,
             "#9c179e"
            ],
            [
             0.4444444444444444,
             "#bd3786"
            ],
            [
             0.5555555555555556,
             "#d8576b"
            ],
            [
             0.6666666666666666,
             "#ed7953"
            ],
            [
             0.7777777777777778,
             "#fb9f3a"
            ],
            [
             0.8888888888888888,
             "#fdca26"
            ],
            [
             1.0,
             "#f0f921"
            ]
           ],
           "diverging": [
            [
             0,
             "#8e0152"
            ],
            [
             0.1,
             "#c51b7d"
            ],
            [
             0.2,
             "#de77ae"
            ],
            [
             0.3,
             "#f1b6da"
            ],
            [
             0.4,
             "#fde0ef"
            ],
            [
             0.5,
             "#f7f7f7"
            ],
            [
             0.6,
             "#e6f5d0"
            ],
            [
             0.7,
             "#b8e186"
            ],
            [
             0.8,
             "#7fbc41"
            ],
            [
             0.9,
             "#4d9221"
            ],
            [
             1,
             "#276419"
            ]
           ]
          },
          "xaxis": {
           "gridcolor": "#283442",
           "linecolor": "#506784",
           "ticks": "",
           "title": {
            "standoff": 15
           },
           "zerolinecolor": "#283442",
           "automargin": true,
           "zerolinewidth": 2
          },
          "yaxis": {
           "gridcolor": "#283442",
           "linecolor": "#506784",
           "ticks": "",
           "title": {
            "standoff": 15
           },
           "zerolinecolor": "#283442",
           "automargin": true,
           "zerolinewidth": 2
          },
          "scene": {
           "xaxis": {
            "backgroundcolor": "rgb(17,17,17)",
            "gridcolor": "#506784",
            "linecolor": "#506784",
            "showbackground": true,
            "ticks": "",
            "zerolinecolor": "#C8D4E3",
            "gridwidth": 2
           },
           "yaxis": {
            "backgroundcolor": "rgb(17,17,17)",
            "gridcolor": "#506784",
            "linecolor": "#506784",
            "showbackground": true,
            "ticks": "",
            "zerolinecolor": "#C8D4E3",
            "gridwidth": 2
           },
           "zaxis": {
            "backgroundcolor": "rgb(17,17,17)",
            "gridcolor": "#506784",
            "linecolor": "#506784",
            "showbackground": true,
            "ticks": "",
            "zerolinecolor": "#C8D4E3",
            "gridwidth": 2
           }
          },
          "shapedefaults": {
           "line": {
            "color": "#f2f5fa"
           }
          },
          "annotationdefaults": {
           "arrowcolor": "#f2f5fa",
           "arrowhead": 0,
           "arrowwidth": 1
          },
          "geo": {
           "bgcolor": "rgb(17,17,17)",
           "landcolor": "rgb(17,17,17)",
           "subunitcolor": "#506784",
           "showland": true,
           "showlakes": true,
           "lakecolor": "rgb(17,17,17)"
          },
          "title": {
           "x": 0.05
          },
          "updatemenudefaults": {
           "bgcolor": "#506784",
           "borderwidth": 0
          },
          "sliderdefaults": {
           "bgcolor": "#C8D4E3",
           "borderwidth": 1,
           "bordercolor": "rgb(17,17,17)",
           "tickwidth": 0
          },
          "mapbox": {
           "style": "dark"
          }
         }
        },
        "geo": {
         "domain": {
          "x": [
           0.0,
           1.0
          ],
          "y": [
           0.0,
           1.0
          ]
         },
         "center": {}
        },
        "coloraxis": {
         "colorbar": {
          "title": {
           "text": "Unemployment_Rate"
          }
         },
         "colorscale": [
          [
           0.0,
           "#0d0887"
          ],
          [
           0.1111111111111111,
           "#46039f"
          ],
          [
           0.2222222222222222,
           "#7201a8"
          ],
          [
           0.3333333333333333,
           "#9c179e"
          ],
          [
           0.4444444444444444,
           "#bd3786"
          ],
          [
           0.5555555555555556,
           "#d8576b"
          ],
          [
           0.6666666666666666,
           "#ed7953"
          ],
          [
           0.7777777777777778,
           "#fb9f3a"
          ],
          [
           0.8888888888888888,
           "#fdca26"
          ],
          [
           1.0,
           "#f0f921"
          ]
         ],
         "cmin": 0,
         "cmax": 100
        },
        "legend": {
         "tracegroupgap": 0
        },
        "title": {
         "text": "Unemployment Rates Across Countries"
        },
        "xaxis": {
         "tickangle": -45
        }
       },
       "config": {
        "plotlyServerURL": "https://plot.ly"
       }
      },
      "text/html": "<div>                            <div id=\"a9e79d34-a6c6-40da-b9bf-6e8a5c0e7bd1\" class=\"plotly-graph-div\" style=\"height:525px; width:100%;\"></div>            <script type=\"text/javascript\">                require([\"plotly\"], function(Plotly) {                    window.PLOTLYENV=window.PLOTLYENV || {};                                    if (document.getElementById(\"a9e79d34-a6c6-40da-b9bf-6e8a5c0e7bd1\")) {                    Plotly.newPlot(                        \"a9e79d34-a6c6-40da-b9bf-6e8a5c0e7bd1\",                        [{\"coloraxis\":\"coloraxis\",\"geo\":\"geo\",\"hovertemplate\":\"Countries and areas=%{location}\\u003cbr\\u003eUnemployment_Rate=%{z}\\u003cextra\\u003e\\u003c\\u002fextra\\u003e\",\"locationmode\":\"country names\",\"locations\":[\"Afghanistan\",\"Albania\",\"Algeria\",\"Andorra\",\"Angola\",\"Anguilla\",\"Antigua and Barbuda\",\"Argentina\",\"Armenia\",\"Australia\",\"Austria\",\"Azerbaijan\",\"The Bahamas\",\"Bahrain\",\"Bangladesh\",\"Barbados\",\"Belarus\",\"Belgium\",\"Belize\",\"Benin\",\"Bhutan\",\"Bolivia\",\"Bosnia and Herzegovina\",\"Botswana\",\"Brazil\",\"British Virgin Islands\",\"Brunei\",\"Bulgaria\",\"Burkina Faso\",\"Burundi\",\"Cape Verde\",\"Cambodia\",\"Cameroon\",\"Canada\",\"Central African Republic\",\"Chad\",\"Chile\",\"China\",\"Colombia\",\"Comoros\",\"Republic of the Congo\",\"Cook Islands\",\"Costa Rica\",\"Ivory Coast\",\"Croatia\",\"Cuba\",\"Cyprus\",\"Czech Republic\",\"North Korea\",\"Democratic Republic of the Congo\",\"Denmark\",\"Djibouti\",\"Dominica\",\"Dominican Republic\",\"Ecuador\",\"Egypt\",\"El Salvador\",\"Equatorial Guinea\",\"Eritrea\",\"Estonia\",\"Eswatini\",\"Ethiopia\",\"Fiji\",\"Finland\",\"France\",\"Gabon\",\"The Gambia\",\"Georgia\",\"Germany\",\"Ghana\",\"Greece\",\"Grenada\",\"Guatemala\",\"Guinea\",\"Guinea0Bissau\",\"Guyana\",\"Haiti\",\"Vatican City\",\"Honduras\",\"Hungary\",\"Iceland\",\"India\",\"Indonesia\",\"Iran\",\"Iraq\",\"Republic of Ireland\",\"Israel\",\"Italy\",\"Jamaica\",\"Japan\",\"Jordan\",\"Kazakhstan\",\"Kenya\",\"Kiribati\",\"Kuwait\",\"Kyrgyzstan\",\"Laos\",\"Latvia\",\"Lebanon\",\"Lesotho\",\"Liberia\",\"Libya\",\"Liechtenstein\",\"Lithuania\",\"Luxembourg\",\"Madagascar\",\"Malawi\",\"Malaysia\",\"Maldives\",\"Mali\",\"Malta\",\"Marshall Islands\",\"Mauritania\",\"Mauritius\",\"Mexico\",\"Federated States of Micronesia\",\"Monaco\",\"Mongolia\",\"Montenegro\",\"Montserrat\",\"Morocco\",\"Mozambique\",\"Myanmar\",\"Namibia\",\"Nauru\",\"Nepal\",\"Netherlands\",\"New Zealand\",\"Nicaragua\",\"Niger\",\"Nigeria\",\"Niue\",\"North Macedonia\",\"Norway\",\"Oman\",\"Pakistan\",\"Palau\",\"Panama\",\"Papua New Guinea\",\"Paraguay\",\"Peru\",\"Philippines\",\"Poland\",\"Portugal\",\"Qatar\",\"South Korea\",\"Moldova\",\"Romania\",\"Russia\",\"Rwanda\",\"Saint Kitts and Nevis\",\"Saint Lucia\",\"Saint Vincent and the Grenadines\",\"Samoa\",\"San Marino\",\"S\\u00ef\\u00bf\\u00bd\\u00ef\\u00bf\\u00bd\\u00ef\\u00bf\\u00bd\\u00ef\\u00bf\\u00bd\\u00ef\\u00bf\\u00bd\\u00ef\\u00bf\\u00bd\\u00ef\\u00bf\\u00bd\\u00ef\\u00bf\",\"Saudi Arabia\",\"Senegal\",\"Serbia\",\"Seychelles\",\"Sierra Leone\",\"Singapore\",\"Slovakia\",\"Slovenia\",\"Solomon Islands\",\"Somalia\",\"South Africa\",\"South Sudan\",\"Spain\",\"Sri Lanka\",\"Palestinian National Authority\",\"Sudan\",\"Suriname\",\"Sweden\",\"Switzerland\",\"Syria\",\"Tajikistan\",\"Thailand\",\"East Timor\",\"Togo\",\"Tokelau\",\"Tonga\",\"Trinidad and Tobago\",\"Tunisia\",\"Turkey\",\"Turkmenistan\",\"Turks and Caicos Islands\",\"Tuvalu\",\"Uganda\",\"Ukraine\",\"United Arab Emirates\",\"United Kingdom\",\"Tanzania\",\"United States\",\"Uruguay\",\"Uzbekistan\",\"Vanuatu\",\"Venezuela\",\"Vietnam\",\"Yemen\",\"Zambia\",\"Zimbabwe\"],\"name\":\"\",\"z\":[11.12,12.33,11.7,0.0,6.89,0.0,0.0,9.79,16.99,5.27,4.67,5.51,10.36,0.71,4.19,10.33,4.59,5.59,6.41,2.23,2.34,3.5,18.42,18.19,12.08,0.0,9.12,4.34,6.26,1.43,12.25,0.68,3.38,5.56,3.68,1.89,7.09,4.32,9.71,4.34,9.47,0.0,11.85,3.32,6.93,1.64,7.27,1.93,2.74,4.24,4.91,10.3,0.0,5.84,3.97,10.76,4.11,6.43,5.14,5.11,0.0,2.08,4.1,6.59,8.43,20.0,9.06,14.4,3.04,4.33,17.24,0.0,2.46,4.3,2.47,11.85,13.78,0.0,5.39,3.4,2.84,5.36,4.69,11.38,12.82,4.93,3.86,9.89,8.0,2.29,14.72,4.59,2.64,0.0,2.18,6.33,0.63,6.52,6.23,23.41,2.81,18.56,0.0,6.35,5.36,1.76,5.65,3.32,6.14,7.22,3.47,0.0,9.55,6.67,3.42,0.0,0.0,6.01,14.88,0.0,9.02,3.24,1.58,20.27,0.0,1.41,3.2,4.07,6.84,0.47,8.1,0.0,0.0,3.35,2.67,4.45,0.0,3.9,2.46,4.81,3.31,2.15,3.47,6.33,0.09,4.15,5.47,3.98,4.59,1.03,0.0,20.71,18.88,8.36,0.0,13.37,5.93,6.6,12.69,0.0,4.43,4.11,5.56,4.2,0.58,11.35,28.18,12.24,13.96,4.2,0.0,16.53,7.33,6.48,4.58,8.37,11.02,0.75,4.55,2.04,0.0,1.12,2.69,16.02,13.49,3.91,0.0,0.0,1.84,8.88,2.35,3.85,1.98,14.7,8.73,5.92,4.39,8.8,2.01,12.91,11.43,4.95],\"type\":\"choropleth\"}],                        {\"template\":{\"data\":{\"histogram2dcontour\":[{\"type\":\"histogram2dcontour\",\"colorbar\":{\"outlinewidth\":0,\"ticks\":\"\"},\"colorscale\":[[0.0,\"#0d0887\"],[0.1111111111111111,\"#46039f\"],[0.2222222222222222,\"#7201a8\"],[0.3333333333333333,\"#9c179e\"],[0.4444444444444444,\"#bd3786\"],[0.5555555555555556,\"#d8576b\"],[0.6666666666666666,\"#ed7953\"],[0.7777777777777778,\"#fb9f3a\"],[0.8888888888888888,\"#fdca26\"],[1.0,\"#f0f921\"]]}],\"choropleth\":[{\"type\":\"choropleth\",\"colorbar\":{\"outlinewidth\":0,\"ticks\":\"\"}}],\"histogram2d\":[{\"type\":\"histogram2d\",\"colorbar\":{\"outlinewidth\":0,\"ticks\":\"\"},\"colorscale\":[[0.0,\"#0d0887\"],[0.1111111111111111,\"#46039f\"],[0.2222222222222222,\"#7201a8\"],[0.3333333333333333,\"#9c179e\"],[0.4444444444444444,\"#bd3786\"],[0.5555555555555556,\"#d8576b\"],[0.6666666666666666,\"#ed7953\"],[0.7777777777777778,\"#fb9f3a\"],[0.8888888888888888,\"#fdca26\"],[1.0,\"#f0f921\"]]}],\"heatmap\":[{\"type\":\"heatmap\",\"colorbar\":{\"outlinewidth\":0,\"ticks\":\"\"},\"colorscale\":[[0.0,\"#0d0887\"],[0.1111111111111111,\"#46039f\"],[0.2222222222222222,\"#7201a8\"],[0.3333333333333333,\"#9c179e\"],[0.4444444444444444,\"#bd3786\"],[0.5555555555555556,\"#d8576b\"],[0.6666666666666666,\"#ed7953\"],[0.7777777777777778,\"#fb9f3a\"],[0.8888888888888888,\"#fdca26\"],[1.0,\"#f0f921\"]]}],\"heatmapgl\":[{\"type\":\"heatmapgl\",\"colorbar\":{\"outlinewidth\":0,\"ticks\":\"\"},\"colorscale\":[[0.0,\"#0d0887\"],[0.1111111111111111,\"#46039f\"],[0.2222222222222222,\"#7201a8\"],[0.3333333333333333,\"#9c179e\"],[0.4444444444444444,\"#bd3786\"],[0.5555555555555556,\"#d8576b\"],[0.6666666666666666,\"#ed7953\"],[0.7777777777777778,\"#fb9f3a\"],[0.8888888888888888,\"#fdca26\"],[1.0,\"#f0f921\"]]}],\"contourcarpet\":[{\"type\":\"contourcarpet\",\"colorbar\":{\"outlinewidth\":0,\"ticks\":\"\"}}],\"contour\":[{\"type\":\"contour\",\"colorbar\":{\"outlinewidth\":0,\"ticks\":\"\"},\"colorscale\":[[0.0,\"#0d0887\"],[0.1111111111111111,\"#46039f\"],[0.2222222222222222,\"#7201a8\"],[0.3333333333333333,\"#9c179e\"],[0.4444444444444444,\"#bd3786\"],[0.5555555555555556,\"#d8576b\"],[0.6666666666666666,\"#ed7953\"],[0.7777777777777778,\"#fb9f3a\"],[0.8888888888888888,\"#fdca26\"],[1.0,\"#f0f921\"]]}],\"surface\":[{\"type\":\"surface\",\"colorbar\":{\"outlinewidth\":0,\"ticks\":\"\"},\"colorscale\":[[0.0,\"#0d0887\"],[0.1111111111111111,\"#46039f\"],[0.2222222222222222,\"#7201a8\"],[0.3333333333333333,\"#9c179e\"],[0.4444444444444444,\"#bd3786\"],[0.5555555555555556,\"#d8576b\"],[0.6666666666666666,\"#ed7953\"],[0.7777777777777778,\"#fb9f3a\"],[0.8888888888888888,\"#fdca26\"],[1.0,\"#f0f921\"]]}],\"mesh3d\":[{\"type\":\"mesh3d\",\"colorbar\":{\"outlinewidth\":0,\"ticks\":\"\"}}],\"scatter\":[{\"marker\":{\"line\":{\"color\":\"#283442\"}},\"type\":\"scatter\"}],\"parcoords\":[{\"type\":\"parcoords\",\"line\":{\"colorbar\":{\"outlinewidth\":0,\"ticks\":\"\"}}}],\"scatterpolargl\":[{\"type\":\"scatterpolargl\",\"marker\":{\"colorbar\":{\"outlinewidth\":0,\"ticks\":\"\"}}}],\"bar\":[{\"error_x\":{\"color\":\"#f2f5fa\"},\"error_y\":{\"color\":\"#f2f5fa\"},\"marker\":{\"line\":{\"color\":\"rgb(17,17,17)\",\"width\":0.5},\"pattern\":{\"fillmode\":\"overlay\",\"size\":10,\"solidity\":0.2}},\"type\":\"bar\"}],\"scattergeo\":[{\"type\":\"scattergeo\",\"marker\":{\"colorbar\":{\"outlinewidth\":0,\"ticks\":\"\"}}}],\"scatterpolar\":[{\"type\":\"scatterpolar\",\"marker\":{\"colorbar\":{\"outlinewidth\":0,\"ticks\":\"\"}}}],\"histogram\":[{\"marker\":{\"pattern\":{\"fillmode\":\"overlay\",\"size\":10,\"solidity\":0.2}},\"type\":\"histogram\"}],\"scattergl\":[{\"marker\":{\"line\":{\"color\":\"#283442\"}},\"type\":\"scattergl\"}],\"scatter3d\":[{\"type\":\"scatter3d\",\"line\":{\"colorbar\":{\"outlinewidth\":0,\"ticks\":\"\"}},\"marker\":{\"colorbar\":{\"outlinewidth\":0,\"ticks\":\"\"}}}],\"scattermapbox\":[{\"type\":\"scattermapbox\",\"marker\":{\"colorbar\":{\"outlinewidth\":0,\"ticks\":\"\"}}}],\"scatterternary\":[{\"type\":\"scatterternary\",\"marker\":{\"colorbar\":{\"outlinewidth\":0,\"ticks\":\"\"}}}],\"scattercarpet\":[{\"type\":\"scattercarpet\",\"marker\":{\"colorbar\":{\"outlinewidth\":0,\"ticks\":\"\"}}}],\"carpet\":[{\"aaxis\":{\"endlinecolor\":\"#A2B1C6\",\"gridcolor\":\"#506784\",\"linecolor\":\"#506784\",\"minorgridcolor\":\"#506784\",\"startlinecolor\":\"#A2B1C6\"},\"baxis\":{\"endlinecolor\":\"#A2B1C6\",\"gridcolor\":\"#506784\",\"linecolor\":\"#506784\",\"minorgridcolor\":\"#506784\",\"startlinecolor\":\"#A2B1C6\"},\"type\":\"carpet\"}],\"table\":[{\"cells\":{\"fill\":{\"color\":\"#506784\"},\"line\":{\"color\":\"rgb(17,17,17)\"}},\"header\":{\"fill\":{\"color\":\"#2a3f5f\"},\"line\":{\"color\":\"rgb(17,17,17)\"}},\"type\":\"table\"}],\"barpolar\":[{\"marker\":{\"line\":{\"color\":\"rgb(17,17,17)\",\"width\":0.5},\"pattern\":{\"fillmode\":\"overlay\",\"size\":10,\"solidity\":0.2}},\"type\":\"barpolar\"}],\"pie\":[{\"automargin\":true,\"type\":\"pie\"}]},\"layout\":{\"autotypenumbers\":\"strict\",\"colorway\":[\"#636efa\",\"#EF553B\",\"#00cc96\",\"#ab63fa\",\"#FFA15A\",\"#19d3f3\",\"#FF6692\",\"#B6E880\",\"#FF97FF\",\"#FECB52\"],\"font\":{\"color\":\"#f2f5fa\"},\"hovermode\":\"closest\",\"hoverlabel\":{\"align\":\"left\"},\"paper_bgcolor\":\"rgb(17,17,17)\",\"plot_bgcolor\":\"rgb(17,17,17)\",\"polar\":{\"bgcolor\":\"rgb(17,17,17)\",\"angularaxis\":{\"gridcolor\":\"#506784\",\"linecolor\":\"#506784\",\"ticks\":\"\"},\"radialaxis\":{\"gridcolor\":\"#506784\",\"linecolor\":\"#506784\",\"ticks\":\"\"}},\"ternary\":{\"bgcolor\":\"rgb(17,17,17)\",\"aaxis\":{\"gridcolor\":\"#506784\",\"linecolor\":\"#506784\",\"ticks\":\"\"},\"baxis\":{\"gridcolor\":\"#506784\",\"linecolor\":\"#506784\",\"ticks\":\"\"},\"caxis\":{\"gridcolor\":\"#506784\",\"linecolor\":\"#506784\",\"ticks\":\"\"}},\"coloraxis\":{\"colorbar\":{\"outlinewidth\":0,\"ticks\":\"\"}},\"colorscale\":{\"sequential\":[[0.0,\"#0d0887\"],[0.1111111111111111,\"#46039f\"],[0.2222222222222222,\"#7201a8\"],[0.3333333333333333,\"#9c179e\"],[0.4444444444444444,\"#bd3786\"],[0.5555555555555556,\"#d8576b\"],[0.6666666666666666,\"#ed7953\"],[0.7777777777777778,\"#fb9f3a\"],[0.8888888888888888,\"#fdca26\"],[1.0,\"#f0f921\"]],\"sequentialminus\":[[0.0,\"#0d0887\"],[0.1111111111111111,\"#46039f\"],[0.2222222222222222,\"#7201a8\"],[0.3333333333333333,\"#9c179e\"],[0.4444444444444444,\"#bd3786\"],[0.5555555555555556,\"#d8576b\"],[0.6666666666666666,\"#ed7953\"],[0.7777777777777778,\"#fb9f3a\"],[0.8888888888888888,\"#fdca26\"],[1.0,\"#f0f921\"]],\"diverging\":[[0,\"#8e0152\"],[0.1,\"#c51b7d\"],[0.2,\"#de77ae\"],[0.3,\"#f1b6da\"],[0.4,\"#fde0ef\"],[0.5,\"#f7f7f7\"],[0.6,\"#e6f5d0\"],[0.7,\"#b8e186\"],[0.8,\"#7fbc41\"],[0.9,\"#4d9221\"],[1,\"#276419\"]]},\"xaxis\":{\"gridcolor\":\"#283442\",\"linecolor\":\"#506784\",\"ticks\":\"\",\"title\":{\"standoff\":15},\"zerolinecolor\":\"#283442\",\"automargin\":true,\"zerolinewidth\":2},\"yaxis\":{\"gridcolor\":\"#283442\",\"linecolor\":\"#506784\",\"ticks\":\"\",\"title\":{\"standoff\":15},\"zerolinecolor\":\"#283442\",\"automargin\":true,\"zerolinewidth\":2},\"scene\":{\"xaxis\":{\"backgroundcolor\":\"rgb(17,17,17)\",\"gridcolor\":\"#506784\",\"linecolor\":\"#506784\",\"showbackground\":true,\"ticks\":\"\",\"zerolinecolor\":\"#C8D4E3\",\"gridwidth\":2},\"yaxis\":{\"backgroundcolor\":\"rgb(17,17,17)\",\"gridcolor\":\"#506784\",\"linecolor\":\"#506784\",\"showbackground\":true,\"ticks\":\"\",\"zerolinecolor\":\"#C8D4E3\",\"gridwidth\":2},\"zaxis\":{\"backgroundcolor\":\"rgb(17,17,17)\",\"gridcolor\":\"#506784\",\"linecolor\":\"#506784\",\"showbackground\":true,\"ticks\":\"\",\"zerolinecolor\":\"#C8D4E3\",\"gridwidth\":2}},\"shapedefaults\":{\"line\":{\"color\":\"#f2f5fa\"}},\"annotationdefaults\":{\"arrowcolor\":\"#f2f5fa\",\"arrowhead\":0,\"arrowwidth\":1},\"geo\":{\"bgcolor\":\"rgb(17,17,17)\",\"landcolor\":\"rgb(17,17,17)\",\"subunitcolor\":\"#506784\",\"showland\":true,\"showlakes\":true,\"lakecolor\":\"rgb(17,17,17)\"},\"title\":{\"x\":0.05},\"updatemenudefaults\":{\"bgcolor\":\"#506784\",\"borderwidth\":0},\"sliderdefaults\":{\"bgcolor\":\"#C8D4E3\",\"borderwidth\":1,\"bordercolor\":\"rgb(17,17,17)\",\"tickwidth\":0},\"mapbox\":{\"style\":\"dark\"}}},\"geo\":{\"domain\":{\"x\":[0.0,1.0],\"y\":[0.0,1.0]},\"center\":{}},\"coloraxis\":{\"colorbar\":{\"title\":{\"text\":\"Unemployment_Rate\"}},\"colorscale\":[[0.0,\"#0d0887\"],[0.1111111111111111,\"#46039f\"],[0.2222222222222222,\"#7201a8\"],[0.3333333333333333,\"#9c179e\"],[0.4444444444444444,\"#bd3786\"],[0.5555555555555556,\"#d8576b\"],[0.6666666666666666,\"#ed7953\"],[0.7777777777777778,\"#fb9f3a\"],[0.8888888888888888,\"#fdca26\"],[1.0,\"#f0f921\"]],\"cmin\":0,\"cmax\":100},\"legend\":{\"tracegroupgap\":0},\"title\":{\"text\":\"Unemployment Rates Across Countries\"},\"xaxis\":{\"tickangle\":-45}},                        {\"responsive\": true}                    ).then(function(){\n                            \nvar gd = document.getElementById('a9e79d34-a6c6-40da-b9bf-6e8a5c0e7bd1');\nvar x = new MutationObserver(function (mutations, observer) {{\n        var display = window.getComputedStyle(gd).display;\n        if (!display || display === 'none') {{\n            console.log([gd, 'removed!']);\n            Plotly.purge(gd);\n            observer.disconnect();\n        }}\n}});\n\n// Listen for the removal of the full notebook cells\nvar notebookContainer = gd.closest('#notebook-container');\nif (notebookContainer) {{\n    x.observe(notebookContainer, {childList: true});\n}}\n\n// Listen for the clearing of the current output cell\nvar outputEl = gd.closest('.output');\nif (outputEl) {{\n    x.observe(outputEl, {childList: true});\n}}\n\n                        })                };                });            </script>        </div>"
     },
     "metadata": {},
     "output_type": "display_data"
    }
   ],
   "source": [
    "fig = px.choropleth(df, locations='Countries and areas', locationmode='country names',\n",
    "                    color='Unemployment_Rate', range_color=[0, 100],\n",
    "                    title='Unemployment Rates Across Countries')\n",
    "fig.update_layout(xaxis_tickangle=-45)\n",
    "fig.show()"
   ],
   "metadata": {
    "collapsed": false,
    "ExecuteTime": {
     "end_time": "2024-01-30T11:22:24.656586900Z",
     "start_time": "2024-01-30T11:22:23.660237400Z"
    }
   },
   "id": "9b59275097501d51"
  },
  {
   "cell_type": "markdown",
   "source": [
    "# Unemployment vs. Proficiency"
   ],
   "metadata": {
    "collapsed": false
   },
   "id": "7137b88b1103f74c"
  },
  {
   "cell_type": "code",
   "execution_count": 13,
   "outputs": [
    {
     "data": {
      "application/vnd.plotly.v1+json": {
       "data": [
        {
         "hovertemplate": "Countries and areas=Afghanistan<br>Unemployment_Rate=%{x}<br>Grade_2_3_Proficiency_Reading=%{y}<br>Grade_2_3_Proficiency_Math=%{z}<extra></extra>",
         "legendgroup": "Afghanistan",
         "marker": {
          "color": "#636efa",
          "symbol": "circle"
         },
         "mode": "markers",
         "name": "Afghanistan",
         "scene": "scene",
         "showlegend": true,
         "x": [
          11.12
         ],
         "y": [
          22
         ],
         "z": [
          25
         ],
         "type": "scatter3d"
        },
        {
         "hovertemplate": "Countries and areas=Albania<br>Unemployment_Rate=%{x}<br>Grade_2_3_Proficiency_Reading=%{y}<br>Grade_2_3_Proficiency_Math=%{z}<extra></extra>",
         "legendgroup": "Albania",
         "marker": {
          "color": "#EF553B",
          "symbol": "circle"
         },
         "mode": "markers",
         "name": "Albania",
         "scene": "scene",
         "showlegend": true,
         "x": [
          12.33
         ],
         "y": [
          0
         ],
         "z": [
          0
         ],
         "type": "scatter3d"
        },
        {
         "hovertemplate": "Countries and areas=Algeria<br>Unemployment_Rate=%{x}<br>Grade_2_3_Proficiency_Reading=%{y}<br>Grade_2_3_Proficiency_Math=%{z}<extra></extra>",
         "legendgroup": "Algeria",
         "marker": {
          "color": "#00cc96",
          "symbol": "circle"
         },
         "mode": "markers",
         "name": "Algeria",
         "scene": "scene",
         "showlegend": true,
         "x": [
          11.7
         ],
         "y": [
          0
         ],
         "z": [
          0
         ],
         "type": "scatter3d"
        },
        {
         "hovertemplate": "Countries and areas=Andorra<br>Unemployment_Rate=%{x}<br>Grade_2_3_Proficiency_Reading=%{y}<br>Grade_2_3_Proficiency_Math=%{z}<extra></extra>",
         "legendgroup": "Andorra",
         "marker": {
          "color": "#ab63fa",
          "symbol": "circle"
         },
         "mode": "markers",
         "name": "Andorra",
         "scene": "scene",
         "showlegend": true,
         "x": [
          0.0
         ],
         "y": [
          0
         ],
         "z": [
          0
         ],
         "type": "scatter3d"
        },
        {
         "hovertemplate": "Countries and areas=Angola<br>Unemployment_Rate=%{x}<br>Grade_2_3_Proficiency_Reading=%{y}<br>Grade_2_3_Proficiency_Math=%{z}<extra></extra>",
         "legendgroup": "Angola",
         "marker": {
          "color": "#FFA15A",
          "symbol": "circle"
         },
         "mode": "markers",
         "name": "Angola",
         "scene": "scene",
         "showlegend": true,
         "x": [
          6.89
         ],
         "y": [
          0
         ],
         "z": [
          0
         ],
         "type": "scatter3d"
        },
        {
         "hovertemplate": "Countries and areas=Anguilla<br>Unemployment_Rate=%{x}<br>Grade_2_3_Proficiency_Reading=%{y}<br>Grade_2_3_Proficiency_Math=%{z}<extra></extra>",
         "legendgroup": "Anguilla",
         "marker": {
          "color": "#19d3f3",
          "symbol": "circle"
         },
         "mode": "markers",
         "name": "Anguilla",
         "scene": "scene",
         "showlegend": true,
         "x": [
          0.0
         ],
         "y": [
          0
         ],
         "z": [
          0
         ],
         "type": "scatter3d"
        },
        {
         "hovertemplate": "Countries and areas=Antigua and Barbuda<br>Unemployment_Rate=%{x}<br>Grade_2_3_Proficiency_Reading=%{y}<br>Grade_2_3_Proficiency_Math=%{z}<extra></extra>",
         "legendgroup": "Antigua and Barbuda",
         "marker": {
          "color": "#FF6692",
          "symbol": "circle"
         },
         "mode": "markers",
         "name": "Antigua and Barbuda",
         "scene": "scene",
         "showlegend": true,
         "x": [
          0.0
         ],
         "y": [
          0
         ],
         "z": [
          0
         ],
         "type": "scatter3d"
        },
        {
         "hovertemplate": "Countries and areas=Argentina<br>Unemployment_Rate=%{x}<br>Grade_2_3_Proficiency_Reading=%{y}<br>Grade_2_3_Proficiency_Math=%{z}<extra></extra>",
         "legendgroup": "Argentina",
         "marker": {
          "color": "#B6E880",
          "symbol": "circle"
         },
         "mode": "markers",
         "name": "Argentina",
         "scene": "scene",
         "showlegend": true,
         "x": [
          9.79
         ],
         "y": [
          76
         ],
         "z": [
          71
         ],
         "type": "scatter3d"
        },
        {
         "hovertemplate": "Countries and areas=Armenia<br>Unemployment_Rate=%{x}<br>Grade_2_3_Proficiency_Reading=%{y}<br>Grade_2_3_Proficiency_Math=%{z}<extra></extra>",
         "legendgroup": "Armenia",
         "marker": {
          "color": "#FF97FF",
          "symbol": "circle"
         },
         "mode": "markers",
         "name": "Armenia",
         "scene": "scene",
         "showlegend": true,
         "x": [
          16.99
         ],
         "y": [
          0
         ],
         "z": [
          0
         ],
         "type": "scatter3d"
        },
        {
         "hovertemplate": "Countries and areas=Australia<br>Unemployment_Rate=%{x}<br>Grade_2_3_Proficiency_Reading=%{y}<br>Grade_2_3_Proficiency_Math=%{z}<extra></extra>",
         "legendgroup": "Australia",
         "marker": {
          "color": "#FECB52",
          "symbol": "circle"
         },
         "mode": "markers",
         "name": "Australia",
         "scene": "scene",
         "showlegend": true,
         "x": [
          5.27
         ],
         "y": [
          94
         ],
         "z": [
          70
         ],
         "type": "scatter3d"
        },
        {
         "hovertemplate": "Countries and areas=Austria<br>Unemployment_Rate=%{x}<br>Grade_2_3_Proficiency_Reading=%{y}<br>Grade_2_3_Proficiency_Math=%{z}<extra></extra>",
         "legendgroup": "Austria",
         "marker": {
          "color": "#636efa",
          "symbol": "circle"
         },
         "mode": "markers",
         "name": "Austria",
         "scene": "scene",
         "showlegend": true,
         "x": [
          4.67
         ],
         "y": [
          0
         ],
         "z": [
          0
         ],
         "type": "scatter3d"
        },
        {
         "hovertemplate": "Countries and areas=Azerbaijan<br>Unemployment_Rate=%{x}<br>Grade_2_3_Proficiency_Reading=%{y}<br>Grade_2_3_Proficiency_Math=%{z}<extra></extra>",
         "legendgroup": "Azerbaijan",
         "marker": {
          "color": "#EF553B",
          "symbol": "circle"
         },
         "mode": "markers",
         "name": "Azerbaijan",
         "scene": "scene",
         "showlegend": true,
         "x": [
          5.51
         ],
         "y": [
          0
         ],
         "z": [
          0
         ],
         "type": "scatter3d"
        },
        {
         "hovertemplate": "Countries and areas=The Bahamas<br>Unemployment_Rate=%{x}<br>Grade_2_3_Proficiency_Reading=%{y}<br>Grade_2_3_Proficiency_Math=%{z}<extra></extra>",
         "legendgroup": "The Bahamas",
         "marker": {
          "color": "#00cc96",
          "symbol": "circle"
         },
         "mode": "markers",
         "name": "The Bahamas",
         "scene": "scene",
         "showlegend": true,
         "x": [
          10.36
         ],
         "y": [
          0
         ],
         "z": [
          0
         ],
         "type": "scatter3d"
        },
        {
         "hovertemplate": "Countries and areas=Bahrain<br>Unemployment_Rate=%{x}<br>Grade_2_3_Proficiency_Reading=%{y}<br>Grade_2_3_Proficiency_Math=%{z}<extra></extra>",
         "legendgroup": "Bahrain",
         "marker": {
          "color": "#ab63fa",
          "symbol": "circle"
         },
         "mode": "markers",
         "name": "Bahrain",
         "scene": "scene",
         "showlegend": true,
         "x": [
          0.71
         ],
         "y": [
          69
         ],
         "z": [
          40
         ],
         "type": "scatter3d"
        },
        {
         "hovertemplate": "Countries and areas=Bangladesh<br>Unemployment_Rate=%{x}<br>Grade_2_3_Proficiency_Reading=%{y}<br>Grade_2_3_Proficiency_Math=%{z}<extra></extra>",
         "legendgroup": "Bangladesh",
         "marker": {
          "color": "#FFA15A",
          "symbol": "circle"
         },
         "mode": "markers",
         "name": "Bangladesh",
         "scene": "scene",
         "showlegend": true,
         "x": [
          4.19
         ],
         "y": [
          47
         ],
         "z": [
          34
         ],
         "type": "scatter3d"
        },
        {
         "hovertemplate": "Countries and areas=Barbados<br>Unemployment_Rate=%{x}<br>Grade_2_3_Proficiency_Reading=%{y}<br>Grade_2_3_Proficiency_Math=%{z}<extra></extra>",
         "legendgroup": "Barbados",
         "marker": {
          "color": "#19d3f3",
          "symbol": "circle"
         },
         "mode": "markers",
         "name": "Barbados",
         "scene": "scene",
         "showlegend": true,
         "x": [
          10.33
         ],
         "y": [
          0
         ],
         "z": [
          0
         ],
         "type": "scatter3d"
        },
        {
         "hovertemplate": "Countries and areas=Belarus<br>Unemployment_Rate=%{x}<br>Grade_2_3_Proficiency_Reading=%{y}<br>Grade_2_3_Proficiency_Math=%{z}<extra></extra>",
         "legendgroup": "Belarus",
         "marker": {
          "color": "#FF6692",
          "symbol": "circle"
         },
         "mode": "markers",
         "name": "Belarus",
         "scene": "scene",
         "showlegend": true,
         "x": [
          4.59
         ],
         "y": [
          0
         ],
         "z": [
          0
         ],
         "type": "scatter3d"
        },
        {
         "hovertemplate": "Countries and areas=Belgium<br>Unemployment_Rate=%{x}<br>Grade_2_3_Proficiency_Reading=%{y}<br>Grade_2_3_Proficiency_Math=%{z}<extra></extra>",
         "legendgroup": "Belgium",
         "marker": {
          "color": "#B6E880",
          "symbol": "circle"
         },
         "mode": "markers",
         "name": "Belgium",
         "scene": "scene",
         "showlegend": true,
         "x": [
          5.59
         ],
         "y": [
          0
         ],
         "z": [
          0
         ],
         "type": "scatter3d"
        },
        {
         "hovertemplate": "Countries and areas=Belize<br>Unemployment_Rate=%{x}<br>Grade_2_3_Proficiency_Reading=%{y}<br>Grade_2_3_Proficiency_Math=%{z}<extra></extra>",
         "legendgroup": "Belize",
         "marker": {
          "color": "#FF97FF",
          "symbol": "circle"
         },
         "mode": "markers",
         "name": "Belize",
         "scene": "scene",
         "showlegend": true,
         "x": [
          6.41
         ],
         "y": [
          0
         ],
         "z": [
          0
         ],
         "type": "scatter3d"
        },
        {
         "hovertemplate": "Countries and areas=Benin<br>Unemployment_Rate=%{x}<br>Grade_2_3_Proficiency_Reading=%{y}<br>Grade_2_3_Proficiency_Math=%{z}<extra></extra>",
         "legendgroup": "Benin",
         "marker": {
          "color": "#FECB52",
          "symbol": "circle"
         },
         "mode": "markers",
         "name": "Benin",
         "scene": "scene",
         "showlegend": true,
         "x": [
          2.23
         ],
         "y": [
          9
         ],
         "z": [
          34
         ],
         "type": "scatter3d"
        },
        {
         "hovertemplate": "Countries and areas=Bhutan<br>Unemployment_Rate=%{x}<br>Grade_2_3_Proficiency_Reading=%{y}<br>Grade_2_3_Proficiency_Math=%{z}<extra></extra>",
         "legendgroup": "Bhutan",
         "marker": {
          "color": "#636efa",
          "symbol": "circle"
         },
         "mode": "markers",
         "name": "Bhutan",
         "scene": "scene",
         "showlegend": true,
         "x": [
          2.34
         ],
         "y": [
          0
         ],
         "z": [
          0
         ],
         "type": "scatter3d"
        },
        {
         "hovertemplate": "Countries and areas=Bolivia<br>Unemployment_Rate=%{x}<br>Grade_2_3_Proficiency_Reading=%{y}<br>Grade_2_3_Proficiency_Math=%{z}<extra></extra>",
         "legendgroup": "Bolivia",
         "marker": {
          "color": "#EF553B",
          "symbol": "circle"
         },
         "mode": "markers",
         "name": "Bolivia",
         "scene": "scene",
         "showlegend": true,
         "x": [
          3.5
         ],
         "y": [
          0
         ],
         "z": [
          0
         ],
         "type": "scatter3d"
        },
        {
         "hovertemplate": "Countries and areas=Bosnia and Herzegovina<br>Unemployment_Rate=%{x}<br>Grade_2_3_Proficiency_Reading=%{y}<br>Grade_2_3_Proficiency_Math=%{z}<extra></extra>",
         "legendgroup": "Bosnia and Herzegovina",
         "marker": {
          "color": "#00cc96",
          "symbol": "circle"
         },
         "mode": "markers",
         "name": "Bosnia and Herzegovina",
         "scene": "scene",
         "showlegend": true,
         "x": [
          18.42
         ],
         "y": [
          0
         ],
         "z": [
          0
         ],
         "type": "scatter3d"
        },
        {
         "hovertemplate": "Countries and areas=Botswana<br>Unemployment_Rate=%{x}<br>Grade_2_3_Proficiency_Reading=%{y}<br>Grade_2_3_Proficiency_Math=%{z}<extra></extra>",
         "legendgroup": "Botswana",
         "marker": {
          "color": "#ab63fa",
          "symbol": "circle"
         },
         "mode": "markers",
         "name": "Botswana",
         "scene": "scene",
         "showlegend": true,
         "x": [
          18.19
         ],
         "y": [
          0
         ],
         "z": [
          0
         ],
         "type": "scatter3d"
        },
        {
         "hovertemplate": "Countries and areas=Brazil<br>Unemployment_Rate=%{x}<br>Grade_2_3_Proficiency_Reading=%{y}<br>Grade_2_3_Proficiency_Math=%{z}<extra></extra>",
         "legendgroup": "Brazil",
         "marker": {
          "color": "#FFA15A",
          "symbol": "circle"
         },
         "mode": "markers",
         "name": "Brazil",
         "scene": "scene",
         "showlegend": true,
         "x": [
          12.08
         ],
         "y": [
          80
         ],
         "z": [
          71
         ],
         "type": "scatter3d"
        },
        {
         "hovertemplate": "Countries and areas=British Virgin Islands<br>Unemployment_Rate=%{x}<br>Grade_2_3_Proficiency_Reading=%{y}<br>Grade_2_3_Proficiency_Math=%{z}<extra></extra>",
         "legendgroup": "British Virgin Islands",
         "marker": {
          "color": "#19d3f3",
          "symbol": "circle"
         },
         "mode": "markers",
         "name": "British Virgin Islands",
         "scene": "scene",
         "showlegend": true,
         "x": [
          0.0
         ],
         "y": [
          0
         ],
         "z": [
          0
         ],
         "type": "scatter3d"
        },
        {
         "hovertemplate": "Countries and areas=Brunei<br>Unemployment_Rate=%{x}<br>Grade_2_3_Proficiency_Reading=%{y}<br>Grade_2_3_Proficiency_Math=%{z}<extra></extra>",
         "legendgroup": "Brunei",
         "marker": {
          "color": "#FF6692",
          "symbol": "circle"
         },
         "mode": "markers",
         "name": "Brunei",
         "scene": "scene",
         "showlegend": true,
         "x": [
          9.12
         ],
         "y": [
          0
         ],
         "z": [
          0
         ],
         "type": "scatter3d"
        },
        {
         "hovertemplate": "Countries and areas=Bulgaria<br>Unemployment_Rate=%{x}<br>Grade_2_3_Proficiency_Reading=%{y}<br>Grade_2_3_Proficiency_Math=%{z}<extra></extra>",
         "legendgroup": "Bulgaria",
         "marker": {
          "color": "#B6E880",
          "symbol": "circle"
         },
         "mode": "markers",
         "name": "Bulgaria",
         "scene": "scene",
         "showlegend": true,
         "x": [
          4.34
         ],
         "y": [
          0
         ],
         "z": [
          0
         ],
         "type": "scatter3d"
        },
        {
         "hovertemplate": "Countries and areas=Burkina Faso<br>Unemployment_Rate=%{x}<br>Grade_2_3_Proficiency_Reading=%{y}<br>Grade_2_3_Proficiency_Math=%{z}<extra></extra>",
         "legendgroup": "Burkina Faso",
         "marker": {
          "color": "#FF97FF",
          "symbol": "circle"
         },
         "mode": "markers",
         "name": "Burkina Faso",
         "scene": "scene",
         "showlegend": true,
         "x": [
          6.26
         ],
         "y": [
          36
         ],
         "z": [
          59
         ],
         "type": "scatter3d"
        },
        {
         "hovertemplate": "Countries and areas=Burundi<br>Unemployment_Rate=%{x}<br>Grade_2_3_Proficiency_Reading=%{y}<br>Grade_2_3_Proficiency_Math=%{z}<extra></extra>",
         "legendgroup": "Burundi",
         "marker": {
          "color": "#FECB52",
          "symbol": "circle"
         },
         "mode": "markers",
         "name": "Burundi",
         "scene": "scene",
         "showlegend": true,
         "x": [
          1.43
         ],
         "y": [
          79
         ],
         "z": [
          97
         ],
         "type": "scatter3d"
        },
        {
         "hovertemplate": "Countries and areas=Cape Verde<br>Unemployment_Rate=%{x}<br>Grade_2_3_Proficiency_Reading=%{y}<br>Grade_2_3_Proficiency_Math=%{z}<extra></extra>",
         "legendgroup": "Cape Verde",
         "marker": {
          "color": "#636efa",
          "symbol": "circle"
         },
         "mode": "markers",
         "name": "Cape Verde",
         "scene": "scene",
         "showlegend": true,
         "x": [
          12.25
         ],
         "y": [
          0
         ],
         "z": [
          0
         ],
         "type": "scatter3d"
        },
        {
         "hovertemplate": "Countries and areas=Cambodia<br>Unemployment_Rate=%{x}<br>Grade_2_3_Proficiency_Reading=%{y}<br>Grade_2_3_Proficiency_Math=%{z}<extra></extra>",
         "legendgroup": "Cambodia",
         "marker": {
          "color": "#EF553B",
          "symbol": "circle"
         },
         "mode": "markers",
         "name": "Cambodia",
         "scene": "scene",
         "showlegend": true,
         "x": [
          0.68
         ],
         "y": [
          0
         ],
         "z": [
          0
         ],
         "type": "scatter3d"
        },
        {
         "hovertemplate": "Countries and areas=Cameroon<br>Unemployment_Rate=%{x}<br>Grade_2_3_Proficiency_Reading=%{y}<br>Grade_2_3_Proficiency_Math=%{z}<extra></extra>",
         "legendgroup": "Cameroon",
         "marker": {
          "color": "#00cc96",
          "symbol": "circle"
         },
         "mode": "markers",
         "name": "Cameroon",
         "scene": "scene",
         "showlegend": true,
         "x": [
          3.38
         ],
         "y": [
          30
         ],
         "z": [
          57
         ],
         "type": "scatter3d"
        },
        {
         "hovertemplate": "Countries and areas=Canada<br>Unemployment_Rate=%{x}<br>Grade_2_3_Proficiency_Reading=%{y}<br>Grade_2_3_Proficiency_Math=%{z}<extra></extra>",
         "legendgroup": "Canada",
         "marker": {
          "color": "#ab63fa",
          "symbol": "circle"
         },
         "mode": "markers",
         "name": "Canada",
         "scene": "scene",
         "showlegend": true,
         "x": [
          5.56
         ],
         "y": [
          96
         ],
         "z": [
          69
         ],
         "type": "scatter3d"
        },
        {
         "hovertemplate": "Countries and areas=Central African Republic<br>Unemployment_Rate=%{x}<br>Grade_2_3_Proficiency_Reading=%{y}<br>Grade_2_3_Proficiency_Math=%{z}<extra></extra>",
         "legendgroup": "Central African Republic",
         "marker": {
          "color": "#FFA15A",
          "symbol": "circle"
         },
         "mode": "markers",
         "name": "Central African Republic",
         "scene": "scene",
         "showlegend": true,
         "x": [
          3.68
         ],
         "y": [
          0
         ],
         "z": [
          0
         ],
         "type": "scatter3d"
        },
        {
         "hovertemplate": "Countries and areas=Chad<br>Unemployment_Rate=%{x}<br>Grade_2_3_Proficiency_Reading=%{y}<br>Grade_2_3_Proficiency_Math=%{z}<extra></extra>",
         "legendgroup": "Chad",
         "marker": {
          "color": "#19d3f3",
          "symbol": "circle"
         },
         "mode": "markers",
         "name": "Chad",
         "scene": "scene",
         "showlegend": true,
         "x": [
          1.89
         ],
         "y": [
          18
         ],
         "z": [
          48
         ],
         "type": "scatter3d"
        },
        {
         "hovertemplate": "Countries and areas=Chile<br>Unemployment_Rate=%{x}<br>Grade_2_3_Proficiency_Reading=%{y}<br>Grade_2_3_Proficiency_Math=%{z}<extra></extra>",
         "legendgroup": "Chile",
         "marker": {
          "color": "#FF6692",
          "symbol": "circle"
         },
         "mode": "markers",
         "name": "Chile",
         "scene": "scene",
         "showlegend": true,
         "x": [
          7.09
         ],
         "y": [
          94
         ],
         "z": [
          90
         ],
         "type": "scatter3d"
        },
        {
         "hovertemplate": "Countries and areas=China<br>Unemployment_Rate=%{x}<br>Grade_2_3_Proficiency_Reading=%{y}<br>Grade_2_3_Proficiency_Math=%{z}<extra></extra>",
         "legendgroup": "China",
         "marker": {
          "color": "#B6E880",
          "symbol": "circle"
         },
         "mode": "markers",
         "name": "China",
         "scene": "scene",
         "showlegend": true,
         "x": [
          4.32
         ],
         "y": [
          82
         ],
         "z": [
          85
         ],
         "type": "scatter3d"
        },
        {
         "hovertemplate": "Countries and areas=Colombia<br>Unemployment_Rate=%{x}<br>Grade_2_3_Proficiency_Reading=%{y}<br>Grade_2_3_Proficiency_Math=%{z}<extra></extra>",
         "legendgroup": "Colombia",
         "marker": {
          "color": "#FF97FF",
          "symbol": "circle"
         },
         "mode": "markers",
         "name": "Colombia",
         "scene": "scene",
         "showlegend": true,
         "x": [
          9.71
         ],
         "y": [
          79
         ],
         "z": [
          64
         ],
         "type": "scatter3d"
        },
        {
         "hovertemplate": "Countries and areas=Comoros<br>Unemployment_Rate=%{x}<br>Grade_2_3_Proficiency_Reading=%{y}<br>Grade_2_3_Proficiency_Math=%{z}<extra></extra>",
         "legendgroup": "Comoros",
         "marker": {
          "color": "#FECB52",
          "symbol": "circle"
         },
         "mode": "markers",
         "name": "Comoros",
         "scene": "scene",
         "showlegend": true,
         "x": [
          4.34
         ],
         "y": [
          0
         ],
         "z": [
          0
         ],
         "type": "scatter3d"
        },
        {
         "hovertemplate": "Countries and areas=Republic of the Congo<br>Unemployment_Rate=%{x}<br>Grade_2_3_Proficiency_Reading=%{y}<br>Grade_2_3_Proficiency_Math=%{z}<extra></extra>",
         "legendgroup": "Republic of the Congo",
         "marker": {
          "color": "#636efa",
          "symbol": "circle"
         },
         "mode": "markers",
         "name": "Republic of the Congo",
         "scene": "scene",
         "showlegend": true,
         "x": [
          9.47
         ],
         "y": [
          38
         ],
         "z": [
          72
         ],
         "type": "scatter3d"
        },
        {
         "hovertemplate": "Countries and areas=Cook Islands<br>Unemployment_Rate=%{x}<br>Grade_2_3_Proficiency_Reading=%{y}<br>Grade_2_3_Proficiency_Math=%{z}<extra></extra>",
         "legendgroup": "Cook Islands",
         "marker": {
          "color": "#EF553B",
          "symbol": "circle"
         },
         "mode": "markers",
         "name": "Cook Islands",
         "scene": "scene",
         "showlegend": true,
         "x": [
          0.0
         ],
         "y": [
          0
         ],
         "z": [
          0
         ],
         "type": "scatter3d"
        },
        {
         "hovertemplate": "Countries and areas=Costa Rica<br>Unemployment_Rate=%{x}<br>Grade_2_3_Proficiency_Reading=%{y}<br>Grade_2_3_Proficiency_Math=%{z}<extra></extra>",
         "legendgroup": "Costa Rica",
         "marker": {
          "color": "#00cc96",
          "symbol": "circle"
         },
         "mode": "markers",
         "name": "Costa Rica",
         "scene": "scene",
         "showlegend": true,
         "x": [
          11.85
         ],
         "y": [
          89
         ],
         "z": [
          84
         ],
         "type": "scatter3d"
        },
        {
         "hovertemplate": "Countries and areas=Ivory Coast<br>Unemployment_Rate=%{x}<br>Grade_2_3_Proficiency_Reading=%{y}<br>Grade_2_3_Proficiency_Math=%{z}<extra></extra>",
         "legendgroup": "Ivory Coast",
         "marker": {
          "color": "#ab63fa",
          "symbol": "circle"
         },
         "mode": "markers",
         "name": "Ivory Coast",
         "scene": "scene",
         "showlegend": true,
         "x": [
          3.32
         ],
         "y": [
          17
         ],
         "z": [
          33
         ],
         "type": "scatter3d"
        },
        {
         "hovertemplate": "Countries and areas=Croatia<br>Unemployment_Rate=%{x}<br>Grade_2_3_Proficiency_Reading=%{y}<br>Grade_2_3_Proficiency_Math=%{z}<extra></extra>",
         "legendgroup": "Croatia",
         "marker": {
          "color": "#FFA15A",
          "symbol": "circle"
         },
         "mode": "markers",
         "name": "Croatia",
         "scene": "scene",
         "showlegend": true,
         "x": [
          6.93
         ],
         "y": [
          0
         ],
         "z": [
          0
         ],
         "type": "scatter3d"
        },
        {
         "hovertemplate": "Countries and areas=Cuba<br>Unemployment_Rate=%{x}<br>Grade_2_3_Proficiency_Reading=%{y}<br>Grade_2_3_Proficiency_Math=%{z}<extra></extra>",
         "legendgroup": "Cuba",
         "marker": {
          "color": "#19d3f3",
          "symbol": "circle"
         },
         "mode": "markers",
         "name": "Cuba",
         "scene": "scene",
         "showlegend": true,
         "x": [
          1.64
         ],
         "y": [
          0
         ],
         "z": [
          0
         ],
         "type": "scatter3d"
        },
        {
         "hovertemplate": "Countries and areas=Cyprus<br>Unemployment_Rate=%{x}<br>Grade_2_3_Proficiency_Reading=%{y}<br>Grade_2_3_Proficiency_Math=%{z}<extra></extra>",
         "legendgroup": "Cyprus",
         "marker": {
          "color": "#FF6692",
          "symbol": "circle"
         },
         "mode": "markers",
         "name": "Cyprus",
         "scene": "scene",
         "showlegend": true,
         "x": [
          7.27
         ],
         "y": [
          0
         ],
         "z": [
          74
         ],
         "type": "scatter3d"
        },
        {
         "hovertemplate": "Countries and areas=Czech Republic<br>Unemployment_Rate=%{x}<br>Grade_2_3_Proficiency_Reading=%{y}<br>Grade_2_3_Proficiency_Math=%{z}<extra></extra>",
         "legendgroup": "Czech Republic",
         "marker": {
          "color": "#B6E880",
          "symbol": "circle"
         },
         "mode": "markers",
         "name": "Czech Republic",
         "scene": "scene",
         "showlegend": true,
         "x": [
          1.93
         ],
         "y": [
          97
         ],
         "z": [
          78
         ],
         "type": "scatter3d"
        },
        {
         "hovertemplate": "Countries and areas=North Korea<br>Unemployment_Rate=%{x}<br>Grade_2_3_Proficiency_Reading=%{y}<br>Grade_2_3_Proficiency_Math=%{z}<extra></extra>",
         "legendgroup": "North Korea",
         "marker": {
          "color": "#FF97FF",
          "symbol": "circle"
         },
         "mode": "markers",
         "name": "North Korea",
         "scene": "scene",
         "showlegend": true,
         "x": [
          2.74
         ],
         "y": [
          94
         ],
         "z": [
          0
         ],
         "type": "scatter3d"
        },
        {
         "hovertemplate": "Countries and areas=Democratic Republic of the Congo<br>Unemployment_Rate=%{x}<br>Grade_2_3_Proficiency_Reading=%{y}<br>Grade_2_3_Proficiency_Math=%{z}<extra></extra>",
         "legendgroup": "Democratic Republic of the Congo",
         "marker": {
          "color": "#FECB52",
          "symbol": "circle"
         },
         "mode": "markers",
         "name": "Democratic Republic of the Congo",
         "scene": "scene",
         "showlegend": true,
         "x": [
          4.24
         ],
         "y": [
          0
         ],
         "z": [
          0
         ],
         "type": "scatter3d"
        },
        {
         "hovertemplate": "Countries and areas=Denmark<br>Unemployment_Rate=%{x}<br>Grade_2_3_Proficiency_Reading=%{y}<br>Grade_2_3_Proficiency_Math=%{z}<extra></extra>",
         "legendgroup": "Denmark",
         "marker": {
          "color": "#636efa",
          "symbol": "circle"
         },
         "mode": "markers",
         "name": "Denmark",
         "scene": "scene",
         "showlegend": true,
         "x": [
          4.91
         ],
         "y": [
          97
         ],
         "z": [
          80
         ],
         "type": "scatter3d"
        },
        {
         "hovertemplate": "Countries and areas=Djibouti<br>Unemployment_Rate=%{x}<br>Grade_2_3_Proficiency_Reading=%{y}<br>Grade_2_3_Proficiency_Math=%{z}<extra></extra>",
         "legendgroup": "Djibouti",
         "marker": {
          "color": "#EF553B",
          "symbol": "circle"
         },
         "mode": "markers",
         "name": "Djibouti",
         "scene": "scene",
         "showlegend": true,
         "x": [
          10.3
         ],
         "y": [
          0
         ],
         "z": [
          0
         ],
         "type": "scatter3d"
        },
        {
         "hovertemplate": "Countries and areas=Dominica<br>Unemployment_Rate=%{x}<br>Grade_2_3_Proficiency_Reading=%{y}<br>Grade_2_3_Proficiency_Math=%{z}<extra></extra>",
         "legendgroup": "Dominica",
         "marker": {
          "color": "#00cc96",
          "symbol": "circle"
         },
         "mode": "markers",
         "name": "Dominica",
         "scene": "scene",
         "showlegend": true,
         "x": [
          0.0
         ],
         "y": [
          0
         ],
         "z": [
          0
         ],
         "type": "scatter3d"
        },
        {
         "hovertemplate": "Countries and areas=Dominican Republic<br>Unemployment_Rate=%{x}<br>Grade_2_3_Proficiency_Reading=%{y}<br>Grade_2_3_Proficiency_Math=%{z}<extra></extra>",
         "legendgroup": "Dominican Republic",
         "marker": {
          "color": "#ab63fa",
          "symbol": "circle"
         },
         "mode": "markers",
         "name": "Dominican Republic",
         "scene": "scene",
         "showlegend": true,
         "x": [
          5.84
         ],
         "y": [
          44
         ],
         "z": [
          25
         ],
         "type": "scatter3d"
        },
        {
         "hovertemplate": "Countries and areas=Ecuador<br>Unemployment_Rate=%{x}<br>Grade_2_3_Proficiency_Reading=%{y}<br>Grade_2_3_Proficiency_Math=%{z}<extra></extra>",
         "legendgroup": "Ecuador",
         "marker": {
          "color": "#FFA15A",
          "symbol": "circle"
         },
         "mode": "markers",
         "name": "Ecuador",
         "scene": "scene",
         "showlegend": true,
         "x": [
          3.97
         ],
         "y": [
          74
         ],
         "z": [
          65
         ],
         "type": "scatter3d"
        },
        {
         "hovertemplate": "Countries and areas=Egypt<br>Unemployment_Rate=%{x}<br>Grade_2_3_Proficiency_Reading=%{y}<br>Grade_2_3_Proficiency_Math=%{z}<extra></extra>",
         "legendgroup": "Egypt",
         "marker": {
          "color": "#19d3f3",
          "symbol": "circle"
         },
         "mode": "markers",
         "name": "Egypt",
         "scene": "scene",
         "showlegend": true,
         "x": [
          10.76
         ],
         "y": [
          0
         ],
         "z": [
          0
         ],
         "type": "scatter3d"
        },
        {
         "hovertemplate": "Countries and areas=El Salvador<br>Unemployment_Rate=%{x}<br>Grade_2_3_Proficiency_Reading=%{y}<br>Grade_2_3_Proficiency_Math=%{z}<extra></extra>",
         "legendgroup": "El Salvador",
         "marker": {
          "color": "#FF6692",
          "symbol": "circle"
         },
         "mode": "markers",
         "name": "El Salvador",
         "scene": "scene",
         "showlegend": true,
         "x": [
          4.11
         ],
         "y": [
          0
         ],
         "z": [
          0
         ],
         "type": "scatter3d"
        },
        {
         "hovertemplate": "Countries and areas=Equatorial Guinea<br>Unemployment_Rate=%{x}<br>Grade_2_3_Proficiency_Reading=%{y}<br>Grade_2_3_Proficiency_Math=%{z}<extra></extra>",
         "legendgroup": "Equatorial Guinea",
         "marker": {
          "color": "#B6E880",
          "symbol": "circle"
         },
         "mode": "markers",
         "name": "Equatorial Guinea",
         "scene": "scene",
         "showlegend": true,
         "x": [
          6.43
         ],
         "y": [
          0
         ],
         "z": [
          0
         ],
         "type": "scatter3d"
        },
        {
         "hovertemplate": "Countries and areas=Eritrea<br>Unemployment_Rate=%{x}<br>Grade_2_3_Proficiency_Reading=%{y}<br>Grade_2_3_Proficiency_Math=%{z}<extra></extra>",
         "legendgroup": "Eritrea",
         "marker": {
          "color": "#FF97FF",
          "symbol": "circle"
         },
         "mode": "markers",
         "name": "Eritrea",
         "scene": "scene",
         "showlegend": true,
         "x": [
          5.14
         ],
         "y": [
          0
         ],
         "z": [
          0
         ],
         "type": "scatter3d"
        },
        {
         "hovertemplate": "Countries and areas=Estonia<br>Unemployment_Rate=%{x}<br>Grade_2_3_Proficiency_Reading=%{y}<br>Grade_2_3_Proficiency_Math=%{z}<extra></extra>",
         "legendgroup": "Estonia",
         "marker": {
          "color": "#FECB52",
          "symbol": "circle"
         },
         "mode": "markers",
         "name": "Estonia",
         "scene": "scene",
         "showlegend": true,
         "x": [
          5.11
         ],
         "y": [
          0
         ],
         "z": [
          0
         ],
         "type": "scatter3d"
        },
        {
         "hovertemplate": "Countries and areas=Eswatini<br>Unemployment_Rate=%{x}<br>Grade_2_3_Proficiency_Reading=%{y}<br>Grade_2_3_Proficiency_Math=%{z}<extra></extra>",
         "legendgroup": "Eswatini",
         "marker": {
          "color": "#636efa",
          "symbol": "circle"
         },
         "mode": "markers",
         "name": "Eswatini",
         "scene": "scene",
         "showlegend": true,
         "x": [
          0.0
         ],
         "y": [
          0
         ],
         "z": [
          0
         ],
         "type": "scatter3d"
        },
        {
         "hovertemplate": "Countries and areas=Ethiopia<br>Unemployment_Rate=%{x}<br>Grade_2_3_Proficiency_Reading=%{y}<br>Grade_2_3_Proficiency_Math=%{z}<extra></extra>",
         "legendgroup": "Ethiopia",
         "marker": {
          "color": "#EF553B",
          "symbol": "circle"
         },
         "mode": "markers",
         "name": "Ethiopia",
         "scene": "scene",
         "showlegend": true,
         "x": [
          2.08
         ],
         "y": [
          0
         ],
         "z": [
          0
         ],
         "type": "scatter3d"
        },
        {
         "hovertemplate": "Countries and areas=Fiji<br>Unemployment_Rate=%{x}<br>Grade_2_3_Proficiency_Reading=%{y}<br>Grade_2_3_Proficiency_Math=%{z}<extra></extra>",
         "legendgroup": "Fiji",
         "marker": {
          "color": "#00cc96",
          "symbol": "circle"
         },
         "mode": "markers",
         "name": "Fiji",
         "scene": "scene",
         "showlegend": true,
         "x": [
          4.1
         ],
         "y": [
          0
         ],
         "z": [
          0
         ],
         "type": "scatter3d"
        },
        {
         "hovertemplate": "Countries and areas=Finland<br>Unemployment_Rate=%{x}<br>Grade_2_3_Proficiency_Reading=%{y}<br>Grade_2_3_Proficiency_Math=%{z}<extra></extra>",
         "legendgroup": "Finland",
         "marker": {
          "color": "#ab63fa",
          "symbol": "circle"
         },
         "mode": "markers",
         "name": "Finland",
         "scene": "scene",
         "showlegend": true,
         "x": [
          6.59
         ],
         "y": [
          98
         ],
         "z": [
          82
         ],
         "type": "scatter3d"
        },
        {
         "hovertemplate": "Countries and areas=France<br>Unemployment_Rate=%{x}<br>Grade_2_3_Proficiency_Reading=%{y}<br>Grade_2_3_Proficiency_Math=%{z}<extra></extra>",
         "legendgroup": "France",
         "marker": {
          "color": "#FFA15A",
          "symbol": "circle"
         },
         "mode": "markers",
         "name": "France",
         "scene": "scene",
         "showlegend": true,
         "x": [
          8.43
         ],
         "y": [
          0
         ],
         "z": [
          0
         ],
         "type": "scatter3d"
        },
        {
         "hovertemplate": "Countries and areas=Gabon<br>Unemployment_Rate=%{x}<br>Grade_2_3_Proficiency_Reading=%{y}<br>Grade_2_3_Proficiency_Math=%{z}<extra></extra>",
         "legendgroup": "Gabon",
         "marker": {
          "color": "#19d3f3",
          "symbol": "circle"
         },
         "mode": "markers",
         "name": "Gabon",
         "scene": "scene",
         "showlegend": true,
         "x": [
          20.0
         ],
         "y": [
          0
         ],
         "z": [
          0
         ],
         "type": "scatter3d"
        },
        {
         "hovertemplate": "Countries and areas=The Gambia<br>Unemployment_Rate=%{x}<br>Grade_2_3_Proficiency_Reading=%{y}<br>Grade_2_3_Proficiency_Math=%{z}<extra></extra>",
         "legendgroup": "The Gambia",
         "marker": {
          "color": "#FF6692",
          "symbol": "circle"
         },
         "mode": "markers",
         "name": "The Gambia",
         "scene": "scene",
         "showlegend": true,
         "x": [
          9.06
         ],
         "y": [
          5
         ],
         "z": [
          0
         ],
         "type": "scatter3d"
        },
        {
         "hovertemplate": "Countries and areas=Georgia<br>Unemployment_Rate=%{x}<br>Grade_2_3_Proficiency_Reading=%{y}<br>Grade_2_3_Proficiency_Math=%{z}<extra></extra>",
         "legendgroup": "Georgia",
         "marker": {
          "color": "#B6E880",
          "symbol": "circle"
         },
         "mode": "markers",
         "name": "Georgia",
         "scene": "scene",
         "showlegend": true,
         "x": [
          14.4
         ],
         "y": [
          86
         ],
         "z": [
          47
         ],
         "type": "scatter3d"
        },
        {
         "hovertemplate": "Countries and areas=Germany<br>Unemployment_Rate=%{x}<br>Grade_2_3_Proficiency_Reading=%{y}<br>Grade_2_3_Proficiency_Math=%{z}<extra></extra>",
         "legendgroup": "Germany",
         "marker": {
          "color": "#FF97FF",
          "symbol": "circle"
         },
         "mode": "markers",
         "name": "Germany",
         "scene": "scene",
         "showlegend": true,
         "x": [
          3.04
         ],
         "y": [
          0
         ],
         "z": [
          0
         ],
         "type": "scatter3d"
        },
        {
         "hovertemplate": "Countries and areas=Ghana<br>Unemployment_Rate=%{x}<br>Grade_2_3_Proficiency_Reading=%{y}<br>Grade_2_3_Proficiency_Math=%{z}<extra></extra>",
         "legendgroup": "Ghana",
         "marker": {
          "color": "#FECB52",
          "symbol": "circle"
         },
         "mode": "markers",
         "name": "Ghana",
         "scene": "scene",
         "showlegend": true,
         "x": [
          4.33
         ],
         "y": [
          0
         ],
         "z": [
          0
         ],
         "type": "scatter3d"
        },
        {
         "hovertemplate": "Countries and areas=Greece<br>Unemployment_Rate=%{x}<br>Grade_2_3_Proficiency_Reading=%{y}<br>Grade_2_3_Proficiency_Math=%{z}<extra></extra>",
         "legendgroup": "Greece",
         "marker": {
          "color": "#636efa",
          "symbol": "circle"
         },
         "mode": "markers",
         "name": "Greece",
         "scene": "scene",
         "showlegend": true,
         "x": [
          17.24
         ],
         "y": [
          0
         ],
         "z": [
          0
         ],
         "type": "scatter3d"
        },
        {
         "hovertemplate": "Countries and areas=Grenada<br>Unemployment_Rate=%{x}<br>Grade_2_3_Proficiency_Reading=%{y}<br>Grade_2_3_Proficiency_Math=%{z}<extra></extra>",
         "legendgroup": "Grenada",
         "marker": {
          "color": "#EF553B",
          "symbol": "circle"
         },
         "mode": "markers",
         "name": "Grenada",
         "scene": "scene",
         "showlegend": true,
         "x": [
          0.0
         ],
         "y": [
          0
         ],
         "z": [
          0
         ],
         "type": "scatter3d"
        },
        {
         "hovertemplate": "Countries and areas=Guatemala<br>Unemployment_Rate=%{x}<br>Grade_2_3_Proficiency_Reading=%{y}<br>Grade_2_3_Proficiency_Math=%{z}<extra></extra>",
         "legendgroup": "Guatemala",
         "marker": {
          "color": "#00cc96",
          "symbol": "circle"
         },
         "mode": "markers",
         "name": "Guatemala",
         "scene": "scene",
         "showlegend": true,
         "x": [
          2.46
         ],
         "y": [
          68
         ],
         "z": [
          52
         ],
         "type": "scatter3d"
        },
        {
         "hovertemplate": "Countries and areas=Guinea<br>Unemployment_Rate=%{x}<br>Grade_2_3_Proficiency_Reading=%{y}<br>Grade_2_3_Proficiency_Math=%{z}<extra></extra>",
         "legendgroup": "Guinea",
         "marker": {
          "color": "#ab63fa",
          "symbol": "circle"
         },
         "mode": "markers",
         "name": "Guinea",
         "scene": "scene",
         "showlegend": true,
         "x": [
          4.3
         ],
         "y": [
          0
         ],
         "z": [
          0
         ],
         "type": "scatter3d"
        },
        {
         "hovertemplate": "Countries and areas=Guinea0Bissau<br>Unemployment_Rate=%{x}<br>Grade_2_3_Proficiency_Reading=%{y}<br>Grade_2_3_Proficiency_Math=%{z}<extra></extra>",
         "legendgroup": "Guinea0Bissau",
         "marker": {
          "color": "#FFA15A",
          "symbol": "circle"
         },
         "mode": "markers",
         "name": "Guinea0Bissau",
         "scene": "scene",
         "showlegend": true,
         "x": [
          2.47
         ],
         "y": [
          0
         ],
         "z": [
          0
         ],
         "type": "scatter3d"
        },
        {
         "hovertemplate": "Countries and areas=Guyana<br>Unemployment_Rate=%{x}<br>Grade_2_3_Proficiency_Reading=%{y}<br>Grade_2_3_Proficiency_Math=%{z}<extra></extra>",
         "legendgroup": "Guyana",
         "marker": {
          "color": "#19d3f3",
          "symbol": "circle"
         },
         "mode": "markers",
         "name": "Guyana",
         "scene": "scene",
         "showlegend": true,
         "x": [
          11.85
         ],
         "y": [
          0
         ],
         "z": [
          0
         ],
         "type": "scatter3d"
        },
        {
         "hovertemplate": "Countries and areas=Haiti<br>Unemployment_Rate=%{x}<br>Grade_2_3_Proficiency_Reading=%{y}<br>Grade_2_3_Proficiency_Math=%{z}<extra></extra>",
         "legendgroup": "Haiti",
         "marker": {
          "color": "#FF6692",
          "symbol": "circle"
         },
         "mode": "markers",
         "name": "Haiti",
         "scene": "scene",
         "showlegend": true,
         "x": [
          13.78
         ],
         "y": [
          0
         ],
         "z": [
          0
         ],
         "type": "scatter3d"
        },
        {
         "hovertemplate": "Countries and areas=Vatican City<br>Unemployment_Rate=%{x}<br>Grade_2_3_Proficiency_Reading=%{y}<br>Grade_2_3_Proficiency_Math=%{z}<extra></extra>",
         "legendgroup": "Vatican City",
         "marker": {
          "color": "#B6E880",
          "symbol": "circle"
         },
         "mode": "markers",
         "name": "Vatican City",
         "scene": "scene",
         "showlegend": true,
         "x": [
          0.0
         ],
         "y": [
          0
         ],
         "z": [
          0
         ],
         "type": "scatter3d"
        },
        {
         "hovertemplate": "Countries and areas=Honduras<br>Unemployment_Rate=%{x}<br>Grade_2_3_Proficiency_Reading=%{y}<br>Grade_2_3_Proficiency_Math=%{z}<extra></extra>",
         "legendgroup": "Honduras",
         "marker": {
          "color": "#FF97FF",
          "symbol": "circle"
         },
         "mode": "markers",
         "name": "Honduras",
         "scene": "scene",
         "showlegend": true,
         "x": [
          5.39
         ],
         "y": [
          70
         ],
         "z": [
          57
         ],
         "type": "scatter3d"
        },
        {
         "hovertemplate": "Countries and areas=Hungary<br>Unemployment_Rate=%{x}<br>Grade_2_3_Proficiency_Reading=%{y}<br>Grade_2_3_Proficiency_Math=%{z}<extra></extra>",
         "legendgroup": "Hungary",
         "marker": {
          "color": "#FECB52",
          "symbol": "circle"
         },
         "mode": "markers",
         "name": "Hungary",
         "scene": "scene",
         "showlegend": true,
         "x": [
          3.4
         ],
         "y": [
          0
         ],
         "z": [
          0
         ],
         "type": "scatter3d"
        },
        {
         "hovertemplate": "Countries and areas=Iceland<br>Unemployment_Rate=%{x}<br>Grade_2_3_Proficiency_Reading=%{y}<br>Grade_2_3_Proficiency_Math=%{z}<extra></extra>",
         "legendgroup": "Iceland",
         "marker": {
          "color": "#636efa",
          "symbol": "circle"
         },
         "mode": "markers",
         "name": "Iceland",
         "scene": "scene",
         "showlegend": true,
         "x": [
          2.84
         ],
         "y": [
          0
         ],
         "z": [
          0
         ],
         "type": "scatter3d"
        },
        {
         "hovertemplate": "Countries and areas=India<br>Unemployment_Rate=%{x}<br>Grade_2_3_Proficiency_Reading=%{y}<br>Grade_2_3_Proficiency_Math=%{z}<extra></extra>",
         "legendgroup": "India",
         "marker": {
          "color": "#EF553B",
          "symbol": "circle"
         },
         "mode": "markers",
         "name": "India",
         "scene": "scene",
         "showlegend": true,
         "x": [
          5.36
         ],
         "y": [
          47
         ],
         "z": [
          53
         ],
         "type": "scatter3d"
        },
        {
         "hovertemplate": "Countries and areas=Indonesia<br>Unemployment_Rate=%{x}<br>Grade_2_3_Proficiency_Reading=%{y}<br>Grade_2_3_Proficiency_Math=%{z}<extra></extra>",
         "legendgroup": "Indonesia",
         "marker": {
          "color": "#00cc96",
          "symbol": "circle"
         },
         "mode": "markers",
         "name": "Indonesia",
         "scene": "scene",
         "showlegend": true,
         "x": [
          4.69
         ],
         "y": [
          0
         ],
         "z": [
          18
         ],
         "type": "scatter3d"
        },
        {
         "hovertemplate": "Countries and areas=Iran<br>Unemployment_Rate=%{x}<br>Grade_2_3_Proficiency_Reading=%{y}<br>Grade_2_3_Proficiency_Math=%{z}<extra></extra>",
         "legendgroup": "Iran",
         "marker": {
          "color": "#ab63fa",
          "symbol": "circle"
         },
         "mode": "markers",
         "name": "Iran",
         "scene": "scene",
         "showlegend": true,
         "x": [
          11.38
         ],
         "y": [
          66
         ],
         "z": [
          33
         ],
         "type": "scatter3d"
        },
        {
         "hovertemplate": "Countries and areas=Iraq<br>Unemployment_Rate=%{x}<br>Grade_2_3_Proficiency_Reading=%{y}<br>Grade_2_3_Proficiency_Math=%{z}<extra></extra>",
         "legendgroup": "Iraq",
         "marker": {
          "color": "#FFA15A",
          "symbol": "circle"
         },
         "mode": "markers",
         "name": "Iraq",
         "scene": "scene",
         "showlegend": true,
         "x": [
          12.82
         ],
         "y": [
          0
         ],
         "z": [
          0
         ],
         "type": "scatter3d"
        },
        {
         "hovertemplate": "Countries and areas=Republic of Ireland<br>Unemployment_Rate=%{x}<br>Grade_2_3_Proficiency_Reading=%{y}<br>Grade_2_3_Proficiency_Math=%{z}<extra></extra>",
         "legendgroup": "Republic of Ireland",
         "marker": {
          "color": "#19d3f3",
          "symbol": "circle"
         },
         "mode": "markers",
         "name": "Republic of Ireland",
         "scene": "scene",
         "showlegend": true,
         "x": [
          4.93
         ],
         "y": [
          98
         ],
         "z": [
          84
         ],
         "type": "scatter3d"
        },
        {
         "hovertemplate": "Countries and areas=Israel<br>Unemployment_Rate=%{x}<br>Grade_2_3_Proficiency_Reading=%{y}<br>Grade_2_3_Proficiency_Math=%{z}<extra></extra>",
         "legendgroup": "Israel",
         "marker": {
          "color": "#FF6692",
          "symbol": "circle"
         },
         "mode": "markers",
         "name": "Israel",
         "scene": "scene",
         "showlegend": true,
         "x": [
          3.86
         ],
         "y": [
          91
         ],
         "z": [
          0
         ],
         "type": "scatter3d"
        },
        {
         "hovertemplate": "Countries and areas=Italy<br>Unemployment_Rate=%{x}<br>Grade_2_3_Proficiency_Reading=%{y}<br>Grade_2_3_Proficiency_Math=%{z}<extra></extra>",
         "legendgroup": "Italy",
         "marker": {
          "color": "#B6E880",
          "symbol": "circle"
         },
         "mode": "markers",
         "name": "Italy",
         "scene": "scene",
         "showlegend": true,
         "x": [
          9.89
         ],
         "y": [
          98
         ],
         "z": [
          69
         ],
         "type": "scatter3d"
        },
        {
         "hovertemplate": "Countries and areas=Jamaica<br>Unemployment_Rate=%{x}<br>Grade_2_3_Proficiency_Reading=%{y}<br>Grade_2_3_Proficiency_Math=%{z}<extra></extra>",
         "legendgroup": "Jamaica",
         "marker": {
          "color": "#FF97FF",
          "symbol": "circle"
         },
         "mode": "markers",
         "name": "Jamaica",
         "scene": "scene",
         "showlegend": true,
         "x": [
          8.0
         ],
         "y": [
          0
         ],
         "z": [
          0
         ],
         "type": "scatter3d"
        },
        {
         "hovertemplate": "Countries and areas=Japan<br>Unemployment_Rate=%{x}<br>Grade_2_3_Proficiency_Reading=%{y}<br>Grade_2_3_Proficiency_Math=%{z}<extra></extra>",
         "legendgroup": "Japan",
         "marker": {
          "color": "#FECB52",
          "symbol": "circle"
         },
         "mode": "markers",
         "name": "Japan",
         "scene": "scene",
         "showlegend": true,
         "x": [
          2.29
         ],
         "y": [
          0
         ],
         "z": [
          95
         ],
         "type": "scatter3d"
        },
        {
         "hovertemplate": "Countries and areas=Jordan<br>Unemployment_Rate=%{x}<br>Grade_2_3_Proficiency_Reading=%{y}<br>Grade_2_3_Proficiency_Math=%{z}<extra></extra>",
         "legendgroup": "Jordan",
         "marker": {
          "color": "#636efa",
          "symbol": "circle"
         },
         "mode": "markers",
         "name": "Jordan",
         "scene": "scene",
         "showlegend": true,
         "x": [
          14.72
         ],
         "y": [
          0
         ],
         "z": [
          0
         ],
         "type": "scatter3d"
        },
        {
         "hovertemplate": "Countries and areas=Kazakhstan<br>Unemployment_Rate=%{x}<br>Grade_2_3_Proficiency_Reading=%{y}<br>Grade_2_3_Proficiency_Math=%{z}<extra></extra>",
         "legendgroup": "Kazakhstan",
         "marker": {
          "color": "#EF553B",
          "symbol": "circle"
         },
         "mode": "markers",
         "name": "Kazakhstan",
         "scene": "scene",
         "showlegend": true,
         "x": [
          4.59
         ],
         "y": [
          0
         ],
         "z": [
          0
         ],
         "type": "scatter3d"
        },
        {
         "hovertemplate": "Countries and areas=Kenya<br>Unemployment_Rate=%{x}<br>Grade_2_3_Proficiency_Reading=%{y}<br>Grade_2_3_Proficiency_Math=%{z}<extra></extra>",
         "legendgroup": "Kenya",
         "marker": {
          "color": "#00cc96",
          "symbol": "circle"
         },
         "mode": "markers",
         "name": "Kenya",
         "scene": "scene",
         "showlegend": true,
         "x": [
          2.64
         ],
         "y": [
          53
         ],
         "z": [
          42
         ],
         "type": "scatter3d"
        },
        {
         "hovertemplate": "Countries and areas=Kiribati<br>Unemployment_Rate=%{x}<br>Grade_2_3_Proficiency_Reading=%{y}<br>Grade_2_3_Proficiency_Math=%{z}<extra></extra>",
         "legendgroup": "Kiribati",
         "marker": {
          "color": "#ab63fa",
          "symbol": "circle"
         },
         "mode": "markers",
         "name": "Kiribati",
         "scene": "scene",
         "showlegend": true,
         "x": [
          0.0
         ],
         "y": [
          0
         ],
         "z": [
          0
         ],
         "type": "scatter3d"
        },
        {
         "hovertemplate": "Countries and areas=Kuwait<br>Unemployment_Rate=%{x}<br>Grade_2_3_Proficiency_Reading=%{y}<br>Grade_2_3_Proficiency_Math=%{z}<extra></extra>",
         "legendgroup": "Kuwait",
         "marker": {
          "color": "#FFA15A",
          "symbol": "circle"
         },
         "mode": "markers",
         "name": "Kuwait",
         "scene": "scene",
         "showlegend": true,
         "x": [
          2.18
         ],
         "y": [
          0
         ],
         "z": [
          12
         ],
         "type": "scatter3d"
        },
        {
         "hovertemplate": "Countries and areas=Kyrgyzstan<br>Unemployment_Rate=%{x}<br>Grade_2_3_Proficiency_Reading=%{y}<br>Grade_2_3_Proficiency_Math=%{z}<extra></extra>",
         "legendgroup": "Kyrgyzstan",
         "marker": {
          "color": "#19d3f3",
          "symbol": "circle"
         },
         "mode": "markers",
         "name": "Kyrgyzstan",
         "scene": "scene",
         "showlegend": true,
         "x": [
          6.33
         ],
         "y": [
          39
         ],
         "z": [
          0
         ],
         "type": "scatter3d"
        },
        {
         "hovertemplate": "Countries and areas=Laos<br>Unemployment_Rate=%{x}<br>Grade_2_3_Proficiency_Reading=%{y}<br>Grade_2_3_Proficiency_Math=%{z}<extra></extra>",
         "legendgroup": "Laos",
         "marker": {
          "color": "#FF6692",
          "symbol": "circle"
         },
         "mode": "markers",
         "name": "Laos",
         "scene": "scene",
         "showlegend": true,
         "x": [
          0.63
         ],
         "y": [
          0
         ],
         "z": [
          0
         ],
         "type": "scatter3d"
        },
        {
         "hovertemplate": "Countries and areas=Latvia<br>Unemployment_Rate=%{x}<br>Grade_2_3_Proficiency_Reading=%{y}<br>Grade_2_3_Proficiency_Math=%{z}<extra></extra>",
         "legendgroup": "Latvia",
         "marker": {
          "color": "#B6E880",
          "symbol": "circle"
         },
         "mode": "markers",
         "name": "Latvia",
         "scene": "scene",
         "showlegend": true,
         "x": [
          6.52
         ],
         "y": [
          99
         ],
         "z": [
          0
         ],
         "type": "scatter3d"
        },
        {
         "hovertemplate": "Countries and areas=Lebanon<br>Unemployment_Rate=%{x}<br>Grade_2_3_Proficiency_Reading=%{y}<br>Grade_2_3_Proficiency_Math=%{z}<extra></extra>",
         "legendgroup": "Lebanon",
         "marker": {
          "color": "#FF97FF",
          "symbol": "circle"
         },
         "mode": "markers",
         "name": "Lebanon",
         "scene": "scene",
         "showlegend": true,
         "x": [
          6.23
         ],
         "y": [
          0
         ],
         "z": [
          0
         ],
         "type": "scatter3d"
        },
        {
         "hovertemplate": "Countries and areas=Lesotho<br>Unemployment_Rate=%{x}<br>Grade_2_3_Proficiency_Reading=%{y}<br>Grade_2_3_Proficiency_Math=%{z}<extra></extra>",
         "legendgroup": "Lesotho",
         "marker": {
          "color": "#FECB52",
          "symbol": "circle"
         },
         "mode": "markers",
         "name": "Lesotho",
         "scene": "scene",
         "showlegend": true,
         "x": [
          23.41
         ],
         "y": [
          13
         ],
         "z": [
          0
         ],
         "type": "scatter3d"
        },
        {
         "hovertemplate": "Countries and areas=Liberia<br>Unemployment_Rate=%{x}<br>Grade_2_3_Proficiency_Reading=%{y}<br>Grade_2_3_Proficiency_Math=%{z}<extra></extra>",
         "legendgroup": "Liberia",
         "marker": {
          "color": "#636efa",
          "symbol": "circle"
         },
         "mode": "markers",
         "name": "Liberia",
         "scene": "scene",
         "showlegend": true,
         "x": [
          2.81
         ],
         "y": [
          0
         ],
         "z": [
          0
         ],
         "type": "scatter3d"
        },
        {
         "hovertemplate": "Countries and areas=Libya<br>Unemployment_Rate=%{x}<br>Grade_2_3_Proficiency_Reading=%{y}<br>Grade_2_3_Proficiency_Math=%{z}<extra></extra>",
         "legendgroup": "Libya",
         "marker": {
          "color": "#EF553B",
          "symbol": "circle"
         },
         "mode": "markers",
         "name": "Libya",
         "scene": "scene",
         "showlegend": true,
         "x": [
          18.56
         ],
         "y": [
          0
         ],
         "z": [
          0
         ],
         "type": "scatter3d"
        },
        {
         "hovertemplate": "Countries and areas=Liechtenstein<br>Unemployment_Rate=%{x}<br>Grade_2_3_Proficiency_Reading=%{y}<br>Grade_2_3_Proficiency_Math=%{z}<extra></extra>",
         "legendgroup": "Liechtenstein",
         "marker": {
          "color": "#00cc96",
          "symbol": "circle"
         },
         "mode": "markers",
         "name": "Liechtenstein",
         "scene": "scene",
         "showlegend": true,
         "x": [
          0.0
         ],
         "y": [
          0
         ],
         "z": [
          0
         ],
         "type": "scatter3d"
        },
        {
         "hovertemplate": "Countries and areas=Lithuania<br>Unemployment_Rate=%{x}<br>Grade_2_3_Proficiency_Reading=%{y}<br>Grade_2_3_Proficiency_Math=%{z}<extra></extra>",
         "legendgroup": "Lithuania",
         "marker": {
          "color": "#ab63fa",
          "symbol": "circle"
         },
         "mode": "markers",
         "name": "Lithuania",
         "scene": "scene",
         "showlegend": true,
         "x": [
          6.35
         ],
         "y": [
          0
         ],
         "z": [
          0
         ],
         "type": "scatter3d"
        },
        {
         "hovertemplate": "Countries and areas=Luxembourg<br>Unemployment_Rate=%{x}<br>Grade_2_3_Proficiency_Reading=%{y}<br>Grade_2_3_Proficiency_Math=%{z}<extra></extra>",
         "legendgroup": "Luxembourg",
         "marker": {
          "color": "#FFA15A",
          "symbol": "circle"
         },
         "mode": "markers",
         "name": "Luxembourg",
         "scene": "scene",
         "showlegend": true,
         "x": [
          5.36
         ],
         "y": [
          0
         ],
         "z": [
          0
         ],
         "type": "scatter3d"
        },
        {
         "hovertemplate": "Countries and areas=Madagascar<br>Unemployment_Rate=%{x}<br>Grade_2_3_Proficiency_Reading=%{y}<br>Grade_2_3_Proficiency_Math=%{z}<extra></extra>",
         "legendgroup": "Madagascar",
         "marker": {
          "color": "#19d3f3",
          "symbol": "circle"
         },
         "mode": "markers",
         "name": "Madagascar",
         "scene": "scene",
         "showlegend": true,
         "x": [
          1.76
         ],
         "y": [
          13
         ],
         "z": [
          0
         ],
         "type": "scatter3d"
        },
        {
         "hovertemplate": "Countries and areas=Malawi<br>Unemployment_Rate=%{x}<br>Grade_2_3_Proficiency_Reading=%{y}<br>Grade_2_3_Proficiency_Math=%{z}<extra></extra>",
         "legendgroup": "Malawi",
         "marker": {
          "color": "#FF6692",
          "symbol": "circle"
         },
         "mode": "markers",
         "name": "Malawi",
         "scene": "scene",
         "showlegend": true,
         "x": [
          5.65
         ],
         "y": [
          0
         ],
         "z": [
          0
         ],
         "type": "scatter3d"
        },
        {
         "hovertemplate": "Countries and areas=Malaysia<br>Unemployment_Rate=%{x}<br>Grade_2_3_Proficiency_Reading=%{y}<br>Grade_2_3_Proficiency_Math=%{z}<extra></extra>",
         "legendgroup": "Malaysia",
         "marker": {
          "color": "#B6E880",
          "symbol": "circle"
         },
         "mode": "markers",
         "name": "Malaysia",
         "scene": "scene",
         "showlegend": true,
         "x": [
          3.32
         ],
         "y": [
          0
         ],
         "z": [
          0
         ],
         "type": "scatter3d"
        },
        {
         "hovertemplate": "Countries and areas=Maldives<br>Unemployment_Rate=%{x}<br>Grade_2_3_Proficiency_Reading=%{y}<br>Grade_2_3_Proficiency_Math=%{z}<extra></extra>",
         "legendgroup": "Maldives",
         "marker": {
          "color": "#FF97FF",
          "symbol": "circle"
         },
         "mode": "markers",
         "name": "Maldives",
         "scene": "scene",
         "showlegend": true,
         "x": [
          6.14
         ],
         "y": [
          0
         ],
         "z": [
          0
         ],
         "type": "scatter3d"
        },
        {
         "hovertemplate": "Countries and areas=Mali<br>Unemployment_Rate=%{x}<br>Grade_2_3_Proficiency_Reading=%{y}<br>Grade_2_3_Proficiency_Math=%{z}<extra></extra>",
         "legendgroup": "Mali",
         "marker": {
          "color": "#FECB52",
          "symbol": "circle"
         },
         "mode": "markers",
         "name": "Mali",
         "scene": "scene",
         "showlegend": true,
         "x": [
          7.22
         ],
         "y": [
          0
         ],
         "z": [
          0
         ],
         "type": "scatter3d"
        },
        {
         "hovertemplate": "Countries and areas=Malta<br>Unemployment_Rate=%{x}<br>Grade_2_3_Proficiency_Reading=%{y}<br>Grade_2_3_Proficiency_Math=%{z}<extra></extra>",
         "legendgroup": "Malta",
         "marker": {
          "color": "#636efa",
          "symbol": "circle"
         },
         "mode": "markers",
         "name": "Malta",
         "scene": "scene",
         "showlegend": true,
         "x": [
          3.47
         ],
         "y": [
          73
         ],
         "z": [
          0
         ],
         "type": "scatter3d"
        },
        {
         "hovertemplate": "Countries and areas=Marshall Islands<br>Unemployment_Rate=%{x}<br>Grade_2_3_Proficiency_Reading=%{y}<br>Grade_2_3_Proficiency_Math=%{z}<extra></extra>",
         "legendgroup": "Marshall Islands",
         "marker": {
          "color": "#EF553B",
          "symbol": "circle"
         },
         "mode": "markers",
         "name": "Marshall Islands",
         "scene": "scene",
         "showlegend": true,
         "x": [
          0.0
         ],
         "y": [
          0
         ],
         "z": [
          0
         ],
         "type": "scatter3d"
        },
        {
         "hovertemplate": "Countries and areas=Mauritania<br>Unemployment_Rate=%{x}<br>Grade_2_3_Proficiency_Reading=%{y}<br>Grade_2_3_Proficiency_Math=%{z}<extra></extra>",
         "legendgroup": "Mauritania",
         "marker": {
          "color": "#00cc96",
          "symbol": "circle"
         },
         "mode": "markers",
         "name": "Mauritania",
         "scene": "scene",
         "showlegend": true,
         "x": [
          9.55
         ],
         "y": [
          0
         ],
         "z": [
          0
         ],
         "type": "scatter3d"
        },
        {
         "hovertemplate": "Countries and areas=Mauritius<br>Unemployment_Rate=%{x}<br>Grade_2_3_Proficiency_Reading=%{y}<br>Grade_2_3_Proficiency_Math=%{z}<extra></extra>",
         "legendgroup": "Mauritius",
         "marker": {
          "color": "#ab63fa",
          "symbol": "circle"
         },
         "mode": "markers",
         "name": "Mauritius",
         "scene": "scene",
         "showlegend": true,
         "x": [
          6.67
         ],
         "y": [
          0
         ],
         "z": [
          0
         ],
         "type": "scatter3d"
        },
        {
         "hovertemplate": "Countries and areas=Mexico<br>Unemployment_Rate=%{x}<br>Grade_2_3_Proficiency_Reading=%{y}<br>Grade_2_3_Proficiency_Math=%{z}<extra></extra>",
         "legendgroup": "Mexico",
         "marker": {
          "color": "#FFA15A",
          "symbol": "circle"
         },
         "mode": "markers",
         "name": "Mexico",
         "scene": "scene",
         "showlegend": true,
         "x": [
          3.42
         ],
         "y": [
          78
         ],
         "z": [
          77
         ],
         "type": "scatter3d"
        },
        {
         "hovertemplate": "Countries and areas=Federated States of Micronesia<br>Unemployment_Rate=%{x}<br>Grade_2_3_Proficiency_Reading=%{y}<br>Grade_2_3_Proficiency_Math=%{z}<extra></extra>",
         "legendgroup": "Federated States of Micronesia",
         "marker": {
          "color": "#19d3f3",
          "symbol": "circle"
         },
         "mode": "markers",
         "name": "Federated States of Micronesia",
         "scene": "scene",
         "showlegend": true,
         "x": [
          0.0
         ],
         "y": [
          0
         ],
         "z": [
          0
         ],
         "type": "scatter3d"
        },
        {
         "hovertemplate": "Countries and areas=Monaco<br>Unemployment_Rate=%{x}<br>Grade_2_3_Proficiency_Reading=%{y}<br>Grade_2_3_Proficiency_Math=%{z}<extra></extra>",
         "legendgroup": "Monaco",
         "marker": {
          "color": "#FF6692",
          "symbol": "circle"
         },
         "mode": "markers",
         "name": "Monaco",
         "scene": "scene",
         "showlegend": true,
         "x": [
          0.0
         ],
         "y": [
          0
         ],
         "z": [
          0
         ],
         "type": "scatter3d"
        },
        {
         "hovertemplate": "Countries and areas=Mongolia<br>Unemployment_Rate=%{x}<br>Grade_2_3_Proficiency_Reading=%{y}<br>Grade_2_3_Proficiency_Math=%{z}<extra></extra>",
         "legendgroup": "Mongolia",
         "marker": {
          "color": "#B6E880",
          "symbol": "circle"
         },
         "mode": "markers",
         "name": "Mongolia",
         "scene": "scene",
         "showlegend": true,
         "x": [
          6.01
         ],
         "y": [
          44
         ],
         "z": [
          0
         ],
         "type": "scatter3d"
        },
        {
         "hovertemplate": "Countries and areas=Montenegro<br>Unemployment_Rate=%{x}<br>Grade_2_3_Proficiency_Reading=%{y}<br>Grade_2_3_Proficiency_Math=%{z}<extra></extra>",
         "legendgroup": "Montenegro",
         "marker": {
          "color": "#FF97FF",
          "symbol": "circle"
         },
         "mode": "markers",
         "name": "Montenegro",
         "scene": "scene",
         "showlegend": true,
         "x": [
          14.88
         ],
         "y": [
          0
         ],
         "z": [
          0
         ],
         "type": "scatter3d"
        },
        {
         "hovertemplate": "Countries and areas=Montserrat<br>Unemployment_Rate=%{x}<br>Grade_2_3_Proficiency_Reading=%{y}<br>Grade_2_3_Proficiency_Math=%{z}<extra></extra>",
         "legendgroup": "Montserrat",
         "marker": {
          "color": "#FECB52",
          "symbol": "circle"
         },
         "mode": "markers",
         "name": "Montserrat",
         "scene": "scene",
         "showlegend": true,
         "x": [
          0.0
         ],
         "y": [
          0
         ],
         "z": [
          0
         ],
         "type": "scatter3d"
        },
        {
         "hovertemplate": "Countries and areas=Morocco<br>Unemployment_Rate=%{x}<br>Grade_2_3_Proficiency_Reading=%{y}<br>Grade_2_3_Proficiency_Math=%{z}<extra></extra>",
         "legendgroup": "Morocco",
         "marker": {
          "color": "#636efa",
          "symbol": "circle"
         },
         "mode": "markers",
         "name": "Morocco",
         "scene": "scene",
         "showlegend": true,
         "x": [
          9.02
         ],
         "y": [
          36
         ],
         "z": [
          16
         ],
         "type": "scatter3d"
        },
        {
         "hovertemplate": "Countries and areas=Mozambique<br>Unemployment_Rate=%{x}<br>Grade_2_3_Proficiency_Reading=%{y}<br>Grade_2_3_Proficiency_Math=%{z}<extra></extra>",
         "legendgroup": "Mozambique",
         "marker": {
          "color": "#EF553B",
          "symbol": "circle"
         },
         "mode": "markers",
         "name": "Mozambique",
         "scene": "scene",
         "showlegend": true,
         "x": [
          3.24
         ],
         "y": [
          0
         ],
         "z": [
          0
         ],
         "type": "scatter3d"
        },
        {
         "hovertemplate": "Countries and areas=Myanmar<br>Unemployment_Rate=%{x}<br>Grade_2_3_Proficiency_Reading=%{y}<br>Grade_2_3_Proficiency_Math=%{z}<extra></extra>",
         "legendgroup": "Myanmar",
         "marker": {
          "color": "#00cc96",
          "symbol": "circle"
         },
         "mode": "markers",
         "name": "Myanmar",
         "scene": "scene",
         "showlegend": true,
         "x": [
          1.58
         ],
         "y": [
          0
         ],
         "z": [
          0
         ],
         "type": "scatter3d"
        },
        {
         "hovertemplate": "Countries and areas=Namibia<br>Unemployment_Rate=%{x}<br>Grade_2_3_Proficiency_Reading=%{y}<br>Grade_2_3_Proficiency_Math=%{z}<extra></extra>",
         "legendgroup": "Namibia",
         "marker": {
          "color": "#ab63fa",
          "symbol": "circle"
         },
         "mode": "markers",
         "name": "Namibia",
         "scene": "scene",
         "showlegend": true,
         "x": [
          20.27
         ],
         "y": [
          0
         ],
         "z": [
          0
         ],
         "type": "scatter3d"
        },
        {
         "hovertemplate": "Countries and areas=Nauru<br>Unemployment_Rate=%{x}<br>Grade_2_3_Proficiency_Reading=%{y}<br>Grade_2_3_Proficiency_Math=%{z}<extra></extra>",
         "legendgroup": "Nauru",
         "marker": {
          "color": "#FFA15A",
          "symbol": "circle"
         },
         "mode": "markers",
         "name": "Nauru",
         "scene": "scene",
         "showlegend": true,
         "x": [
          0.0
         ],
         "y": [
          0
         ],
         "z": [
          0
         ],
         "type": "scatter3d"
        },
        {
         "hovertemplate": "Countries and areas=Nepal<br>Unemployment_Rate=%{x}<br>Grade_2_3_Proficiency_Reading=%{y}<br>Grade_2_3_Proficiency_Math=%{z}<extra></extra>",
         "legendgroup": "Nepal",
         "marker": {
          "color": "#19d3f3",
          "symbol": "circle"
         },
         "mode": "markers",
         "name": "Nepal",
         "scene": "scene",
         "showlegend": true,
         "x": [
          1.41
         ],
         "y": [
          0
         ],
         "z": [
          0
         ],
         "type": "scatter3d"
        },
        {
         "hovertemplate": "Countries and areas=Netherlands<br>Unemployment_Rate=%{x}<br>Grade_2_3_Proficiency_Reading=%{y}<br>Grade_2_3_Proficiency_Math=%{z}<extra></extra>",
         "legendgroup": "Netherlands",
         "marker": {
          "color": "#FF6692",
          "symbol": "circle"
         },
         "mode": "markers",
         "name": "Netherlands",
         "scene": "scene",
         "showlegend": true,
         "x": [
          3.2
         ],
         "y": [
          99
         ],
         "z": [
          83
         ],
         "type": "scatter3d"
        },
        {
         "hovertemplate": "Countries and areas=New Zealand<br>Unemployment_Rate=%{x}<br>Grade_2_3_Proficiency_Reading=%{y}<br>Grade_2_3_Proficiency_Math=%{z}<extra></extra>",
         "legendgroup": "New Zealand",
         "marker": {
          "color": "#B6E880",
          "symbol": "circle"
         },
         "mode": "markers",
         "name": "New Zealand",
         "scene": "scene",
         "showlegend": true,
         "x": [
          4.07
         ],
         "y": [
          90
         ],
         "z": [
          59
         ],
         "type": "scatter3d"
        },
        {
         "hovertemplate": "Countries and areas=Nicaragua<br>Unemployment_Rate=%{x}<br>Grade_2_3_Proficiency_Reading=%{y}<br>Grade_2_3_Proficiency_Math=%{z}<extra></extra>",
         "legendgroup": "Nicaragua",
         "marker": {
          "color": "#FF97FF",
          "symbol": "circle"
         },
         "mode": "markers",
         "name": "Nicaragua",
         "scene": "scene",
         "showlegend": true,
         "x": [
          6.84
         ],
         "y": [
          61
         ],
         "z": [
          44
         ],
         "type": "scatter3d"
        },
        {
         "hovertemplate": "Countries and areas=Niger<br>Unemployment_Rate=%{x}<br>Grade_2_3_Proficiency_Reading=%{y}<br>Grade_2_3_Proficiency_Math=%{z}<extra></extra>",
         "legendgroup": "Niger",
         "marker": {
          "color": "#FECB52",
          "symbol": "circle"
         },
         "mode": "markers",
         "name": "Niger",
         "scene": "scene",
         "showlegend": true,
         "x": [
          0.47
         ],
         "y": [
          9
         ],
         "z": [
          27
         ],
         "type": "scatter3d"
        },
        {
         "hovertemplate": "Countries and areas=Nigeria<br>Unemployment_Rate=%{x}<br>Grade_2_3_Proficiency_Reading=%{y}<br>Grade_2_3_Proficiency_Math=%{z}<extra></extra>",
         "legendgroup": "Nigeria",
         "marker": {
          "color": "#636efa",
          "symbol": "circle"
         },
         "mode": "markers",
         "name": "Nigeria",
         "scene": "scene",
         "showlegend": true,
         "x": [
          8.1
         ],
         "y": [
          0
         ],
         "z": [
          0
         ],
         "type": "scatter3d"
        },
        {
         "hovertemplate": "Countries and areas=Niue<br>Unemployment_Rate=%{x}<br>Grade_2_3_Proficiency_Reading=%{y}<br>Grade_2_3_Proficiency_Math=%{z}<extra></extra>",
         "legendgroup": "Niue",
         "marker": {
          "color": "#EF553B",
          "symbol": "circle"
         },
         "mode": "markers",
         "name": "Niue",
         "scene": "scene",
         "showlegend": true,
         "x": [
          0.0
         ],
         "y": [
          0
         ],
         "z": [
          0
         ],
         "type": "scatter3d"
        },
        {
         "hovertemplate": "Countries and areas=North Macedonia<br>Unemployment_Rate=%{x}<br>Grade_2_3_Proficiency_Reading=%{y}<br>Grade_2_3_Proficiency_Math=%{z}<extra></extra>",
         "legendgroup": "North Macedonia",
         "marker": {
          "color": "#00cc96",
          "symbol": "circle"
         },
         "mode": "markers",
         "name": "North Macedonia",
         "scene": "scene",
         "showlegend": true,
         "x": [
          0.0
         ],
         "y": [
          0
         ],
         "z": [
          0
         ],
         "type": "scatter3d"
        },
        {
         "hovertemplate": "Countries and areas=Norway<br>Unemployment_Rate=%{x}<br>Grade_2_3_Proficiency_Reading=%{y}<br>Grade_2_3_Proficiency_Math=%{z}<extra></extra>",
         "legendgroup": "Norway",
         "marker": {
          "color": "#ab63fa",
          "symbol": "circle"
         },
         "mode": "markers",
         "name": "Norway",
         "scene": "scene",
         "showlegend": true,
         "x": [
          3.35
         ],
         "y": [
          99
         ],
         "z": [
          86
         ],
         "type": "scatter3d"
        },
        {
         "hovertemplate": "Countries and areas=Oman<br>Unemployment_Rate=%{x}<br>Grade_2_3_Proficiency_Reading=%{y}<br>Grade_2_3_Proficiency_Math=%{z}<extra></extra>",
         "legendgroup": "Oman",
         "marker": {
          "color": "#FFA15A",
          "symbol": "circle"
         },
         "mode": "markers",
         "name": "Oman",
         "scene": "scene",
         "showlegend": true,
         "x": [
          2.67
         ],
         "y": [
          59
         ],
         "z": [
          32
         ],
         "type": "scatter3d"
        },
        {
         "hovertemplate": "Countries and areas=Pakistan<br>Unemployment_Rate=%{x}<br>Grade_2_3_Proficiency_Reading=%{y}<br>Grade_2_3_Proficiency_Math=%{z}<extra></extra>",
         "legendgroup": "Pakistan",
         "marker": {
          "color": "#19d3f3",
          "symbol": "circle"
         },
         "mode": "markers",
         "name": "Pakistan",
         "scene": "scene",
         "showlegend": true,
         "x": [
          4.45
         ],
         "y": [
          35
         ],
         "z": [
          0
         ],
         "type": "scatter3d"
        },
        {
         "hovertemplate": "Countries and areas=Palau<br>Unemployment_Rate=%{x}<br>Grade_2_3_Proficiency_Reading=%{y}<br>Grade_2_3_Proficiency_Math=%{z}<extra></extra>",
         "legendgroup": "Palau",
         "marker": {
          "color": "#FF6692",
          "symbol": "circle"
         },
         "mode": "markers",
         "name": "Palau",
         "scene": "scene",
         "showlegend": true,
         "x": [
          0.0
         ],
         "y": [
          0
         ],
         "z": [
          0
         ],
         "type": "scatter3d"
        },
        {
         "hovertemplate": "Countries and areas=Panama<br>Unemployment_Rate=%{x}<br>Grade_2_3_Proficiency_Reading=%{y}<br>Grade_2_3_Proficiency_Math=%{z}<extra></extra>",
         "legendgroup": "Panama",
         "marker": {
          "color": "#B6E880",
          "symbol": "circle"
         },
         "mode": "markers",
         "name": "Panama",
         "scene": "scene",
         "showlegend": true,
         "x": [
          3.9
         ],
         "y": [
          65
         ],
         "z": [
          51
         ],
         "type": "scatter3d"
        },
        {
         "hovertemplate": "Countries and areas=Papua New Guinea<br>Unemployment_Rate=%{x}<br>Grade_2_3_Proficiency_Reading=%{y}<br>Grade_2_3_Proficiency_Math=%{z}<extra></extra>",
         "legendgroup": "Papua New Guinea",
         "marker": {
          "color": "#FF97FF",
          "symbol": "circle"
         },
         "mode": "markers",
         "name": "Papua New Guinea",
         "scene": "scene",
         "showlegend": true,
         "x": [
          2.46
         ],
         "y": [
          0
         ],
         "z": [
          0
         ],
         "type": "scatter3d"
        },
        {
         "hovertemplate": "Countries and areas=Paraguay<br>Unemployment_Rate=%{x}<br>Grade_2_3_Proficiency_Reading=%{y}<br>Grade_2_3_Proficiency_Math=%{z}<extra></extra>",
         "legendgroup": "Paraguay",
         "marker": {
          "color": "#FECB52",
          "symbol": "circle"
         },
         "mode": "markers",
         "name": "Paraguay",
         "scene": "scene",
         "showlegend": true,
         "x": [
          4.81
         ],
         "y": [
          61
         ],
         "z": [
          47
         ],
         "type": "scatter3d"
        },
        {
         "hovertemplate": "Countries and areas=Peru<br>Unemployment_Rate=%{x}<br>Grade_2_3_Proficiency_Reading=%{y}<br>Grade_2_3_Proficiency_Math=%{z}<extra></extra>",
         "legendgroup": "Peru",
         "marker": {
          "color": "#636efa",
          "symbol": "circle"
         },
         "mode": "markers",
         "name": "Peru",
         "scene": "scene",
         "showlegend": true,
         "x": [
          3.31
         ],
         "y": [
          80
         ],
         "z": [
          70
         ],
         "type": "scatter3d"
        },
        {
         "hovertemplate": "Countries and areas=Philippines<br>Unemployment_Rate=%{x}<br>Grade_2_3_Proficiency_Reading=%{y}<br>Grade_2_3_Proficiency_Math=%{z}<extra></extra>",
         "legendgroup": "Philippines",
         "marker": {
          "color": "#EF553B",
          "symbol": "circle"
         },
         "mode": "markers",
         "name": "Philippines",
         "scene": "scene",
         "showlegend": true,
         "x": [
          2.15
         ],
         "y": [
          0
         ],
         "z": [
          0
         ],
         "type": "scatter3d"
        },
        {
         "hovertemplate": "Countries and areas=Poland<br>Unemployment_Rate=%{x}<br>Grade_2_3_Proficiency_Reading=%{y}<br>Grade_2_3_Proficiency_Math=%{z}<extra></extra>",
         "legendgroup": "Poland",
         "marker": {
          "color": "#00cc96",
          "symbol": "circle"
         },
         "mode": "markers",
         "name": "Poland",
         "scene": "scene",
         "showlegend": true,
         "x": [
          3.47
         ],
         "y": [
          98
         ],
         "z": [
          80
         ],
         "type": "scatter3d"
        },
        {
         "hovertemplate": "Countries and areas=Portugal<br>Unemployment_Rate=%{x}<br>Grade_2_3_Proficiency_Reading=%{y}<br>Grade_2_3_Proficiency_Math=%{z}<extra></extra>",
         "legendgroup": "Portugal",
         "marker": {
          "color": "#ab63fa",
          "symbol": "circle"
         },
         "mode": "markers",
         "name": "Portugal",
         "scene": "scene",
         "showlegend": true,
         "x": [
          6.33
         ],
         "y": [
          97
         ],
         "z": [
          82
         ],
         "type": "scatter3d"
        },
        {
         "hovertemplate": "Countries and areas=Qatar<br>Unemployment_Rate=%{x}<br>Grade_2_3_Proficiency_Reading=%{y}<br>Grade_2_3_Proficiency_Math=%{z}<extra></extra>",
         "legendgroup": "Qatar",
         "marker": {
          "color": "#FFA15A",
          "symbol": "circle"
         },
         "mode": "markers",
         "name": "Qatar",
         "scene": "scene",
         "showlegend": true,
         "x": [
          0.09
         ],
         "y": [
          66
         ],
         "z": [
          36
         ],
         "type": "scatter3d"
        },
        {
         "hovertemplate": "Countries and areas=South Korea<br>Unemployment_Rate=%{x}<br>Grade_2_3_Proficiency_Reading=%{y}<br>Grade_2_3_Proficiency_Math=%{z}<extra></extra>",
         "legendgroup": "South Korea",
         "marker": {
          "color": "#19d3f3",
          "symbol": "circle"
         },
         "mode": "markers",
         "name": "South Korea",
         "scene": "scene",
         "showlegend": true,
         "x": [
          4.15
         ],
         "y": [
          0
         ],
         "z": [
          97
         ],
         "type": "scatter3d"
        },
        {
         "hovertemplate": "Countries and areas=Moldova<br>Unemployment_Rate=%{x}<br>Grade_2_3_Proficiency_Reading=%{y}<br>Grade_2_3_Proficiency_Math=%{z}<extra></extra>",
         "legendgroup": "Moldova",
         "marker": {
          "color": "#FF6692",
          "symbol": "circle"
         },
         "mode": "markers",
         "name": "Moldova",
         "scene": "scene",
         "showlegend": true,
         "x": [
          5.47
         ],
         "y": [
          0
         ],
         "z": [
          0
         ],
         "type": "scatter3d"
        },
        {
         "hovertemplate": "Countries and areas=Romania<br>Unemployment_Rate=%{x}<br>Grade_2_3_Proficiency_Reading=%{y}<br>Grade_2_3_Proficiency_Math=%{z}<extra></extra>",
         "legendgroup": "Romania",
         "marker": {
          "color": "#B6E880",
          "symbol": "circle"
         },
         "mode": "markers",
         "name": "Romania",
         "scene": "scene",
         "showlegend": true,
         "x": [
          3.98
         ],
         "y": [
          0
         ],
         "z": [
          0
         ],
         "type": "scatter3d"
        },
        {
         "hovertemplate": "Countries and areas=Russia<br>Unemployment_Rate=%{x}<br>Grade_2_3_Proficiency_Reading=%{y}<br>Grade_2_3_Proficiency_Math=%{z}<extra></extra>",
         "legendgroup": "Russia",
         "marker": {
          "color": "#FF97FF",
          "symbol": "circle"
         },
         "mode": "markers",
         "name": "Russia",
         "scene": "scene",
         "showlegend": true,
         "x": [
          4.59
         ],
         "y": [
          0
         ],
         "z": [
          0
         ],
         "type": "scatter3d"
        },
        {
         "hovertemplate": "Countries and areas=Rwanda<br>Unemployment_Rate=%{x}<br>Grade_2_3_Proficiency_Reading=%{y}<br>Grade_2_3_Proficiency_Math=%{z}<extra></extra>",
         "legendgroup": "Rwanda",
         "marker": {
          "color": "#FECB52",
          "symbol": "circle"
         },
         "mode": "markers",
         "name": "Rwanda",
         "scene": "scene",
         "showlegend": true,
         "x": [
          1.03
         ],
         "y": [
          0
         ],
         "z": [
          0
         ],
         "type": "scatter3d"
        },
        {
         "hovertemplate": "Countries and areas=Saint Kitts and Nevis<br>Unemployment_Rate=%{x}<br>Grade_2_3_Proficiency_Reading=%{y}<br>Grade_2_3_Proficiency_Math=%{z}<extra></extra>",
         "legendgroup": "Saint Kitts and Nevis",
         "marker": {
          "color": "#636efa",
          "symbol": "circle"
         },
         "mode": "markers",
         "name": "Saint Kitts and Nevis",
         "scene": "scene",
         "showlegend": true,
         "x": [
          0.0
         ],
         "y": [
          0
         ],
         "z": [
          0
         ],
         "type": "scatter3d"
        },
        {
         "hovertemplate": "Countries and areas=Saint Lucia<br>Unemployment_Rate=%{x}<br>Grade_2_3_Proficiency_Reading=%{y}<br>Grade_2_3_Proficiency_Math=%{z}<extra></extra>",
         "legendgroup": "Saint Lucia",
         "marker": {
          "color": "#EF553B",
          "symbol": "circle"
         },
         "mode": "markers",
         "name": "Saint Lucia",
         "scene": "scene",
         "showlegend": true,
         "x": [
          20.71
         ],
         "y": [
          0
         ],
         "z": [
          0
         ],
         "type": "scatter3d"
        },
        {
         "hovertemplate": "Countries and areas=Saint Vincent and the Grenadines<br>Unemployment_Rate=%{x}<br>Grade_2_3_Proficiency_Reading=%{y}<br>Grade_2_3_Proficiency_Math=%{z}<extra></extra>",
         "legendgroup": "Saint Vincent and the Grenadines",
         "marker": {
          "color": "#00cc96",
          "symbol": "circle"
         },
         "mode": "markers",
         "name": "Saint Vincent and the Grenadines",
         "scene": "scene",
         "showlegend": true,
         "x": [
          18.88
         ],
         "y": [
          0
         ],
         "z": [
          0
         ],
         "type": "scatter3d"
        },
        {
         "hovertemplate": "Countries and areas=Samoa<br>Unemployment_Rate=%{x}<br>Grade_2_3_Proficiency_Reading=%{y}<br>Grade_2_3_Proficiency_Math=%{z}<extra></extra>",
         "legendgroup": "Samoa",
         "marker": {
          "color": "#ab63fa",
          "symbol": "circle"
         },
         "mode": "markers",
         "name": "Samoa",
         "scene": "scene",
         "showlegend": true,
         "x": [
          8.36
         ],
         "y": [
          0
         ],
         "z": [
          0
         ],
         "type": "scatter3d"
        },
        {
         "hovertemplate": "Countries and areas=San Marino<br>Unemployment_Rate=%{x}<br>Grade_2_3_Proficiency_Reading=%{y}<br>Grade_2_3_Proficiency_Math=%{z}<extra></extra>",
         "legendgroup": "San Marino",
         "marker": {
          "color": "#FFA15A",
          "symbol": "circle"
         },
         "mode": "markers",
         "name": "San Marino",
         "scene": "scene",
         "showlegend": true,
         "x": [
          0.0
         ],
         "y": [
          0
         ],
         "z": [
          0
         ],
         "type": "scatter3d"
        },
        {
         "hovertemplate": "Countries and areas=Sï¿½ï¿½ï¿½ï¿½ï¿½ï¿½ï¿½ï¿<br>Unemployment_Rate=%{x}<br>Grade_2_3_Proficiency_Reading=%{y}<br>Grade_2_3_Proficiency_Math=%{z}<extra></extra>",
         "legendgroup": "Sï¿½ï¿½ï¿½ï¿½ï¿½ï¿½ï¿½ï¿",
         "marker": {
          "color": "#19d3f3",
          "symbol": "circle"
         },
         "mode": "markers",
         "name": "Sï¿½ï¿½ï¿½ï¿½ï¿½ï¿½ï¿½ï¿",
         "scene": "scene",
         "showlegend": true,
         "x": [
          13.37
         ],
         "y": [
          0
         ],
         "z": [
          0
         ],
         "type": "scatter3d"
        },
        {
         "hovertemplate": "Countries and areas=Saudi Arabia<br>Unemployment_Rate=%{x}<br>Grade_2_3_Proficiency_Reading=%{y}<br>Grade_2_3_Proficiency_Math=%{z}<extra></extra>",
         "legendgroup": "Saudi Arabia",
         "marker": {
          "color": "#FF6692",
          "symbol": "circle"
         },
         "mode": "markers",
         "name": "Saudi Arabia",
         "scene": "scene",
         "showlegend": true,
         "x": [
          5.93
         ],
         "y": [
          63
         ],
         "z": [
          16
         ],
         "type": "scatter3d"
        },
        {
         "hovertemplate": "Countries and areas=Senegal<br>Unemployment_Rate=%{x}<br>Grade_2_3_Proficiency_Reading=%{y}<br>Grade_2_3_Proficiency_Math=%{z}<extra></extra>",
         "legendgroup": "Senegal",
         "marker": {
          "color": "#B6E880",
          "symbol": "circle"
         },
         "mode": "markers",
         "name": "Senegal",
         "scene": "scene",
         "showlegend": true,
         "x": [
          6.6
         ],
         "y": [
          29
         ],
         "z": [
          63
         ],
         "type": "scatter3d"
        },
        {
         "hovertemplate": "Countries and areas=Serbia<br>Unemployment_Rate=%{x}<br>Grade_2_3_Proficiency_Reading=%{y}<br>Grade_2_3_Proficiency_Math=%{z}<extra></extra>",
         "legendgroup": "Serbia",
         "marker": {
          "color": "#FF97FF",
          "symbol": "circle"
         },
         "mode": "markers",
         "name": "Serbia",
         "scene": "scene",
         "showlegend": true,
         "x": [
          12.69
         ],
         "y": [
          0
         ],
         "z": [
          0
         ],
         "type": "scatter3d"
        },
        {
         "hovertemplate": "Countries and areas=Seychelles<br>Unemployment_Rate=%{x}<br>Grade_2_3_Proficiency_Reading=%{y}<br>Grade_2_3_Proficiency_Math=%{z}<extra></extra>",
         "legendgroup": "Seychelles",
         "marker": {
          "color": "#FECB52",
          "symbol": "circle"
         },
         "mode": "markers",
         "name": "Seychelles",
         "scene": "scene",
         "showlegend": true,
         "x": [
          0.0
         ],
         "y": [
          0
         ],
         "z": [
          0
         ],
         "type": "scatter3d"
        },
        {
         "hovertemplate": "Countries and areas=Sierra Leone<br>Unemployment_Rate=%{x}<br>Grade_2_3_Proficiency_Reading=%{y}<br>Grade_2_3_Proficiency_Math=%{z}<extra></extra>",
         "legendgroup": "Sierra Leone",
         "marker": {
          "color": "#636efa",
          "symbol": "circle"
         },
         "mode": "markers",
         "name": "Sierra Leone",
         "scene": "scene",
         "showlegend": true,
         "x": [
          4.43
         ],
         "y": [
          6
         ],
         "z": [
          0
         ],
         "type": "scatter3d"
        },
        {
         "hovertemplate": "Countries and areas=Singapore<br>Unemployment_Rate=%{x}<br>Grade_2_3_Proficiency_Reading=%{y}<br>Grade_2_3_Proficiency_Math=%{z}<extra></extra>",
         "legendgroup": "Singapore",
         "marker": {
          "color": "#EF553B",
          "symbol": "circle"
         },
         "mode": "markers",
         "name": "Singapore",
         "scene": "scene",
         "showlegend": true,
         "x": [
          4.11
         ],
         "y": [
          97
         ],
         "z": [
          93
         ],
         "type": "scatter3d"
        },
        {
         "hovertemplate": "Countries and areas=Slovakia<br>Unemployment_Rate=%{x}<br>Grade_2_3_Proficiency_Reading=%{y}<br>Grade_2_3_Proficiency_Math=%{z}<extra></extra>",
         "legendgroup": "Slovakia",
         "marker": {
          "color": "#00cc96",
          "symbol": "circle"
         },
         "mode": "markers",
         "name": "Slovakia",
         "scene": "scene",
         "showlegend": true,
         "x": [
          5.56
         ],
         "y": [
          0
         ],
         "z": [
          0
         ],
         "type": "scatter3d"
        },
        {
         "hovertemplate": "Countries and areas=Slovenia<br>Unemployment_Rate=%{x}<br>Grade_2_3_Proficiency_Reading=%{y}<br>Grade_2_3_Proficiency_Math=%{z}<extra></extra>",
         "legendgroup": "Slovenia",
         "marker": {
          "color": "#ab63fa",
          "symbol": "circle"
         },
         "mode": "markers",
         "name": "Slovenia",
         "scene": "scene",
         "showlegend": true,
         "x": [
          4.2
         ],
         "y": [
          96
         ],
         "z": [
          75
         ],
         "type": "scatter3d"
        },
        {
         "hovertemplate": "Countries and areas=Solomon Islands<br>Unemployment_Rate=%{x}<br>Grade_2_3_Proficiency_Reading=%{y}<br>Grade_2_3_Proficiency_Math=%{z}<extra></extra>",
         "legendgroup": "Solomon Islands",
         "marker": {
          "color": "#FFA15A",
          "symbol": "circle"
         },
         "mode": "markers",
         "name": "Solomon Islands",
         "scene": "scene",
         "showlegend": true,
         "x": [
          0.58
         ],
         "y": [
          0
         ],
         "z": [
          0
         ],
         "type": "scatter3d"
        },
        {
         "hovertemplate": "Countries and areas=Somalia<br>Unemployment_Rate=%{x}<br>Grade_2_3_Proficiency_Reading=%{y}<br>Grade_2_3_Proficiency_Math=%{z}<extra></extra>",
         "legendgroup": "Somalia",
         "marker": {
          "color": "#19d3f3",
          "symbol": "circle"
         },
         "mode": "markers",
         "name": "Somalia",
         "scene": "scene",
         "showlegend": true,
         "x": [
          11.35
         ],
         "y": [
          0
         ],
         "z": [
          0
         ],
         "type": "scatter3d"
        },
        {
         "hovertemplate": "Countries and areas=South Africa<br>Unemployment_Rate=%{x}<br>Grade_2_3_Proficiency_Reading=%{y}<br>Grade_2_3_Proficiency_Math=%{z}<extra></extra>",
         "legendgroup": "South Africa",
         "marker": {
          "color": "#FF6692",
          "symbol": "circle"
         },
         "mode": "markers",
         "name": "South Africa",
         "scene": "scene",
         "showlegend": true,
         "x": [
          28.18
         ],
         "y": [
          22
         ],
         "z": [
          0
         ],
         "type": "scatter3d"
        },
        {
         "hovertemplate": "Countries and areas=South Sudan<br>Unemployment_Rate=%{x}<br>Grade_2_3_Proficiency_Reading=%{y}<br>Grade_2_3_Proficiency_Math=%{z}<extra></extra>",
         "legendgroup": "South Sudan",
         "marker": {
          "color": "#B6E880",
          "symbol": "circle"
         },
         "mode": "markers",
         "name": "South Sudan",
         "scene": "scene",
         "showlegend": true,
         "x": [
          12.24
         ],
         "y": [
          0
         ],
         "z": [
          0
         ],
         "type": "scatter3d"
        },
        {
         "hovertemplate": "Countries and areas=Spain<br>Unemployment_Rate=%{x}<br>Grade_2_3_Proficiency_Reading=%{y}<br>Grade_2_3_Proficiency_Math=%{z}<extra></extra>",
         "legendgroup": "Spain",
         "marker": {
          "color": "#FF97FF",
          "symbol": "circle"
         },
         "mode": "markers",
         "name": "Spain",
         "scene": "scene",
         "showlegend": true,
         "x": [
          13.96
         ],
         "y": [
          97
         ],
         "z": [
          67
         ],
         "type": "scatter3d"
        },
        {
         "hovertemplate": "Countries and areas=Sri Lanka<br>Unemployment_Rate=%{x}<br>Grade_2_3_Proficiency_Reading=%{y}<br>Grade_2_3_Proficiency_Math=%{z}<extra></extra>",
         "legendgroup": "Sri Lanka",
         "marker": {
          "color": "#FECB52",
          "symbol": "circle"
         },
         "mode": "markers",
         "name": "Sri Lanka",
         "scene": "scene",
         "showlegend": true,
         "x": [
          4.2
         ],
         "y": [
          0
         ],
         "z": [
          0
         ],
         "type": "scatter3d"
        },
        {
         "hovertemplate": "Countries and areas=Palestinian National Authority<br>Unemployment_Rate=%{x}<br>Grade_2_3_Proficiency_Reading=%{y}<br>Grade_2_3_Proficiency_Math=%{z}<extra></extra>",
         "legendgroup": "Palestinian National Authority",
         "marker": {
          "color": "#636efa",
          "symbol": "circle"
         },
         "mode": "markers",
         "name": "Palestinian National Authority",
         "scene": "scene",
         "showlegend": true,
         "x": [
          0.0
         ],
         "y": [
          0
         ],
         "z": [
          0
         ],
         "type": "scatter3d"
        },
        {
         "hovertemplate": "Countries and areas=Sudan<br>Unemployment_Rate=%{x}<br>Grade_2_3_Proficiency_Reading=%{y}<br>Grade_2_3_Proficiency_Math=%{z}<extra></extra>",
         "legendgroup": "Sudan",
         "marker": {
          "color": "#EF553B",
          "symbol": "circle"
         },
         "mode": "markers",
         "name": "Sudan",
         "scene": "scene",
         "showlegend": true,
         "x": [
          16.53
         ],
         "y": [
          0
         ],
         "z": [
          0
         ],
         "type": "scatter3d"
        },
        {
         "hovertemplate": "Countries and areas=Suriname<br>Unemployment_Rate=%{x}<br>Grade_2_3_Proficiency_Reading=%{y}<br>Grade_2_3_Proficiency_Math=%{z}<extra></extra>",
         "legendgroup": "Suriname",
         "marker": {
          "color": "#00cc96",
          "symbol": "circle"
         },
         "mode": "markers",
         "name": "Suriname",
         "scene": "scene",
         "showlegend": true,
         "x": [
          7.33
         ],
         "y": [
          30
         ],
         "z": [
          0
         ],
         "type": "scatter3d"
        },
        {
         "hovertemplate": "Countries and areas=Sweden<br>Unemployment_Rate=%{x}<br>Grade_2_3_Proficiency_Reading=%{y}<br>Grade_2_3_Proficiency_Math=%{z}<extra></extra>",
         "legendgroup": "Sweden",
         "marker": {
          "color": "#ab63fa",
          "symbol": "circle"
         },
         "mode": "markers",
         "name": "Sweden",
         "scene": "scene",
         "showlegend": true,
         "x": [
          6.48
         ],
         "y": [
          98
         ],
         "z": [
          75
         ],
         "type": "scatter3d"
        },
        {
         "hovertemplate": "Countries and areas=Switzerland<br>Unemployment_Rate=%{x}<br>Grade_2_3_Proficiency_Reading=%{y}<br>Grade_2_3_Proficiency_Math=%{z}<extra></extra>",
         "legendgroup": "Switzerland",
         "marker": {
          "color": "#FFA15A",
          "symbol": "circle"
         },
         "mode": "markers",
         "name": "Switzerland",
         "scene": "scene",
         "showlegend": true,
         "x": [
          4.58
         ],
         "y": [
          0
         ],
         "z": [
          0
         ],
         "type": "scatter3d"
        },
        {
         "hovertemplate": "Countries and areas=Syria<br>Unemployment_Rate=%{x}<br>Grade_2_3_Proficiency_Reading=%{y}<br>Grade_2_3_Proficiency_Math=%{z}<extra></extra>",
         "legendgroup": "Syria",
         "marker": {
          "color": "#19d3f3",
          "symbol": "circle"
         },
         "mode": "markers",
         "name": "Syria",
         "scene": "scene",
         "showlegend": true,
         "x": [
          8.37
         ],
         "y": [
          0
         ],
         "z": [
          0
         ],
         "type": "scatter3d"
        },
        {
         "hovertemplate": "Countries and areas=Tajikistan<br>Unemployment_Rate=%{x}<br>Grade_2_3_Proficiency_Reading=%{y}<br>Grade_2_3_Proficiency_Math=%{z}<extra></extra>",
         "legendgroup": "Tajikistan",
         "marker": {
          "color": "#FF6692",
          "symbol": "circle"
         },
         "mode": "markers",
         "name": "Tajikistan",
         "scene": "scene",
         "showlegend": true,
         "x": [
          11.02
         ],
         "y": [
          0
         ],
         "z": [
          0
         ],
         "type": "scatter3d"
        },
        {
         "hovertemplate": "Countries and areas=Thailand<br>Unemployment_Rate=%{x}<br>Grade_2_3_Proficiency_Reading=%{y}<br>Grade_2_3_Proficiency_Math=%{z}<extra></extra>",
         "legendgroup": "Thailand",
         "marker": {
          "color": "#B6E880",
          "symbol": "circle"
         },
         "mode": "markers",
         "name": "Thailand",
         "scene": "scene",
         "showlegend": true,
         "x": [
          0.75
         ],
         "y": [
          0
         ],
         "z": [
          0
         ],
         "type": "scatter3d"
        },
        {
         "hovertemplate": "Countries and areas=East Timor<br>Unemployment_Rate=%{x}<br>Grade_2_3_Proficiency_Reading=%{y}<br>Grade_2_3_Proficiency_Math=%{z}<extra></extra>",
         "legendgroup": "East Timor",
         "marker": {
          "color": "#FF97FF",
          "symbol": "circle"
         },
         "mode": "markers",
         "name": "East Timor",
         "scene": "scene",
         "showlegend": true,
         "x": [
          4.55
         ],
         "y": [
          0
         ],
         "z": [
          0
         ],
         "type": "scatter3d"
        },
        {
         "hovertemplate": "Countries and areas=Togo<br>Unemployment_Rate=%{x}<br>Grade_2_3_Proficiency_Reading=%{y}<br>Grade_2_3_Proficiency_Math=%{z}<extra></extra>",
         "legendgroup": "Togo",
         "marker": {
          "color": "#FECB52",
          "symbol": "circle"
         },
         "mode": "markers",
         "name": "Togo",
         "scene": "scene",
         "showlegend": true,
         "x": [
          2.04
         ],
         "y": [
          19
         ],
         "z": [
          40
         ],
         "type": "scatter3d"
        },
        {
         "hovertemplate": "Countries and areas=Tokelau<br>Unemployment_Rate=%{x}<br>Grade_2_3_Proficiency_Reading=%{y}<br>Grade_2_3_Proficiency_Math=%{z}<extra></extra>",
         "legendgroup": "Tokelau",
         "marker": {
          "color": "#636efa",
          "symbol": "circle"
         },
         "mode": "markers",
         "name": "Tokelau",
         "scene": "scene",
         "showlegend": true,
         "x": [
          0.0
         ],
         "y": [
          0
         ],
         "z": [
          0
         ],
         "type": "scatter3d"
        },
        {
         "hovertemplate": "Countries and areas=Tonga<br>Unemployment_Rate=%{x}<br>Grade_2_3_Proficiency_Reading=%{y}<br>Grade_2_3_Proficiency_Math=%{z}<extra></extra>",
         "legendgroup": "Tonga",
         "marker": {
          "color": "#EF553B",
          "symbol": "circle"
         },
         "mode": "markers",
         "name": "Tonga",
         "scene": "scene",
         "showlegend": true,
         "x": [
          1.12
         ],
         "y": [
          0
         ],
         "z": [
          0
         ],
         "type": "scatter3d"
        },
        {
         "hovertemplate": "Countries and areas=Trinidad and Tobago<br>Unemployment_Rate=%{x}<br>Grade_2_3_Proficiency_Reading=%{y}<br>Grade_2_3_Proficiency_Math=%{z}<extra></extra>",
         "legendgroup": "Trinidad and Tobago",
         "marker": {
          "color": "#00cc96",
          "symbol": "circle"
         },
         "mode": "markers",
         "name": "Trinidad and Tobago",
         "scene": "scene",
         "showlegend": true,
         "x": [
          2.69
         ],
         "y": [
          80
         ],
         "z": [
          0
         ],
         "type": "scatter3d"
        },
        {
         "hovertemplate": "Countries and areas=Tunisia<br>Unemployment_Rate=%{x}<br>Grade_2_3_Proficiency_Reading=%{y}<br>Grade_2_3_Proficiency_Math=%{z}<extra></extra>",
         "legendgroup": "Tunisia",
         "marker": {
          "color": "#ab63fa",
          "symbol": "circle"
         },
         "mode": "markers",
         "name": "Tunisia",
         "scene": "scene",
         "showlegend": true,
         "x": [
          16.02
         ],
         "y": [
          47
         ],
         "z": [
          0
         ],
         "type": "scatter3d"
        },
        {
         "hovertemplate": "Countries and areas=Turkey<br>Unemployment_Rate=%{x}<br>Grade_2_3_Proficiency_Reading=%{y}<br>Grade_2_3_Proficiency_Math=%{z}<extra></extra>",
         "legendgroup": "Turkey",
         "marker": {
          "color": "#FFA15A",
          "symbol": "circle"
         },
         "mode": "markers",
         "name": "Turkey",
         "scene": "scene",
         "showlegend": true,
         "x": [
          13.49
         ],
         "y": [
          0
         ],
         "z": [
          0
         ],
         "type": "scatter3d"
        },
        {
         "hovertemplate": "Countries and areas=Turkmenistan<br>Unemployment_Rate=%{x}<br>Grade_2_3_Proficiency_Reading=%{y}<br>Grade_2_3_Proficiency_Math=%{z}<extra></extra>",
         "legendgroup": "Turkmenistan",
         "marker": {
          "color": "#19d3f3",
          "symbol": "circle"
         },
         "mode": "markers",
         "name": "Turkmenistan",
         "scene": "scene",
         "showlegend": true,
         "x": [
          3.91
         ],
         "y": [
          0
         ],
         "z": [
          0
         ],
         "type": "scatter3d"
        },
        {
         "hovertemplate": "Countries and areas=Turks and Caicos Islands<br>Unemployment_Rate=%{x}<br>Grade_2_3_Proficiency_Reading=%{y}<br>Grade_2_3_Proficiency_Math=%{z}<extra></extra>",
         "legendgroup": "Turks and Caicos Islands",
         "marker": {
          "color": "#FF6692",
          "symbol": "circle"
         },
         "mode": "markers",
         "name": "Turks and Caicos Islands",
         "scene": "scene",
         "showlegend": true,
         "x": [
          0.0
         ],
         "y": [
          0
         ],
         "z": [
          0
         ],
         "type": "scatter3d"
        },
        {
         "hovertemplate": "Countries and areas=Tuvalu<br>Unemployment_Rate=%{x}<br>Grade_2_3_Proficiency_Reading=%{y}<br>Grade_2_3_Proficiency_Math=%{z}<extra></extra>",
         "legendgroup": "Tuvalu",
         "marker": {
          "color": "#B6E880",
          "symbol": "circle"
         },
         "mode": "markers",
         "name": "Tuvalu",
         "scene": "scene",
         "showlegend": true,
         "x": [
          0.0
         ],
         "y": [
          0
         ],
         "z": [
          0
         ],
         "type": "scatter3d"
        },
        {
         "hovertemplate": "Countries and areas=Uganda<br>Unemployment_Rate=%{x}<br>Grade_2_3_Proficiency_Reading=%{y}<br>Grade_2_3_Proficiency_Math=%{z}<extra></extra>",
         "legendgroup": "Uganda",
         "marker": {
          "color": "#FF97FF",
          "symbol": "circle"
         },
         "mode": "markers",
         "name": "Uganda",
         "scene": "scene",
         "showlegend": true,
         "x": [
          1.84
         ],
         "y": [
          33
         ],
         "z": [
          21
         ],
         "type": "scatter3d"
        },
        {
         "hovertemplate": "Countries and areas=Ukraine<br>Unemployment_Rate=%{x}<br>Grade_2_3_Proficiency_Reading=%{y}<br>Grade_2_3_Proficiency_Math=%{z}<extra></extra>",
         "legendgroup": "Ukraine",
         "marker": {
          "color": "#FECB52",
          "symbol": "circle"
         },
         "mode": "markers",
         "name": "Ukraine",
         "scene": "scene",
         "showlegend": true,
         "x": [
          8.88
         ],
         "y": [
          0
         ],
         "z": [
          0
         ],
         "type": "scatter3d"
        },
        {
         "hovertemplate": "Countries and areas=United Arab Emirates<br>Unemployment_Rate=%{x}<br>Grade_2_3_Proficiency_Reading=%{y}<br>Grade_2_3_Proficiency_Math=%{z}<extra></extra>",
         "legendgroup": "United Arab Emirates",
         "marker": {
          "color": "#636efa",
          "symbol": "circle"
         },
         "mode": "markers",
         "name": "United Arab Emirates",
         "scene": "scene",
         "showlegend": true,
         "x": [
          2.35
         ],
         "y": [
          68
         ],
         "z": [
          42
         ],
         "type": "scatter3d"
        },
        {
         "hovertemplate": "Countries and areas=United Kingdom<br>Unemployment_Rate=%{x}<br>Grade_2_3_Proficiency_Reading=%{y}<br>Grade_2_3_Proficiency_Math=%{z}<extra></extra>",
         "legendgroup": "United Kingdom",
         "marker": {
          "color": "#EF553B",
          "symbol": "circle"
         },
         "mode": "markers",
         "name": "United Kingdom",
         "scene": "scene",
         "showlegend": true,
         "x": [
          3.85
         ],
         "y": [
          0
         ],
         "z": [
          0
         ],
         "type": "scatter3d"
        },
        {
         "hovertemplate": "Countries and areas=Tanzania<br>Unemployment_Rate=%{x}<br>Grade_2_3_Proficiency_Reading=%{y}<br>Grade_2_3_Proficiency_Math=%{z}<extra></extra>",
         "legendgroup": "Tanzania",
         "marker": {
          "color": "#00cc96",
          "symbol": "circle"
         },
         "mode": "markers",
         "name": "Tanzania",
         "scene": "scene",
         "showlegend": true,
         "x": [
          1.98
         ],
         "y": [
          0
         ],
         "z": [
          0
         ],
         "type": "scatter3d"
        },
        {
         "hovertemplate": "Countries and areas=United States<br>Unemployment_Rate=%{x}<br>Grade_2_3_Proficiency_Reading=%{y}<br>Grade_2_3_Proficiency_Math=%{z}<extra></extra>",
         "legendgroup": "United States",
         "marker": {
          "color": "#ab63fa",
          "symbol": "circle"
         },
         "mode": "markers",
         "name": "United States",
         "scene": "scene",
         "showlegend": true,
         "x": [
          14.7
         ],
         "y": [
          0
         ],
         "z": [
          0
         ],
         "type": "scatter3d"
        },
        {
         "hovertemplate": "Countries and areas=Uruguay<br>Unemployment_Rate=%{x}<br>Grade_2_3_Proficiency_Reading=%{y}<br>Grade_2_3_Proficiency_Math=%{z}<extra></extra>",
         "legendgroup": "Uruguay",
         "marker": {
          "color": "#FFA15A",
          "symbol": "circle"
         },
         "mode": "markers",
         "name": "Uruguay",
         "scene": "scene",
         "showlegend": true,
         "x": [
          8.73
         ],
         "y": [
          80
         ],
         "z": [
          75
         ],
         "type": "scatter3d"
        },
        {
         "hovertemplate": "Countries and areas=Uzbekistan<br>Unemployment_Rate=%{x}<br>Grade_2_3_Proficiency_Reading=%{y}<br>Grade_2_3_Proficiency_Math=%{z}<extra></extra>",
         "legendgroup": "Uzbekistan",
         "marker": {
          "color": "#19d3f3",
          "symbol": "circle"
         },
         "mode": "markers",
         "name": "Uzbekistan",
         "scene": "scene",
         "showlegend": true,
         "x": [
          5.92
         ],
         "y": [
          0
         ],
         "z": [
          0
         ],
         "type": "scatter3d"
        },
        {
         "hovertemplate": "Countries and areas=Vanuatu<br>Unemployment_Rate=%{x}<br>Grade_2_3_Proficiency_Reading=%{y}<br>Grade_2_3_Proficiency_Math=%{z}<extra></extra>",
         "legendgroup": "Vanuatu",
         "marker": {
          "color": "#FF6692",
          "symbol": "circle"
         },
         "mode": "markers",
         "name": "Vanuatu",
         "scene": "scene",
         "showlegend": true,
         "x": [
          4.39
         ],
         "y": [
          0
         ],
         "z": [
          0
         ],
         "type": "scatter3d"
        },
        {
         "hovertemplate": "Countries and areas=Venezuela<br>Unemployment_Rate=%{x}<br>Grade_2_3_Proficiency_Reading=%{y}<br>Grade_2_3_Proficiency_Math=%{z}<extra></extra>",
         "legendgroup": "Venezuela",
         "marker": {
          "color": "#B6E880",
          "symbol": "circle"
         },
         "mode": "markers",
         "name": "Venezuela",
         "scene": "scene",
         "showlegend": true,
         "x": [
          8.8
         ],
         "y": [
          0
         ],
         "z": [
          0
         ],
         "type": "scatter3d"
        },
        {
         "hovertemplate": "Countries and areas=Vietnam<br>Unemployment_Rate=%{x}<br>Grade_2_3_Proficiency_Reading=%{y}<br>Grade_2_3_Proficiency_Math=%{z}<extra></extra>",
         "legendgroup": "Vietnam",
         "marker": {
          "color": "#FF97FF",
          "symbol": "circle"
         },
         "mode": "markers",
         "name": "Vietnam",
         "scene": "scene",
         "showlegend": true,
         "x": [
          2.01
         ],
         "y": [
          0
         ],
         "z": [
          0
         ],
         "type": "scatter3d"
        },
        {
         "hovertemplate": "Countries and areas=Yemen<br>Unemployment_Rate=%{x}<br>Grade_2_3_Proficiency_Reading=%{y}<br>Grade_2_3_Proficiency_Math=%{z}<extra></extra>",
         "legendgroup": "Yemen",
         "marker": {
          "color": "#FECB52",
          "symbol": "circle"
         },
         "mode": "markers",
         "name": "Yemen",
         "scene": "scene",
         "showlegend": true,
         "x": [
          12.91
         ],
         "y": [
          0
         ],
         "z": [
          0
         ],
         "type": "scatter3d"
        },
        {
         "hovertemplate": "Countries and areas=Zambia<br>Unemployment_Rate=%{x}<br>Grade_2_3_Proficiency_Reading=%{y}<br>Grade_2_3_Proficiency_Math=%{z}<extra></extra>",
         "legendgroup": "Zambia",
         "marker": {
          "color": "#636efa",
          "symbol": "circle"
         },
         "mode": "markers",
         "name": "Zambia",
         "scene": "scene",
         "showlegend": true,
         "x": [
          11.43
         ],
         "y": [
          0
         ],
         "z": [
          0
         ],
         "type": "scatter3d"
        },
        {
         "hovertemplate": "Countries and areas=Zimbabwe<br>Unemployment_Rate=%{x}<br>Grade_2_3_Proficiency_Reading=%{y}<br>Grade_2_3_Proficiency_Math=%{z}<extra></extra>",
         "legendgroup": "Zimbabwe",
         "marker": {
          "color": "#EF553B",
          "symbol": "circle"
         },
         "mode": "markers",
         "name": "Zimbabwe",
         "scene": "scene",
         "showlegend": true,
         "x": [
          4.95
         ],
         "y": [
          20
         ],
         "z": [
          0
         ],
         "type": "scatter3d"
        }
       ],
       "layout": {
        "template": {
         "data": {
          "histogram2dcontour": [
           {
            "type": "histogram2dcontour",
            "colorbar": {
             "outlinewidth": 0,
             "ticks": ""
            },
            "colorscale": [
             [
              0.0,
              "#0d0887"
             ],
             [
              0.1111111111111111,
              "#46039f"
             ],
             [
              0.2222222222222222,
              "#7201a8"
             ],
             [
              0.3333333333333333,
              "#9c179e"
             ],
             [
              0.4444444444444444,
              "#bd3786"
             ],
             [
              0.5555555555555556,
              "#d8576b"
             ],
             [
              0.6666666666666666,
              "#ed7953"
             ],
             [
              0.7777777777777778,
              "#fb9f3a"
             ],
             [
              0.8888888888888888,
              "#fdca26"
             ],
             [
              1.0,
              "#f0f921"
             ]
            ]
           }
          ],
          "choropleth": [
           {
            "type": "choropleth",
            "colorbar": {
             "outlinewidth": 0,
             "ticks": ""
            }
           }
          ],
          "histogram2d": [
           {
            "type": "histogram2d",
            "colorbar": {
             "outlinewidth": 0,
             "ticks": ""
            },
            "colorscale": [
             [
              0.0,
              "#0d0887"
             ],
             [
              0.1111111111111111,
              "#46039f"
             ],
             [
              0.2222222222222222,
              "#7201a8"
             ],
             [
              0.3333333333333333,
              "#9c179e"
             ],
             [
              0.4444444444444444,
              "#bd3786"
             ],
             [
              0.5555555555555556,
              "#d8576b"
             ],
             [
              0.6666666666666666,
              "#ed7953"
             ],
             [
              0.7777777777777778,
              "#fb9f3a"
             ],
             [
              0.8888888888888888,
              "#fdca26"
             ],
             [
              1.0,
              "#f0f921"
             ]
            ]
           }
          ],
          "heatmap": [
           {
            "type": "heatmap",
            "colorbar": {
             "outlinewidth": 0,
             "ticks": ""
            },
            "colorscale": [
             [
              0.0,
              "#0d0887"
             ],
             [
              0.1111111111111111,
              "#46039f"
             ],
             [
              0.2222222222222222,
              "#7201a8"
             ],
             [
              0.3333333333333333,
              "#9c179e"
             ],
             [
              0.4444444444444444,
              "#bd3786"
             ],
             [
              0.5555555555555556,
              "#d8576b"
             ],
             [
              0.6666666666666666,
              "#ed7953"
             ],
             [
              0.7777777777777778,
              "#fb9f3a"
             ],
             [
              0.8888888888888888,
              "#fdca26"
             ],
             [
              1.0,
              "#f0f921"
             ]
            ]
           }
          ],
          "heatmapgl": [
           {
            "type": "heatmapgl",
            "colorbar": {
             "outlinewidth": 0,
             "ticks": ""
            },
            "colorscale": [
             [
              0.0,
              "#0d0887"
             ],
             [
              0.1111111111111111,
              "#46039f"
             ],
             [
              0.2222222222222222,
              "#7201a8"
             ],
             [
              0.3333333333333333,
              "#9c179e"
             ],
             [
              0.4444444444444444,
              "#bd3786"
             ],
             [
              0.5555555555555556,
              "#d8576b"
             ],
             [
              0.6666666666666666,
              "#ed7953"
             ],
             [
              0.7777777777777778,
              "#fb9f3a"
             ],
             [
              0.8888888888888888,
              "#fdca26"
             ],
             [
              1.0,
              "#f0f921"
             ]
            ]
           }
          ],
          "contourcarpet": [
           {
            "type": "contourcarpet",
            "colorbar": {
             "outlinewidth": 0,
             "ticks": ""
            }
           }
          ],
          "contour": [
           {
            "type": "contour",
            "colorbar": {
             "outlinewidth": 0,
             "ticks": ""
            },
            "colorscale": [
             [
              0.0,
              "#0d0887"
             ],
             [
              0.1111111111111111,
              "#46039f"
             ],
             [
              0.2222222222222222,
              "#7201a8"
             ],
             [
              0.3333333333333333,
              "#9c179e"
             ],
             [
              0.4444444444444444,
              "#bd3786"
             ],
             [
              0.5555555555555556,
              "#d8576b"
             ],
             [
              0.6666666666666666,
              "#ed7953"
             ],
             [
              0.7777777777777778,
              "#fb9f3a"
             ],
             [
              0.8888888888888888,
              "#fdca26"
             ],
             [
              1.0,
              "#f0f921"
             ]
            ]
           }
          ],
          "surface": [
           {
            "type": "surface",
            "colorbar": {
             "outlinewidth": 0,
             "ticks": ""
            },
            "colorscale": [
             [
              0.0,
              "#0d0887"
             ],
             [
              0.1111111111111111,
              "#46039f"
             ],
             [
              0.2222222222222222,
              "#7201a8"
             ],
             [
              0.3333333333333333,
              "#9c179e"
             ],
             [
              0.4444444444444444,
              "#bd3786"
             ],
             [
              0.5555555555555556,
              "#d8576b"
             ],
             [
              0.6666666666666666,
              "#ed7953"
             ],
             [
              0.7777777777777778,
              "#fb9f3a"
             ],
             [
              0.8888888888888888,
              "#fdca26"
             ],
             [
              1.0,
              "#f0f921"
             ]
            ]
           }
          ],
          "mesh3d": [
           {
            "type": "mesh3d",
            "colorbar": {
             "outlinewidth": 0,
             "ticks": ""
            }
           }
          ],
          "scatter": [
           {
            "marker": {
             "line": {
              "color": "#283442"
             }
            },
            "type": "scatter"
           }
          ],
          "parcoords": [
           {
            "type": "parcoords",
            "line": {
             "colorbar": {
              "outlinewidth": 0,
              "ticks": ""
             }
            }
           }
          ],
          "scatterpolargl": [
           {
            "type": "scatterpolargl",
            "marker": {
             "colorbar": {
              "outlinewidth": 0,
              "ticks": ""
             }
            }
           }
          ],
          "bar": [
           {
            "error_x": {
             "color": "#f2f5fa"
            },
            "error_y": {
             "color": "#f2f5fa"
            },
            "marker": {
             "line": {
              "color": "rgb(17,17,17)",
              "width": 0.5
             },
             "pattern": {
              "fillmode": "overlay",
              "size": 10,
              "solidity": 0.2
             }
            },
            "type": "bar"
           }
          ],
          "scattergeo": [
           {
            "type": "scattergeo",
            "marker": {
             "colorbar": {
              "outlinewidth": 0,
              "ticks": ""
             }
            }
           }
          ],
          "scatterpolar": [
           {
            "type": "scatterpolar",
            "marker": {
             "colorbar": {
              "outlinewidth": 0,
              "ticks": ""
             }
            }
           }
          ],
          "histogram": [
           {
            "marker": {
             "pattern": {
              "fillmode": "overlay",
              "size": 10,
              "solidity": 0.2
             }
            },
            "type": "histogram"
           }
          ],
          "scattergl": [
           {
            "marker": {
             "line": {
              "color": "#283442"
             }
            },
            "type": "scattergl"
           }
          ],
          "scatter3d": [
           {
            "type": "scatter3d",
            "line": {
             "colorbar": {
              "outlinewidth": 0,
              "ticks": ""
             }
            },
            "marker": {
             "colorbar": {
              "outlinewidth": 0,
              "ticks": ""
             }
            }
           }
          ],
          "scattermapbox": [
           {
            "type": "scattermapbox",
            "marker": {
             "colorbar": {
              "outlinewidth": 0,
              "ticks": ""
             }
            }
           }
          ],
          "scatterternary": [
           {
            "type": "scatterternary",
            "marker": {
             "colorbar": {
              "outlinewidth": 0,
              "ticks": ""
             }
            }
           }
          ],
          "scattercarpet": [
           {
            "type": "scattercarpet",
            "marker": {
             "colorbar": {
              "outlinewidth": 0,
              "ticks": ""
             }
            }
           }
          ],
          "carpet": [
           {
            "aaxis": {
             "endlinecolor": "#A2B1C6",
             "gridcolor": "#506784",
             "linecolor": "#506784",
             "minorgridcolor": "#506784",
             "startlinecolor": "#A2B1C6"
            },
            "baxis": {
             "endlinecolor": "#A2B1C6",
             "gridcolor": "#506784",
             "linecolor": "#506784",
             "minorgridcolor": "#506784",
             "startlinecolor": "#A2B1C6"
            },
            "type": "carpet"
           }
          ],
          "table": [
           {
            "cells": {
             "fill": {
              "color": "#506784"
             },
             "line": {
              "color": "rgb(17,17,17)"
             }
            },
            "header": {
             "fill": {
              "color": "#2a3f5f"
             },
             "line": {
              "color": "rgb(17,17,17)"
             }
            },
            "type": "table"
           }
          ],
          "barpolar": [
           {
            "marker": {
             "line": {
              "color": "rgb(17,17,17)",
              "width": 0.5
             },
             "pattern": {
              "fillmode": "overlay",
              "size": 10,
              "solidity": 0.2
             }
            },
            "type": "barpolar"
           }
          ],
          "pie": [
           {
            "automargin": true,
            "type": "pie"
           }
          ]
         },
         "layout": {
          "autotypenumbers": "strict",
          "colorway": [
           "#636efa",
           "#EF553B",
           "#00cc96",
           "#ab63fa",
           "#FFA15A",
           "#19d3f3",
           "#FF6692",
           "#B6E880",
           "#FF97FF",
           "#FECB52"
          ],
          "font": {
           "color": "#f2f5fa"
          },
          "hovermode": "closest",
          "hoverlabel": {
           "align": "left"
          },
          "paper_bgcolor": "rgb(17,17,17)",
          "plot_bgcolor": "rgb(17,17,17)",
          "polar": {
           "bgcolor": "rgb(17,17,17)",
           "angularaxis": {
            "gridcolor": "#506784",
            "linecolor": "#506784",
            "ticks": ""
           },
           "radialaxis": {
            "gridcolor": "#506784",
            "linecolor": "#506784",
            "ticks": ""
           }
          },
          "ternary": {
           "bgcolor": "rgb(17,17,17)",
           "aaxis": {
            "gridcolor": "#506784",
            "linecolor": "#506784",
            "ticks": ""
           },
           "baxis": {
            "gridcolor": "#506784",
            "linecolor": "#506784",
            "ticks": ""
           },
           "caxis": {
            "gridcolor": "#506784",
            "linecolor": "#506784",
            "ticks": ""
           }
          },
          "coloraxis": {
           "colorbar": {
            "outlinewidth": 0,
            "ticks": ""
           }
          },
          "colorscale": {
           "sequential": [
            [
             0.0,
             "#0d0887"
            ],
            [
             0.1111111111111111,
             "#46039f"
            ],
            [
             0.2222222222222222,
             "#7201a8"
            ],
            [
             0.3333333333333333,
             "#9c179e"
            ],
            [
             0.4444444444444444,
             "#bd3786"
            ],
            [
             0.5555555555555556,
             "#d8576b"
            ],
            [
             0.6666666666666666,
             "#ed7953"
            ],
            [
             0.7777777777777778,
             "#fb9f3a"
            ],
            [
             0.8888888888888888,
             "#fdca26"
            ],
            [
             1.0,
             "#f0f921"
            ]
           ],
           "sequentialminus": [
            [
             0.0,
             "#0d0887"
            ],
            [
             0.1111111111111111,
             "#46039f"
            ],
            [
             0.2222222222222222,
             "#7201a8"
            ],
            [
             0.3333333333333333,
             "#9c179e"
            ],
            [
             0.4444444444444444,
             "#bd3786"
            ],
            [
             0.5555555555555556,
             "#d8576b"
            ],
            [
             0.6666666666666666,
             "#ed7953"
            ],
            [
             0.7777777777777778,
             "#fb9f3a"
            ],
            [
             0.8888888888888888,
             "#fdca26"
            ],
            [
             1.0,
             "#f0f921"
            ]
           ],
           "diverging": [
            [
             0,
             "#8e0152"
            ],
            [
             0.1,
             "#c51b7d"
            ],
            [
             0.2,
             "#de77ae"
            ],
            [
             0.3,
             "#f1b6da"
            ],
            [
             0.4,
             "#fde0ef"
            ],
            [
             0.5,
             "#f7f7f7"
            ],
            [
             0.6,
             "#e6f5d0"
            ],
            [
             0.7,
             "#b8e186"
            ],
            [
             0.8,
             "#7fbc41"
            ],
            [
             0.9,
             "#4d9221"
            ],
            [
             1,
             "#276419"
            ]
           ]
          },
          "xaxis": {
           "gridcolor": "#283442",
           "linecolor": "#506784",
           "ticks": "",
           "title": {
            "standoff": 15
           },
           "zerolinecolor": "#283442",
           "automargin": true,
           "zerolinewidth": 2
          },
          "yaxis": {
           "gridcolor": "#283442",
           "linecolor": "#506784",
           "ticks": "",
           "title": {
            "standoff": 15
           },
           "zerolinecolor": "#283442",
           "automargin": true,
           "zerolinewidth": 2
          },
          "scene": {
           "xaxis": {
            "backgroundcolor": "rgb(17,17,17)",
            "gridcolor": "#506784",
            "linecolor": "#506784",
            "showbackground": true,
            "ticks": "",
            "zerolinecolor": "#C8D4E3",
            "gridwidth": 2
           },
           "yaxis": {
            "backgroundcolor": "rgb(17,17,17)",
            "gridcolor": "#506784",
            "linecolor": "#506784",
            "showbackground": true,
            "ticks": "",
            "zerolinecolor": "#C8D4E3",
            "gridwidth": 2
           },
           "zaxis": {
            "backgroundcolor": "rgb(17,17,17)",
            "gridcolor": "#506784",
            "linecolor": "#506784",
            "showbackground": true,
            "ticks": "",
            "zerolinecolor": "#C8D4E3",
            "gridwidth": 2
           }
          },
          "shapedefaults": {
           "line": {
            "color": "#f2f5fa"
           }
          },
          "annotationdefaults": {
           "arrowcolor": "#f2f5fa",
           "arrowhead": 0,
           "arrowwidth": 1
          },
          "geo": {
           "bgcolor": "rgb(17,17,17)",
           "landcolor": "rgb(17,17,17)",
           "subunitcolor": "#506784",
           "showland": true,
           "showlakes": true,
           "lakecolor": "rgb(17,17,17)"
          },
          "title": {
           "x": 0.05
          },
          "updatemenudefaults": {
           "bgcolor": "#506784",
           "borderwidth": 0
          },
          "sliderdefaults": {
           "bgcolor": "#C8D4E3",
           "borderwidth": 1,
           "bordercolor": "rgb(17,17,17)",
           "tickwidth": 0
          },
          "mapbox": {
           "style": "dark"
          }
         }
        },
        "scene": {
         "domain": {
          "x": [
           0.0,
           1.0
          ],
          "y": [
           0.0,
           1.0
          ]
         },
         "xaxis": {
          "title": {
           "text": "Unemployment_Rate"
          }
         },
         "yaxis": {
          "title": {
           "text": "Grade_2_3_Proficiency_Reading"
          }
         },
         "zaxis": {
          "title": {
           "text": "Grade_2_3_Proficiency_Math"
          }
         }
        },
        "legend": {
         "title": {
          "text": "Countries and areas"
         },
         "tracegroupgap": 0
        },
        "title": {
         "text": "Unemployment vs. Proficiency"
        }
       },
       "config": {
        "plotlyServerURL": "https://plot.ly"
       }
      },
      "text/html": "<div>                            <div id=\"b9579d09-8d12-4d10-a34b-112b33011a9b\" class=\"plotly-graph-div\" style=\"height:525px; width:100%;\"></div>            <script type=\"text/javascript\">                require([\"plotly\"], function(Plotly) {                    window.PLOTLYENV=window.PLOTLYENV || {};                                    if (document.getElementById(\"b9579d09-8d12-4d10-a34b-112b33011a9b\")) {                    Plotly.newPlot(                        \"b9579d09-8d12-4d10-a34b-112b33011a9b\",                        [{\"hovertemplate\":\"Countries and areas=Afghanistan\\u003cbr\\u003eUnemployment_Rate=%{x}\\u003cbr\\u003eGrade_2_3_Proficiency_Reading=%{y}\\u003cbr\\u003eGrade_2_3_Proficiency_Math=%{z}\\u003cextra\\u003e\\u003c\\u002fextra\\u003e\",\"legendgroup\":\"Afghanistan\",\"marker\":{\"color\":\"#636efa\",\"symbol\":\"circle\"},\"mode\":\"markers\",\"name\":\"Afghanistan\",\"scene\":\"scene\",\"showlegend\":true,\"x\":[11.12],\"y\":[22],\"z\":[25],\"type\":\"scatter3d\"},{\"hovertemplate\":\"Countries and areas=Albania\\u003cbr\\u003eUnemployment_Rate=%{x}\\u003cbr\\u003eGrade_2_3_Proficiency_Reading=%{y}\\u003cbr\\u003eGrade_2_3_Proficiency_Math=%{z}\\u003cextra\\u003e\\u003c\\u002fextra\\u003e\",\"legendgroup\":\"Albania\",\"marker\":{\"color\":\"#EF553B\",\"symbol\":\"circle\"},\"mode\":\"markers\",\"name\":\"Albania\",\"scene\":\"scene\",\"showlegend\":true,\"x\":[12.33],\"y\":[0],\"z\":[0],\"type\":\"scatter3d\"},{\"hovertemplate\":\"Countries and areas=Algeria\\u003cbr\\u003eUnemployment_Rate=%{x}\\u003cbr\\u003eGrade_2_3_Proficiency_Reading=%{y}\\u003cbr\\u003eGrade_2_3_Proficiency_Math=%{z}\\u003cextra\\u003e\\u003c\\u002fextra\\u003e\",\"legendgroup\":\"Algeria\",\"marker\":{\"color\":\"#00cc96\",\"symbol\":\"circle\"},\"mode\":\"markers\",\"name\":\"Algeria\",\"scene\":\"scene\",\"showlegend\":true,\"x\":[11.7],\"y\":[0],\"z\":[0],\"type\":\"scatter3d\"},{\"hovertemplate\":\"Countries and areas=Andorra\\u003cbr\\u003eUnemployment_Rate=%{x}\\u003cbr\\u003eGrade_2_3_Proficiency_Reading=%{y}\\u003cbr\\u003eGrade_2_3_Proficiency_Math=%{z}\\u003cextra\\u003e\\u003c\\u002fextra\\u003e\",\"legendgroup\":\"Andorra\",\"marker\":{\"color\":\"#ab63fa\",\"symbol\":\"circle\"},\"mode\":\"markers\",\"name\":\"Andorra\",\"scene\":\"scene\",\"showlegend\":true,\"x\":[0.0],\"y\":[0],\"z\":[0],\"type\":\"scatter3d\"},{\"hovertemplate\":\"Countries and areas=Angola\\u003cbr\\u003eUnemployment_Rate=%{x}\\u003cbr\\u003eGrade_2_3_Proficiency_Reading=%{y}\\u003cbr\\u003eGrade_2_3_Proficiency_Math=%{z}\\u003cextra\\u003e\\u003c\\u002fextra\\u003e\",\"legendgroup\":\"Angola\",\"marker\":{\"color\":\"#FFA15A\",\"symbol\":\"circle\"},\"mode\":\"markers\",\"name\":\"Angola\",\"scene\":\"scene\",\"showlegend\":true,\"x\":[6.89],\"y\":[0],\"z\":[0],\"type\":\"scatter3d\"},{\"hovertemplate\":\"Countries and areas=Anguilla\\u003cbr\\u003eUnemployment_Rate=%{x}\\u003cbr\\u003eGrade_2_3_Proficiency_Reading=%{y}\\u003cbr\\u003eGrade_2_3_Proficiency_Math=%{z}\\u003cextra\\u003e\\u003c\\u002fextra\\u003e\",\"legendgroup\":\"Anguilla\",\"marker\":{\"color\":\"#19d3f3\",\"symbol\":\"circle\"},\"mode\":\"markers\",\"name\":\"Anguilla\",\"scene\":\"scene\",\"showlegend\":true,\"x\":[0.0],\"y\":[0],\"z\":[0],\"type\":\"scatter3d\"},{\"hovertemplate\":\"Countries and areas=Antigua and Barbuda\\u003cbr\\u003eUnemployment_Rate=%{x}\\u003cbr\\u003eGrade_2_3_Proficiency_Reading=%{y}\\u003cbr\\u003eGrade_2_3_Proficiency_Math=%{z}\\u003cextra\\u003e\\u003c\\u002fextra\\u003e\",\"legendgroup\":\"Antigua and Barbuda\",\"marker\":{\"color\":\"#FF6692\",\"symbol\":\"circle\"},\"mode\":\"markers\",\"name\":\"Antigua and Barbuda\",\"scene\":\"scene\",\"showlegend\":true,\"x\":[0.0],\"y\":[0],\"z\":[0],\"type\":\"scatter3d\"},{\"hovertemplate\":\"Countries and areas=Argentina\\u003cbr\\u003eUnemployment_Rate=%{x}\\u003cbr\\u003eGrade_2_3_Proficiency_Reading=%{y}\\u003cbr\\u003eGrade_2_3_Proficiency_Math=%{z}\\u003cextra\\u003e\\u003c\\u002fextra\\u003e\",\"legendgroup\":\"Argentina\",\"marker\":{\"color\":\"#B6E880\",\"symbol\":\"circle\"},\"mode\":\"markers\",\"name\":\"Argentina\",\"scene\":\"scene\",\"showlegend\":true,\"x\":[9.79],\"y\":[76],\"z\":[71],\"type\":\"scatter3d\"},{\"hovertemplate\":\"Countries and areas=Armenia\\u003cbr\\u003eUnemployment_Rate=%{x}\\u003cbr\\u003eGrade_2_3_Proficiency_Reading=%{y}\\u003cbr\\u003eGrade_2_3_Proficiency_Math=%{z}\\u003cextra\\u003e\\u003c\\u002fextra\\u003e\",\"legendgroup\":\"Armenia\",\"marker\":{\"color\":\"#FF97FF\",\"symbol\":\"circle\"},\"mode\":\"markers\",\"name\":\"Armenia\",\"scene\":\"scene\",\"showlegend\":true,\"x\":[16.99],\"y\":[0],\"z\":[0],\"type\":\"scatter3d\"},{\"hovertemplate\":\"Countries and areas=Australia\\u003cbr\\u003eUnemployment_Rate=%{x}\\u003cbr\\u003eGrade_2_3_Proficiency_Reading=%{y}\\u003cbr\\u003eGrade_2_3_Proficiency_Math=%{z}\\u003cextra\\u003e\\u003c\\u002fextra\\u003e\",\"legendgroup\":\"Australia\",\"marker\":{\"color\":\"#FECB52\",\"symbol\":\"circle\"},\"mode\":\"markers\",\"name\":\"Australia\",\"scene\":\"scene\",\"showlegend\":true,\"x\":[5.27],\"y\":[94],\"z\":[70],\"type\":\"scatter3d\"},{\"hovertemplate\":\"Countries and areas=Austria\\u003cbr\\u003eUnemployment_Rate=%{x}\\u003cbr\\u003eGrade_2_3_Proficiency_Reading=%{y}\\u003cbr\\u003eGrade_2_3_Proficiency_Math=%{z}\\u003cextra\\u003e\\u003c\\u002fextra\\u003e\",\"legendgroup\":\"Austria\",\"marker\":{\"color\":\"#636efa\",\"symbol\":\"circle\"},\"mode\":\"markers\",\"name\":\"Austria\",\"scene\":\"scene\",\"showlegend\":true,\"x\":[4.67],\"y\":[0],\"z\":[0],\"type\":\"scatter3d\"},{\"hovertemplate\":\"Countries and areas=Azerbaijan\\u003cbr\\u003eUnemployment_Rate=%{x}\\u003cbr\\u003eGrade_2_3_Proficiency_Reading=%{y}\\u003cbr\\u003eGrade_2_3_Proficiency_Math=%{z}\\u003cextra\\u003e\\u003c\\u002fextra\\u003e\",\"legendgroup\":\"Azerbaijan\",\"marker\":{\"color\":\"#EF553B\",\"symbol\":\"circle\"},\"mode\":\"markers\",\"name\":\"Azerbaijan\",\"scene\":\"scene\",\"showlegend\":true,\"x\":[5.51],\"y\":[0],\"z\":[0],\"type\":\"scatter3d\"},{\"hovertemplate\":\"Countries and areas=The Bahamas\\u003cbr\\u003eUnemployment_Rate=%{x}\\u003cbr\\u003eGrade_2_3_Proficiency_Reading=%{y}\\u003cbr\\u003eGrade_2_3_Proficiency_Math=%{z}\\u003cextra\\u003e\\u003c\\u002fextra\\u003e\",\"legendgroup\":\"The Bahamas\",\"marker\":{\"color\":\"#00cc96\",\"symbol\":\"circle\"},\"mode\":\"markers\",\"name\":\"The Bahamas\",\"scene\":\"scene\",\"showlegend\":true,\"x\":[10.36],\"y\":[0],\"z\":[0],\"type\":\"scatter3d\"},{\"hovertemplate\":\"Countries and areas=Bahrain\\u003cbr\\u003eUnemployment_Rate=%{x}\\u003cbr\\u003eGrade_2_3_Proficiency_Reading=%{y}\\u003cbr\\u003eGrade_2_3_Proficiency_Math=%{z}\\u003cextra\\u003e\\u003c\\u002fextra\\u003e\",\"legendgroup\":\"Bahrain\",\"marker\":{\"color\":\"#ab63fa\",\"symbol\":\"circle\"},\"mode\":\"markers\",\"name\":\"Bahrain\",\"scene\":\"scene\",\"showlegend\":true,\"x\":[0.71],\"y\":[69],\"z\":[40],\"type\":\"scatter3d\"},{\"hovertemplate\":\"Countries and areas=Bangladesh\\u003cbr\\u003eUnemployment_Rate=%{x}\\u003cbr\\u003eGrade_2_3_Proficiency_Reading=%{y}\\u003cbr\\u003eGrade_2_3_Proficiency_Math=%{z}\\u003cextra\\u003e\\u003c\\u002fextra\\u003e\",\"legendgroup\":\"Bangladesh\",\"marker\":{\"color\":\"#FFA15A\",\"symbol\":\"circle\"},\"mode\":\"markers\",\"name\":\"Bangladesh\",\"scene\":\"scene\",\"showlegend\":true,\"x\":[4.19],\"y\":[47],\"z\":[34],\"type\":\"scatter3d\"},{\"hovertemplate\":\"Countries and areas=Barbados\\u003cbr\\u003eUnemployment_Rate=%{x}\\u003cbr\\u003eGrade_2_3_Proficiency_Reading=%{y}\\u003cbr\\u003eGrade_2_3_Proficiency_Math=%{z}\\u003cextra\\u003e\\u003c\\u002fextra\\u003e\",\"legendgroup\":\"Barbados\",\"marker\":{\"color\":\"#19d3f3\",\"symbol\":\"circle\"},\"mode\":\"markers\",\"name\":\"Barbados\",\"scene\":\"scene\",\"showlegend\":true,\"x\":[10.33],\"y\":[0],\"z\":[0],\"type\":\"scatter3d\"},{\"hovertemplate\":\"Countries and areas=Belarus\\u003cbr\\u003eUnemployment_Rate=%{x}\\u003cbr\\u003eGrade_2_3_Proficiency_Reading=%{y}\\u003cbr\\u003eGrade_2_3_Proficiency_Math=%{z}\\u003cextra\\u003e\\u003c\\u002fextra\\u003e\",\"legendgroup\":\"Belarus\",\"marker\":{\"color\":\"#FF6692\",\"symbol\":\"circle\"},\"mode\":\"markers\",\"name\":\"Belarus\",\"scene\":\"scene\",\"showlegend\":true,\"x\":[4.59],\"y\":[0],\"z\":[0],\"type\":\"scatter3d\"},{\"hovertemplate\":\"Countries and areas=Belgium\\u003cbr\\u003eUnemployment_Rate=%{x}\\u003cbr\\u003eGrade_2_3_Proficiency_Reading=%{y}\\u003cbr\\u003eGrade_2_3_Proficiency_Math=%{z}\\u003cextra\\u003e\\u003c\\u002fextra\\u003e\",\"legendgroup\":\"Belgium\",\"marker\":{\"color\":\"#B6E880\",\"symbol\":\"circle\"},\"mode\":\"markers\",\"name\":\"Belgium\",\"scene\":\"scene\",\"showlegend\":true,\"x\":[5.59],\"y\":[0],\"z\":[0],\"type\":\"scatter3d\"},{\"hovertemplate\":\"Countries and areas=Belize\\u003cbr\\u003eUnemployment_Rate=%{x}\\u003cbr\\u003eGrade_2_3_Proficiency_Reading=%{y}\\u003cbr\\u003eGrade_2_3_Proficiency_Math=%{z}\\u003cextra\\u003e\\u003c\\u002fextra\\u003e\",\"legendgroup\":\"Belize\",\"marker\":{\"color\":\"#FF97FF\",\"symbol\":\"circle\"},\"mode\":\"markers\",\"name\":\"Belize\",\"scene\":\"scene\",\"showlegend\":true,\"x\":[6.41],\"y\":[0],\"z\":[0],\"type\":\"scatter3d\"},{\"hovertemplate\":\"Countries and areas=Benin\\u003cbr\\u003eUnemployment_Rate=%{x}\\u003cbr\\u003eGrade_2_3_Proficiency_Reading=%{y}\\u003cbr\\u003eGrade_2_3_Proficiency_Math=%{z}\\u003cextra\\u003e\\u003c\\u002fextra\\u003e\",\"legendgroup\":\"Benin\",\"marker\":{\"color\":\"#FECB52\",\"symbol\":\"circle\"},\"mode\":\"markers\",\"name\":\"Benin\",\"scene\":\"scene\",\"showlegend\":true,\"x\":[2.23],\"y\":[9],\"z\":[34],\"type\":\"scatter3d\"},{\"hovertemplate\":\"Countries and areas=Bhutan\\u003cbr\\u003eUnemployment_Rate=%{x}\\u003cbr\\u003eGrade_2_3_Proficiency_Reading=%{y}\\u003cbr\\u003eGrade_2_3_Proficiency_Math=%{z}\\u003cextra\\u003e\\u003c\\u002fextra\\u003e\",\"legendgroup\":\"Bhutan\",\"marker\":{\"color\":\"#636efa\",\"symbol\":\"circle\"},\"mode\":\"markers\",\"name\":\"Bhutan\",\"scene\":\"scene\",\"showlegend\":true,\"x\":[2.34],\"y\":[0],\"z\":[0],\"type\":\"scatter3d\"},{\"hovertemplate\":\"Countries and areas=Bolivia\\u003cbr\\u003eUnemployment_Rate=%{x}\\u003cbr\\u003eGrade_2_3_Proficiency_Reading=%{y}\\u003cbr\\u003eGrade_2_3_Proficiency_Math=%{z}\\u003cextra\\u003e\\u003c\\u002fextra\\u003e\",\"legendgroup\":\"Bolivia\",\"marker\":{\"color\":\"#EF553B\",\"symbol\":\"circle\"},\"mode\":\"markers\",\"name\":\"Bolivia\",\"scene\":\"scene\",\"showlegend\":true,\"x\":[3.5],\"y\":[0],\"z\":[0],\"type\":\"scatter3d\"},{\"hovertemplate\":\"Countries and areas=Bosnia and Herzegovina\\u003cbr\\u003eUnemployment_Rate=%{x}\\u003cbr\\u003eGrade_2_3_Proficiency_Reading=%{y}\\u003cbr\\u003eGrade_2_3_Proficiency_Math=%{z}\\u003cextra\\u003e\\u003c\\u002fextra\\u003e\",\"legendgroup\":\"Bosnia and Herzegovina\",\"marker\":{\"color\":\"#00cc96\",\"symbol\":\"circle\"},\"mode\":\"markers\",\"name\":\"Bosnia and Herzegovina\",\"scene\":\"scene\",\"showlegend\":true,\"x\":[18.42],\"y\":[0],\"z\":[0],\"type\":\"scatter3d\"},{\"hovertemplate\":\"Countries and areas=Botswana\\u003cbr\\u003eUnemployment_Rate=%{x}\\u003cbr\\u003eGrade_2_3_Proficiency_Reading=%{y}\\u003cbr\\u003eGrade_2_3_Proficiency_Math=%{z}\\u003cextra\\u003e\\u003c\\u002fextra\\u003e\",\"legendgroup\":\"Botswana\",\"marker\":{\"color\":\"#ab63fa\",\"symbol\":\"circle\"},\"mode\":\"markers\",\"name\":\"Botswana\",\"scene\":\"scene\",\"showlegend\":true,\"x\":[18.19],\"y\":[0],\"z\":[0],\"type\":\"scatter3d\"},{\"hovertemplate\":\"Countries and areas=Brazil\\u003cbr\\u003eUnemployment_Rate=%{x}\\u003cbr\\u003eGrade_2_3_Proficiency_Reading=%{y}\\u003cbr\\u003eGrade_2_3_Proficiency_Math=%{z}\\u003cextra\\u003e\\u003c\\u002fextra\\u003e\",\"legendgroup\":\"Brazil\",\"marker\":{\"color\":\"#FFA15A\",\"symbol\":\"circle\"},\"mode\":\"markers\",\"name\":\"Brazil\",\"scene\":\"scene\",\"showlegend\":true,\"x\":[12.08],\"y\":[80],\"z\":[71],\"type\":\"scatter3d\"},{\"hovertemplate\":\"Countries and areas=British Virgin Islands\\u003cbr\\u003eUnemployment_Rate=%{x}\\u003cbr\\u003eGrade_2_3_Proficiency_Reading=%{y}\\u003cbr\\u003eGrade_2_3_Proficiency_Math=%{z}\\u003cextra\\u003e\\u003c\\u002fextra\\u003e\",\"legendgroup\":\"British Virgin Islands\",\"marker\":{\"color\":\"#19d3f3\",\"symbol\":\"circle\"},\"mode\":\"markers\",\"name\":\"British Virgin Islands\",\"scene\":\"scene\",\"showlegend\":true,\"x\":[0.0],\"y\":[0],\"z\":[0],\"type\":\"scatter3d\"},{\"hovertemplate\":\"Countries and areas=Brunei\\u003cbr\\u003eUnemployment_Rate=%{x}\\u003cbr\\u003eGrade_2_3_Proficiency_Reading=%{y}\\u003cbr\\u003eGrade_2_3_Proficiency_Math=%{z}\\u003cextra\\u003e\\u003c\\u002fextra\\u003e\",\"legendgroup\":\"Brunei\",\"marker\":{\"color\":\"#FF6692\",\"symbol\":\"circle\"},\"mode\":\"markers\",\"name\":\"Brunei\",\"scene\":\"scene\",\"showlegend\":true,\"x\":[9.12],\"y\":[0],\"z\":[0],\"type\":\"scatter3d\"},{\"hovertemplate\":\"Countries and areas=Bulgaria\\u003cbr\\u003eUnemployment_Rate=%{x}\\u003cbr\\u003eGrade_2_3_Proficiency_Reading=%{y}\\u003cbr\\u003eGrade_2_3_Proficiency_Math=%{z}\\u003cextra\\u003e\\u003c\\u002fextra\\u003e\",\"legendgroup\":\"Bulgaria\",\"marker\":{\"color\":\"#B6E880\",\"symbol\":\"circle\"},\"mode\":\"markers\",\"name\":\"Bulgaria\",\"scene\":\"scene\",\"showlegend\":true,\"x\":[4.34],\"y\":[0],\"z\":[0],\"type\":\"scatter3d\"},{\"hovertemplate\":\"Countries and areas=Burkina Faso\\u003cbr\\u003eUnemployment_Rate=%{x}\\u003cbr\\u003eGrade_2_3_Proficiency_Reading=%{y}\\u003cbr\\u003eGrade_2_3_Proficiency_Math=%{z}\\u003cextra\\u003e\\u003c\\u002fextra\\u003e\",\"legendgroup\":\"Burkina Faso\",\"marker\":{\"color\":\"#FF97FF\",\"symbol\":\"circle\"},\"mode\":\"markers\",\"name\":\"Burkina Faso\",\"scene\":\"scene\",\"showlegend\":true,\"x\":[6.26],\"y\":[36],\"z\":[59],\"type\":\"scatter3d\"},{\"hovertemplate\":\"Countries and areas=Burundi\\u003cbr\\u003eUnemployment_Rate=%{x}\\u003cbr\\u003eGrade_2_3_Proficiency_Reading=%{y}\\u003cbr\\u003eGrade_2_3_Proficiency_Math=%{z}\\u003cextra\\u003e\\u003c\\u002fextra\\u003e\",\"legendgroup\":\"Burundi\",\"marker\":{\"color\":\"#FECB52\",\"symbol\":\"circle\"},\"mode\":\"markers\",\"name\":\"Burundi\",\"scene\":\"scene\",\"showlegend\":true,\"x\":[1.43],\"y\":[79],\"z\":[97],\"type\":\"scatter3d\"},{\"hovertemplate\":\"Countries and areas=Cape Verde\\u003cbr\\u003eUnemployment_Rate=%{x}\\u003cbr\\u003eGrade_2_3_Proficiency_Reading=%{y}\\u003cbr\\u003eGrade_2_3_Proficiency_Math=%{z}\\u003cextra\\u003e\\u003c\\u002fextra\\u003e\",\"legendgroup\":\"Cape Verde\",\"marker\":{\"color\":\"#636efa\",\"symbol\":\"circle\"},\"mode\":\"markers\",\"name\":\"Cape Verde\",\"scene\":\"scene\",\"showlegend\":true,\"x\":[12.25],\"y\":[0],\"z\":[0],\"type\":\"scatter3d\"},{\"hovertemplate\":\"Countries and areas=Cambodia\\u003cbr\\u003eUnemployment_Rate=%{x}\\u003cbr\\u003eGrade_2_3_Proficiency_Reading=%{y}\\u003cbr\\u003eGrade_2_3_Proficiency_Math=%{z}\\u003cextra\\u003e\\u003c\\u002fextra\\u003e\",\"legendgroup\":\"Cambodia\",\"marker\":{\"color\":\"#EF553B\",\"symbol\":\"circle\"},\"mode\":\"markers\",\"name\":\"Cambodia\",\"scene\":\"scene\",\"showlegend\":true,\"x\":[0.68],\"y\":[0],\"z\":[0],\"type\":\"scatter3d\"},{\"hovertemplate\":\"Countries and areas=Cameroon\\u003cbr\\u003eUnemployment_Rate=%{x}\\u003cbr\\u003eGrade_2_3_Proficiency_Reading=%{y}\\u003cbr\\u003eGrade_2_3_Proficiency_Math=%{z}\\u003cextra\\u003e\\u003c\\u002fextra\\u003e\",\"legendgroup\":\"Cameroon\",\"marker\":{\"color\":\"#00cc96\",\"symbol\":\"circle\"},\"mode\":\"markers\",\"name\":\"Cameroon\",\"scene\":\"scene\",\"showlegend\":true,\"x\":[3.38],\"y\":[30],\"z\":[57],\"type\":\"scatter3d\"},{\"hovertemplate\":\"Countries and areas=Canada\\u003cbr\\u003eUnemployment_Rate=%{x}\\u003cbr\\u003eGrade_2_3_Proficiency_Reading=%{y}\\u003cbr\\u003eGrade_2_3_Proficiency_Math=%{z}\\u003cextra\\u003e\\u003c\\u002fextra\\u003e\",\"legendgroup\":\"Canada\",\"marker\":{\"color\":\"#ab63fa\",\"symbol\":\"circle\"},\"mode\":\"markers\",\"name\":\"Canada\",\"scene\":\"scene\",\"showlegend\":true,\"x\":[5.56],\"y\":[96],\"z\":[69],\"type\":\"scatter3d\"},{\"hovertemplate\":\"Countries and areas=Central African Republic\\u003cbr\\u003eUnemployment_Rate=%{x}\\u003cbr\\u003eGrade_2_3_Proficiency_Reading=%{y}\\u003cbr\\u003eGrade_2_3_Proficiency_Math=%{z}\\u003cextra\\u003e\\u003c\\u002fextra\\u003e\",\"legendgroup\":\"Central African Republic\",\"marker\":{\"color\":\"#FFA15A\",\"symbol\":\"circle\"},\"mode\":\"markers\",\"name\":\"Central African Republic\",\"scene\":\"scene\",\"showlegend\":true,\"x\":[3.68],\"y\":[0],\"z\":[0],\"type\":\"scatter3d\"},{\"hovertemplate\":\"Countries and areas=Chad\\u003cbr\\u003eUnemployment_Rate=%{x}\\u003cbr\\u003eGrade_2_3_Proficiency_Reading=%{y}\\u003cbr\\u003eGrade_2_3_Proficiency_Math=%{z}\\u003cextra\\u003e\\u003c\\u002fextra\\u003e\",\"legendgroup\":\"Chad\",\"marker\":{\"color\":\"#19d3f3\",\"symbol\":\"circle\"},\"mode\":\"markers\",\"name\":\"Chad\",\"scene\":\"scene\",\"showlegend\":true,\"x\":[1.89],\"y\":[18],\"z\":[48],\"type\":\"scatter3d\"},{\"hovertemplate\":\"Countries and areas=Chile\\u003cbr\\u003eUnemployment_Rate=%{x}\\u003cbr\\u003eGrade_2_3_Proficiency_Reading=%{y}\\u003cbr\\u003eGrade_2_3_Proficiency_Math=%{z}\\u003cextra\\u003e\\u003c\\u002fextra\\u003e\",\"legendgroup\":\"Chile\",\"marker\":{\"color\":\"#FF6692\",\"symbol\":\"circle\"},\"mode\":\"markers\",\"name\":\"Chile\",\"scene\":\"scene\",\"showlegend\":true,\"x\":[7.09],\"y\":[94],\"z\":[90],\"type\":\"scatter3d\"},{\"hovertemplate\":\"Countries and areas=China\\u003cbr\\u003eUnemployment_Rate=%{x}\\u003cbr\\u003eGrade_2_3_Proficiency_Reading=%{y}\\u003cbr\\u003eGrade_2_3_Proficiency_Math=%{z}\\u003cextra\\u003e\\u003c\\u002fextra\\u003e\",\"legendgroup\":\"China\",\"marker\":{\"color\":\"#B6E880\",\"symbol\":\"circle\"},\"mode\":\"markers\",\"name\":\"China\",\"scene\":\"scene\",\"showlegend\":true,\"x\":[4.32],\"y\":[82],\"z\":[85],\"type\":\"scatter3d\"},{\"hovertemplate\":\"Countries and areas=Colombia\\u003cbr\\u003eUnemployment_Rate=%{x}\\u003cbr\\u003eGrade_2_3_Proficiency_Reading=%{y}\\u003cbr\\u003eGrade_2_3_Proficiency_Math=%{z}\\u003cextra\\u003e\\u003c\\u002fextra\\u003e\",\"legendgroup\":\"Colombia\",\"marker\":{\"color\":\"#FF97FF\",\"symbol\":\"circle\"},\"mode\":\"markers\",\"name\":\"Colombia\",\"scene\":\"scene\",\"showlegend\":true,\"x\":[9.71],\"y\":[79],\"z\":[64],\"type\":\"scatter3d\"},{\"hovertemplate\":\"Countries and areas=Comoros\\u003cbr\\u003eUnemployment_Rate=%{x}\\u003cbr\\u003eGrade_2_3_Proficiency_Reading=%{y}\\u003cbr\\u003eGrade_2_3_Proficiency_Math=%{z}\\u003cextra\\u003e\\u003c\\u002fextra\\u003e\",\"legendgroup\":\"Comoros\",\"marker\":{\"color\":\"#FECB52\",\"symbol\":\"circle\"},\"mode\":\"markers\",\"name\":\"Comoros\",\"scene\":\"scene\",\"showlegend\":true,\"x\":[4.34],\"y\":[0],\"z\":[0],\"type\":\"scatter3d\"},{\"hovertemplate\":\"Countries and areas=Republic of the Congo\\u003cbr\\u003eUnemployment_Rate=%{x}\\u003cbr\\u003eGrade_2_3_Proficiency_Reading=%{y}\\u003cbr\\u003eGrade_2_3_Proficiency_Math=%{z}\\u003cextra\\u003e\\u003c\\u002fextra\\u003e\",\"legendgroup\":\"Republic of the Congo\",\"marker\":{\"color\":\"#636efa\",\"symbol\":\"circle\"},\"mode\":\"markers\",\"name\":\"Republic of the Congo\",\"scene\":\"scene\",\"showlegend\":true,\"x\":[9.47],\"y\":[38],\"z\":[72],\"type\":\"scatter3d\"},{\"hovertemplate\":\"Countries and areas=Cook Islands\\u003cbr\\u003eUnemployment_Rate=%{x}\\u003cbr\\u003eGrade_2_3_Proficiency_Reading=%{y}\\u003cbr\\u003eGrade_2_3_Proficiency_Math=%{z}\\u003cextra\\u003e\\u003c\\u002fextra\\u003e\",\"legendgroup\":\"Cook Islands\",\"marker\":{\"color\":\"#EF553B\",\"symbol\":\"circle\"},\"mode\":\"markers\",\"name\":\"Cook Islands\",\"scene\":\"scene\",\"showlegend\":true,\"x\":[0.0],\"y\":[0],\"z\":[0],\"type\":\"scatter3d\"},{\"hovertemplate\":\"Countries and areas=Costa Rica\\u003cbr\\u003eUnemployment_Rate=%{x}\\u003cbr\\u003eGrade_2_3_Proficiency_Reading=%{y}\\u003cbr\\u003eGrade_2_3_Proficiency_Math=%{z}\\u003cextra\\u003e\\u003c\\u002fextra\\u003e\",\"legendgroup\":\"Costa Rica\",\"marker\":{\"color\":\"#00cc96\",\"symbol\":\"circle\"},\"mode\":\"markers\",\"name\":\"Costa Rica\",\"scene\":\"scene\",\"showlegend\":true,\"x\":[11.85],\"y\":[89],\"z\":[84],\"type\":\"scatter3d\"},{\"hovertemplate\":\"Countries and areas=Ivory Coast\\u003cbr\\u003eUnemployment_Rate=%{x}\\u003cbr\\u003eGrade_2_3_Proficiency_Reading=%{y}\\u003cbr\\u003eGrade_2_3_Proficiency_Math=%{z}\\u003cextra\\u003e\\u003c\\u002fextra\\u003e\",\"legendgroup\":\"Ivory Coast\",\"marker\":{\"color\":\"#ab63fa\",\"symbol\":\"circle\"},\"mode\":\"markers\",\"name\":\"Ivory Coast\",\"scene\":\"scene\",\"showlegend\":true,\"x\":[3.32],\"y\":[17],\"z\":[33],\"type\":\"scatter3d\"},{\"hovertemplate\":\"Countries and areas=Croatia\\u003cbr\\u003eUnemployment_Rate=%{x}\\u003cbr\\u003eGrade_2_3_Proficiency_Reading=%{y}\\u003cbr\\u003eGrade_2_3_Proficiency_Math=%{z}\\u003cextra\\u003e\\u003c\\u002fextra\\u003e\",\"legendgroup\":\"Croatia\",\"marker\":{\"color\":\"#FFA15A\",\"symbol\":\"circle\"},\"mode\":\"markers\",\"name\":\"Croatia\",\"scene\":\"scene\",\"showlegend\":true,\"x\":[6.93],\"y\":[0],\"z\":[0],\"type\":\"scatter3d\"},{\"hovertemplate\":\"Countries and areas=Cuba\\u003cbr\\u003eUnemployment_Rate=%{x}\\u003cbr\\u003eGrade_2_3_Proficiency_Reading=%{y}\\u003cbr\\u003eGrade_2_3_Proficiency_Math=%{z}\\u003cextra\\u003e\\u003c\\u002fextra\\u003e\",\"legendgroup\":\"Cuba\",\"marker\":{\"color\":\"#19d3f3\",\"symbol\":\"circle\"},\"mode\":\"markers\",\"name\":\"Cuba\",\"scene\":\"scene\",\"showlegend\":true,\"x\":[1.64],\"y\":[0],\"z\":[0],\"type\":\"scatter3d\"},{\"hovertemplate\":\"Countries and areas=Cyprus\\u003cbr\\u003eUnemployment_Rate=%{x}\\u003cbr\\u003eGrade_2_3_Proficiency_Reading=%{y}\\u003cbr\\u003eGrade_2_3_Proficiency_Math=%{z}\\u003cextra\\u003e\\u003c\\u002fextra\\u003e\",\"legendgroup\":\"Cyprus\",\"marker\":{\"color\":\"#FF6692\",\"symbol\":\"circle\"},\"mode\":\"markers\",\"name\":\"Cyprus\",\"scene\":\"scene\",\"showlegend\":true,\"x\":[7.27],\"y\":[0],\"z\":[74],\"type\":\"scatter3d\"},{\"hovertemplate\":\"Countries and areas=Czech Republic\\u003cbr\\u003eUnemployment_Rate=%{x}\\u003cbr\\u003eGrade_2_3_Proficiency_Reading=%{y}\\u003cbr\\u003eGrade_2_3_Proficiency_Math=%{z}\\u003cextra\\u003e\\u003c\\u002fextra\\u003e\",\"legendgroup\":\"Czech Republic\",\"marker\":{\"color\":\"#B6E880\",\"symbol\":\"circle\"},\"mode\":\"markers\",\"name\":\"Czech Republic\",\"scene\":\"scene\",\"showlegend\":true,\"x\":[1.93],\"y\":[97],\"z\":[78],\"type\":\"scatter3d\"},{\"hovertemplate\":\"Countries and areas=North Korea\\u003cbr\\u003eUnemployment_Rate=%{x}\\u003cbr\\u003eGrade_2_3_Proficiency_Reading=%{y}\\u003cbr\\u003eGrade_2_3_Proficiency_Math=%{z}\\u003cextra\\u003e\\u003c\\u002fextra\\u003e\",\"legendgroup\":\"North Korea\",\"marker\":{\"color\":\"#FF97FF\",\"symbol\":\"circle\"},\"mode\":\"markers\",\"name\":\"North Korea\",\"scene\":\"scene\",\"showlegend\":true,\"x\":[2.74],\"y\":[94],\"z\":[0],\"type\":\"scatter3d\"},{\"hovertemplate\":\"Countries and areas=Democratic Republic of the Congo\\u003cbr\\u003eUnemployment_Rate=%{x}\\u003cbr\\u003eGrade_2_3_Proficiency_Reading=%{y}\\u003cbr\\u003eGrade_2_3_Proficiency_Math=%{z}\\u003cextra\\u003e\\u003c\\u002fextra\\u003e\",\"legendgroup\":\"Democratic Republic of the Congo\",\"marker\":{\"color\":\"#FECB52\",\"symbol\":\"circle\"},\"mode\":\"markers\",\"name\":\"Democratic Republic of the Congo\",\"scene\":\"scene\",\"showlegend\":true,\"x\":[4.24],\"y\":[0],\"z\":[0],\"type\":\"scatter3d\"},{\"hovertemplate\":\"Countries and areas=Denmark\\u003cbr\\u003eUnemployment_Rate=%{x}\\u003cbr\\u003eGrade_2_3_Proficiency_Reading=%{y}\\u003cbr\\u003eGrade_2_3_Proficiency_Math=%{z}\\u003cextra\\u003e\\u003c\\u002fextra\\u003e\",\"legendgroup\":\"Denmark\",\"marker\":{\"color\":\"#636efa\",\"symbol\":\"circle\"},\"mode\":\"markers\",\"name\":\"Denmark\",\"scene\":\"scene\",\"showlegend\":true,\"x\":[4.91],\"y\":[97],\"z\":[80],\"type\":\"scatter3d\"},{\"hovertemplate\":\"Countries and areas=Djibouti\\u003cbr\\u003eUnemployment_Rate=%{x}\\u003cbr\\u003eGrade_2_3_Proficiency_Reading=%{y}\\u003cbr\\u003eGrade_2_3_Proficiency_Math=%{z}\\u003cextra\\u003e\\u003c\\u002fextra\\u003e\",\"legendgroup\":\"Djibouti\",\"marker\":{\"color\":\"#EF553B\",\"symbol\":\"circle\"},\"mode\":\"markers\",\"name\":\"Djibouti\",\"scene\":\"scene\",\"showlegend\":true,\"x\":[10.3],\"y\":[0],\"z\":[0],\"type\":\"scatter3d\"},{\"hovertemplate\":\"Countries and areas=Dominica\\u003cbr\\u003eUnemployment_Rate=%{x}\\u003cbr\\u003eGrade_2_3_Proficiency_Reading=%{y}\\u003cbr\\u003eGrade_2_3_Proficiency_Math=%{z}\\u003cextra\\u003e\\u003c\\u002fextra\\u003e\",\"legendgroup\":\"Dominica\",\"marker\":{\"color\":\"#00cc96\",\"symbol\":\"circle\"},\"mode\":\"markers\",\"name\":\"Dominica\",\"scene\":\"scene\",\"showlegend\":true,\"x\":[0.0],\"y\":[0],\"z\":[0],\"type\":\"scatter3d\"},{\"hovertemplate\":\"Countries and areas=Dominican Republic\\u003cbr\\u003eUnemployment_Rate=%{x}\\u003cbr\\u003eGrade_2_3_Proficiency_Reading=%{y}\\u003cbr\\u003eGrade_2_3_Proficiency_Math=%{z}\\u003cextra\\u003e\\u003c\\u002fextra\\u003e\",\"legendgroup\":\"Dominican Republic\",\"marker\":{\"color\":\"#ab63fa\",\"symbol\":\"circle\"},\"mode\":\"markers\",\"name\":\"Dominican Republic\",\"scene\":\"scene\",\"showlegend\":true,\"x\":[5.84],\"y\":[44],\"z\":[25],\"type\":\"scatter3d\"},{\"hovertemplate\":\"Countries and areas=Ecuador\\u003cbr\\u003eUnemployment_Rate=%{x}\\u003cbr\\u003eGrade_2_3_Proficiency_Reading=%{y}\\u003cbr\\u003eGrade_2_3_Proficiency_Math=%{z}\\u003cextra\\u003e\\u003c\\u002fextra\\u003e\",\"legendgroup\":\"Ecuador\",\"marker\":{\"color\":\"#FFA15A\",\"symbol\":\"circle\"},\"mode\":\"markers\",\"name\":\"Ecuador\",\"scene\":\"scene\",\"showlegend\":true,\"x\":[3.97],\"y\":[74],\"z\":[65],\"type\":\"scatter3d\"},{\"hovertemplate\":\"Countries and areas=Egypt\\u003cbr\\u003eUnemployment_Rate=%{x}\\u003cbr\\u003eGrade_2_3_Proficiency_Reading=%{y}\\u003cbr\\u003eGrade_2_3_Proficiency_Math=%{z}\\u003cextra\\u003e\\u003c\\u002fextra\\u003e\",\"legendgroup\":\"Egypt\",\"marker\":{\"color\":\"#19d3f3\",\"symbol\":\"circle\"},\"mode\":\"markers\",\"name\":\"Egypt\",\"scene\":\"scene\",\"showlegend\":true,\"x\":[10.76],\"y\":[0],\"z\":[0],\"type\":\"scatter3d\"},{\"hovertemplate\":\"Countries and areas=El Salvador\\u003cbr\\u003eUnemployment_Rate=%{x}\\u003cbr\\u003eGrade_2_3_Proficiency_Reading=%{y}\\u003cbr\\u003eGrade_2_3_Proficiency_Math=%{z}\\u003cextra\\u003e\\u003c\\u002fextra\\u003e\",\"legendgroup\":\"El Salvador\",\"marker\":{\"color\":\"#FF6692\",\"symbol\":\"circle\"},\"mode\":\"markers\",\"name\":\"El Salvador\",\"scene\":\"scene\",\"showlegend\":true,\"x\":[4.11],\"y\":[0],\"z\":[0],\"type\":\"scatter3d\"},{\"hovertemplate\":\"Countries and areas=Equatorial Guinea\\u003cbr\\u003eUnemployment_Rate=%{x}\\u003cbr\\u003eGrade_2_3_Proficiency_Reading=%{y}\\u003cbr\\u003eGrade_2_3_Proficiency_Math=%{z}\\u003cextra\\u003e\\u003c\\u002fextra\\u003e\",\"legendgroup\":\"Equatorial Guinea\",\"marker\":{\"color\":\"#B6E880\",\"symbol\":\"circle\"},\"mode\":\"markers\",\"name\":\"Equatorial Guinea\",\"scene\":\"scene\",\"showlegend\":true,\"x\":[6.43],\"y\":[0],\"z\":[0],\"type\":\"scatter3d\"},{\"hovertemplate\":\"Countries and areas=Eritrea\\u003cbr\\u003eUnemployment_Rate=%{x}\\u003cbr\\u003eGrade_2_3_Proficiency_Reading=%{y}\\u003cbr\\u003eGrade_2_3_Proficiency_Math=%{z}\\u003cextra\\u003e\\u003c\\u002fextra\\u003e\",\"legendgroup\":\"Eritrea\",\"marker\":{\"color\":\"#FF97FF\",\"symbol\":\"circle\"},\"mode\":\"markers\",\"name\":\"Eritrea\",\"scene\":\"scene\",\"showlegend\":true,\"x\":[5.14],\"y\":[0],\"z\":[0],\"type\":\"scatter3d\"},{\"hovertemplate\":\"Countries and areas=Estonia\\u003cbr\\u003eUnemployment_Rate=%{x}\\u003cbr\\u003eGrade_2_3_Proficiency_Reading=%{y}\\u003cbr\\u003eGrade_2_3_Proficiency_Math=%{z}\\u003cextra\\u003e\\u003c\\u002fextra\\u003e\",\"legendgroup\":\"Estonia\",\"marker\":{\"color\":\"#FECB52\",\"symbol\":\"circle\"},\"mode\":\"markers\",\"name\":\"Estonia\",\"scene\":\"scene\",\"showlegend\":true,\"x\":[5.11],\"y\":[0],\"z\":[0],\"type\":\"scatter3d\"},{\"hovertemplate\":\"Countries and areas=Eswatini\\u003cbr\\u003eUnemployment_Rate=%{x}\\u003cbr\\u003eGrade_2_3_Proficiency_Reading=%{y}\\u003cbr\\u003eGrade_2_3_Proficiency_Math=%{z}\\u003cextra\\u003e\\u003c\\u002fextra\\u003e\",\"legendgroup\":\"Eswatini\",\"marker\":{\"color\":\"#636efa\",\"symbol\":\"circle\"},\"mode\":\"markers\",\"name\":\"Eswatini\",\"scene\":\"scene\",\"showlegend\":true,\"x\":[0.0],\"y\":[0],\"z\":[0],\"type\":\"scatter3d\"},{\"hovertemplate\":\"Countries and areas=Ethiopia\\u003cbr\\u003eUnemployment_Rate=%{x}\\u003cbr\\u003eGrade_2_3_Proficiency_Reading=%{y}\\u003cbr\\u003eGrade_2_3_Proficiency_Math=%{z}\\u003cextra\\u003e\\u003c\\u002fextra\\u003e\",\"legendgroup\":\"Ethiopia\",\"marker\":{\"color\":\"#EF553B\",\"symbol\":\"circle\"},\"mode\":\"markers\",\"name\":\"Ethiopia\",\"scene\":\"scene\",\"showlegend\":true,\"x\":[2.08],\"y\":[0],\"z\":[0],\"type\":\"scatter3d\"},{\"hovertemplate\":\"Countries and areas=Fiji\\u003cbr\\u003eUnemployment_Rate=%{x}\\u003cbr\\u003eGrade_2_3_Proficiency_Reading=%{y}\\u003cbr\\u003eGrade_2_3_Proficiency_Math=%{z}\\u003cextra\\u003e\\u003c\\u002fextra\\u003e\",\"legendgroup\":\"Fiji\",\"marker\":{\"color\":\"#00cc96\",\"symbol\":\"circle\"},\"mode\":\"markers\",\"name\":\"Fiji\",\"scene\":\"scene\",\"showlegend\":true,\"x\":[4.1],\"y\":[0],\"z\":[0],\"type\":\"scatter3d\"},{\"hovertemplate\":\"Countries and areas=Finland\\u003cbr\\u003eUnemployment_Rate=%{x}\\u003cbr\\u003eGrade_2_3_Proficiency_Reading=%{y}\\u003cbr\\u003eGrade_2_3_Proficiency_Math=%{z}\\u003cextra\\u003e\\u003c\\u002fextra\\u003e\",\"legendgroup\":\"Finland\",\"marker\":{\"color\":\"#ab63fa\",\"symbol\":\"circle\"},\"mode\":\"markers\",\"name\":\"Finland\",\"scene\":\"scene\",\"showlegend\":true,\"x\":[6.59],\"y\":[98],\"z\":[82],\"type\":\"scatter3d\"},{\"hovertemplate\":\"Countries and areas=France\\u003cbr\\u003eUnemployment_Rate=%{x}\\u003cbr\\u003eGrade_2_3_Proficiency_Reading=%{y}\\u003cbr\\u003eGrade_2_3_Proficiency_Math=%{z}\\u003cextra\\u003e\\u003c\\u002fextra\\u003e\",\"legendgroup\":\"France\",\"marker\":{\"color\":\"#FFA15A\",\"symbol\":\"circle\"},\"mode\":\"markers\",\"name\":\"France\",\"scene\":\"scene\",\"showlegend\":true,\"x\":[8.43],\"y\":[0],\"z\":[0],\"type\":\"scatter3d\"},{\"hovertemplate\":\"Countries and areas=Gabon\\u003cbr\\u003eUnemployment_Rate=%{x}\\u003cbr\\u003eGrade_2_3_Proficiency_Reading=%{y}\\u003cbr\\u003eGrade_2_3_Proficiency_Math=%{z}\\u003cextra\\u003e\\u003c\\u002fextra\\u003e\",\"legendgroup\":\"Gabon\",\"marker\":{\"color\":\"#19d3f3\",\"symbol\":\"circle\"},\"mode\":\"markers\",\"name\":\"Gabon\",\"scene\":\"scene\",\"showlegend\":true,\"x\":[20.0],\"y\":[0],\"z\":[0],\"type\":\"scatter3d\"},{\"hovertemplate\":\"Countries and areas=The Gambia\\u003cbr\\u003eUnemployment_Rate=%{x}\\u003cbr\\u003eGrade_2_3_Proficiency_Reading=%{y}\\u003cbr\\u003eGrade_2_3_Proficiency_Math=%{z}\\u003cextra\\u003e\\u003c\\u002fextra\\u003e\",\"legendgroup\":\"The Gambia\",\"marker\":{\"color\":\"#FF6692\",\"symbol\":\"circle\"},\"mode\":\"markers\",\"name\":\"The Gambia\",\"scene\":\"scene\",\"showlegend\":true,\"x\":[9.06],\"y\":[5],\"z\":[0],\"type\":\"scatter3d\"},{\"hovertemplate\":\"Countries and areas=Georgia\\u003cbr\\u003eUnemployment_Rate=%{x}\\u003cbr\\u003eGrade_2_3_Proficiency_Reading=%{y}\\u003cbr\\u003eGrade_2_3_Proficiency_Math=%{z}\\u003cextra\\u003e\\u003c\\u002fextra\\u003e\",\"legendgroup\":\"Georgia\",\"marker\":{\"color\":\"#B6E880\",\"symbol\":\"circle\"},\"mode\":\"markers\",\"name\":\"Georgia\",\"scene\":\"scene\",\"showlegend\":true,\"x\":[14.4],\"y\":[86],\"z\":[47],\"type\":\"scatter3d\"},{\"hovertemplate\":\"Countries and areas=Germany\\u003cbr\\u003eUnemployment_Rate=%{x}\\u003cbr\\u003eGrade_2_3_Proficiency_Reading=%{y}\\u003cbr\\u003eGrade_2_3_Proficiency_Math=%{z}\\u003cextra\\u003e\\u003c\\u002fextra\\u003e\",\"legendgroup\":\"Germany\",\"marker\":{\"color\":\"#FF97FF\",\"symbol\":\"circle\"},\"mode\":\"markers\",\"name\":\"Germany\",\"scene\":\"scene\",\"showlegend\":true,\"x\":[3.04],\"y\":[0],\"z\":[0],\"type\":\"scatter3d\"},{\"hovertemplate\":\"Countries and areas=Ghana\\u003cbr\\u003eUnemployment_Rate=%{x}\\u003cbr\\u003eGrade_2_3_Proficiency_Reading=%{y}\\u003cbr\\u003eGrade_2_3_Proficiency_Math=%{z}\\u003cextra\\u003e\\u003c\\u002fextra\\u003e\",\"legendgroup\":\"Ghana\",\"marker\":{\"color\":\"#FECB52\",\"symbol\":\"circle\"},\"mode\":\"markers\",\"name\":\"Ghana\",\"scene\":\"scene\",\"showlegend\":true,\"x\":[4.33],\"y\":[0],\"z\":[0],\"type\":\"scatter3d\"},{\"hovertemplate\":\"Countries and areas=Greece\\u003cbr\\u003eUnemployment_Rate=%{x}\\u003cbr\\u003eGrade_2_3_Proficiency_Reading=%{y}\\u003cbr\\u003eGrade_2_3_Proficiency_Math=%{z}\\u003cextra\\u003e\\u003c\\u002fextra\\u003e\",\"legendgroup\":\"Greece\",\"marker\":{\"color\":\"#636efa\",\"symbol\":\"circle\"},\"mode\":\"markers\",\"name\":\"Greece\",\"scene\":\"scene\",\"showlegend\":true,\"x\":[17.24],\"y\":[0],\"z\":[0],\"type\":\"scatter3d\"},{\"hovertemplate\":\"Countries and areas=Grenada\\u003cbr\\u003eUnemployment_Rate=%{x}\\u003cbr\\u003eGrade_2_3_Proficiency_Reading=%{y}\\u003cbr\\u003eGrade_2_3_Proficiency_Math=%{z}\\u003cextra\\u003e\\u003c\\u002fextra\\u003e\",\"legendgroup\":\"Grenada\",\"marker\":{\"color\":\"#EF553B\",\"symbol\":\"circle\"},\"mode\":\"markers\",\"name\":\"Grenada\",\"scene\":\"scene\",\"showlegend\":true,\"x\":[0.0],\"y\":[0],\"z\":[0],\"type\":\"scatter3d\"},{\"hovertemplate\":\"Countries and areas=Guatemala\\u003cbr\\u003eUnemployment_Rate=%{x}\\u003cbr\\u003eGrade_2_3_Proficiency_Reading=%{y}\\u003cbr\\u003eGrade_2_3_Proficiency_Math=%{z}\\u003cextra\\u003e\\u003c\\u002fextra\\u003e\",\"legendgroup\":\"Guatemala\",\"marker\":{\"color\":\"#00cc96\",\"symbol\":\"circle\"},\"mode\":\"markers\",\"name\":\"Guatemala\",\"scene\":\"scene\",\"showlegend\":true,\"x\":[2.46],\"y\":[68],\"z\":[52],\"type\":\"scatter3d\"},{\"hovertemplate\":\"Countries and areas=Guinea\\u003cbr\\u003eUnemployment_Rate=%{x}\\u003cbr\\u003eGrade_2_3_Proficiency_Reading=%{y}\\u003cbr\\u003eGrade_2_3_Proficiency_Math=%{z}\\u003cextra\\u003e\\u003c\\u002fextra\\u003e\",\"legendgroup\":\"Guinea\",\"marker\":{\"color\":\"#ab63fa\",\"symbol\":\"circle\"},\"mode\":\"markers\",\"name\":\"Guinea\",\"scene\":\"scene\",\"showlegend\":true,\"x\":[4.3],\"y\":[0],\"z\":[0],\"type\":\"scatter3d\"},{\"hovertemplate\":\"Countries and areas=Guinea0Bissau\\u003cbr\\u003eUnemployment_Rate=%{x}\\u003cbr\\u003eGrade_2_3_Proficiency_Reading=%{y}\\u003cbr\\u003eGrade_2_3_Proficiency_Math=%{z}\\u003cextra\\u003e\\u003c\\u002fextra\\u003e\",\"legendgroup\":\"Guinea0Bissau\",\"marker\":{\"color\":\"#FFA15A\",\"symbol\":\"circle\"},\"mode\":\"markers\",\"name\":\"Guinea0Bissau\",\"scene\":\"scene\",\"showlegend\":true,\"x\":[2.47],\"y\":[0],\"z\":[0],\"type\":\"scatter3d\"},{\"hovertemplate\":\"Countries and areas=Guyana\\u003cbr\\u003eUnemployment_Rate=%{x}\\u003cbr\\u003eGrade_2_3_Proficiency_Reading=%{y}\\u003cbr\\u003eGrade_2_3_Proficiency_Math=%{z}\\u003cextra\\u003e\\u003c\\u002fextra\\u003e\",\"legendgroup\":\"Guyana\",\"marker\":{\"color\":\"#19d3f3\",\"symbol\":\"circle\"},\"mode\":\"markers\",\"name\":\"Guyana\",\"scene\":\"scene\",\"showlegend\":true,\"x\":[11.85],\"y\":[0],\"z\":[0],\"type\":\"scatter3d\"},{\"hovertemplate\":\"Countries and areas=Haiti\\u003cbr\\u003eUnemployment_Rate=%{x}\\u003cbr\\u003eGrade_2_3_Proficiency_Reading=%{y}\\u003cbr\\u003eGrade_2_3_Proficiency_Math=%{z}\\u003cextra\\u003e\\u003c\\u002fextra\\u003e\",\"legendgroup\":\"Haiti\",\"marker\":{\"color\":\"#FF6692\",\"symbol\":\"circle\"},\"mode\":\"markers\",\"name\":\"Haiti\",\"scene\":\"scene\",\"showlegend\":true,\"x\":[13.78],\"y\":[0],\"z\":[0],\"type\":\"scatter3d\"},{\"hovertemplate\":\"Countries and areas=Vatican City\\u003cbr\\u003eUnemployment_Rate=%{x}\\u003cbr\\u003eGrade_2_3_Proficiency_Reading=%{y}\\u003cbr\\u003eGrade_2_3_Proficiency_Math=%{z}\\u003cextra\\u003e\\u003c\\u002fextra\\u003e\",\"legendgroup\":\"Vatican City\",\"marker\":{\"color\":\"#B6E880\",\"symbol\":\"circle\"},\"mode\":\"markers\",\"name\":\"Vatican City\",\"scene\":\"scene\",\"showlegend\":true,\"x\":[0.0],\"y\":[0],\"z\":[0],\"type\":\"scatter3d\"},{\"hovertemplate\":\"Countries and areas=Honduras\\u003cbr\\u003eUnemployment_Rate=%{x}\\u003cbr\\u003eGrade_2_3_Proficiency_Reading=%{y}\\u003cbr\\u003eGrade_2_3_Proficiency_Math=%{z}\\u003cextra\\u003e\\u003c\\u002fextra\\u003e\",\"legendgroup\":\"Honduras\",\"marker\":{\"color\":\"#FF97FF\",\"symbol\":\"circle\"},\"mode\":\"markers\",\"name\":\"Honduras\",\"scene\":\"scene\",\"showlegend\":true,\"x\":[5.39],\"y\":[70],\"z\":[57],\"type\":\"scatter3d\"},{\"hovertemplate\":\"Countries and areas=Hungary\\u003cbr\\u003eUnemployment_Rate=%{x}\\u003cbr\\u003eGrade_2_3_Proficiency_Reading=%{y}\\u003cbr\\u003eGrade_2_3_Proficiency_Math=%{z}\\u003cextra\\u003e\\u003c\\u002fextra\\u003e\",\"legendgroup\":\"Hungary\",\"marker\":{\"color\":\"#FECB52\",\"symbol\":\"circle\"},\"mode\":\"markers\",\"name\":\"Hungary\",\"scene\":\"scene\",\"showlegend\":true,\"x\":[3.4],\"y\":[0],\"z\":[0],\"type\":\"scatter3d\"},{\"hovertemplate\":\"Countries and areas=Iceland\\u003cbr\\u003eUnemployment_Rate=%{x}\\u003cbr\\u003eGrade_2_3_Proficiency_Reading=%{y}\\u003cbr\\u003eGrade_2_3_Proficiency_Math=%{z}\\u003cextra\\u003e\\u003c\\u002fextra\\u003e\",\"legendgroup\":\"Iceland\",\"marker\":{\"color\":\"#636efa\",\"symbol\":\"circle\"},\"mode\":\"markers\",\"name\":\"Iceland\",\"scene\":\"scene\",\"showlegend\":true,\"x\":[2.84],\"y\":[0],\"z\":[0],\"type\":\"scatter3d\"},{\"hovertemplate\":\"Countries and areas=India\\u003cbr\\u003eUnemployment_Rate=%{x}\\u003cbr\\u003eGrade_2_3_Proficiency_Reading=%{y}\\u003cbr\\u003eGrade_2_3_Proficiency_Math=%{z}\\u003cextra\\u003e\\u003c\\u002fextra\\u003e\",\"legendgroup\":\"India\",\"marker\":{\"color\":\"#EF553B\",\"symbol\":\"circle\"},\"mode\":\"markers\",\"name\":\"India\",\"scene\":\"scene\",\"showlegend\":true,\"x\":[5.36],\"y\":[47],\"z\":[53],\"type\":\"scatter3d\"},{\"hovertemplate\":\"Countries and areas=Indonesia\\u003cbr\\u003eUnemployment_Rate=%{x}\\u003cbr\\u003eGrade_2_3_Proficiency_Reading=%{y}\\u003cbr\\u003eGrade_2_3_Proficiency_Math=%{z}\\u003cextra\\u003e\\u003c\\u002fextra\\u003e\",\"legendgroup\":\"Indonesia\",\"marker\":{\"color\":\"#00cc96\",\"symbol\":\"circle\"},\"mode\":\"markers\",\"name\":\"Indonesia\",\"scene\":\"scene\",\"showlegend\":true,\"x\":[4.69],\"y\":[0],\"z\":[18],\"type\":\"scatter3d\"},{\"hovertemplate\":\"Countries and areas=Iran\\u003cbr\\u003eUnemployment_Rate=%{x}\\u003cbr\\u003eGrade_2_3_Proficiency_Reading=%{y}\\u003cbr\\u003eGrade_2_3_Proficiency_Math=%{z}\\u003cextra\\u003e\\u003c\\u002fextra\\u003e\",\"legendgroup\":\"Iran\",\"marker\":{\"color\":\"#ab63fa\",\"symbol\":\"circle\"},\"mode\":\"markers\",\"name\":\"Iran\",\"scene\":\"scene\",\"showlegend\":true,\"x\":[11.38],\"y\":[66],\"z\":[33],\"type\":\"scatter3d\"},{\"hovertemplate\":\"Countries and areas=Iraq\\u003cbr\\u003eUnemployment_Rate=%{x}\\u003cbr\\u003eGrade_2_3_Proficiency_Reading=%{y}\\u003cbr\\u003eGrade_2_3_Proficiency_Math=%{z}\\u003cextra\\u003e\\u003c\\u002fextra\\u003e\",\"legendgroup\":\"Iraq\",\"marker\":{\"color\":\"#FFA15A\",\"symbol\":\"circle\"},\"mode\":\"markers\",\"name\":\"Iraq\",\"scene\":\"scene\",\"showlegend\":true,\"x\":[12.82],\"y\":[0],\"z\":[0],\"type\":\"scatter3d\"},{\"hovertemplate\":\"Countries and areas=Republic of Ireland\\u003cbr\\u003eUnemployment_Rate=%{x}\\u003cbr\\u003eGrade_2_3_Proficiency_Reading=%{y}\\u003cbr\\u003eGrade_2_3_Proficiency_Math=%{z}\\u003cextra\\u003e\\u003c\\u002fextra\\u003e\",\"legendgroup\":\"Republic of Ireland\",\"marker\":{\"color\":\"#19d3f3\",\"symbol\":\"circle\"},\"mode\":\"markers\",\"name\":\"Republic of Ireland\",\"scene\":\"scene\",\"showlegend\":true,\"x\":[4.93],\"y\":[98],\"z\":[84],\"type\":\"scatter3d\"},{\"hovertemplate\":\"Countries and areas=Israel\\u003cbr\\u003eUnemployment_Rate=%{x}\\u003cbr\\u003eGrade_2_3_Proficiency_Reading=%{y}\\u003cbr\\u003eGrade_2_3_Proficiency_Math=%{z}\\u003cextra\\u003e\\u003c\\u002fextra\\u003e\",\"legendgroup\":\"Israel\",\"marker\":{\"color\":\"#FF6692\",\"symbol\":\"circle\"},\"mode\":\"markers\",\"name\":\"Israel\",\"scene\":\"scene\",\"showlegend\":true,\"x\":[3.86],\"y\":[91],\"z\":[0],\"type\":\"scatter3d\"},{\"hovertemplate\":\"Countries and areas=Italy\\u003cbr\\u003eUnemployment_Rate=%{x}\\u003cbr\\u003eGrade_2_3_Proficiency_Reading=%{y}\\u003cbr\\u003eGrade_2_3_Proficiency_Math=%{z}\\u003cextra\\u003e\\u003c\\u002fextra\\u003e\",\"legendgroup\":\"Italy\",\"marker\":{\"color\":\"#B6E880\",\"symbol\":\"circle\"},\"mode\":\"markers\",\"name\":\"Italy\",\"scene\":\"scene\",\"showlegend\":true,\"x\":[9.89],\"y\":[98],\"z\":[69],\"type\":\"scatter3d\"},{\"hovertemplate\":\"Countries and areas=Jamaica\\u003cbr\\u003eUnemployment_Rate=%{x}\\u003cbr\\u003eGrade_2_3_Proficiency_Reading=%{y}\\u003cbr\\u003eGrade_2_3_Proficiency_Math=%{z}\\u003cextra\\u003e\\u003c\\u002fextra\\u003e\",\"legendgroup\":\"Jamaica\",\"marker\":{\"color\":\"#FF97FF\",\"symbol\":\"circle\"},\"mode\":\"markers\",\"name\":\"Jamaica\",\"scene\":\"scene\",\"showlegend\":true,\"x\":[8.0],\"y\":[0],\"z\":[0],\"type\":\"scatter3d\"},{\"hovertemplate\":\"Countries and areas=Japan\\u003cbr\\u003eUnemployment_Rate=%{x}\\u003cbr\\u003eGrade_2_3_Proficiency_Reading=%{y}\\u003cbr\\u003eGrade_2_3_Proficiency_Math=%{z}\\u003cextra\\u003e\\u003c\\u002fextra\\u003e\",\"legendgroup\":\"Japan\",\"marker\":{\"color\":\"#FECB52\",\"symbol\":\"circle\"},\"mode\":\"markers\",\"name\":\"Japan\",\"scene\":\"scene\",\"showlegend\":true,\"x\":[2.29],\"y\":[0],\"z\":[95],\"type\":\"scatter3d\"},{\"hovertemplate\":\"Countries and areas=Jordan\\u003cbr\\u003eUnemployment_Rate=%{x}\\u003cbr\\u003eGrade_2_3_Proficiency_Reading=%{y}\\u003cbr\\u003eGrade_2_3_Proficiency_Math=%{z}\\u003cextra\\u003e\\u003c\\u002fextra\\u003e\",\"legendgroup\":\"Jordan\",\"marker\":{\"color\":\"#636efa\",\"symbol\":\"circle\"},\"mode\":\"markers\",\"name\":\"Jordan\",\"scene\":\"scene\",\"showlegend\":true,\"x\":[14.72],\"y\":[0],\"z\":[0],\"type\":\"scatter3d\"},{\"hovertemplate\":\"Countries and areas=Kazakhstan\\u003cbr\\u003eUnemployment_Rate=%{x}\\u003cbr\\u003eGrade_2_3_Proficiency_Reading=%{y}\\u003cbr\\u003eGrade_2_3_Proficiency_Math=%{z}\\u003cextra\\u003e\\u003c\\u002fextra\\u003e\",\"legendgroup\":\"Kazakhstan\",\"marker\":{\"color\":\"#EF553B\",\"symbol\":\"circle\"},\"mode\":\"markers\",\"name\":\"Kazakhstan\",\"scene\":\"scene\",\"showlegend\":true,\"x\":[4.59],\"y\":[0],\"z\":[0],\"type\":\"scatter3d\"},{\"hovertemplate\":\"Countries and areas=Kenya\\u003cbr\\u003eUnemployment_Rate=%{x}\\u003cbr\\u003eGrade_2_3_Proficiency_Reading=%{y}\\u003cbr\\u003eGrade_2_3_Proficiency_Math=%{z}\\u003cextra\\u003e\\u003c\\u002fextra\\u003e\",\"legendgroup\":\"Kenya\",\"marker\":{\"color\":\"#00cc96\",\"symbol\":\"circle\"},\"mode\":\"markers\",\"name\":\"Kenya\",\"scene\":\"scene\",\"showlegend\":true,\"x\":[2.64],\"y\":[53],\"z\":[42],\"type\":\"scatter3d\"},{\"hovertemplate\":\"Countries and areas=Kiribati\\u003cbr\\u003eUnemployment_Rate=%{x}\\u003cbr\\u003eGrade_2_3_Proficiency_Reading=%{y}\\u003cbr\\u003eGrade_2_3_Proficiency_Math=%{z}\\u003cextra\\u003e\\u003c\\u002fextra\\u003e\",\"legendgroup\":\"Kiribati\",\"marker\":{\"color\":\"#ab63fa\",\"symbol\":\"circle\"},\"mode\":\"markers\",\"name\":\"Kiribati\",\"scene\":\"scene\",\"showlegend\":true,\"x\":[0.0],\"y\":[0],\"z\":[0],\"type\":\"scatter3d\"},{\"hovertemplate\":\"Countries and areas=Kuwait\\u003cbr\\u003eUnemployment_Rate=%{x}\\u003cbr\\u003eGrade_2_3_Proficiency_Reading=%{y}\\u003cbr\\u003eGrade_2_3_Proficiency_Math=%{z}\\u003cextra\\u003e\\u003c\\u002fextra\\u003e\",\"legendgroup\":\"Kuwait\",\"marker\":{\"color\":\"#FFA15A\",\"symbol\":\"circle\"},\"mode\":\"markers\",\"name\":\"Kuwait\",\"scene\":\"scene\",\"showlegend\":true,\"x\":[2.18],\"y\":[0],\"z\":[12],\"type\":\"scatter3d\"},{\"hovertemplate\":\"Countries and areas=Kyrgyzstan\\u003cbr\\u003eUnemployment_Rate=%{x}\\u003cbr\\u003eGrade_2_3_Proficiency_Reading=%{y}\\u003cbr\\u003eGrade_2_3_Proficiency_Math=%{z}\\u003cextra\\u003e\\u003c\\u002fextra\\u003e\",\"legendgroup\":\"Kyrgyzstan\",\"marker\":{\"color\":\"#19d3f3\",\"symbol\":\"circle\"},\"mode\":\"markers\",\"name\":\"Kyrgyzstan\",\"scene\":\"scene\",\"showlegend\":true,\"x\":[6.33],\"y\":[39],\"z\":[0],\"type\":\"scatter3d\"},{\"hovertemplate\":\"Countries and areas=Laos\\u003cbr\\u003eUnemployment_Rate=%{x}\\u003cbr\\u003eGrade_2_3_Proficiency_Reading=%{y}\\u003cbr\\u003eGrade_2_3_Proficiency_Math=%{z}\\u003cextra\\u003e\\u003c\\u002fextra\\u003e\",\"legendgroup\":\"Laos\",\"marker\":{\"color\":\"#FF6692\",\"symbol\":\"circle\"},\"mode\":\"markers\",\"name\":\"Laos\",\"scene\":\"scene\",\"showlegend\":true,\"x\":[0.63],\"y\":[0],\"z\":[0],\"type\":\"scatter3d\"},{\"hovertemplate\":\"Countries and areas=Latvia\\u003cbr\\u003eUnemployment_Rate=%{x}\\u003cbr\\u003eGrade_2_3_Proficiency_Reading=%{y}\\u003cbr\\u003eGrade_2_3_Proficiency_Math=%{z}\\u003cextra\\u003e\\u003c\\u002fextra\\u003e\",\"legendgroup\":\"Latvia\",\"marker\":{\"color\":\"#B6E880\",\"symbol\":\"circle\"},\"mode\":\"markers\",\"name\":\"Latvia\",\"scene\":\"scene\",\"showlegend\":true,\"x\":[6.52],\"y\":[99],\"z\":[0],\"type\":\"scatter3d\"},{\"hovertemplate\":\"Countries and areas=Lebanon\\u003cbr\\u003eUnemployment_Rate=%{x}\\u003cbr\\u003eGrade_2_3_Proficiency_Reading=%{y}\\u003cbr\\u003eGrade_2_3_Proficiency_Math=%{z}\\u003cextra\\u003e\\u003c\\u002fextra\\u003e\",\"legendgroup\":\"Lebanon\",\"marker\":{\"color\":\"#FF97FF\",\"symbol\":\"circle\"},\"mode\":\"markers\",\"name\":\"Lebanon\",\"scene\":\"scene\",\"showlegend\":true,\"x\":[6.23],\"y\":[0],\"z\":[0],\"type\":\"scatter3d\"},{\"hovertemplate\":\"Countries and areas=Lesotho\\u003cbr\\u003eUnemployment_Rate=%{x}\\u003cbr\\u003eGrade_2_3_Proficiency_Reading=%{y}\\u003cbr\\u003eGrade_2_3_Proficiency_Math=%{z}\\u003cextra\\u003e\\u003c\\u002fextra\\u003e\",\"legendgroup\":\"Lesotho\",\"marker\":{\"color\":\"#FECB52\",\"symbol\":\"circle\"},\"mode\":\"markers\",\"name\":\"Lesotho\",\"scene\":\"scene\",\"showlegend\":true,\"x\":[23.41],\"y\":[13],\"z\":[0],\"type\":\"scatter3d\"},{\"hovertemplate\":\"Countries and areas=Liberia\\u003cbr\\u003eUnemployment_Rate=%{x}\\u003cbr\\u003eGrade_2_3_Proficiency_Reading=%{y}\\u003cbr\\u003eGrade_2_3_Proficiency_Math=%{z}\\u003cextra\\u003e\\u003c\\u002fextra\\u003e\",\"legendgroup\":\"Liberia\",\"marker\":{\"color\":\"#636efa\",\"symbol\":\"circle\"},\"mode\":\"markers\",\"name\":\"Liberia\",\"scene\":\"scene\",\"showlegend\":true,\"x\":[2.81],\"y\":[0],\"z\":[0],\"type\":\"scatter3d\"},{\"hovertemplate\":\"Countries and areas=Libya\\u003cbr\\u003eUnemployment_Rate=%{x}\\u003cbr\\u003eGrade_2_3_Proficiency_Reading=%{y}\\u003cbr\\u003eGrade_2_3_Proficiency_Math=%{z}\\u003cextra\\u003e\\u003c\\u002fextra\\u003e\",\"legendgroup\":\"Libya\",\"marker\":{\"color\":\"#EF553B\",\"symbol\":\"circle\"},\"mode\":\"markers\",\"name\":\"Libya\",\"scene\":\"scene\",\"showlegend\":true,\"x\":[18.56],\"y\":[0],\"z\":[0],\"type\":\"scatter3d\"},{\"hovertemplate\":\"Countries and areas=Liechtenstein\\u003cbr\\u003eUnemployment_Rate=%{x}\\u003cbr\\u003eGrade_2_3_Proficiency_Reading=%{y}\\u003cbr\\u003eGrade_2_3_Proficiency_Math=%{z}\\u003cextra\\u003e\\u003c\\u002fextra\\u003e\",\"legendgroup\":\"Liechtenstein\",\"marker\":{\"color\":\"#00cc96\",\"symbol\":\"circle\"},\"mode\":\"markers\",\"name\":\"Liechtenstein\",\"scene\":\"scene\",\"showlegend\":true,\"x\":[0.0],\"y\":[0],\"z\":[0],\"type\":\"scatter3d\"},{\"hovertemplate\":\"Countries and areas=Lithuania\\u003cbr\\u003eUnemployment_Rate=%{x}\\u003cbr\\u003eGrade_2_3_Proficiency_Reading=%{y}\\u003cbr\\u003eGrade_2_3_Proficiency_Math=%{z}\\u003cextra\\u003e\\u003c\\u002fextra\\u003e\",\"legendgroup\":\"Lithuania\",\"marker\":{\"color\":\"#ab63fa\",\"symbol\":\"circle\"},\"mode\":\"markers\",\"name\":\"Lithuania\",\"scene\":\"scene\",\"showlegend\":true,\"x\":[6.35],\"y\":[0],\"z\":[0],\"type\":\"scatter3d\"},{\"hovertemplate\":\"Countries and areas=Luxembourg\\u003cbr\\u003eUnemployment_Rate=%{x}\\u003cbr\\u003eGrade_2_3_Proficiency_Reading=%{y}\\u003cbr\\u003eGrade_2_3_Proficiency_Math=%{z}\\u003cextra\\u003e\\u003c\\u002fextra\\u003e\",\"legendgroup\":\"Luxembourg\",\"marker\":{\"color\":\"#FFA15A\",\"symbol\":\"circle\"},\"mode\":\"markers\",\"name\":\"Luxembourg\",\"scene\":\"scene\",\"showlegend\":true,\"x\":[5.36],\"y\":[0],\"z\":[0],\"type\":\"scatter3d\"},{\"hovertemplate\":\"Countries and areas=Madagascar\\u003cbr\\u003eUnemployment_Rate=%{x}\\u003cbr\\u003eGrade_2_3_Proficiency_Reading=%{y}\\u003cbr\\u003eGrade_2_3_Proficiency_Math=%{z}\\u003cextra\\u003e\\u003c\\u002fextra\\u003e\",\"legendgroup\":\"Madagascar\",\"marker\":{\"color\":\"#19d3f3\",\"symbol\":\"circle\"},\"mode\":\"markers\",\"name\":\"Madagascar\",\"scene\":\"scene\",\"showlegend\":true,\"x\":[1.76],\"y\":[13],\"z\":[0],\"type\":\"scatter3d\"},{\"hovertemplate\":\"Countries and areas=Malawi\\u003cbr\\u003eUnemployment_Rate=%{x}\\u003cbr\\u003eGrade_2_3_Proficiency_Reading=%{y}\\u003cbr\\u003eGrade_2_3_Proficiency_Math=%{z}\\u003cextra\\u003e\\u003c\\u002fextra\\u003e\",\"legendgroup\":\"Malawi\",\"marker\":{\"color\":\"#FF6692\",\"symbol\":\"circle\"},\"mode\":\"markers\",\"name\":\"Malawi\",\"scene\":\"scene\",\"showlegend\":true,\"x\":[5.65],\"y\":[0],\"z\":[0],\"type\":\"scatter3d\"},{\"hovertemplate\":\"Countries and areas=Malaysia\\u003cbr\\u003eUnemployment_Rate=%{x}\\u003cbr\\u003eGrade_2_3_Proficiency_Reading=%{y}\\u003cbr\\u003eGrade_2_3_Proficiency_Math=%{z}\\u003cextra\\u003e\\u003c\\u002fextra\\u003e\",\"legendgroup\":\"Malaysia\",\"marker\":{\"color\":\"#B6E880\",\"symbol\":\"circle\"},\"mode\":\"markers\",\"name\":\"Malaysia\",\"scene\":\"scene\",\"showlegend\":true,\"x\":[3.32],\"y\":[0],\"z\":[0],\"type\":\"scatter3d\"},{\"hovertemplate\":\"Countries and areas=Maldives\\u003cbr\\u003eUnemployment_Rate=%{x}\\u003cbr\\u003eGrade_2_3_Proficiency_Reading=%{y}\\u003cbr\\u003eGrade_2_3_Proficiency_Math=%{z}\\u003cextra\\u003e\\u003c\\u002fextra\\u003e\",\"legendgroup\":\"Maldives\",\"marker\":{\"color\":\"#FF97FF\",\"symbol\":\"circle\"},\"mode\":\"markers\",\"name\":\"Maldives\",\"scene\":\"scene\",\"showlegend\":true,\"x\":[6.14],\"y\":[0],\"z\":[0],\"type\":\"scatter3d\"},{\"hovertemplate\":\"Countries and areas=Mali\\u003cbr\\u003eUnemployment_Rate=%{x}\\u003cbr\\u003eGrade_2_3_Proficiency_Reading=%{y}\\u003cbr\\u003eGrade_2_3_Proficiency_Math=%{z}\\u003cextra\\u003e\\u003c\\u002fextra\\u003e\",\"legendgroup\":\"Mali\",\"marker\":{\"color\":\"#FECB52\",\"symbol\":\"circle\"},\"mode\":\"markers\",\"name\":\"Mali\",\"scene\":\"scene\",\"showlegend\":true,\"x\":[7.22],\"y\":[0],\"z\":[0],\"type\":\"scatter3d\"},{\"hovertemplate\":\"Countries and areas=Malta\\u003cbr\\u003eUnemployment_Rate=%{x}\\u003cbr\\u003eGrade_2_3_Proficiency_Reading=%{y}\\u003cbr\\u003eGrade_2_3_Proficiency_Math=%{z}\\u003cextra\\u003e\\u003c\\u002fextra\\u003e\",\"legendgroup\":\"Malta\",\"marker\":{\"color\":\"#636efa\",\"symbol\":\"circle\"},\"mode\":\"markers\",\"name\":\"Malta\",\"scene\":\"scene\",\"showlegend\":true,\"x\":[3.47],\"y\":[73],\"z\":[0],\"type\":\"scatter3d\"},{\"hovertemplate\":\"Countries and areas=Marshall Islands\\u003cbr\\u003eUnemployment_Rate=%{x}\\u003cbr\\u003eGrade_2_3_Proficiency_Reading=%{y}\\u003cbr\\u003eGrade_2_3_Proficiency_Math=%{z}\\u003cextra\\u003e\\u003c\\u002fextra\\u003e\",\"legendgroup\":\"Marshall Islands\",\"marker\":{\"color\":\"#EF553B\",\"symbol\":\"circle\"},\"mode\":\"markers\",\"name\":\"Marshall Islands\",\"scene\":\"scene\",\"showlegend\":true,\"x\":[0.0],\"y\":[0],\"z\":[0],\"type\":\"scatter3d\"},{\"hovertemplate\":\"Countries and areas=Mauritania\\u003cbr\\u003eUnemployment_Rate=%{x}\\u003cbr\\u003eGrade_2_3_Proficiency_Reading=%{y}\\u003cbr\\u003eGrade_2_3_Proficiency_Math=%{z}\\u003cextra\\u003e\\u003c\\u002fextra\\u003e\",\"legendgroup\":\"Mauritania\",\"marker\":{\"color\":\"#00cc96\",\"symbol\":\"circle\"},\"mode\":\"markers\",\"name\":\"Mauritania\",\"scene\":\"scene\",\"showlegend\":true,\"x\":[9.55],\"y\":[0],\"z\":[0],\"type\":\"scatter3d\"},{\"hovertemplate\":\"Countries and areas=Mauritius\\u003cbr\\u003eUnemployment_Rate=%{x}\\u003cbr\\u003eGrade_2_3_Proficiency_Reading=%{y}\\u003cbr\\u003eGrade_2_3_Proficiency_Math=%{z}\\u003cextra\\u003e\\u003c\\u002fextra\\u003e\",\"legendgroup\":\"Mauritius\",\"marker\":{\"color\":\"#ab63fa\",\"symbol\":\"circle\"},\"mode\":\"markers\",\"name\":\"Mauritius\",\"scene\":\"scene\",\"showlegend\":true,\"x\":[6.67],\"y\":[0],\"z\":[0],\"type\":\"scatter3d\"},{\"hovertemplate\":\"Countries and areas=Mexico\\u003cbr\\u003eUnemployment_Rate=%{x}\\u003cbr\\u003eGrade_2_3_Proficiency_Reading=%{y}\\u003cbr\\u003eGrade_2_3_Proficiency_Math=%{z}\\u003cextra\\u003e\\u003c\\u002fextra\\u003e\",\"legendgroup\":\"Mexico\",\"marker\":{\"color\":\"#FFA15A\",\"symbol\":\"circle\"},\"mode\":\"markers\",\"name\":\"Mexico\",\"scene\":\"scene\",\"showlegend\":true,\"x\":[3.42],\"y\":[78],\"z\":[77],\"type\":\"scatter3d\"},{\"hovertemplate\":\"Countries and areas=Federated States of Micronesia\\u003cbr\\u003eUnemployment_Rate=%{x}\\u003cbr\\u003eGrade_2_3_Proficiency_Reading=%{y}\\u003cbr\\u003eGrade_2_3_Proficiency_Math=%{z}\\u003cextra\\u003e\\u003c\\u002fextra\\u003e\",\"legendgroup\":\"Federated States of Micronesia\",\"marker\":{\"color\":\"#19d3f3\",\"symbol\":\"circle\"},\"mode\":\"markers\",\"name\":\"Federated States of Micronesia\",\"scene\":\"scene\",\"showlegend\":true,\"x\":[0.0],\"y\":[0],\"z\":[0],\"type\":\"scatter3d\"},{\"hovertemplate\":\"Countries and areas=Monaco\\u003cbr\\u003eUnemployment_Rate=%{x}\\u003cbr\\u003eGrade_2_3_Proficiency_Reading=%{y}\\u003cbr\\u003eGrade_2_3_Proficiency_Math=%{z}\\u003cextra\\u003e\\u003c\\u002fextra\\u003e\",\"legendgroup\":\"Monaco\",\"marker\":{\"color\":\"#FF6692\",\"symbol\":\"circle\"},\"mode\":\"markers\",\"name\":\"Monaco\",\"scene\":\"scene\",\"showlegend\":true,\"x\":[0.0],\"y\":[0],\"z\":[0],\"type\":\"scatter3d\"},{\"hovertemplate\":\"Countries and areas=Mongolia\\u003cbr\\u003eUnemployment_Rate=%{x}\\u003cbr\\u003eGrade_2_3_Proficiency_Reading=%{y}\\u003cbr\\u003eGrade_2_3_Proficiency_Math=%{z}\\u003cextra\\u003e\\u003c\\u002fextra\\u003e\",\"legendgroup\":\"Mongolia\",\"marker\":{\"color\":\"#B6E880\",\"symbol\":\"circle\"},\"mode\":\"markers\",\"name\":\"Mongolia\",\"scene\":\"scene\",\"showlegend\":true,\"x\":[6.01],\"y\":[44],\"z\":[0],\"type\":\"scatter3d\"},{\"hovertemplate\":\"Countries and areas=Montenegro\\u003cbr\\u003eUnemployment_Rate=%{x}\\u003cbr\\u003eGrade_2_3_Proficiency_Reading=%{y}\\u003cbr\\u003eGrade_2_3_Proficiency_Math=%{z}\\u003cextra\\u003e\\u003c\\u002fextra\\u003e\",\"legendgroup\":\"Montenegro\",\"marker\":{\"color\":\"#FF97FF\",\"symbol\":\"circle\"},\"mode\":\"markers\",\"name\":\"Montenegro\",\"scene\":\"scene\",\"showlegend\":true,\"x\":[14.88],\"y\":[0],\"z\":[0],\"type\":\"scatter3d\"},{\"hovertemplate\":\"Countries and areas=Montserrat\\u003cbr\\u003eUnemployment_Rate=%{x}\\u003cbr\\u003eGrade_2_3_Proficiency_Reading=%{y}\\u003cbr\\u003eGrade_2_3_Proficiency_Math=%{z}\\u003cextra\\u003e\\u003c\\u002fextra\\u003e\",\"legendgroup\":\"Montserrat\",\"marker\":{\"color\":\"#FECB52\",\"symbol\":\"circle\"},\"mode\":\"markers\",\"name\":\"Montserrat\",\"scene\":\"scene\",\"showlegend\":true,\"x\":[0.0],\"y\":[0],\"z\":[0],\"type\":\"scatter3d\"},{\"hovertemplate\":\"Countries and areas=Morocco\\u003cbr\\u003eUnemployment_Rate=%{x}\\u003cbr\\u003eGrade_2_3_Proficiency_Reading=%{y}\\u003cbr\\u003eGrade_2_3_Proficiency_Math=%{z}\\u003cextra\\u003e\\u003c\\u002fextra\\u003e\",\"legendgroup\":\"Morocco\",\"marker\":{\"color\":\"#636efa\",\"symbol\":\"circle\"},\"mode\":\"markers\",\"name\":\"Morocco\",\"scene\":\"scene\",\"showlegend\":true,\"x\":[9.02],\"y\":[36],\"z\":[16],\"type\":\"scatter3d\"},{\"hovertemplate\":\"Countries and areas=Mozambique\\u003cbr\\u003eUnemployment_Rate=%{x}\\u003cbr\\u003eGrade_2_3_Proficiency_Reading=%{y}\\u003cbr\\u003eGrade_2_3_Proficiency_Math=%{z}\\u003cextra\\u003e\\u003c\\u002fextra\\u003e\",\"legendgroup\":\"Mozambique\",\"marker\":{\"color\":\"#EF553B\",\"symbol\":\"circle\"},\"mode\":\"markers\",\"name\":\"Mozambique\",\"scene\":\"scene\",\"showlegend\":true,\"x\":[3.24],\"y\":[0],\"z\":[0],\"type\":\"scatter3d\"},{\"hovertemplate\":\"Countries and areas=Myanmar\\u003cbr\\u003eUnemployment_Rate=%{x}\\u003cbr\\u003eGrade_2_3_Proficiency_Reading=%{y}\\u003cbr\\u003eGrade_2_3_Proficiency_Math=%{z}\\u003cextra\\u003e\\u003c\\u002fextra\\u003e\",\"legendgroup\":\"Myanmar\",\"marker\":{\"color\":\"#00cc96\",\"symbol\":\"circle\"},\"mode\":\"markers\",\"name\":\"Myanmar\",\"scene\":\"scene\",\"showlegend\":true,\"x\":[1.58],\"y\":[0],\"z\":[0],\"type\":\"scatter3d\"},{\"hovertemplate\":\"Countries and areas=Namibia\\u003cbr\\u003eUnemployment_Rate=%{x}\\u003cbr\\u003eGrade_2_3_Proficiency_Reading=%{y}\\u003cbr\\u003eGrade_2_3_Proficiency_Math=%{z}\\u003cextra\\u003e\\u003c\\u002fextra\\u003e\",\"legendgroup\":\"Namibia\",\"marker\":{\"color\":\"#ab63fa\",\"symbol\":\"circle\"},\"mode\":\"markers\",\"name\":\"Namibia\",\"scene\":\"scene\",\"showlegend\":true,\"x\":[20.27],\"y\":[0],\"z\":[0],\"type\":\"scatter3d\"},{\"hovertemplate\":\"Countries and areas=Nauru\\u003cbr\\u003eUnemployment_Rate=%{x}\\u003cbr\\u003eGrade_2_3_Proficiency_Reading=%{y}\\u003cbr\\u003eGrade_2_3_Proficiency_Math=%{z}\\u003cextra\\u003e\\u003c\\u002fextra\\u003e\",\"legendgroup\":\"Nauru\",\"marker\":{\"color\":\"#FFA15A\",\"symbol\":\"circle\"},\"mode\":\"markers\",\"name\":\"Nauru\",\"scene\":\"scene\",\"showlegend\":true,\"x\":[0.0],\"y\":[0],\"z\":[0],\"type\":\"scatter3d\"},{\"hovertemplate\":\"Countries and areas=Nepal\\u003cbr\\u003eUnemployment_Rate=%{x}\\u003cbr\\u003eGrade_2_3_Proficiency_Reading=%{y}\\u003cbr\\u003eGrade_2_3_Proficiency_Math=%{z}\\u003cextra\\u003e\\u003c\\u002fextra\\u003e\",\"legendgroup\":\"Nepal\",\"marker\":{\"color\":\"#19d3f3\",\"symbol\":\"circle\"},\"mode\":\"markers\",\"name\":\"Nepal\",\"scene\":\"scene\",\"showlegend\":true,\"x\":[1.41],\"y\":[0],\"z\":[0],\"type\":\"scatter3d\"},{\"hovertemplate\":\"Countries and areas=Netherlands\\u003cbr\\u003eUnemployment_Rate=%{x}\\u003cbr\\u003eGrade_2_3_Proficiency_Reading=%{y}\\u003cbr\\u003eGrade_2_3_Proficiency_Math=%{z}\\u003cextra\\u003e\\u003c\\u002fextra\\u003e\",\"legendgroup\":\"Netherlands\",\"marker\":{\"color\":\"#FF6692\",\"symbol\":\"circle\"},\"mode\":\"markers\",\"name\":\"Netherlands\",\"scene\":\"scene\",\"showlegend\":true,\"x\":[3.2],\"y\":[99],\"z\":[83],\"type\":\"scatter3d\"},{\"hovertemplate\":\"Countries and areas=New Zealand\\u003cbr\\u003eUnemployment_Rate=%{x}\\u003cbr\\u003eGrade_2_3_Proficiency_Reading=%{y}\\u003cbr\\u003eGrade_2_3_Proficiency_Math=%{z}\\u003cextra\\u003e\\u003c\\u002fextra\\u003e\",\"legendgroup\":\"New Zealand\",\"marker\":{\"color\":\"#B6E880\",\"symbol\":\"circle\"},\"mode\":\"markers\",\"name\":\"New Zealand\",\"scene\":\"scene\",\"showlegend\":true,\"x\":[4.07],\"y\":[90],\"z\":[59],\"type\":\"scatter3d\"},{\"hovertemplate\":\"Countries and areas=Nicaragua\\u003cbr\\u003eUnemployment_Rate=%{x}\\u003cbr\\u003eGrade_2_3_Proficiency_Reading=%{y}\\u003cbr\\u003eGrade_2_3_Proficiency_Math=%{z}\\u003cextra\\u003e\\u003c\\u002fextra\\u003e\",\"legendgroup\":\"Nicaragua\",\"marker\":{\"color\":\"#FF97FF\",\"symbol\":\"circle\"},\"mode\":\"markers\",\"name\":\"Nicaragua\",\"scene\":\"scene\",\"showlegend\":true,\"x\":[6.84],\"y\":[61],\"z\":[44],\"type\":\"scatter3d\"},{\"hovertemplate\":\"Countries and areas=Niger\\u003cbr\\u003eUnemployment_Rate=%{x}\\u003cbr\\u003eGrade_2_3_Proficiency_Reading=%{y}\\u003cbr\\u003eGrade_2_3_Proficiency_Math=%{z}\\u003cextra\\u003e\\u003c\\u002fextra\\u003e\",\"legendgroup\":\"Niger\",\"marker\":{\"color\":\"#FECB52\",\"symbol\":\"circle\"},\"mode\":\"markers\",\"name\":\"Niger\",\"scene\":\"scene\",\"showlegend\":true,\"x\":[0.47],\"y\":[9],\"z\":[27],\"type\":\"scatter3d\"},{\"hovertemplate\":\"Countries and areas=Nigeria\\u003cbr\\u003eUnemployment_Rate=%{x}\\u003cbr\\u003eGrade_2_3_Proficiency_Reading=%{y}\\u003cbr\\u003eGrade_2_3_Proficiency_Math=%{z}\\u003cextra\\u003e\\u003c\\u002fextra\\u003e\",\"legendgroup\":\"Nigeria\",\"marker\":{\"color\":\"#636efa\",\"symbol\":\"circle\"},\"mode\":\"markers\",\"name\":\"Nigeria\",\"scene\":\"scene\",\"showlegend\":true,\"x\":[8.1],\"y\":[0],\"z\":[0],\"type\":\"scatter3d\"},{\"hovertemplate\":\"Countries and areas=Niue\\u003cbr\\u003eUnemployment_Rate=%{x}\\u003cbr\\u003eGrade_2_3_Proficiency_Reading=%{y}\\u003cbr\\u003eGrade_2_3_Proficiency_Math=%{z}\\u003cextra\\u003e\\u003c\\u002fextra\\u003e\",\"legendgroup\":\"Niue\",\"marker\":{\"color\":\"#EF553B\",\"symbol\":\"circle\"},\"mode\":\"markers\",\"name\":\"Niue\",\"scene\":\"scene\",\"showlegend\":true,\"x\":[0.0],\"y\":[0],\"z\":[0],\"type\":\"scatter3d\"},{\"hovertemplate\":\"Countries and areas=North Macedonia\\u003cbr\\u003eUnemployment_Rate=%{x}\\u003cbr\\u003eGrade_2_3_Proficiency_Reading=%{y}\\u003cbr\\u003eGrade_2_3_Proficiency_Math=%{z}\\u003cextra\\u003e\\u003c\\u002fextra\\u003e\",\"legendgroup\":\"North Macedonia\",\"marker\":{\"color\":\"#00cc96\",\"symbol\":\"circle\"},\"mode\":\"markers\",\"name\":\"North Macedonia\",\"scene\":\"scene\",\"showlegend\":true,\"x\":[0.0],\"y\":[0],\"z\":[0],\"type\":\"scatter3d\"},{\"hovertemplate\":\"Countries and areas=Norway\\u003cbr\\u003eUnemployment_Rate=%{x}\\u003cbr\\u003eGrade_2_3_Proficiency_Reading=%{y}\\u003cbr\\u003eGrade_2_3_Proficiency_Math=%{z}\\u003cextra\\u003e\\u003c\\u002fextra\\u003e\",\"legendgroup\":\"Norway\",\"marker\":{\"color\":\"#ab63fa\",\"symbol\":\"circle\"},\"mode\":\"markers\",\"name\":\"Norway\",\"scene\":\"scene\",\"showlegend\":true,\"x\":[3.35],\"y\":[99],\"z\":[86],\"type\":\"scatter3d\"},{\"hovertemplate\":\"Countries and areas=Oman\\u003cbr\\u003eUnemployment_Rate=%{x}\\u003cbr\\u003eGrade_2_3_Proficiency_Reading=%{y}\\u003cbr\\u003eGrade_2_3_Proficiency_Math=%{z}\\u003cextra\\u003e\\u003c\\u002fextra\\u003e\",\"legendgroup\":\"Oman\",\"marker\":{\"color\":\"#FFA15A\",\"symbol\":\"circle\"},\"mode\":\"markers\",\"name\":\"Oman\",\"scene\":\"scene\",\"showlegend\":true,\"x\":[2.67],\"y\":[59],\"z\":[32],\"type\":\"scatter3d\"},{\"hovertemplate\":\"Countries and areas=Pakistan\\u003cbr\\u003eUnemployment_Rate=%{x}\\u003cbr\\u003eGrade_2_3_Proficiency_Reading=%{y}\\u003cbr\\u003eGrade_2_3_Proficiency_Math=%{z}\\u003cextra\\u003e\\u003c\\u002fextra\\u003e\",\"legendgroup\":\"Pakistan\",\"marker\":{\"color\":\"#19d3f3\",\"symbol\":\"circle\"},\"mode\":\"markers\",\"name\":\"Pakistan\",\"scene\":\"scene\",\"showlegend\":true,\"x\":[4.45],\"y\":[35],\"z\":[0],\"type\":\"scatter3d\"},{\"hovertemplate\":\"Countries and areas=Palau\\u003cbr\\u003eUnemployment_Rate=%{x}\\u003cbr\\u003eGrade_2_3_Proficiency_Reading=%{y}\\u003cbr\\u003eGrade_2_3_Proficiency_Math=%{z}\\u003cextra\\u003e\\u003c\\u002fextra\\u003e\",\"legendgroup\":\"Palau\",\"marker\":{\"color\":\"#FF6692\",\"symbol\":\"circle\"},\"mode\":\"markers\",\"name\":\"Palau\",\"scene\":\"scene\",\"showlegend\":true,\"x\":[0.0],\"y\":[0],\"z\":[0],\"type\":\"scatter3d\"},{\"hovertemplate\":\"Countries and areas=Panama\\u003cbr\\u003eUnemployment_Rate=%{x}\\u003cbr\\u003eGrade_2_3_Proficiency_Reading=%{y}\\u003cbr\\u003eGrade_2_3_Proficiency_Math=%{z}\\u003cextra\\u003e\\u003c\\u002fextra\\u003e\",\"legendgroup\":\"Panama\",\"marker\":{\"color\":\"#B6E880\",\"symbol\":\"circle\"},\"mode\":\"markers\",\"name\":\"Panama\",\"scene\":\"scene\",\"showlegend\":true,\"x\":[3.9],\"y\":[65],\"z\":[51],\"type\":\"scatter3d\"},{\"hovertemplate\":\"Countries and areas=Papua New Guinea\\u003cbr\\u003eUnemployment_Rate=%{x}\\u003cbr\\u003eGrade_2_3_Proficiency_Reading=%{y}\\u003cbr\\u003eGrade_2_3_Proficiency_Math=%{z}\\u003cextra\\u003e\\u003c\\u002fextra\\u003e\",\"legendgroup\":\"Papua New Guinea\",\"marker\":{\"color\":\"#FF97FF\",\"symbol\":\"circle\"},\"mode\":\"markers\",\"name\":\"Papua New Guinea\",\"scene\":\"scene\",\"showlegend\":true,\"x\":[2.46],\"y\":[0],\"z\":[0],\"type\":\"scatter3d\"},{\"hovertemplate\":\"Countries and areas=Paraguay\\u003cbr\\u003eUnemployment_Rate=%{x}\\u003cbr\\u003eGrade_2_3_Proficiency_Reading=%{y}\\u003cbr\\u003eGrade_2_3_Proficiency_Math=%{z}\\u003cextra\\u003e\\u003c\\u002fextra\\u003e\",\"legendgroup\":\"Paraguay\",\"marker\":{\"color\":\"#FECB52\",\"symbol\":\"circle\"},\"mode\":\"markers\",\"name\":\"Paraguay\",\"scene\":\"scene\",\"showlegend\":true,\"x\":[4.81],\"y\":[61],\"z\":[47],\"type\":\"scatter3d\"},{\"hovertemplate\":\"Countries and areas=Peru\\u003cbr\\u003eUnemployment_Rate=%{x}\\u003cbr\\u003eGrade_2_3_Proficiency_Reading=%{y}\\u003cbr\\u003eGrade_2_3_Proficiency_Math=%{z}\\u003cextra\\u003e\\u003c\\u002fextra\\u003e\",\"legendgroup\":\"Peru\",\"marker\":{\"color\":\"#636efa\",\"symbol\":\"circle\"},\"mode\":\"markers\",\"name\":\"Peru\",\"scene\":\"scene\",\"showlegend\":true,\"x\":[3.31],\"y\":[80],\"z\":[70],\"type\":\"scatter3d\"},{\"hovertemplate\":\"Countries and areas=Philippines\\u003cbr\\u003eUnemployment_Rate=%{x}\\u003cbr\\u003eGrade_2_3_Proficiency_Reading=%{y}\\u003cbr\\u003eGrade_2_3_Proficiency_Math=%{z}\\u003cextra\\u003e\\u003c\\u002fextra\\u003e\",\"legendgroup\":\"Philippines\",\"marker\":{\"color\":\"#EF553B\",\"symbol\":\"circle\"},\"mode\":\"markers\",\"name\":\"Philippines\",\"scene\":\"scene\",\"showlegend\":true,\"x\":[2.15],\"y\":[0],\"z\":[0],\"type\":\"scatter3d\"},{\"hovertemplate\":\"Countries and areas=Poland\\u003cbr\\u003eUnemployment_Rate=%{x}\\u003cbr\\u003eGrade_2_3_Proficiency_Reading=%{y}\\u003cbr\\u003eGrade_2_3_Proficiency_Math=%{z}\\u003cextra\\u003e\\u003c\\u002fextra\\u003e\",\"legendgroup\":\"Poland\",\"marker\":{\"color\":\"#00cc96\",\"symbol\":\"circle\"},\"mode\":\"markers\",\"name\":\"Poland\",\"scene\":\"scene\",\"showlegend\":true,\"x\":[3.47],\"y\":[98],\"z\":[80],\"type\":\"scatter3d\"},{\"hovertemplate\":\"Countries and areas=Portugal\\u003cbr\\u003eUnemployment_Rate=%{x}\\u003cbr\\u003eGrade_2_3_Proficiency_Reading=%{y}\\u003cbr\\u003eGrade_2_3_Proficiency_Math=%{z}\\u003cextra\\u003e\\u003c\\u002fextra\\u003e\",\"legendgroup\":\"Portugal\",\"marker\":{\"color\":\"#ab63fa\",\"symbol\":\"circle\"},\"mode\":\"markers\",\"name\":\"Portugal\",\"scene\":\"scene\",\"showlegend\":true,\"x\":[6.33],\"y\":[97],\"z\":[82],\"type\":\"scatter3d\"},{\"hovertemplate\":\"Countries and areas=Qatar\\u003cbr\\u003eUnemployment_Rate=%{x}\\u003cbr\\u003eGrade_2_3_Proficiency_Reading=%{y}\\u003cbr\\u003eGrade_2_3_Proficiency_Math=%{z}\\u003cextra\\u003e\\u003c\\u002fextra\\u003e\",\"legendgroup\":\"Qatar\",\"marker\":{\"color\":\"#FFA15A\",\"symbol\":\"circle\"},\"mode\":\"markers\",\"name\":\"Qatar\",\"scene\":\"scene\",\"showlegend\":true,\"x\":[0.09],\"y\":[66],\"z\":[36],\"type\":\"scatter3d\"},{\"hovertemplate\":\"Countries and areas=South Korea\\u003cbr\\u003eUnemployment_Rate=%{x}\\u003cbr\\u003eGrade_2_3_Proficiency_Reading=%{y}\\u003cbr\\u003eGrade_2_3_Proficiency_Math=%{z}\\u003cextra\\u003e\\u003c\\u002fextra\\u003e\",\"legendgroup\":\"South Korea\",\"marker\":{\"color\":\"#19d3f3\",\"symbol\":\"circle\"},\"mode\":\"markers\",\"name\":\"South Korea\",\"scene\":\"scene\",\"showlegend\":true,\"x\":[4.15],\"y\":[0],\"z\":[97],\"type\":\"scatter3d\"},{\"hovertemplate\":\"Countries and areas=Moldova\\u003cbr\\u003eUnemployment_Rate=%{x}\\u003cbr\\u003eGrade_2_3_Proficiency_Reading=%{y}\\u003cbr\\u003eGrade_2_3_Proficiency_Math=%{z}\\u003cextra\\u003e\\u003c\\u002fextra\\u003e\",\"legendgroup\":\"Moldova\",\"marker\":{\"color\":\"#FF6692\",\"symbol\":\"circle\"},\"mode\":\"markers\",\"name\":\"Moldova\",\"scene\":\"scene\",\"showlegend\":true,\"x\":[5.47],\"y\":[0],\"z\":[0],\"type\":\"scatter3d\"},{\"hovertemplate\":\"Countries and areas=Romania\\u003cbr\\u003eUnemployment_Rate=%{x}\\u003cbr\\u003eGrade_2_3_Proficiency_Reading=%{y}\\u003cbr\\u003eGrade_2_3_Proficiency_Math=%{z}\\u003cextra\\u003e\\u003c\\u002fextra\\u003e\",\"legendgroup\":\"Romania\",\"marker\":{\"color\":\"#B6E880\",\"symbol\":\"circle\"},\"mode\":\"markers\",\"name\":\"Romania\",\"scene\":\"scene\",\"showlegend\":true,\"x\":[3.98],\"y\":[0],\"z\":[0],\"type\":\"scatter3d\"},{\"hovertemplate\":\"Countries and areas=Russia\\u003cbr\\u003eUnemployment_Rate=%{x}\\u003cbr\\u003eGrade_2_3_Proficiency_Reading=%{y}\\u003cbr\\u003eGrade_2_3_Proficiency_Math=%{z}\\u003cextra\\u003e\\u003c\\u002fextra\\u003e\",\"legendgroup\":\"Russia\",\"marker\":{\"color\":\"#FF97FF\",\"symbol\":\"circle\"},\"mode\":\"markers\",\"name\":\"Russia\",\"scene\":\"scene\",\"showlegend\":true,\"x\":[4.59],\"y\":[0],\"z\":[0],\"type\":\"scatter3d\"},{\"hovertemplate\":\"Countries and areas=Rwanda\\u003cbr\\u003eUnemployment_Rate=%{x}\\u003cbr\\u003eGrade_2_3_Proficiency_Reading=%{y}\\u003cbr\\u003eGrade_2_3_Proficiency_Math=%{z}\\u003cextra\\u003e\\u003c\\u002fextra\\u003e\",\"legendgroup\":\"Rwanda\",\"marker\":{\"color\":\"#FECB52\",\"symbol\":\"circle\"},\"mode\":\"markers\",\"name\":\"Rwanda\",\"scene\":\"scene\",\"showlegend\":true,\"x\":[1.03],\"y\":[0],\"z\":[0],\"type\":\"scatter3d\"},{\"hovertemplate\":\"Countries and areas=Saint Kitts and Nevis\\u003cbr\\u003eUnemployment_Rate=%{x}\\u003cbr\\u003eGrade_2_3_Proficiency_Reading=%{y}\\u003cbr\\u003eGrade_2_3_Proficiency_Math=%{z}\\u003cextra\\u003e\\u003c\\u002fextra\\u003e\",\"legendgroup\":\"Saint Kitts and Nevis\",\"marker\":{\"color\":\"#636efa\",\"symbol\":\"circle\"},\"mode\":\"markers\",\"name\":\"Saint Kitts and Nevis\",\"scene\":\"scene\",\"showlegend\":true,\"x\":[0.0],\"y\":[0],\"z\":[0],\"type\":\"scatter3d\"},{\"hovertemplate\":\"Countries and areas=Saint Lucia\\u003cbr\\u003eUnemployment_Rate=%{x}\\u003cbr\\u003eGrade_2_3_Proficiency_Reading=%{y}\\u003cbr\\u003eGrade_2_3_Proficiency_Math=%{z}\\u003cextra\\u003e\\u003c\\u002fextra\\u003e\",\"legendgroup\":\"Saint Lucia\",\"marker\":{\"color\":\"#EF553B\",\"symbol\":\"circle\"},\"mode\":\"markers\",\"name\":\"Saint Lucia\",\"scene\":\"scene\",\"showlegend\":true,\"x\":[20.71],\"y\":[0],\"z\":[0],\"type\":\"scatter3d\"},{\"hovertemplate\":\"Countries and areas=Saint Vincent and the Grenadines\\u003cbr\\u003eUnemployment_Rate=%{x}\\u003cbr\\u003eGrade_2_3_Proficiency_Reading=%{y}\\u003cbr\\u003eGrade_2_3_Proficiency_Math=%{z}\\u003cextra\\u003e\\u003c\\u002fextra\\u003e\",\"legendgroup\":\"Saint Vincent and the Grenadines\",\"marker\":{\"color\":\"#00cc96\",\"symbol\":\"circle\"},\"mode\":\"markers\",\"name\":\"Saint Vincent and the Grenadines\",\"scene\":\"scene\",\"showlegend\":true,\"x\":[18.88],\"y\":[0],\"z\":[0],\"type\":\"scatter3d\"},{\"hovertemplate\":\"Countries and areas=Samoa\\u003cbr\\u003eUnemployment_Rate=%{x}\\u003cbr\\u003eGrade_2_3_Proficiency_Reading=%{y}\\u003cbr\\u003eGrade_2_3_Proficiency_Math=%{z}\\u003cextra\\u003e\\u003c\\u002fextra\\u003e\",\"legendgroup\":\"Samoa\",\"marker\":{\"color\":\"#ab63fa\",\"symbol\":\"circle\"},\"mode\":\"markers\",\"name\":\"Samoa\",\"scene\":\"scene\",\"showlegend\":true,\"x\":[8.36],\"y\":[0],\"z\":[0],\"type\":\"scatter3d\"},{\"hovertemplate\":\"Countries and areas=San Marino\\u003cbr\\u003eUnemployment_Rate=%{x}\\u003cbr\\u003eGrade_2_3_Proficiency_Reading=%{y}\\u003cbr\\u003eGrade_2_3_Proficiency_Math=%{z}\\u003cextra\\u003e\\u003c\\u002fextra\\u003e\",\"legendgroup\":\"San Marino\",\"marker\":{\"color\":\"#FFA15A\",\"symbol\":\"circle\"},\"mode\":\"markers\",\"name\":\"San Marino\",\"scene\":\"scene\",\"showlegend\":true,\"x\":[0.0],\"y\":[0],\"z\":[0],\"type\":\"scatter3d\"},{\"hovertemplate\":\"Countries and areas=S\\u00ef\\u00bf\\u00bd\\u00ef\\u00bf\\u00bd\\u00ef\\u00bf\\u00bd\\u00ef\\u00bf\\u00bd\\u00ef\\u00bf\\u00bd\\u00ef\\u00bf\\u00bd\\u00ef\\u00bf\\u00bd\\u00ef\\u00bf\\u003cbr\\u003eUnemployment_Rate=%{x}\\u003cbr\\u003eGrade_2_3_Proficiency_Reading=%{y}\\u003cbr\\u003eGrade_2_3_Proficiency_Math=%{z}\\u003cextra\\u003e\\u003c\\u002fextra\\u003e\",\"legendgroup\":\"S\\u00ef\\u00bf\\u00bd\\u00ef\\u00bf\\u00bd\\u00ef\\u00bf\\u00bd\\u00ef\\u00bf\\u00bd\\u00ef\\u00bf\\u00bd\\u00ef\\u00bf\\u00bd\\u00ef\\u00bf\\u00bd\\u00ef\\u00bf\",\"marker\":{\"color\":\"#19d3f3\",\"symbol\":\"circle\"},\"mode\":\"markers\",\"name\":\"S\\u00ef\\u00bf\\u00bd\\u00ef\\u00bf\\u00bd\\u00ef\\u00bf\\u00bd\\u00ef\\u00bf\\u00bd\\u00ef\\u00bf\\u00bd\\u00ef\\u00bf\\u00bd\\u00ef\\u00bf\\u00bd\\u00ef\\u00bf\",\"scene\":\"scene\",\"showlegend\":true,\"x\":[13.37],\"y\":[0],\"z\":[0],\"type\":\"scatter3d\"},{\"hovertemplate\":\"Countries and areas=Saudi Arabia\\u003cbr\\u003eUnemployment_Rate=%{x}\\u003cbr\\u003eGrade_2_3_Proficiency_Reading=%{y}\\u003cbr\\u003eGrade_2_3_Proficiency_Math=%{z}\\u003cextra\\u003e\\u003c\\u002fextra\\u003e\",\"legendgroup\":\"Saudi Arabia\",\"marker\":{\"color\":\"#FF6692\",\"symbol\":\"circle\"},\"mode\":\"markers\",\"name\":\"Saudi Arabia\",\"scene\":\"scene\",\"showlegend\":true,\"x\":[5.93],\"y\":[63],\"z\":[16],\"type\":\"scatter3d\"},{\"hovertemplate\":\"Countries and areas=Senegal\\u003cbr\\u003eUnemployment_Rate=%{x}\\u003cbr\\u003eGrade_2_3_Proficiency_Reading=%{y}\\u003cbr\\u003eGrade_2_3_Proficiency_Math=%{z}\\u003cextra\\u003e\\u003c\\u002fextra\\u003e\",\"legendgroup\":\"Senegal\",\"marker\":{\"color\":\"#B6E880\",\"symbol\":\"circle\"},\"mode\":\"markers\",\"name\":\"Senegal\",\"scene\":\"scene\",\"showlegend\":true,\"x\":[6.6],\"y\":[29],\"z\":[63],\"type\":\"scatter3d\"},{\"hovertemplate\":\"Countries and areas=Serbia\\u003cbr\\u003eUnemployment_Rate=%{x}\\u003cbr\\u003eGrade_2_3_Proficiency_Reading=%{y}\\u003cbr\\u003eGrade_2_3_Proficiency_Math=%{z}\\u003cextra\\u003e\\u003c\\u002fextra\\u003e\",\"legendgroup\":\"Serbia\",\"marker\":{\"color\":\"#FF97FF\",\"symbol\":\"circle\"},\"mode\":\"markers\",\"name\":\"Serbia\",\"scene\":\"scene\",\"showlegend\":true,\"x\":[12.69],\"y\":[0],\"z\":[0],\"type\":\"scatter3d\"},{\"hovertemplate\":\"Countries and areas=Seychelles\\u003cbr\\u003eUnemployment_Rate=%{x}\\u003cbr\\u003eGrade_2_3_Proficiency_Reading=%{y}\\u003cbr\\u003eGrade_2_3_Proficiency_Math=%{z}\\u003cextra\\u003e\\u003c\\u002fextra\\u003e\",\"legendgroup\":\"Seychelles\",\"marker\":{\"color\":\"#FECB52\",\"symbol\":\"circle\"},\"mode\":\"markers\",\"name\":\"Seychelles\",\"scene\":\"scene\",\"showlegend\":true,\"x\":[0.0],\"y\":[0],\"z\":[0],\"type\":\"scatter3d\"},{\"hovertemplate\":\"Countries and areas=Sierra Leone\\u003cbr\\u003eUnemployment_Rate=%{x}\\u003cbr\\u003eGrade_2_3_Proficiency_Reading=%{y}\\u003cbr\\u003eGrade_2_3_Proficiency_Math=%{z}\\u003cextra\\u003e\\u003c\\u002fextra\\u003e\",\"legendgroup\":\"Sierra Leone\",\"marker\":{\"color\":\"#636efa\",\"symbol\":\"circle\"},\"mode\":\"markers\",\"name\":\"Sierra Leone\",\"scene\":\"scene\",\"showlegend\":true,\"x\":[4.43],\"y\":[6],\"z\":[0],\"type\":\"scatter3d\"},{\"hovertemplate\":\"Countries and areas=Singapore\\u003cbr\\u003eUnemployment_Rate=%{x}\\u003cbr\\u003eGrade_2_3_Proficiency_Reading=%{y}\\u003cbr\\u003eGrade_2_3_Proficiency_Math=%{z}\\u003cextra\\u003e\\u003c\\u002fextra\\u003e\",\"legendgroup\":\"Singapore\",\"marker\":{\"color\":\"#EF553B\",\"symbol\":\"circle\"},\"mode\":\"markers\",\"name\":\"Singapore\",\"scene\":\"scene\",\"showlegend\":true,\"x\":[4.11],\"y\":[97],\"z\":[93],\"type\":\"scatter3d\"},{\"hovertemplate\":\"Countries and areas=Slovakia\\u003cbr\\u003eUnemployment_Rate=%{x}\\u003cbr\\u003eGrade_2_3_Proficiency_Reading=%{y}\\u003cbr\\u003eGrade_2_3_Proficiency_Math=%{z}\\u003cextra\\u003e\\u003c\\u002fextra\\u003e\",\"legendgroup\":\"Slovakia\",\"marker\":{\"color\":\"#00cc96\",\"symbol\":\"circle\"},\"mode\":\"markers\",\"name\":\"Slovakia\",\"scene\":\"scene\",\"showlegend\":true,\"x\":[5.56],\"y\":[0],\"z\":[0],\"type\":\"scatter3d\"},{\"hovertemplate\":\"Countries and areas=Slovenia\\u003cbr\\u003eUnemployment_Rate=%{x}\\u003cbr\\u003eGrade_2_3_Proficiency_Reading=%{y}\\u003cbr\\u003eGrade_2_3_Proficiency_Math=%{z}\\u003cextra\\u003e\\u003c\\u002fextra\\u003e\",\"legendgroup\":\"Slovenia\",\"marker\":{\"color\":\"#ab63fa\",\"symbol\":\"circle\"},\"mode\":\"markers\",\"name\":\"Slovenia\",\"scene\":\"scene\",\"showlegend\":true,\"x\":[4.2],\"y\":[96],\"z\":[75],\"type\":\"scatter3d\"},{\"hovertemplate\":\"Countries and areas=Solomon Islands\\u003cbr\\u003eUnemployment_Rate=%{x}\\u003cbr\\u003eGrade_2_3_Proficiency_Reading=%{y}\\u003cbr\\u003eGrade_2_3_Proficiency_Math=%{z}\\u003cextra\\u003e\\u003c\\u002fextra\\u003e\",\"legendgroup\":\"Solomon Islands\",\"marker\":{\"color\":\"#FFA15A\",\"symbol\":\"circle\"},\"mode\":\"markers\",\"name\":\"Solomon Islands\",\"scene\":\"scene\",\"showlegend\":true,\"x\":[0.58],\"y\":[0],\"z\":[0],\"type\":\"scatter3d\"},{\"hovertemplate\":\"Countries and areas=Somalia\\u003cbr\\u003eUnemployment_Rate=%{x}\\u003cbr\\u003eGrade_2_3_Proficiency_Reading=%{y}\\u003cbr\\u003eGrade_2_3_Proficiency_Math=%{z}\\u003cextra\\u003e\\u003c\\u002fextra\\u003e\",\"legendgroup\":\"Somalia\",\"marker\":{\"color\":\"#19d3f3\",\"symbol\":\"circle\"},\"mode\":\"markers\",\"name\":\"Somalia\",\"scene\":\"scene\",\"showlegend\":true,\"x\":[11.35],\"y\":[0],\"z\":[0],\"type\":\"scatter3d\"},{\"hovertemplate\":\"Countries and areas=South Africa\\u003cbr\\u003eUnemployment_Rate=%{x}\\u003cbr\\u003eGrade_2_3_Proficiency_Reading=%{y}\\u003cbr\\u003eGrade_2_3_Proficiency_Math=%{z}\\u003cextra\\u003e\\u003c\\u002fextra\\u003e\",\"legendgroup\":\"South Africa\",\"marker\":{\"color\":\"#FF6692\",\"symbol\":\"circle\"},\"mode\":\"markers\",\"name\":\"South Africa\",\"scene\":\"scene\",\"showlegend\":true,\"x\":[28.18],\"y\":[22],\"z\":[0],\"type\":\"scatter3d\"},{\"hovertemplate\":\"Countries and areas=South Sudan\\u003cbr\\u003eUnemployment_Rate=%{x}\\u003cbr\\u003eGrade_2_3_Proficiency_Reading=%{y}\\u003cbr\\u003eGrade_2_3_Proficiency_Math=%{z}\\u003cextra\\u003e\\u003c\\u002fextra\\u003e\",\"legendgroup\":\"South Sudan\",\"marker\":{\"color\":\"#B6E880\",\"symbol\":\"circle\"},\"mode\":\"markers\",\"name\":\"South Sudan\",\"scene\":\"scene\",\"showlegend\":true,\"x\":[12.24],\"y\":[0],\"z\":[0],\"type\":\"scatter3d\"},{\"hovertemplate\":\"Countries and areas=Spain\\u003cbr\\u003eUnemployment_Rate=%{x}\\u003cbr\\u003eGrade_2_3_Proficiency_Reading=%{y}\\u003cbr\\u003eGrade_2_3_Proficiency_Math=%{z}\\u003cextra\\u003e\\u003c\\u002fextra\\u003e\",\"legendgroup\":\"Spain\",\"marker\":{\"color\":\"#FF97FF\",\"symbol\":\"circle\"},\"mode\":\"markers\",\"name\":\"Spain\",\"scene\":\"scene\",\"showlegend\":true,\"x\":[13.96],\"y\":[97],\"z\":[67],\"type\":\"scatter3d\"},{\"hovertemplate\":\"Countries and areas=Sri Lanka\\u003cbr\\u003eUnemployment_Rate=%{x}\\u003cbr\\u003eGrade_2_3_Proficiency_Reading=%{y}\\u003cbr\\u003eGrade_2_3_Proficiency_Math=%{z}\\u003cextra\\u003e\\u003c\\u002fextra\\u003e\",\"legendgroup\":\"Sri Lanka\",\"marker\":{\"color\":\"#FECB52\",\"symbol\":\"circle\"},\"mode\":\"markers\",\"name\":\"Sri Lanka\",\"scene\":\"scene\",\"showlegend\":true,\"x\":[4.2],\"y\":[0],\"z\":[0],\"type\":\"scatter3d\"},{\"hovertemplate\":\"Countries and areas=Palestinian National Authority\\u003cbr\\u003eUnemployment_Rate=%{x}\\u003cbr\\u003eGrade_2_3_Proficiency_Reading=%{y}\\u003cbr\\u003eGrade_2_3_Proficiency_Math=%{z}\\u003cextra\\u003e\\u003c\\u002fextra\\u003e\",\"legendgroup\":\"Palestinian National Authority\",\"marker\":{\"color\":\"#636efa\",\"symbol\":\"circle\"},\"mode\":\"markers\",\"name\":\"Palestinian National Authority\",\"scene\":\"scene\",\"showlegend\":true,\"x\":[0.0],\"y\":[0],\"z\":[0],\"type\":\"scatter3d\"},{\"hovertemplate\":\"Countries and areas=Sudan\\u003cbr\\u003eUnemployment_Rate=%{x}\\u003cbr\\u003eGrade_2_3_Proficiency_Reading=%{y}\\u003cbr\\u003eGrade_2_3_Proficiency_Math=%{z}\\u003cextra\\u003e\\u003c\\u002fextra\\u003e\",\"legendgroup\":\"Sudan\",\"marker\":{\"color\":\"#EF553B\",\"symbol\":\"circle\"},\"mode\":\"markers\",\"name\":\"Sudan\",\"scene\":\"scene\",\"showlegend\":true,\"x\":[16.53],\"y\":[0],\"z\":[0],\"type\":\"scatter3d\"},{\"hovertemplate\":\"Countries and areas=Suriname\\u003cbr\\u003eUnemployment_Rate=%{x}\\u003cbr\\u003eGrade_2_3_Proficiency_Reading=%{y}\\u003cbr\\u003eGrade_2_3_Proficiency_Math=%{z}\\u003cextra\\u003e\\u003c\\u002fextra\\u003e\",\"legendgroup\":\"Suriname\",\"marker\":{\"color\":\"#00cc96\",\"symbol\":\"circle\"},\"mode\":\"markers\",\"name\":\"Suriname\",\"scene\":\"scene\",\"showlegend\":true,\"x\":[7.33],\"y\":[30],\"z\":[0],\"type\":\"scatter3d\"},{\"hovertemplate\":\"Countries and areas=Sweden\\u003cbr\\u003eUnemployment_Rate=%{x}\\u003cbr\\u003eGrade_2_3_Proficiency_Reading=%{y}\\u003cbr\\u003eGrade_2_3_Proficiency_Math=%{z}\\u003cextra\\u003e\\u003c\\u002fextra\\u003e\",\"legendgroup\":\"Sweden\",\"marker\":{\"color\":\"#ab63fa\",\"symbol\":\"circle\"},\"mode\":\"markers\",\"name\":\"Sweden\",\"scene\":\"scene\",\"showlegend\":true,\"x\":[6.48],\"y\":[98],\"z\":[75],\"type\":\"scatter3d\"},{\"hovertemplate\":\"Countries and areas=Switzerland\\u003cbr\\u003eUnemployment_Rate=%{x}\\u003cbr\\u003eGrade_2_3_Proficiency_Reading=%{y}\\u003cbr\\u003eGrade_2_3_Proficiency_Math=%{z}\\u003cextra\\u003e\\u003c\\u002fextra\\u003e\",\"legendgroup\":\"Switzerland\",\"marker\":{\"color\":\"#FFA15A\",\"symbol\":\"circle\"},\"mode\":\"markers\",\"name\":\"Switzerland\",\"scene\":\"scene\",\"showlegend\":true,\"x\":[4.58],\"y\":[0],\"z\":[0],\"type\":\"scatter3d\"},{\"hovertemplate\":\"Countries and areas=Syria\\u003cbr\\u003eUnemployment_Rate=%{x}\\u003cbr\\u003eGrade_2_3_Proficiency_Reading=%{y}\\u003cbr\\u003eGrade_2_3_Proficiency_Math=%{z}\\u003cextra\\u003e\\u003c\\u002fextra\\u003e\",\"legendgroup\":\"Syria\",\"marker\":{\"color\":\"#19d3f3\",\"symbol\":\"circle\"},\"mode\":\"markers\",\"name\":\"Syria\",\"scene\":\"scene\",\"showlegend\":true,\"x\":[8.37],\"y\":[0],\"z\":[0],\"type\":\"scatter3d\"},{\"hovertemplate\":\"Countries and areas=Tajikistan\\u003cbr\\u003eUnemployment_Rate=%{x}\\u003cbr\\u003eGrade_2_3_Proficiency_Reading=%{y}\\u003cbr\\u003eGrade_2_3_Proficiency_Math=%{z}\\u003cextra\\u003e\\u003c\\u002fextra\\u003e\",\"legendgroup\":\"Tajikistan\",\"marker\":{\"color\":\"#FF6692\",\"symbol\":\"circle\"},\"mode\":\"markers\",\"name\":\"Tajikistan\",\"scene\":\"scene\",\"showlegend\":true,\"x\":[11.02],\"y\":[0],\"z\":[0],\"type\":\"scatter3d\"},{\"hovertemplate\":\"Countries and areas=Thailand\\u003cbr\\u003eUnemployment_Rate=%{x}\\u003cbr\\u003eGrade_2_3_Proficiency_Reading=%{y}\\u003cbr\\u003eGrade_2_3_Proficiency_Math=%{z}\\u003cextra\\u003e\\u003c\\u002fextra\\u003e\",\"legendgroup\":\"Thailand\",\"marker\":{\"color\":\"#B6E880\",\"symbol\":\"circle\"},\"mode\":\"markers\",\"name\":\"Thailand\",\"scene\":\"scene\",\"showlegend\":true,\"x\":[0.75],\"y\":[0],\"z\":[0],\"type\":\"scatter3d\"},{\"hovertemplate\":\"Countries and areas=East Timor\\u003cbr\\u003eUnemployment_Rate=%{x}\\u003cbr\\u003eGrade_2_3_Proficiency_Reading=%{y}\\u003cbr\\u003eGrade_2_3_Proficiency_Math=%{z}\\u003cextra\\u003e\\u003c\\u002fextra\\u003e\",\"legendgroup\":\"East Timor\",\"marker\":{\"color\":\"#FF97FF\",\"symbol\":\"circle\"},\"mode\":\"markers\",\"name\":\"East Timor\",\"scene\":\"scene\",\"showlegend\":true,\"x\":[4.55],\"y\":[0],\"z\":[0],\"type\":\"scatter3d\"},{\"hovertemplate\":\"Countries and areas=Togo\\u003cbr\\u003eUnemployment_Rate=%{x}\\u003cbr\\u003eGrade_2_3_Proficiency_Reading=%{y}\\u003cbr\\u003eGrade_2_3_Proficiency_Math=%{z}\\u003cextra\\u003e\\u003c\\u002fextra\\u003e\",\"legendgroup\":\"Togo\",\"marker\":{\"color\":\"#FECB52\",\"symbol\":\"circle\"},\"mode\":\"markers\",\"name\":\"Togo\",\"scene\":\"scene\",\"showlegend\":true,\"x\":[2.04],\"y\":[19],\"z\":[40],\"type\":\"scatter3d\"},{\"hovertemplate\":\"Countries and areas=Tokelau\\u003cbr\\u003eUnemployment_Rate=%{x}\\u003cbr\\u003eGrade_2_3_Proficiency_Reading=%{y}\\u003cbr\\u003eGrade_2_3_Proficiency_Math=%{z}\\u003cextra\\u003e\\u003c\\u002fextra\\u003e\",\"legendgroup\":\"Tokelau\",\"marker\":{\"color\":\"#636efa\",\"symbol\":\"circle\"},\"mode\":\"markers\",\"name\":\"Tokelau\",\"scene\":\"scene\",\"showlegend\":true,\"x\":[0.0],\"y\":[0],\"z\":[0],\"type\":\"scatter3d\"},{\"hovertemplate\":\"Countries and areas=Tonga\\u003cbr\\u003eUnemployment_Rate=%{x}\\u003cbr\\u003eGrade_2_3_Proficiency_Reading=%{y}\\u003cbr\\u003eGrade_2_3_Proficiency_Math=%{z}\\u003cextra\\u003e\\u003c\\u002fextra\\u003e\",\"legendgroup\":\"Tonga\",\"marker\":{\"color\":\"#EF553B\",\"symbol\":\"circle\"},\"mode\":\"markers\",\"name\":\"Tonga\",\"scene\":\"scene\",\"showlegend\":true,\"x\":[1.12],\"y\":[0],\"z\":[0],\"type\":\"scatter3d\"},{\"hovertemplate\":\"Countries and areas=Trinidad and Tobago\\u003cbr\\u003eUnemployment_Rate=%{x}\\u003cbr\\u003eGrade_2_3_Proficiency_Reading=%{y}\\u003cbr\\u003eGrade_2_3_Proficiency_Math=%{z}\\u003cextra\\u003e\\u003c\\u002fextra\\u003e\",\"legendgroup\":\"Trinidad and Tobago\",\"marker\":{\"color\":\"#00cc96\",\"symbol\":\"circle\"},\"mode\":\"markers\",\"name\":\"Trinidad and Tobago\",\"scene\":\"scene\",\"showlegend\":true,\"x\":[2.69],\"y\":[80],\"z\":[0],\"type\":\"scatter3d\"},{\"hovertemplate\":\"Countries and areas=Tunisia\\u003cbr\\u003eUnemployment_Rate=%{x}\\u003cbr\\u003eGrade_2_3_Proficiency_Reading=%{y}\\u003cbr\\u003eGrade_2_3_Proficiency_Math=%{z}\\u003cextra\\u003e\\u003c\\u002fextra\\u003e\",\"legendgroup\":\"Tunisia\",\"marker\":{\"color\":\"#ab63fa\",\"symbol\":\"circle\"},\"mode\":\"markers\",\"name\":\"Tunisia\",\"scene\":\"scene\",\"showlegend\":true,\"x\":[16.02],\"y\":[47],\"z\":[0],\"type\":\"scatter3d\"},{\"hovertemplate\":\"Countries and areas=Turkey\\u003cbr\\u003eUnemployment_Rate=%{x}\\u003cbr\\u003eGrade_2_3_Proficiency_Reading=%{y}\\u003cbr\\u003eGrade_2_3_Proficiency_Math=%{z}\\u003cextra\\u003e\\u003c\\u002fextra\\u003e\",\"legendgroup\":\"Turkey\",\"marker\":{\"color\":\"#FFA15A\",\"symbol\":\"circle\"},\"mode\":\"markers\",\"name\":\"Turkey\",\"scene\":\"scene\",\"showlegend\":true,\"x\":[13.49],\"y\":[0],\"z\":[0],\"type\":\"scatter3d\"},{\"hovertemplate\":\"Countries and areas=Turkmenistan\\u003cbr\\u003eUnemployment_Rate=%{x}\\u003cbr\\u003eGrade_2_3_Proficiency_Reading=%{y}\\u003cbr\\u003eGrade_2_3_Proficiency_Math=%{z}\\u003cextra\\u003e\\u003c\\u002fextra\\u003e\",\"legendgroup\":\"Turkmenistan\",\"marker\":{\"color\":\"#19d3f3\",\"symbol\":\"circle\"},\"mode\":\"markers\",\"name\":\"Turkmenistan\",\"scene\":\"scene\",\"showlegend\":true,\"x\":[3.91],\"y\":[0],\"z\":[0],\"type\":\"scatter3d\"},{\"hovertemplate\":\"Countries and areas=Turks and Caicos Islands\\u003cbr\\u003eUnemployment_Rate=%{x}\\u003cbr\\u003eGrade_2_3_Proficiency_Reading=%{y}\\u003cbr\\u003eGrade_2_3_Proficiency_Math=%{z}\\u003cextra\\u003e\\u003c\\u002fextra\\u003e\",\"legendgroup\":\"Turks and Caicos Islands\",\"marker\":{\"color\":\"#FF6692\",\"symbol\":\"circle\"},\"mode\":\"markers\",\"name\":\"Turks and Caicos Islands\",\"scene\":\"scene\",\"showlegend\":true,\"x\":[0.0],\"y\":[0],\"z\":[0],\"type\":\"scatter3d\"},{\"hovertemplate\":\"Countries and areas=Tuvalu\\u003cbr\\u003eUnemployment_Rate=%{x}\\u003cbr\\u003eGrade_2_3_Proficiency_Reading=%{y}\\u003cbr\\u003eGrade_2_3_Proficiency_Math=%{z}\\u003cextra\\u003e\\u003c\\u002fextra\\u003e\",\"legendgroup\":\"Tuvalu\",\"marker\":{\"color\":\"#B6E880\",\"symbol\":\"circle\"},\"mode\":\"markers\",\"name\":\"Tuvalu\",\"scene\":\"scene\",\"showlegend\":true,\"x\":[0.0],\"y\":[0],\"z\":[0],\"type\":\"scatter3d\"},{\"hovertemplate\":\"Countries and areas=Uganda\\u003cbr\\u003eUnemployment_Rate=%{x}\\u003cbr\\u003eGrade_2_3_Proficiency_Reading=%{y}\\u003cbr\\u003eGrade_2_3_Proficiency_Math=%{z}\\u003cextra\\u003e\\u003c\\u002fextra\\u003e\",\"legendgroup\":\"Uganda\",\"marker\":{\"color\":\"#FF97FF\",\"symbol\":\"circle\"},\"mode\":\"markers\",\"name\":\"Uganda\",\"scene\":\"scene\",\"showlegend\":true,\"x\":[1.84],\"y\":[33],\"z\":[21],\"type\":\"scatter3d\"},{\"hovertemplate\":\"Countries and areas=Ukraine\\u003cbr\\u003eUnemployment_Rate=%{x}\\u003cbr\\u003eGrade_2_3_Proficiency_Reading=%{y}\\u003cbr\\u003eGrade_2_3_Proficiency_Math=%{z}\\u003cextra\\u003e\\u003c\\u002fextra\\u003e\",\"legendgroup\":\"Ukraine\",\"marker\":{\"color\":\"#FECB52\",\"symbol\":\"circle\"},\"mode\":\"markers\",\"name\":\"Ukraine\",\"scene\":\"scene\",\"showlegend\":true,\"x\":[8.88],\"y\":[0],\"z\":[0],\"type\":\"scatter3d\"},{\"hovertemplate\":\"Countries and areas=United Arab Emirates\\u003cbr\\u003eUnemployment_Rate=%{x}\\u003cbr\\u003eGrade_2_3_Proficiency_Reading=%{y}\\u003cbr\\u003eGrade_2_3_Proficiency_Math=%{z}\\u003cextra\\u003e\\u003c\\u002fextra\\u003e\",\"legendgroup\":\"United Arab Emirates\",\"marker\":{\"color\":\"#636efa\",\"symbol\":\"circle\"},\"mode\":\"markers\",\"name\":\"United Arab Emirates\",\"scene\":\"scene\",\"showlegend\":true,\"x\":[2.35],\"y\":[68],\"z\":[42],\"type\":\"scatter3d\"},{\"hovertemplate\":\"Countries and areas=United Kingdom\\u003cbr\\u003eUnemployment_Rate=%{x}\\u003cbr\\u003eGrade_2_3_Proficiency_Reading=%{y}\\u003cbr\\u003eGrade_2_3_Proficiency_Math=%{z}\\u003cextra\\u003e\\u003c\\u002fextra\\u003e\",\"legendgroup\":\"United Kingdom\",\"marker\":{\"color\":\"#EF553B\",\"symbol\":\"circle\"},\"mode\":\"markers\",\"name\":\"United Kingdom\",\"scene\":\"scene\",\"showlegend\":true,\"x\":[3.85],\"y\":[0],\"z\":[0],\"type\":\"scatter3d\"},{\"hovertemplate\":\"Countries and areas=Tanzania\\u003cbr\\u003eUnemployment_Rate=%{x}\\u003cbr\\u003eGrade_2_3_Proficiency_Reading=%{y}\\u003cbr\\u003eGrade_2_3_Proficiency_Math=%{z}\\u003cextra\\u003e\\u003c\\u002fextra\\u003e\",\"legendgroup\":\"Tanzania\",\"marker\":{\"color\":\"#00cc96\",\"symbol\":\"circle\"},\"mode\":\"markers\",\"name\":\"Tanzania\",\"scene\":\"scene\",\"showlegend\":true,\"x\":[1.98],\"y\":[0],\"z\":[0],\"type\":\"scatter3d\"},{\"hovertemplate\":\"Countries and areas=United States\\u003cbr\\u003eUnemployment_Rate=%{x}\\u003cbr\\u003eGrade_2_3_Proficiency_Reading=%{y}\\u003cbr\\u003eGrade_2_3_Proficiency_Math=%{z}\\u003cextra\\u003e\\u003c\\u002fextra\\u003e\",\"legendgroup\":\"United States\",\"marker\":{\"color\":\"#ab63fa\",\"symbol\":\"circle\"},\"mode\":\"markers\",\"name\":\"United States\",\"scene\":\"scene\",\"showlegend\":true,\"x\":[14.7],\"y\":[0],\"z\":[0],\"type\":\"scatter3d\"},{\"hovertemplate\":\"Countries and areas=Uruguay\\u003cbr\\u003eUnemployment_Rate=%{x}\\u003cbr\\u003eGrade_2_3_Proficiency_Reading=%{y}\\u003cbr\\u003eGrade_2_3_Proficiency_Math=%{z}\\u003cextra\\u003e\\u003c\\u002fextra\\u003e\",\"legendgroup\":\"Uruguay\",\"marker\":{\"color\":\"#FFA15A\",\"symbol\":\"circle\"},\"mode\":\"markers\",\"name\":\"Uruguay\",\"scene\":\"scene\",\"showlegend\":true,\"x\":[8.73],\"y\":[80],\"z\":[75],\"type\":\"scatter3d\"},{\"hovertemplate\":\"Countries and areas=Uzbekistan\\u003cbr\\u003eUnemployment_Rate=%{x}\\u003cbr\\u003eGrade_2_3_Proficiency_Reading=%{y}\\u003cbr\\u003eGrade_2_3_Proficiency_Math=%{z}\\u003cextra\\u003e\\u003c\\u002fextra\\u003e\",\"legendgroup\":\"Uzbekistan\",\"marker\":{\"color\":\"#19d3f3\",\"symbol\":\"circle\"},\"mode\":\"markers\",\"name\":\"Uzbekistan\",\"scene\":\"scene\",\"showlegend\":true,\"x\":[5.92],\"y\":[0],\"z\":[0],\"type\":\"scatter3d\"},{\"hovertemplate\":\"Countries and areas=Vanuatu\\u003cbr\\u003eUnemployment_Rate=%{x}\\u003cbr\\u003eGrade_2_3_Proficiency_Reading=%{y}\\u003cbr\\u003eGrade_2_3_Proficiency_Math=%{z}\\u003cextra\\u003e\\u003c\\u002fextra\\u003e\",\"legendgroup\":\"Vanuatu\",\"marker\":{\"color\":\"#FF6692\",\"symbol\":\"circle\"},\"mode\":\"markers\",\"name\":\"Vanuatu\",\"scene\":\"scene\",\"showlegend\":true,\"x\":[4.39],\"y\":[0],\"z\":[0],\"type\":\"scatter3d\"},{\"hovertemplate\":\"Countries and areas=Venezuela\\u003cbr\\u003eUnemployment_Rate=%{x}\\u003cbr\\u003eGrade_2_3_Proficiency_Reading=%{y}\\u003cbr\\u003eGrade_2_3_Proficiency_Math=%{z}\\u003cextra\\u003e\\u003c\\u002fextra\\u003e\",\"legendgroup\":\"Venezuela\",\"marker\":{\"color\":\"#B6E880\",\"symbol\":\"circle\"},\"mode\":\"markers\",\"name\":\"Venezuela\",\"scene\":\"scene\",\"showlegend\":true,\"x\":[8.8],\"y\":[0],\"z\":[0],\"type\":\"scatter3d\"},{\"hovertemplate\":\"Countries and areas=Vietnam\\u003cbr\\u003eUnemployment_Rate=%{x}\\u003cbr\\u003eGrade_2_3_Proficiency_Reading=%{y}\\u003cbr\\u003eGrade_2_3_Proficiency_Math=%{z}\\u003cextra\\u003e\\u003c\\u002fextra\\u003e\",\"legendgroup\":\"Vietnam\",\"marker\":{\"color\":\"#FF97FF\",\"symbol\":\"circle\"},\"mode\":\"markers\",\"name\":\"Vietnam\",\"scene\":\"scene\",\"showlegend\":true,\"x\":[2.01],\"y\":[0],\"z\":[0],\"type\":\"scatter3d\"},{\"hovertemplate\":\"Countries and areas=Yemen\\u003cbr\\u003eUnemployment_Rate=%{x}\\u003cbr\\u003eGrade_2_3_Proficiency_Reading=%{y}\\u003cbr\\u003eGrade_2_3_Proficiency_Math=%{z}\\u003cextra\\u003e\\u003c\\u002fextra\\u003e\",\"legendgroup\":\"Yemen\",\"marker\":{\"color\":\"#FECB52\",\"symbol\":\"circle\"},\"mode\":\"markers\",\"name\":\"Yemen\",\"scene\":\"scene\",\"showlegend\":true,\"x\":[12.91],\"y\":[0],\"z\":[0],\"type\":\"scatter3d\"},{\"hovertemplate\":\"Countries and areas=Zambia\\u003cbr\\u003eUnemployment_Rate=%{x}\\u003cbr\\u003eGrade_2_3_Proficiency_Reading=%{y}\\u003cbr\\u003eGrade_2_3_Proficiency_Math=%{z}\\u003cextra\\u003e\\u003c\\u002fextra\\u003e\",\"legendgroup\":\"Zambia\",\"marker\":{\"color\":\"#636efa\",\"symbol\":\"circle\"},\"mode\":\"markers\",\"name\":\"Zambia\",\"scene\":\"scene\",\"showlegend\":true,\"x\":[11.43],\"y\":[0],\"z\":[0],\"type\":\"scatter3d\"},{\"hovertemplate\":\"Countries and areas=Zimbabwe\\u003cbr\\u003eUnemployment_Rate=%{x}\\u003cbr\\u003eGrade_2_3_Proficiency_Reading=%{y}\\u003cbr\\u003eGrade_2_3_Proficiency_Math=%{z}\\u003cextra\\u003e\\u003c\\u002fextra\\u003e\",\"legendgroup\":\"Zimbabwe\",\"marker\":{\"color\":\"#EF553B\",\"symbol\":\"circle\"},\"mode\":\"markers\",\"name\":\"Zimbabwe\",\"scene\":\"scene\",\"showlegend\":true,\"x\":[4.95],\"y\":[20],\"z\":[0],\"type\":\"scatter3d\"}],                        {\"template\":{\"data\":{\"histogram2dcontour\":[{\"type\":\"histogram2dcontour\",\"colorbar\":{\"outlinewidth\":0,\"ticks\":\"\"},\"colorscale\":[[0.0,\"#0d0887\"],[0.1111111111111111,\"#46039f\"],[0.2222222222222222,\"#7201a8\"],[0.3333333333333333,\"#9c179e\"],[0.4444444444444444,\"#bd3786\"],[0.5555555555555556,\"#d8576b\"],[0.6666666666666666,\"#ed7953\"],[0.7777777777777778,\"#fb9f3a\"],[0.8888888888888888,\"#fdca26\"],[1.0,\"#f0f921\"]]}],\"choropleth\":[{\"type\":\"choropleth\",\"colorbar\":{\"outlinewidth\":0,\"ticks\":\"\"}}],\"histogram2d\":[{\"type\":\"histogram2d\",\"colorbar\":{\"outlinewidth\":0,\"ticks\":\"\"},\"colorscale\":[[0.0,\"#0d0887\"],[0.1111111111111111,\"#46039f\"],[0.2222222222222222,\"#7201a8\"],[0.3333333333333333,\"#9c179e\"],[0.4444444444444444,\"#bd3786\"],[0.5555555555555556,\"#d8576b\"],[0.6666666666666666,\"#ed7953\"],[0.7777777777777778,\"#fb9f3a\"],[0.8888888888888888,\"#fdca26\"],[1.0,\"#f0f921\"]]}],\"heatmap\":[{\"type\":\"heatmap\",\"colorbar\":{\"outlinewidth\":0,\"ticks\":\"\"},\"colorscale\":[[0.0,\"#0d0887\"],[0.1111111111111111,\"#46039f\"],[0.2222222222222222,\"#7201a8\"],[0.3333333333333333,\"#9c179e\"],[0.4444444444444444,\"#bd3786\"],[0.5555555555555556,\"#d8576b\"],[0.6666666666666666,\"#ed7953\"],[0.7777777777777778,\"#fb9f3a\"],[0.8888888888888888,\"#fdca26\"],[1.0,\"#f0f921\"]]}],\"heatmapgl\":[{\"type\":\"heatmapgl\",\"colorbar\":{\"outlinewidth\":0,\"ticks\":\"\"},\"colorscale\":[[0.0,\"#0d0887\"],[0.1111111111111111,\"#46039f\"],[0.2222222222222222,\"#7201a8\"],[0.3333333333333333,\"#9c179e\"],[0.4444444444444444,\"#bd3786\"],[0.5555555555555556,\"#d8576b\"],[0.6666666666666666,\"#ed7953\"],[0.7777777777777778,\"#fb9f3a\"],[0.8888888888888888,\"#fdca26\"],[1.0,\"#f0f921\"]]}],\"contourcarpet\":[{\"type\":\"contourcarpet\",\"colorbar\":{\"outlinewidth\":0,\"ticks\":\"\"}}],\"contour\":[{\"type\":\"contour\",\"colorbar\":{\"outlinewidth\":0,\"ticks\":\"\"},\"colorscale\":[[0.0,\"#0d0887\"],[0.1111111111111111,\"#46039f\"],[0.2222222222222222,\"#7201a8\"],[0.3333333333333333,\"#9c179e\"],[0.4444444444444444,\"#bd3786\"],[0.5555555555555556,\"#d8576b\"],[0.6666666666666666,\"#ed7953\"],[0.7777777777777778,\"#fb9f3a\"],[0.8888888888888888,\"#fdca26\"],[1.0,\"#f0f921\"]]}],\"surface\":[{\"type\":\"surface\",\"colorbar\":{\"outlinewidth\":0,\"ticks\":\"\"},\"colorscale\":[[0.0,\"#0d0887\"],[0.1111111111111111,\"#46039f\"],[0.2222222222222222,\"#7201a8\"],[0.3333333333333333,\"#9c179e\"],[0.4444444444444444,\"#bd3786\"],[0.5555555555555556,\"#d8576b\"],[0.6666666666666666,\"#ed7953\"],[0.7777777777777778,\"#fb9f3a\"],[0.8888888888888888,\"#fdca26\"],[1.0,\"#f0f921\"]]}],\"mesh3d\":[{\"type\":\"mesh3d\",\"colorbar\":{\"outlinewidth\":0,\"ticks\":\"\"}}],\"scatter\":[{\"marker\":{\"line\":{\"color\":\"#283442\"}},\"type\":\"scatter\"}],\"parcoords\":[{\"type\":\"parcoords\",\"line\":{\"colorbar\":{\"outlinewidth\":0,\"ticks\":\"\"}}}],\"scatterpolargl\":[{\"type\":\"scatterpolargl\",\"marker\":{\"colorbar\":{\"outlinewidth\":0,\"ticks\":\"\"}}}],\"bar\":[{\"error_x\":{\"color\":\"#f2f5fa\"},\"error_y\":{\"color\":\"#f2f5fa\"},\"marker\":{\"line\":{\"color\":\"rgb(17,17,17)\",\"width\":0.5},\"pattern\":{\"fillmode\":\"overlay\",\"size\":10,\"solidity\":0.2}},\"type\":\"bar\"}],\"scattergeo\":[{\"type\":\"scattergeo\",\"marker\":{\"colorbar\":{\"outlinewidth\":0,\"ticks\":\"\"}}}],\"scatterpolar\":[{\"type\":\"scatterpolar\",\"marker\":{\"colorbar\":{\"outlinewidth\":0,\"ticks\":\"\"}}}],\"histogram\":[{\"marker\":{\"pattern\":{\"fillmode\":\"overlay\",\"size\":10,\"solidity\":0.2}},\"type\":\"histogram\"}],\"scattergl\":[{\"marker\":{\"line\":{\"color\":\"#283442\"}},\"type\":\"scattergl\"}],\"scatter3d\":[{\"type\":\"scatter3d\",\"line\":{\"colorbar\":{\"outlinewidth\":0,\"ticks\":\"\"}},\"marker\":{\"colorbar\":{\"outlinewidth\":0,\"ticks\":\"\"}}}],\"scattermapbox\":[{\"type\":\"scattermapbox\",\"marker\":{\"colorbar\":{\"outlinewidth\":0,\"ticks\":\"\"}}}],\"scatterternary\":[{\"type\":\"scatterternary\",\"marker\":{\"colorbar\":{\"outlinewidth\":0,\"ticks\":\"\"}}}],\"scattercarpet\":[{\"type\":\"scattercarpet\",\"marker\":{\"colorbar\":{\"outlinewidth\":0,\"ticks\":\"\"}}}],\"carpet\":[{\"aaxis\":{\"endlinecolor\":\"#A2B1C6\",\"gridcolor\":\"#506784\",\"linecolor\":\"#506784\",\"minorgridcolor\":\"#506784\",\"startlinecolor\":\"#A2B1C6\"},\"baxis\":{\"endlinecolor\":\"#A2B1C6\",\"gridcolor\":\"#506784\",\"linecolor\":\"#506784\",\"minorgridcolor\":\"#506784\",\"startlinecolor\":\"#A2B1C6\"},\"type\":\"carpet\"}],\"table\":[{\"cells\":{\"fill\":{\"color\":\"#506784\"},\"line\":{\"color\":\"rgb(17,17,17)\"}},\"header\":{\"fill\":{\"color\":\"#2a3f5f\"},\"line\":{\"color\":\"rgb(17,17,17)\"}},\"type\":\"table\"}],\"barpolar\":[{\"marker\":{\"line\":{\"color\":\"rgb(17,17,17)\",\"width\":0.5},\"pattern\":{\"fillmode\":\"overlay\",\"size\":10,\"solidity\":0.2}},\"type\":\"barpolar\"}],\"pie\":[{\"automargin\":true,\"type\":\"pie\"}]},\"layout\":{\"autotypenumbers\":\"strict\",\"colorway\":[\"#636efa\",\"#EF553B\",\"#00cc96\",\"#ab63fa\",\"#FFA15A\",\"#19d3f3\",\"#FF6692\",\"#B6E880\",\"#FF97FF\",\"#FECB52\"],\"font\":{\"color\":\"#f2f5fa\"},\"hovermode\":\"closest\",\"hoverlabel\":{\"align\":\"left\"},\"paper_bgcolor\":\"rgb(17,17,17)\",\"plot_bgcolor\":\"rgb(17,17,17)\",\"polar\":{\"bgcolor\":\"rgb(17,17,17)\",\"angularaxis\":{\"gridcolor\":\"#506784\",\"linecolor\":\"#506784\",\"ticks\":\"\"},\"radialaxis\":{\"gridcolor\":\"#506784\",\"linecolor\":\"#506784\",\"ticks\":\"\"}},\"ternary\":{\"bgcolor\":\"rgb(17,17,17)\",\"aaxis\":{\"gridcolor\":\"#506784\",\"linecolor\":\"#506784\",\"ticks\":\"\"},\"baxis\":{\"gridcolor\":\"#506784\",\"linecolor\":\"#506784\",\"ticks\":\"\"},\"caxis\":{\"gridcolor\":\"#506784\",\"linecolor\":\"#506784\",\"ticks\":\"\"}},\"coloraxis\":{\"colorbar\":{\"outlinewidth\":0,\"ticks\":\"\"}},\"colorscale\":{\"sequential\":[[0.0,\"#0d0887\"],[0.1111111111111111,\"#46039f\"],[0.2222222222222222,\"#7201a8\"],[0.3333333333333333,\"#9c179e\"],[0.4444444444444444,\"#bd3786\"],[0.5555555555555556,\"#d8576b\"],[0.6666666666666666,\"#ed7953\"],[0.7777777777777778,\"#fb9f3a\"],[0.8888888888888888,\"#fdca26\"],[1.0,\"#f0f921\"]],\"sequentialminus\":[[0.0,\"#0d0887\"],[0.1111111111111111,\"#46039f\"],[0.2222222222222222,\"#7201a8\"],[0.3333333333333333,\"#9c179e\"],[0.4444444444444444,\"#bd3786\"],[0.5555555555555556,\"#d8576b\"],[0.6666666666666666,\"#ed7953\"],[0.7777777777777778,\"#fb9f3a\"],[0.8888888888888888,\"#fdca26\"],[1.0,\"#f0f921\"]],\"diverging\":[[0,\"#8e0152\"],[0.1,\"#c51b7d\"],[0.2,\"#de77ae\"],[0.3,\"#f1b6da\"],[0.4,\"#fde0ef\"],[0.5,\"#f7f7f7\"],[0.6,\"#e6f5d0\"],[0.7,\"#b8e186\"],[0.8,\"#7fbc41\"],[0.9,\"#4d9221\"],[1,\"#276419\"]]},\"xaxis\":{\"gridcolor\":\"#283442\",\"linecolor\":\"#506784\",\"ticks\":\"\",\"title\":{\"standoff\":15},\"zerolinecolor\":\"#283442\",\"automargin\":true,\"zerolinewidth\":2},\"yaxis\":{\"gridcolor\":\"#283442\",\"linecolor\":\"#506784\",\"ticks\":\"\",\"title\":{\"standoff\":15},\"zerolinecolor\":\"#283442\",\"automargin\":true,\"zerolinewidth\":2},\"scene\":{\"xaxis\":{\"backgroundcolor\":\"rgb(17,17,17)\",\"gridcolor\":\"#506784\",\"linecolor\":\"#506784\",\"showbackground\":true,\"ticks\":\"\",\"zerolinecolor\":\"#C8D4E3\",\"gridwidth\":2},\"yaxis\":{\"backgroundcolor\":\"rgb(17,17,17)\",\"gridcolor\":\"#506784\",\"linecolor\":\"#506784\",\"showbackground\":true,\"ticks\":\"\",\"zerolinecolor\":\"#C8D4E3\",\"gridwidth\":2},\"zaxis\":{\"backgroundcolor\":\"rgb(17,17,17)\",\"gridcolor\":\"#506784\",\"linecolor\":\"#506784\",\"showbackground\":true,\"ticks\":\"\",\"zerolinecolor\":\"#C8D4E3\",\"gridwidth\":2}},\"shapedefaults\":{\"line\":{\"color\":\"#f2f5fa\"}},\"annotationdefaults\":{\"arrowcolor\":\"#f2f5fa\",\"arrowhead\":0,\"arrowwidth\":1},\"geo\":{\"bgcolor\":\"rgb(17,17,17)\",\"landcolor\":\"rgb(17,17,17)\",\"subunitcolor\":\"#506784\",\"showland\":true,\"showlakes\":true,\"lakecolor\":\"rgb(17,17,17)\"},\"title\":{\"x\":0.05},\"updatemenudefaults\":{\"bgcolor\":\"#506784\",\"borderwidth\":0},\"sliderdefaults\":{\"bgcolor\":\"#C8D4E3\",\"borderwidth\":1,\"bordercolor\":\"rgb(17,17,17)\",\"tickwidth\":0},\"mapbox\":{\"style\":\"dark\"}}},\"scene\":{\"domain\":{\"x\":[0.0,1.0],\"y\":[0.0,1.0]},\"xaxis\":{\"title\":{\"text\":\"Unemployment_Rate\"}},\"yaxis\":{\"title\":{\"text\":\"Grade_2_3_Proficiency_Reading\"}},\"zaxis\":{\"title\":{\"text\":\"Grade_2_3_Proficiency_Math\"}}},\"legend\":{\"title\":{\"text\":\"Countries and areas\"},\"tracegroupgap\":0},\"title\":{\"text\":\"Unemployment vs. Proficiency\"}},                        {\"responsive\": true}                    ).then(function(){\n                            \nvar gd = document.getElementById('b9579d09-8d12-4d10-a34b-112b33011a9b');\nvar x = new MutationObserver(function (mutations, observer) {{\n        var display = window.getComputedStyle(gd).display;\n        if (!display || display === 'none') {{\n            console.log([gd, 'removed!']);\n            Plotly.purge(gd);\n            observer.disconnect();\n        }}\n}});\n\n// Listen for the removal of the full notebook cells\nvar notebookContainer = gd.closest('#notebook-container');\nif (notebookContainer) {{\n    x.observe(notebookContainer, {childList: true});\n}}\n\n// Listen for the clearing of the current output cell\nvar outputEl = gd.closest('.output');\nif (outputEl) {{\n    x.observe(outputEl, {childList: true});\n}}\n\n                        })                };                });            </script>        </div>"
     },
     "metadata": {},
     "output_type": "display_data"
    }
   ],
   "source": [
    "fig = px.scatter_3d(df, x='Unemployment_Rate', y='Grade_2_3_Proficiency_Reading', z='Grade_2_3_Proficiency_Math',\n",
    "                   color='Countries and areas', title='Unemployment vs. Proficiency')\n",
    "fig.show()"
   ],
   "metadata": {
    "collapsed": false,
    "ExecuteTime": {
     "end_time": "2024-01-30T11:22:36.980020400Z",
     "start_time": "2024-01-30T11:22:24.664585200Z"
    }
   },
   "id": "6045d8bcbfa1238f"
  },
  {
   "cell_type": "code",
   "execution_count": 14,
   "outputs": [
    {
     "data": {
      "application/vnd.plotly.v1+json": {
       "data": [
        {
         "hovertemplate": "Countries and areas=Afghanistan<br>Unemployment_Rate=%{x}<br>Grade_2_3_Proficiency_Reading=%{y}<br>Grade_2_3_Proficiency_Math=%{z}<extra></extra>",
         "legendgroup": "Afghanistan",
         "marker": {
          "color": "#636efa",
          "symbol": "circle"
         },
         "mode": "markers",
         "name": "Afghanistan",
         "scene": "scene",
         "showlegend": true,
         "x": [
          11.12
         ],
         "y": [
          22
         ],
         "z": [
          25
         ],
         "type": "scatter3d"
        },
        {
         "hovertemplate": "Countries and areas=Albania<br>Unemployment_Rate=%{x}<br>Grade_2_3_Proficiency_Reading=%{y}<br>Grade_2_3_Proficiency_Math=%{z}<extra></extra>",
         "legendgroup": "Albania",
         "marker": {
          "color": "#EF553B",
          "symbol": "circle"
         },
         "mode": "markers",
         "name": "Albania",
         "scene": "scene",
         "showlegend": true,
         "x": [
          12.33
         ],
         "y": [
          0
         ],
         "z": [
          0
         ],
         "type": "scatter3d"
        },
        {
         "hovertemplate": "Countries and areas=Algeria<br>Unemployment_Rate=%{x}<br>Grade_2_3_Proficiency_Reading=%{y}<br>Grade_2_3_Proficiency_Math=%{z}<extra></extra>",
         "legendgroup": "Algeria",
         "marker": {
          "color": "#00cc96",
          "symbol": "circle"
         },
         "mode": "markers",
         "name": "Algeria",
         "scene": "scene",
         "showlegend": true,
         "x": [
          11.7
         ],
         "y": [
          0
         ],
         "z": [
          0
         ],
         "type": "scatter3d"
        },
        {
         "hovertemplate": "Countries and areas=Andorra<br>Unemployment_Rate=%{x}<br>Grade_2_3_Proficiency_Reading=%{y}<br>Grade_2_3_Proficiency_Math=%{z}<extra></extra>",
         "legendgroup": "Andorra",
         "marker": {
          "color": "#ab63fa",
          "symbol": "circle"
         },
         "mode": "markers",
         "name": "Andorra",
         "scene": "scene",
         "showlegend": true,
         "x": [
          0.0
         ],
         "y": [
          0
         ],
         "z": [
          0
         ],
         "type": "scatter3d"
        },
        {
         "hovertemplate": "Countries and areas=Angola<br>Unemployment_Rate=%{x}<br>Grade_2_3_Proficiency_Reading=%{y}<br>Grade_2_3_Proficiency_Math=%{z}<extra></extra>",
         "legendgroup": "Angola",
         "marker": {
          "color": "#FFA15A",
          "symbol": "circle"
         },
         "mode": "markers",
         "name": "Angola",
         "scene": "scene",
         "showlegend": true,
         "x": [
          6.89
         ],
         "y": [
          0
         ],
         "z": [
          0
         ],
         "type": "scatter3d"
        },
        {
         "hovertemplate": "Countries and areas=Anguilla<br>Unemployment_Rate=%{x}<br>Grade_2_3_Proficiency_Reading=%{y}<br>Grade_2_3_Proficiency_Math=%{z}<extra></extra>",
         "legendgroup": "Anguilla",
         "marker": {
          "color": "#19d3f3",
          "symbol": "circle"
         },
         "mode": "markers",
         "name": "Anguilla",
         "scene": "scene",
         "showlegend": true,
         "x": [
          0.0
         ],
         "y": [
          0
         ],
         "z": [
          0
         ],
         "type": "scatter3d"
        },
        {
         "hovertemplate": "Countries and areas=Antigua and Barbuda<br>Unemployment_Rate=%{x}<br>Grade_2_3_Proficiency_Reading=%{y}<br>Grade_2_3_Proficiency_Math=%{z}<extra></extra>",
         "legendgroup": "Antigua and Barbuda",
         "marker": {
          "color": "#FF6692",
          "symbol": "circle"
         },
         "mode": "markers",
         "name": "Antigua and Barbuda",
         "scene": "scene",
         "showlegend": true,
         "x": [
          0.0
         ],
         "y": [
          0
         ],
         "z": [
          0
         ],
         "type": "scatter3d"
        },
        {
         "hovertemplate": "Countries and areas=Argentina<br>Unemployment_Rate=%{x}<br>Grade_2_3_Proficiency_Reading=%{y}<br>Grade_2_3_Proficiency_Math=%{z}<extra></extra>",
         "legendgroup": "Argentina",
         "marker": {
          "color": "#B6E880",
          "symbol": "circle"
         },
         "mode": "markers",
         "name": "Argentina",
         "scene": "scene",
         "showlegend": true,
         "x": [
          9.79
         ],
         "y": [
          76
         ],
         "z": [
          71
         ],
         "type": "scatter3d"
        },
        {
         "hovertemplate": "Countries and areas=Armenia<br>Unemployment_Rate=%{x}<br>Grade_2_3_Proficiency_Reading=%{y}<br>Grade_2_3_Proficiency_Math=%{z}<extra></extra>",
         "legendgroup": "Armenia",
         "marker": {
          "color": "#FF97FF",
          "symbol": "circle"
         },
         "mode": "markers",
         "name": "Armenia",
         "scene": "scene",
         "showlegend": true,
         "x": [
          16.99
         ],
         "y": [
          0
         ],
         "z": [
          0
         ],
         "type": "scatter3d"
        },
        {
         "hovertemplate": "Countries and areas=Australia<br>Unemployment_Rate=%{x}<br>Grade_2_3_Proficiency_Reading=%{y}<br>Grade_2_3_Proficiency_Math=%{z}<extra></extra>",
         "legendgroup": "Australia",
         "marker": {
          "color": "#FECB52",
          "symbol": "circle"
         },
         "mode": "markers",
         "name": "Australia",
         "scene": "scene",
         "showlegend": true,
         "x": [
          5.27
         ],
         "y": [
          94
         ],
         "z": [
          70
         ],
         "type": "scatter3d"
        },
        {
         "hovertemplate": "Countries and areas=Austria<br>Unemployment_Rate=%{x}<br>Grade_2_3_Proficiency_Reading=%{y}<br>Grade_2_3_Proficiency_Math=%{z}<extra></extra>",
         "legendgroup": "Austria",
         "marker": {
          "color": "#636efa",
          "symbol": "circle"
         },
         "mode": "markers",
         "name": "Austria",
         "scene": "scene",
         "showlegend": true,
         "x": [
          4.67
         ],
         "y": [
          0
         ],
         "z": [
          0
         ],
         "type": "scatter3d"
        },
        {
         "hovertemplate": "Countries and areas=Azerbaijan<br>Unemployment_Rate=%{x}<br>Grade_2_3_Proficiency_Reading=%{y}<br>Grade_2_3_Proficiency_Math=%{z}<extra></extra>",
         "legendgroup": "Azerbaijan",
         "marker": {
          "color": "#EF553B",
          "symbol": "circle"
         },
         "mode": "markers",
         "name": "Azerbaijan",
         "scene": "scene",
         "showlegend": true,
         "x": [
          5.51
         ],
         "y": [
          0
         ],
         "z": [
          0
         ],
         "type": "scatter3d"
        },
        {
         "hovertemplate": "Countries and areas=The Bahamas<br>Unemployment_Rate=%{x}<br>Grade_2_3_Proficiency_Reading=%{y}<br>Grade_2_3_Proficiency_Math=%{z}<extra></extra>",
         "legendgroup": "The Bahamas",
         "marker": {
          "color": "#00cc96",
          "symbol": "circle"
         },
         "mode": "markers",
         "name": "The Bahamas",
         "scene": "scene",
         "showlegend": true,
         "x": [
          10.36
         ],
         "y": [
          0
         ],
         "z": [
          0
         ],
         "type": "scatter3d"
        },
        {
         "hovertemplate": "Countries and areas=Bahrain<br>Unemployment_Rate=%{x}<br>Grade_2_3_Proficiency_Reading=%{y}<br>Grade_2_3_Proficiency_Math=%{z}<extra></extra>",
         "legendgroup": "Bahrain",
         "marker": {
          "color": "#ab63fa",
          "symbol": "circle"
         },
         "mode": "markers",
         "name": "Bahrain",
         "scene": "scene",
         "showlegend": true,
         "x": [
          0.71
         ],
         "y": [
          69
         ],
         "z": [
          40
         ],
         "type": "scatter3d"
        },
        {
         "hovertemplate": "Countries and areas=Bangladesh<br>Unemployment_Rate=%{x}<br>Grade_2_3_Proficiency_Reading=%{y}<br>Grade_2_3_Proficiency_Math=%{z}<extra></extra>",
         "legendgroup": "Bangladesh",
         "marker": {
          "color": "#FFA15A",
          "symbol": "circle"
         },
         "mode": "markers",
         "name": "Bangladesh",
         "scene": "scene",
         "showlegend": true,
         "x": [
          4.19
         ],
         "y": [
          47
         ],
         "z": [
          34
         ],
         "type": "scatter3d"
        },
        {
         "hovertemplate": "Countries and areas=Barbados<br>Unemployment_Rate=%{x}<br>Grade_2_3_Proficiency_Reading=%{y}<br>Grade_2_3_Proficiency_Math=%{z}<extra></extra>",
         "legendgroup": "Barbados",
         "marker": {
          "color": "#19d3f3",
          "symbol": "circle"
         },
         "mode": "markers",
         "name": "Barbados",
         "scene": "scene",
         "showlegend": true,
         "x": [
          10.33
         ],
         "y": [
          0
         ],
         "z": [
          0
         ],
         "type": "scatter3d"
        },
        {
         "hovertemplate": "Countries and areas=Belarus<br>Unemployment_Rate=%{x}<br>Grade_2_3_Proficiency_Reading=%{y}<br>Grade_2_3_Proficiency_Math=%{z}<extra></extra>",
         "legendgroup": "Belarus",
         "marker": {
          "color": "#FF6692",
          "symbol": "circle"
         },
         "mode": "markers",
         "name": "Belarus",
         "scene": "scene",
         "showlegend": true,
         "x": [
          4.59
         ],
         "y": [
          0
         ],
         "z": [
          0
         ],
         "type": "scatter3d"
        },
        {
         "hovertemplate": "Countries and areas=Belgium<br>Unemployment_Rate=%{x}<br>Grade_2_3_Proficiency_Reading=%{y}<br>Grade_2_3_Proficiency_Math=%{z}<extra></extra>",
         "legendgroup": "Belgium",
         "marker": {
          "color": "#B6E880",
          "symbol": "circle"
         },
         "mode": "markers",
         "name": "Belgium",
         "scene": "scene",
         "showlegend": true,
         "x": [
          5.59
         ],
         "y": [
          0
         ],
         "z": [
          0
         ],
         "type": "scatter3d"
        },
        {
         "hovertemplate": "Countries and areas=Belize<br>Unemployment_Rate=%{x}<br>Grade_2_3_Proficiency_Reading=%{y}<br>Grade_2_3_Proficiency_Math=%{z}<extra></extra>",
         "legendgroup": "Belize",
         "marker": {
          "color": "#FF97FF",
          "symbol": "circle"
         },
         "mode": "markers",
         "name": "Belize",
         "scene": "scene",
         "showlegend": true,
         "x": [
          6.41
         ],
         "y": [
          0
         ],
         "z": [
          0
         ],
         "type": "scatter3d"
        },
        {
         "hovertemplate": "Countries and areas=Benin<br>Unemployment_Rate=%{x}<br>Grade_2_3_Proficiency_Reading=%{y}<br>Grade_2_3_Proficiency_Math=%{z}<extra></extra>",
         "legendgroup": "Benin",
         "marker": {
          "color": "#FECB52",
          "symbol": "circle"
         },
         "mode": "markers",
         "name": "Benin",
         "scene": "scene",
         "showlegend": true,
         "x": [
          2.23
         ],
         "y": [
          9
         ],
         "z": [
          34
         ],
         "type": "scatter3d"
        },
        {
         "hovertemplate": "Countries and areas=Bhutan<br>Unemployment_Rate=%{x}<br>Grade_2_3_Proficiency_Reading=%{y}<br>Grade_2_3_Proficiency_Math=%{z}<extra></extra>",
         "legendgroup": "Bhutan",
         "marker": {
          "color": "#636efa",
          "symbol": "circle"
         },
         "mode": "markers",
         "name": "Bhutan",
         "scene": "scene",
         "showlegend": true,
         "x": [
          2.34
         ],
         "y": [
          0
         ],
         "z": [
          0
         ],
         "type": "scatter3d"
        },
        {
         "hovertemplate": "Countries and areas=Bolivia<br>Unemployment_Rate=%{x}<br>Grade_2_3_Proficiency_Reading=%{y}<br>Grade_2_3_Proficiency_Math=%{z}<extra></extra>",
         "legendgroup": "Bolivia",
         "marker": {
          "color": "#EF553B",
          "symbol": "circle"
         },
         "mode": "markers",
         "name": "Bolivia",
         "scene": "scene",
         "showlegend": true,
         "x": [
          3.5
         ],
         "y": [
          0
         ],
         "z": [
          0
         ],
         "type": "scatter3d"
        },
        {
         "hovertemplate": "Countries and areas=Bosnia and Herzegovina<br>Unemployment_Rate=%{x}<br>Grade_2_3_Proficiency_Reading=%{y}<br>Grade_2_3_Proficiency_Math=%{z}<extra></extra>",
         "legendgroup": "Bosnia and Herzegovina",
         "marker": {
          "color": "#00cc96",
          "symbol": "circle"
         },
         "mode": "markers",
         "name": "Bosnia and Herzegovina",
         "scene": "scene",
         "showlegend": true,
         "x": [
          18.42
         ],
         "y": [
          0
         ],
         "z": [
          0
         ],
         "type": "scatter3d"
        },
        {
         "hovertemplate": "Countries and areas=Botswana<br>Unemployment_Rate=%{x}<br>Grade_2_3_Proficiency_Reading=%{y}<br>Grade_2_3_Proficiency_Math=%{z}<extra></extra>",
         "legendgroup": "Botswana",
         "marker": {
          "color": "#ab63fa",
          "symbol": "circle"
         },
         "mode": "markers",
         "name": "Botswana",
         "scene": "scene",
         "showlegend": true,
         "x": [
          18.19
         ],
         "y": [
          0
         ],
         "z": [
          0
         ],
         "type": "scatter3d"
        },
        {
         "hovertemplate": "Countries and areas=Brazil<br>Unemployment_Rate=%{x}<br>Grade_2_3_Proficiency_Reading=%{y}<br>Grade_2_3_Proficiency_Math=%{z}<extra></extra>",
         "legendgroup": "Brazil",
         "marker": {
          "color": "#FFA15A",
          "symbol": "circle"
         },
         "mode": "markers",
         "name": "Brazil",
         "scene": "scene",
         "showlegend": true,
         "x": [
          12.08
         ],
         "y": [
          80
         ],
         "z": [
          71
         ],
         "type": "scatter3d"
        },
        {
         "hovertemplate": "Countries and areas=British Virgin Islands<br>Unemployment_Rate=%{x}<br>Grade_2_3_Proficiency_Reading=%{y}<br>Grade_2_3_Proficiency_Math=%{z}<extra></extra>",
         "legendgroup": "British Virgin Islands",
         "marker": {
          "color": "#19d3f3",
          "symbol": "circle"
         },
         "mode": "markers",
         "name": "British Virgin Islands",
         "scene": "scene",
         "showlegend": true,
         "x": [
          0.0
         ],
         "y": [
          0
         ],
         "z": [
          0
         ],
         "type": "scatter3d"
        },
        {
         "hovertemplate": "Countries and areas=Brunei<br>Unemployment_Rate=%{x}<br>Grade_2_3_Proficiency_Reading=%{y}<br>Grade_2_3_Proficiency_Math=%{z}<extra></extra>",
         "legendgroup": "Brunei",
         "marker": {
          "color": "#FF6692",
          "symbol": "circle"
         },
         "mode": "markers",
         "name": "Brunei",
         "scene": "scene",
         "showlegend": true,
         "x": [
          9.12
         ],
         "y": [
          0
         ],
         "z": [
          0
         ],
         "type": "scatter3d"
        },
        {
         "hovertemplate": "Countries and areas=Bulgaria<br>Unemployment_Rate=%{x}<br>Grade_2_3_Proficiency_Reading=%{y}<br>Grade_2_3_Proficiency_Math=%{z}<extra></extra>",
         "legendgroup": "Bulgaria",
         "marker": {
          "color": "#B6E880",
          "symbol": "circle"
         },
         "mode": "markers",
         "name": "Bulgaria",
         "scene": "scene",
         "showlegend": true,
         "x": [
          4.34
         ],
         "y": [
          0
         ],
         "z": [
          0
         ],
         "type": "scatter3d"
        },
        {
         "hovertemplate": "Countries and areas=Burkina Faso<br>Unemployment_Rate=%{x}<br>Grade_2_3_Proficiency_Reading=%{y}<br>Grade_2_3_Proficiency_Math=%{z}<extra></extra>",
         "legendgroup": "Burkina Faso",
         "marker": {
          "color": "#FF97FF",
          "symbol": "circle"
         },
         "mode": "markers",
         "name": "Burkina Faso",
         "scene": "scene",
         "showlegend": true,
         "x": [
          6.26
         ],
         "y": [
          36
         ],
         "z": [
          59
         ],
         "type": "scatter3d"
        },
        {
         "hovertemplate": "Countries and areas=Burundi<br>Unemployment_Rate=%{x}<br>Grade_2_3_Proficiency_Reading=%{y}<br>Grade_2_3_Proficiency_Math=%{z}<extra></extra>",
         "legendgroup": "Burundi",
         "marker": {
          "color": "#FECB52",
          "symbol": "circle"
         },
         "mode": "markers",
         "name": "Burundi",
         "scene": "scene",
         "showlegend": true,
         "x": [
          1.43
         ],
         "y": [
          79
         ],
         "z": [
          97
         ],
         "type": "scatter3d"
        },
        {
         "hovertemplate": "Countries and areas=Cape Verde<br>Unemployment_Rate=%{x}<br>Grade_2_3_Proficiency_Reading=%{y}<br>Grade_2_3_Proficiency_Math=%{z}<extra></extra>",
         "legendgroup": "Cape Verde",
         "marker": {
          "color": "#636efa",
          "symbol": "circle"
         },
         "mode": "markers",
         "name": "Cape Verde",
         "scene": "scene",
         "showlegend": true,
         "x": [
          12.25
         ],
         "y": [
          0
         ],
         "z": [
          0
         ],
         "type": "scatter3d"
        },
        {
         "hovertemplate": "Countries and areas=Cambodia<br>Unemployment_Rate=%{x}<br>Grade_2_3_Proficiency_Reading=%{y}<br>Grade_2_3_Proficiency_Math=%{z}<extra></extra>",
         "legendgroup": "Cambodia",
         "marker": {
          "color": "#EF553B",
          "symbol": "circle"
         },
         "mode": "markers",
         "name": "Cambodia",
         "scene": "scene",
         "showlegend": true,
         "x": [
          0.68
         ],
         "y": [
          0
         ],
         "z": [
          0
         ],
         "type": "scatter3d"
        },
        {
         "hovertemplate": "Countries and areas=Cameroon<br>Unemployment_Rate=%{x}<br>Grade_2_3_Proficiency_Reading=%{y}<br>Grade_2_3_Proficiency_Math=%{z}<extra></extra>",
         "legendgroup": "Cameroon",
         "marker": {
          "color": "#00cc96",
          "symbol": "circle"
         },
         "mode": "markers",
         "name": "Cameroon",
         "scene": "scene",
         "showlegend": true,
         "x": [
          3.38
         ],
         "y": [
          30
         ],
         "z": [
          57
         ],
         "type": "scatter3d"
        },
        {
         "hovertemplate": "Countries and areas=Canada<br>Unemployment_Rate=%{x}<br>Grade_2_3_Proficiency_Reading=%{y}<br>Grade_2_3_Proficiency_Math=%{z}<extra></extra>",
         "legendgroup": "Canada",
         "marker": {
          "color": "#ab63fa",
          "symbol": "circle"
         },
         "mode": "markers",
         "name": "Canada",
         "scene": "scene",
         "showlegend": true,
         "x": [
          5.56
         ],
         "y": [
          96
         ],
         "z": [
          69
         ],
         "type": "scatter3d"
        },
        {
         "hovertemplate": "Countries and areas=Central African Republic<br>Unemployment_Rate=%{x}<br>Grade_2_3_Proficiency_Reading=%{y}<br>Grade_2_3_Proficiency_Math=%{z}<extra></extra>",
         "legendgroup": "Central African Republic",
         "marker": {
          "color": "#FFA15A",
          "symbol": "circle"
         },
         "mode": "markers",
         "name": "Central African Republic",
         "scene": "scene",
         "showlegend": true,
         "x": [
          3.68
         ],
         "y": [
          0
         ],
         "z": [
          0
         ],
         "type": "scatter3d"
        },
        {
         "hovertemplate": "Countries and areas=Chad<br>Unemployment_Rate=%{x}<br>Grade_2_3_Proficiency_Reading=%{y}<br>Grade_2_3_Proficiency_Math=%{z}<extra></extra>",
         "legendgroup": "Chad",
         "marker": {
          "color": "#19d3f3",
          "symbol": "circle"
         },
         "mode": "markers",
         "name": "Chad",
         "scene": "scene",
         "showlegend": true,
         "x": [
          1.89
         ],
         "y": [
          18
         ],
         "z": [
          48
         ],
         "type": "scatter3d"
        },
        {
         "hovertemplate": "Countries and areas=Chile<br>Unemployment_Rate=%{x}<br>Grade_2_3_Proficiency_Reading=%{y}<br>Grade_2_3_Proficiency_Math=%{z}<extra></extra>",
         "legendgroup": "Chile",
         "marker": {
          "color": "#FF6692",
          "symbol": "circle"
         },
         "mode": "markers",
         "name": "Chile",
         "scene": "scene",
         "showlegend": true,
         "x": [
          7.09
         ],
         "y": [
          94
         ],
         "z": [
          90
         ],
         "type": "scatter3d"
        },
        {
         "hovertemplate": "Countries and areas=China<br>Unemployment_Rate=%{x}<br>Grade_2_3_Proficiency_Reading=%{y}<br>Grade_2_3_Proficiency_Math=%{z}<extra></extra>",
         "legendgroup": "China",
         "marker": {
          "color": "#B6E880",
          "symbol": "circle"
         },
         "mode": "markers",
         "name": "China",
         "scene": "scene",
         "showlegend": true,
         "x": [
          4.32
         ],
         "y": [
          82
         ],
         "z": [
          85
         ],
         "type": "scatter3d"
        },
        {
         "hovertemplate": "Countries and areas=Colombia<br>Unemployment_Rate=%{x}<br>Grade_2_3_Proficiency_Reading=%{y}<br>Grade_2_3_Proficiency_Math=%{z}<extra></extra>",
         "legendgroup": "Colombia",
         "marker": {
          "color": "#FF97FF",
          "symbol": "circle"
         },
         "mode": "markers",
         "name": "Colombia",
         "scene": "scene",
         "showlegend": true,
         "x": [
          9.71
         ],
         "y": [
          79
         ],
         "z": [
          64
         ],
         "type": "scatter3d"
        },
        {
         "hovertemplate": "Countries and areas=Comoros<br>Unemployment_Rate=%{x}<br>Grade_2_3_Proficiency_Reading=%{y}<br>Grade_2_3_Proficiency_Math=%{z}<extra></extra>",
         "legendgroup": "Comoros",
         "marker": {
          "color": "#FECB52",
          "symbol": "circle"
         },
         "mode": "markers",
         "name": "Comoros",
         "scene": "scene",
         "showlegend": true,
         "x": [
          4.34
         ],
         "y": [
          0
         ],
         "z": [
          0
         ],
         "type": "scatter3d"
        },
        {
         "hovertemplate": "Countries and areas=Republic of the Congo<br>Unemployment_Rate=%{x}<br>Grade_2_3_Proficiency_Reading=%{y}<br>Grade_2_3_Proficiency_Math=%{z}<extra></extra>",
         "legendgroup": "Republic of the Congo",
         "marker": {
          "color": "#636efa",
          "symbol": "circle"
         },
         "mode": "markers",
         "name": "Republic of the Congo",
         "scene": "scene",
         "showlegend": true,
         "x": [
          9.47
         ],
         "y": [
          38
         ],
         "z": [
          72
         ],
         "type": "scatter3d"
        },
        {
         "hovertemplate": "Countries and areas=Cook Islands<br>Unemployment_Rate=%{x}<br>Grade_2_3_Proficiency_Reading=%{y}<br>Grade_2_3_Proficiency_Math=%{z}<extra></extra>",
         "legendgroup": "Cook Islands",
         "marker": {
          "color": "#EF553B",
          "symbol": "circle"
         },
         "mode": "markers",
         "name": "Cook Islands",
         "scene": "scene",
         "showlegend": true,
         "x": [
          0.0
         ],
         "y": [
          0
         ],
         "z": [
          0
         ],
         "type": "scatter3d"
        },
        {
         "hovertemplate": "Countries and areas=Costa Rica<br>Unemployment_Rate=%{x}<br>Grade_2_3_Proficiency_Reading=%{y}<br>Grade_2_3_Proficiency_Math=%{z}<extra></extra>",
         "legendgroup": "Costa Rica",
         "marker": {
          "color": "#00cc96",
          "symbol": "circle"
         },
         "mode": "markers",
         "name": "Costa Rica",
         "scene": "scene",
         "showlegend": true,
         "x": [
          11.85
         ],
         "y": [
          89
         ],
         "z": [
          84
         ],
         "type": "scatter3d"
        },
        {
         "hovertemplate": "Countries and areas=Ivory Coast<br>Unemployment_Rate=%{x}<br>Grade_2_3_Proficiency_Reading=%{y}<br>Grade_2_3_Proficiency_Math=%{z}<extra></extra>",
         "legendgroup": "Ivory Coast",
         "marker": {
          "color": "#ab63fa",
          "symbol": "circle"
         },
         "mode": "markers",
         "name": "Ivory Coast",
         "scene": "scene",
         "showlegend": true,
         "x": [
          3.32
         ],
         "y": [
          17
         ],
         "z": [
          33
         ],
         "type": "scatter3d"
        },
        {
         "hovertemplate": "Countries and areas=Croatia<br>Unemployment_Rate=%{x}<br>Grade_2_3_Proficiency_Reading=%{y}<br>Grade_2_3_Proficiency_Math=%{z}<extra></extra>",
         "legendgroup": "Croatia",
         "marker": {
          "color": "#FFA15A",
          "symbol": "circle"
         },
         "mode": "markers",
         "name": "Croatia",
         "scene": "scene",
         "showlegend": true,
         "x": [
          6.93
         ],
         "y": [
          0
         ],
         "z": [
          0
         ],
         "type": "scatter3d"
        },
        {
         "hovertemplate": "Countries and areas=Cuba<br>Unemployment_Rate=%{x}<br>Grade_2_3_Proficiency_Reading=%{y}<br>Grade_2_3_Proficiency_Math=%{z}<extra></extra>",
         "legendgroup": "Cuba",
         "marker": {
          "color": "#19d3f3",
          "symbol": "circle"
         },
         "mode": "markers",
         "name": "Cuba",
         "scene": "scene",
         "showlegend": true,
         "x": [
          1.64
         ],
         "y": [
          0
         ],
         "z": [
          0
         ],
         "type": "scatter3d"
        },
        {
         "hovertemplate": "Countries and areas=Cyprus<br>Unemployment_Rate=%{x}<br>Grade_2_3_Proficiency_Reading=%{y}<br>Grade_2_3_Proficiency_Math=%{z}<extra></extra>",
         "legendgroup": "Cyprus",
         "marker": {
          "color": "#FF6692",
          "symbol": "circle"
         },
         "mode": "markers",
         "name": "Cyprus",
         "scene": "scene",
         "showlegend": true,
         "x": [
          7.27
         ],
         "y": [
          0
         ],
         "z": [
          74
         ],
         "type": "scatter3d"
        },
        {
         "hovertemplate": "Countries and areas=Czech Republic<br>Unemployment_Rate=%{x}<br>Grade_2_3_Proficiency_Reading=%{y}<br>Grade_2_3_Proficiency_Math=%{z}<extra></extra>",
         "legendgroup": "Czech Republic",
         "marker": {
          "color": "#B6E880",
          "symbol": "circle"
         },
         "mode": "markers",
         "name": "Czech Republic",
         "scene": "scene",
         "showlegend": true,
         "x": [
          1.93
         ],
         "y": [
          97
         ],
         "z": [
          78
         ],
         "type": "scatter3d"
        },
        {
         "hovertemplate": "Countries and areas=North Korea<br>Unemployment_Rate=%{x}<br>Grade_2_3_Proficiency_Reading=%{y}<br>Grade_2_3_Proficiency_Math=%{z}<extra></extra>",
         "legendgroup": "North Korea",
         "marker": {
          "color": "#FF97FF",
          "symbol": "circle"
         },
         "mode": "markers",
         "name": "North Korea",
         "scene": "scene",
         "showlegend": true,
         "x": [
          2.74
         ],
         "y": [
          94
         ],
         "z": [
          0
         ],
         "type": "scatter3d"
        },
        {
         "hovertemplate": "Countries and areas=Democratic Republic of the Congo<br>Unemployment_Rate=%{x}<br>Grade_2_3_Proficiency_Reading=%{y}<br>Grade_2_3_Proficiency_Math=%{z}<extra></extra>",
         "legendgroup": "Democratic Republic of the Congo",
         "marker": {
          "color": "#FECB52",
          "symbol": "circle"
         },
         "mode": "markers",
         "name": "Democratic Republic of the Congo",
         "scene": "scene",
         "showlegend": true,
         "x": [
          4.24
         ],
         "y": [
          0
         ],
         "z": [
          0
         ],
         "type": "scatter3d"
        },
        {
         "hovertemplate": "Countries and areas=Denmark<br>Unemployment_Rate=%{x}<br>Grade_2_3_Proficiency_Reading=%{y}<br>Grade_2_3_Proficiency_Math=%{z}<extra></extra>",
         "legendgroup": "Denmark",
         "marker": {
          "color": "#636efa",
          "symbol": "circle"
         },
         "mode": "markers",
         "name": "Denmark",
         "scene": "scene",
         "showlegend": true,
         "x": [
          4.91
         ],
         "y": [
          97
         ],
         "z": [
          80
         ],
         "type": "scatter3d"
        },
        {
         "hovertemplate": "Countries and areas=Djibouti<br>Unemployment_Rate=%{x}<br>Grade_2_3_Proficiency_Reading=%{y}<br>Grade_2_3_Proficiency_Math=%{z}<extra></extra>",
         "legendgroup": "Djibouti",
         "marker": {
          "color": "#EF553B",
          "symbol": "circle"
         },
         "mode": "markers",
         "name": "Djibouti",
         "scene": "scene",
         "showlegend": true,
         "x": [
          10.3
         ],
         "y": [
          0
         ],
         "z": [
          0
         ],
         "type": "scatter3d"
        },
        {
         "hovertemplate": "Countries and areas=Dominica<br>Unemployment_Rate=%{x}<br>Grade_2_3_Proficiency_Reading=%{y}<br>Grade_2_3_Proficiency_Math=%{z}<extra></extra>",
         "legendgroup": "Dominica",
         "marker": {
          "color": "#00cc96",
          "symbol": "circle"
         },
         "mode": "markers",
         "name": "Dominica",
         "scene": "scene",
         "showlegend": true,
         "x": [
          0.0
         ],
         "y": [
          0
         ],
         "z": [
          0
         ],
         "type": "scatter3d"
        },
        {
         "hovertemplate": "Countries and areas=Dominican Republic<br>Unemployment_Rate=%{x}<br>Grade_2_3_Proficiency_Reading=%{y}<br>Grade_2_3_Proficiency_Math=%{z}<extra></extra>",
         "legendgroup": "Dominican Republic",
         "marker": {
          "color": "#ab63fa",
          "symbol": "circle"
         },
         "mode": "markers",
         "name": "Dominican Republic",
         "scene": "scene",
         "showlegend": true,
         "x": [
          5.84
         ],
         "y": [
          44
         ],
         "z": [
          25
         ],
         "type": "scatter3d"
        },
        {
         "hovertemplate": "Countries and areas=Ecuador<br>Unemployment_Rate=%{x}<br>Grade_2_3_Proficiency_Reading=%{y}<br>Grade_2_3_Proficiency_Math=%{z}<extra></extra>",
         "legendgroup": "Ecuador",
         "marker": {
          "color": "#FFA15A",
          "symbol": "circle"
         },
         "mode": "markers",
         "name": "Ecuador",
         "scene": "scene",
         "showlegend": true,
         "x": [
          3.97
         ],
         "y": [
          74
         ],
         "z": [
          65
         ],
         "type": "scatter3d"
        },
        {
         "hovertemplate": "Countries and areas=Egypt<br>Unemployment_Rate=%{x}<br>Grade_2_3_Proficiency_Reading=%{y}<br>Grade_2_3_Proficiency_Math=%{z}<extra></extra>",
         "legendgroup": "Egypt",
         "marker": {
          "color": "#19d3f3",
          "symbol": "circle"
         },
         "mode": "markers",
         "name": "Egypt",
         "scene": "scene",
         "showlegend": true,
         "x": [
          10.76
         ],
         "y": [
          0
         ],
         "z": [
          0
         ],
         "type": "scatter3d"
        },
        {
         "hovertemplate": "Countries and areas=El Salvador<br>Unemployment_Rate=%{x}<br>Grade_2_3_Proficiency_Reading=%{y}<br>Grade_2_3_Proficiency_Math=%{z}<extra></extra>",
         "legendgroup": "El Salvador",
         "marker": {
          "color": "#FF6692",
          "symbol": "circle"
         },
         "mode": "markers",
         "name": "El Salvador",
         "scene": "scene",
         "showlegend": true,
         "x": [
          4.11
         ],
         "y": [
          0
         ],
         "z": [
          0
         ],
         "type": "scatter3d"
        },
        {
         "hovertemplate": "Countries and areas=Equatorial Guinea<br>Unemployment_Rate=%{x}<br>Grade_2_3_Proficiency_Reading=%{y}<br>Grade_2_3_Proficiency_Math=%{z}<extra></extra>",
         "legendgroup": "Equatorial Guinea",
         "marker": {
          "color": "#B6E880",
          "symbol": "circle"
         },
         "mode": "markers",
         "name": "Equatorial Guinea",
         "scene": "scene",
         "showlegend": true,
         "x": [
          6.43
         ],
         "y": [
          0
         ],
         "z": [
          0
         ],
         "type": "scatter3d"
        },
        {
         "hovertemplate": "Countries and areas=Eritrea<br>Unemployment_Rate=%{x}<br>Grade_2_3_Proficiency_Reading=%{y}<br>Grade_2_3_Proficiency_Math=%{z}<extra></extra>",
         "legendgroup": "Eritrea",
         "marker": {
          "color": "#FF97FF",
          "symbol": "circle"
         },
         "mode": "markers",
         "name": "Eritrea",
         "scene": "scene",
         "showlegend": true,
         "x": [
          5.14
         ],
         "y": [
          0
         ],
         "z": [
          0
         ],
         "type": "scatter3d"
        },
        {
         "hovertemplate": "Countries and areas=Estonia<br>Unemployment_Rate=%{x}<br>Grade_2_3_Proficiency_Reading=%{y}<br>Grade_2_3_Proficiency_Math=%{z}<extra></extra>",
         "legendgroup": "Estonia",
         "marker": {
          "color": "#FECB52",
          "symbol": "circle"
         },
         "mode": "markers",
         "name": "Estonia",
         "scene": "scene",
         "showlegend": true,
         "x": [
          5.11
         ],
         "y": [
          0
         ],
         "z": [
          0
         ],
         "type": "scatter3d"
        },
        {
         "hovertemplate": "Countries and areas=Eswatini<br>Unemployment_Rate=%{x}<br>Grade_2_3_Proficiency_Reading=%{y}<br>Grade_2_3_Proficiency_Math=%{z}<extra></extra>",
         "legendgroup": "Eswatini",
         "marker": {
          "color": "#636efa",
          "symbol": "circle"
         },
         "mode": "markers",
         "name": "Eswatini",
         "scene": "scene",
         "showlegend": true,
         "x": [
          0.0
         ],
         "y": [
          0
         ],
         "z": [
          0
         ],
         "type": "scatter3d"
        },
        {
         "hovertemplate": "Countries and areas=Ethiopia<br>Unemployment_Rate=%{x}<br>Grade_2_3_Proficiency_Reading=%{y}<br>Grade_2_3_Proficiency_Math=%{z}<extra></extra>",
         "legendgroup": "Ethiopia",
         "marker": {
          "color": "#EF553B",
          "symbol": "circle"
         },
         "mode": "markers",
         "name": "Ethiopia",
         "scene": "scene",
         "showlegend": true,
         "x": [
          2.08
         ],
         "y": [
          0
         ],
         "z": [
          0
         ],
         "type": "scatter3d"
        },
        {
         "hovertemplate": "Countries and areas=Fiji<br>Unemployment_Rate=%{x}<br>Grade_2_3_Proficiency_Reading=%{y}<br>Grade_2_3_Proficiency_Math=%{z}<extra></extra>",
         "legendgroup": "Fiji",
         "marker": {
          "color": "#00cc96",
          "symbol": "circle"
         },
         "mode": "markers",
         "name": "Fiji",
         "scene": "scene",
         "showlegend": true,
         "x": [
          4.1
         ],
         "y": [
          0
         ],
         "z": [
          0
         ],
         "type": "scatter3d"
        },
        {
         "hovertemplate": "Countries and areas=Finland<br>Unemployment_Rate=%{x}<br>Grade_2_3_Proficiency_Reading=%{y}<br>Grade_2_3_Proficiency_Math=%{z}<extra></extra>",
         "legendgroup": "Finland",
         "marker": {
          "color": "#ab63fa",
          "symbol": "circle"
         },
         "mode": "markers",
         "name": "Finland",
         "scene": "scene",
         "showlegend": true,
         "x": [
          6.59
         ],
         "y": [
          98
         ],
         "z": [
          82
         ],
         "type": "scatter3d"
        },
        {
         "hovertemplate": "Countries and areas=France<br>Unemployment_Rate=%{x}<br>Grade_2_3_Proficiency_Reading=%{y}<br>Grade_2_3_Proficiency_Math=%{z}<extra></extra>",
         "legendgroup": "France",
         "marker": {
          "color": "#FFA15A",
          "symbol": "circle"
         },
         "mode": "markers",
         "name": "France",
         "scene": "scene",
         "showlegend": true,
         "x": [
          8.43
         ],
         "y": [
          0
         ],
         "z": [
          0
         ],
         "type": "scatter3d"
        },
        {
         "hovertemplate": "Countries and areas=Gabon<br>Unemployment_Rate=%{x}<br>Grade_2_3_Proficiency_Reading=%{y}<br>Grade_2_3_Proficiency_Math=%{z}<extra></extra>",
         "legendgroup": "Gabon",
         "marker": {
          "color": "#19d3f3",
          "symbol": "circle"
         },
         "mode": "markers",
         "name": "Gabon",
         "scene": "scene",
         "showlegend": true,
         "x": [
          20.0
         ],
         "y": [
          0
         ],
         "z": [
          0
         ],
         "type": "scatter3d"
        },
        {
         "hovertemplate": "Countries and areas=The Gambia<br>Unemployment_Rate=%{x}<br>Grade_2_3_Proficiency_Reading=%{y}<br>Grade_2_3_Proficiency_Math=%{z}<extra></extra>",
         "legendgroup": "The Gambia",
         "marker": {
          "color": "#FF6692",
          "symbol": "circle"
         },
         "mode": "markers",
         "name": "The Gambia",
         "scene": "scene",
         "showlegend": true,
         "x": [
          9.06
         ],
         "y": [
          5
         ],
         "z": [
          0
         ],
         "type": "scatter3d"
        },
        {
         "hovertemplate": "Countries and areas=Georgia<br>Unemployment_Rate=%{x}<br>Grade_2_3_Proficiency_Reading=%{y}<br>Grade_2_3_Proficiency_Math=%{z}<extra></extra>",
         "legendgroup": "Georgia",
         "marker": {
          "color": "#B6E880",
          "symbol": "circle"
         },
         "mode": "markers",
         "name": "Georgia",
         "scene": "scene",
         "showlegend": true,
         "x": [
          14.4
         ],
         "y": [
          86
         ],
         "z": [
          47
         ],
         "type": "scatter3d"
        },
        {
         "hovertemplate": "Countries and areas=Germany<br>Unemployment_Rate=%{x}<br>Grade_2_3_Proficiency_Reading=%{y}<br>Grade_2_3_Proficiency_Math=%{z}<extra></extra>",
         "legendgroup": "Germany",
         "marker": {
          "color": "#FF97FF",
          "symbol": "circle"
         },
         "mode": "markers",
         "name": "Germany",
         "scene": "scene",
         "showlegend": true,
         "x": [
          3.04
         ],
         "y": [
          0
         ],
         "z": [
          0
         ],
         "type": "scatter3d"
        },
        {
         "hovertemplate": "Countries and areas=Ghana<br>Unemployment_Rate=%{x}<br>Grade_2_3_Proficiency_Reading=%{y}<br>Grade_2_3_Proficiency_Math=%{z}<extra></extra>",
         "legendgroup": "Ghana",
         "marker": {
          "color": "#FECB52",
          "symbol": "circle"
         },
         "mode": "markers",
         "name": "Ghana",
         "scene": "scene",
         "showlegend": true,
         "x": [
          4.33
         ],
         "y": [
          0
         ],
         "z": [
          0
         ],
         "type": "scatter3d"
        },
        {
         "hovertemplate": "Countries and areas=Greece<br>Unemployment_Rate=%{x}<br>Grade_2_3_Proficiency_Reading=%{y}<br>Grade_2_3_Proficiency_Math=%{z}<extra></extra>",
         "legendgroup": "Greece",
         "marker": {
          "color": "#636efa",
          "symbol": "circle"
         },
         "mode": "markers",
         "name": "Greece",
         "scene": "scene",
         "showlegend": true,
         "x": [
          17.24
         ],
         "y": [
          0
         ],
         "z": [
          0
         ],
         "type": "scatter3d"
        },
        {
         "hovertemplate": "Countries and areas=Grenada<br>Unemployment_Rate=%{x}<br>Grade_2_3_Proficiency_Reading=%{y}<br>Grade_2_3_Proficiency_Math=%{z}<extra></extra>",
         "legendgroup": "Grenada",
         "marker": {
          "color": "#EF553B",
          "symbol": "circle"
         },
         "mode": "markers",
         "name": "Grenada",
         "scene": "scene",
         "showlegend": true,
         "x": [
          0.0
         ],
         "y": [
          0
         ],
         "z": [
          0
         ],
         "type": "scatter3d"
        },
        {
         "hovertemplate": "Countries and areas=Guatemala<br>Unemployment_Rate=%{x}<br>Grade_2_3_Proficiency_Reading=%{y}<br>Grade_2_3_Proficiency_Math=%{z}<extra></extra>",
         "legendgroup": "Guatemala",
         "marker": {
          "color": "#00cc96",
          "symbol": "circle"
         },
         "mode": "markers",
         "name": "Guatemala",
         "scene": "scene",
         "showlegend": true,
         "x": [
          2.46
         ],
         "y": [
          68
         ],
         "z": [
          52
         ],
         "type": "scatter3d"
        },
        {
         "hovertemplate": "Countries and areas=Guinea<br>Unemployment_Rate=%{x}<br>Grade_2_3_Proficiency_Reading=%{y}<br>Grade_2_3_Proficiency_Math=%{z}<extra></extra>",
         "legendgroup": "Guinea",
         "marker": {
          "color": "#ab63fa",
          "symbol": "circle"
         },
         "mode": "markers",
         "name": "Guinea",
         "scene": "scene",
         "showlegend": true,
         "x": [
          4.3
         ],
         "y": [
          0
         ],
         "z": [
          0
         ],
         "type": "scatter3d"
        },
        {
         "hovertemplate": "Countries and areas=Guinea0Bissau<br>Unemployment_Rate=%{x}<br>Grade_2_3_Proficiency_Reading=%{y}<br>Grade_2_3_Proficiency_Math=%{z}<extra></extra>",
         "legendgroup": "Guinea0Bissau",
         "marker": {
          "color": "#FFA15A",
          "symbol": "circle"
         },
         "mode": "markers",
         "name": "Guinea0Bissau",
         "scene": "scene",
         "showlegend": true,
         "x": [
          2.47
         ],
         "y": [
          0
         ],
         "z": [
          0
         ],
         "type": "scatter3d"
        },
        {
         "hovertemplate": "Countries and areas=Guyana<br>Unemployment_Rate=%{x}<br>Grade_2_3_Proficiency_Reading=%{y}<br>Grade_2_3_Proficiency_Math=%{z}<extra></extra>",
         "legendgroup": "Guyana",
         "marker": {
          "color": "#19d3f3",
          "symbol": "circle"
         },
         "mode": "markers",
         "name": "Guyana",
         "scene": "scene",
         "showlegend": true,
         "x": [
          11.85
         ],
         "y": [
          0
         ],
         "z": [
          0
         ],
         "type": "scatter3d"
        },
        {
         "hovertemplate": "Countries and areas=Haiti<br>Unemployment_Rate=%{x}<br>Grade_2_3_Proficiency_Reading=%{y}<br>Grade_2_3_Proficiency_Math=%{z}<extra></extra>",
         "legendgroup": "Haiti",
         "marker": {
          "color": "#FF6692",
          "symbol": "circle"
         },
         "mode": "markers",
         "name": "Haiti",
         "scene": "scene",
         "showlegend": true,
         "x": [
          13.78
         ],
         "y": [
          0
         ],
         "z": [
          0
         ],
         "type": "scatter3d"
        },
        {
         "hovertemplate": "Countries and areas=Vatican City<br>Unemployment_Rate=%{x}<br>Grade_2_3_Proficiency_Reading=%{y}<br>Grade_2_3_Proficiency_Math=%{z}<extra></extra>",
         "legendgroup": "Vatican City",
         "marker": {
          "color": "#B6E880",
          "symbol": "circle"
         },
         "mode": "markers",
         "name": "Vatican City",
         "scene": "scene",
         "showlegend": true,
         "x": [
          0.0
         ],
         "y": [
          0
         ],
         "z": [
          0
         ],
         "type": "scatter3d"
        },
        {
         "hovertemplate": "Countries and areas=Honduras<br>Unemployment_Rate=%{x}<br>Grade_2_3_Proficiency_Reading=%{y}<br>Grade_2_3_Proficiency_Math=%{z}<extra></extra>",
         "legendgroup": "Honduras",
         "marker": {
          "color": "#FF97FF",
          "symbol": "circle"
         },
         "mode": "markers",
         "name": "Honduras",
         "scene": "scene",
         "showlegend": true,
         "x": [
          5.39
         ],
         "y": [
          70
         ],
         "z": [
          57
         ],
         "type": "scatter3d"
        },
        {
         "hovertemplate": "Countries and areas=Hungary<br>Unemployment_Rate=%{x}<br>Grade_2_3_Proficiency_Reading=%{y}<br>Grade_2_3_Proficiency_Math=%{z}<extra></extra>",
         "legendgroup": "Hungary",
         "marker": {
          "color": "#FECB52",
          "symbol": "circle"
         },
         "mode": "markers",
         "name": "Hungary",
         "scene": "scene",
         "showlegend": true,
         "x": [
          3.4
         ],
         "y": [
          0
         ],
         "z": [
          0
         ],
         "type": "scatter3d"
        },
        {
         "hovertemplate": "Countries and areas=Iceland<br>Unemployment_Rate=%{x}<br>Grade_2_3_Proficiency_Reading=%{y}<br>Grade_2_3_Proficiency_Math=%{z}<extra></extra>",
         "legendgroup": "Iceland",
         "marker": {
          "color": "#636efa",
          "symbol": "circle"
         },
         "mode": "markers",
         "name": "Iceland",
         "scene": "scene",
         "showlegend": true,
         "x": [
          2.84
         ],
         "y": [
          0
         ],
         "z": [
          0
         ],
         "type": "scatter3d"
        },
        {
         "hovertemplate": "Countries and areas=India<br>Unemployment_Rate=%{x}<br>Grade_2_3_Proficiency_Reading=%{y}<br>Grade_2_3_Proficiency_Math=%{z}<extra></extra>",
         "legendgroup": "India",
         "marker": {
          "color": "#EF553B",
          "symbol": "circle"
         },
         "mode": "markers",
         "name": "India",
         "scene": "scene",
         "showlegend": true,
         "x": [
          5.36
         ],
         "y": [
          47
         ],
         "z": [
          53
         ],
         "type": "scatter3d"
        },
        {
         "hovertemplate": "Countries and areas=Indonesia<br>Unemployment_Rate=%{x}<br>Grade_2_3_Proficiency_Reading=%{y}<br>Grade_2_3_Proficiency_Math=%{z}<extra></extra>",
         "legendgroup": "Indonesia",
         "marker": {
          "color": "#00cc96",
          "symbol": "circle"
         },
         "mode": "markers",
         "name": "Indonesia",
         "scene": "scene",
         "showlegend": true,
         "x": [
          4.69
         ],
         "y": [
          0
         ],
         "z": [
          18
         ],
         "type": "scatter3d"
        },
        {
         "hovertemplate": "Countries and areas=Iran<br>Unemployment_Rate=%{x}<br>Grade_2_3_Proficiency_Reading=%{y}<br>Grade_2_3_Proficiency_Math=%{z}<extra></extra>",
         "legendgroup": "Iran",
         "marker": {
          "color": "#ab63fa",
          "symbol": "circle"
         },
         "mode": "markers",
         "name": "Iran",
         "scene": "scene",
         "showlegend": true,
         "x": [
          11.38
         ],
         "y": [
          66
         ],
         "z": [
          33
         ],
         "type": "scatter3d"
        },
        {
         "hovertemplate": "Countries and areas=Iraq<br>Unemployment_Rate=%{x}<br>Grade_2_3_Proficiency_Reading=%{y}<br>Grade_2_3_Proficiency_Math=%{z}<extra></extra>",
         "legendgroup": "Iraq",
         "marker": {
          "color": "#FFA15A",
          "symbol": "circle"
         },
         "mode": "markers",
         "name": "Iraq",
         "scene": "scene",
         "showlegend": true,
         "x": [
          12.82
         ],
         "y": [
          0
         ],
         "z": [
          0
         ],
         "type": "scatter3d"
        },
        {
         "hovertemplate": "Countries and areas=Republic of Ireland<br>Unemployment_Rate=%{x}<br>Grade_2_3_Proficiency_Reading=%{y}<br>Grade_2_3_Proficiency_Math=%{z}<extra></extra>",
         "legendgroup": "Republic of Ireland",
         "marker": {
          "color": "#19d3f3",
          "symbol": "circle"
         },
         "mode": "markers",
         "name": "Republic of Ireland",
         "scene": "scene",
         "showlegend": true,
         "x": [
          4.93
         ],
         "y": [
          98
         ],
         "z": [
          84
         ],
         "type": "scatter3d"
        },
        {
         "hovertemplate": "Countries and areas=Israel<br>Unemployment_Rate=%{x}<br>Grade_2_3_Proficiency_Reading=%{y}<br>Grade_2_3_Proficiency_Math=%{z}<extra></extra>",
         "legendgroup": "Israel",
         "marker": {
          "color": "#FF6692",
          "symbol": "circle"
         },
         "mode": "markers",
         "name": "Israel",
         "scene": "scene",
         "showlegend": true,
         "x": [
          3.86
         ],
         "y": [
          91
         ],
         "z": [
          0
         ],
         "type": "scatter3d"
        },
        {
         "hovertemplate": "Countries and areas=Italy<br>Unemployment_Rate=%{x}<br>Grade_2_3_Proficiency_Reading=%{y}<br>Grade_2_3_Proficiency_Math=%{z}<extra></extra>",
         "legendgroup": "Italy",
         "marker": {
          "color": "#B6E880",
          "symbol": "circle"
         },
         "mode": "markers",
         "name": "Italy",
         "scene": "scene",
         "showlegend": true,
         "x": [
          9.89
         ],
         "y": [
          98
         ],
         "z": [
          69
         ],
         "type": "scatter3d"
        },
        {
         "hovertemplate": "Countries and areas=Jamaica<br>Unemployment_Rate=%{x}<br>Grade_2_3_Proficiency_Reading=%{y}<br>Grade_2_3_Proficiency_Math=%{z}<extra></extra>",
         "legendgroup": "Jamaica",
         "marker": {
          "color": "#FF97FF",
          "symbol": "circle"
         },
         "mode": "markers",
         "name": "Jamaica",
         "scene": "scene",
         "showlegend": true,
         "x": [
          8.0
         ],
         "y": [
          0
         ],
         "z": [
          0
         ],
         "type": "scatter3d"
        },
        {
         "hovertemplate": "Countries and areas=Japan<br>Unemployment_Rate=%{x}<br>Grade_2_3_Proficiency_Reading=%{y}<br>Grade_2_3_Proficiency_Math=%{z}<extra></extra>",
         "legendgroup": "Japan",
         "marker": {
          "color": "#FECB52",
          "symbol": "circle"
         },
         "mode": "markers",
         "name": "Japan",
         "scene": "scene",
         "showlegend": true,
         "x": [
          2.29
         ],
         "y": [
          0
         ],
         "z": [
          95
         ],
         "type": "scatter3d"
        },
        {
         "hovertemplate": "Countries and areas=Jordan<br>Unemployment_Rate=%{x}<br>Grade_2_3_Proficiency_Reading=%{y}<br>Grade_2_3_Proficiency_Math=%{z}<extra></extra>",
         "legendgroup": "Jordan",
         "marker": {
          "color": "#636efa",
          "symbol": "circle"
         },
         "mode": "markers",
         "name": "Jordan",
         "scene": "scene",
         "showlegend": true,
         "x": [
          14.72
         ],
         "y": [
          0
         ],
         "z": [
          0
         ],
         "type": "scatter3d"
        },
        {
         "hovertemplate": "Countries and areas=Kazakhstan<br>Unemployment_Rate=%{x}<br>Grade_2_3_Proficiency_Reading=%{y}<br>Grade_2_3_Proficiency_Math=%{z}<extra></extra>",
         "legendgroup": "Kazakhstan",
         "marker": {
          "color": "#EF553B",
          "symbol": "circle"
         },
         "mode": "markers",
         "name": "Kazakhstan",
         "scene": "scene",
         "showlegend": true,
         "x": [
          4.59
         ],
         "y": [
          0
         ],
         "z": [
          0
         ],
         "type": "scatter3d"
        },
        {
         "hovertemplate": "Countries and areas=Kenya<br>Unemployment_Rate=%{x}<br>Grade_2_3_Proficiency_Reading=%{y}<br>Grade_2_3_Proficiency_Math=%{z}<extra></extra>",
         "legendgroup": "Kenya",
         "marker": {
          "color": "#00cc96",
          "symbol": "circle"
         },
         "mode": "markers",
         "name": "Kenya",
         "scene": "scene",
         "showlegend": true,
         "x": [
          2.64
         ],
         "y": [
          53
         ],
         "z": [
          42
         ],
         "type": "scatter3d"
        },
        {
         "hovertemplate": "Countries and areas=Kiribati<br>Unemployment_Rate=%{x}<br>Grade_2_3_Proficiency_Reading=%{y}<br>Grade_2_3_Proficiency_Math=%{z}<extra></extra>",
         "legendgroup": "Kiribati",
         "marker": {
          "color": "#ab63fa",
          "symbol": "circle"
         },
         "mode": "markers",
         "name": "Kiribati",
         "scene": "scene",
         "showlegend": true,
         "x": [
          0.0
         ],
         "y": [
          0
         ],
         "z": [
          0
         ],
         "type": "scatter3d"
        },
        {
         "hovertemplate": "Countries and areas=Kuwait<br>Unemployment_Rate=%{x}<br>Grade_2_3_Proficiency_Reading=%{y}<br>Grade_2_3_Proficiency_Math=%{z}<extra></extra>",
         "legendgroup": "Kuwait",
         "marker": {
          "color": "#FFA15A",
          "symbol": "circle"
         },
         "mode": "markers",
         "name": "Kuwait",
         "scene": "scene",
         "showlegend": true,
         "x": [
          2.18
         ],
         "y": [
          0
         ],
         "z": [
          12
         ],
         "type": "scatter3d"
        },
        {
         "hovertemplate": "Countries and areas=Kyrgyzstan<br>Unemployment_Rate=%{x}<br>Grade_2_3_Proficiency_Reading=%{y}<br>Grade_2_3_Proficiency_Math=%{z}<extra></extra>",
         "legendgroup": "Kyrgyzstan",
         "marker": {
          "color": "#19d3f3",
          "symbol": "circle"
         },
         "mode": "markers",
         "name": "Kyrgyzstan",
         "scene": "scene",
         "showlegend": true,
         "x": [
          6.33
         ],
         "y": [
          39
         ],
         "z": [
          0
         ],
         "type": "scatter3d"
        },
        {
         "hovertemplate": "Countries and areas=Laos<br>Unemployment_Rate=%{x}<br>Grade_2_3_Proficiency_Reading=%{y}<br>Grade_2_3_Proficiency_Math=%{z}<extra></extra>",
         "legendgroup": "Laos",
         "marker": {
          "color": "#FF6692",
          "symbol": "circle"
         },
         "mode": "markers",
         "name": "Laos",
         "scene": "scene",
         "showlegend": true,
         "x": [
          0.63
         ],
         "y": [
          0
         ],
         "z": [
          0
         ],
         "type": "scatter3d"
        },
        {
         "hovertemplate": "Countries and areas=Latvia<br>Unemployment_Rate=%{x}<br>Grade_2_3_Proficiency_Reading=%{y}<br>Grade_2_3_Proficiency_Math=%{z}<extra></extra>",
         "legendgroup": "Latvia",
         "marker": {
          "color": "#B6E880",
          "symbol": "circle"
         },
         "mode": "markers",
         "name": "Latvia",
         "scene": "scene",
         "showlegend": true,
         "x": [
          6.52
         ],
         "y": [
          99
         ],
         "z": [
          0
         ],
         "type": "scatter3d"
        },
        {
         "hovertemplate": "Countries and areas=Lebanon<br>Unemployment_Rate=%{x}<br>Grade_2_3_Proficiency_Reading=%{y}<br>Grade_2_3_Proficiency_Math=%{z}<extra></extra>",
         "legendgroup": "Lebanon",
         "marker": {
          "color": "#FF97FF",
          "symbol": "circle"
         },
         "mode": "markers",
         "name": "Lebanon",
         "scene": "scene",
         "showlegend": true,
         "x": [
          6.23
         ],
         "y": [
          0
         ],
         "z": [
          0
         ],
         "type": "scatter3d"
        },
        {
         "hovertemplate": "Countries and areas=Lesotho<br>Unemployment_Rate=%{x}<br>Grade_2_3_Proficiency_Reading=%{y}<br>Grade_2_3_Proficiency_Math=%{z}<extra></extra>",
         "legendgroup": "Lesotho",
         "marker": {
          "color": "#FECB52",
          "symbol": "circle"
         },
         "mode": "markers",
         "name": "Lesotho",
         "scene": "scene",
         "showlegend": true,
         "x": [
          23.41
         ],
         "y": [
          13
         ],
         "z": [
          0
         ],
         "type": "scatter3d"
        },
        {
         "hovertemplate": "Countries and areas=Liberia<br>Unemployment_Rate=%{x}<br>Grade_2_3_Proficiency_Reading=%{y}<br>Grade_2_3_Proficiency_Math=%{z}<extra></extra>",
         "legendgroup": "Liberia",
         "marker": {
          "color": "#636efa",
          "symbol": "circle"
         },
         "mode": "markers",
         "name": "Liberia",
         "scene": "scene",
         "showlegend": true,
         "x": [
          2.81
         ],
         "y": [
          0
         ],
         "z": [
          0
         ],
         "type": "scatter3d"
        },
        {
         "hovertemplate": "Countries and areas=Libya<br>Unemployment_Rate=%{x}<br>Grade_2_3_Proficiency_Reading=%{y}<br>Grade_2_3_Proficiency_Math=%{z}<extra></extra>",
         "legendgroup": "Libya",
         "marker": {
          "color": "#EF553B",
          "symbol": "circle"
         },
         "mode": "markers",
         "name": "Libya",
         "scene": "scene",
         "showlegend": true,
         "x": [
          18.56
         ],
         "y": [
          0
         ],
         "z": [
          0
         ],
         "type": "scatter3d"
        },
        {
         "hovertemplate": "Countries and areas=Liechtenstein<br>Unemployment_Rate=%{x}<br>Grade_2_3_Proficiency_Reading=%{y}<br>Grade_2_3_Proficiency_Math=%{z}<extra></extra>",
         "legendgroup": "Liechtenstein",
         "marker": {
          "color": "#00cc96",
          "symbol": "circle"
         },
         "mode": "markers",
         "name": "Liechtenstein",
         "scene": "scene",
         "showlegend": true,
         "x": [
          0.0
         ],
         "y": [
          0
         ],
         "z": [
          0
         ],
         "type": "scatter3d"
        },
        {
         "hovertemplate": "Countries and areas=Lithuania<br>Unemployment_Rate=%{x}<br>Grade_2_3_Proficiency_Reading=%{y}<br>Grade_2_3_Proficiency_Math=%{z}<extra></extra>",
         "legendgroup": "Lithuania",
         "marker": {
          "color": "#ab63fa",
          "symbol": "circle"
         },
         "mode": "markers",
         "name": "Lithuania",
         "scene": "scene",
         "showlegend": true,
         "x": [
          6.35
         ],
         "y": [
          0
         ],
         "z": [
          0
         ],
         "type": "scatter3d"
        },
        {
         "hovertemplate": "Countries and areas=Luxembourg<br>Unemployment_Rate=%{x}<br>Grade_2_3_Proficiency_Reading=%{y}<br>Grade_2_3_Proficiency_Math=%{z}<extra></extra>",
         "legendgroup": "Luxembourg",
         "marker": {
          "color": "#FFA15A",
          "symbol": "circle"
         },
         "mode": "markers",
         "name": "Luxembourg",
         "scene": "scene",
         "showlegend": true,
         "x": [
          5.36
         ],
         "y": [
          0
         ],
         "z": [
          0
         ],
         "type": "scatter3d"
        },
        {
         "hovertemplate": "Countries and areas=Madagascar<br>Unemployment_Rate=%{x}<br>Grade_2_3_Proficiency_Reading=%{y}<br>Grade_2_3_Proficiency_Math=%{z}<extra></extra>",
         "legendgroup": "Madagascar",
         "marker": {
          "color": "#19d3f3",
          "symbol": "circle"
         },
         "mode": "markers",
         "name": "Madagascar",
         "scene": "scene",
         "showlegend": true,
         "x": [
          1.76
         ],
         "y": [
          13
         ],
         "z": [
          0
         ],
         "type": "scatter3d"
        },
        {
         "hovertemplate": "Countries and areas=Malawi<br>Unemployment_Rate=%{x}<br>Grade_2_3_Proficiency_Reading=%{y}<br>Grade_2_3_Proficiency_Math=%{z}<extra></extra>",
         "legendgroup": "Malawi",
         "marker": {
          "color": "#FF6692",
          "symbol": "circle"
         },
         "mode": "markers",
         "name": "Malawi",
         "scene": "scene",
         "showlegend": true,
         "x": [
          5.65
         ],
         "y": [
          0
         ],
         "z": [
          0
         ],
         "type": "scatter3d"
        },
        {
         "hovertemplate": "Countries and areas=Malaysia<br>Unemployment_Rate=%{x}<br>Grade_2_3_Proficiency_Reading=%{y}<br>Grade_2_3_Proficiency_Math=%{z}<extra></extra>",
         "legendgroup": "Malaysia",
         "marker": {
          "color": "#B6E880",
          "symbol": "circle"
         },
         "mode": "markers",
         "name": "Malaysia",
         "scene": "scene",
         "showlegend": true,
         "x": [
          3.32
         ],
         "y": [
          0
         ],
         "z": [
          0
         ],
         "type": "scatter3d"
        },
        {
         "hovertemplate": "Countries and areas=Maldives<br>Unemployment_Rate=%{x}<br>Grade_2_3_Proficiency_Reading=%{y}<br>Grade_2_3_Proficiency_Math=%{z}<extra></extra>",
         "legendgroup": "Maldives",
         "marker": {
          "color": "#FF97FF",
          "symbol": "circle"
         },
         "mode": "markers",
         "name": "Maldives",
         "scene": "scene",
         "showlegend": true,
         "x": [
          6.14
         ],
         "y": [
          0
         ],
         "z": [
          0
         ],
         "type": "scatter3d"
        },
        {
         "hovertemplate": "Countries and areas=Mali<br>Unemployment_Rate=%{x}<br>Grade_2_3_Proficiency_Reading=%{y}<br>Grade_2_3_Proficiency_Math=%{z}<extra></extra>",
         "legendgroup": "Mali",
         "marker": {
          "color": "#FECB52",
          "symbol": "circle"
         },
         "mode": "markers",
         "name": "Mali",
         "scene": "scene",
         "showlegend": true,
         "x": [
          7.22
         ],
         "y": [
          0
         ],
         "z": [
          0
         ],
         "type": "scatter3d"
        },
        {
         "hovertemplate": "Countries and areas=Malta<br>Unemployment_Rate=%{x}<br>Grade_2_3_Proficiency_Reading=%{y}<br>Grade_2_3_Proficiency_Math=%{z}<extra></extra>",
         "legendgroup": "Malta",
         "marker": {
          "color": "#636efa",
          "symbol": "circle"
         },
         "mode": "markers",
         "name": "Malta",
         "scene": "scene",
         "showlegend": true,
         "x": [
          3.47
         ],
         "y": [
          73
         ],
         "z": [
          0
         ],
         "type": "scatter3d"
        },
        {
         "hovertemplate": "Countries and areas=Marshall Islands<br>Unemployment_Rate=%{x}<br>Grade_2_3_Proficiency_Reading=%{y}<br>Grade_2_3_Proficiency_Math=%{z}<extra></extra>",
         "legendgroup": "Marshall Islands",
         "marker": {
          "color": "#EF553B",
          "symbol": "circle"
         },
         "mode": "markers",
         "name": "Marshall Islands",
         "scene": "scene",
         "showlegend": true,
         "x": [
          0.0
         ],
         "y": [
          0
         ],
         "z": [
          0
         ],
         "type": "scatter3d"
        },
        {
         "hovertemplate": "Countries and areas=Mauritania<br>Unemployment_Rate=%{x}<br>Grade_2_3_Proficiency_Reading=%{y}<br>Grade_2_3_Proficiency_Math=%{z}<extra></extra>",
         "legendgroup": "Mauritania",
         "marker": {
          "color": "#00cc96",
          "symbol": "circle"
         },
         "mode": "markers",
         "name": "Mauritania",
         "scene": "scene",
         "showlegend": true,
         "x": [
          9.55
         ],
         "y": [
          0
         ],
         "z": [
          0
         ],
         "type": "scatter3d"
        },
        {
         "hovertemplate": "Countries and areas=Mauritius<br>Unemployment_Rate=%{x}<br>Grade_2_3_Proficiency_Reading=%{y}<br>Grade_2_3_Proficiency_Math=%{z}<extra></extra>",
         "legendgroup": "Mauritius",
         "marker": {
          "color": "#ab63fa",
          "symbol": "circle"
         },
         "mode": "markers",
         "name": "Mauritius",
         "scene": "scene",
         "showlegend": true,
         "x": [
          6.67
         ],
         "y": [
          0
         ],
         "z": [
          0
         ],
         "type": "scatter3d"
        },
        {
         "hovertemplate": "Countries and areas=Mexico<br>Unemployment_Rate=%{x}<br>Grade_2_3_Proficiency_Reading=%{y}<br>Grade_2_3_Proficiency_Math=%{z}<extra></extra>",
         "legendgroup": "Mexico",
         "marker": {
          "color": "#FFA15A",
          "symbol": "circle"
         },
         "mode": "markers",
         "name": "Mexico",
         "scene": "scene",
         "showlegend": true,
         "x": [
          3.42
         ],
         "y": [
          78
         ],
         "z": [
          77
         ],
         "type": "scatter3d"
        },
        {
         "hovertemplate": "Countries and areas=Federated States of Micronesia<br>Unemployment_Rate=%{x}<br>Grade_2_3_Proficiency_Reading=%{y}<br>Grade_2_3_Proficiency_Math=%{z}<extra></extra>",
         "legendgroup": "Federated States of Micronesia",
         "marker": {
          "color": "#19d3f3",
          "symbol": "circle"
         },
         "mode": "markers",
         "name": "Federated States of Micronesia",
         "scene": "scene",
         "showlegend": true,
         "x": [
          0.0
         ],
         "y": [
          0
         ],
         "z": [
          0
         ],
         "type": "scatter3d"
        },
        {
         "hovertemplate": "Countries and areas=Monaco<br>Unemployment_Rate=%{x}<br>Grade_2_3_Proficiency_Reading=%{y}<br>Grade_2_3_Proficiency_Math=%{z}<extra></extra>",
         "legendgroup": "Monaco",
         "marker": {
          "color": "#FF6692",
          "symbol": "circle"
         },
         "mode": "markers",
         "name": "Monaco",
         "scene": "scene",
         "showlegend": true,
         "x": [
          0.0
         ],
         "y": [
          0
         ],
         "z": [
          0
         ],
         "type": "scatter3d"
        },
        {
         "hovertemplate": "Countries and areas=Mongolia<br>Unemployment_Rate=%{x}<br>Grade_2_3_Proficiency_Reading=%{y}<br>Grade_2_3_Proficiency_Math=%{z}<extra></extra>",
         "legendgroup": "Mongolia",
         "marker": {
          "color": "#B6E880",
          "symbol": "circle"
         },
         "mode": "markers",
         "name": "Mongolia",
         "scene": "scene",
         "showlegend": true,
         "x": [
          6.01
         ],
         "y": [
          44
         ],
         "z": [
          0
         ],
         "type": "scatter3d"
        },
        {
         "hovertemplate": "Countries and areas=Montenegro<br>Unemployment_Rate=%{x}<br>Grade_2_3_Proficiency_Reading=%{y}<br>Grade_2_3_Proficiency_Math=%{z}<extra></extra>",
         "legendgroup": "Montenegro",
         "marker": {
          "color": "#FF97FF",
          "symbol": "circle"
         },
         "mode": "markers",
         "name": "Montenegro",
         "scene": "scene",
         "showlegend": true,
         "x": [
          14.88
         ],
         "y": [
          0
         ],
         "z": [
          0
         ],
         "type": "scatter3d"
        },
        {
         "hovertemplate": "Countries and areas=Montserrat<br>Unemployment_Rate=%{x}<br>Grade_2_3_Proficiency_Reading=%{y}<br>Grade_2_3_Proficiency_Math=%{z}<extra></extra>",
         "legendgroup": "Montserrat",
         "marker": {
          "color": "#FECB52",
          "symbol": "circle"
         },
         "mode": "markers",
         "name": "Montserrat",
         "scene": "scene",
         "showlegend": true,
         "x": [
          0.0
         ],
         "y": [
          0
         ],
         "z": [
          0
         ],
         "type": "scatter3d"
        },
        {
         "hovertemplate": "Countries and areas=Morocco<br>Unemployment_Rate=%{x}<br>Grade_2_3_Proficiency_Reading=%{y}<br>Grade_2_3_Proficiency_Math=%{z}<extra></extra>",
         "legendgroup": "Morocco",
         "marker": {
          "color": "#636efa",
          "symbol": "circle"
         },
         "mode": "markers",
         "name": "Morocco",
         "scene": "scene",
         "showlegend": true,
         "x": [
          9.02
         ],
         "y": [
          36
         ],
         "z": [
          16
         ],
         "type": "scatter3d"
        },
        {
         "hovertemplate": "Countries and areas=Mozambique<br>Unemployment_Rate=%{x}<br>Grade_2_3_Proficiency_Reading=%{y}<br>Grade_2_3_Proficiency_Math=%{z}<extra></extra>",
         "legendgroup": "Mozambique",
         "marker": {
          "color": "#EF553B",
          "symbol": "circle"
         },
         "mode": "markers",
         "name": "Mozambique",
         "scene": "scene",
         "showlegend": true,
         "x": [
          3.24
         ],
         "y": [
          0
         ],
         "z": [
          0
         ],
         "type": "scatter3d"
        },
        {
         "hovertemplate": "Countries and areas=Myanmar<br>Unemployment_Rate=%{x}<br>Grade_2_3_Proficiency_Reading=%{y}<br>Grade_2_3_Proficiency_Math=%{z}<extra></extra>",
         "legendgroup": "Myanmar",
         "marker": {
          "color": "#00cc96",
          "symbol": "circle"
         },
         "mode": "markers",
         "name": "Myanmar",
         "scene": "scene",
         "showlegend": true,
         "x": [
          1.58
         ],
         "y": [
          0
         ],
         "z": [
          0
         ],
         "type": "scatter3d"
        },
        {
         "hovertemplate": "Countries and areas=Namibia<br>Unemployment_Rate=%{x}<br>Grade_2_3_Proficiency_Reading=%{y}<br>Grade_2_3_Proficiency_Math=%{z}<extra></extra>",
         "legendgroup": "Namibia",
         "marker": {
          "color": "#ab63fa",
          "symbol": "circle"
         },
         "mode": "markers",
         "name": "Namibia",
         "scene": "scene",
         "showlegend": true,
         "x": [
          20.27
         ],
         "y": [
          0
         ],
         "z": [
          0
         ],
         "type": "scatter3d"
        },
        {
         "hovertemplate": "Countries and areas=Nauru<br>Unemployment_Rate=%{x}<br>Grade_2_3_Proficiency_Reading=%{y}<br>Grade_2_3_Proficiency_Math=%{z}<extra></extra>",
         "legendgroup": "Nauru",
         "marker": {
          "color": "#FFA15A",
          "symbol": "circle"
         },
         "mode": "markers",
         "name": "Nauru",
         "scene": "scene",
         "showlegend": true,
         "x": [
          0.0
         ],
         "y": [
          0
         ],
         "z": [
          0
         ],
         "type": "scatter3d"
        },
        {
         "hovertemplate": "Countries and areas=Nepal<br>Unemployment_Rate=%{x}<br>Grade_2_3_Proficiency_Reading=%{y}<br>Grade_2_3_Proficiency_Math=%{z}<extra></extra>",
         "legendgroup": "Nepal",
         "marker": {
          "color": "#19d3f3",
          "symbol": "circle"
         },
         "mode": "markers",
         "name": "Nepal",
         "scene": "scene",
         "showlegend": true,
         "x": [
          1.41
         ],
         "y": [
          0
         ],
         "z": [
          0
         ],
         "type": "scatter3d"
        },
        {
         "hovertemplate": "Countries and areas=Netherlands<br>Unemployment_Rate=%{x}<br>Grade_2_3_Proficiency_Reading=%{y}<br>Grade_2_3_Proficiency_Math=%{z}<extra></extra>",
         "legendgroup": "Netherlands",
         "marker": {
          "color": "#FF6692",
          "symbol": "circle"
         },
         "mode": "markers",
         "name": "Netherlands",
         "scene": "scene",
         "showlegend": true,
         "x": [
          3.2
         ],
         "y": [
          99
         ],
         "z": [
          83
         ],
         "type": "scatter3d"
        },
        {
         "hovertemplate": "Countries and areas=New Zealand<br>Unemployment_Rate=%{x}<br>Grade_2_3_Proficiency_Reading=%{y}<br>Grade_2_3_Proficiency_Math=%{z}<extra></extra>",
         "legendgroup": "New Zealand",
         "marker": {
          "color": "#B6E880",
          "symbol": "circle"
         },
         "mode": "markers",
         "name": "New Zealand",
         "scene": "scene",
         "showlegend": true,
         "x": [
          4.07
         ],
         "y": [
          90
         ],
         "z": [
          59
         ],
         "type": "scatter3d"
        },
        {
         "hovertemplate": "Countries and areas=Nicaragua<br>Unemployment_Rate=%{x}<br>Grade_2_3_Proficiency_Reading=%{y}<br>Grade_2_3_Proficiency_Math=%{z}<extra></extra>",
         "legendgroup": "Nicaragua",
         "marker": {
          "color": "#FF97FF",
          "symbol": "circle"
         },
         "mode": "markers",
         "name": "Nicaragua",
         "scene": "scene",
         "showlegend": true,
         "x": [
          6.84
         ],
         "y": [
          61
         ],
         "z": [
          44
         ],
         "type": "scatter3d"
        },
        {
         "hovertemplate": "Countries and areas=Niger<br>Unemployment_Rate=%{x}<br>Grade_2_3_Proficiency_Reading=%{y}<br>Grade_2_3_Proficiency_Math=%{z}<extra></extra>",
         "legendgroup": "Niger",
         "marker": {
          "color": "#FECB52",
          "symbol": "circle"
         },
         "mode": "markers",
         "name": "Niger",
         "scene": "scene",
         "showlegend": true,
         "x": [
          0.47
         ],
         "y": [
          9
         ],
         "z": [
          27
         ],
         "type": "scatter3d"
        },
        {
         "hovertemplate": "Countries and areas=Nigeria<br>Unemployment_Rate=%{x}<br>Grade_2_3_Proficiency_Reading=%{y}<br>Grade_2_3_Proficiency_Math=%{z}<extra></extra>",
         "legendgroup": "Nigeria",
         "marker": {
          "color": "#636efa",
          "symbol": "circle"
         },
         "mode": "markers",
         "name": "Nigeria",
         "scene": "scene",
         "showlegend": true,
         "x": [
          8.1
         ],
         "y": [
          0
         ],
         "z": [
          0
         ],
         "type": "scatter3d"
        },
        {
         "hovertemplate": "Countries and areas=Niue<br>Unemployment_Rate=%{x}<br>Grade_2_3_Proficiency_Reading=%{y}<br>Grade_2_3_Proficiency_Math=%{z}<extra></extra>",
         "legendgroup": "Niue",
         "marker": {
          "color": "#EF553B",
          "symbol": "circle"
         },
         "mode": "markers",
         "name": "Niue",
         "scene": "scene",
         "showlegend": true,
         "x": [
          0.0
         ],
         "y": [
          0
         ],
         "z": [
          0
         ],
         "type": "scatter3d"
        },
        {
         "hovertemplate": "Countries and areas=North Macedonia<br>Unemployment_Rate=%{x}<br>Grade_2_3_Proficiency_Reading=%{y}<br>Grade_2_3_Proficiency_Math=%{z}<extra></extra>",
         "legendgroup": "North Macedonia",
         "marker": {
          "color": "#00cc96",
          "symbol": "circle"
         },
         "mode": "markers",
         "name": "North Macedonia",
         "scene": "scene",
         "showlegend": true,
         "x": [
          0.0
         ],
         "y": [
          0
         ],
         "z": [
          0
         ],
         "type": "scatter3d"
        },
        {
         "hovertemplate": "Countries and areas=Norway<br>Unemployment_Rate=%{x}<br>Grade_2_3_Proficiency_Reading=%{y}<br>Grade_2_3_Proficiency_Math=%{z}<extra></extra>",
         "legendgroup": "Norway",
         "marker": {
          "color": "#ab63fa",
          "symbol": "circle"
         },
         "mode": "markers",
         "name": "Norway",
         "scene": "scene",
         "showlegend": true,
         "x": [
          3.35
         ],
         "y": [
          99
         ],
         "z": [
          86
         ],
         "type": "scatter3d"
        },
        {
         "hovertemplate": "Countries and areas=Oman<br>Unemployment_Rate=%{x}<br>Grade_2_3_Proficiency_Reading=%{y}<br>Grade_2_3_Proficiency_Math=%{z}<extra></extra>",
         "legendgroup": "Oman",
         "marker": {
          "color": "#FFA15A",
          "symbol": "circle"
         },
         "mode": "markers",
         "name": "Oman",
         "scene": "scene",
         "showlegend": true,
         "x": [
          2.67
         ],
         "y": [
          59
         ],
         "z": [
          32
         ],
         "type": "scatter3d"
        },
        {
         "hovertemplate": "Countries and areas=Pakistan<br>Unemployment_Rate=%{x}<br>Grade_2_3_Proficiency_Reading=%{y}<br>Grade_2_3_Proficiency_Math=%{z}<extra></extra>",
         "legendgroup": "Pakistan",
         "marker": {
          "color": "#19d3f3",
          "symbol": "circle"
         },
         "mode": "markers",
         "name": "Pakistan",
         "scene": "scene",
         "showlegend": true,
         "x": [
          4.45
         ],
         "y": [
          35
         ],
         "z": [
          0
         ],
         "type": "scatter3d"
        },
        {
         "hovertemplate": "Countries and areas=Palau<br>Unemployment_Rate=%{x}<br>Grade_2_3_Proficiency_Reading=%{y}<br>Grade_2_3_Proficiency_Math=%{z}<extra></extra>",
         "legendgroup": "Palau",
         "marker": {
          "color": "#FF6692",
          "symbol": "circle"
         },
         "mode": "markers",
         "name": "Palau",
         "scene": "scene",
         "showlegend": true,
         "x": [
          0.0
         ],
         "y": [
          0
         ],
         "z": [
          0
         ],
         "type": "scatter3d"
        },
        {
         "hovertemplate": "Countries and areas=Panama<br>Unemployment_Rate=%{x}<br>Grade_2_3_Proficiency_Reading=%{y}<br>Grade_2_3_Proficiency_Math=%{z}<extra></extra>",
         "legendgroup": "Panama",
         "marker": {
          "color": "#B6E880",
          "symbol": "circle"
         },
         "mode": "markers",
         "name": "Panama",
         "scene": "scene",
         "showlegend": true,
         "x": [
          3.9
         ],
         "y": [
          65
         ],
         "z": [
          51
         ],
         "type": "scatter3d"
        },
        {
         "hovertemplate": "Countries and areas=Papua New Guinea<br>Unemployment_Rate=%{x}<br>Grade_2_3_Proficiency_Reading=%{y}<br>Grade_2_3_Proficiency_Math=%{z}<extra></extra>",
         "legendgroup": "Papua New Guinea",
         "marker": {
          "color": "#FF97FF",
          "symbol": "circle"
         },
         "mode": "markers",
         "name": "Papua New Guinea",
         "scene": "scene",
         "showlegend": true,
         "x": [
          2.46
         ],
         "y": [
          0
         ],
         "z": [
          0
         ],
         "type": "scatter3d"
        },
        {
         "hovertemplate": "Countries and areas=Paraguay<br>Unemployment_Rate=%{x}<br>Grade_2_3_Proficiency_Reading=%{y}<br>Grade_2_3_Proficiency_Math=%{z}<extra></extra>",
         "legendgroup": "Paraguay",
         "marker": {
          "color": "#FECB52",
          "symbol": "circle"
         },
         "mode": "markers",
         "name": "Paraguay",
         "scene": "scene",
         "showlegend": true,
         "x": [
          4.81
         ],
         "y": [
          61
         ],
         "z": [
          47
         ],
         "type": "scatter3d"
        },
        {
         "hovertemplate": "Countries and areas=Peru<br>Unemployment_Rate=%{x}<br>Grade_2_3_Proficiency_Reading=%{y}<br>Grade_2_3_Proficiency_Math=%{z}<extra></extra>",
         "legendgroup": "Peru",
         "marker": {
          "color": "#636efa",
          "symbol": "circle"
         },
         "mode": "markers",
         "name": "Peru",
         "scene": "scene",
         "showlegend": true,
         "x": [
          3.31
         ],
         "y": [
          80
         ],
         "z": [
          70
         ],
         "type": "scatter3d"
        },
        {
         "hovertemplate": "Countries and areas=Philippines<br>Unemployment_Rate=%{x}<br>Grade_2_3_Proficiency_Reading=%{y}<br>Grade_2_3_Proficiency_Math=%{z}<extra></extra>",
         "legendgroup": "Philippines",
         "marker": {
          "color": "#EF553B",
          "symbol": "circle"
         },
         "mode": "markers",
         "name": "Philippines",
         "scene": "scene",
         "showlegend": true,
         "x": [
          2.15
         ],
         "y": [
          0
         ],
         "z": [
          0
         ],
         "type": "scatter3d"
        },
        {
         "hovertemplate": "Countries and areas=Poland<br>Unemployment_Rate=%{x}<br>Grade_2_3_Proficiency_Reading=%{y}<br>Grade_2_3_Proficiency_Math=%{z}<extra></extra>",
         "legendgroup": "Poland",
         "marker": {
          "color": "#00cc96",
          "symbol": "circle"
         },
         "mode": "markers",
         "name": "Poland",
         "scene": "scene",
         "showlegend": true,
         "x": [
          3.47
         ],
         "y": [
          98
         ],
         "z": [
          80
         ],
         "type": "scatter3d"
        },
        {
         "hovertemplate": "Countries and areas=Portugal<br>Unemployment_Rate=%{x}<br>Grade_2_3_Proficiency_Reading=%{y}<br>Grade_2_3_Proficiency_Math=%{z}<extra></extra>",
         "legendgroup": "Portugal",
         "marker": {
          "color": "#ab63fa",
          "symbol": "circle"
         },
         "mode": "markers",
         "name": "Portugal",
         "scene": "scene",
         "showlegend": true,
         "x": [
          6.33
         ],
         "y": [
          97
         ],
         "z": [
          82
         ],
         "type": "scatter3d"
        },
        {
         "hovertemplate": "Countries and areas=Qatar<br>Unemployment_Rate=%{x}<br>Grade_2_3_Proficiency_Reading=%{y}<br>Grade_2_3_Proficiency_Math=%{z}<extra></extra>",
         "legendgroup": "Qatar",
         "marker": {
          "color": "#FFA15A",
          "symbol": "circle"
         },
         "mode": "markers",
         "name": "Qatar",
         "scene": "scene",
         "showlegend": true,
         "x": [
          0.09
         ],
         "y": [
          66
         ],
         "z": [
          36
         ],
         "type": "scatter3d"
        },
        {
         "hovertemplate": "Countries and areas=South Korea<br>Unemployment_Rate=%{x}<br>Grade_2_3_Proficiency_Reading=%{y}<br>Grade_2_3_Proficiency_Math=%{z}<extra></extra>",
         "legendgroup": "South Korea",
         "marker": {
          "color": "#19d3f3",
          "symbol": "circle"
         },
         "mode": "markers",
         "name": "South Korea",
         "scene": "scene",
         "showlegend": true,
         "x": [
          4.15
         ],
         "y": [
          0
         ],
         "z": [
          97
         ],
         "type": "scatter3d"
        },
        {
         "hovertemplate": "Countries and areas=Moldova<br>Unemployment_Rate=%{x}<br>Grade_2_3_Proficiency_Reading=%{y}<br>Grade_2_3_Proficiency_Math=%{z}<extra></extra>",
         "legendgroup": "Moldova",
         "marker": {
          "color": "#FF6692",
          "symbol": "circle"
         },
         "mode": "markers",
         "name": "Moldova",
         "scene": "scene",
         "showlegend": true,
         "x": [
          5.47
         ],
         "y": [
          0
         ],
         "z": [
          0
         ],
         "type": "scatter3d"
        },
        {
         "hovertemplate": "Countries and areas=Romania<br>Unemployment_Rate=%{x}<br>Grade_2_3_Proficiency_Reading=%{y}<br>Grade_2_3_Proficiency_Math=%{z}<extra></extra>",
         "legendgroup": "Romania",
         "marker": {
          "color": "#B6E880",
          "symbol": "circle"
         },
         "mode": "markers",
         "name": "Romania",
         "scene": "scene",
         "showlegend": true,
         "x": [
          3.98
         ],
         "y": [
          0
         ],
         "z": [
          0
         ],
         "type": "scatter3d"
        },
        {
         "hovertemplate": "Countries and areas=Russia<br>Unemployment_Rate=%{x}<br>Grade_2_3_Proficiency_Reading=%{y}<br>Grade_2_3_Proficiency_Math=%{z}<extra></extra>",
         "legendgroup": "Russia",
         "marker": {
          "color": "#FF97FF",
          "symbol": "circle"
         },
         "mode": "markers",
         "name": "Russia",
         "scene": "scene",
         "showlegend": true,
         "x": [
          4.59
         ],
         "y": [
          0
         ],
         "z": [
          0
         ],
         "type": "scatter3d"
        },
        {
         "hovertemplate": "Countries and areas=Rwanda<br>Unemployment_Rate=%{x}<br>Grade_2_3_Proficiency_Reading=%{y}<br>Grade_2_3_Proficiency_Math=%{z}<extra></extra>",
         "legendgroup": "Rwanda",
         "marker": {
          "color": "#FECB52",
          "symbol": "circle"
         },
         "mode": "markers",
         "name": "Rwanda",
         "scene": "scene",
         "showlegend": true,
         "x": [
          1.03
         ],
         "y": [
          0
         ],
         "z": [
          0
         ],
         "type": "scatter3d"
        },
        {
         "hovertemplate": "Countries and areas=Saint Kitts and Nevis<br>Unemployment_Rate=%{x}<br>Grade_2_3_Proficiency_Reading=%{y}<br>Grade_2_3_Proficiency_Math=%{z}<extra></extra>",
         "legendgroup": "Saint Kitts and Nevis",
         "marker": {
          "color": "#636efa",
          "symbol": "circle"
         },
         "mode": "markers",
         "name": "Saint Kitts and Nevis",
         "scene": "scene",
         "showlegend": true,
         "x": [
          0.0
         ],
         "y": [
          0
         ],
         "z": [
          0
         ],
         "type": "scatter3d"
        },
        {
         "hovertemplate": "Countries and areas=Saint Lucia<br>Unemployment_Rate=%{x}<br>Grade_2_3_Proficiency_Reading=%{y}<br>Grade_2_3_Proficiency_Math=%{z}<extra></extra>",
         "legendgroup": "Saint Lucia",
         "marker": {
          "color": "#EF553B",
          "symbol": "circle"
         },
         "mode": "markers",
         "name": "Saint Lucia",
         "scene": "scene",
         "showlegend": true,
         "x": [
          20.71
         ],
         "y": [
          0
         ],
         "z": [
          0
         ],
         "type": "scatter3d"
        },
        {
         "hovertemplate": "Countries and areas=Saint Vincent and the Grenadines<br>Unemployment_Rate=%{x}<br>Grade_2_3_Proficiency_Reading=%{y}<br>Grade_2_3_Proficiency_Math=%{z}<extra></extra>",
         "legendgroup": "Saint Vincent and the Grenadines",
         "marker": {
          "color": "#00cc96",
          "symbol": "circle"
         },
         "mode": "markers",
         "name": "Saint Vincent and the Grenadines",
         "scene": "scene",
         "showlegend": true,
         "x": [
          18.88
         ],
         "y": [
          0
         ],
         "z": [
          0
         ],
         "type": "scatter3d"
        },
        {
         "hovertemplate": "Countries and areas=Samoa<br>Unemployment_Rate=%{x}<br>Grade_2_3_Proficiency_Reading=%{y}<br>Grade_2_3_Proficiency_Math=%{z}<extra></extra>",
         "legendgroup": "Samoa",
         "marker": {
          "color": "#ab63fa",
          "symbol": "circle"
         },
         "mode": "markers",
         "name": "Samoa",
         "scene": "scene",
         "showlegend": true,
         "x": [
          8.36
         ],
         "y": [
          0
         ],
         "z": [
          0
         ],
         "type": "scatter3d"
        },
        {
         "hovertemplate": "Countries and areas=San Marino<br>Unemployment_Rate=%{x}<br>Grade_2_3_Proficiency_Reading=%{y}<br>Grade_2_3_Proficiency_Math=%{z}<extra></extra>",
         "legendgroup": "San Marino",
         "marker": {
          "color": "#FFA15A",
          "symbol": "circle"
         },
         "mode": "markers",
         "name": "San Marino",
         "scene": "scene",
         "showlegend": true,
         "x": [
          0.0
         ],
         "y": [
          0
         ],
         "z": [
          0
         ],
         "type": "scatter3d"
        },
        {
         "hovertemplate": "Countries and areas=Sï¿½ï¿½ï¿½ï¿½ï¿½ï¿½ï¿½ï¿<br>Unemployment_Rate=%{x}<br>Grade_2_3_Proficiency_Reading=%{y}<br>Grade_2_3_Proficiency_Math=%{z}<extra></extra>",
         "legendgroup": "Sï¿½ï¿½ï¿½ï¿½ï¿½ï¿½ï¿½ï¿",
         "marker": {
          "color": "#19d3f3",
          "symbol": "circle"
         },
         "mode": "markers",
         "name": "Sï¿½ï¿½ï¿½ï¿½ï¿½ï¿½ï¿½ï¿",
         "scene": "scene",
         "showlegend": true,
         "x": [
          13.37
         ],
         "y": [
          0
         ],
         "z": [
          0
         ],
         "type": "scatter3d"
        },
        {
         "hovertemplate": "Countries and areas=Saudi Arabia<br>Unemployment_Rate=%{x}<br>Grade_2_3_Proficiency_Reading=%{y}<br>Grade_2_3_Proficiency_Math=%{z}<extra></extra>",
         "legendgroup": "Saudi Arabia",
         "marker": {
          "color": "#FF6692",
          "symbol": "circle"
         },
         "mode": "markers",
         "name": "Saudi Arabia",
         "scene": "scene",
         "showlegend": true,
         "x": [
          5.93
         ],
         "y": [
          63
         ],
         "z": [
          16
         ],
         "type": "scatter3d"
        },
        {
         "hovertemplate": "Countries and areas=Senegal<br>Unemployment_Rate=%{x}<br>Grade_2_3_Proficiency_Reading=%{y}<br>Grade_2_3_Proficiency_Math=%{z}<extra></extra>",
         "legendgroup": "Senegal",
         "marker": {
          "color": "#B6E880",
          "symbol": "circle"
         },
         "mode": "markers",
         "name": "Senegal",
         "scene": "scene",
         "showlegend": true,
         "x": [
          6.6
         ],
         "y": [
          29
         ],
         "z": [
          63
         ],
         "type": "scatter3d"
        },
        {
         "hovertemplate": "Countries and areas=Serbia<br>Unemployment_Rate=%{x}<br>Grade_2_3_Proficiency_Reading=%{y}<br>Grade_2_3_Proficiency_Math=%{z}<extra></extra>",
         "legendgroup": "Serbia",
         "marker": {
          "color": "#FF97FF",
          "symbol": "circle"
         },
         "mode": "markers",
         "name": "Serbia",
         "scene": "scene",
         "showlegend": true,
         "x": [
          12.69
         ],
         "y": [
          0
         ],
         "z": [
          0
         ],
         "type": "scatter3d"
        },
        {
         "hovertemplate": "Countries and areas=Seychelles<br>Unemployment_Rate=%{x}<br>Grade_2_3_Proficiency_Reading=%{y}<br>Grade_2_3_Proficiency_Math=%{z}<extra></extra>",
         "legendgroup": "Seychelles",
         "marker": {
          "color": "#FECB52",
          "symbol": "circle"
         },
         "mode": "markers",
         "name": "Seychelles",
         "scene": "scene",
         "showlegend": true,
         "x": [
          0.0
         ],
         "y": [
          0
         ],
         "z": [
          0
         ],
         "type": "scatter3d"
        },
        {
         "hovertemplate": "Countries and areas=Sierra Leone<br>Unemployment_Rate=%{x}<br>Grade_2_3_Proficiency_Reading=%{y}<br>Grade_2_3_Proficiency_Math=%{z}<extra></extra>",
         "legendgroup": "Sierra Leone",
         "marker": {
          "color": "#636efa",
          "symbol": "circle"
         },
         "mode": "markers",
         "name": "Sierra Leone",
         "scene": "scene",
         "showlegend": true,
         "x": [
          4.43
         ],
         "y": [
          6
         ],
         "z": [
          0
         ],
         "type": "scatter3d"
        },
        {
         "hovertemplate": "Countries and areas=Singapore<br>Unemployment_Rate=%{x}<br>Grade_2_3_Proficiency_Reading=%{y}<br>Grade_2_3_Proficiency_Math=%{z}<extra></extra>",
         "legendgroup": "Singapore",
         "marker": {
          "color": "#EF553B",
          "symbol": "circle"
         },
         "mode": "markers",
         "name": "Singapore",
         "scene": "scene",
         "showlegend": true,
         "x": [
          4.11
         ],
         "y": [
          97
         ],
         "z": [
          93
         ],
         "type": "scatter3d"
        },
        {
         "hovertemplate": "Countries and areas=Slovakia<br>Unemployment_Rate=%{x}<br>Grade_2_3_Proficiency_Reading=%{y}<br>Grade_2_3_Proficiency_Math=%{z}<extra></extra>",
         "legendgroup": "Slovakia",
         "marker": {
          "color": "#00cc96",
          "symbol": "circle"
         },
         "mode": "markers",
         "name": "Slovakia",
         "scene": "scene",
         "showlegend": true,
         "x": [
          5.56
         ],
         "y": [
          0
         ],
         "z": [
          0
         ],
         "type": "scatter3d"
        },
        {
         "hovertemplate": "Countries and areas=Slovenia<br>Unemployment_Rate=%{x}<br>Grade_2_3_Proficiency_Reading=%{y}<br>Grade_2_3_Proficiency_Math=%{z}<extra></extra>",
         "legendgroup": "Slovenia",
         "marker": {
          "color": "#ab63fa",
          "symbol": "circle"
         },
         "mode": "markers",
         "name": "Slovenia",
         "scene": "scene",
         "showlegend": true,
         "x": [
          4.2
         ],
         "y": [
          96
         ],
         "z": [
          75
         ],
         "type": "scatter3d"
        },
        {
         "hovertemplate": "Countries and areas=Solomon Islands<br>Unemployment_Rate=%{x}<br>Grade_2_3_Proficiency_Reading=%{y}<br>Grade_2_3_Proficiency_Math=%{z}<extra></extra>",
         "legendgroup": "Solomon Islands",
         "marker": {
          "color": "#FFA15A",
          "symbol": "circle"
         },
         "mode": "markers",
         "name": "Solomon Islands",
         "scene": "scene",
         "showlegend": true,
         "x": [
          0.58
         ],
         "y": [
          0
         ],
         "z": [
          0
         ],
         "type": "scatter3d"
        },
        {
         "hovertemplate": "Countries and areas=Somalia<br>Unemployment_Rate=%{x}<br>Grade_2_3_Proficiency_Reading=%{y}<br>Grade_2_3_Proficiency_Math=%{z}<extra></extra>",
         "legendgroup": "Somalia",
         "marker": {
          "color": "#19d3f3",
          "symbol": "circle"
         },
         "mode": "markers",
         "name": "Somalia",
         "scene": "scene",
         "showlegend": true,
         "x": [
          11.35
         ],
         "y": [
          0
         ],
         "z": [
          0
         ],
         "type": "scatter3d"
        },
        {
         "hovertemplate": "Countries and areas=South Africa<br>Unemployment_Rate=%{x}<br>Grade_2_3_Proficiency_Reading=%{y}<br>Grade_2_3_Proficiency_Math=%{z}<extra></extra>",
         "legendgroup": "South Africa",
         "marker": {
          "color": "#FF6692",
          "symbol": "circle"
         },
         "mode": "markers",
         "name": "South Africa",
         "scene": "scene",
         "showlegend": true,
         "x": [
          28.18
         ],
         "y": [
          22
         ],
         "z": [
          0
         ],
         "type": "scatter3d"
        },
        {
         "hovertemplate": "Countries and areas=South Sudan<br>Unemployment_Rate=%{x}<br>Grade_2_3_Proficiency_Reading=%{y}<br>Grade_2_3_Proficiency_Math=%{z}<extra></extra>",
         "legendgroup": "South Sudan",
         "marker": {
          "color": "#B6E880",
          "symbol": "circle"
         },
         "mode": "markers",
         "name": "South Sudan",
         "scene": "scene",
         "showlegend": true,
         "x": [
          12.24
         ],
         "y": [
          0
         ],
         "z": [
          0
         ],
         "type": "scatter3d"
        },
        {
         "hovertemplate": "Countries and areas=Spain<br>Unemployment_Rate=%{x}<br>Grade_2_3_Proficiency_Reading=%{y}<br>Grade_2_3_Proficiency_Math=%{z}<extra></extra>",
         "legendgroup": "Spain",
         "marker": {
          "color": "#FF97FF",
          "symbol": "circle"
         },
         "mode": "markers",
         "name": "Spain",
         "scene": "scene",
         "showlegend": true,
         "x": [
          13.96
         ],
         "y": [
          97
         ],
         "z": [
          67
         ],
         "type": "scatter3d"
        },
        {
         "hovertemplate": "Countries and areas=Sri Lanka<br>Unemployment_Rate=%{x}<br>Grade_2_3_Proficiency_Reading=%{y}<br>Grade_2_3_Proficiency_Math=%{z}<extra></extra>",
         "legendgroup": "Sri Lanka",
         "marker": {
          "color": "#FECB52",
          "symbol": "circle"
         },
         "mode": "markers",
         "name": "Sri Lanka",
         "scene": "scene",
         "showlegend": true,
         "x": [
          4.2
         ],
         "y": [
          0
         ],
         "z": [
          0
         ],
         "type": "scatter3d"
        },
        {
         "hovertemplate": "Countries and areas=Palestinian National Authority<br>Unemployment_Rate=%{x}<br>Grade_2_3_Proficiency_Reading=%{y}<br>Grade_2_3_Proficiency_Math=%{z}<extra></extra>",
         "legendgroup": "Palestinian National Authority",
         "marker": {
          "color": "#636efa",
          "symbol": "circle"
         },
         "mode": "markers",
         "name": "Palestinian National Authority",
         "scene": "scene",
         "showlegend": true,
         "x": [
          0.0
         ],
         "y": [
          0
         ],
         "z": [
          0
         ],
         "type": "scatter3d"
        },
        {
         "hovertemplate": "Countries and areas=Sudan<br>Unemployment_Rate=%{x}<br>Grade_2_3_Proficiency_Reading=%{y}<br>Grade_2_3_Proficiency_Math=%{z}<extra></extra>",
         "legendgroup": "Sudan",
         "marker": {
          "color": "#EF553B",
          "symbol": "circle"
         },
         "mode": "markers",
         "name": "Sudan",
         "scene": "scene",
         "showlegend": true,
         "x": [
          16.53
         ],
         "y": [
          0
         ],
         "z": [
          0
         ],
         "type": "scatter3d"
        },
        {
         "hovertemplate": "Countries and areas=Suriname<br>Unemployment_Rate=%{x}<br>Grade_2_3_Proficiency_Reading=%{y}<br>Grade_2_3_Proficiency_Math=%{z}<extra></extra>",
         "legendgroup": "Suriname",
         "marker": {
          "color": "#00cc96",
          "symbol": "circle"
         },
         "mode": "markers",
         "name": "Suriname",
         "scene": "scene",
         "showlegend": true,
         "x": [
          7.33
         ],
         "y": [
          30
         ],
         "z": [
          0
         ],
         "type": "scatter3d"
        },
        {
         "hovertemplate": "Countries and areas=Sweden<br>Unemployment_Rate=%{x}<br>Grade_2_3_Proficiency_Reading=%{y}<br>Grade_2_3_Proficiency_Math=%{z}<extra></extra>",
         "legendgroup": "Sweden",
         "marker": {
          "color": "#ab63fa",
          "symbol": "circle"
         },
         "mode": "markers",
         "name": "Sweden",
         "scene": "scene",
         "showlegend": true,
         "x": [
          6.48
         ],
         "y": [
          98
         ],
         "z": [
          75
         ],
         "type": "scatter3d"
        },
        {
         "hovertemplate": "Countries and areas=Switzerland<br>Unemployment_Rate=%{x}<br>Grade_2_3_Proficiency_Reading=%{y}<br>Grade_2_3_Proficiency_Math=%{z}<extra></extra>",
         "legendgroup": "Switzerland",
         "marker": {
          "color": "#FFA15A",
          "symbol": "circle"
         },
         "mode": "markers",
         "name": "Switzerland",
         "scene": "scene",
         "showlegend": true,
         "x": [
          4.58
         ],
         "y": [
          0
         ],
         "z": [
          0
         ],
         "type": "scatter3d"
        },
        {
         "hovertemplate": "Countries and areas=Syria<br>Unemployment_Rate=%{x}<br>Grade_2_3_Proficiency_Reading=%{y}<br>Grade_2_3_Proficiency_Math=%{z}<extra></extra>",
         "legendgroup": "Syria",
         "marker": {
          "color": "#19d3f3",
          "symbol": "circle"
         },
         "mode": "markers",
         "name": "Syria",
         "scene": "scene",
         "showlegend": true,
         "x": [
          8.37
         ],
         "y": [
          0
         ],
         "z": [
          0
         ],
         "type": "scatter3d"
        },
        {
         "hovertemplate": "Countries and areas=Tajikistan<br>Unemployment_Rate=%{x}<br>Grade_2_3_Proficiency_Reading=%{y}<br>Grade_2_3_Proficiency_Math=%{z}<extra></extra>",
         "legendgroup": "Tajikistan",
         "marker": {
          "color": "#FF6692",
          "symbol": "circle"
         },
         "mode": "markers",
         "name": "Tajikistan",
         "scene": "scene",
         "showlegend": true,
         "x": [
          11.02
         ],
         "y": [
          0
         ],
         "z": [
          0
         ],
         "type": "scatter3d"
        },
        {
         "hovertemplate": "Countries and areas=Thailand<br>Unemployment_Rate=%{x}<br>Grade_2_3_Proficiency_Reading=%{y}<br>Grade_2_3_Proficiency_Math=%{z}<extra></extra>",
         "legendgroup": "Thailand",
         "marker": {
          "color": "#B6E880",
          "symbol": "circle"
         },
         "mode": "markers",
         "name": "Thailand",
         "scene": "scene",
         "showlegend": true,
         "x": [
          0.75
         ],
         "y": [
          0
         ],
         "z": [
          0
         ],
         "type": "scatter3d"
        },
        {
         "hovertemplate": "Countries and areas=East Timor<br>Unemployment_Rate=%{x}<br>Grade_2_3_Proficiency_Reading=%{y}<br>Grade_2_3_Proficiency_Math=%{z}<extra></extra>",
         "legendgroup": "East Timor",
         "marker": {
          "color": "#FF97FF",
          "symbol": "circle"
         },
         "mode": "markers",
         "name": "East Timor",
         "scene": "scene",
         "showlegend": true,
         "x": [
          4.55
         ],
         "y": [
          0
         ],
         "z": [
          0
         ],
         "type": "scatter3d"
        },
        {
         "hovertemplate": "Countries and areas=Togo<br>Unemployment_Rate=%{x}<br>Grade_2_3_Proficiency_Reading=%{y}<br>Grade_2_3_Proficiency_Math=%{z}<extra></extra>",
         "legendgroup": "Togo",
         "marker": {
          "color": "#FECB52",
          "symbol": "circle"
         },
         "mode": "markers",
         "name": "Togo",
         "scene": "scene",
         "showlegend": true,
         "x": [
          2.04
         ],
         "y": [
          19
         ],
         "z": [
          40
         ],
         "type": "scatter3d"
        },
        {
         "hovertemplate": "Countries and areas=Tokelau<br>Unemployment_Rate=%{x}<br>Grade_2_3_Proficiency_Reading=%{y}<br>Grade_2_3_Proficiency_Math=%{z}<extra></extra>",
         "legendgroup": "Tokelau",
         "marker": {
          "color": "#636efa",
          "symbol": "circle"
         },
         "mode": "markers",
         "name": "Tokelau",
         "scene": "scene",
         "showlegend": true,
         "x": [
          0.0
         ],
         "y": [
          0
         ],
         "z": [
          0
         ],
         "type": "scatter3d"
        },
        {
         "hovertemplate": "Countries and areas=Tonga<br>Unemployment_Rate=%{x}<br>Grade_2_3_Proficiency_Reading=%{y}<br>Grade_2_3_Proficiency_Math=%{z}<extra></extra>",
         "legendgroup": "Tonga",
         "marker": {
          "color": "#EF553B",
          "symbol": "circle"
         },
         "mode": "markers",
         "name": "Tonga",
         "scene": "scene",
         "showlegend": true,
         "x": [
          1.12
         ],
         "y": [
          0
         ],
         "z": [
          0
         ],
         "type": "scatter3d"
        },
        {
         "hovertemplate": "Countries and areas=Trinidad and Tobago<br>Unemployment_Rate=%{x}<br>Grade_2_3_Proficiency_Reading=%{y}<br>Grade_2_3_Proficiency_Math=%{z}<extra></extra>",
         "legendgroup": "Trinidad and Tobago",
         "marker": {
          "color": "#00cc96",
          "symbol": "circle"
         },
         "mode": "markers",
         "name": "Trinidad and Tobago",
         "scene": "scene",
         "showlegend": true,
         "x": [
          2.69
         ],
         "y": [
          80
         ],
         "z": [
          0
         ],
         "type": "scatter3d"
        },
        {
         "hovertemplate": "Countries and areas=Tunisia<br>Unemployment_Rate=%{x}<br>Grade_2_3_Proficiency_Reading=%{y}<br>Grade_2_3_Proficiency_Math=%{z}<extra></extra>",
         "legendgroup": "Tunisia",
         "marker": {
          "color": "#ab63fa",
          "symbol": "circle"
         },
         "mode": "markers",
         "name": "Tunisia",
         "scene": "scene",
         "showlegend": true,
         "x": [
          16.02
         ],
         "y": [
          47
         ],
         "z": [
          0
         ],
         "type": "scatter3d"
        },
        {
         "hovertemplate": "Countries and areas=Turkey<br>Unemployment_Rate=%{x}<br>Grade_2_3_Proficiency_Reading=%{y}<br>Grade_2_3_Proficiency_Math=%{z}<extra></extra>",
         "legendgroup": "Turkey",
         "marker": {
          "color": "#FFA15A",
          "symbol": "circle"
         },
         "mode": "markers",
         "name": "Turkey",
         "scene": "scene",
         "showlegend": true,
         "x": [
          13.49
         ],
         "y": [
          0
         ],
         "z": [
          0
         ],
         "type": "scatter3d"
        },
        {
         "hovertemplate": "Countries and areas=Turkmenistan<br>Unemployment_Rate=%{x}<br>Grade_2_3_Proficiency_Reading=%{y}<br>Grade_2_3_Proficiency_Math=%{z}<extra></extra>",
         "legendgroup": "Turkmenistan",
         "marker": {
          "color": "#19d3f3",
          "symbol": "circle"
         },
         "mode": "markers",
         "name": "Turkmenistan",
         "scene": "scene",
         "showlegend": true,
         "x": [
          3.91
         ],
         "y": [
          0
         ],
         "z": [
          0
         ],
         "type": "scatter3d"
        },
        {
         "hovertemplate": "Countries and areas=Turks and Caicos Islands<br>Unemployment_Rate=%{x}<br>Grade_2_3_Proficiency_Reading=%{y}<br>Grade_2_3_Proficiency_Math=%{z}<extra></extra>",
         "legendgroup": "Turks and Caicos Islands",
         "marker": {
          "color": "#FF6692",
          "symbol": "circle"
         },
         "mode": "markers",
         "name": "Turks and Caicos Islands",
         "scene": "scene",
         "showlegend": true,
         "x": [
          0.0
         ],
         "y": [
          0
         ],
         "z": [
          0
         ],
         "type": "scatter3d"
        },
        {
         "hovertemplate": "Countries and areas=Tuvalu<br>Unemployment_Rate=%{x}<br>Grade_2_3_Proficiency_Reading=%{y}<br>Grade_2_3_Proficiency_Math=%{z}<extra></extra>",
         "legendgroup": "Tuvalu",
         "marker": {
          "color": "#B6E880",
          "symbol": "circle"
         },
         "mode": "markers",
         "name": "Tuvalu",
         "scene": "scene",
         "showlegend": true,
         "x": [
          0.0
         ],
         "y": [
          0
         ],
         "z": [
          0
         ],
         "type": "scatter3d"
        },
        {
         "hovertemplate": "Countries and areas=Uganda<br>Unemployment_Rate=%{x}<br>Grade_2_3_Proficiency_Reading=%{y}<br>Grade_2_3_Proficiency_Math=%{z}<extra></extra>",
         "legendgroup": "Uganda",
         "marker": {
          "color": "#FF97FF",
          "symbol": "circle"
         },
         "mode": "markers",
         "name": "Uganda",
         "scene": "scene",
         "showlegend": true,
         "x": [
          1.84
         ],
         "y": [
          33
         ],
         "z": [
          21
         ],
         "type": "scatter3d"
        },
        {
         "hovertemplate": "Countries and areas=Ukraine<br>Unemployment_Rate=%{x}<br>Grade_2_3_Proficiency_Reading=%{y}<br>Grade_2_3_Proficiency_Math=%{z}<extra></extra>",
         "legendgroup": "Ukraine",
         "marker": {
          "color": "#FECB52",
          "symbol": "circle"
         },
         "mode": "markers",
         "name": "Ukraine",
         "scene": "scene",
         "showlegend": true,
         "x": [
          8.88
         ],
         "y": [
          0
         ],
         "z": [
          0
         ],
         "type": "scatter3d"
        },
        {
         "hovertemplate": "Countries and areas=United Arab Emirates<br>Unemployment_Rate=%{x}<br>Grade_2_3_Proficiency_Reading=%{y}<br>Grade_2_3_Proficiency_Math=%{z}<extra></extra>",
         "legendgroup": "United Arab Emirates",
         "marker": {
          "color": "#636efa",
          "symbol": "circle"
         },
         "mode": "markers",
         "name": "United Arab Emirates",
         "scene": "scene",
         "showlegend": true,
         "x": [
          2.35
         ],
         "y": [
          68
         ],
         "z": [
          42
         ],
         "type": "scatter3d"
        },
        {
         "hovertemplate": "Countries and areas=United Kingdom<br>Unemployment_Rate=%{x}<br>Grade_2_3_Proficiency_Reading=%{y}<br>Grade_2_3_Proficiency_Math=%{z}<extra></extra>",
         "legendgroup": "United Kingdom",
         "marker": {
          "color": "#EF553B",
          "symbol": "circle"
         },
         "mode": "markers",
         "name": "United Kingdom",
         "scene": "scene",
         "showlegend": true,
         "x": [
          3.85
         ],
         "y": [
          0
         ],
         "z": [
          0
         ],
         "type": "scatter3d"
        },
        {
         "hovertemplate": "Countries and areas=Tanzania<br>Unemployment_Rate=%{x}<br>Grade_2_3_Proficiency_Reading=%{y}<br>Grade_2_3_Proficiency_Math=%{z}<extra></extra>",
         "legendgroup": "Tanzania",
         "marker": {
          "color": "#00cc96",
          "symbol": "circle"
         },
         "mode": "markers",
         "name": "Tanzania",
         "scene": "scene",
         "showlegend": true,
         "x": [
          1.98
         ],
         "y": [
          0
         ],
         "z": [
          0
         ],
         "type": "scatter3d"
        },
        {
         "hovertemplate": "Countries and areas=United States<br>Unemployment_Rate=%{x}<br>Grade_2_3_Proficiency_Reading=%{y}<br>Grade_2_3_Proficiency_Math=%{z}<extra></extra>",
         "legendgroup": "United States",
         "marker": {
          "color": "#ab63fa",
          "symbol": "circle"
         },
         "mode": "markers",
         "name": "United States",
         "scene": "scene",
         "showlegend": true,
         "x": [
          14.7
         ],
         "y": [
          0
         ],
         "z": [
          0
         ],
         "type": "scatter3d"
        },
        {
         "hovertemplate": "Countries and areas=Uruguay<br>Unemployment_Rate=%{x}<br>Grade_2_3_Proficiency_Reading=%{y}<br>Grade_2_3_Proficiency_Math=%{z}<extra></extra>",
         "legendgroup": "Uruguay",
         "marker": {
          "color": "#FFA15A",
          "symbol": "circle"
         },
         "mode": "markers",
         "name": "Uruguay",
         "scene": "scene",
         "showlegend": true,
         "x": [
          8.73
         ],
         "y": [
          80
         ],
         "z": [
          75
         ],
         "type": "scatter3d"
        },
        {
         "hovertemplate": "Countries and areas=Uzbekistan<br>Unemployment_Rate=%{x}<br>Grade_2_3_Proficiency_Reading=%{y}<br>Grade_2_3_Proficiency_Math=%{z}<extra></extra>",
         "legendgroup": "Uzbekistan",
         "marker": {
          "color": "#19d3f3",
          "symbol": "circle"
         },
         "mode": "markers",
         "name": "Uzbekistan",
         "scene": "scene",
         "showlegend": true,
         "x": [
          5.92
         ],
         "y": [
          0
         ],
         "z": [
          0
         ],
         "type": "scatter3d"
        },
        {
         "hovertemplate": "Countries and areas=Vanuatu<br>Unemployment_Rate=%{x}<br>Grade_2_3_Proficiency_Reading=%{y}<br>Grade_2_3_Proficiency_Math=%{z}<extra></extra>",
         "legendgroup": "Vanuatu",
         "marker": {
          "color": "#FF6692",
          "symbol": "circle"
         },
         "mode": "markers",
         "name": "Vanuatu",
         "scene": "scene",
         "showlegend": true,
         "x": [
          4.39
         ],
         "y": [
          0
         ],
         "z": [
          0
         ],
         "type": "scatter3d"
        },
        {
         "hovertemplate": "Countries and areas=Venezuela<br>Unemployment_Rate=%{x}<br>Grade_2_3_Proficiency_Reading=%{y}<br>Grade_2_3_Proficiency_Math=%{z}<extra></extra>",
         "legendgroup": "Venezuela",
         "marker": {
          "color": "#B6E880",
          "symbol": "circle"
         },
         "mode": "markers",
         "name": "Venezuela",
         "scene": "scene",
         "showlegend": true,
         "x": [
          8.8
         ],
         "y": [
          0
         ],
         "z": [
          0
         ],
         "type": "scatter3d"
        },
        {
         "hovertemplate": "Countries and areas=Vietnam<br>Unemployment_Rate=%{x}<br>Grade_2_3_Proficiency_Reading=%{y}<br>Grade_2_3_Proficiency_Math=%{z}<extra></extra>",
         "legendgroup": "Vietnam",
         "marker": {
          "color": "#FF97FF",
          "symbol": "circle"
         },
         "mode": "markers",
         "name": "Vietnam",
         "scene": "scene",
         "showlegend": true,
         "x": [
          2.01
         ],
         "y": [
          0
         ],
         "z": [
          0
         ],
         "type": "scatter3d"
        },
        {
         "hovertemplate": "Countries and areas=Yemen<br>Unemployment_Rate=%{x}<br>Grade_2_3_Proficiency_Reading=%{y}<br>Grade_2_3_Proficiency_Math=%{z}<extra></extra>",
         "legendgroup": "Yemen",
         "marker": {
          "color": "#FECB52",
          "symbol": "circle"
         },
         "mode": "markers",
         "name": "Yemen",
         "scene": "scene",
         "showlegend": true,
         "x": [
          12.91
         ],
         "y": [
          0
         ],
         "z": [
          0
         ],
         "type": "scatter3d"
        },
        {
         "hovertemplate": "Countries and areas=Zambia<br>Unemployment_Rate=%{x}<br>Grade_2_3_Proficiency_Reading=%{y}<br>Grade_2_3_Proficiency_Math=%{z}<extra></extra>",
         "legendgroup": "Zambia",
         "marker": {
          "color": "#636efa",
          "symbol": "circle"
         },
         "mode": "markers",
         "name": "Zambia",
         "scene": "scene",
         "showlegend": true,
         "x": [
          11.43
         ],
         "y": [
          0
         ],
         "z": [
          0
         ],
         "type": "scatter3d"
        },
        {
         "hovertemplate": "Countries and areas=Zimbabwe<br>Unemployment_Rate=%{x}<br>Grade_2_3_Proficiency_Reading=%{y}<br>Grade_2_3_Proficiency_Math=%{z}<extra></extra>",
         "legendgroup": "Zimbabwe",
         "marker": {
          "color": "#EF553B",
          "symbol": "circle"
         },
         "mode": "markers",
         "name": "Zimbabwe",
         "scene": "scene",
         "showlegend": true,
         "x": [
          4.95
         ],
         "y": [
          20
         ],
         "z": [
          0
         ],
         "type": "scatter3d"
        }
       ],
       "layout": {
        "template": {
         "data": {
          "histogram2dcontour": [
           {
            "type": "histogram2dcontour",
            "colorbar": {
             "outlinewidth": 0,
             "ticks": ""
            },
            "colorscale": [
             [
              0.0,
              "#0d0887"
             ],
             [
              0.1111111111111111,
              "#46039f"
             ],
             [
              0.2222222222222222,
              "#7201a8"
             ],
             [
              0.3333333333333333,
              "#9c179e"
             ],
             [
              0.4444444444444444,
              "#bd3786"
             ],
             [
              0.5555555555555556,
              "#d8576b"
             ],
             [
              0.6666666666666666,
              "#ed7953"
             ],
             [
              0.7777777777777778,
              "#fb9f3a"
             ],
             [
              0.8888888888888888,
              "#fdca26"
             ],
             [
              1.0,
              "#f0f921"
             ]
            ]
           }
          ],
          "choropleth": [
           {
            "type": "choropleth",
            "colorbar": {
             "outlinewidth": 0,
             "ticks": ""
            }
           }
          ],
          "histogram2d": [
           {
            "type": "histogram2d",
            "colorbar": {
             "outlinewidth": 0,
             "ticks": ""
            },
            "colorscale": [
             [
              0.0,
              "#0d0887"
             ],
             [
              0.1111111111111111,
              "#46039f"
             ],
             [
              0.2222222222222222,
              "#7201a8"
             ],
             [
              0.3333333333333333,
              "#9c179e"
             ],
             [
              0.4444444444444444,
              "#bd3786"
             ],
             [
              0.5555555555555556,
              "#d8576b"
             ],
             [
              0.6666666666666666,
              "#ed7953"
             ],
             [
              0.7777777777777778,
              "#fb9f3a"
             ],
             [
              0.8888888888888888,
              "#fdca26"
             ],
             [
              1.0,
              "#f0f921"
             ]
            ]
           }
          ],
          "heatmap": [
           {
            "type": "heatmap",
            "colorbar": {
             "outlinewidth": 0,
             "ticks": ""
            },
            "colorscale": [
             [
              0.0,
              "#0d0887"
             ],
             [
              0.1111111111111111,
              "#46039f"
             ],
             [
              0.2222222222222222,
              "#7201a8"
             ],
             [
              0.3333333333333333,
              "#9c179e"
             ],
             [
              0.4444444444444444,
              "#bd3786"
             ],
             [
              0.5555555555555556,
              "#d8576b"
             ],
             [
              0.6666666666666666,
              "#ed7953"
             ],
             [
              0.7777777777777778,
              "#fb9f3a"
             ],
             [
              0.8888888888888888,
              "#fdca26"
             ],
             [
              1.0,
              "#f0f921"
             ]
            ]
           }
          ],
          "heatmapgl": [
           {
            "type": "heatmapgl",
            "colorbar": {
             "outlinewidth": 0,
             "ticks": ""
            },
            "colorscale": [
             [
              0.0,
              "#0d0887"
             ],
             [
              0.1111111111111111,
              "#46039f"
             ],
             [
              0.2222222222222222,
              "#7201a8"
             ],
             [
              0.3333333333333333,
              "#9c179e"
             ],
             [
              0.4444444444444444,
              "#bd3786"
             ],
             [
              0.5555555555555556,
              "#d8576b"
             ],
             [
              0.6666666666666666,
              "#ed7953"
             ],
             [
              0.7777777777777778,
              "#fb9f3a"
             ],
             [
              0.8888888888888888,
              "#fdca26"
             ],
             [
              1.0,
              "#f0f921"
             ]
            ]
           }
          ],
          "contourcarpet": [
           {
            "type": "contourcarpet",
            "colorbar": {
             "outlinewidth": 0,
             "ticks": ""
            }
           }
          ],
          "contour": [
           {
            "type": "contour",
            "colorbar": {
             "outlinewidth": 0,
             "ticks": ""
            },
            "colorscale": [
             [
              0.0,
              "#0d0887"
             ],
             [
              0.1111111111111111,
              "#46039f"
             ],
             [
              0.2222222222222222,
              "#7201a8"
             ],
             [
              0.3333333333333333,
              "#9c179e"
             ],
             [
              0.4444444444444444,
              "#bd3786"
             ],
             [
              0.5555555555555556,
              "#d8576b"
             ],
             [
              0.6666666666666666,
              "#ed7953"
             ],
             [
              0.7777777777777778,
              "#fb9f3a"
             ],
             [
              0.8888888888888888,
              "#fdca26"
             ],
             [
              1.0,
              "#f0f921"
             ]
            ]
           }
          ],
          "surface": [
           {
            "type": "surface",
            "colorbar": {
             "outlinewidth": 0,
             "ticks": ""
            },
            "colorscale": [
             [
              0.0,
              "#0d0887"
             ],
             [
              0.1111111111111111,
              "#46039f"
             ],
             [
              0.2222222222222222,
              "#7201a8"
             ],
             [
              0.3333333333333333,
              "#9c179e"
             ],
             [
              0.4444444444444444,
              "#bd3786"
             ],
             [
              0.5555555555555556,
              "#d8576b"
             ],
             [
              0.6666666666666666,
              "#ed7953"
             ],
             [
              0.7777777777777778,
              "#fb9f3a"
             ],
             [
              0.8888888888888888,
              "#fdca26"
             ],
             [
              1.0,
              "#f0f921"
             ]
            ]
           }
          ],
          "mesh3d": [
           {
            "type": "mesh3d",
            "colorbar": {
             "outlinewidth": 0,
             "ticks": ""
            }
           }
          ],
          "scatter": [
           {
            "marker": {
             "line": {
              "color": "#283442"
             }
            },
            "type": "scatter"
           }
          ],
          "parcoords": [
           {
            "type": "parcoords",
            "line": {
             "colorbar": {
              "outlinewidth": 0,
              "ticks": ""
             }
            }
           }
          ],
          "scatterpolargl": [
           {
            "type": "scatterpolargl",
            "marker": {
             "colorbar": {
              "outlinewidth": 0,
              "ticks": ""
             }
            }
           }
          ],
          "bar": [
           {
            "error_x": {
             "color": "#f2f5fa"
            },
            "error_y": {
             "color": "#f2f5fa"
            },
            "marker": {
             "line": {
              "color": "rgb(17,17,17)",
              "width": 0.5
             },
             "pattern": {
              "fillmode": "overlay",
              "size": 10,
              "solidity": 0.2
             }
            },
            "type": "bar"
           }
          ],
          "scattergeo": [
           {
            "type": "scattergeo",
            "marker": {
             "colorbar": {
              "outlinewidth": 0,
              "ticks": ""
             }
            }
           }
          ],
          "scatterpolar": [
           {
            "type": "scatterpolar",
            "marker": {
             "colorbar": {
              "outlinewidth": 0,
              "ticks": ""
             }
            }
           }
          ],
          "histogram": [
           {
            "marker": {
             "pattern": {
              "fillmode": "overlay",
              "size": 10,
              "solidity": 0.2
             }
            },
            "type": "histogram"
           }
          ],
          "scattergl": [
           {
            "marker": {
             "line": {
              "color": "#283442"
             }
            },
            "type": "scattergl"
           }
          ],
          "scatter3d": [
           {
            "type": "scatter3d",
            "line": {
             "colorbar": {
              "outlinewidth": 0,
              "ticks": ""
             }
            },
            "marker": {
             "colorbar": {
              "outlinewidth": 0,
              "ticks": ""
             }
            }
           }
          ],
          "scattermapbox": [
           {
            "type": "scattermapbox",
            "marker": {
             "colorbar": {
              "outlinewidth": 0,
              "ticks": ""
             }
            }
           }
          ],
          "scatterternary": [
           {
            "type": "scatterternary",
            "marker": {
             "colorbar": {
              "outlinewidth": 0,
              "ticks": ""
             }
            }
           }
          ],
          "scattercarpet": [
           {
            "type": "scattercarpet",
            "marker": {
             "colorbar": {
              "outlinewidth": 0,
              "ticks": ""
             }
            }
           }
          ],
          "carpet": [
           {
            "aaxis": {
             "endlinecolor": "#A2B1C6",
             "gridcolor": "#506784",
             "linecolor": "#506784",
             "minorgridcolor": "#506784",
             "startlinecolor": "#A2B1C6"
            },
            "baxis": {
             "endlinecolor": "#A2B1C6",
             "gridcolor": "#506784",
             "linecolor": "#506784",
             "minorgridcolor": "#506784",
             "startlinecolor": "#A2B1C6"
            },
            "type": "carpet"
           }
          ],
          "table": [
           {
            "cells": {
             "fill": {
              "color": "#506784"
             },
             "line": {
              "color": "rgb(17,17,17)"
             }
            },
            "header": {
             "fill": {
              "color": "#2a3f5f"
             },
             "line": {
              "color": "rgb(17,17,17)"
             }
            },
            "type": "table"
           }
          ],
          "barpolar": [
           {
            "marker": {
             "line": {
              "color": "rgb(17,17,17)",
              "width": 0.5
             },
             "pattern": {
              "fillmode": "overlay",
              "size": 10,
              "solidity": 0.2
             }
            },
            "type": "barpolar"
           }
          ],
          "pie": [
           {
            "automargin": true,
            "type": "pie"
           }
          ]
         },
         "layout": {
          "autotypenumbers": "strict",
          "colorway": [
           "#636efa",
           "#EF553B",
           "#00cc96",
           "#ab63fa",
           "#FFA15A",
           "#19d3f3",
           "#FF6692",
           "#B6E880",
           "#FF97FF",
           "#FECB52"
          ],
          "font": {
           "color": "#f2f5fa"
          },
          "hovermode": "closest",
          "hoverlabel": {
           "align": "left"
          },
          "paper_bgcolor": "rgb(17,17,17)",
          "plot_bgcolor": "rgb(17,17,17)",
          "polar": {
           "bgcolor": "rgb(17,17,17)",
           "angularaxis": {
            "gridcolor": "#506784",
            "linecolor": "#506784",
            "ticks": ""
           },
           "radialaxis": {
            "gridcolor": "#506784",
            "linecolor": "#506784",
            "ticks": ""
           }
          },
          "ternary": {
           "bgcolor": "rgb(17,17,17)",
           "aaxis": {
            "gridcolor": "#506784",
            "linecolor": "#506784",
            "ticks": ""
           },
           "baxis": {
            "gridcolor": "#506784",
            "linecolor": "#506784",
            "ticks": ""
           },
           "caxis": {
            "gridcolor": "#506784",
            "linecolor": "#506784",
            "ticks": ""
           }
          },
          "coloraxis": {
           "colorbar": {
            "outlinewidth": 0,
            "ticks": ""
           }
          },
          "colorscale": {
           "sequential": [
            [
             0.0,
             "#0d0887"
            ],
            [
             0.1111111111111111,
             "#46039f"
            ],
            [
             0.2222222222222222,
             "#7201a8"
            ],
            [
             0.3333333333333333,
             "#9c179e"
            ],
            [
             0.4444444444444444,
             "#bd3786"
            ],
            [
             0.5555555555555556,
             "#d8576b"
            ],
            [
             0.6666666666666666,
             "#ed7953"
            ],
            [
             0.7777777777777778,
             "#fb9f3a"
            ],
            [
             0.8888888888888888,
             "#fdca26"
            ],
            [
             1.0,
             "#f0f921"
            ]
           ],
           "sequentialminus": [
            [
             0.0,
             "#0d0887"
            ],
            [
             0.1111111111111111,
             "#46039f"
            ],
            [
             0.2222222222222222,
             "#7201a8"
            ],
            [
             0.3333333333333333,
             "#9c179e"
            ],
            [
             0.4444444444444444,
             "#bd3786"
            ],
            [
             0.5555555555555556,
             "#d8576b"
            ],
            [
             0.6666666666666666,
             "#ed7953"
            ],
            [
             0.7777777777777778,
             "#fb9f3a"
            ],
            [
             0.8888888888888888,
             "#fdca26"
            ],
            [
             1.0,
             "#f0f921"
            ]
           ],
           "diverging": [
            [
             0,
             "#8e0152"
            ],
            [
             0.1,
             "#c51b7d"
            ],
            [
             0.2,
             "#de77ae"
            ],
            [
             0.3,
             "#f1b6da"
            ],
            [
             0.4,
             "#fde0ef"
            ],
            [
             0.5,
             "#f7f7f7"
            ],
            [
             0.6,
             "#e6f5d0"
            ],
            [
             0.7,
             "#b8e186"
            ],
            [
             0.8,
             "#7fbc41"
            ],
            [
             0.9,
             "#4d9221"
            ],
            [
             1,
             "#276419"
            ]
           ]
          },
          "xaxis": {
           "gridcolor": "#283442",
           "linecolor": "#506784",
           "ticks": "",
           "title": {
            "standoff": 15
           },
           "zerolinecolor": "#283442",
           "automargin": true,
           "zerolinewidth": 2
          },
          "yaxis": {
           "gridcolor": "#283442",
           "linecolor": "#506784",
           "ticks": "",
           "title": {
            "standoff": 15
           },
           "zerolinecolor": "#283442",
           "automargin": true,
           "zerolinewidth": 2
          },
          "scene": {
           "xaxis": {
            "backgroundcolor": "rgb(17,17,17)",
            "gridcolor": "#506784",
            "linecolor": "#506784",
            "showbackground": true,
            "ticks": "",
            "zerolinecolor": "#C8D4E3",
            "gridwidth": 2
           },
           "yaxis": {
            "backgroundcolor": "rgb(17,17,17)",
            "gridcolor": "#506784",
            "linecolor": "#506784",
            "showbackground": true,
            "ticks": "",
            "zerolinecolor": "#C8D4E3",
            "gridwidth": 2
           },
           "zaxis": {
            "backgroundcolor": "rgb(17,17,17)",
            "gridcolor": "#506784",
            "linecolor": "#506784",
            "showbackground": true,
            "ticks": "",
            "zerolinecolor": "#C8D4E3",
            "gridwidth": 2
           }
          },
          "shapedefaults": {
           "line": {
            "color": "#f2f5fa"
           }
          },
          "annotationdefaults": {
           "arrowcolor": "#f2f5fa",
           "arrowhead": 0,
           "arrowwidth": 1
          },
          "geo": {
           "bgcolor": "rgb(17,17,17)",
           "landcolor": "rgb(17,17,17)",
           "subunitcolor": "#506784",
           "showland": true,
           "showlakes": true,
           "lakecolor": "rgb(17,17,17)"
          },
          "title": {
           "x": 0.05
          },
          "updatemenudefaults": {
           "bgcolor": "#506784",
           "borderwidth": 0
          },
          "sliderdefaults": {
           "bgcolor": "#C8D4E3",
           "borderwidth": 1,
           "bordercolor": "rgb(17,17,17)",
           "tickwidth": 0
          },
          "mapbox": {
           "style": "dark"
          }
         }
        },
        "scene": {
         "domain": {
          "x": [
           0.0,
           1.0
          ],
          "y": [
           0.0,
           1.0
          ]
         },
         "xaxis": {
          "title": {
           "text": "Unemployment_Rate"
          }
         },
         "yaxis": {
          "title": {
           "text": "Grade_2_3_Proficiency_Reading"
          }
         },
         "zaxis": {
          "title": {
           "text": "Grade_2_3_Proficiency_Math"
          }
         }
        },
        "legend": {
         "title": {
          "text": "Countries and areas"
         },
         "tracegroupgap": 0
        },
        "title": {
         "text": "Unemployment vs. Proficiency"
        }
       },
       "config": {
        "plotlyServerURL": "https://plot.ly"
       }
      },
      "text/html": "<div>                            <div id=\"b7413d9b-2f86-49d1-acfb-d192c3bef298\" class=\"plotly-graph-div\" style=\"height:525px; width:100%;\"></div>            <script type=\"text/javascript\">                require([\"plotly\"], function(Plotly) {                    window.PLOTLYENV=window.PLOTLYENV || {};                                    if (document.getElementById(\"b7413d9b-2f86-49d1-acfb-d192c3bef298\")) {                    Plotly.newPlot(                        \"b7413d9b-2f86-49d1-acfb-d192c3bef298\",                        [{\"hovertemplate\":\"Countries and areas=Afghanistan\\u003cbr\\u003eUnemployment_Rate=%{x}\\u003cbr\\u003eGrade_2_3_Proficiency_Reading=%{y}\\u003cbr\\u003eGrade_2_3_Proficiency_Math=%{z}\\u003cextra\\u003e\\u003c\\u002fextra\\u003e\",\"legendgroup\":\"Afghanistan\",\"marker\":{\"color\":\"#636efa\",\"symbol\":\"circle\"},\"mode\":\"markers\",\"name\":\"Afghanistan\",\"scene\":\"scene\",\"showlegend\":true,\"x\":[11.12],\"y\":[22],\"z\":[25],\"type\":\"scatter3d\"},{\"hovertemplate\":\"Countries and areas=Albania\\u003cbr\\u003eUnemployment_Rate=%{x}\\u003cbr\\u003eGrade_2_3_Proficiency_Reading=%{y}\\u003cbr\\u003eGrade_2_3_Proficiency_Math=%{z}\\u003cextra\\u003e\\u003c\\u002fextra\\u003e\",\"legendgroup\":\"Albania\",\"marker\":{\"color\":\"#EF553B\",\"symbol\":\"circle\"},\"mode\":\"markers\",\"name\":\"Albania\",\"scene\":\"scene\",\"showlegend\":true,\"x\":[12.33],\"y\":[0],\"z\":[0],\"type\":\"scatter3d\"},{\"hovertemplate\":\"Countries and areas=Algeria\\u003cbr\\u003eUnemployment_Rate=%{x}\\u003cbr\\u003eGrade_2_3_Proficiency_Reading=%{y}\\u003cbr\\u003eGrade_2_3_Proficiency_Math=%{z}\\u003cextra\\u003e\\u003c\\u002fextra\\u003e\",\"legendgroup\":\"Algeria\",\"marker\":{\"color\":\"#00cc96\",\"symbol\":\"circle\"},\"mode\":\"markers\",\"name\":\"Algeria\",\"scene\":\"scene\",\"showlegend\":true,\"x\":[11.7],\"y\":[0],\"z\":[0],\"type\":\"scatter3d\"},{\"hovertemplate\":\"Countries and areas=Andorra\\u003cbr\\u003eUnemployment_Rate=%{x}\\u003cbr\\u003eGrade_2_3_Proficiency_Reading=%{y}\\u003cbr\\u003eGrade_2_3_Proficiency_Math=%{z}\\u003cextra\\u003e\\u003c\\u002fextra\\u003e\",\"legendgroup\":\"Andorra\",\"marker\":{\"color\":\"#ab63fa\",\"symbol\":\"circle\"},\"mode\":\"markers\",\"name\":\"Andorra\",\"scene\":\"scene\",\"showlegend\":true,\"x\":[0.0],\"y\":[0],\"z\":[0],\"type\":\"scatter3d\"},{\"hovertemplate\":\"Countries and areas=Angola\\u003cbr\\u003eUnemployment_Rate=%{x}\\u003cbr\\u003eGrade_2_3_Proficiency_Reading=%{y}\\u003cbr\\u003eGrade_2_3_Proficiency_Math=%{z}\\u003cextra\\u003e\\u003c\\u002fextra\\u003e\",\"legendgroup\":\"Angola\",\"marker\":{\"color\":\"#FFA15A\",\"symbol\":\"circle\"},\"mode\":\"markers\",\"name\":\"Angola\",\"scene\":\"scene\",\"showlegend\":true,\"x\":[6.89],\"y\":[0],\"z\":[0],\"type\":\"scatter3d\"},{\"hovertemplate\":\"Countries and areas=Anguilla\\u003cbr\\u003eUnemployment_Rate=%{x}\\u003cbr\\u003eGrade_2_3_Proficiency_Reading=%{y}\\u003cbr\\u003eGrade_2_3_Proficiency_Math=%{z}\\u003cextra\\u003e\\u003c\\u002fextra\\u003e\",\"legendgroup\":\"Anguilla\",\"marker\":{\"color\":\"#19d3f3\",\"symbol\":\"circle\"},\"mode\":\"markers\",\"name\":\"Anguilla\",\"scene\":\"scene\",\"showlegend\":true,\"x\":[0.0],\"y\":[0],\"z\":[0],\"type\":\"scatter3d\"},{\"hovertemplate\":\"Countries and areas=Antigua and Barbuda\\u003cbr\\u003eUnemployment_Rate=%{x}\\u003cbr\\u003eGrade_2_3_Proficiency_Reading=%{y}\\u003cbr\\u003eGrade_2_3_Proficiency_Math=%{z}\\u003cextra\\u003e\\u003c\\u002fextra\\u003e\",\"legendgroup\":\"Antigua and Barbuda\",\"marker\":{\"color\":\"#FF6692\",\"symbol\":\"circle\"},\"mode\":\"markers\",\"name\":\"Antigua and Barbuda\",\"scene\":\"scene\",\"showlegend\":true,\"x\":[0.0],\"y\":[0],\"z\":[0],\"type\":\"scatter3d\"},{\"hovertemplate\":\"Countries and areas=Argentina\\u003cbr\\u003eUnemployment_Rate=%{x}\\u003cbr\\u003eGrade_2_3_Proficiency_Reading=%{y}\\u003cbr\\u003eGrade_2_3_Proficiency_Math=%{z}\\u003cextra\\u003e\\u003c\\u002fextra\\u003e\",\"legendgroup\":\"Argentina\",\"marker\":{\"color\":\"#B6E880\",\"symbol\":\"circle\"},\"mode\":\"markers\",\"name\":\"Argentina\",\"scene\":\"scene\",\"showlegend\":true,\"x\":[9.79],\"y\":[76],\"z\":[71],\"type\":\"scatter3d\"},{\"hovertemplate\":\"Countries and areas=Armenia\\u003cbr\\u003eUnemployment_Rate=%{x}\\u003cbr\\u003eGrade_2_3_Proficiency_Reading=%{y}\\u003cbr\\u003eGrade_2_3_Proficiency_Math=%{z}\\u003cextra\\u003e\\u003c\\u002fextra\\u003e\",\"legendgroup\":\"Armenia\",\"marker\":{\"color\":\"#FF97FF\",\"symbol\":\"circle\"},\"mode\":\"markers\",\"name\":\"Armenia\",\"scene\":\"scene\",\"showlegend\":true,\"x\":[16.99],\"y\":[0],\"z\":[0],\"type\":\"scatter3d\"},{\"hovertemplate\":\"Countries and areas=Australia\\u003cbr\\u003eUnemployment_Rate=%{x}\\u003cbr\\u003eGrade_2_3_Proficiency_Reading=%{y}\\u003cbr\\u003eGrade_2_3_Proficiency_Math=%{z}\\u003cextra\\u003e\\u003c\\u002fextra\\u003e\",\"legendgroup\":\"Australia\",\"marker\":{\"color\":\"#FECB52\",\"symbol\":\"circle\"},\"mode\":\"markers\",\"name\":\"Australia\",\"scene\":\"scene\",\"showlegend\":true,\"x\":[5.27],\"y\":[94],\"z\":[70],\"type\":\"scatter3d\"},{\"hovertemplate\":\"Countries and areas=Austria\\u003cbr\\u003eUnemployment_Rate=%{x}\\u003cbr\\u003eGrade_2_3_Proficiency_Reading=%{y}\\u003cbr\\u003eGrade_2_3_Proficiency_Math=%{z}\\u003cextra\\u003e\\u003c\\u002fextra\\u003e\",\"legendgroup\":\"Austria\",\"marker\":{\"color\":\"#636efa\",\"symbol\":\"circle\"},\"mode\":\"markers\",\"name\":\"Austria\",\"scene\":\"scene\",\"showlegend\":true,\"x\":[4.67],\"y\":[0],\"z\":[0],\"type\":\"scatter3d\"},{\"hovertemplate\":\"Countries and areas=Azerbaijan\\u003cbr\\u003eUnemployment_Rate=%{x}\\u003cbr\\u003eGrade_2_3_Proficiency_Reading=%{y}\\u003cbr\\u003eGrade_2_3_Proficiency_Math=%{z}\\u003cextra\\u003e\\u003c\\u002fextra\\u003e\",\"legendgroup\":\"Azerbaijan\",\"marker\":{\"color\":\"#EF553B\",\"symbol\":\"circle\"},\"mode\":\"markers\",\"name\":\"Azerbaijan\",\"scene\":\"scene\",\"showlegend\":true,\"x\":[5.51],\"y\":[0],\"z\":[0],\"type\":\"scatter3d\"},{\"hovertemplate\":\"Countries and areas=The Bahamas\\u003cbr\\u003eUnemployment_Rate=%{x}\\u003cbr\\u003eGrade_2_3_Proficiency_Reading=%{y}\\u003cbr\\u003eGrade_2_3_Proficiency_Math=%{z}\\u003cextra\\u003e\\u003c\\u002fextra\\u003e\",\"legendgroup\":\"The Bahamas\",\"marker\":{\"color\":\"#00cc96\",\"symbol\":\"circle\"},\"mode\":\"markers\",\"name\":\"The Bahamas\",\"scene\":\"scene\",\"showlegend\":true,\"x\":[10.36],\"y\":[0],\"z\":[0],\"type\":\"scatter3d\"},{\"hovertemplate\":\"Countries and areas=Bahrain\\u003cbr\\u003eUnemployment_Rate=%{x}\\u003cbr\\u003eGrade_2_3_Proficiency_Reading=%{y}\\u003cbr\\u003eGrade_2_3_Proficiency_Math=%{z}\\u003cextra\\u003e\\u003c\\u002fextra\\u003e\",\"legendgroup\":\"Bahrain\",\"marker\":{\"color\":\"#ab63fa\",\"symbol\":\"circle\"},\"mode\":\"markers\",\"name\":\"Bahrain\",\"scene\":\"scene\",\"showlegend\":true,\"x\":[0.71],\"y\":[69],\"z\":[40],\"type\":\"scatter3d\"},{\"hovertemplate\":\"Countries and areas=Bangladesh\\u003cbr\\u003eUnemployment_Rate=%{x}\\u003cbr\\u003eGrade_2_3_Proficiency_Reading=%{y}\\u003cbr\\u003eGrade_2_3_Proficiency_Math=%{z}\\u003cextra\\u003e\\u003c\\u002fextra\\u003e\",\"legendgroup\":\"Bangladesh\",\"marker\":{\"color\":\"#FFA15A\",\"symbol\":\"circle\"},\"mode\":\"markers\",\"name\":\"Bangladesh\",\"scene\":\"scene\",\"showlegend\":true,\"x\":[4.19],\"y\":[47],\"z\":[34],\"type\":\"scatter3d\"},{\"hovertemplate\":\"Countries and areas=Barbados\\u003cbr\\u003eUnemployment_Rate=%{x}\\u003cbr\\u003eGrade_2_3_Proficiency_Reading=%{y}\\u003cbr\\u003eGrade_2_3_Proficiency_Math=%{z}\\u003cextra\\u003e\\u003c\\u002fextra\\u003e\",\"legendgroup\":\"Barbados\",\"marker\":{\"color\":\"#19d3f3\",\"symbol\":\"circle\"},\"mode\":\"markers\",\"name\":\"Barbados\",\"scene\":\"scene\",\"showlegend\":true,\"x\":[10.33],\"y\":[0],\"z\":[0],\"type\":\"scatter3d\"},{\"hovertemplate\":\"Countries and areas=Belarus\\u003cbr\\u003eUnemployment_Rate=%{x}\\u003cbr\\u003eGrade_2_3_Proficiency_Reading=%{y}\\u003cbr\\u003eGrade_2_3_Proficiency_Math=%{z}\\u003cextra\\u003e\\u003c\\u002fextra\\u003e\",\"legendgroup\":\"Belarus\",\"marker\":{\"color\":\"#FF6692\",\"symbol\":\"circle\"},\"mode\":\"markers\",\"name\":\"Belarus\",\"scene\":\"scene\",\"showlegend\":true,\"x\":[4.59],\"y\":[0],\"z\":[0],\"type\":\"scatter3d\"},{\"hovertemplate\":\"Countries and areas=Belgium\\u003cbr\\u003eUnemployment_Rate=%{x}\\u003cbr\\u003eGrade_2_3_Proficiency_Reading=%{y}\\u003cbr\\u003eGrade_2_3_Proficiency_Math=%{z}\\u003cextra\\u003e\\u003c\\u002fextra\\u003e\",\"legendgroup\":\"Belgium\",\"marker\":{\"color\":\"#B6E880\",\"symbol\":\"circle\"},\"mode\":\"markers\",\"name\":\"Belgium\",\"scene\":\"scene\",\"showlegend\":true,\"x\":[5.59],\"y\":[0],\"z\":[0],\"type\":\"scatter3d\"},{\"hovertemplate\":\"Countries and areas=Belize\\u003cbr\\u003eUnemployment_Rate=%{x}\\u003cbr\\u003eGrade_2_3_Proficiency_Reading=%{y}\\u003cbr\\u003eGrade_2_3_Proficiency_Math=%{z}\\u003cextra\\u003e\\u003c\\u002fextra\\u003e\",\"legendgroup\":\"Belize\",\"marker\":{\"color\":\"#FF97FF\",\"symbol\":\"circle\"},\"mode\":\"markers\",\"name\":\"Belize\",\"scene\":\"scene\",\"showlegend\":true,\"x\":[6.41],\"y\":[0],\"z\":[0],\"type\":\"scatter3d\"},{\"hovertemplate\":\"Countries and areas=Benin\\u003cbr\\u003eUnemployment_Rate=%{x}\\u003cbr\\u003eGrade_2_3_Proficiency_Reading=%{y}\\u003cbr\\u003eGrade_2_3_Proficiency_Math=%{z}\\u003cextra\\u003e\\u003c\\u002fextra\\u003e\",\"legendgroup\":\"Benin\",\"marker\":{\"color\":\"#FECB52\",\"symbol\":\"circle\"},\"mode\":\"markers\",\"name\":\"Benin\",\"scene\":\"scene\",\"showlegend\":true,\"x\":[2.23],\"y\":[9],\"z\":[34],\"type\":\"scatter3d\"},{\"hovertemplate\":\"Countries and areas=Bhutan\\u003cbr\\u003eUnemployment_Rate=%{x}\\u003cbr\\u003eGrade_2_3_Proficiency_Reading=%{y}\\u003cbr\\u003eGrade_2_3_Proficiency_Math=%{z}\\u003cextra\\u003e\\u003c\\u002fextra\\u003e\",\"legendgroup\":\"Bhutan\",\"marker\":{\"color\":\"#636efa\",\"symbol\":\"circle\"},\"mode\":\"markers\",\"name\":\"Bhutan\",\"scene\":\"scene\",\"showlegend\":true,\"x\":[2.34],\"y\":[0],\"z\":[0],\"type\":\"scatter3d\"},{\"hovertemplate\":\"Countries and areas=Bolivia\\u003cbr\\u003eUnemployment_Rate=%{x}\\u003cbr\\u003eGrade_2_3_Proficiency_Reading=%{y}\\u003cbr\\u003eGrade_2_3_Proficiency_Math=%{z}\\u003cextra\\u003e\\u003c\\u002fextra\\u003e\",\"legendgroup\":\"Bolivia\",\"marker\":{\"color\":\"#EF553B\",\"symbol\":\"circle\"},\"mode\":\"markers\",\"name\":\"Bolivia\",\"scene\":\"scene\",\"showlegend\":true,\"x\":[3.5],\"y\":[0],\"z\":[0],\"type\":\"scatter3d\"},{\"hovertemplate\":\"Countries and areas=Bosnia and Herzegovina\\u003cbr\\u003eUnemployment_Rate=%{x}\\u003cbr\\u003eGrade_2_3_Proficiency_Reading=%{y}\\u003cbr\\u003eGrade_2_3_Proficiency_Math=%{z}\\u003cextra\\u003e\\u003c\\u002fextra\\u003e\",\"legendgroup\":\"Bosnia and Herzegovina\",\"marker\":{\"color\":\"#00cc96\",\"symbol\":\"circle\"},\"mode\":\"markers\",\"name\":\"Bosnia and Herzegovina\",\"scene\":\"scene\",\"showlegend\":true,\"x\":[18.42],\"y\":[0],\"z\":[0],\"type\":\"scatter3d\"},{\"hovertemplate\":\"Countries and areas=Botswana\\u003cbr\\u003eUnemployment_Rate=%{x}\\u003cbr\\u003eGrade_2_3_Proficiency_Reading=%{y}\\u003cbr\\u003eGrade_2_3_Proficiency_Math=%{z}\\u003cextra\\u003e\\u003c\\u002fextra\\u003e\",\"legendgroup\":\"Botswana\",\"marker\":{\"color\":\"#ab63fa\",\"symbol\":\"circle\"},\"mode\":\"markers\",\"name\":\"Botswana\",\"scene\":\"scene\",\"showlegend\":true,\"x\":[18.19],\"y\":[0],\"z\":[0],\"type\":\"scatter3d\"},{\"hovertemplate\":\"Countries and areas=Brazil\\u003cbr\\u003eUnemployment_Rate=%{x}\\u003cbr\\u003eGrade_2_3_Proficiency_Reading=%{y}\\u003cbr\\u003eGrade_2_3_Proficiency_Math=%{z}\\u003cextra\\u003e\\u003c\\u002fextra\\u003e\",\"legendgroup\":\"Brazil\",\"marker\":{\"color\":\"#FFA15A\",\"symbol\":\"circle\"},\"mode\":\"markers\",\"name\":\"Brazil\",\"scene\":\"scene\",\"showlegend\":true,\"x\":[12.08],\"y\":[80],\"z\":[71],\"type\":\"scatter3d\"},{\"hovertemplate\":\"Countries and areas=British Virgin Islands\\u003cbr\\u003eUnemployment_Rate=%{x}\\u003cbr\\u003eGrade_2_3_Proficiency_Reading=%{y}\\u003cbr\\u003eGrade_2_3_Proficiency_Math=%{z}\\u003cextra\\u003e\\u003c\\u002fextra\\u003e\",\"legendgroup\":\"British Virgin Islands\",\"marker\":{\"color\":\"#19d3f3\",\"symbol\":\"circle\"},\"mode\":\"markers\",\"name\":\"British Virgin Islands\",\"scene\":\"scene\",\"showlegend\":true,\"x\":[0.0],\"y\":[0],\"z\":[0],\"type\":\"scatter3d\"},{\"hovertemplate\":\"Countries and areas=Brunei\\u003cbr\\u003eUnemployment_Rate=%{x}\\u003cbr\\u003eGrade_2_3_Proficiency_Reading=%{y}\\u003cbr\\u003eGrade_2_3_Proficiency_Math=%{z}\\u003cextra\\u003e\\u003c\\u002fextra\\u003e\",\"legendgroup\":\"Brunei\",\"marker\":{\"color\":\"#FF6692\",\"symbol\":\"circle\"},\"mode\":\"markers\",\"name\":\"Brunei\",\"scene\":\"scene\",\"showlegend\":true,\"x\":[9.12],\"y\":[0],\"z\":[0],\"type\":\"scatter3d\"},{\"hovertemplate\":\"Countries and areas=Bulgaria\\u003cbr\\u003eUnemployment_Rate=%{x}\\u003cbr\\u003eGrade_2_3_Proficiency_Reading=%{y}\\u003cbr\\u003eGrade_2_3_Proficiency_Math=%{z}\\u003cextra\\u003e\\u003c\\u002fextra\\u003e\",\"legendgroup\":\"Bulgaria\",\"marker\":{\"color\":\"#B6E880\",\"symbol\":\"circle\"},\"mode\":\"markers\",\"name\":\"Bulgaria\",\"scene\":\"scene\",\"showlegend\":true,\"x\":[4.34],\"y\":[0],\"z\":[0],\"type\":\"scatter3d\"},{\"hovertemplate\":\"Countries and areas=Burkina Faso\\u003cbr\\u003eUnemployment_Rate=%{x}\\u003cbr\\u003eGrade_2_3_Proficiency_Reading=%{y}\\u003cbr\\u003eGrade_2_3_Proficiency_Math=%{z}\\u003cextra\\u003e\\u003c\\u002fextra\\u003e\",\"legendgroup\":\"Burkina Faso\",\"marker\":{\"color\":\"#FF97FF\",\"symbol\":\"circle\"},\"mode\":\"markers\",\"name\":\"Burkina Faso\",\"scene\":\"scene\",\"showlegend\":true,\"x\":[6.26],\"y\":[36],\"z\":[59],\"type\":\"scatter3d\"},{\"hovertemplate\":\"Countries and areas=Burundi\\u003cbr\\u003eUnemployment_Rate=%{x}\\u003cbr\\u003eGrade_2_3_Proficiency_Reading=%{y}\\u003cbr\\u003eGrade_2_3_Proficiency_Math=%{z}\\u003cextra\\u003e\\u003c\\u002fextra\\u003e\",\"legendgroup\":\"Burundi\",\"marker\":{\"color\":\"#FECB52\",\"symbol\":\"circle\"},\"mode\":\"markers\",\"name\":\"Burundi\",\"scene\":\"scene\",\"showlegend\":true,\"x\":[1.43],\"y\":[79],\"z\":[97],\"type\":\"scatter3d\"},{\"hovertemplate\":\"Countries and areas=Cape Verde\\u003cbr\\u003eUnemployment_Rate=%{x}\\u003cbr\\u003eGrade_2_3_Proficiency_Reading=%{y}\\u003cbr\\u003eGrade_2_3_Proficiency_Math=%{z}\\u003cextra\\u003e\\u003c\\u002fextra\\u003e\",\"legendgroup\":\"Cape Verde\",\"marker\":{\"color\":\"#636efa\",\"symbol\":\"circle\"},\"mode\":\"markers\",\"name\":\"Cape Verde\",\"scene\":\"scene\",\"showlegend\":true,\"x\":[12.25],\"y\":[0],\"z\":[0],\"type\":\"scatter3d\"},{\"hovertemplate\":\"Countries and areas=Cambodia\\u003cbr\\u003eUnemployment_Rate=%{x}\\u003cbr\\u003eGrade_2_3_Proficiency_Reading=%{y}\\u003cbr\\u003eGrade_2_3_Proficiency_Math=%{z}\\u003cextra\\u003e\\u003c\\u002fextra\\u003e\",\"legendgroup\":\"Cambodia\",\"marker\":{\"color\":\"#EF553B\",\"symbol\":\"circle\"},\"mode\":\"markers\",\"name\":\"Cambodia\",\"scene\":\"scene\",\"showlegend\":true,\"x\":[0.68],\"y\":[0],\"z\":[0],\"type\":\"scatter3d\"},{\"hovertemplate\":\"Countries and areas=Cameroon\\u003cbr\\u003eUnemployment_Rate=%{x}\\u003cbr\\u003eGrade_2_3_Proficiency_Reading=%{y}\\u003cbr\\u003eGrade_2_3_Proficiency_Math=%{z}\\u003cextra\\u003e\\u003c\\u002fextra\\u003e\",\"legendgroup\":\"Cameroon\",\"marker\":{\"color\":\"#00cc96\",\"symbol\":\"circle\"},\"mode\":\"markers\",\"name\":\"Cameroon\",\"scene\":\"scene\",\"showlegend\":true,\"x\":[3.38],\"y\":[30],\"z\":[57],\"type\":\"scatter3d\"},{\"hovertemplate\":\"Countries and areas=Canada\\u003cbr\\u003eUnemployment_Rate=%{x}\\u003cbr\\u003eGrade_2_3_Proficiency_Reading=%{y}\\u003cbr\\u003eGrade_2_3_Proficiency_Math=%{z}\\u003cextra\\u003e\\u003c\\u002fextra\\u003e\",\"legendgroup\":\"Canada\",\"marker\":{\"color\":\"#ab63fa\",\"symbol\":\"circle\"},\"mode\":\"markers\",\"name\":\"Canada\",\"scene\":\"scene\",\"showlegend\":true,\"x\":[5.56],\"y\":[96],\"z\":[69],\"type\":\"scatter3d\"},{\"hovertemplate\":\"Countries and areas=Central African Republic\\u003cbr\\u003eUnemployment_Rate=%{x}\\u003cbr\\u003eGrade_2_3_Proficiency_Reading=%{y}\\u003cbr\\u003eGrade_2_3_Proficiency_Math=%{z}\\u003cextra\\u003e\\u003c\\u002fextra\\u003e\",\"legendgroup\":\"Central African Republic\",\"marker\":{\"color\":\"#FFA15A\",\"symbol\":\"circle\"},\"mode\":\"markers\",\"name\":\"Central African Republic\",\"scene\":\"scene\",\"showlegend\":true,\"x\":[3.68],\"y\":[0],\"z\":[0],\"type\":\"scatter3d\"},{\"hovertemplate\":\"Countries and areas=Chad\\u003cbr\\u003eUnemployment_Rate=%{x}\\u003cbr\\u003eGrade_2_3_Proficiency_Reading=%{y}\\u003cbr\\u003eGrade_2_3_Proficiency_Math=%{z}\\u003cextra\\u003e\\u003c\\u002fextra\\u003e\",\"legendgroup\":\"Chad\",\"marker\":{\"color\":\"#19d3f3\",\"symbol\":\"circle\"},\"mode\":\"markers\",\"name\":\"Chad\",\"scene\":\"scene\",\"showlegend\":true,\"x\":[1.89],\"y\":[18],\"z\":[48],\"type\":\"scatter3d\"},{\"hovertemplate\":\"Countries and areas=Chile\\u003cbr\\u003eUnemployment_Rate=%{x}\\u003cbr\\u003eGrade_2_3_Proficiency_Reading=%{y}\\u003cbr\\u003eGrade_2_3_Proficiency_Math=%{z}\\u003cextra\\u003e\\u003c\\u002fextra\\u003e\",\"legendgroup\":\"Chile\",\"marker\":{\"color\":\"#FF6692\",\"symbol\":\"circle\"},\"mode\":\"markers\",\"name\":\"Chile\",\"scene\":\"scene\",\"showlegend\":true,\"x\":[7.09],\"y\":[94],\"z\":[90],\"type\":\"scatter3d\"},{\"hovertemplate\":\"Countries and areas=China\\u003cbr\\u003eUnemployment_Rate=%{x}\\u003cbr\\u003eGrade_2_3_Proficiency_Reading=%{y}\\u003cbr\\u003eGrade_2_3_Proficiency_Math=%{z}\\u003cextra\\u003e\\u003c\\u002fextra\\u003e\",\"legendgroup\":\"China\",\"marker\":{\"color\":\"#B6E880\",\"symbol\":\"circle\"},\"mode\":\"markers\",\"name\":\"China\",\"scene\":\"scene\",\"showlegend\":true,\"x\":[4.32],\"y\":[82],\"z\":[85],\"type\":\"scatter3d\"},{\"hovertemplate\":\"Countries and areas=Colombia\\u003cbr\\u003eUnemployment_Rate=%{x}\\u003cbr\\u003eGrade_2_3_Proficiency_Reading=%{y}\\u003cbr\\u003eGrade_2_3_Proficiency_Math=%{z}\\u003cextra\\u003e\\u003c\\u002fextra\\u003e\",\"legendgroup\":\"Colombia\",\"marker\":{\"color\":\"#FF97FF\",\"symbol\":\"circle\"},\"mode\":\"markers\",\"name\":\"Colombia\",\"scene\":\"scene\",\"showlegend\":true,\"x\":[9.71],\"y\":[79],\"z\":[64],\"type\":\"scatter3d\"},{\"hovertemplate\":\"Countries and areas=Comoros\\u003cbr\\u003eUnemployment_Rate=%{x}\\u003cbr\\u003eGrade_2_3_Proficiency_Reading=%{y}\\u003cbr\\u003eGrade_2_3_Proficiency_Math=%{z}\\u003cextra\\u003e\\u003c\\u002fextra\\u003e\",\"legendgroup\":\"Comoros\",\"marker\":{\"color\":\"#FECB52\",\"symbol\":\"circle\"},\"mode\":\"markers\",\"name\":\"Comoros\",\"scene\":\"scene\",\"showlegend\":true,\"x\":[4.34],\"y\":[0],\"z\":[0],\"type\":\"scatter3d\"},{\"hovertemplate\":\"Countries and areas=Republic of the Congo\\u003cbr\\u003eUnemployment_Rate=%{x}\\u003cbr\\u003eGrade_2_3_Proficiency_Reading=%{y}\\u003cbr\\u003eGrade_2_3_Proficiency_Math=%{z}\\u003cextra\\u003e\\u003c\\u002fextra\\u003e\",\"legendgroup\":\"Republic of the Congo\",\"marker\":{\"color\":\"#636efa\",\"symbol\":\"circle\"},\"mode\":\"markers\",\"name\":\"Republic of the Congo\",\"scene\":\"scene\",\"showlegend\":true,\"x\":[9.47],\"y\":[38],\"z\":[72],\"type\":\"scatter3d\"},{\"hovertemplate\":\"Countries and areas=Cook Islands\\u003cbr\\u003eUnemployment_Rate=%{x}\\u003cbr\\u003eGrade_2_3_Proficiency_Reading=%{y}\\u003cbr\\u003eGrade_2_3_Proficiency_Math=%{z}\\u003cextra\\u003e\\u003c\\u002fextra\\u003e\",\"legendgroup\":\"Cook Islands\",\"marker\":{\"color\":\"#EF553B\",\"symbol\":\"circle\"},\"mode\":\"markers\",\"name\":\"Cook Islands\",\"scene\":\"scene\",\"showlegend\":true,\"x\":[0.0],\"y\":[0],\"z\":[0],\"type\":\"scatter3d\"},{\"hovertemplate\":\"Countries and areas=Costa Rica\\u003cbr\\u003eUnemployment_Rate=%{x}\\u003cbr\\u003eGrade_2_3_Proficiency_Reading=%{y}\\u003cbr\\u003eGrade_2_3_Proficiency_Math=%{z}\\u003cextra\\u003e\\u003c\\u002fextra\\u003e\",\"legendgroup\":\"Costa Rica\",\"marker\":{\"color\":\"#00cc96\",\"symbol\":\"circle\"},\"mode\":\"markers\",\"name\":\"Costa Rica\",\"scene\":\"scene\",\"showlegend\":true,\"x\":[11.85],\"y\":[89],\"z\":[84],\"type\":\"scatter3d\"},{\"hovertemplate\":\"Countries and areas=Ivory Coast\\u003cbr\\u003eUnemployment_Rate=%{x}\\u003cbr\\u003eGrade_2_3_Proficiency_Reading=%{y}\\u003cbr\\u003eGrade_2_3_Proficiency_Math=%{z}\\u003cextra\\u003e\\u003c\\u002fextra\\u003e\",\"legendgroup\":\"Ivory Coast\",\"marker\":{\"color\":\"#ab63fa\",\"symbol\":\"circle\"},\"mode\":\"markers\",\"name\":\"Ivory Coast\",\"scene\":\"scene\",\"showlegend\":true,\"x\":[3.32],\"y\":[17],\"z\":[33],\"type\":\"scatter3d\"},{\"hovertemplate\":\"Countries and areas=Croatia\\u003cbr\\u003eUnemployment_Rate=%{x}\\u003cbr\\u003eGrade_2_3_Proficiency_Reading=%{y}\\u003cbr\\u003eGrade_2_3_Proficiency_Math=%{z}\\u003cextra\\u003e\\u003c\\u002fextra\\u003e\",\"legendgroup\":\"Croatia\",\"marker\":{\"color\":\"#FFA15A\",\"symbol\":\"circle\"},\"mode\":\"markers\",\"name\":\"Croatia\",\"scene\":\"scene\",\"showlegend\":true,\"x\":[6.93],\"y\":[0],\"z\":[0],\"type\":\"scatter3d\"},{\"hovertemplate\":\"Countries and areas=Cuba\\u003cbr\\u003eUnemployment_Rate=%{x}\\u003cbr\\u003eGrade_2_3_Proficiency_Reading=%{y}\\u003cbr\\u003eGrade_2_3_Proficiency_Math=%{z}\\u003cextra\\u003e\\u003c\\u002fextra\\u003e\",\"legendgroup\":\"Cuba\",\"marker\":{\"color\":\"#19d3f3\",\"symbol\":\"circle\"},\"mode\":\"markers\",\"name\":\"Cuba\",\"scene\":\"scene\",\"showlegend\":true,\"x\":[1.64],\"y\":[0],\"z\":[0],\"type\":\"scatter3d\"},{\"hovertemplate\":\"Countries and areas=Cyprus\\u003cbr\\u003eUnemployment_Rate=%{x}\\u003cbr\\u003eGrade_2_3_Proficiency_Reading=%{y}\\u003cbr\\u003eGrade_2_3_Proficiency_Math=%{z}\\u003cextra\\u003e\\u003c\\u002fextra\\u003e\",\"legendgroup\":\"Cyprus\",\"marker\":{\"color\":\"#FF6692\",\"symbol\":\"circle\"},\"mode\":\"markers\",\"name\":\"Cyprus\",\"scene\":\"scene\",\"showlegend\":true,\"x\":[7.27],\"y\":[0],\"z\":[74],\"type\":\"scatter3d\"},{\"hovertemplate\":\"Countries and areas=Czech Republic\\u003cbr\\u003eUnemployment_Rate=%{x}\\u003cbr\\u003eGrade_2_3_Proficiency_Reading=%{y}\\u003cbr\\u003eGrade_2_3_Proficiency_Math=%{z}\\u003cextra\\u003e\\u003c\\u002fextra\\u003e\",\"legendgroup\":\"Czech Republic\",\"marker\":{\"color\":\"#B6E880\",\"symbol\":\"circle\"},\"mode\":\"markers\",\"name\":\"Czech Republic\",\"scene\":\"scene\",\"showlegend\":true,\"x\":[1.93],\"y\":[97],\"z\":[78],\"type\":\"scatter3d\"},{\"hovertemplate\":\"Countries and areas=North Korea\\u003cbr\\u003eUnemployment_Rate=%{x}\\u003cbr\\u003eGrade_2_3_Proficiency_Reading=%{y}\\u003cbr\\u003eGrade_2_3_Proficiency_Math=%{z}\\u003cextra\\u003e\\u003c\\u002fextra\\u003e\",\"legendgroup\":\"North Korea\",\"marker\":{\"color\":\"#FF97FF\",\"symbol\":\"circle\"},\"mode\":\"markers\",\"name\":\"North Korea\",\"scene\":\"scene\",\"showlegend\":true,\"x\":[2.74],\"y\":[94],\"z\":[0],\"type\":\"scatter3d\"},{\"hovertemplate\":\"Countries and areas=Democratic Republic of the Congo\\u003cbr\\u003eUnemployment_Rate=%{x}\\u003cbr\\u003eGrade_2_3_Proficiency_Reading=%{y}\\u003cbr\\u003eGrade_2_3_Proficiency_Math=%{z}\\u003cextra\\u003e\\u003c\\u002fextra\\u003e\",\"legendgroup\":\"Democratic Republic of the Congo\",\"marker\":{\"color\":\"#FECB52\",\"symbol\":\"circle\"},\"mode\":\"markers\",\"name\":\"Democratic Republic of the Congo\",\"scene\":\"scene\",\"showlegend\":true,\"x\":[4.24],\"y\":[0],\"z\":[0],\"type\":\"scatter3d\"},{\"hovertemplate\":\"Countries and areas=Denmark\\u003cbr\\u003eUnemployment_Rate=%{x}\\u003cbr\\u003eGrade_2_3_Proficiency_Reading=%{y}\\u003cbr\\u003eGrade_2_3_Proficiency_Math=%{z}\\u003cextra\\u003e\\u003c\\u002fextra\\u003e\",\"legendgroup\":\"Denmark\",\"marker\":{\"color\":\"#636efa\",\"symbol\":\"circle\"},\"mode\":\"markers\",\"name\":\"Denmark\",\"scene\":\"scene\",\"showlegend\":true,\"x\":[4.91],\"y\":[97],\"z\":[80],\"type\":\"scatter3d\"},{\"hovertemplate\":\"Countries and areas=Djibouti\\u003cbr\\u003eUnemployment_Rate=%{x}\\u003cbr\\u003eGrade_2_3_Proficiency_Reading=%{y}\\u003cbr\\u003eGrade_2_3_Proficiency_Math=%{z}\\u003cextra\\u003e\\u003c\\u002fextra\\u003e\",\"legendgroup\":\"Djibouti\",\"marker\":{\"color\":\"#EF553B\",\"symbol\":\"circle\"},\"mode\":\"markers\",\"name\":\"Djibouti\",\"scene\":\"scene\",\"showlegend\":true,\"x\":[10.3],\"y\":[0],\"z\":[0],\"type\":\"scatter3d\"},{\"hovertemplate\":\"Countries and areas=Dominica\\u003cbr\\u003eUnemployment_Rate=%{x}\\u003cbr\\u003eGrade_2_3_Proficiency_Reading=%{y}\\u003cbr\\u003eGrade_2_3_Proficiency_Math=%{z}\\u003cextra\\u003e\\u003c\\u002fextra\\u003e\",\"legendgroup\":\"Dominica\",\"marker\":{\"color\":\"#00cc96\",\"symbol\":\"circle\"},\"mode\":\"markers\",\"name\":\"Dominica\",\"scene\":\"scene\",\"showlegend\":true,\"x\":[0.0],\"y\":[0],\"z\":[0],\"type\":\"scatter3d\"},{\"hovertemplate\":\"Countries and areas=Dominican Republic\\u003cbr\\u003eUnemployment_Rate=%{x}\\u003cbr\\u003eGrade_2_3_Proficiency_Reading=%{y}\\u003cbr\\u003eGrade_2_3_Proficiency_Math=%{z}\\u003cextra\\u003e\\u003c\\u002fextra\\u003e\",\"legendgroup\":\"Dominican Republic\",\"marker\":{\"color\":\"#ab63fa\",\"symbol\":\"circle\"},\"mode\":\"markers\",\"name\":\"Dominican Republic\",\"scene\":\"scene\",\"showlegend\":true,\"x\":[5.84],\"y\":[44],\"z\":[25],\"type\":\"scatter3d\"},{\"hovertemplate\":\"Countries and areas=Ecuador\\u003cbr\\u003eUnemployment_Rate=%{x}\\u003cbr\\u003eGrade_2_3_Proficiency_Reading=%{y}\\u003cbr\\u003eGrade_2_3_Proficiency_Math=%{z}\\u003cextra\\u003e\\u003c\\u002fextra\\u003e\",\"legendgroup\":\"Ecuador\",\"marker\":{\"color\":\"#FFA15A\",\"symbol\":\"circle\"},\"mode\":\"markers\",\"name\":\"Ecuador\",\"scene\":\"scene\",\"showlegend\":true,\"x\":[3.97],\"y\":[74],\"z\":[65],\"type\":\"scatter3d\"},{\"hovertemplate\":\"Countries and areas=Egypt\\u003cbr\\u003eUnemployment_Rate=%{x}\\u003cbr\\u003eGrade_2_3_Proficiency_Reading=%{y}\\u003cbr\\u003eGrade_2_3_Proficiency_Math=%{z}\\u003cextra\\u003e\\u003c\\u002fextra\\u003e\",\"legendgroup\":\"Egypt\",\"marker\":{\"color\":\"#19d3f3\",\"symbol\":\"circle\"},\"mode\":\"markers\",\"name\":\"Egypt\",\"scene\":\"scene\",\"showlegend\":true,\"x\":[10.76],\"y\":[0],\"z\":[0],\"type\":\"scatter3d\"},{\"hovertemplate\":\"Countries and areas=El Salvador\\u003cbr\\u003eUnemployment_Rate=%{x}\\u003cbr\\u003eGrade_2_3_Proficiency_Reading=%{y}\\u003cbr\\u003eGrade_2_3_Proficiency_Math=%{z}\\u003cextra\\u003e\\u003c\\u002fextra\\u003e\",\"legendgroup\":\"El Salvador\",\"marker\":{\"color\":\"#FF6692\",\"symbol\":\"circle\"},\"mode\":\"markers\",\"name\":\"El Salvador\",\"scene\":\"scene\",\"showlegend\":true,\"x\":[4.11],\"y\":[0],\"z\":[0],\"type\":\"scatter3d\"},{\"hovertemplate\":\"Countries and areas=Equatorial Guinea\\u003cbr\\u003eUnemployment_Rate=%{x}\\u003cbr\\u003eGrade_2_3_Proficiency_Reading=%{y}\\u003cbr\\u003eGrade_2_3_Proficiency_Math=%{z}\\u003cextra\\u003e\\u003c\\u002fextra\\u003e\",\"legendgroup\":\"Equatorial Guinea\",\"marker\":{\"color\":\"#B6E880\",\"symbol\":\"circle\"},\"mode\":\"markers\",\"name\":\"Equatorial Guinea\",\"scene\":\"scene\",\"showlegend\":true,\"x\":[6.43],\"y\":[0],\"z\":[0],\"type\":\"scatter3d\"},{\"hovertemplate\":\"Countries and areas=Eritrea\\u003cbr\\u003eUnemployment_Rate=%{x}\\u003cbr\\u003eGrade_2_3_Proficiency_Reading=%{y}\\u003cbr\\u003eGrade_2_3_Proficiency_Math=%{z}\\u003cextra\\u003e\\u003c\\u002fextra\\u003e\",\"legendgroup\":\"Eritrea\",\"marker\":{\"color\":\"#FF97FF\",\"symbol\":\"circle\"},\"mode\":\"markers\",\"name\":\"Eritrea\",\"scene\":\"scene\",\"showlegend\":true,\"x\":[5.14],\"y\":[0],\"z\":[0],\"type\":\"scatter3d\"},{\"hovertemplate\":\"Countries and areas=Estonia\\u003cbr\\u003eUnemployment_Rate=%{x}\\u003cbr\\u003eGrade_2_3_Proficiency_Reading=%{y}\\u003cbr\\u003eGrade_2_3_Proficiency_Math=%{z}\\u003cextra\\u003e\\u003c\\u002fextra\\u003e\",\"legendgroup\":\"Estonia\",\"marker\":{\"color\":\"#FECB52\",\"symbol\":\"circle\"},\"mode\":\"markers\",\"name\":\"Estonia\",\"scene\":\"scene\",\"showlegend\":true,\"x\":[5.11],\"y\":[0],\"z\":[0],\"type\":\"scatter3d\"},{\"hovertemplate\":\"Countries and areas=Eswatini\\u003cbr\\u003eUnemployment_Rate=%{x}\\u003cbr\\u003eGrade_2_3_Proficiency_Reading=%{y}\\u003cbr\\u003eGrade_2_3_Proficiency_Math=%{z}\\u003cextra\\u003e\\u003c\\u002fextra\\u003e\",\"legendgroup\":\"Eswatini\",\"marker\":{\"color\":\"#636efa\",\"symbol\":\"circle\"},\"mode\":\"markers\",\"name\":\"Eswatini\",\"scene\":\"scene\",\"showlegend\":true,\"x\":[0.0],\"y\":[0],\"z\":[0],\"type\":\"scatter3d\"},{\"hovertemplate\":\"Countries and areas=Ethiopia\\u003cbr\\u003eUnemployment_Rate=%{x}\\u003cbr\\u003eGrade_2_3_Proficiency_Reading=%{y}\\u003cbr\\u003eGrade_2_3_Proficiency_Math=%{z}\\u003cextra\\u003e\\u003c\\u002fextra\\u003e\",\"legendgroup\":\"Ethiopia\",\"marker\":{\"color\":\"#EF553B\",\"symbol\":\"circle\"},\"mode\":\"markers\",\"name\":\"Ethiopia\",\"scene\":\"scene\",\"showlegend\":true,\"x\":[2.08],\"y\":[0],\"z\":[0],\"type\":\"scatter3d\"},{\"hovertemplate\":\"Countries and areas=Fiji\\u003cbr\\u003eUnemployment_Rate=%{x}\\u003cbr\\u003eGrade_2_3_Proficiency_Reading=%{y}\\u003cbr\\u003eGrade_2_3_Proficiency_Math=%{z}\\u003cextra\\u003e\\u003c\\u002fextra\\u003e\",\"legendgroup\":\"Fiji\",\"marker\":{\"color\":\"#00cc96\",\"symbol\":\"circle\"},\"mode\":\"markers\",\"name\":\"Fiji\",\"scene\":\"scene\",\"showlegend\":true,\"x\":[4.1],\"y\":[0],\"z\":[0],\"type\":\"scatter3d\"},{\"hovertemplate\":\"Countries and areas=Finland\\u003cbr\\u003eUnemployment_Rate=%{x}\\u003cbr\\u003eGrade_2_3_Proficiency_Reading=%{y}\\u003cbr\\u003eGrade_2_3_Proficiency_Math=%{z}\\u003cextra\\u003e\\u003c\\u002fextra\\u003e\",\"legendgroup\":\"Finland\",\"marker\":{\"color\":\"#ab63fa\",\"symbol\":\"circle\"},\"mode\":\"markers\",\"name\":\"Finland\",\"scene\":\"scene\",\"showlegend\":true,\"x\":[6.59],\"y\":[98],\"z\":[82],\"type\":\"scatter3d\"},{\"hovertemplate\":\"Countries and areas=France\\u003cbr\\u003eUnemployment_Rate=%{x}\\u003cbr\\u003eGrade_2_3_Proficiency_Reading=%{y}\\u003cbr\\u003eGrade_2_3_Proficiency_Math=%{z}\\u003cextra\\u003e\\u003c\\u002fextra\\u003e\",\"legendgroup\":\"France\",\"marker\":{\"color\":\"#FFA15A\",\"symbol\":\"circle\"},\"mode\":\"markers\",\"name\":\"France\",\"scene\":\"scene\",\"showlegend\":true,\"x\":[8.43],\"y\":[0],\"z\":[0],\"type\":\"scatter3d\"},{\"hovertemplate\":\"Countries and areas=Gabon\\u003cbr\\u003eUnemployment_Rate=%{x}\\u003cbr\\u003eGrade_2_3_Proficiency_Reading=%{y}\\u003cbr\\u003eGrade_2_3_Proficiency_Math=%{z}\\u003cextra\\u003e\\u003c\\u002fextra\\u003e\",\"legendgroup\":\"Gabon\",\"marker\":{\"color\":\"#19d3f3\",\"symbol\":\"circle\"},\"mode\":\"markers\",\"name\":\"Gabon\",\"scene\":\"scene\",\"showlegend\":true,\"x\":[20.0],\"y\":[0],\"z\":[0],\"type\":\"scatter3d\"},{\"hovertemplate\":\"Countries and areas=The Gambia\\u003cbr\\u003eUnemployment_Rate=%{x}\\u003cbr\\u003eGrade_2_3_Proficiency_Reading=%{y}\\u003cbr\\u003eGrade_2_3_Proficiency_Math=%{z}\\u003cextra\\u003e\\u003c\\u002fextra\\u003e\",\"legendgroup\":\"The Gambia\",\"marker\":{\"color\":\"#FF6692\",\"symbol\":\"circle\"},\"mode\":\"markers\",\"name\":\"The Gambia\",\"scene\":\"scene\",\"showlegend\":true,\"x\":[9.06],\"y\":[5],\"z\":[0],\"type\":\"scatter3d\"},{\"hovertemplate\":\"Countries and areas=Georgia\\u003cbr\\u003eUnemployment_Rate=%{x}\\u003cbr\\u003eGrade_2_3_Proficiency_Reading=%{y}\\u003cbr\\u003eGrade_2_3_Proficiency_Math=%{z}\\u003cextra\\u003e\\u003c\\u002fextra\\u003e\",\"legendgroup\":\"Georgia\",\"marker\":{\"color\":\"#B6E880\",\"symbol\":\"circle\"},\"mode\":\"markers\",\"name\":\"Georgia\",\"scene\":\"scene\",\"showlegend\":true,\"x\":[14.4],\"y\":[86],\"z\":[47],\"type\":\"scatter3d\"},{\"hovertemplate\":\"Countries and areas=Germany\\u003cbr\\u003eUnemployment_Rate=%{x}\\u003cbr\\u003eGrade_2_3_Proficiency_Reading=%{y}\\u003cbr\\u003eGrade_2_3_Proficiency_Math=%{z}\\u003cextra\\u003e\\u003c\\u002fextra\\u003e\",\"legendgroup\":\"Germany\",\"marker\":{\"color\":\"#FF97FF\",\"symbol\":\"circle\"},\"mode\":\"markers\",\"name\":\"Germany\",\"scene\":\"scene\",\"showlegend\":true,\"x\":[3.04],\"y\":[0],\"z\":[0],\"type\":\"scatter3d\"},{\"hovertemplate\":\"Countries and areas=Ghana\\u003cbr\\u003eUnemployment_Rate=%{x}\\u003cbr\\u003eGrade_2_3_Proficiency_Reading=%{y}\\u003cbr\\u003eGrade_2_3_Proficiency_Math=%{z}\\u003cextra\\u003e\\u003c\\u002fextra\\u003e\",\"legendgroup\":\"Ghana\",\"marker\":{\"color\":\"#FECB52\",\"symbol\":\"circle\"},\"mode\":\"markers\",\"name\":\"Ghana\",\"scene\":\"scene\",\"showlegend\":true,\"x\":[4.33],\"y\":[0],\"z\":[0],\"type\":\"scatter3d\"},{\"hovertemplate\":\"Countries and areas=Greece\\u003cbr\\u003eUnemployment_Rate=%{x}\\u003cbr\\u003eGrade_2_3_Proficiency_Reading=%{y}\\u003cbr\\u003eGrade_2_3_Proficiency_Math=%{z}\\u003cextra\\u003e\\u003c\\u002fextra\\u003e\",\"legendgroup\":\"Greece\",\"marker\":{\"color\":\"#636efa\",\"symbol\":\"circle\"},\"mode\":\"markers\",\"name\":\"Greece\",\"scene\":\"scene\",\"showlegend\":true,\"x\":[17.24],\"y\":[0],\"z\":[0],\"type\":\"scatter3d\"},{\"hovertemplate\":\"Countries and areas=Grenada\\u003cbr\\u003eUnemployment_Rate=%{x}\\u003cbr\\u003eGrade_2_3_Proficiency_Reading=%{y}\\u003cbr\\u003eGrade_2_3_Proficiency_Math=%{z}\\u003cextra\\u003e\\u003c\\u002fextra\\u003e\",\"legendgroup\":\"Grenada\",\"marker\":{\"color\":\"#EF553B\",\"symbol\":\"circle\"},\"mode\":\"markers\",\"name\":\"Grenada\",\"scene\":\"scene\",\"showlegend\":true,\"x\":[0.0],\"y\":[0],\"z\":[0],\"type\":\"scatter3d\"},{\"hovertemplate\":\"Countries and areas=Guatemala\\u003cbr\\u003eUnemployment_Rate=%{x}\\u003cbr\\u003eGrade_2_3_Proficiency_Reading=%{y}\\u003cbr\\u003eGrade_2_3_Proficiency_Math=%{z}\\u003cextra\\u003e\\u003c\\u002fextra\\u003e\",\"legendgroup\":\"Guatemala\",\"marker\":{\"color\":\"#00cc96\",\"symbol\":\"circle\"},\"mode\":\"markers\",\"name\":\"Guatemala\",\"scene\":\"scene\",\"showlegend\":true,\"x\":[2.46],\"y\":[68],\"z\":[52],\"type\":\"scatter3d\"},{\"hovertemplate\":\"Countries and areas=Guinea\\u003cbr\\u003eUnemployment_Rate=%{x}\\u003cbr\\u003eGrade_2_3_Proficiency_Reading=%{y}\\u003cbr\\u003eGrade_2_3_Proficiency_Math=%{z}\\u003cextra\\u003e\\u003c\\u002fextra\\u003e\",\"legendgroup\":\"Guinea\",\"marker\":{\"color\":\"#ab63fa\",\"symbol\":\"circle\"},\"mode\":\"markers\",\"name\":\"Guinea\",\"scene\":\"scene\",\"showlegend\":true,\"x\":[4.3],\"y\":[0],\"z\":[0],\"type\":\"scatter3d\"},{\"hovertemplate\":\"Countries and areas=Guinea0Bissau\\u003cbr\\u003eUnemployment_Rate=%{x}\\u003cbr\\u003eGrade_2_3_Proficiency_Reading=%{y}\\u003cbr\\u003eGrade_2_3_Proficiency_Math=%{z}\\u003cextra\\u003e\\u003c\\u002fextra\\u003e\",\"legendgroup\":\"Guinea0Bissau\",\"marker\":{\"color\":\"#FFA15A\",\"symbol\":\"circle\"},\"mode\":\"markers\",\"name\":\"Guinea0Bissau\",\"scene\":\"scene\",\"showlegend\":true,\"x\":[2.47],\"y\":[0],\"z\":[0],\"type\":\"scatter3d\"},{\"hovertemplate\":\"Countries and areas=Guyana\\u003cbr\\u003eUnemployment_Rate=%{x}\\u003cbr\\u003eGrade_2_3_Proficiency_Reading=%{y}\\u003cbr\\u003eGrade_2_3_Proficiency_Math=%{z}\\u003cextra\\u003e\\u003c\\u002fextra\\u003e\",\"legendgroup\":\"Guyana\",\"marker\":{\"color\":\"#19d3f3\",\"symbol\":\"circle\"},\"mode\":\"markers\",\"name\":\"Guyana\",\"scene\":\"scene\",\"showlegend\":true,\"x\":[11.85],\"y\":[0],\"z\":[0],\"type\":\"scatter3d\"},{\"hovertemplate\":\"Countries and areas=Haiti\\u003cbr\\u003eUnemployment_Rate=%{x}\\u003cbr\\u003eGrade_2_3_Proficiency_Reading=%{y}\\u003cbr\\u003eGrade_2_3_Proficiency_Math=%{z}\\u003cextra\\u003e\\u003c\\u002fextra\\u003e\",\"legendgroup\":\"Haiti\",\"marker\":{\"color\":\"#FF6692\",\"symbol\":\"circle\"},\"mode\":\"markers\",\"name\":\"Haiti\",\"scene\":\"scene\",\"showlegend\":true,\"x\":[13.78],\"y\":[0],\"z\":[0],\"type\":\"scatter3d\"},{\"hovertemplate\":\"Countries and areas=Vatican City\\u003cbr\\u003eUnemployment_Rate=%{x}\\u003cbr\\u003eGrade_2_3_Proficiency_Reading=%{y}\\u003cbr\\u003eGrade_2_3_Proficiency_Math=%{z}\\u003cextra\\u003e\\u003c\\u002fextra\\u003e\",\"legendgroup\":\"Vatican City\",\"marker\":{\"color\":\"#B6E880\",\"symbol\":\"circle\"},\"mode\":\"markers\",\"name\":\"Vatican City\",\"scene\":\"scene\",\"showlegend\":true,\"x\":[0.0],\"y\":[0],\"z\":[0],\"type\":\"scatter3d\"},{\"hovertemplate\":\"Countries and areas=Honduras\\u003cbr\\u003eUnemployment_Rate=%{x}\\u003cbr\\u003eGrade_2_3_Proficiency_Reading=%{y}\\u003cbr\\u003eGrade_2_3_Proficiency_Math=%{z}\\u003cextra\\u003e\\u003c\\u002fextra\\u003e\",\"legendgroup\":\"Honduras\",\"marker\":{\"color\":\"#FF97FF\",\"symbol\":\"circle\"},\"mode\":\"markers\",\"name\":\"Honduras\",\"scene\":\"scene\",\"showlegend\":true,\"x\":[5.39],\"y\":[70],\"z\":[57],\"type\":\"scatter3d\"},{\"hovertemplate\":\"Countries and areas=Hungary\\u003cbr\\u003eUnemployment_Rate=%{x}\\u003cbr\\u003eGrade_2_3_Proficiency_Reading=%{y}\\u003cbr\\u003eGrade_2_3_Proficiency_Math=%{z}\\u003cextra\\u003e\\u003c\\u002fextra\\u003e\",\"legendgroup\":\"Hungary\",\"marker\":{\"color\":\"#FECB52\",\"symbol\":\"circle\"},\"mode\":\"markers\",\"name\":\"Hungary\",\"scene\":\"scene\",\"showlegend\":true,\"x\":[3.4],\"y\":[0],\"z\":[0],\"type\":\"scatter3d\"},{\"hovertemplate\":\"Countries and areas=Iceland\\u003cbr\\u003eUnemployment_Rate=%{x}\\u003cbr\\u003eGrade_2_3_Proficiency_Reading=%{y}\\u003cbr\\u003eGrade_2_3_Proficiency_Math=%{z}\\u003cextra\\u003e\\u003c\\u002fextra\\u003e\",\"legendgroup\":\"Iceland\",\"marker\":{\"color\":\"#636efa\",\"symbol\":\"circle\"},\"mode\":\"markers\",\"name\":\"Iceland\",\"scene\":\"scene\",\"showlegend\":true,\"x\":[2.84],\"y\":[0],\"z\":[0],\"type\":\"scatter3d\"},{\"hovertemplate\":\"Countries and areas=India\\u003cbr\\u003eUnemployment_Rate=%{x}\\u003cbr\\u003eGrade_2_3_Proficiency_Reading=%{y}\\u003cbr\\u003eGrade_2_3_Proficiency_Math=%{z}\\u003cextra\\u003e\\u003c\\u002fextra\\u003e\",\"legendgroup\":\"India\",\"marker\":{\"color\":\"#EF553B\",\"symbol\":\"circle\"},\"mode\":\"markers\",\"name\":\"India\",\"scene\":\"scene\",\"showlegend\":true,\"x\":[5.36],\"y\":[47],\"z\":[53],\"type\":\"scatter3d\"},{\"hovertemplate\":\"Countries and areas=Indonesia\\u003cbr\\u003eUnemployment_Rate=%{x}\\u003cbr\\u003eGrade_2_3_Proficiency_Reading=%{y}\\u003cbr\\u003eGrade_2_3_Proficiency_Math=%{z}\\u003cextra\\u003e\\u003c\\u002fextra\\u003e\",\"legendgroup\":\"Indonesia\",\"marker\":{\"color\":\"#00cc96\",\"symbol\":\"circle\"},\"mode\":\"markers\",\"name\":\"Indonesia\",\"scene\":\"scene\",\"showlegend\":true,\"x\":[4.69],\"y\":[0],\"z\":[18],\"type\":\"scatter3d\"},{\"hovertemplate\":\"Countries and areas=Iran\\u003cbr\\u003eUnemployment_Rate=%{x}\\u003cbr\\u003eGrade_2_3_Proficiency_Reading=%{y}\\u003cbr\\u003eGrade_2_3_Proficiency_Math=%{z}\\u003cextra\\u003e\\u003c\\u002fextra\\u003e\",\"legendgroup\":\"Iran\",\"marker\":{\"color\":\"#ab63fa\",\"symbol\":\"circle\"},\"mode\":\"markers\",\"name\":\"Iran\",\"scene\":\"scene\",\"showlegend\":true,\"x\":[11.38],\"y\":[66],\"z\":[33],\"type\":\"scatter3d\"},{\"hovertemplate\":\"Countries and areas=Iraq\\u003cbr\\u003eUnemployment_Rate=%{x}\\u003cbr\\u003eGrade_2_3_Proficiency_Reading=%{y}\\u003cbr\\u003eGrade_2_3_Proficiency_Math=%{z}\\u003cextra\\u003e\\u003c\\u002fextra\\u003e\",\"legendgroup\":\"Iraq\",\"marker\":{\"color\":\"#FFA15A\",\"symbol\":\"circle\"},\"mode\":\"markers\",\"name\":\"Iraq\",\"scene\":\"scene\",\"showlegend\":true,\"x\":[12.82],\"y\":[0],\"z\":[0],\"type\":\"scatter3d\"},{\"hovertemplate\":\"Countries and areas=Republic of Ireland\\u003cbr\\u003eUnemployment_Rate=%{x}\\u003cbr\\u003eGrade_2_3_Proficiency_Reading=%{y}\\u003cbr\\u003eGrade_2_3_Proficiency_Math=%{z}\\u003cextra\\u003e\\u003c\\u002fextra\\u003e\",\"legendgroup\":\"Republic of Ireland\",\"marker\":{\"color\":\"#19d3f3\",\"symbol\":\"circle\"},\"mode\":\"markers\",\"name\":\"Republic of Ireland\",\"scene\":\"scene\",\"showlegend\":true,\"x\":[4.93],\"y\":[98],\"z\":[84],\"type\":\"scatter3d\"},{\"hovertemplate\":\"Countries and areas=Israel\\u003cbr\\u003eUnemployment_Rate=%{x}\\u003cbr\\u003eGrade_2_3_Proficiency_Reading=%{y}\\u003cbr\\u003eGrade_2_3_Proficiency_Math=%{z}\\u003cextra\\u003e\\u003c\\u002fextra\\u003e\",\"legendgroup\":\"Israel\",\"marker\":{\"color\":\"#FF6692\",\"symbol\":\"circle\"},\"mode\":\"markers\",\"name\":\"Israel\",\"scene\":\"scene\",\"showlegend\":true,\"x\":[3.86],\"y\":[91],\"z\":[0],\"type\":\"scatter3d\"},{\"hovertemplate\":\"Countries and areas=Italy\\u003cbr\\u003eUnemployment_Rate=%{x}\\u003cbr\\u003eGrade_2_3_Proficiency_Reading=%{y}\\u003cbr\\u003eGrade_2_3_Proficiency_Math=%{z}\\u003cextra\\u003e\\u003c\\u002fextra\\u003e\",\"legendgroup\":\"Italy\",\"marker\":{\"color\":\"#B6E880\",\"symbol\":\"circle\"},\"mode\":\"markers\",\"name\":\"Italy\",\"scene\":\"scene\",\"showlegend\":true,\"x\":[9.89],\"y\":[98],\"z\":[69],\"type\":\"scatter3d\"},{\"hovertemplate\":\"Countries and areas=Jamaica\\u003cbr\\u003eUnemployment_Rate=%{x}\\u003cbr\\u003eGrade_2_3_Proficiency_Reading=%{y}\\u003cbr\\u003eGrade_2_3_Proficiency_Math=%{z}\\u003cextra\\u003e\\u003c\\u002fextra\\u003e\",\"legendgroup\":\"Jamaica\",\"marker\":{\"color\":\"#FF97FF\",\"symbol\":\"circle\"},\"mode\":\"markers\",\"name\":\"Jamaica\",\"scene\":\"scene\",\"showlegend\":true,\"x\":[8.0],\"y\":[0],\"z\":[0],\"type\":\"scatter3d\"},{\"hovertemplate\":\"Countries and areas=Japan\\u003cbr\\u003eUnemployment_Rate=%{x}\\u003cbr\\u003eGrade_2_3_Proficiency_Reading=%{y}\\u003cbr\\u003eGrade_2_3_Proficiency_Math=%{z}\\u003cextra\\u003e\\u003c\\u002fextra\\u003e\",\"legendgroup\":\"Japan\",\"marker\":{\"color\":\"#FECB52\",\"symbol\":\"circle\"},\"mode\":\"markers\",\"name\":\"Japan\",\"scene\":\"scene\",\"showlegend\":true,\"x\":[2.29],\"y\":[0],\"z\":[95],\"type\":\"scatter3d\"},{\"hovertemplate\":\"Countries and areas=Jordan\\u003cbr\\u003eUnemployment_Rate=%{x}\\u003cbr\\u003eGrade_2_3_Proficiency_Reading=%{y}\\u003cbr\\u003eGrade_2_3_Proficiency_Math=%{z}\\u003cextra\\u003e\\u003c\\u002fextra\\u003e\",\"legendgroup\":\"Jordan\",\"marker\":{\"color\":\"#636efa\",\"symbol\":\"circle\"},\"mode\":\"markers\",\"name\":\"Jordan\",\"scene\":\"scene\",\"showlegend\":true,\"x\":[14.72],\"y\":[0],\"z\":[0],\"type\":\"scatter3d\"},{\"hovertemplate\":\"Countries and areas=Kazakhstan\\u003cbr\\u003eUnemployment_Rate=%{x}\\u003cbr\\u003eGrade_2_3_Proficiency_Reading=%{y}\\u003cbr\\u003eGrade_2_3_Proficiency_Math=%{z}\\u003cextra\\u003e\\u003c\\u002fextra\\u003e\",\"legendgroup\":\"Kazakhstan\",\"marker\":{\"color\":\"#EF553B\",\"symbol\":\"circle\"},\"mode\":\"markers\",\"name\":\"Kazakhstan\",\"scene\":\"scene\",\"showlegend\":true,\"x\":[4.59],\"y\":[0],\"z\":[0],\"type\":\"scatter3d\"},{\"hovertemplate\":\"Countries and areas=Kenya\\u003cbr\\u003eUnemployment_Rate=%{x}\\u003cbr\\u003eGrade_2_3_Proficiency_Reading=%{y}\\u003cbr\\u003eGrade_2_3_Proficiency_Math=%{z}\\u003cextra\\u003e\\u003c\\u002fextra\\u003e\",\"legendgroup\":\"Kenya\",\"marker\":{\"color\":\"#00cc96\",\"symbol\":\"circle\"},\"mode\":\"markers\",\"name\":\"Kenya\",\"scene\":\"scene\",\"showlegend\":true,\"x\":[2.64],\"y\":[53],\"z\":[42],\"type\":\"scatter3d\"},{\"hovertemplate\":\"Countries and areas=Kiribati\\u003cbr\\u003eUnemployment_Rate=%{x}\\u003cbr\\u003eGrade_2_3_Proficiency_Reading=%{y}\\u003cbr\\u003eGrade_2_3_Proficiency_Math=%{z}\\u003cextra\\u003e\\u003c\\u002fextra\\u003e\",\"legendgroup\":\"Kiribati\",\"marker\":{\"color\":\"#ab63fa\",\"symbol\":\"circle\"},\"mode\":\"markers\",\"name\":\"Kiribati\",\"scene\":\"scene\",\"showlegend\":true,\"x\":[0.0],\"y\":[0],\"z\":[0],\"type\":\"scatter3d\"},{\"hovertemplate\":\"Countries and areas=Kuwait\\u003cbr\\u003eUnemployment_Rate=%{x}\\u003cbr\\u003eGrade_2_3_Proficiency_Reading=%{y}\\u003cbr\\u003eGrade_2_3_Proficiency_Math=%{z}\\u003cextra\\u003e\\u003c\\u002fextra\\u003e\",\"legendgroup\":\"Kuwait\",\"marker\":{\"color\":\"#FFA15A\",\"symbol\":\"circle\"},\"mode\":\"markers\",\"name\":\"Kuwait\",\"scene\":\"scene\",\"showlegend\":true,\"x\":[2.18],\"y\":[0],\"z\":[12],\"type\":\"scatter3d\"},{\"hovertemplate\":\"Countries and areas=Kyrgyzstan\\u003cbr\\u003eUnemployment_Rate=%{x}\\u003cbr\\u003eGrade_2_3_Proficiency_Reading=%{y}\\u003cbr\\u003eGrade_2_3_Proficiency_Math=%{z}\\u003cextra\\u003e\\u003c\\u002fextra\\u003e\",\"legendgroup\":\"Kyrgyzstan\",\"marker\":{\"color\":\"#19d3f3\",\"symbol\":\"circle\"},\"mode\":\"markers\",\"name\":\"Kyrgyzstan\",\"scene\":\"scene\",\"showlegend\":true,\"x\":[6.33],\"y\":[39],\"z\":[0],\"type\":\"scatter3d\"},{\"hovertemplate\":\"Countries and areas=Laos\\u003cbr\\u003eUnemployment_Rate=%{x}\\u003cbr\\u003eGrade_2_3_Proficiency_Reading=%{y}\\u003cbr\\u003eGrade_2_3_Proficiency_Math=%{z}\\u003cextra\\u003e\\u003c\\u002fextra\\u003e\",\"legendgroup\":\"Laos\",\"marker\":{\"color\":\"#FF6692\",\"symbol\":\"circle\"},\"mode\":\"markers\",\"name\":\"Laos\",\"scene\":\"scene\",\"showlegend\":true,\"x\":[0.63],\"y\":[0],\"z\":[0],\"type\":\"scatter3d\"},{\"hovertemplate\":\"Countries and areas=Latvia\\u003cbr\\u003eUnemployment_Rate=%{x}\\u003cbr\\u003eGrade_2_3_Proficiency_Reading=%{y}\\u003cbr\\u003eGrade_2_3_Proficiency_Math=%{z}\\u003cextra\\u003e\\u003c\\u002fextra\\u003e\",\"legendgroup\":\"Latvia\",\"marker\":{\"color\":\"#B6E880\",\"symbol\":\"circle\"},\"mode\":\"markers\",\"name\":\"Latvia\",\"scene\":\"scene\",\"showlegend\":true,\"x\":[6.52],\"y\":[99],\"z\":[0],\"type\":\"scatter3d\"},{\"hovertemplate\":\"Countries and areas=Lebanon\\u003cbr\\u003eUnemployment_Rate=%{x}\\u003cbr\\u003eGrade_2_3_Proficiency_Reading=%{y}\\u003cbr\\u003eGrade_2_3_Proficiency_Math=%{z}\\u003cextra\\u003e\\u003c\\u002fextra\\u003e\",\"legendgroup\":\"Lebanon\",\"marker\":{\"color\":\"#FF97FF\",\"symbol\":\"circle\"},\"mode\":\"markers\",\"name\":\"Lebanon\",\"scene\":\"scene\",\"showlegend\":true,\"x\":[6.23],\"y\":[0],\"z\":[0],\"type\":\"scatter3d\"},{\"hovertemplate\":\"Countries and areas=Lesotho\\u003cbr\\u003eUnemployment_Rate=%{x}\\u003cbr\\u003eGrade_2_3_Proficiency_Reading=%{y}\\u003cbr\\u003eGrade_2_3_Proficiency_Math=%{z}\\u003cextra\\u003e\\u003c\\u002fextra\\u003e\",\"legendgroup\":\"Lesotho\",\"marker\":{\"color\":\"#FECB52\",\"symbol\":\"circle\"},\"mode\":\"markers\",\"name\":\"Lesotho\",\"scene\":\"scene\",\"showlegend\":true,\"x\":[23.41],\"y\":[13],\"z\":[0],\"type\":\"scatter3d\"},{\"hovertemplate\":\"Countries and areas=Liberia\\u003cbr\\u003eUnemployment_Rate=%{x}\\u003cbr\\u003eGrade_2_3_Proficiency_Reading=%{y}\\u003cbr\\u003eGrade_2_3_Proficiency_Math=%{z}\\u003cextra\\u003e\\u003c\\u002fextra\\u003e\",\"legendgroup\":\"Liberia\",\"marker\":{\"color\":\"#636efa\",\"symbol\":\"circle\"},\"mode\":\"markers\",\"name\":\"Liberia\",\"scene\":\"scene\",\"showlegend\":true,\"x\":[2.81],\"y\":[0],\"z\":[0],\"type\":\"scatter3d\"},{\"hovertemplate\":\"Countries and areas=Libya\\u003cbr\\u003eUnemployment_Rate=%{x}\\u003cbr\\u003eGrade_2_3_Proficiency_Reading=%{y}\\u003cbr\\u003eGrade_2_3_Proficiency_Math=%{z}\\u003cextra\\u003e\\u003c\\u002fextra\\u003e\",\"legendgroup\":\"Libya\",\"marker\":{\"color\":\"#EF553B\",\"symbol\":\"circle\"},\"mode\":\"markers\",\"name\":\"Libya\",\"scene\":\"scene\",\"showlegend\":true,\"x\":[18.56],\"y\":[0],\"z\":[0],\"type\":\"scatter3d\"},{\"hovertemplate\":\"Countries and areas=Liechtenstein\\u003cbr\\u003eUnemployment_Rate=%{x}\\u003cbr\\u003eGrade_2_3_Proficiency_Reading=%{y}\\u003cbr\\u003eGrade_2_3_Proficiency_Math=%{z}\\u003cextra\\u003e\\u003c\\u002fextra\\u003e\",\"legendgroup\":\"Liechtenstein\",\"marker\":{\"color\":\"#00cc96\",\"symbol\":\"circle\"},\"mode\":\"markers\",\"name\":\"Liechtenstein\",\"scene\":\"scene\",\"showlegend\":true,\"x\":[0.0],\"y\":[0],\"z\":[0],\"type\":\"scatter3d\"},{\"hovertemplate\":\"Countries and areas=Lithuania\\u003cbr\\u003eUnemployment_Rate=%{x}\\u003cbr\\u003eGrade_2_3_Proficiency_Reading=%{y}\\u003cbr\\u003eGrade_2_3_Proficiency_Math=%{z}\\u003cextra\\u003e\\u003c\\u002fextra\\u003e\",\"legendgroup\":\"Lithuania\",\"marker\":{\"color\":\"#ab63fa\",\"symbol\":\"circle\"},\"mode\":\"markers\",\"name\":\"Lithuania\",\"scene\":\"scene\",\"showlegend\":true,\"x\":[6.35],\"y\":[0],\"z\":[0],\"type\":\"scatter3d\"},{\"hovertemplate\":\"Countries and areas=Luxembourg\\u003cbr\\u003eUnemployment_Rate=%{x}\\u003cbr\\u003eGrade_2_3_Proficiency_Reading=%{y}\\u003cbr\\u003eGrade_2_3_Proficiency_Math=%{z}\\u003cextra\\u003e\\u003c\\u002fextra\\u003e\",\"legendgroup\":\"Luxembourg\",\"marker\":{\"color\":\"#FFA15A\",\"symbol\":\"circle\"},\"mode\":\"markers\",\"name\":\"Luxembourg\",\"scene\":\"scene\",\"showlegend\":true,\"x\":[5.36],\"y\":[0],\"z\":[0],\"type\":\"scatter3d\"},{\"hovertemplate\":\"Countries and areas=Madagascar\\u003cbr\\u003eUnemployment_Rate=%{x}\\u003cbr\\u003eGrade_2_3_Proficiency_Reading=%{y}\\u003cbr\\u003eGrade_2_3_Proficiency_Math=%{z}\\u003cextra\\u003e\\u003c\\u002fextra\\u003e\",\"legendgroup\":\"Madagascar\",\"marker\":{\"color\":\"#19d3f3\",\"symbol\":\"circle\"},\"mode\":\"markers\",\"name\":\"Madagascar\",\"scene\":\"scene\",\"showlegend\":true,\"x\":[1.76],\"y\":[13],\"z\":[0],\"type\":\"scatter3d\"},{\"hovertemplate\":\"Countries and areas=Malawi\\u003cbr\\u003eUnemployment_Rate=%{x}\\u003cbr\\u003eGrade_2_3_Proficiency_Reading=%{y}\\u003cbr\\u003eGrade_2_3_Proficiency_Math=%{z}\\u003cextra\\u003e\\u003c\\u002fextra\\u003e\",\"legendgroup\":\"Malawi\",\"marker\":{\"color\":\"#FF6692\",\"symbol\":\"circle\"},\"mode\":\"markers\",\"name\":\"Malawi\",\"scene\":\"scene\",\"showlegend\":true,\"x\":[5.65],\"y\":[0],\"z\":[0],\"type\":\"scatter3d\"},{\"hovertemplate\":\"Countries and areas=Malaysia\\u003cbr\\u003eUnemployment_Rate=%{x}\\u003cbr\\u003eGrade_2_3_Proficiency_Reading=%{y}\\u003cbr\\u003eGrade_2_3_Proficiency_Math=%{z}\\u003cextra\\u003e\\u003c\\u002fextra\\u003e\",\"legendgroup\":\"Malaysia\",\"marker\":{\"color\":\"#B6E880\",\"symbol\":\"circle\"},\"mode\":\"markers\",\"name\":\"Malaysia\",\"scene\":\"scene\",\"showlegend\":true,\"x\":[3.32],\"y\":[0],\"z\":[0],\"type\":\"scatter3d\"},{\"hovertemplate\":\"Countries and areas=Maldives\\u003cbr\\u003eUnemployment_Rate=%{x}\\u003cbr\\u003eGrade_2_3_Proficiency_Reading=%{y}\\u003cbr\\u003eGrade_2_3_Proficiency_Math=%{z}\\u003cextra\\u003e\\u003c\\u002fextra\\u003e\",\"legendgroup\":\"Maldives\",\"marker\":{\"color\":\"#FF97FF\",\"symbol\":\"circle\"},\"mode\":\"markers\",\"name\":\"Maldives\",\"scene\":\"scene\",\"showlegend\":true,\"x\":[6.14],\"y\":[0],\"z\":[0],\"type\":\"scatter3d\"},{\"hovertemplate\":\"Countries and areas=Mali\\u003cbr\\u003eUnemployment_Rate=%{x}\\u003cbr\\u003eGrade_2_3_Proficiency_Reading=%{y}\\u003cbr\\u003eGrade_2_3_Proficiency_Math=%{z}\\u003cextra\\u003e\\u003c\\u002fextra\\u003e\",\"legendgroup\":\"Mali\",\"marker\":{\"color\":\"#FECB52\",\"symbol\":\"circle\"},\"mode\":\"markers\",\"name\":\"Mali\",\"scene\":\"scene\",\"showlegend\":true,\"x\":[7.22],\"y\":[0],\"z\":[0],\"type\":\"scatter3d\"},{\"hovertemplate\":\"Countries and areas=Malta\\u003cbr\\u003eUnemployment_Rate=%{x}\\u003cbr\\u003eGrade_2_3_Proficiency_Reading=%{y}\\u003cbr\\u003eGrade_2_3_Proficiency_Math=%{z}\\u003cextra\\u003e\\u003c\\u002fextra\\u003e\",\"legendgroup\":\"Malta\",\"marker\":{\"color\":\"#636efa\",\"symbol\":\"circle\"},\"mode\":\"markers\",\"name\":\"Malta\",\"scene\":\"scene\",\"showlegend\":true,\"x\":[3.47],\"y\":[73],\"z\":[0],\"type\":\"scatter3d\"},{\"hovertemplate\":\"Countries and areas=Marshall Islands\\u003cbr\\u003eUnemployment_Rate=%{x}\\u003cbr\\u003eGrade_2_3_Proficiency_Reading=%{y}\\u003cbr\\u003eGrade_2_3_Proficiency_Math=%{z}\\u003cextra\\u003e\\u003c\\u002fextra\\u003e\",\"legendgroup\":\"Marshall Islands\",\"marker\":{\"color\":\"#EF553B\",\"symbol\":\"circle\"},\"mode\":\"markers\",\"name\":\"Marshall Islands\",\"scene\":\"scene\",\"showlegend\":true,\"x\":[0.0],\"y\":[0],\"z\":[0],\"type\":\"scatter3d\"},{\"hovertemplate\":\"Countries and areas=Mauritania\\u003cbr\\u003eUnemployment_Rate=%{x}\\u003cbr\\u003eGrade_2_3_Proficiency_Reading=%{y}\\u003cbr\\u003eGrade_2_3_Proficiency_Math=%{z}\\u003cextra\\u003e\\u003c\\u002fextra\\u003e\",\"legendgroup\":\"Mauritania\",\"marker\":{\"color\":\"#00cc96\",\"symbol\":\"circle\"},\"mode\":\"markers\",\"name\":\"Mauritania\",\"scene\":\"scene\",\"showlegend\":true,\"x\":[9.55],\"y\":[0],\"z\":[0],\"type\":\"scatter3d\"},{\"hovertemplate\":\"Countries and areas=Mauritius\\u003cbr\\u003eUnemployment_Rate=%{x}\\u003cbr\\u003eGrade_2_3_Proficiency_Reading=%{y}\\u003cbr\\u003eGrade_2_3_Proficiency_Math=%{z}\\u003cextra\\u003e\\u003c\\u002fextra\\u003e\",\"legendgroup\":\"Mauritius\",\"marker\":{\"color\":\"#ab63fa\",\"symbol\":\"circle\"},\"mode\":\"markers\",\"name\":\"Mauritius\",\"scene\":\"scene\",\"showlegend\":true,\"x\":[6.67],\"y\":[0],\"z\":[0],\"type\":\"scatter3d\"},{\"hovertemplate\":\"Countries and areas=Mexico\\u003cbr\\u003eUnemployment_Rate=%{x}\\u003cbr\\u003eGrade_2_3_Proficiency_Reading=%{y}\\u003cbr\\u003eGrade_2_3_Proficiency_Math=%{z}\\u003cextra\\u003e\\u003c\\u002fextra\\u003e\",\"legendgroup\":\"Mexico\",\"marker\":{\"color\":\"#FFA15A\",\"symbol\":\"circle\"},\"mode\":\"markers\",\"name\":\"Mexico\",\"scene\":\"scene\",\"showlegend\":true,\"x\":[3.42],\"y\":[78],\"z\":[77],\"type\":\"scatter3d\"},{\"hovertemplate\":\"Countries and areas=Federated States of Micronesia\\u003cbr\\u003eUnemployment_Rate=%{x}\\u003cbr\\u003eGrade_2_3_Proficiency_Reading=%{y}\\u003cbr\\u003eGrade_2_3_Proficiency_Math=%{z}\\u003cextra\\u003e\\u003c\\u002fextra\\u003e\",\"legendgroup\":\"Federated States of Micronesia\",\"marker\":{\"color\":\"#19d3f3\",\"symbol\":\"circle\"},\"mode\":\"markers\",\"name\":\"Federated States of Micronesia\",\"scene\":\"scene\",\"showlegend\":true,\"x\":[0.0],\"y\":[0],\"z\":[0],\"type\":\"scatter3d\"},{\"hovertemplate\":\"Countries and areas=Monaco\\u003cbr\\u003eUnemployment_Rate=%{x}\\u003cbr\\u003eGrade_2_3_Proficiency_Reading=%{y}\\u003cbr\\u003eGrade_2_3_Proficiency_Math=%{z}\\u003cextra\\u003e\\u003c\\u002fextra\\u003e\",\"legendgroup\":\"Monaco\",\"marker\":{\"color\":\"#FF6692\",\"symbol\":\"circle\"},\"mode\":\"markers\",\"name\":\"Monaco\",\"scene\":\"scene\",\"showlegend\":true,\"x\":[0.0],\"y\":[0],\"z\":[0],\"type\":\"scatter3d\"},{\"hovertemplate\":\"Countries and areas=Mongolia\\u003cbr\\u003eUnemployment_Rate=%{x}\\u003cbr\\u003eGrade_2_3_Proficiency_Reading=%{y}\\u003cbr\\u003eGrade_2_3_Proficiency_Math=%{z}\\u003cextra\\u003e\\u003c\\u002fextra\\u003e\",\"legendgroup\":\"Mongolia\",\"marker\":{\"color\":\"#B6E880\",\"symbol\":\"circle\"},\"mode\":\"markers\",\"name\":\"Mongolia\",\"scene\":\"scene\",\"showlegend\":true,\"x\":[6.01],\"y\":[44],\"z\":[0],\"type\":\"scatter3d\"},{\"hovertemplate\":\"Countries and areas=Montenegro\\u003cbr\\u003eUnemployment_Rate=%{x}\\u003cbr\\u003eGrade_2_3_Proficiency_Reading=%{y}\\u003cbr\\u003eGrade_2_3_Proficiency_Math=%{z}\\u003cextra\\u003e\\u003c\\u002fextra\\u003e\",\"legendgroup\":\"Montenegro\",\"marker\":{\"color\":\"#FF97FF\",\"symbol\":\"circle\"},\"mode\":\"markers\",\"name\":\"Montenegro\",\"scene\":\"scene\",\"showlegend\":true,\"x\":[14.88],\"y\":[0],\"z\":[0],\"type\":\"scatter3d\"},{\"hovertemplate\":\"Countries and areas=Montserrat\\u003cbr\\u003eUnemployment_Rate=%{x}\\u003cbr\\u003eGrade_2_3_Proficiency_Reading=%{y}\\u003cbr\\u003eGrade_2_3_Proficiency_Math=%{z}\\u003cextra\\u003e\\u003c\\u002fextra\\u003e\",\"legendgroup\":\"Montserrat\",\"marker\":{\"color\":\"#FECB52\",\"symbol\":\"circle\"},\"mode\":\"markers\",\"name\":\"Montserrat\",\"scene\":\"scene\",\"showlegend\":true,\"x\":[0.0],\"y\":[0],\"z\":[0],\"type\":\"scatter3d\"},{\"hovertemplate\":\"Countries and areas=Morocco\\u003cbr\\u003eUnemployment_Rate=%{x}\\u003cbr\\u003eGrade_2_3_Proficiency_Reading=%{y}\\u003cbr\\u003eGrade_2_3_Proficiency_Math=%{z}\\u003cextra\\u003e\\u003c\\u002fextra\\u003e\",\"legendgroup\":\"Morocco\",\"marker\":{\"color\":\"#636efa\",\"symbol\":\"circle\"},\"mode\":\"markers\",\"name\":\"Morocco\",\"scene\":\"scene\",\"showlegend\":true,\"x\":[9.02],\"y\":[36],\"z\":[16],\"type\":\"scatter3d\"},{\"hovertemplate\":\"Countries and areas=Mozambique\\u003cbr\\u003eUnemployment_Rate=%{x}\\u003cbr\\u003eGrade_2_3_Proficiency_Reading=%{y}\\u003cbr\\u003eGrade_2_3_Proficiency_Math=%{z}\\u003cextra\\u003e\\u003c\\u002fextra\\u003e\",\"legendgroup\":\"Mozambique\",\"marker\":{\"color\":\"#EF553B\",\"symbol\":\"circle\"},\"mode\":\"markers\",\"name\":\"Mozambique\",\"scene\":\"scene\",\"showlegend\":true,\"x\":[3.24],\"y\":[0],\"z\":[0],\"type\":\"scatter3d\"},{\"hovertemplate\":\"Countries and areas=Myanmar\\u003cbr\\u003eUnemployment_Rate=%{x}\\u003cbr\\u003eGrade_2_3_Proficiency_Reading=%{y}\\u003cbr\\u003eGrade_2_3_Proficiency_Math=%{z}\\u003cextra\\u003e\\u003c\\u002fextra\\u003e\",\"legendgroup\":\"Myanmar\",\"marker\":{\"color\":\"#00cc96\",\"symbol\":\"circle\"},\"mode\":\"markers\",\"name\":\"Myanmar\",\"scene\":\"scene\",\"showlegend\":true,\"x\":[1.58],\"y\":[0],\"z\":[0],\"type\":\"scatter3d\"},{\"hovertemplate\":\"Countries and areas=Namibia\\u003cbr\\u003eUnemployment_Rate=%{x}\\u003cbr\\u003eGrade_2_3_Proficiency_Reading=%{y}\\u003cbr\\u003eGrade_2_3_Proficiency_Math=%{z}\\u003cextra\\u003e\\u003c\\u002fextra\\u003e\",\"legendgroup\":\"Namibia\",\"marker\":{\"color\":\"#ab63fa\",\"symbol\":\"circle\"},\"mode\":\"markers\",\"name\":\"Namibia\",\"scene\":\"scene\",\"showlegend\":true,\"x\":[20.27],\"y\":[0],\"z\":[0],\"type\":\"scatter3d\"},{\"hovertemplate\":\"Countries and areas=Nauru\\u003cbr\\u003eUnemployment_Rate=%{x}\\u003cbr\\u003eGrade_2_3_Proficiency_Reading=%{y}\\u003cbr\\u003eGrade_2_3_Proficiency_Math=%{z}\\u003cextra\\u003e\\u003c\\u002fextra\\u003e\",\"legendgroup\":\"Nauru\",\"marker\":{\"color\":\"#FFA15A\",\"symbol\":\"circle\"},\"mode\":\"markers\",\"name\":\"Nauru\",\"scene\":\"scene\",\"showlegend\":true,\"x\":[0.0],\"y\":[0],\"z\":[0],\"type\":\"scatter3d\"},{\"hovertemplate\":\"Countries and areas=Nepal\\u003cbr\\u003eUnemployment_Rate=%{x}\\u003cbr\\u003eGrade_2_3_Proficiency_Reading=%{y}\\u003cbr\\u003eGrade_2_3_Proficiency_Math=%{z}\\u003cextra\\u003e\\u003c\\u002fextra\\u003e\",\"legendgroup\":\"Nepal\",\"marker\":{\"color\":\"#19d3f3\",\"symbol\":\"circle\"},\"mode\":\"markers\",\"name\":\"Nepal\",\"scene\":\"scene\",\"showlegend\":true,\"x\":[1.41],\"y\":[0],\"z\":[0],\"type\":\"scatter3d\"},{\"hovertemplate\":\"Countries and areas=Netherlands\\u003cbr\\u003eUnemployment_Rate=%{x}\\u003cbr\\u003eGrade_2_3_Proficiency_Reading=%{y}\\u003cbr\\u003eGrade_2_3_Proficiency_Math=%{z}\\u003cextra\\u003e\\u003c\\u002fextra\\u003e\",\"legendgroup\":\"Netherlands\",\"marker\":{\"color\":\"#FF6692\",\"symbol\":\"circle\"},\"mode\":\"markers\",\"name\":\"Netherlands\",\"scene\":\"scene\",\"showlegend\":true,\"x\":[3.2],\"y\":[99],\"z\":[83],\"type\":\"scatter3d\"},{\"hovertemplate\":\"Countries and areas=New Zealand\\u003cbr\\u003eUnemployment_Rate=%{x}\\u003cbr\\u003eGrade_2_3_Proficiency_Reading=%{y}\\u003cbr\\u003eGrade_2_3_Proficiency_Math=%{z}\\u003cextra\\u003e\\u003c\\u002fextra\\u003e\",\"legendgroup\":\"New Zealand\",\"marker\":{\"color\":\"#B6E880\",\"symbol\":\"circle\"},\"mode\":\"markers\",\"name\":\"New Zealand\",\"scene\":\"scene\",\"showlegend\":true,\"x\":[4.07],\"y\":[90],\"z\":[59],\"type\":\"scatter3d\"},{\"hovertemplate\":\"Countries and areas=Nicaragua\\u003cbr\\u003eUnemployment_Rate=%{x}\\u003cbr\\u003eGrade_2_3_Proficiency_Reading=%{y}\\u003cbr\\u003eGrade_2_3_Proficiency_Math=%{z}\\u003cextra\\u003e\\u003c\\u002fextra\\u003e\",\"legendgroup\":\"Nicaragua\",\"marker\":{\"color\":\"#FF97FF\",\"symbol\":\"circle\"},\"mode\":\"markers\",\"name\":\"Nicaragua\",\"scene\":\"scene\",\"showlegend\":true,\"x\":[6.84],\"y\":[61],\"z\":[44],\"type\":\"scatter3d\"},{\"hovertemplate\":\"Countries and areas=Niger\\u003cbr\\u003eUnemployment_Rate=%{x}\\u003cbr\\u003eGrade_2_3_Proficiency_Reading=%{y}\\u003cbr\\u003eGrade_2_3_Proficiency_Math=%{z}\\u003cextra\\u003e\\u003c\\u002fextra\\u003e\",\"legendgroup\":\"Niger\",\"marker\":{\"color\":\"#FECB52\",\"symbol\":\"circle\"},\"mode\":\"markers\",\"name\":\"Niger\",\"scene\":\"scene\",\"showlegend\":true,\"x\":[0.47],\"y\":[9],\"z\":[27],\"type\":\"scatter3d\"},{\"hovertemplate\":\"Countries and areas=Nigeria\\u003cbr\\u003eUnemployment_Rate=%{x}\\u003cbr\\u003eGrade_2_3_Proficiency_Reading=%{y}\\u003cbr\\u003eGrade_2_3_Proficiency_Math=%{z}\\u003cextra\\u003e\\u003c\\u002fextra\\u003e\",\"legendgroup\":\"Nigeria\",\"marker\":{\"color\":\"#636efa\",\"symbol\":\"circle\"},\"mode\":\"markers\",\"name\":\"Nigeria\",\"scene\":\"scene\",\"showlegend\":true,\"x\":[8.1],\"y\":[0],\"z\":[0],\"type\":\"scatter3d\"},{\"hovertemplate\":\"Countries and areas=Niue\\u003cbr\\u003eUnemployment_Rate=%{x}\\u003cbr\\u003eGrade_2_3_Proficiency_Reading=%{y}\\u003cbr\\u003eGrade_2_3_Proficiency_Math=%{z}\\u003cextra\\u003e\\u003c\\u002fextra\\u003e\",\"legendgroup\":\"Niue\",\"marker\":{\"color\":\"#EF553B\",\"symbol\":\"circle\"},\"mode\":\"markers\",\"name\":\"Niue\",\"scene\":\"scene\",\"showlegend\":true,\"x\":[0.0],\"y\":[0],\"z\":[0],\"type\":\"scatter3d\"},{\"hovertemplate\":\"Countries and areas=North Macedonia\\u003cbr\\u003eUnemployment_Rate=%{x}\\u003cbr\\u003eGrade_2_3_Proficiency_Reading=%{y}\\u003cbr\\u003eGrade_2_3_Proficiency_Math=%{z}\\u003cextra\\u003e\\u003c\\u002fextra\\u003e\",\"legendgroup\":\"North Macedonia\",\"marker\":{\"color\":\"#00cc96\",\"symbol\":\"circle\"},\"mode\":\"markers\",\"name\":\"North Macedonia\",\"scene\":\"scene\",\"showlegend\":true,\"x\":[0.0],\"y\":[0],\"z\":[0],\"type\":\"scatter3d\"},{\"hovertemplate\":\"Countries and areas=Norway\\u003cbr\\u003eUnemployment_Rate=%{x}\\u003cbr\\u003eGrade_2_3_Proficiency_Reading=%{y}\\u003cbr\\u003eGrade_2_3_Proficiency_Math=%{z}\\u003cextra\\u003e\\u003c\\u002fextra\\u003e\",\"legendgroup\":\"Norway\",\"marker\":{\"color\":\"#ab63fa\",\"symbol\":\"circle\"},\"mode\":\"markers\",\"name\":\"Norway\",\"scene\":\"scene\",\"showlegend\":true,\"x\":[3.35],\"y\":[99],\"z\":[86],\"type\":\"scatter3d\"},{\"hovertemplate\":\"Countries and areas=Oman\\u003cbr\\u003eUnemployment_Rate=%{x}\\u003cbr\\u003eGrade_2_3_Proficiency_Reading=%{y}\\u003cbr\\u003eGrade_2_3_Proficiency_Math=%{z}\\u003cextra\\u003e\\u003c\\u002fextra\\u003e\",\"legendgroup\":\"Oman\",\"marker\":{\"color\":\"#FFA15A\",\"symbol\":\"circle\"},\"mode\":\"markers\",\"name\":\"Oman\",\"scene\":\"scene\",\"showlegend\":true,\"x\":[2.67],\"y\":[59],\"z\":[32],\"type\":\"scatter3d\"},{\"hovertemplate\":\"Countries and areas=Pakistan\\u003cbr\\u003eUnemployment_Rate=%{x}\\u003cbr\\u003eGrade_2_3_Proficiency_Reading=%{y}\\u003cbr\\u003eGrade_2_3_Proficiency_Math=%{z}\\u003cextra\\u003e\\u003c\\u002fextra\\u003e\",\"legendgroup\":\"Pakistan\",\"marker\":{\"color\":\"#19d3f3\",\"symbol\":\"circle\"},\"mode\":\"markers\",\"name\":\"Pakistan\",\"scene\":\"scene\",\"showlegend\":true,\"x\":[4.45],\"y\":[35],\"z\":[0],\"type\":\"scatter3d\"},{\"hovertemplate\":\"Countries and areas=Palau\\u003cbr\\u003eUnemployment_Rate=%{x}\\u003cbr\\u003eGrade_2_3_Proficiency_Reading=%{y}\\u003cbr\\u003eGrade_2_3_Proficiency_Math=%{z}\\u003cextra\\u003e\\u003c\\u002fextra\\u003e\",\"legendgroup\":\"Palau\",\"marker\":{\"color\":\"#FF6692\",\"symbol\":\"circle\"},\"mode\":\"markers\",\"name\":\"Palau\",\"scene\":\"scene\",\"showlegend\":true,\"x\":[0.0],\"y\":[0],\"z\":[0],\"type\":\"scatter3d\"},{\"hovertemplate\":\"Countries and areas=Panama\\u003cbr\\u003eUnemployment_Rate=%{x}\\u003cbr\\u003eGrade_2_3_Proficiency_Reading=%{y}\\u003cbr\\u003eGrade_2_3_Proficiency_Math=%{z}\\u003cextra\\u003e\\u003c\\u002fextra\\u003e\",\"legendgroup\":\"Panama\",\"marker\":{\"color\":\"#B6E880\",\"symbol\":\"circle\"},\"mode\":\"markers\",\"name\":\"Panama\",\"scene\":\"scene\",\"showlegend\":true,\"x\":[3.9],\"y\":[65],\"z\":[51],\"type\":\"scatter3d\"},{\"hovertemplate\":\"Countries and areas=Papua New Guinea\\u003cbr\\u003eUnemployment_Rate=%{x}\\u003cbr\\u003eGrade_2_3_Proficiency_Reading=%{y}\\u003cbr\\u003eGrade_2_3_Proficiency_Math=%{z}\\u003cextra\\u003e\\u003c\\u002fextra\\u003e\",\"legendgroup\":\"Papua New Guinea\",\"marker\":{\"color\":\"#FF97FF\",\"symbol\":\"circle\"},\"mode\":\"markers\",\"name\":\"Papua New Guinea\",\"scene\":\"scene\",\"showlegend\":true,\"x\":[2.46],\"y\":[0],\"z\":[0],\"type\":\"scatter3d\"},{\"hovertemplate\":\"Countries and areas=Paraguay\\u003cbr\\u003eUnemployment_Rate=%{x}\\u003cbr\\u003eGrade_2_3_Proficiency_Reading=%{y}\\u003cbr\\u003eGrade_2_3_Proficiency_Math=%{z}\\u003cextra\\u003e\\u003c\\u002fextra\\u003e\",\"legendgroup\":\"Paraguay\",\"marker\":{\"color\":\"#FECB52\",\"symbol\":\"circle\"},\"mode\":\"markers\",\"name\":\"Paraguay\",\"scene\":\"scene\",\"showlegend\":true,\"x\":[4.81],\"y\":[61],\"z\":[47],\"type\":\"scatter3d\"},{\"hovertemplate\":\"Countries and areas=Peru\\u003cbr\\u003eUnemployment_Rate=%{x}\\u003cbr\\u003eGrade_2_3_Proficiency_Reading=%{y}\\u003cbr\\u003eGrade_2_3_Proficiency_Math=%{z}\\u003cextra\\u003e\\u003c\\u002fextra\\u003e\",\"legendgroup\":\"Peru\",\"marker\":{\"color\":\"#636efa\",\"symbol\":\"circle\"},\"mode\":\"markers\",\"name\":\"Peru\",\"scene\":\"scene\",\"showlegend\":true,\"x\":[3.31],\"y\":[80],\"z\":[70],\"type\":\"scatter3d\"},{\"hovertemplate\":\"Countries and areas=Philippines\\u003cbr\\u003eUnemployment_Rate=%{x}\\u003cbr\\u003eGrade_2_3_Proficiency_Reading=%{y}\\u003cbr\\u003eGrade_2_3_Proficiency_Math=%{z}\\u003cextra\\u003e\\u003c\\u002fextra\\u003e\",\"legendgroup\":\"Philippines\",\"marker\":{\"color\":\"#EF553B\",\"symbol\":\"circle\"},\"mode\":\"markers\",\"name\":\"Philippines\",\"scene\":\"scene\",\"showlegend\":true,\"x\":[2.15],\"y\":[0],\"z\":[0],\"type\":\"scatter3d\"},{\"hovertemplate\":\"Countries and areas=Poland\\u003cbr\\u003eUnemployment_Rate=%{x}\\u003cbr\\u003eGrade_2_3_Proficiency_Reading=%{y}\\u003cbr\\u003eGrade_2_3_Proficiency_Math=%{z}\\u003cextra\\u003e\\u003c\\u002fextra\\u003e\",\"legendgroup\":\"Poland\",\"marker\":{\"color\":\"#00cc96\",\"symbol\":\"circle\"},\"mode\":\"markers\",\"name\":\"Poland\",\"scene\":\"scene\",\"showlegend\":true,\"x\":[3.47],\"y\":[98],\"z\":[80],\"type\":\"scatter3d\"},{\"hovertemplate\":\"Countries and areas=Portugal\\u003cbr\\u003eUnemployment_Rate=%{x}\\u003cbr\\u003eGrade_2_3_Proficiency_Reading=%{y}\\u003cbr\\u003eGrade_2_3_Proficiency_Math=%{z}\\u003cextra\\u003e\\u003c\\u002fextra\\u003e\",\"legendgroup\":\"Portugal\",\"marker\":{\"color\":\"#ab63fa\",\"symbol\":\"circle\"},\"mode\":\"markers\",\"name\":\"Portugal\",\"scene\":\"scene\",\"showlegend\":true,\"x\":[6.33],\"y\":[97],\"z\":[82],\"type\":\"scatter3d\"},{\"hovertemplate\":\"Countries and areas=Qatar\\u003cbr\\u003eUnemployment_Rate=%{x}\\u003cbr\\u003eGrade_2_3_Proficiency_Reading=%{y}\\u003cbr\\u003eGrade_2_3_Proficiency_Math=%{z}\\u003cextra\\u003e\\u003c\\u002fextra\\u003e\",\"legendgroup\":\"Qatar\",\"marker\":{\"color\":\"#FFA15A\",\"symbol\":\"circle\"},\"mode\":\"markers\",\"name\":\"Qatar\",\"scene\":\"scene\",\"showlegend\":true,\"x\":[0.09],\"y\":[66],\"z\":[36],\"type\":\"scatter3d\"},{\"hovertemplate\":\"Countries and areas=South Korea\\u003cbr\\u003eUnemployment_Rate=%{x}\\u003cbr\\u003eGrade_2_3_Proficiency_Reading=%{y}\\u003cbr\\u003eGrade_2_3_Proficiency_Math=%{z}\\u003cextra\\u003e\\u003c\\u002fextra\\u003e\",\"legendgroup\":\"South Korea\",\"marker\":{\"color\":\"#19d3f3\",\"symbol\":\"circle\"},\"mode\":\"markers\",\"name\":\"South Korea\",\"scene\":\"scene\",\"showlegend\":true,\"x\":[4.15],\"y\":[0],\"z\":[97],\"type\":\"scatter3d\"},{\"hovertemplate\":\"Countries and areas=Moldova\\u003cbr\\u003eUnemployment_Rate=%{x}\\u003cbr\\u003eGrade_2_3_Proficiency_Reading=%{y}\\u003cbr\\u003eGrade_2_3_Proficiency_Math=%{z}\\u003cextra\\u003e\\u003c\\u002fextra\\u003e\",\"legendgroup\":\"Moldova\",\"marker\":{\"color\":\"#FF6692\",\"symbol\":\"circle\"},\"mode\":\"markers\",\"name\":\"Moldova\",\"scene\":\"scene\",\"showlegend\":true,\"x\":[5.47],\"y\":[0],\"z\":[0],\"type\":\"scatter3d\"},{\"hovertemplate\":\"Countries and areas=Romania\\u003cbr\\u003eUnemployment_Rate=%{x}\\u003cbr\\u003eGrade_2_3_Proficiency_Reading=%{y}\\u003cbr\\u003eGrade_2_3_Proficiency_Math=%{z}\\u003cextra\\u003e\\u003c\\u002fextra\\u003e\",\"legendgroup\":\"Romania\",\"marker\":{\"color\":\"#B6E880\",\"symbol\":\"circle\"},\"mode\":\"markers\",\"name\":\"Romania\",\"scene\":\"scene\",\"showlegend\":true,\"x\":[3.98],\"y\":[0],\"z\":[0],\"type\":\"scatter3d\"},{\"hovertemplate\":\"Countries and areas=Russia\\u003cbr\\u003eUnemployment_Rate=%{x}\\u003cbr\\u003eGrade_2_3_Proficiency_Reading=%{y}\\u003cbr\\u003eGrade_2_3_Proficiency_Math=%{z}\\u003cextra\\u003e\\u003c\\u002fextra\\u003e\",\"legendgroup\":\"Russia\",\"marker\":{\"color\":\"#FF97FF\",\"symbol\":\"circle\"},\"mode\":\"markers\",\"name\":\"Russia\",\"scene\":\"scene\",\"showlegend\":true,\"x\":[4.59],\"y\":[0],\"z\":[0],\"type\":\"scatter3d\"},{\"hovertemplate\":\"Countries and areas=Rwanda\\u003cbr\\u003eUnemployment_Rate=%{x}\\u003cbr\\u003eGrade_2_3_Proficiency_Reading=%{y}\\u003cbr\\u003eGrade_2_3_Proficiency_Math=%{z}\\u003cextra\\u003e\\u003c\\u002fextra\\u003e\",\"legendgroup\":\"Rwanda\",\"marker\":{\"color\":\"#FECB52\",\"symbol\":\"circle\"},\"mode\":\"markers\",\"name\":\"Rwanda\",\"scene\":\"scene\",\"showlegend\":true,\"x\":[1.03],\"y\":[0],\"z\":[0],\"type\":\"scatter3d\"},{\"hovertemplate\":\"Countries and areas=Saint Kitts and Nevis\\u003cbr\\u003eUnemployment_Rate=%{x}\\u003cbr\\u003eGrade_2_3_Proficiency_Reading=%{y}\\u003cbr\\u003eGrade_2_3_Proficiency_Math=%{z}\\u003cextra\\u003e\\u003c\\u002fextra\\u003e\",\"legendgroup\":\"Saint Kitts and Nevis\",\"marker\":{\"color\":\"#636efa\",\"symbol\":\"circle\"},\"mode\":\"markers\",\"name\":\"Saint Kitts and Nevis\",\"scene\":\"scene\",\"showlegend\":true,\"x\":[0.0],\"y\":[0],\"z\":[0],\"type\":\"scatter3d\"},{\"hovertemplate\":\"Countries and areas=Saint Lucia\\u003cbr\\u003eUnemployment_Rate=%{x}\\u003cbr\\u003eGrade_2_3_Proficiency_Reading=%{y}\\u003cbr\\u003eGrade_2_3_Proficiency_Math=%{z}\\u003cextra\\u003e\\u003c\\u002fextra\\u003e\",\"legendgroup\":\"Saint Lucia\",\"marker\":{\"color\":\"#EF553B\",\"symbol\":\"circle\"},\"mode\":\"markers\",\"name\":\"Saint Lucia\",\"scene\":\"scene\",\"showlegend\":true,\"x\":[20.71],\"y\":[0],\"z\":[0],\"type\":\"scatter3d\"},{\"hovertemplate\":\"Countries and areas=Saint Vincent and the Grenadines\\u003cbr\\u003eUnemployment_Rate=%{x}\\u003cbr\\u003eGrade_2_3_Proficiency_Reading=%{y}\\u003cbr\\u003eGrade_2_3_Proficiency_Math=%{z}\\u003cextra\\u003e\\u003c\\u002fextra\\u003e\",\"legendgroup\":\"Saint Vincent and the Grenadines\",\"marker\":{\"color\":\"#00cc96\",\"symbol\":\"circle\"},\"mode\":\"markers\",\"name\":\"Saint Vincent and the Grenadines\",\"scene\":\"scene\",\"showlegend\":true,\"x\":[18.88],\"y\":[0],\"z\":[0],\"type\":\"scatter3d\"},{\"hovertemplate\":\"Countries and areas=Samoa\\u003cbr\\u003eUnemployment_Rate=%{x}\\u003cbr\\u003eGrade_2_3_Proficiency_Reading=%{y}\\u003cbr\\u003eGrade_2_3_Proficiency_Math=%{z}\\u003cextra\\u003e\\u003c\\u002fextra\\u003e\",\"legendgroup\":\"Samoa\",\"marker\":{\"color\":\"#ab63fa\",\"symbol\":\"circle\"},\"mode\":\"markers\",\"name\":\"Samoa\",\"scene\":\"scene\",\"showlegend\":true,\"x\":[8.36],\"y\":[0],\"z\":[0],\"type\":\"scatter3d\"},{\"hovertemplate\":\"Countries and areas=San Marino\\u003cbr\\u003eUnemployment_Rate=%{x}\\u003cbr\\u003eGrade_2_3_Proficiency_Reading=%{y}\\u003cbr\\u003eGrade_2_3_Proficiency_Math=%{z}\\u003cextra\\u003e\\u003c\\u002fextra\\u003e\",\"legendgroup\":\"San Marino\",\"marker\":{\"color\":\"#FFA15A\",\"symbol\":\"circle\"},\"mode\":\"markers\",\"name\":\"San Marino\",\"scene\":\"scene\",\"showlegend\":true,\"x\":[0.0],\"y\":[0],\"z\":[0],\"type\":\"scatter3d\"},{\"hovertemplate\":\"Countries and areas=S\\u00ef\\u00bf\\u00bd\\u00ef\\u00bf\\u00bd\\u00ef\\u00bf\\u00bd\\u00ef\\u00bf\\u00bd\\u00ef\\u00bf\\u00bd\\u00ef\\u00bf\\u00bd\\u00ef\\u00bf\\u00bd\\u00ef\\u00bf\\u003cbr\\u003eUnemployment_Rate=%{x}\\u003cbr\\u003eGrade_2_3_Proficiency_Reading=%{y}\\u003cbr\\u003eGrade_2_3_Proficiency_Math=%{z}\\u003cextra\\u003e\\u003c\\u002fextra\\u003e\",\"legendgroup\":\"S\\u00ef\\u00bf\\u00bd\\u00ef\\u00bf\\u00bd\\u00ef\\u00bf\\u00bd\\u00ef\\u00bf\\u00bd\\u00ef\\u00bf\\u00bd\\u00ef\\u00bf\\u00bd\\u00ef\\u00bf\\u00bd\\u00ef\\u00bf\",\"marker\":{\"color\":\"#19d3f3\",\"symbol\":\"circle\"},\"mode\":\"markers\",\"name\":\"S\\u00ef\\u00bf\\u00bd\\u00ef\\u00bf\\u00bd\\u00ef\\u00bf\\u00bd\\u00ef\\u00bf\\u00bd\\u00ef\\u00bf\\u00bd\\u00ef\\u00bf\\u00bd\\u00ef\\u00bf\\u00bd\\u00ef\\u00bf\",\"scene\":\"scene\",\"showlegend\":true,\"x\":[13.37],\"y\":[0],\"z\":[0],\"type\":\"scatter3d\"},{\"hovertemplate\":\"Countries and areas=Saudi Arabia\\u003cbr\\u003eUnemployment_Rate=%{x}\\u003cbr\\u003eGrade_2_3_Proficiency_Reading=%{y}\\u003cbr\\u003eGrade_2_3_Proficiency_Math=%{z}\\u003cextra\\u003e\\u003c\\u002fextra\\u003e\",\"legendgroup\":\"Saudi Arabia\",\"marker\":{\"color\":\"#FF6692\",\"symbol\":\"circle\"},\"mode\":\"markers\",\"name\":\"Saudi Arabia\",\"scene\":\"scene\",\"showlegend\":true,\"x\":[5.93],\"y\":[63],\"z\":[16],\"type\":\"scatter3d\"},{\"hovertemplate\":\"Countries and areas=Senegal\\u003cbr\\u003eUnemployment_Rate=%{x}\\u003cbr\\u003eGrade_2_3_Proficiency_Reading=%{y}\\u003cbr\\u003eGrade_2_3_Proficiency_Math=%{z}\\u003cextra\\u003e\\u003c\\u002fextra\\u003e\",\"legendgroup\":\"Senegal\",\"marker\":{\"color\":\"#B6E880\",\"symbol\":\"circle\"},\"mode\":\"markers\",\"name\":\"Senegal\",\"scene\":\"scene\",\"showlegend\":true,\"x\":[6.6],\"y\":[29],\"z\":[63],\"type\":\"scatter3d\"},{\"hovertemplate\":\"Countries and areas=Serbia\\u003cbr\\u003eUnemployment_Rate=%{x}\\u003cbr\\u003eGrade_2_3_Proficiency_Reading=%{y}\\u003cbr\\u003eGrade_2_3_Proficiency_Math=%{z}\\u003cextra\\u003e\\u003c\\u002fextra\\u003e\",\"legendgroup\":\"Serbia\",\"marker\":{\"color\":\"#FF97FF\",\"symbol\":\"circle\"},\"mode\":\"markers\",\"name\":\"Serbia\",\"scene\":\"scene\",\"showlegend\":true,\"x\":[12.69],\"y\":[0],\"z\":[0],\"type\":\"scatter3d\"},{\"hovertemplate\":\"Countries and areas=Seychelles\\u003cbr\\u003eUnemployment_Rate=%{x}\\u003cbr\\u003eGrade_2_3_Proficiency_Reading=%{y}\\u003cbr\\u003eGrade_2_3_Proficiency_Math=%{z}\\u003cextra\\u003e\\u003c\\u002fextra\\u003e\",\"legendgroup\":\"Seychelles\",\"marker\":{\"color\":\"#FECB52\",\"symbol\":\"circle\"},\"mode\":\"markers\",\"name\":\"Seychelles\",\"scene\":\"scene\",\"showlegend\":true,\"x\":[0.0],\"y\":[0],\"z\":[0],\"type\":\"scatter3d\"},{\"hovertemplate\":\"Countries and areas=Sierra Leone\\u003cbr\\u003eUnemployment_Rate=%{x}\\u003cbr\\u003eGrade_2_3_Proficiency_Reading=%{y}\\u003cbr\\u003eGrade_2_3_Proficiency_Math=%{z}\\u003cextra\\u003e\\u003c\\u002fextra\\u003e\",\"legendgroup\":\"Sierra Leone\",\"marker\":{\"color\":\"#636efa\",\"symbol\":\"circle\"},\"mode\":\"markers\",\"name\":\"Sierra Leone\",\"scene\":\"scene\",\"showlegend\":true,\"x\":[4.43],\"y\":[6],\"z\":[0],\"type\":\"scatter3d\"},{\"hovertemplate\":\"Countries and areas=Singapore\\u003cbr\\u003eUnemployment_Rate=%{x}\\u003cbr\\u003eGrade_2_3_Proficiency_Reading=%{y}\\u003cbr\\u003eGrade_2_3_Proficiency_Math=%{z}\\u003cextra\\u003e\\u003c\\u002fextra\\u003e\",\"legendgroup\":\"Singapore\",\"marker\":{\"color\":\"#EF553B\",\"symbol\":\"circle\"},\"mode\":\"markers\",\"name\":\"Singapore\",\"scene\":\"scene\",\"showlegend\":true,\"x\":[4.11],\"y\":[97],\"z\":[93],\"type\":\"scatter3d\"},{\"hovertemplate\":\"Countries and areas=Slovakia\\u003cbr\\u003eUnemployment_Rate=%{x}\\u003cbr\\u003eGrade_2_3_Proficiency_Reading=%{y}\\u003cbr\\u003eGrade_2_3_Proficiency_Math=%{z}\\u003cextra\\u003e\\u003c\\u002fextra\\u003e\",\"legendgroup\":\"Slovakia\",\"marker\":{\"color\":\"#00cc96\",\"symbol\":\"circle\"},\"mode\":\"markers\",\"name\":\"Slovakia\",\"scene\":\"scene\",\"showlegend\":true,\"x\":[5.56],\"y\":[0],\"z\":[0],\"type\":\"scatter3d\"},{\"hovertemplate\":\"Countries and areas=Slovenia\\u003cbr\\u003eUnemployment_Rate=%{x}\\u003cbr\\u003eGrade_2_3_Proficiency_Reading=%{y}\\u003cbr\\u003eGrade_2_3_Proficiency_Math=%{z}\\u003cextra\\u003e\\u003c\\u002fextra\\u003e\",\"legendgroup\":\"Slovenia\",\"marker\":{\"color\":\"#ab63fa\",\"symbol\":\"circle\"},\"mode\":\"markers\",\"name\":\"Slovenia\",\"scene\":\"scene\",\"showlegend\":true,\"x\":[4.2],\"y\":[96],\"z\":[75],\"type\":\"scatter3d\"},{\"hovertemplate\":\"Countries and areas=Solomon Islands\\u003cbr\\u003eUnemployment_Rate=%{x}\\u003cbr\\u003eGrade_2_3_Proficiency_Reading=%{y}\\u003cbr\\u003eGrade_2_3_Proficiency_Math=%{z}\\u003cextra\\u003e\\u003c\\u002fextra\\u003e\",\"legendgroup\":\"Solomon Islands\",\"marker\":{\"color\":\"#FFA15A\",\"symbol\":\"circle\"},\"mode\":\"markers\",\"name\":\"Solomon Islands\",\"scene\":\"scene\",\"showlegend\":true,\"x\":[0.58],\"y\":[0],\"z\":[0],\"type\":\"scatter3d\"},{\"hovertemplate\":\"Countries and areas=Somalia\\u003cbr\\u003eUnemployment_Rate=%{x}\\u003cbr\\u003eGrade_2_3_Proficiency_Reading=%{y}\\u003cbr\\u003eGrade_2_3_Proficiency_Math=%{z}\\u003cextra\\u003e\\u003c\\u002fextra\\u003e\",\"legendgroup\":\"Somalia\",\"marker\":{\"color\":\"#19d3f3\",\"symbol\":\"circle\"},\"mode\":\"markers\",\"name\":\"Somalia\",\"scene\":\"scene\",\"showlegend\":true,\"x\":[11.35],\"y\":[0],\"z\":[0],\"type\":\"scatter3d\"},{\"hovertemplate\":\"Countries and areas=South Africa\\u003cbr\\u003eUnemployment_Rate=%{x}\\u003cbr\\u003eGrade_2_3_Proficiency_Reading=%{y}\\u003cbr\\u003eGrade_2_3_Proficiency_Math=%{z}\\u003cextra\\u003e\\u003c\\u002fextra\\u003e\",\"legendgroup\":\"South Africa\",\"marker\":{\"color\":\"#FF6692\",\"symbol\":\"circle\"},\"mode\":\"markers\",\"name\":\"South Africa\",\"scene\":\"scene\",\"showlegend\":true,\"x\":[28.18],\"y\":[22],\"z\":[0],\"type\":\"scatter3d\"},{\"hovertemplate\":\"Countries and areas=South Sudan\\u003cbr\\u003eUnemployment_Rate=%{x}\\u003cbr\\u003eGrade_2_3_Proficiency_Reading=%{y}\\u003cbr\\u003eGrade_2_3_Proficiency_Math=%{z}\\u003cextra\\u003e\\u003c\\u002fextra\\u003e\",\"legendgroup\":\"South Sudan\",\"marker\":{\"color\":\"#B6E880\",\"symbol\":\"circle\"},\"mode\":\"markers\",\"name\":\"South Sudan\",\"scene\":\"scene\",\"showlegend\":true,\"x\":[12.24],\"y\":[0],\"z\":[0],\"type\":\"scatter3d\"},{\"hovertemplate\":\"Countries and areas=Spain\\u003cbr\\u003eUnemployment_Rate=%{x}\\u003cbr\\u003eGrade_2_3_Proficiency_Reading=%{y}\\u003cbr\\u003eGrade_2_3_Proficiency_Math=%{z}\\u003cextra\\u003e\\u003c\\u002fextra\\u003e\",\"legendgroup\":\"Spain\",\"marker\":{\"color\":\"#FF97FF\",\"symbol\":\"circle\"},\"mode\":\"markers\",\"name\":\"Spain\",\"scene\":\"scene\",\"showlegend\":true,\"x\":[13.96],\"y\":[97],\"z\":[67],\"type\":\"scatter3d\"},{\"hovertemplate\":\"Countries and areas=Sri Lanka\\u003cbr\\u003eUnemployment_Rate=%{x}\\u003cbr\\u003eGrade_2_3_Proficiency_Reading=%{y}\\u003cbr\\u003eGrade_2_3_Proficiency_Math=%{z}\\u003cextra\\u003e\\u003c\\u002fextra\\u003e\",\"legendgroup\":\"Sri Lanka\",\"marker\":{\"color\":\"#FECB52\",\"symbol\":\"circle\"},\"mode\":\"markers\",\"name\":\"Sri Lanka\",\"scene\":\"scene\",\"showlegend\":true,\"x\":[4.2],\"y\":[0],\"z\":[0],\"type\":\"scatter3d\"},{\"hovertemplate\":\"Countries and areas=Palestinian National Authority\\u003cbr\\u003eUnemployment_Rate=%{x}\\u003cbr\\u003eGrade_2_3_Proficiency_Reading=%{y}\\u003cbr\\u003eGrade_2_3_Proficiency_Math=%{z}\\u003cextra\\u003e\\u003c\\u002fextra\\u003e\",\"legendgroup\":\"Palestinian National Authority\",\"marker\":{\"color\":\"#636efa\",\"symbol\":\"circle\"},\"mode\":\"markers\",\"name\":\"Palestinian National Authority\",\"scene\":\"scene\",\"showlegend\":true,\"x\":[0.0],\"y\":[0],\"z\":[0],\"type\":\"scatter3d\"},{\"hovertemplate\":\"Countries and areas=Sudan\\u003cbr\\u003eUnemployment_Rate=%{x}\\u003cbr\\u003eGrade_2_3_Proficiency_Reading=%{y}\\u003cbr\\u003eGrade_2_3_Proficiency_Math=%{z}\\u003cextra\\u003e\\u003c\\u002fextra\\u003e\",\"legendgroup\":\"Sudan\",\"marker\":{\"color\":\"#EF553B\",\"symbol\":\"circle\"},\"mode\":\"markers\",\"name\":\"Sudan\",\"scene\":\"scene\",\"showlegend\":true,\"x\":[16.53],\"y\":[0],\"z\":[0],\"type\":\"scatter3d\"},{\"hovertemplate\":\"Countries and areas=Suriname\\u003cbr\\u003eUnemployment_Rate=%{x}\\u003cbr\\u003eGrade_2_3_Proficiency_Reading=%{y}\\u003cbr\\u003eGrade_2_3_Proficiency_Math=%{z}\\u003cextra\\u003e\\u003c\\u002fextra\\u003e\",\"legendgroup\":\"Suriname\",\"marker\":{\"color\":\"#00cc96\",\"symbol\":\"circle\"},\"mode\":\"markers\",\"name\":\"Suriname\",\"scene\":\"scene\",\"showlegend\":true,\"x\":[7.33],\"y\":[30],\"z\":[0],\"type\":\"scatter3d\"},{\"hovertemplate\":\"Countries and areas=Sweden\\u003cbr\\u003eUnemployment_Rate=%{x}\\u003cbr\\u003eGrade_2_3_Proficiency_Reading=%{y}\\u003cbr\\u003eGrade_2_3_Proficiency_Math=%{z}\\u003cextra\\u003e\\u003c\\u002fextra\\u003e\",\"legendgroup\":\"Sweden\",\"marker\":{\"color\":\"#ab63fa\",\"symbol\":\"circle\"},\"mode\":\"markers\",\"name\":\"Sweden\",\"scene\":\"scene\",\"showlegend\":true,\"x\":[6.48],\"y\":[98],\"z\":[75],\"type\":\"scatter3d\"},{\"hovertemplate\":\"Countries and areas=Switzerland\\u003cbr\\u003eUnemployment_Rate=%{x}\\u003cbr\\u003eGrade_2_3_Proficiency_Reading=%{y}\\u003cbr\\u003eGrade_2_3_Proficiency_Math=%{z}\\u003cextra\\u003e\\u003c\\u002fextra\\u003e\",\"legendgroup\":\"Switzerland\",\"marker\":{\"color\":\"#FFA15A\",\"symbol\":\"circle\"},\"mode\":\"markers\",\"name\":\"Switzerland\",\"scene\":\"scene\",\"showlegend\":true,\"x\":[4.58],\"y\":[0],\"z\":[0],\"type\":\"scatter3d\"},{\"hovertemplate\":\"Countries and areas=Syria\\u003cbr\\u003eUnemployment_Rate=%{x}\\u003cbr\\u003eGrade_2_3_Proficiency_Reading=%{y}\\u003cbr\\u003eGrade_2_3_Proficiency_Math=%{z}\\u003cextra\\u003e\\u003c\\u002fextra\\u003e\",\"legendgroup\":\"Syria\",\"marker\":{\"color\":\"#19d3f3\",\"symbol\":\"circle\"},\"mode\":\"markers\",\"name\":\"Syria\",\"scene\":\"scene\",\"showlegend\":true,\"x\":[8.37],\"y\":[0],\"z\":[0],\"type\":\"scatter3d\"},{\"hovertemplate\":\"Countries and areas=Tajikistan\\u003cbr\\u003eUnemployment_Rate=%{x}\\u003cbr\\u003eGrade_2_3_Proficiency_Reading=%{y}\\u003cbr\\u003eGrade_2_3_Proficiency_Math=%{z}\\u003cextra\\u003e\\u003c\\u002fextra\\u003e\",\"legendgroup\":\"Tajikistan\",\"marker\":{\"color\":\"#FF6692\",\"symbol\":\"circle\"},\"mode\":\"markers\",\"name\":\"Tajikistan\",\"scene\":\"scene\",\"showlegend\":true,\"x\":[11.02],\"y\":[0],\"z\":[0],\"type\":\"scatter3d\"},{\"hovertemplate\":\"Countries and areas=Thailand\\u003cbr\\u003eUnemployment_Rate=%{x}\\u003cbr\\u003eGrade_2_3_Proficiency_Reading=%{y}\\u003cbr\\u003eGrade_2_3_Proficiency_Math=%{z}\\u003cextra\\u003e\\u003c\\u002fextra\\u003e\",\"legendgroup\":\"Thailand\",\"marker\":{\"color\":\"#B6E880\",\"symbol\":\"circle\"},\"mode\":\"markers\",\"name\":\"Thailand\",\"scene\":\"scene\",\"showlegend\":true,\"x\":[0.75],\"y\":[0],\"z\":[0],\"type\":\"scatter3d\"},{\"hovertemplate\":\"Countries and areas=East Timor\\u003cbr\\u003eUnemployment_Rate=%{x}\\u003cbr\\u003eGrade_2_3_Proficiency_Reading=%{y}\\u003cbr\\u003eGrade_2_3_Proficiency_Math=%{z}\\u003cextra\\u003e\\u003c\\u002fextra\\u003e\",\"legendgroup\":\"East Timor\",\"marker\":{\"color\":\"#FF97FF\",\"symbol\":\"circle\"},\"mode\":\"markers\",\"name\":\"East Timor\",\"scene\":\"scene\",\"showlegend\":true,\"x\":[4.55],\"y\":[0],\"z\":[0],\"type\":\"scatter3d\"},{\"hovertemplate\":\"Countries and areas=Togo\\u003cbr\\u003eUnemployment_Rate=%{x}\\u003cbr\\u003eGrade_2_3_Proficiency_Reading=%{y}\\u003cbr\\u003eGrade_2_3_Proficiency_Math=%{z}\\u003cextra\\u003e\\u003c\\u002fextra\\u003e\",\"legendgroup\":\"Togo\",\"marker\":{\"color\":\"#FECB52\",\"symbol\":\"circle\"},\"mode\":\"markers\",\"name\":\"Togo\",\"scene\":\"scene\",\"showlegend\":true,\"x\":[2.04],\"y\":[19],\"z\":[40],\"type\":\"scatter3d\"},{\"hovertemplate\":\"Countries and areas=Tokelau\\u003cbr\\u003eUnemployment_Rate=%{x}\\u003cbr\\u003eGrade_2_3_Proficiency_Reading=%{y}\\u003cbr\\u003eGrade_2_3_Proficiency_Math=%{z}\\u003cextra\\u003e\\u003c\\u002fextra\\u003e\",\"legendgroup\":\"Tokelau\",\"marker\":{\"color\":\"#636efa\",\"symbol\":\"circle\"},\"mode\":\"markers\",\"name\":\"Tokelau\",\"scene\":\"scene\",\"showlegend\":true,\"x\":[0.0],\"y\":[0],\"z\":[0],\"type\":\"scatter3d\"},{\"hovertemplate\":\"Countries and areas=Tonga\\u003cbr\\u003eUnemployment_Rate=%{x}\\u003cbr\\u003eGrade_2_3_Proficiency_Reading=%{y}\\u003cbr\\u003eGrade_2_3_Proficiency_Math=%{z}\\u003cextra\\u003e\\u003c\\u002fextra\\u003e\",\"legendgroup\":\"Tonga\",\"marker\":{\"color\":\"#EF553B\",\"symbol\":\"circle\"},\"mode\":\"markers\",\"name\":\"Tonga\",\"scene\":\"scene\",\"showlegend\":true,\"x\":[1.12],\"y\":[0],\"z\":[0],\"type\":\"scatter3d\"},{\"hovertemplate\":\"Countries and areas=Trinidad and Tobago\\u003cbr\\u003eUnemployment_Rate=%{x}\\u003cbr\\u003eGrade_2_3_Proficiency_Reading=%{y}\\u003cbr\\u003eGrade_2_3_Proficiency_Math=%{z}\\u003cextra\\u003e\\u003c\\u002fextra\\u003e\",\"legendgroup\":\"Trinidad and Tobago\",\"marker\":{\"color\":\"#00cc96\",\"symbol\":\"circle\"},\"mode\":\"markers\",\"name\":\"Trinidad and Tobago\",\"scene\":\"scene\",\"showlegend\":true,\"x\":[2.69],\"y\":[80],\"z\":[0],\"type\":\"scatter3d\"},{\"hovertemplate\":\"Countries and areas=Tunisia\\u003cbr\\u003eUnemployment_Rate=%{x}\\u003cbr\\u003eGrade_2_3_Proficiency_Reading=%{y}\\u003cbr\\u003eGrade_2_3_Proficiency_Math=%{z}\\u003cextra\\u003e\\u003c\\u002fextra\\u003e\",\"legendgroup\":\"Tunisia\",\"marker\":{\"color\":\"#ab63fa\",\"symbol\":\"circle\"},\"mode\":\"markers\",\"name\":\"Tunisia\",\"scene\":\"scene\",\"showlegend\":true,\"x\":[16.02],\"y\":[47],\"z\":[0],\"type\":\"scatter3d\"},{\"hovertemplate\":\"Countries and areas=Turkey\\u003cbr\\u003eUnemployment_Rate=%{x}\\u003cbr\\u003eGrade_2_3_Proficiency_Reading=%{y}\\u003cbr\\u003eGrade_2_3_Proficiency_Math=%{z}\\u003cextra\\u003e\\u003c\\u002fextra\\u003e\",\"legendgroup\":\"Turkey\",\"marker\":{\"color\":\"#FFA15A\",\"symbol\":\"circle\"},\"mode\":\"markers\",\"name\":\"Turkey\",\"scene\":\"scene\",\"showlegend\":true,\"x\":[13.49],\"y\":[0],\"z\":[0],\"type\":\"scatter3d\"},{\"hovertemplate\":\"Countries and areas=Turkmenistan\\u003cbr\\u003eUnemployment_Rate=%{x}\\u003cbr\\u003eGrade_2_3_Proficiency_Reading=%{y}\\u003cbr\\u003eGrade_2_3_Proficiency_Math=%{z}\\u003cextra\\u003e\\u003c\\u002fextra\\u003e\",\"legendgroup\":\"Turkmenistan\",\"marker\":{\"color\":\"#19d3f3\",\"symbol\":\"circle\"},\"mode\":\"markers\",\"name\":\"Turkmenistan\",\"scene\":\"scene\",\"showlegend\":true,\"x\":[3.91],\"y\":[0],\"z\":[0],\"type\":\"scatter3d\"},{\"hovertemplate\":\"Countries and areas=Turks and Caicos Islands\\u003cbr\\u003eUnemployment_Rate=%{x}\\u003cbr\\u003eGrade_2_3_Proficiency_Reading=%{y}\\u003cbr\\u003eGrade_2_3_Proficiency_Math=%{z}\\u003cextra\\u003e\\u003c\\u002fextra\\u003e\",\"legendgroup\":\"Turks and Caicos Islands\",\"marker\":{\"color\":\"#FF6692\",\"symbol\":\"circle\"},\"mode\":\"markers\",\"name\":\"Turks and Caicos Islands\",\"scene\":\"scene\",\"showlegend\":true,\"x\":[0.0],\"y\":[0],\"z\":[0],\"type\":\"scatter3d\"},{\"hovertemplate\":\"Countries and areas=Tuvalu\\u003cbr\\u003eUnemployment_Rate=%{x}\\u003cbr\\u003eGrade_2_3_Proficiency_Reading=%{y}\\u003cbr\\u003eGrade_2_3_Proficiency_Math=%{z}\\u003cextra\\u003e\\u003c\\u002fextra\\u003e\",\"legendgroup\":\"Tuvalu\",\"marker\":{\"color\":\"#B6E880\",\"symbol\":\"circle\"},\"mode\":\"markers\",\"name\":\"Tuvalu\",\"scene\":\"scene\",\"showlegend\":true,\"x\":[0.0],\"y\":[0],\"z\":[0],\"type\":\"scatter3d\"},{\"hovertemplate\":\"Countries and areas=Uganda\\u003cbr\\u003eUnemployment_Rate=%{x}\\u003cbr\\u003eGrade_2_3_Proficiency_Reading=%{y}\\u003cbr\\u003eGrade_2_3_Proficiency_Math=%{z}\\u003cextra\\u003e\\u003c\\u002fextra\\u003e\",\"legendgroup\":\"Uganda\",\"marker\":{\"color\":\"#FF97FF\",\"symbol\":\"circle\"},\"mode\":\"markers\",\"name\":\"Uganda\",\"scene\":\"scene\",\"showlegend\":true,\"x\":[1.84],\"y\":[33],\"z\":[21],\"type\":\"scatter3d\"},{\"hovertemplate\":\"Countries and areas=Ukraine\\u003cbr\\u003eUnemployment_Rate=%{x}\\u003cbr\\u003eGrade_2_3_Proficiency_Reading=%{y}\\u003cbr\\u003eGrade_2_3_Proficiency_Math=%{z}\\u003cextra\\u003e\\u003c\\u002fextra\\u003e\",\"legendgroup\":\"Ukraine\",\"marker\":{\"color\":\"#FECB52\",\"symbol\":\"circle\"},\"mode\":\"markers\",\"name\":\"Ukraine\",\"scene\":\"scene\",\"showlegend\":true,\"x\":[8.88],\"y\":[0],\"z\":[0],\"type\":\"scatter3d\"},{\"hovertemplate\":\"Countries and areas=United Arab Emirates\\u003cbr\\u003eUnemployment_Rate=%{x}\\u003cbr\\u003eGrade_2_3_Proficiency_Reading=%{y}\\u003cbr\\u003eGrade_2_3_Proficiency_Math=%{z}\\u003cextra\\u003e\\u003c\\u002fextra\\u003e\",\"legendgroup\":\"United Arab Emirates\",\"marker\":{\"color\":\"#636efa\",\"symbol\":\"circle\"},\"mode\":\"markers\",\"name\":\"United Arab Emirates\",\"scene\":\"scene\",\"showlegend\":true,\"x\":[2.35],\"y\":[68],\"z\":[42],\"type\":\"scatter3d\"},{\"hovertemplate\":\"Countries and areas=United Kingdom\\u003cbr\\u003eUnemployment_Rate=%{x}\\u003cbr\\u003eGrade_2_3_Proficiency_Reading=%{y}\\u003cbr\\u003eGrade_2_3_Proficiency_Math=%{z}\\u003cextra\\u003e\\u003c\\u002fextra\\u003e\",\"legendgroup\":\"United Kingdom\",\"marker\":{\"color\":\"#EF553B\",\"symbol\":\"circle\"},\"mode\":\"markers\",\"name\":\"United Kingdom\",\"scene\":\"scene\",\"showlegend\":true,\"x\":[3.85],\"y\":[0],\"z\":[0],\"type\":\"scatter3d\"},{\"hovertemplate\":\"Countries and areas=Tanzania\\u003cbr\\u003eUnemployment_Rate=%{x}\\u003cbr\\u003eGrade_2_3_Proficiency_Reading=%{y}\\u003cbr\\u003eGrade_2_3_Proficiency_Math=%{z}\\u003cextra\\u003e\\u003c\\u002fextra\\u003e\",\"legendgroup\":\"Tanzania\",\"marker\":{\"color\":\"#00cc96\",\"symbol\":\"circle\"},\"mode\":\"markers\",\"name\":\"Tanzania\",\"scene\":\"scene\",\"showlegend\":true,\"x\":[1.98],\"y\":[0],\"z\":[0],\"type\":\"scatter3d\"},{\"hovertemplate\":\"Countries and areas=United States\\u003cbr\\u003eUnemployment_Rate=%{x}\\u003cbr\\u003eGrade_2_3_Proficiency_Reading=%{y}\\u003cbr\\u003eGrade_2_3_Proficiency_Math=%{z}\\u003cextra\\u003e\\u003c\\u002fextra\\u003e\",\"legendgroup\":\"United States\",\"marker\":{\"color\":\"#ab63fa\",\"symbol\":\"circle\"},\"mode\":\"markers\",\"name\":\"United States\",\"scene\":\"scene\",\"showlegend\":true,\"x\":[14.7],\"y\":[0],\"z\":[0],\"type\":\"scatter3d\"},{\"hovertemplate\":\"Countries and areas=Uruguay\\u003cbr\\u003eUnemployment_Rate=%{x}\\u003cbr\\u003eGrade_2_3_Proficiency_Reading=%{y}\\u003cbr\\u003eGrade_2_3_Proficiency_Math=%{z}\\u003cextra\\u003e\\u003c\\u002fextra\\u003e\",\"legendgroup\":\"Uruguay\",\"marker\":{\"color\":\"#FFA15A\",\"symbol\":\"circle\"},\"mode\":\"markers\",\"name\":\"Uruguay\",\"scene\":\"scene\",\"showlegend\":true,\"x\":[8.73],\"y\":[80],\"z\":[75],\"type\":\"scatter3d\"},{\"hovertemplate\":\"Countries and areas=Uzbekistan\\u003cbr\\u003eUnemployment_Rate=%{x}\\u003cbr\\u003eGrade_2_3_Proficiency_Reading=%{y}\\u003cbr\\u003eGrade_2_3_Proficiency_Math=%{z}\\u003cextra\\u003e\\u003c\\u002fextra\\u003e\",\"legendgroup\":\"Uzbekistan\",\"marker\":{\"color\":\"#19d3f3\",\"symbol\":\"circle\"},\"mode\":\"markers\",\"name\":\"Uzbekistan\",\"scene\":\"scene\",\"showlegend\":true,\"x\":[5.92],\"y\":[0],\"z\":[0],\"type\":\"scatter3d\"},{\"hovertemplate\":\"Countries and areas=Vanuatu\\u003cbr\\u003eUnemployment_Rate=%{x}\\u003cbr\\u003eGrade_2_3_Proficiency_Reading=%{y}\\u003cbr\\u003eGrade_2_3_Proficiency_Math=%{z}\\u003cextra\\u003e\\u003c\\u002fextra\\u003e\",\"legendgroup\":\"Vanuatu\",\"marker\":{\"color\":\"#FF6692\",\"symbol\":\"circle\"},\"mode\":\"markers\",\"name\":\"Vanuatu\",\"scene\":\"scene\",\"showlegend\":true,\"x\":[4.39],\"y\":[0],\"z\":[0],\"type\":\"scatter3d\"},{\"hovertemplate\":\"Countries and areas=Venezuela\\u003cbr\\u003eUnemployment_Rate=%{x}\\u003cbr\\u003eGrade_2_3_Proficiency_Reading=%{y}\\u003cbr\\u003eGrade_2_3_Proficiency_Math=%{z}\\u003cextra\\u003e\\u003c\\u002fextra\\u003e\",\"legendgroup\":\"Venezuela\",\"marker\":{\"color\":\"#B6E880\",\"symbol\":\"circle\"},\"mode\":\"markers\",\"name\":\"Venezuela\",\"scene\":\"scene\",\"showlegend\":true,\"x\":[8.8],\"y\":[0],\"z\":[0],\"type\":\"scatter3d\"},{\"hovertemplate\":\"Countries and areas=Vietnam\\u003cbr\\u003eUnemployment_Rate=%{x}\\u003cbr\\u003eGrade_2_3_Proficiency_Reading=%{y}\\u003cbr\\u003eGrade_2_3_Proficiency_Math=%{z}\\u003cextra\\u003e\\u003c\\u002fextra\\u003e\",\"legendgroup\":\"Vietnam\",\"marker\":{\"color\":\"#FF97FF\",\"symbol\":\"circle\"},\"mode\":\"markers\",\"name\":\"Vietnam\",\"scene\":\"scene\",\"showlegend\":true,\"x\":[2.01],\"y\":[0],\"z\":[0],\"type\":\"scatter3d\"},{\"hovertemplate\":\"Countries and areas=Yemen\\u003cbr\\u003eUnemployment_Rate=%{x}\\u003cbr\\u003eGrade_2_3_Proficiency_Reading=%{y}\\u003cbr\\u003eGrade_2_3_Proficiency_Math=%{z}\\u003cextra\\u003e\\u003c\\u002fextra\\u003e\",\"legendgroup\":\"Yemen\",\"marker\":{\"color\":\"#FECB52\",\"symbol\":\"circle\"},\"mode\":\"markers\",\"name\":\"Yemen\",\"scene\":\"scene\",\"showlegend\":true,\"x\":[12.91],\"y\":[0],\"z\":[0],\"type\":\"scatter3d\"},{\"hovertemplate\":\"Countries and areas=Zambia\\u003cbr\\u003eUnemployment_Rate=%{x}\\u003cbr\\u003eGrade_2_3_Proficiency_Reading=%{y}\\u003cbr\\u003eGrade_2_3_Proficiency_Math=%{z}\\u003cextra\\u003e\\u003c\\u002fextra\\u003e\",\"legendgroup\":\"Zambia\",\"marker\":{\"color\":\"#636efa\",\"symbol\":\"circle\"},\"mode\":\"markers\",\"name\":\"Zambia\",\"scene\":\"scene\",\"showlegend\":true,\"x\":[11.43],\"y\":[0],\"z\":[0],\"type\":\"scatter3d\"},{\"hovertemplate\":\"Countries and areas=Zimbabwe\\u003cbr\\u003eUnemployment_Rate=%{x}\\u003cbr\\u003eGrade_2_3_Proficiency_Reading=%{y}\\u003cbr\\u003eGrade_2_3_Proficiency_Math=%{z}\\u003cextra\\u003e\\u003c\\u002fextra\\u003e\",\"legendgroup\":\"Zimbabwe\",\"marker\":{\"color\":\"#EF553B\",\"symbol\":\"circle\"},\"mode\":\"markers\",\"name\":\"Zimbabwe\",\"scene\":\"scene\",\"showlegend\":true,\"x\":[4.95],\"y\":[20],\"z\":[0],\"type\":\"scatter3d\"}],                        {\"template\":{\"data\":{\"histogram2dcontour\":[{\"type\":\"histogram2dcontour\",\"colorbar\":{\"outlinewidth\":0,\"ticks\":\"\"},\"colorscale\":[[0.0,\"#0d0887\"],[0.1111111111111111,\"#46039f\"],[0.2222222222222222,\"#7201a8\"],[0.3333333333333333,\"#9c179e\"],[0.4444444444444444,\"#bd3786\"],[0.5555555555555556,\"#d8576b\"],[0.6666666666666666,\"#ed7953\"],[0.7777777777777778,\"#fb9f3a\"],[0.8888888888888888,\"#fdca26\"],[1.0,\"#f0f921\"]]}],\"choropleth\":[{\"type\":\"choropleth\",\"colorbar\":{\"outlinewidth\":0,\"ticks\":\"\"}}],\"histogram2d\":[{\"type\":\"histogram2d\",\"colorbar\":{\"outlinewidth\":0,\"ticks\":\"\"},\"colorscale\":[[0.0,\"#0d0887\"],[0.1111111111111111,\"#46039f\"],[0.2222222222222222,\"#7201a8\"],[0.3333333333333333,\"#9c179e\"],[0.4444444444444444,\"#bd3786\"],[0.5555555555555556,\"#d8576b\"],[0.6666666666666666,\"#ed7953\"],[0.7777777777777778,\"#fb9f3a\"],[0.8888888888888888,\"#fdca26\"],[1.0,\"#f0f921\"]]}],\"heatmap\":[{\"type\":\"heatmap\",\"colorbar\":{\"outlinewidth\":0,\"ticks\":\"\"},\"colorscale\":[[0.0,\"#0d0887\"],[0.1111111111111111,\"#46039f\"],[0.2222222222222222,\"#7201a8\"],[0.3333333333333333,\"#9c179e\"],[0.4444444444444444,\"#bd3786\"],[0.5555555555555556,\"#d8576b\"],[0.6666666666666666,\"#ed7953\"],[0.7777777777777778,\"#fb9f3a\"],[0.8888888888888888,\"#fdca26\"],[1.0,\"#f0f921\"]]}],\"heatmapgl\":[{\"type\":\"heatmapgl\",\"colorbar\":{\"outlinewidth\":0,\"ticks\":\"\"},\"colorscale\":[[0.0,\"#0d0887\"],[0.1111111111111111,\"#46039f\"],[0.2222222222222222,\"#7201a8\"],[0.3333333333333333,\"#9c179e\"],[0.4444444444444444,\"#bd3786\"],[0.5555555555555556,\"#d8576b\"],[0.6666666666666666,\"#ed7953\"],[0.7777777777777778,\"#fb9f3a\"],[0.8888888888888888,\"#fdca26\"],[1.0,\"#f0f921\"]]}],\"contourcarpet\":[{\"type\":\"contourcarpet\",\"colorbar\":{\"outlinewidth\":0,\"ticks\":\"\"}}],\"contour\":[{\"type\":\"contour\",\"colorbar\":{\"outlinewidth\":0,\"ticks\":\"\"},\"colorscale\":[[0.0,\"#0d0887\"],[0.1111111111111111,\"#46039f\"],[0.2222222222222222,\"#7201a8\"],[0.3333333333333333,\"#9c179e\"],[0.4444444444444444,\"#bd3786\"],[0.5555555555555556,\"#d8576b\"],[0.6666666666666666,\"#ed7953\"],[0.7777777777777778,\"#fb9f3a\"],[0.8888888888888888,\"#fdca26\"],[1.0,\"#f0f921\"]]}],\"surface\":[{\"type\":\"surface\",\"colorbar\":{\"outlinewidth\":0,\"ticks\":\"\"},\"colorscale\":[[0.0,\"#0d0887\"],[0.1111111111111111,\"#46039f\"],[0.2222222222222222,\"#7201a8\"],[0.3333333333333333,\"#9c179e\"],[0.4444444444444444,\"#bd3786\"],[0.5555555555555556,\"#d8576b\"],[0.6666666666666666,\"#ed7953\"],[0.7777777777777778,\"#fb9f3a\"],[0.8888888888888888,\"#fdca26\"],[1.0,\"#f0f921\"]]}],\"mesh3d\":[{\"type\":\"mesh3d\",\"colorbar\":{\"outlinewidth\":0,\"ticks\":\"\"}}],\"scatter\":[{\"marker\":{\"line\":{\"color\":\"#283442\"}},\"type\":\"scatter\"}],\"parcoords\":[{\"type\":\"parcoords\",\"line\":{\"colorbar\":{\"outlinewidth\":0,\"ticks\":\"\"}}}],\"scatterpolargl\":[{\"type\":\"scatterpolargl\",\"marker\":{\"colorbar\":{\"outlinewidth\":0,\"ticks\":\"\"}}}],\"bar\":[{\"error_x\":{\"color\":\"#f2f5fa\"},\"error_y\":{\"color\":\"#f2f5fa\"},\"marker\":{\"line\":{\"color\":\"rgb(17,17,17)\",\"width\":0.5},\"pattern\":{\"fillmode\":\"overlay\",\"size\":10,\"solidity\":0.2}},\"type\":\"bar\"}],\"scattergeo\":[{\"type\":\"scattergeo\",\"marker\":{\"colorbar\":{\"outlinewidth\":0,\"ticks\":\"\"}}}],\"scatterpolar\":[{\"type\":\"scatterpolar\",\"marker\":{\"colorbar\":{\"outlinewidth\":0,\"ticks\":\"\"}}}],\"histogram\":[{\"marker\":{\"pattern\":{\"fillmode\":\"overlay\",\"size\":10,\"solidity\":0.2}},\"type\":\"histogram\"}],\"scattergl\":[{\"marker\":{\"line\":{\"color\":\"#283442\"}},\"type\":\"scattergl\"}],\"scatter3d\":[{\"type\":\"scatter3d\",\"line\":{\"colorbar\":{\"outlinewidth\":0,\"ticks\":\"\"}},\"marker\":{\"colorbar\":{\"outlinewidth\":0,\"ticks\":\"\"}}}],\"scattermapbox\":[{\"type\":\"scattermapbox\",\"marker\":{\"colorbar\":{\"outlinewidth\":0,\"ticks\":\"\"}}}],\"scatterternary\":[{\"type\":\"scatterternary\",\"marker\":{\"colorbar\":{\"outlinewidth\":0,\"ticks\":\"\"}}}],\"scattercarpet\":[{\"type\":\"scattercarpet\",\"marker\":{\"colorbar\":{\"outlinewidth\":0,\"ticks\":\"\"}}}],\"carpet\":[{\"aaxis\":{\"endlinecolor\":\"#A2B1C6\",\"gridcolor\":\"#506784\",\"linecolor\":\"#506784\",\"minorgridcolor\":\"#506784\",\"startlinecolor\":\"#A2B1C6\"},\"baxis\":{\"endlinecolor\":\"#A2B1C6\",\"gridcolor\":\"#506784\",\"linecolor\":\"#506784\",\"minorgridcolor\":\"#506784\",\"startlinecolor\":\"#A2B1C6\"},\"type\":\"carpet\"}],\"table\":[{\"cells\":{\"fill\":{\"color\":\"#506784\"},\"line\":{\"color\":\"rgb(17,17,17)\"}},\"header\":{\"fill\":{\"color\":\"#2a3f5f\"},\"line\":{\"color\":\"rgb(17,17,17)\"}},\"type\":\"table\"}],\"barpolar\":[{\"marker\":{\"line\":{\"color\":\"rgb(17,17,17)\",\"width\":0.5},\"pattern\":{\"fillmode\":\"overlay\",\"size\":10,\"solidity\":0.2}},\"type\":\"barpolar\"}],\"pie\":[{\"automargin\":true,\"type\":\"pie\"}]},\"layout\":{\"autotypenumbers\":\"strict\",\"colorway\":[\"#636efa\",\"#EF553B\",\"#00cc96\",\"#ab63fa\",\"#FFA15A\",\"#19d3f3\",\"#FF6692\",\"#B6E880\",\"#FF97FF\",\"#FECB52\"],\"font\":{\"color\":\"#f2f5fa\"},\"hovermode\":\"closest\",\"hoverlabel\":{\"align\":\"left\"},\"paper_bgcolor\":\"rgb(17,17,17)\",\"plot_bgcolor\":\"rgb(17,17,17)\",\"polar\":{\"bgcolor\":\"rgb(17,17,17)\",\"angularaxis\":{\"gridcolor\":\"#506784\",\"linecolor\":\"#506784\",\"ticks\":\"\"},\"radialaxis\":{\"gridcolor\":\"#506784\",\"linecolor\":\"#506784\",\"ticks\":\"\"}},\"ternary\":{\"bgcolor\":\"rgb(17,17,17)\",\"aaxis\":{\"gridcolor\":\"#506784\",\"linecolor\":\"#506784\",\"ticks\":\"\"},\"baxis\":{\"gridcolor\":\"#506784\",\"linecolor\":\"#506784\",\"ticks\":\"\"},\"caxis\":{\"gridcolor\":\"#506784\",\"linecolor\":\"#506784\",\"ticks\":\"\"}},\"coloraxis\":{\"colorbar\":{\"outlinewidth\":0,\"ticks\":\"\"}},\"colorscale\":{\"sequential\":[[0.0,\"#0d0887\"],[0.1111111111111111,\"#46039f\"],[0.2222222222222222,\"#7201a8\"],[0.3333333333333333,\"#9c179e\"],[0.4444444444444444,\"#bd3786\"],[0.5555555555555556,\"#d8576b\"],[0.6666666666666666,\"#ed7953\"],[0.7777777777777778,\"#fb9f3a\"],[0.8888888888888888,\"#fdca26\"],[1.0,\"#f0f921\"]],\"sequentialminus\":[[0.0,\"#0d0887\"],[0.1111111111111111,\"#46039f\"],[0.2222222222222222,\"#7201a8\"],[0.3333333333333333,\"#9c179e\"],[0.4444444444444444,\"#bd3786\"],[0.5555555555555556,\"#d8576b\"],[0.6666666666666666,\"#ed7953\"],[0.7777777777777778,\"#fb9f3a\"],[0.8888888888888888,\"#fdca26\"],[1.0,\"#f0f921\"]],\"diverging\":[[0,\"#8e0152\"],[0.1,\"#c51b7d\"],[0.2,\"#de77ae\"],[0.3,\"#f1b6da\"],[0.4,\"#fde0ef\"],[0.5,\"#f7f7f7\"],[0.6,\"#e6f5d0\"],[0.7,\"#b8e186\"],[0.8,\"#7fbc41\"],[0.9,\"#4d9221\"],[1,\"#276419\"]]},\"xaxis\":{\"gridcolor\":\"#283442\",\"linecolor\":\"#506784\",\"ticks\":\"\",\"title\":{\"standoff\":15},\"zerolinecolor\":\"#283442\",\"automargin\":true,\"zerolinewidth\":2},\"yaxis\":{\"gridcolor\":\"#283442\",\"linecolor\":\"#506784\",\"ticks\":\"\",\"title\":{\"standoff\":15},\"zerolinecolor\":\"#283442\",\"automargin\":true,\"zerolinewidth\":2},\"scene\":{\"xaxis\":{\"backgroundcolor\":\"rgb(17,17,17)\",\"gridcolor\":\"#506784\",\"linecolor\":\"#506784\",\"showbackground\":true,\"ticks\":\"\",\"zerolinecolor\":\"#C8D4E3\",\"gridwidth\":2},\"yaxis\":{\"backgroundcolor\":\"rgb(17,17,17)\",\"gridcolor\":\"#506784\",\"linecolor\":\"#506784\",\"showbackground\":true,\"ticks\":\"\",\"zerolinecolor\":\"#C8D4E3\",\"gridwidth\":2},\"zaxis\":{\"backgroundcolor\":\"rgb(17,17,17)\",\"gridcolor\":\"#506784\",\"linecolor\":\"#506784\",\"showbackground\":true,\"ticks\":\"\",\"zerolinecolor\":\"#C8D4E3\",\"gridwidth\":2}},\"shapedefaults\":{\"line\":{\"color\":\"#f2f5fa\"}},\"annotationdefaults\":{\"arrowcolor\":\"#f2f5fa\",\"arrowhead\":0,\"arrowwidth\":1},\"geo\":{\"bgcolor\":\"rgb(17,17,17)\",\"landcolor\":\"rgb(17,17,17)\",\"subunitcolor\":\"#506784\",\"showland\":true,\"showlakes\":true,\"lakecolor\":\"rgb(17,17,17)\"},\"title\":{\"x\":0.05},\"updatemenudefaults\":{\"bgcolor\":\"#506784\",\"borderwidth\":0},\"sliderdefaults\":{\"bgcolor\":\"#C8D4E3\",\"borderwidth\":1,\"bordercolor\":\"rgb(17,17,17)\",\"tickwidth\":0},\"mapbox\":{\"style\":\"dark\"}}},\"scene\":{\"domain\":{\"x\":[0.0,1.0],\"y\":[0.0,1.0]},\"xaxis\":{\"title\":{\"text\":\"Unemployment_Rate\"}},\"yaxis\":{\"title\":{\"text\":\"Grade_2_3_Proficiency_Reading\"}},\"zaxis\":{\"title\":{\"text\":\"Grade_2_3_Proficiency_Math\"}}},\"legend\":{\"title\":{\"text\":\"Countries and areas\"},\"tracegroupgap\":0},\"title\":{\"text\":\"Unemployment vs. Proficiency\"}},                        {\"responsive\": true}                    ).then(function(){\n                            \nvar gd = document.getElementById('b7413d9b-2f86-49d1-acfb-d192c3bef298');\nvar x = new MutationObserver(function (mutations, observer) {{\n        var display = window.getComputedStyle(gd).display;\n        if (!display || display === 'none') {{\n            console.log([gd, 'removed!']);\n            Plotly.purge(gd);\n            observer.disconnect();\n        }}\n}});\n\n// Listen for the removal of the full notebook cells\nvar notebookContainer = gd.closest('#notebook-container');\nif (notebookContainer) {{\n    x.observe(notebookContainer, {childList: true});\n}}\n\n// Listen for the clearing of the current output cell\nvar outputEl = gd.closest('.output');\nif (outputEl) {{\n    x.observe(outputEl, {childList: true});\n}}\n\n                        })                };                });            </script>        </div>"
     },
     "metadata": {},
     "output_type": "display_data"
    }
   ],
   "source": [
    "fig = px.scatter_3d(df, x='Unemployment_Rate', y='Grade_2_3_Proficiency_Reading', z='Grade_2_3_Proficiency_Math',\n",
    "                   color='Countries and areas', title='Unemployment vs. Proficiency')\n",
    "fig.show()"
   ],
   "metadata": {
    "collapsed": false,
    "ExecuteTime": {
     "end_time": "2024-01-30T11:22:45.426575500Z",
     "start_time": "2024-01-30T11:22:36.976022100Z"
    }
   },
   "id": "213ed71292dd94d0"
  },
  {
   "cell_type": "code",
   "execution_count": 14,
   "outputs": [],
   "source": [],
   "metadata": {
    "collapsed": false,
    "ExecuteTime": {
     "end_time": "2024-01-30T11:22:45.564003700Z",
     "start_time": "2024-01-30T11:22:45.424574500Z"
    }
   },
   "id": "24a3a63099ac18dd"
  }
 ],
 "metadata": {
  "kernelspec": {
   "display_name": "Python 3",
   "language": "python",
   "name": "python3"
  },
  "language_info": {
   "codemirror_mode": {
    "name": "ipython",
    "version": 2
   },
   "file_extension": ".py",
   "mimetype": "text/x-python",
   "name": "python",
   "nbconvert_exporter": "python",
   "pygments_lexer": "ipython2",
   "version": "2.7.6"
  }
 },
 "nbformat": 4,
 "nbformat_minor": 5
}
