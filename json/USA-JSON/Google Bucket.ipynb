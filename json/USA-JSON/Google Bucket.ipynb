{
 "cells": [
  {
   "cell_type": "markdown",
   "id": "1a09fc4c",
   "metadata": {},
   "source": [
    "## Getting started with GCP Storage Bucket with Python"
   ]
  },
  {
   "cell_type": "code",
   "execution_count": null,
   "id": "70d8bf93",
   "metadata": {},
   "outputs": [],
   "source": [
    "# pip install --upgrade google-api-python-client\n",
    "# pip install --upgrade google-cloud-storage\n",
    "# https://cloud.google.com/storage/docs/reference/libraries?authuser=1#client-libraries-install-python"
   ]
  },
  {
   "cell_type": "markdown",
   "id": "d6c97a84",
   "metadata": {},
   "source": [
    "#### Make sure to download the Keys"
   ]
  },
  {
   "cell_type": "code",
   "execution_count": 2,
   "id": "e1b97048",
   "metadata": {},
   "outputs": [],
   "source": [
    "try:\n",
    "    from google.cloud import storage\n",
    "    import google.cloud.storage\n",
    "    import json\n",
    "    import os\n",
    "    import sys\n",
    "except Exception as e:\n",
    "    print(\"Error : {} \".format(e))"
   ]
  },
  {
   "cell_type": "code",
   "execution_count": 51,
   "id": "f3fb2f76",
   "metadata": {},
   "outputs": [],
   "source": [
    "# asl-123@patents-search-ai-347106.iam.gserviceaccount.com\n",
    "PATH = os.path.join(os.getcwd() , 'patents-search-ai-347106-575782eaf768.json')\n",
    "os.environ['GOOGLE_APPLICATION_CREDENTIALS'] = PATH"
   ]
  },
  {
   "cell_type": "code",
   "execution_count": 52,
   "id": "5365d540",
   "metadata": {},
   "outputs": [],
   "source": [
    "storage_client = storage.Client(PATH)"
   ]
  },
  {
   "cell_type": "code",
   "execution_count": 53,
   "id": "5d18f915",
   "metadata": {},
   "outputs": [
    {
     "data": {
      "text/plain": [
       "<google.cloud.storage.client.Client at 0x208f776b760>"
      ]
     },
     "execution_count": 53,
     "metadata": {},
     "output_type": "execute_result"
    }
   ],
   "source": [
    "storage_client"
   ]
  },
  {
   "cell_type": "markdown",
   "source": [
    "### Create a Folder into The Bucket"
   ],
   "metadata": {
    "collapsed": false
   }
  },
  {
   "cell_type": "code",
   "execution_count": 68,
   "outputs": [],
   "source": [
    "bucket = storage_client.get_bucket('search-ai-data-landing-asl')"
   ],
   "metadata": {
    "collapsed": false,
    "pycharm": {
     "name": "#%%\n"
    }
   }
  },
  {
   "cell_type": "code",
   "execution_count": 75,
   "outputs": [],
   "source": [
    "def upload_to_bucket(blob_name, file_path, bucket_name):\n",
    "    bucket = storage_client.get_bucket(bucket_name)\n",
    "    blob = bucket.blob(blob_name)\n",
    "    blob.upload_from_filename(file_path)"
   ],
   "metadata": {
    "collapsed": false,
    "pycharm": {
     "name": "#%%\n"
    }
   }
  },
  {
   "cell_type": "code",
   "execution_count": 78,
   "outputs": [],
   "source": [
    "file = '12000057-FA3XM2HRPPOPPY5-ABST.xml'\n",
    "cleanJsonPath = \"C:/search-ai-data-landing/2022-04-12\"\n",
    "bucket = 'search-ai-data-landing-asl'\n",
    "upload_to_bucket(file, cleanJsonPath + \"/\" +file, bucket)"
   ],
   "metadata": {
    "collapsed": false,
    "pycharm": {
     "name": "#%%\n"
    }
   }
  },
  {
   "cell_type": "markdown",
   "id": "2a6e09ee",
   "metadata": {},
   "source": [
    "#### Getting all Files from GCP Bucket"
   ]
  },
  {
   "cell_type": "code",
   "execution_count": 63,
   "id": "4a1e0b43",
   "metadata": {},
   "outputs": [],
   "source": [
    "bucket = storage_client.get_bucket('search-ai-data-landing-asl')"
   ]
  },
  {
   "cell_type": "code",
   "execution_count": 67,
   "id": "8d5f7a16",
   "metadata": {},
   "outputs": [
    {
     "data": {
      "text/plain": "['2022-04-12/',\n '2022-04-12/12000057-FA3XM2HRPPOPPY5-ABST.xml',\n '2022-04-12/12001267-FAAZ01XAPPOPPY5-SPEC.xml',\n '2022-04-12/12001267-FAAZ01Z3PPOPPY5-ABST.xml']"
     },
     "execution_count": 67,
     "metadata": {},
     "output_type": "execute_result"
    }
   ],
   "source": [
    "filename = [filename.name for filename in list(bucket.list_blobs(prefix='2022-04-12/')) ]\n",
    "filename"
   ]
  },
  {
   "cell_type": "markdown",
   "id": "a48bc32f",
   "metadata": {},
   "source": [
    "#### Downloading a File from Bucket"
   ]
  },
  {
   "cell_type": "code",
   "execution_count": 19,
   "id": "aa5f7bc0",
   "metadata": {},
   "outputs": [],
   "source": [
    "blop = bucket.blob(blob_name = '12018718-IX85LXGIRXEAPX4-CLM.xml').download_as_string()"
   ]
  },
  {
   "cell_type": "code",
   "execution_count": 20,
   "id": "0dbb1ae7",
   "metadata": {},
   "outputs": [],
   "source": [
    "with open ('12018718-IX85LXGIRXEAPX4-CLM.xml', \"wb\") as f:\n",
    "        f.write(blop)"
   ]
  },
  {
   "cell_type": "markdown",
   "id": "45153e23",
   "metadata": {},
   "source": [
    "#### Pushing a file on GCP bucket"
   ]
  },
  {
   "cell_type": "code",
   "execution_count": 120,
   "id": "1fc60da6",
   "metadata": {},
   "outputs": [],
   "source": [
    "filename= 'rakib/'"
   ]
  },
  {
   "cell_type": "code",
   "execution_count": 123,
   "id": "5b03b5e7",
   "metadata": {},
   "outputs": [],
   "source": [
    "UPLOADFILE = 'D:/jsonfile/'"
   ]
  },
  {
   "cell_type": "code",
   "execution_count": 124,
   "id": "89fd5237",
   "metadata": {},
   "outputs": [
    {
     "ename": "PermissionError",
     "evalue": "[Errno 13] Permission denied: 'D:/jsonfile/'",
     "output_type": "error",
     "traceback": [
      "\u001B[1;31m---------------------------------------------------------------------------\u001B[0m",
      "\u001B[1;31mPermissionError\u001B[0m                           Traceback (most recent call last)",
      "\u001B[1;32m~\\AppData\\Local\\Temp/ipykernel_15236/215742814.py\u001B[0m in \u001B[0;36m<module>\u001B[1;34m\u001B[0m\n\u001B[0;32m      1\u001B[0m \u001B[0mbucket\u001B[0m \u001B[1;33m=\u001B[0m \u001B[0mstorage_client\u001B[0m\u001B[1;33m.\u001B[0m\u001B[0mget_bucket\u001B[0m\u001B[1;33m(\u001B[0m\u001B[1;34m'search-ai-data-landing-asl'\u001B[0m\u001B[1;33m)\u001B[0m\u001B[1;33m\u001B[0m\u001B[1;33m\u001B[0m\u001B[0m\n\u001B[0;32m      2\u001B[0m \u001B[0mblob\u001B[0m \u001B[1;33m=\u001B[0m \u001B[0mbucket\u001B[0m\u001B[1;33m.\u001B[0m\u001B[0mblob\u001B[0m\u001B[1;33m(\u001B[0m\u001B[0mfilename\u001B[0m\u001B[1;33m)\u001B[0m\u001B[1;33m\u001B[0m\u001B[1;33m\u001B[0m\u001B[0m\n\u001B[1;32m----> 3\u001B[1;33m \u001B[0mblob\u001B[0m\u001B[1;33m.\u001B[0m\u001B[0mupload_from_filename\u001B[0m\u001B[1;33m(\u001B[0m\u001B[0mUPLOADFILE\u001B[0m\u001B[1;33m)\u001B[0m\u001B[1;33m\u001B[0m\u001B[1;33m\u001B[0m\u001B[0m\n\u001B[0m",
      "\u001B[1;32m~\\Envs\\test\\lib\\site-packages\\google\\cloud\\storage\\blob.py\u001B[0m in \u001B[0;36mupload_from_filename\u001B[1;34m(self, filename, content_type, num_retries, client, predefined_acl, if_generation_match, if_generation_not_match, if_metageneration_match, if_metageneration_not_match, timeout, checksum, retry)\u001B[0m\n\u001B[0;32m   2718\u001B[0m         \u001B[0mcontent_type\u001B[0m \u001B[1;33m=\u001B[0m \u001B[0mself\u001B[0m\u001B[1;33m.\u001B[0m\u001B[0m_get_content_type\u001B[0m\u001B[1;33m(\u001B[0m\u001B[0mcontent_type\u001B[0m\u001B[1;33m,\u001B[0m \u001B[0mfilename\u001B[0m\u001B[1;33m=\u001B[0m\u001B[0mfilename\u001B[0m\u001B[1;33m)\u001B[0m\u001B[1;33m\u001B[0m\u001B[1;33m\u001B[0m\u001B[0m\n\u001B[0;32m   2719\u001B[0m \u001B[1;33m\u001B[0m\u001B[0m\n\u001B[1;32m-> 2720\u001B[1;33m         \u001B[1;32mwith\u001B[0m \u001B[0mopen\u001B[0m\u001B[1;33m(\u001B[0m\u001B[0mfilename\u001B[0m\u001B[1;33m,\u001B[0m \u001B[1;34m\"rb\"\u001B[0m\u001B[1;33m)\u001B[0m \u001B[1;32mas\u001B[0m \u001B[0mfile_obj\u001B[0m\u001B[1;33m:\u001B[0m\u001B[1;33m\u001B[0m\u001B[1;33m\u001B[0m\u001B[0m\n\u001B[0m\u001B[0;32m   2721\u001B[0m             \u001B[0mtotal_bytes\u001B[0m \u001B[1;33m=\u001B[0m \u001B[0mos\u001B[0m\u001B[1;33m.\u001B[0m\u001B[0mfstat\u001B[0m\u001B[1;33m(\u001B[0m\u001B[0mfile_obj\u001B[0m\u001B[1;33m.\u001B[0m\u001B[0mfileno\u001B[0m\u001B[1;33m(\u001B[0m\u001B[1;33m)\u001B[0m\u001B[1;33m)\u001B[0m\u001B[1;33m.\u001B[0m\u001B[0mst_size\u001B[0m\u001B[1;33m\u001B[0m\u001B[1;33m\u001B[0m\u001B[0m\n\u001B[0;32m   2722\u001B[0m             self.upload_from_file(\n",
      "\u001B[1;31mPermissionError\u001B[0m: [Errno 13] Permission denied: 'D:/jsonfile/'"
     ]
    }
   ],
   "source": [
    "bucket = storage_client.get_bucket('search-ai-data-landing-asl')\n",
    "blob = bucket.blob(filename)\n",
    "blob.upload_from_filename(UPLOADFILE)"
   ]
  },
  {
   "cell_type": "markdown",
   "id": "feac7cc6",
   "metadata": {},
   "source": [
    "#### Reading CSV File Drieectly from GCP bucket"
   ]
  },
  {
   "cell_type": "code",
   "execution_count": null,
   "id": "a19daac8",
   "metadata": {},
   "outputs": [],
   "source": [
    "import pandas as pd \n",
    "import io\n",
    "from io import BytesIO"
   ]
  },
  {
   "cell_type": "code",
   "execution_count": null,
   "id": "a9eb3485",
   "metadata": {},
   "outputs": [],
   "source": [
    "df = pd.read_csv(\n",
    "    io.BytesIO(\n",
    "                 bucket.blob(blob_name = 'netflix_titles.csv').download_as_string() \n",
    "              ) ,\n",
    "                 encoding='UTF-8',\n",
    "                 sep=',')"
   ]
  },
  {
   "cell_type": "code",
   "execution_count": null,
   "id": "1d314913",
   "metadata": {},
   "outputs": [],
   "source": [
    "df.head(5)"
   ]
  },
  {
   "cell_type": "markdown",
   "id": "0374c05f",
   "metadata": {},
   "source": [
    "#### Deleting a file from GCP bucket"
   ]
  },
  {
   "cell_type": "code",
   "execution_count": 39,
   "id": "a5f946c4",
   "metadata": {},
   "outputs": [
    {
     "data": {
      "text/plain": [
       "['12001267-FAAZ01Y8PPOPPY5-CLM.xml',\n",
       " '12001267-GMOXGR5VPPOPPY3-CLM.xml',\n",
       " '12001267-GQ5GAMUVPPOPPY1-CLM.xml']"
      ]
     },
     "execution_count": 39,
     "metadata": {},
     "output_type": "execute_result"
    }
   ],
   "source": [
    "filename = [filename.name for filename in list(bucket.list_blobs(prefix='')) ]\n",
    "filename"
   ]
  },
  {
   "cell_type": "code",
   "execution_count": 34,
   "id": "64c6ff76",
   "metadata": {},
   "outputs": [],
   "source": [
    "DELETE_FILE = '12001267-FAAZ01XAPPOPPY5-SPEC.xml'"
   ]
  },
  {
   "cell_type": "code",
   "execution_count": 35,
   "id": "d29b7cb2",
   "metadata": {},
   "outputs": [],
   "source": [
    "bucket = storage_client.get_bucket('search-ai-data-landing-asl')\n",
    "blob = bucket.blob(DELETE_FILE)"
   ]
  },
  {
   "cell_type": "code",
   "execution_count": 36,
   "id": "b561fc0a",
   "metadata": {},
   "outputs": [],
   "source": [
    "blob.delete()"
   ]
  },
  {
   "cell_type": "code",
   "execution_count": 125,
   "id": "377c3f88",
   "metadata": {},
   "outputs": [
    {
     "data": {
      "text/plain": "[]"
     },
     "execution_count": 125,
     "metadata": {},
     "output_type": "execute_result"
    }
   ],
   "source": [
    "filename = [filename.name for filename in list(bucket.list_blobs(prefix='rakib')) ]\n",
    "filename"
   ]
  },
  {
   "cell_type": "code",
   "execution_count": null,
   "id": "d22a10dd",
   "metadata": {},
   "outputs": [],
   "source": []
  }
 ],
 "metadata": {
  "kernelspec": {
   "display_name": "Python 3 (ipykernel)",
   "language": "python",
   "name": "python3"
  },
  "language_info": {
   "codemirror_mode": {
    "name": "ipython",
    "version": 3
   },
   "file_extension": ".py",
   "mimetype": "text/x-python",
   "name": "python",
   "nbconvert_exporter": "python",
   "pygments_lexer": "ipython3",
   "version": "3.10.0"
  }
 },
 "nbformat": 4,
 "nbformat_minor": 5
}