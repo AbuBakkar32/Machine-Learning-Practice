{
 "cells": [
  {
   "cell_type": "markdown",
   "id": "1a09fc4c",
   "metadata": {},
   "source": [
    "## Getting started with GCP Storage Bucket with Python"
   ]
  },
  {
   "cell_type": "code",
   "execution_count": null,
   "id": "70d8bf93",
   "metadata": {},
   "outputs": [],
   "source": [
    "# pip install --upgrade google-api-python-client\n",
    "# pip install --upgrade google-cloud-storage\n",
    "# https://cloud.google.com/storage/docs/reference/libraries?authuser=1#client-libraries-install-python"
   ]
  },
  {
   "cell_type": "markdown",
   "id": "d6c97a84",
   "metadata": {},
   "source": [
    "#### Make sure to download the Keys"
   ]
  },
  {
   "cell_type": "code",
   "execution_count": 1,
   "id": "e1b97048",
   "metadata": {},
   "outputs": [],
   "source": [
    "try:\n",
    "    from google.cloud import storage\n",
    "    import google.cloud.storage\n",
    "    import json\n",
    "    import os\n",
    "    import sys\n",
    "except Exception as e:\n",
    "    print(\"Error : {} \".format(e))"
   ]
  },
  {
   "cell_type": "code",
   "execution_count": 4,
   "id": "f3fb2f76",
   "metadata": {},
   "outputs": [],
   "source": [
    "PATH = os.path.join(os.getcwd() , 'API.json')\n",
    "os.environ['GOOGLE_APPLICATION_CREDENTIALS'] = PATH"
   ]
  },
  {
   "cell_type": "code",
   "execution_count": null,
   "id": "5365d540",
   "metadata": {},
   "outputs": [],
   "source": [
    "storage_client = storage.Client(PATH)"
   ]
  },
  {
   "cell_type": "code",
   "execution_count": null,
   "id": "5d18f915",
   "metadata": {},
   "outputs": [],
   "source": [
    "storage_client"
   ]
  },
  {
   "cell_type": "markdown",
   "id": "2a6e09ee",
   "metadata": {},
   "source": [
    "#### Getting all Files from GCP Bucket"
   ]
  },
  {
   "cell_type": "code",
   "execution_count": null,
   "id": "4a1e0b43",
   "metadata": {},
   "outputs": [],
   "source": [
    "bucket = storage_client.get_bucket('myfirst-bucket-1995')"
   ]
  },
  {
   "cell_type": "code",
   "execution_count": null,
   "id": "8d5f7a16",
   "metadata": {},
   "outputs": [],
   "source": [
    "filename = [filename.name for filename in list(bucket.list_blobs(prefix='')) ]\n",
    "filename"
   ]
  },
  {
   "cell_type": "markdown",
   "id": "a48bc32f",
   "metadata": {},
   "source": [
    "#### Downloading a File from Bucket"
   ]
  },
  {
   "cell_type": "code",
   "execution_count": null,
   "id": "aa5f7bc0",
   "metadata": {},
   "outputs": [],
   "source": [
    "blop = bucket.blob(blob_name = 'netflix_titles.csv').download_as_string()"
   ]
  },
  {
   "cell_type": "code",
   "execution_count": null,
   "id": "0dbb1ae7",
   "metadata": {},
   "outputs": [],
   "source": [
    "with open ('doo.csv', \"wb\") as f:\n",
    "        f.write(blop)"
   ]
  },
  {
   "cell_type": "markdown",
   "id": "45153e23",
   "metadata": {},
   "source": [
    "#### Pushing a file on GCP bucket"
   ]
  },
  {
   "cell_type": "code",
   "execution_count": null,
   "id": "1fc60da6",
   "metadata": {},
   "outputs": [],
   "source": [
    "filename= 'doo.csv'"
   ]
  },
  {
   "cell_type": "code",
   "execution_count": null,
   "id": "5b03b5e7",
   "metadata": {},
   "outputs": [],
   "source": [
    "UPLOADFILE = os.path.join(os.getcwd(), filename)"
   ]
  },
  {
   "cell_type": "code",
   "execution_count": null,
   "id": "89fd5237",
   "metadata": {},
   "outputs": [],
   "source": [
    "bucket = storage_client.get_bucket('myfirst-bucket-1995')\n",
    "blob = bucket.blob(filename)\n",
    "blob.upload_from_filename(UPLOADFILE)"
   ]
  },
  {
   "cell_type": "markdown",
   "id": "feac7cc6",
   "metadata": {},
   "source": [
    "#### Reading CSV File Drieectly from GCP bucket"
   ]
  },
  {
   "cell_type": "code",
   "execution_count": null,
   "id": "a19daac8",
   "metadata": {},
   "outputs": [],
   "source": [
    "import pandas as pd \n",
    "import io\n",
    "from io import BytesIO"
   ]
  },
  {
   "cell_type": "code",
   "execution_count": null,
   "id": "a9eb3485",
   "metadata": {},
   "outputs": [],
   "source": [
    "df = pd.read_csv(\n",
    "    io.BytesIO(\n",
    "                 bucket.blob(blob_name = 'netflix_titles.csv').download_as_string() \n",
    "              ) ,\n",
    "                 encoding='UTF-8',\n",
    "                 sep=',')"
   ]
  },
  {
   "cell_type": "code",
   "execution_count": null,
   "id": "1d314913",
   "metadata": {},
   "outputs": [],
   "source": [
    "df.head(5)"
   ]
  },
  {
   "cell_type": "markdown",
   "id": "0374c05f",
   "metadata": {},
   "source": [
    "#### Deleting a file from GCP bucket"
   ]
  },
  {
   "cell_type": "code",
   "execution_count": null,
   "id": "a5f946c4",
   "metadata": {},
   "outputs": [],
   "source": [
    "filename = [filename.name for filename in list(bucket.list_blobs(prefix='')) ]\n",
    "filename"
   ]
  },
  {
   "cell_type": "code",
   "execution_count": null,
   "id": "64c6ff76",
   "metadata": {},
   "outputs": [],
   "source": [
    "DELETE_FILE = 'doo.csv'"
   ]
  },
  {
   "cell_type": "code",
   "execution_count": null,
   "id": "d29b7cb2",
   "metadata": {},
   "outputs": [],
   "source": [
    "bucket = storage_client.get_bucket('myfirst-bucket-1995')\n",
    "blob = bucket.blob(DELETE_FILE)"
   ]
  },
  {
   "cell_type": "code",
   "execution_count": null,
   "id": "b561fc0a",
   "metadata": {},
   "outputs": [],
   "source": [
    "blob.delete()"
   ]
  },
  {
   "cell_type": "code",
   "execution_count": null,
   "id": "377c3f88",
   "metadata": {},
   "outputs": [],
   "source": [
    "filename = [filename.name for filename in list(bucket.list_blobs(prefix='')) ]\n",
    "filename"
   ]
  },
  {
   "cell_type": "code",
   "execution_count": null,
   "id": "d22a10dd",
   "metadata": {},
   "outputs": [],
   "source": []
  }
 ],
 "metadata": {
  "kernelspec": {
   "display_name": "Python 3 (ipykernel)",
   "language": "python",
   "name": "python3"
  },
  "language_info": {
   "codemirror_mode": {
    "name": "ipython",
    "version": 3
   },
   "file_extension": ".py",
   "mimetype": "text/x-python",
   "name": "python",
   "nbconvert_exporter": "python",
   "pygments_lexer": "ipython3",
   "version": "3.10.0"
  }
 },
 "nbformat": 4,
 "nbformat_minor": 5
}