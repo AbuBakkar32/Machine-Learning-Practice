{
 "cells": [
  {
   "cell_type": "markdown",
   "id": "4ec9c6a9",
   "metadata": {},
   "source": [
    "## Getting started with GCP Storage Bucket with Python"
   ]
  },
  {
   "cell_type": "code",
   "execution_count": null,
   "id": "5e6aac80",
   "metadata": {},
   "outputs": [],
   "source": [
    "# pip install --upgrade google-api-python-client\n",
    "# pip install --upgrade google-cloud-storage\n",
    "# https://cloud.google.com/storage/docs/reference/libraries?authuser=1#client-libraries-install-python"
   ]
  },
  {
   "cell_type": "markdown",
   "id": "3a811a63",
   "metadata": {},
   "source": [
    "#### Make sure to download the Keys"
   ]
  },
  {
   "cell_type": "code",
   "execution_count": 47,
   "id": "f42b53ad",
   "metadata": {
    "ExecuteTime": {
     "end_time": "2022-04-15T10:31:56.060368Z",
     "start_time": "2022-04-15T10:31:55.851481Z"
    }
   },
   "outputs": [],
   "source": [
    "try:\n",
    "    from google.cloud import storage\n",
    "    import xml.etree.ElementTree as ET\n",
    "    import google.cloud.storage\n",
    "    import json\n",
    "    import os\n",
    "    import sys\n",
    "except Exception as e:\n",
    "    print(\"Error : {} \".format(e))"
   ]
  },
  {
   "cell_type": "code",
   "execution_count": 48,
   "id": "557ca425",
   "metadata": {
    "ExecuteTime": {
     "end_time": "2022-04-15T10:31:58.587225Z",
     "start_time": "2022-04-15T10:31:58.563209Z"
    }
   },
   "outputs": [],
   "source": [
    "# asl-123@patents-search-ai-347106.iam.gserviceaccount.com\n",
    "PATH = os.path.join(os.getcwd() , 'patents-search-ai-347106-575782eaf768.json')\n",
    "os.environ['GOOGLE_APPLICATION_CREDENTIALS'] = PATH"
   ]
  },
  {
   "cell_type": "code",
   "execution_count": 49,
   "id": "d3526639",
   "metadata": {
    "ExecuteTime": {
     "end_time": "2022-04-15T10:32:00.328536Z",
     "start_time": "2022-04-15T10:32:00.154689Z"
    }
   },
   "outputs": [],
   "source": [
    "storage_client = storage.Client(PATH)"
   ]
  },
  {
   "cell_type": "code",
   "execution_count": 50,
   "id": "8b7d97b4",
   "metadata": {
    "ExecuteTime": {
     "end_time": "2022-04-15T10:32:02.700901Z",
     "start_time": "2022-04-15T10:32:02.629278Z"
    }
   },
   "outputs": [
    {
     "data": {
      "text/plain": [
       "<google.cloud.storage.client.Client at 0x1cf907e5520>"
      ]
     },
     "execution_count": 50,
     "metadata": {},
     "output_type": "execute_result"
    }
   ],
   "source": [
    "storage_client"
   ]
  },
  {
   "cell_type": "markdown",
   "id": "e367d84d",
   "metadata": {},
   "source": [
    "### Create a Folder into The Bucket"
   ]
  },
  {
   "cell_type": "code",
   "execution_count": 51,
   "id": "5e31961e",
   "metadata": {
    "ExecuteTime": {
     "end_time": "2022-04-15T10:32:06.546042Z",
     "start_time": "2022-04-15T10:32:05.103075Z"
    },
    "pycharm": {
     "name": "#%%\n"
    }
   },
   "outputs": [],
   "source": [
    "bucket = storage_client.get_bucket('search-ai-data-landing-asl')"
   ]
  },
  {
   "cell_type": "code",
   "execution_count": 6,
   "id": "0c6b1541",
   "metadata": {
    "ExecuteTime": {
     "end_time": "2022-04-15T09:22:47.833117Z",
     "start_time": "2022-04-15T09:22:47.808831Z"
    },
    "pycharm": {
     "name": "#%%\n"
    }
   },
   "outputs": [],
   "source": [
    "def upload_to_bucket(blob_name, file_path, bucket_name):\n",
    "    bucket = storage_client.get_bucket(bucket_name)\n",
    "    blob = bucket.blob(blob_name)\n",
    "    blob.upload_from_filename(file_path)"
   ]
  },
  {
   "cell_type": "code",
   "execution_count": 78,
   "id": "2e20ca56",
   "metadata": {
    "pycharm": {
     "name": "#%%\n"
    }
   },
   "outputs": [],
   "source": [
    "file = '12000057-FA3XM2HRPPOPPY5-ABST.xml'\n",
    "cleanJsonPath = \"C:/search-ai-data-landing/2022-04-12\"\n",
    "bucket = 'search-ai-data-landing-asl'\n",
    "upload_to_bucket(file, cleanJsonPath + \"/\" +file, bucket)"
   ]
  },
  {
   "cell_type": "markdown",
   "id": "94470547",
   "metadata": {},
   "source": [
    "#### Getting all Files from GCP Bucket"
   ]
  },
  {
   "cell_type": "code",
   "execution_count": 52,
   "id": "3650e991",
   "metadata": {
    "ExecuteTime": {
     "end_time": "2022-04-15T10:32:28.271103Z",
     "start_time": "2022-04-15T10:32:27.705158Z"
    }
   },
   "outputs": [],
   "source": [
    "bucket = storage_client.get_bucket('search-ai-data-landing-asl')"
   ]
  },
  {
   "cell_type": "code",
   "execution_count": 54,
   "id": "7ebc1a80",
   "metadata": {
    "ExecuteTime": {
     "end_time": "2022-04-15T10:33:08.867912Z",
     "start_time": "2022-04-15T10:33:08.325525Z"
    }
   },
   "outputs": [
    {
     "ename": "AttributeError",
     "evalue": "module 'cloudstorage' has no attribute 'open'",
     "output_type": "error",
     "traceback": [
      "\u001b[1;31m---------------------------------------------------------------------------\u001b[0m",
      "\u001b[1;31mAttributeError\u001b[0m                            Traceback (most recent call last)",
      "\u001b[1;32m<ipython-input-54-a568f7055ca3>\u001b[0m in \u001b[0;36m<module>\u001b[1;34m\u001b[0m\n\u001b[0;32m      1\u001b[0m \u001b[0mfilename\u001b[0m \u001b[1;33m=\u001b[0m \u001b[1;33m[\u001b[0m\u001b[0mfilename\u001b[0m\u001b[1;33m.\u001b[0m\u001b[0mname\u001b[0m \u001b[1;32mfor\u001b[0m \u001b[0mfilename\u001b[0m \u001b[1;32min\u001b[0m \u001b[0mlist\u001b[0m\u001b[1;33m(\u001b[0m\u001b[0mbucket\u001b[0m\u001b[1;33m.\u001b[0m\u001b[0mlist_blobs\u001b[0m\u001b[1;33m(\u001b[0m\u001b[0mprefix\u001b[0m\u001b[1;33m=\u001b[0m\u001b[1;34m'2022-04-14'\u001b[0m\u001b[1;33m)\u001b[0m\u001b[1;33m)\u001b[0m \u001b[1;33m]\u001b[0m\u001b[1;33m\u001b[0m\u001b[1;33m\u001b[0m\u001b[0m\n\u001b[0;32m      2\u001b[0m \u001b[1;32mfor\u001b[0m \u001b[0mi\u001b[0m \u001b[1;32min\u001b[0m \u001b[0mfilename\u001b[0m\u001b[1;33m[\u001b[0m\u001b[1;36m1\u001b[0m\u001b[1;33m:\u001b[0m\u001b[1;33m]\u001b[0m\u001b[1;33m:\u001b[0m\u001b[1;33m\u001b[0m\u001b[1;33m\u001b[0m\u001b[0m\n\u001b[1;32m----> 3\u001b[1;33m     \u001b[0mgcs_file\u001b[0m \u001b[1;33m=\u001b[0m \u001b[0mgcs\u001b[0m\u001b[1;33m.\u001b[0m\u001b[0mopen\u001b[0m\u001b[1;33m(\u001b[0m\u001b[0mi\u001b[0m\u001b[1;33m)\u001b[0m\u001b[1;33m\u001b[0m\u001b[1;33m\u001b[0m\u001b[0m\n\u001b[0m\u001b[0;32m      4\u001b[0m     \u001b[0mcontents\u001b[0m \u001b[1;33m=\u001b[0m \u001b[0mgcs_file\u001b[0m\u001b[1;33m.\u001b[0m\u001b[0mread\u001b[0m\u001b[1;33m(\u001b[0m\u001b[1;33m)\u001b[0m\u001b[1;33m\u001b[0m\u001b[1;33m\u001b[0m\u001b[0m\n\u001b[0;32m      5\u001b[0m     \u001b[0mgcs_file\u001b[0m\u001b[1;33m.\u001b[0m\u001b[0mclose\u001b[0m\u001b[1;33m(\u001b[0m\u001b[1;33m)\u001b[0m\u001b[1;33m\u001b[0m\u001b[1;33m\u001b[0m\u001b[0m\n",
      "\u001b[1;31mAttributeError\u001b[0m: module 'cloudstorage' has no attribute 'open'"
     ]
    }
   ],
   "source": [
    "filename = [filename.name for filename in list(bucket.list_blobs(prefix='2022-04-14')) ]\n",
    "for i in filename[1:]:\n",
    "    gcs_file = bucket.\n",
    "    contents = gcs_file.read()\n",
    "    gcs_file.close()\n",
    "    root = ET.fromstring(contents)\n",
    "    print(root)\n",
    "    \n",
    "    \n",
    "    "
   ]
  },
  {
   "cell_type": "code",
   "execution_count": 35,
   "id": "45f95cb9",
   "metadata": {
    "ExecuteTime": {
     "end_time": "2022-04-15T10:20:05.285411Z",
     "start_time": "2022-04-15T10:20:03.028200Z"
    }
   },
   "outputs": [],
   "source": [
    "import cloudstorage as gcs"
   ]
  },
  {
   "cell_type": "code",
   "execution_count": 64,
   "id": "770af2c0",
   "metadata": {
    "ExecuteTime": {
     "end_time": "2022-04-15T11:17:19.053762Z",
     "start_time": "2022-04-15T11:17:18.097993Z"
    }
   },
   "outputs": [],
   "source": [
    "bucket = storage_client.get_bucket('search-ai-data-landing-asl')"
   ]
  },
  {
   "cell_type": "code",
   "execution_count": 65,
   "id": "b0fd0510",
   "metadata": {
    "ExecuteTime": {
     "end_time": "2022-04-15T11:17:22.867848Z",
     "start_time": "2022-04-15T11:17:20.581350Z"
    }
   },
   "outputs": [],
   "source": [
    "filename = [filename.name for filename in list(bucket.list_blobs(prefix='')) ]\n",
    "for filename in filename[1:]:\n",
    "    blop = bucket.blob(blob_name = filename).download_as_string()\n",
    "    open('MTD_MSIL1C.xml', 'wb').write(blop)"
   ]
  },
  {
   "cell_type": "code",
   "execution_count": null,
   "id": "396e910e",
   "metadata": {},
   "outputs": [],
   "source": []
  },
  {
   "cell_type": "markdown",
   "id": "53a09559",
   "metadata": {},
   "source": [
    "#### Downloading a File from Bucket"
   ]
  },
  {
   "cell_type": "code",
   "execution_count": 62,
   "id": "7cbc9336",
   "metadata": {
    "ExecuteTime": {
     "end_time": "2022-04-15T10:44:08.984325Z",
     "start_time": "2022-04-15T10:44:07.775657Z"
    }
   },
   "outputs": [],
   "source": [
    "blop = bucket.blob(blob_name = '2022-04-14/12000057-FA3XM2HRPPOPPY5-ABST.xml').download_as_string()"
   ]
  },
  {
   "cell_type": "code",
   "execution_count": 63,
   "id": "b62eb855",
   "metadata": {
    "ExecuteTime": {
     "end_time": "2022-04-15T10:44:18.959947Z",
     "start_time": "2022-04-15T10:44:18.927876Z"
    }
   },
   "outputs": [
    {
     "data": {
      "text/plain": [
       "b'<us-patent-application lang=\"EN\" dtd-version=\"v1.0.3 2011-06-23\" id=\"us-patent-application\" country=\"US\">\\r\\n  <us-bibliographic-data-application lang=\"EN\" country=\"US\">\\r\\n    <application-reference appl-type=\"utility\">\\r\\n      <document-id>\\r\\n        <doc-number>12000057</doc-number>\\r\\n        <date>2007-12-07</date>\\r\\n      </document-id>\\r\\n    </application-reference>\\r\\n  </us-bibliographic-data-application>\\r\\n  <abstract id=\"abstract\">\\r\\n    <p id=\"p-1\" num=\"1\">-14- P6442 Abstract Friction-tolerant disks made of fiber-reinforced ceramic Use of polymer-bound fiber tows containing carbon fibers, the polymer- bound fiber tows having an average length of 3 mm to 50 mm measured in the fiber direction<confidence value=\"6\">,</confidence>\\r\\n and an average bundle thickness of 0.1 mm to 10 mm measured perpendicular to the fiber direction, and in which at least 75% of all polymer-bound fiber tows have a length that is at least 90% and not greater than 110% of the average length, in the manufacture of carbon- ceramic brake disks and carbon-ceramic clutch disks.    </p>\\r\\n  </abstract>\\r\\n</us-patent-application>'"
      ]
     },
     "execution_count": 63,
     "metadata": {},
     "output_type": "execute_result"
    }
   ],
   "source": [
    "open('MTD_MSIL1C.xml', 'wb').write(blop)\n",
    "        "
   ]
  },
  {
   "cell_type": "markdown",
   "id": "27da13f8",
   "metadata": {},
   "source": [
    "#### Pushing a file on GCP bucket"
   ]
  },
  {
   "cell_type": "code",
   "execution_count": 120,
   "id": "45ca978b",
   "metadata": {},
   "outputs": [],
   "source": [
    "filename= 'rakib/'"
   ]
  },
  {
   "cell_type": "code",
   "execution_count": 123,
   "id": "ab7da469",
   "metadata": {},
   "outputs": [],
   "source": [
    "UPLOADFILE = 'D:/jsonfile/'"
   ]
  },
  {
   "cell_type": "code",
   "execution_count": null,
   "id": "4e469aeb",
   "metadata": {},
   "outputs": [],
   "source": [
    "bucket = storage_client.get_bucket('search-ai-data-landing-asl')\n",
    "blob = bucket.blob(filename)\n",
    "blob.upload_from_filename(UPLOADFILE)"
   ]
  },
  {
   "cell_type": "markdown",
   "id": "63bb7d56",
   "metadata": {},
   "source": [
    "#### Reading CSV File Drieectly from GCP bucket"
   ]
  },
  {
   "cell_type": "code",
   "execution_count": null,
   "id": "f224fc5f",
   "metadata": {},
   "outputs": [],
   "source": [
    "import pandas as pd \n",
    "import io\n",
    "from io import BytesIO"
   ]
  },
  {
   "cell_type": "code",
   "execution_count": null,
   "id": "a375ab3a",
   "metadata": {},
   "outputs": [],
   "source": [
    "df = pd.read_csv(\n",
    "    io.BytesIO(\n",
    "                 bucket.blob(blob_name = 'netflix_titles.csv').download_as_string() \n",
    "              ) ,\n",
    "                 encoding='UTF-8',\n",
    "                 sep=',')"
   ]
  },
  {
   "cell_type": "code",
   "execution_count": null,
   "id": "83fb4786",
   "metadata": {},
   "outputs": [],
   "source": [
    "df.head(5)"
   ]
  },
  {
   "cell_type": "markdown",
   "id": "d79860e7",
   "metadata": {},
   "source": [
    "#### Deleting a file from GCP bucket"
   ]
  },
  {
   "cell_type": "code",
   "execution_count": 39,
   "id": "cc757641",
   "metadata": {},
   "outputs": [
    {
     "data": {
      "text/plain": [
       "['12001267-FAAZ01Y8PPOPPY5-CLM.xml',\n",
       " '12001267-GMOXGR5VPPOPPY3-CLM.xml',\n",
       " '12001267-GQ5GAMUVPPOPPY1-CLM.xml']"
      ]
     },
     "execution_count": 39,
     "metadata": {},
     "output_type": "execute_result"
    }
   ],
   "source": [
    "filename = [filename.name for filename in list(bucket.list_blobs(prefix='')) ]\n",
    "filename"
   ]
  },
  {
   "cell_type": "code",
   "execution_count": 34,
   "id": "96687629",
   "metadata": {},
   "outputs": [],
   "source": [
    "DELETE_FILE = '12001267-FAAZ01XAPPOPPY5-SPEC.xml'"
   ]
  },
  {
   "cell_type": "code",
   "execution_count": 35,
   "id": "380c7166",
   "metadata": {},
   "outputs": [],
   "source": [
    "bucket = storage_client.get_bucket('search-ai-data-landing-asl')\n",
    "blob = bucket.blob(DELETE_FILE)"
   ]
  },
  {
   "cell_type": "code",
   "execution_count": 36,
   "id": "61fce2c1",
   "metadata": {},
   "outputs": [],
   "source": [
    "blob.delete()"
   ]
  },
  {
   "cell_type": "code",
   "execution_count": 125,
   "id": "e8ceb50f",
   "metadata": {},
   "outputs": [
    {
     "data": {
      "text/plain": [
       "[]"
      ]
     },
     "execution_count": 125,
     "metadata": {},
     "output_type": "execute_result"
    }
   ],
   "source": [
    "filename = [filename.name for filename in list(bucket.list_blobs(prefix='rakib')) ]\n",
    "filename"
   ]
  },
  {
   "cell_type": "code",
   "execution_count": null,
   "id": "2155460a",
   "metadata": {},
   "outputs": [],
   "source": []
  }
 ],
 "metadata": {
  "kernelspec": {
   "display_name": "Python 3",
   "language": "python",
   "name": "python3"
  },
  "language_info": {
   "codemirror_mode": {
    "name": "ipython",
    "version": 3
   },
   "file_extension": ".py",
   "mimetype": "text/x-python",
   "name": "python",
   "nbconvert_exporter": "python",
   "pygments_lexer": "ipython3",
   "version": "3.9.4"
  },
  "varInspector": {
   "cols": {
    "lenName": 16,
    "lenType": 16,
    "lenVar": 40
   },
   "kernels_config": {
    "python": {
     "delete_cmd_postfix": "",
     "delete_cmd_prefix": "del ",
     "library": "var_list.py",
     "varRefreshCmd": "print(var_dic_list())"
    },
    "r": {
     "delete_cmd_postfix": ") ",
     "delete_cmd_prefix": "rm(",
     "library": "var_list.r",
     "varRefreshCmd": "cat(var_dic_list()) "
    }
   },
   "types_to_exclude": [
    "module",
    "function",
    "builtin_function_or_method",
    "instance",
    "_Feature"
   ],
   "window_display": false
  }
 },
 "nbformat": 4,
 "nbformat_minor": 5
}
