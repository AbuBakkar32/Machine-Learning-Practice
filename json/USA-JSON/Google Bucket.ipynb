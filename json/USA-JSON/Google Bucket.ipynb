{
 "cells": [
  {
   "cell_type": "markdown",
   "id": "4ec9c6a9",
   "metadata": {
    "pycharm": {
     "name": "#%% md\n"
    }
   },
   "source": [
    "## Getting started with GCP Storage Bucket with Python"
   ]
  },
  {
   "cell_type": "code",
   "execution_count": null,
   "id": "5e6aac80",
   "metadata": {
    "pycharm": {
     "name": "#%%\n"
    }
   },
   "outputs": [],
   "source": [
    "# pip install --upgrade google-api-python-client\n",
    "# pip install --upgrade google-cloud-storage\n",
    "# https://cloud.google.com/storage/docs/reference/libraries?authuser=1#client-libraries-install-python"
   ]
  },
  {
   "cell_type": "markdown",
   "id": "3a811a63",
   "metadata": {
    "pycharm": {
     "name": "#%% md\n"
    }
   },
   "source": [
    "#### Make sure to download the Keys"
   ]
  },
  {
   "cell_type": "code",
   "execution_count": 18,
   "id": "f42b53ad",
   "metadata": {
    "ExecuteTime": {
     "end_time": "2022-04-15T10:31:56.060368Z",
     "start_time": "2022-04-15T10:31:55.851481Z"
    },
    "pycharm": {
     "name": "#%%\n"
    }
   },
   "outputs": [],
   "source": [
    "try:\n",
    "    from google.cloud import storage\n",
    "    import xml.etree.ElementTree as ET\n",
    "    import google.cloud.storage\n",
    "    import json\n",
    "    import os\n",
    "    import sys\n",
    "except Exception as e:\n",
    "    print(\"Error : {} \".format(e))"
   ]
  },
  {
   "cell_type": "code",
   "execution_count": 19,
   "id": "557ca425",
   "metadata": {
    "ExecuteTime": {
     "end_time": "2022-04-15T10:31:58.587225Z",
     "start_time": "2022-04-15T10:31:58.563209Z"
    },
    "pycharm": {
     "name": "#%%\n"
    }
   },
   "outputs": [],
   "source": [
    "# asl-123@patents-search-ai-347106.iam.gserviceaccount.com\n",
    "PATH = os.path.join(os.getcwd() , 'patents-search-ai-347106-575782eaf768.json')\n",
    "os.environ['GOOGLE_APPLICATION_CREDENTIALS'] = PATH"
   ]
  },
  {
   "cell_type": "code",
   "execution_count": 11,
   "id": "d3526639",
   "metadata": {
    "ExecuteTime": {
     "end_time": "2022-04-15T10:32:00.328536Z",
     "start_time": "2022-04-15T10:32:00.154689Z"
    },
    "pycharm": {
     "name": "#%%\n"
    }
   },
   "outputs": [
    {
     "ename": "DefaultCredentialsError",
     "evalue": "File D:\\Python\\Machine-Learning-Practice\\json\\USA-JSON\\108683071466100168969 was not found.",
     "output_type": "error",
     "traceback": [
      "\u001B[1;31m---------------------------------------------------------------------------\u001B[0m",
      "\u001B[1;31mDefaultCredentialsError\u001B[0m                   Traceback (most recent call last)",
      "\u001B[1;32m~\\AppData\\Local\\Temp/ipykernel_11560/2804214954.py\u001B[0m in \u001B[0;36m<module>\u001B[1;34m\u001B[0m\n\u001B[1;32m----> 1\u001B[1;33m \u001B[0mstorage_client\u001B[0m \u001B[1;33m=\u001B[0m \u001B[0mstorage\u001B[0m\u001B[1;33m.\u001B[0m\u001B[0mClient\u001B[0m\u001B[1;33m(\u001B[0m\u001B[1;34m'108683071466100168969'\u001B[0m\u001B[1;33m)\u001B[0m\u001B[1;33m\u001B[0m\u001B[1;33m\u001B[0m\u001B[0m\n\u001B[0m",
      "\u001B[1;32m~\\Envs\\test\\lib\\site-packages\\google\\cloud\\storage\\client.py\u001B[0m in \u001B[0;36m__init__\u001B[1;34m(self, project, credentials, _http, client_info, client_options)\u001B[0m\n\u001B[0;32m    122\u001B[0m             \u001B[0mproject\u001B[0m \u001B[1;33m=\u001B[0m \u001B[1;32mNone\u001B[0m\u001B[1;33m\u001B[0m\u001B[1;33m\u001B[0m\u001B[0m\n\u001B[0;32m    123\u001B[0m \u001B[1;33m\u001B[0m\u001B[0m\n\u001B[1;32m--> 124\u001B[1;33m         super(Client, self).__init__(\n\u001B[0m\u001B[0;32m    125\u001B[0m             \u001B[0mproject\u001B[0m\u001B[1;33m=\u001B[0m\u001B[0mproject\u001B[0m\u001B[1;33m,\u001B[0m\u001B[1;33m\u001B[0m\u001B[1;33m\u001B[0m\u001B[0m\n\u001B[0;32m    126\u001B[0m             \u001B[0mcredentials\u001B[0m\u001B[1;33m=\u001B[0m\u001B[0mcredentials\u001B[0m\u001B[1;33m,\u001B[0m\u001B[1;33m\u001B[0m\u001B[1;33m\u001B[0m\u001B[0m\n",
      "\u001B[1;32m~\\Envs\\test\\lib\\site-packages\\google\\cloud\\client\\__init__.py\u001B[0m in \u001B[0;36m__init__\u001B[1;34m(self, project, credentials, client_options, _http)\u001B[0m\n\u001B[0;32m    317\u001B[0m     \u001B[1;32mdef\u001B[0m \u001B[0m__init__\u001B[0m\u001B[1;33m(\u001B[0m\u001B[0mself\u001B[0m\u001B[1;33m,\u001B[0m \u001B[0mproject\u001B[0m\u001B[1;33m=\u001B[0m\u001B[1;32mNone\u001B[0m\u001B[1;33m,\u001B[0m \u001B[0mcredentials\u001B[0m\u001B[1;33m=\u001B[0m\u001B[1;32mNone\u001B[0m\u001B[1;33m,\u001B[0m \u001B[0mclient_options\u001B[0m\u001B[1;33m=\u001B[0m\u001B[1;32mNone\u001B[0m\u001B[1;33m,\u001B[0m \u001B[0m_http\u001B[0m\u001B[1;33m=\u001B[0m\u001B[1;32mNone\u001B[0m\u001B[1;33m)\u001B[0m\u001B[1;33m:\u001B[0m\u001B[1;33m\u001B[0m\u001B[1;33m\u001B[0m\u001B[0m\n\u001B[0;32m    318\u001B[0m         \u001B[0m_ClientProjectMixin\u001B[0m\u001B[1;33m.\u001B[0m\u001B[0m__init__\u001B[0m\u001B[1;33m(\u001B[0m\u001B[0mself\u001B[0m\u001B[1;33m,\u001B[0m \u001B[0mproject\u001B[0m\u001B[1;33m=\u001B[0m\u001B[0mproject\u001B[0m\u001B[1;33m,\u001B[0m \u001B[0mcredentials\u001B[0m\u001B[1;33m=\u001B[0m\u001B[0mcredentials\u001B[0m\u001B[1;33m)\u001B[0m\u001B[1;33m\u001B[0m\u001B[1;33m\u001B[0m\u001B[0m\n\u001B[1;32m--> 319\u001B[1;33m         Client.__init__(\n\u001B[0m\u001B[0;32m    320\u001B[0m             \u001B[0mself\u001B[0m\u001B[1;33m,\u001B[0m \u001B[0mcredentials\u001B[0m\u001B[1;33m=\u001B[0m\u001B[0mcredentials\u001B[0m\u001B[1;33m,\u001B[0m \u001B[0mclient_options\u001B[0m\u001B[1;33m=\u001B[0m\u001B[0mclient_options\u001B[0m\u001B[1;33m,\u001B[0m \u001B[0m_http\u001B[0m\u001B[1;33m=\u001B[0m\u001B[0m_http\u001B[0m\u001B[1;33m\u001B[0m\u001B[1;33m\u001B[0m\u001B[0m\n\u001B[0;32m    321\u001B[0m         )\n",
      "\u001B[1;32m~\\Envs\\test\\lib\\site-packages\\google\\cloud\\client\\__init__.py\u001B[0m in \u001B[0;36m__init__\u001B[1;34m(self, credentials, _http, client_options)\u001B[0m\n\u001B[0;32m    176\u001B[0m                 )\n\u001B[0;32m    177\u001B[0m             \u001B[1;32melse\u001B[0m\u001B[1;33m:\u001B[0m\u001B[1;33m\u001B[0m\u001B[1;33m\u001B[0m\u001B[0m\n\u001B[1;32m--> 178\u001B[1;33m                 \u001B[0mcredentials\u001B[0m\u001B[1;33m,\u001B[0m \u001B[0m_\u001B[0m \u001B[1;33m=\u001B[0m \u001B[0mgoogle\u001B[0m\u001B[1;33m.\u001B[0m\u001B[0mauth\u001B[0m\u001B[1;33m.\u001B[0m\u001B[0mdefault\u001B[0m\u001B[1;33m(\u001B[0m\u001B[0mscopes\u001B[0m\u001B[1;33m=\u001B[0m\u001B[0mscopes\u001B[0m\u001B[1;33m)\u001B[0m\u001B[1;33m\u001B[0m\u001B[1;33m\u001B[0m\u001B[0m\n\u001B[0m\u001B[0;32m    179\u001B[0m \u001B[1;33m\u001B[0m\u001B[0m\n\u001B[0;32m    180\u001B[0m         self._credentials = google.auth.credentials.with_scopes_if_required(\n",
      "\u001B[1;32m~\\Envs\\test\\lib\\site-packages\\google\\auth\\_default.py\u001B[0m in \u001B[0;36mdefault\u001B[1;34m(scopes, request, quota_project_id, default_scopes)\u001B[0m\n\u001B[0;32m    542\u001B[0m \u001B[1;33m\u001B[0m\u001B[0m\n\u001B[0;32m    543\u001B[0m     \u001B[1;32mfor\u001B[0m \u001B[0mchecker\u001B[0m \u001B[1;32min\u001B[0m \u001B[0mcheckers\u001B[0m\u001B[1;33m:\u001B[0m\u001B[1;33m\u001B[0m\u001B[1;33m\u001B[0m\u001B[0m\n\u001B[1;32m--> 544\u001B[1;33m         \u001B[0mcredentials\u001B[0m\u001B[1;33m,\u001B[0m \u001B[0mproject_id\u001B[0m \u001B[1;33m=\u001B[0m \u001B[0mchecker\u001B[0m\u001B[1;33m(\u001B[0m\u001B[1;33m)\u001B[0m\u001B[1;33m\u001B[0m\u001B[1;33m\u001B[0m\u001B[0m\n\u001B[0m\u001B[0;32m    545\u001B[0m         \u001B[1;32mif\u001B[0m \u001B[0mcredentials\u001B[0m \u001B[1;32mis\u001B[0m \u001B[1;32mnot\u001B[0m \u001B[1;32mNone\u001B[0m\u001B[1;33m:\u001B[0m\u001B[1;33m\u001B[0m\u001B[1;33m\u001B[0m\u001B[0m\n\u001B[0;32m    546\u001B[0m             credentials = with_scopes_if_required(\n",
      "\u001B[1;32m~\\Envs\\test\\lib\\site-packages\\google\\auth\\_default.py\u001B[0m in \u001B[0;36m<lambda>\u001B[1;34m()\u001B[0m\n\u001B[0;32m    535\u001B[0m         \u001B[1;31m# safely set on the returned credentials since requires_scopes will\u001B[0m\u001B[1;33m\u001B[0m\u001B[1;33m\u001B[0m\u001B[0m\n\u001B[0;32m    536\u001B[0m         \u001B[1;31m# guard against setting scopes on user credentials.\u001B[0m\u001B[1;33m\u001B[0m\u001B[1;33m\u001B[0m\u001B[0m\n\u001B[1;32m--> 537\u001B[1;33m         \u001B[1;32mlambda\u001B[0m\u001B[1;33m:\u001B[0m \u001B[0m_get_explicit_environ_credentials\u001B[0m\u001B[1;33m(\u001B[0m\u001B[0mquota_project_id\u001B[0m\u001B[1;33m=\u001B[0m\u001B[0mquota_project_id\u001B[0m\u001B[1;33m)\u001B[0m\u001B[1;33m,\u001B[0m\u001B[1;33m\u001B[0m\u001B[1;33m\u001B[0m\u001B[0m\n\u001B[0m\u001B[0;32m    538\u001B[0m         \u001B[1;32mlambda\u001B[0m\u001B[1;33m:\u001B[0m \u001B[0m_get_gcloud_sdk_credentials\u001B[0m\u001B[1;33m(\u001B[0m\u001B[0mquota_project_id\u001B[0m\u001B[1;33m=\u001B[0m\u001B[0mquota_project_id\u001B[0m\u001B[1;33m)\u001B[0m\u001B[1;33m,\u001B[0m\u001B[1;33m\u001B[0m\u001B[1;33m\u001B[0m\u001B[0m\n\u001B[0;32m    539\u001B[0m         \u001B[0m_get_gae_credentials\u001B[0m\u001B[1;33m,\u001B[0m\u001B[1;33m\u001B[0m\u001B[1;33m\u001B[0m\u001B[0m\n",
      "\u001B[1;32m~\\Envs\\test\\lib\\site-packages\\google\\auth\\_default.py\u001B[0m in \u001B[0;36m_get_explicit_environ_credentials\u001B[1;34m(quota_project_id)\u001B[0m\n\u001B[0;32m    216\u001B[0m \u001B[1;33m\u001B[0m\u001B[0m\n\u001B[0;32m    217\u001B[0m     \u001B[1;32mif\u001B[0m \u001B[0mexplicit_file\u001B[0m \u001B[1;32mis\u001B[0m \u001B[1;32mnot\u001B[0m \u001B[1;32mNone\u001B[0m\u001B[1;33m:\u001B[0m\u001B[1;33m\u001B[0m\u001B[1;33m\u001B[0m\u001B[0m\n\u001B[1;32m--> 218\u001B[1;33m         credentials, project_id = load_credentials_from_file(\n\u001B[0m\u001B[0;32m    219\u001B[0m             \u001B[0mos\u001B[0m\u001B[1;33m.\u001B[0m\u001B[0menviron\u001B[0m\u001B[1;33m[\u001B[0m\u001B[0menvironment_vars\u001B[0m\u001B[1;33m.\u001B[0m\u001B[0mCREDENTIALS\u001B[0m\u001B[1;33m]\u001B[0m\u001B[1;33m,\u001B[0m \u001B[0mquota_project_id\u001B[0m\u001B[1;33m=\u001B[0m\u001B[0mquota_project_id\u001B[0m\u001B[1;33m\u001B[0m\u001B[1;33m\u001B[0m\u001B[0m\n\u001B[0;32m    220\u001B[0m         )\n",
      "\u001B[1;32m~\\Envs\\test\\lib\\site-packages\\google\\auth\\_default.py\u001B[0m in \u001B[0;36mload_credentials_from_file\u001B[1;34m(filename, scopes, default_scopes, quota_project_id, request)\u001B[0m\n\u001B[0;32m    115\u001B[0m     \"\"\"\n\u001B[0;32m    116\u001B[0m     \u001B[1;32mif\u001B[0m \u001B[1;32mnot\u001B[0m \u001B[0mos\u001B[0m\u001B[1;33m.\u001B[0m\u001B[0mpath\u001B[0m\u001B[1;33m.\u001B[0m\u001B[0mexists\u001B[0m\u001B[1;33m(\u001B[0m\u001B[0mfilename\u001B[0m\u001B[1;33m)\u001B[0m\u001B[1;33m:\u001B[0m\u001B[1;33m\u001B[0m\u001B[1;33m\u001B[0m\u001B[0m\n\u001B[1;32m--> 117\u001B[1;33m         raise exceptions.DefaultCredentialsError(\n\u001B[0m\u001B[0;32m    118\u001B[0m             \u001B[1;34m\"File {} was not found.\"\u001B[0m\u001B[1;33m.\u001B[0m\u001B[0mformat\u001B[0m\u001B[1;33m(\u001B[0m\u001B[0mfilename\u001B[0m\u001B[1;33m)\u001B[0m\u001B[1;33m\u001B[0m\u001B[1;33m\u001B[0m\u001B[0m\n\u001B[0;32m    119\u001B[0m         )\n",
      "\u001B[1;31mDefaultCredentialsError\u001B[0m: File D:\\Python\\Machine-Learning-Practice\\json\\USA-JSON\\108683071466100168969 was not found."
     ]
    }
   ],
   "source": [
    "storage_client = storage.Client('108683071466100168969')"
   ]
  },
  {
   "cell_type": "markdown",
   "id": "e367d84d",
   "metadata": {
    "pycharm": {
     "name": "#%% md\n"
    }
   },
   "source": [
    "### Create a Folder into The Bucket"
   ]
  },
  {
   "cell_type": "code",
   "execution_count": 51,
   "id": "5e31961e",
   "metadata": {
    "ExecuteTime": {
     "end_time": "2022-04-15T10:32:06.546042Z",
     "start_time": "2022-04-15T10:32:05.103075Z"
    },
    "pycharm": {
     "name": "#%%\n"
    }
   },
   "outputs": [],
   "source": [
    "bucket = storage_client.get_bucket('search-ai-data-landing-asl')"
   ]
  },
  {
   "cell_type": "code",
   "execution_count": 6,
   "id": "0c6b1541",
   "metadata": {
    "ExecuteTime": {
     "end_time": "2022-04-15T09:22:47.833117Z",
     "start_time": "2022-04-15T09:22:47.808831Z"
    },
    "pycharm": {
     "name": "#%%\n"
    }
   },
   "outputs": [],
   "source": [
    "def upload_to_bucket(blob_name, file_path, bucket_name):\n",
    "    bucket = storage_client.get_bucket(bucket_name)\n",
    "    blob = bucket.blob(blob_name)\n",
    "    blob.upload_from_filename(file_path)"
   ]
  },
  {
   "cell_type": "code",
   "execution_count": 78,
   "id": "2e20ca56",
   "metadata": {
    "pycharm": {
     "name": "#%%\n"
    }
   },
   "outputs": [],
   "source": [
    "file = '12000057-FA3XM2HRPPOPPY5-ABST.xml'\n",
    "cleanJsonPath = \"C:/search-ai-data-landing/2022-04-12\"\n",
    "bucket = 'search-ai-data-landing-asl'\n",
    "upload_to_bucket(file, cleanJsonPath + \"/\" +file, bucket)"
   ]
  },
  {
   "cell_type": "markdown",
   "id": "94470547",
   "metadata": {
    "pycharm": {
     "name": "#%% md\n"
    }
   },
   "source": [
    "#### Getting all Files from GCP Bucket"
   ]
  },
  {
   "cell_type": "code",
   "execution_count": 16,
   "id": "770af2c0",
   "metadata": {
    "ExecuteTime": {
     "end_time": "2022-04-15T11:17:19.053762Z",
     "start_time": "2022-04-15T11:17:18.097993Z"
    },
    "pycharm": {
     "name": "#%%\n"
    }
   },
   "outputs": [
    {
     "ename": "NameError",
     "evalue": "name 'storage_client' is not defined",
     "output_type": "error",
     "traceback": [
      "\u001B[1;31m---------------------------------------------------------------------------\u001B[0m",
      "\u001B[1;31mNameError\u001B[0m                                 Traceback (most recent call last)",
      "\u001B[1;32m~\\AppData\\Local\\Temp/ipykernel_11560/1579792080.py\u001B[0m in \u001B[0;36m<module>\u001B[1;34m\u001B[0m\n\u001B[1;32m----> 1\u001B[1;33m \u001B[0mbucket\u001B[0m \u001B[1;33m=\u001B[0m \u001B[0mstorage_client\u001B[0m\u001B[1;33m.\u001B[0m\u001B[0mget_bucket\u001B[0m\u001B[1;33m(\u001B[0m\u001B[1;34m'search-ai-data-landing-asl'\u001B[0m\u001B[1;33m)\u001B[0m\u001B[1;33m\u001B[0m\u001B[1;33m\u001B[0m\u001B[0m\n\u001B[0m",
      "\u001B[1;31mNameError\u001B[0m: name 'storage_client' is not defined"
     ]
    }
   ],
   "source": [
    "bucket = storage_client.get_bucket('search-ai-data-landing-asl')"
   ]
  },
  {
   "cell_type": "code",
   "execution_count": 65,
   "id": "b0fd0510",
   "metadata": {
    "ExecuteTime": {
     "end_time": "2022-04-15T11:17:22.867848Z",
     "start_time": "2022-04-15T11:17:20.581350Z"
    },
    "pycharm": {
     "name": "#%%\n"
    }
   },
   "outputs": [],
   "source": [
    "filename = [filename.name for filename in list(bucket.list_blobs(prefix='')) ]\n",
    "for filename in filename[1:]:\n",
    "    blop = bucket.blob(blob_name = filename).download_as_string()\n",
    "    open('MTD_MSIL1C.xml', 'wb').write(blop)"
   ]
  },
  {
   "cell_type": "code",
   "execution_count": null,
   "id": "396e910e",
   "metadata": {
    "pycharm": {
     "name": "#%%\n"
    }
   },
   "outputs": [],
   "source": []
  },
  {
   "cell_type": "markdown",
   "id": "53a09559",
   "metadata": {
    "pycharm": {
     "name": "#%% md\n"
    }
   },
   "source": [
    "#### Downloading a File from Bucket"
   ]
  },
  {
   "cell_type": "code",
   "execution_count": 62,
   "id": "7cbc9336",
   "metadata": {
    "ExecuteTime": {
     "end_time": "2022-04-15T10:44:08.984325Z",
     "start_time": "2022-04-15T10:44:07.775657Z"
    },
    "pycharm": {
     "name": "#%%\n"
    }
   },
   "outputs": [],
   "source": [
    "blop = bucket.blob(blob_name = '2022-04-14/12000057-FA3XM2HRPPOPPY5-ABST.xml').download_as_string()"
   ]
  },
  {
   "cell_type": "code",
   "execution_count": 63,
   "id": "b62eb855",
   "metadata": {
    "ExecuteTime": {
     "end_time": "2022-04-15T10:44:18.959947Z",
     "start_time": "2022-04-15T10:44:18.927876Z"
    },
    "pycharm": {
     "name": "#%%\n"
    }
   },
   "outputs": [
    {
     "data": {
      "text/plain": [
       "b'<us-patent-application lang=\"EN\" dtd-version=\"v1.0.3 2011-06-23\" id=\"us-patent-application\" country=\"US\">\\r\\n  <us-bibliographic-data-application lang=\"EN\" country=\"US\">\\r\\n    <application-reference appl-type=\"utility\">\\r\\n      <document-id>\\r\\n        <doc-number>12000057</doc-number>\\r\\n        <date>2007-12-07</date>\\r\\n      </document-id>\\r\\n    </application-reference>\\r\\n  </us-bibliographic-data-application>\\r\\n  <abstract id=\"abstract\">\\r\\n    <p id=\"p-1\" num=\"1\">-14- P6442 Abstract Friction-tolerant disks made of fiber-reinforced ceramic Use of polymer-bound fiber tows containing carbon fibers, the polymer- bound fiber tows having an average length of 3 mm to 50 mm measured in the fiber direction<confidence value=\"6\">,</confidence>\\r\\n and an average bundle thickness of 0.1 mm to 10 mm measured perpendicular to the fiber direction, and in which at least 75% of all polymer-bound fiber tows have a length that is at least 90% and not greater than 110% of the average length, in the manufacture of carbon- ceramic brake disks and carbon-ceramic clutch disks.    </p>\\r\\n  </abstract>\\r\\n</us-patent-application>'"
      ]
     },
     "execution_count": 63,
     "metadata": {},
     "output_type": "execute_result"
    }
   ],
   "source": [
    "open('MTD_MSIL1C.xml', 'wb').write(blop)\n",
    "        "
   ]
  },
  {
   "cell_type": "markdown",
   "id": "27da13f8",
   "metadata": {
    "pycharm": {
     "name": "#%% md\n"
    }
   },
   "source": [
    "#### Pushing a file on GCP bucket"
   ]
  },
  {
   "cell_type": "code",
   "execution_count": 120,
   "id": "45ca978b",
   "metadata": {
    "pycharm": {
     "name": "#%%\n"
    }
   },
   "outputs": [],
   "source": [
    "filename= 'rakib/'"
   ]
  },
  {
   "cell_type": "code",
   "execution_count": 123,
   "id": "ab7da469",
   "metadata": {
    "pycharm": {
     "name": "#%%\n"
    }
   },
   "outputs": [],
   "source": [
    "UPLOADFILE = 'D:/jsonfile/'"
   ]
  },
  {
   "cell_type": "code",
   "execution_count": null,
   "id": "4e469aeb",
   "metadata": {
    "pycharm": {
     "name": "#%%\n"
    }
   },
   "outputs": [],
   "source": [
    "bucket = storage_client.get_bucket('search-ai-data-landing-asl')\n",
    "blob = bucket.blob(filename)\n",
    "blob.upload_from_filename(UPLOADFILE)"
   ]
  },
  {
   "cell_type": "markdown",
   "id": "63bb7d56",
   "metadata": {
    "pycharm": {
     "name": "#%% md\n"
    }
   },
   "source": [
    "#### Reading CSV File Drieectly from GCP bucket"
   ]
  },
  {
   "cell_type": "code",
   "execution_count": null,
   "id": "f224fc5f",
   "metadata": {
    "pycharm": {
     "name": "#%%\n"
    }
   },
   "outputs": [],
   "source": [
    "import pandas as pd \n",
    "import io\n",
    "from io import BytesIO"
   ]
  },
  {
   "cell_type": "code",
   "execution_count": null,
   "id": "a375ab3a",
   "metadata": {
    "pycharm": {
     "name": "#%%\n"
    }
   },
   "outputs": [],
   "source": [
    "df = pd.read_csv(\n",
    "    io.BytesIO(\n",
    "                 bucket.blob(blob_name = 'netflix_titles.csv').download_as_string() \n",
    "              ) ,\n",
    "                 encoding='UTF-8',\n",
    "                 sep=',')"
   ]
  },
  {
   "cell_type": "code",
   "execution_count": null,
   "id": "83fb4786",
   "metadata": {
    "pycharm": {
     "name": "#%%\n"
    }
   },
   "outputs": [],
   "source": [
    "df.head(5)"
   ]
  },
  {
   "cell_type": "markdown",
   "id": "d79860e7",
   "metadata": {
    "pycharm": {
     "name": "#%% md\n"
    }
   },
   "source": [
    "#### Deleting a file from GCP bucket"
   ]
  },
  {
   "cell_type": "code",
   "execution_count": 8,
   "id": "cc757641",
   "metadata": {
    "pycharm": {
     "name": "#%%\n"
    }
   },
   "outputs": [
    {
     "ename": "NameError",
     "evalue": "name 'bucket' is not defined",
     "output_type": "error",
     "traceback": [
      "\u001B[1;31m---------------------------------------------------------------------------\u001B[0m",
      "\u001B[1;31mNameError\u001B[0m                                 Traceback (most recent call last)",
      "\u001B[1;32m~\\AppData\\Local\\Temp/ipykernel_11560/1521387656.py\u001B[0m in \u001B[0;36m<module>\u001B[1;34m\u001B[0m\n\u001B[1;32m----> 1\u001B[1;33m \u001B[0mfilename\u001B[0m \u001B[1;33m=\u001B[0m \u001B[1;33m[\u001B[0m\u001B[0mfilename\u001B[0m\u001B[1;33m.\u001B[0m\u001B[0mname\u001B[0m \u001B[1;32mfor\u001B[0m \u001B[0mfilename\u001B[0m \u001B[1;32min\u001B[0m \u001B[0mlist\u001B[0m\u001B[1;33m(\u001B[0m\u001B[0mbucket\u001B[0m\u001B[1;33m.\u001B[0m\u001B[0mlist_blobs\u001B[0m\u001B[1;33m(\u001B[0m\u001B[0mprefix\u001B[0m\u001B[1;33m=\u001B[0m\u001B[1;34m''\u001B[0m\u001B[1;33m)\u001B[0m\u001B[1;33m)\u001B[0m \u001B[1;33m]\u001B[0m\u001B[1;33m\u001B[0m\u001B[1;33m\u001B[0m\u001B[0m\n\u001B[0m\u001B[0;32m      2\u001B[0m \u001B[0mfilename\u001B[0m\u001B[1;33m\u001B[0m\u001B[1;33m\u001B[0m\u001B[0m\n",
      "\u001B[1;31mNameError\u001B[0m: name 'bucket' is not defined"
     ]
    }
   ],
   "source": [
    "filename = [filename.name for filename in list(bucket.list_blobs(prefix='')) ]\n",
    "filename"
   ]
  },
  {
   "cell_type": "code",
   "execution_count": 34,
   "id": "96687629",
   "metadata": {
    "pycharm": {
     "name": "#%%\n"
    }
   },
   "outputs": [],
   "source": [
    "DELETE_FILE = '12001267-FAAZ01XAPPOPPY5-SPEC.xml'"
   ]
  },
  {
   "cell_type": "code",
   "execution_count": 35,
   "id": "380c7166",
   "metadata": {
    "pycharm": {
     "name": "#%%\n"
    }
   },
   "outputs": [],
   "source": [
    "bucket = storage_client.get_bucket('search-ai-data-landing-asl')\n",
    "blob = bucket.blob(DELETE_FILE)"
   ]
  },
  {
   "cell_type": "code",
   "execution_count": 36,
   "id": "61fce2c1",
   "metadata": {
    "pycharm": {
     "name": "#%%\n"
    }
   },
   "outputs": [],
   "source": [
    "blob.delete()"
   ]
  },
  {
   "cell_type": "code",
   "execution_count": 125,
   "id": "e8ceb50f",
   "metadata": {
    "pycharm": {
     "name": "#%%\n"
    }
   },
   "outputs": [
    {
     "data": {
      "text/plain": [
       "[]"
      ]
     },
     "execution_count": 125,
     "metadata": {},
     "output_type": "execute_result"
    }
   ],
   "source": [
    "filename = [filename.name for filename in list(bucket.list_blobs(prefix='rakib')) ]\n",
    "filename"
   ]
  },
  {
   "cell_type": "code",
   "execution_count": null,
   "id": "2155460a",
   "metadata": {
    "pycharm": {
     "name": "#%%\n"
    }
   },
   "outputs": [],
   "source": []
  }
 ],
 "metadata": {
  "kernelspec": {
   "display_name": "Python 3",
   "language": "python",
   "name": "python3"
  },
  "language_info": {
   "codemirror_mode": {
    "name": "ipython",
    "version": 3
   },
   "file_extension": ".py",
   "mimetype": "text/x-python",
   "name": "python",
   "nbconvert_exporter": "python",
   "pygments_lexer": "ipython3",
   "version": "3.9.4"
  },
  "varInspector": {
   "cols": {
    "lenName": 16,
    "lenType": 16,
    "lenVar": 40
   },
   "kernels_config": {
    "python": {
     "delete_cmd_postfix": "",
     "delete_cmd_prefix": "del ",
     "library": "var_list.py",
     "varRefreshCmd": "print(var_dic_list())"
    },
    "r": {
     "delete_cmd_postfix": ") ",
     "delete_cmd_prefix": "rm(",
     "library": "var_list.r",
     "varRefreshCmd": "cat(var_dic_list()) "
    }
   },
   "types_to_exclude": [
    "module",
    "function",
    "builtin_function_or_method",
    "instance",
    "_Feature"
   ],
   "window_display": false
  }
 },
 "nbformat": 4,
 "nbformat_minor": 5
}