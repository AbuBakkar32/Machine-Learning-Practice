{
 "cells": [
  {
   "cell_type": "markdown",
   "id": "759b2370",
   "metadata": {},
   "source": [
    "## Getting started with GCP Storage Bucket with Python"
   ]
  },
  {
   "cell_type": "code",
   "execution_count": null,
   "id": "e16aa0b2",
   "metadata": {},
   "outputs": [],
   "source": [
    "# pip install --upgrade google-api-python-client\n",
    "# pip install --upgrade google-cloud-storage\n",
    "# https://cloud.google.com/storage/docs/reference/libraries?authuser=1#client-libraries-install-python"
   ]
  },
  {
   "cell_type": "markdown",
   "id": "a070ecc2",
   "metadata": {},
   "source": [
    "#### Make sure to download the Keys"
   ]
  },
  {
   "cell_type": "code",
   "execution_count": 1,
   "id": "07e4e0d3",
   "metadata": {},
   "outputs": [],
   "source": [
    "try:\n",
    "    from google.cloud import storage\n",
    "    import google.cloud.storage\n",
    "    import json\n",
    "    import os\n",
    "    import sys\n",
    "except Exception as e:\n",
    "    print(\"Error : {} \".format(e))"
   ]
  },
  {
   "cell_type": "code",
   "execution_count": 3,
   "id": "7e1e1960",
   "metadata": {},
   "outputs": [],
   "source": [
    "PATH = os.path.join(os.getcwd() , 'API.json')\n",
    "os.environ['GOOGLE_APPLICATION_CREDENTIALS'] = PATH"
   ]
  },
  {
   "cell_type": "code",
   "execution_count": null,
   "id": "8f374870",
   "metadata": {},
   "outputs": [],
   "source": [
    "storage_client = storage.Client(PATH)"
   ]
  },
  {
   "cell_type": "code",
   "execution_count": null,
   "id": "2c0da60b",
   "metadata": {},
   "outputs": [],
   "source": [
    "storage_client"
   ]
  },
  {
   "cell_type": "markdown",
   "id": "d2369a69",
   "metadata": {},
   "source": [
    "#### Getting all Files from GCP Bucket"
   ]
  },
  {
   "cell_type": "code",
   "execution_count": null,
   "id": "c0d2057a",
   "metadata": {},
   "outputs": [],
   "source": [
    "bucket = storage_client.get_bucket('myfirst-bucket-1995')"
   ]
  },
  {
   "cell_type": "code",
   "execution_count": null,
   "id": "cf01f6d3",
   "metadata": {},
   "outputs": [],
   "source": [
    "filename = [filename.name for filename in list(bucket.list_blobs(prefix='')) ]\n",
    "filename"
   ]
  },
  {
   "cell_type": "markdown",
   "id": "4877df0c",
   "metadata": {},
   "source": [
    "#### Downloading a File from Bucket"
   ]
  },
  {
   "cell_type": "code",
   "execution_count": null,
   "id": "fe42735e",
   "metadata": {},
   "outputs": [],
   "source": [
    "blop = bucket.blob(blob_name = 'netflix_titles.csv').download_as_string()"
   ]
  },
  {
   "cell_type": "code",
   "execution_count": null,
   "id": "e157d7c6",
   "metadata": {},
   "outputs": [],
   "source": [
    "with open ('doo.csv', \"wb\") as f:\n",
    "        f.write(blop)"
   ]
  },
  {
   "cell_type": "markdown",
   "id": "5646e805",
   "metadata": {},
   "source": [
    "#### Pushing a file on GCP bucket"
   ]
  },
  {
   "cell_type": "code",
   "execution_count": null,
   "id": "411edd72",
   "metadata": {},
   "outputs": [],
   "source": [
    "filename= 'doo.csv'"
   ]
  },
  {
   "cell_type": "code",
   "execution_count": null,
   "id": "840f7f0f",
   "metadata": {},
   "outputs": [],
   "source": [
    "UPLOADFILE = os.path.join(os.getcwd(), filename)"
   ]
  },
  {
   "cell_type": "code",
   "execution_count": null,
   "id": "9ad0a1fb",
   "metadata": {},
   "outputs": [],
   "source": [
    "bucket = storage_client.get_bucket('myfirst-bucket-1995')\n",
    "blob = bucket.blob(filename)\n",
    "blob.upload_from_filename(UPLOADFILE)"
   ]
  },
  {
   "cell_type": "markdown",
   "id": "9a3f2366",
   "metadata": {},
   "source": [
    "#### Reading CSV File Drieectly from GCP bucket"
   ]
  },
  {
   "cell_type": "code",
   "execution_count": null,
   "id": "52b167e3",
   "metadata": {},
   "outputs": [],
   "source": [
    "import pandas as pd \n",
    "import io\n",
    "from io import BytesIO"
   ]
  },
  {
   "cell_type": "code",
   "execution_count": null,
   "id": "dd61fb10",
   "metadata": {},
   "outputs": [],
   "source": [
    "df = pd.read_csv(\n",
    "    io.BytesIO(\n",
    "                 bucket.blob(blob_name = 'netflix_titles.csv').download_as_string() \n",
    "              ) ,\n",
    "                 encoding='UTF-8',\n",
    "                 sep=',')"
   ]
  },
  {
   "cell_type": "code",
   "execution_count": null,
   "id": "6a8de1be",
   "metadata": {},
   "outputs": [],
   "source": [
    "df.head(5)"
   ]
  },
  {
   "cell_type": "markdown",
   "id": "1d6323eb",
   "metadata": {},
   "source": [
    "#### Deleting a file from GCP bucket"
   ]
  },
  {
   "cell_type": "code",
   "execution_count": null,
   "id": "7f7893fe",
   "metadata": {},
   "outputs": [],
   "source": [
    "filename = [filename.name for filename in list(bucket.list_blobs(prefix='')) ]\n",
    "filename"
   ]
  },
  {
   "cell_type": "code",
   "execution_count": null,
   "id": "105256bc",
   "metadata": {},
   "outputs": [],
   "source": [
    "DELETE_FILE = 'doo.csv'"
   ]
  },
  {
   "cell_type": "code",
   "execution_count": null,
   "id": "03328e3d",
   "metadata": {},
   "outputs": [],
   "source": [
    "bucket = storage_client.get_bucket('myfirst-bucket-1995')\n",
    "blob = bucket.blob(DELETE_FILE)"
   ]
  },
  {
   "cell_type": "code",
   "execution_count": null,
   "id": "042add67",
   "metadata": {},
   "outputs": [],
   "source": [
    "blob.delete()"
   ]
  },
  {
   "cell_type": "code",
   "execution_count": null,
   "id": "28e31b99",
   "metadata": {},
   "outputs": [],
   "source": [
    "filename = [filename.name for filename in list(bucket.list_blobs(prefix='')) ]\n",
    "filename"
   ]
  },
  {
   "cell_type": "code",
   "execution_count": null,
   "id": "f47a60cf",
   "metadata": {},
   "outputs": [],
   "source": []
  }
 ],
 "metadata": {
  "kernelspec": {
   "display_name": "Python 3 (ipykernel)",
   "language": "python",
   "name": "python3"
  },
  "language_info": {
   "codemirror_mode": {
    "name": "ipython",
    "version": 3
   },
   "file_extension": ".py",
   "mimetype": "text/x-python",
   "name": "python",
   "nbconvert_exporter": "python",
   "pygments_lexer": "ipython3",
   "version": "3.10.0"
  }
 },
 "nbformat": 4,
 "nbformat_minor": 5
}
