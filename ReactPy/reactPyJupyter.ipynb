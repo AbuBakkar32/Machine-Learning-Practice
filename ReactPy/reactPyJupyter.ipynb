{
 "cells": [
  {
   "cell_type": "code",
   "execution_count": 5,
   "metadata": {
    "collapsed": true,
    "ExecuteTime": {
     "end_time": "2023-06-06T08:49:37.868880500Z",
     "start_time": "2023-06-06T08:49:37.750236300Z"
    }
   },
   "outputs": [
    {
     "ename": "ModuleNotFoundError",
     "evalue": "No module named 'starlette'",
     "output_type": "error",
     "traceback": [
      "\u001B[1;31m---------------------------------------------------------------------------\u001B[0m",
      "\u001B[1;31mModuleNotFoundError\u001B[0m                       Traceback (most recent call last)",
      "Cell \u001B[1;32mIn[5], line 2\u001B[0m\n\u001B[0;32m      1\u001B[0m \u001B[38;5;28;01mfrom\u001B[39;00m \u001B[38;5;21;01mreactpy\u001B[39;00m \u001B[38;5;28;01mimport\u001B[39;00m component, html, run\n\u001B[1;32m----> 2\u001B[0m \u001B[38;5;28;01mfrom\u001B[39;00m \u001B[38;5;21;01mreactpy\u001B[39;00m\u001B[38;5;21;01m.\u001B[39;00m\u001B[38;5;21;01mbackend\u001B[39;00m\u001B[38;5;21;01m.\u001B[39;00m\u001B[38;5;21;01mstarlette\u001B[39;00m \u001B[38;5;28;01mimport\u001B[39;00m configure\n",
      "File \u001B[1;32mD:\\Machine-Learning-Practice\\venv\\lib\\site-packages\\reactpy\\backend\\starlette.py:9\u001B[0m\n\u001B[0;32m      6\u001B[0m \u001B[38;5;28;01mfrom\u001B[39;00m \u001B[38;5;21;01mdataclasses\u001B[39;00m \u001B[38;5;28;01mimport\u001B[39;00m dataclass\n\u001B[0;32m      7\u001B[0m \u001B[38;5;28;01mfrom\u001B[39;00m \u001B[38;5;21;01mtyping\u001B[39;00m \u001B[38;5;28;01mimport\u001B[39;00m Any, Awaitable, Callable, Tuple\n\u001B[1;32m----> 9\u001B[0m \u001B[38;5;28;01mfrom\u001B[39;00m \u001B[38;5;21;01mstarlette\u001B[39;00m\u001B[38;5;21;01m.\u001B[39;00m\u001B[38;5;21;01mapplications\u001B[39;00m \u001B[38;5;28;01mimport\u001B[39;00m Starlette\n\u001B[0;32m     10\u001B[0m \u001B[38;5;28;01mfrom\u001B[39;00m \u001B[38;5;21;01mstarlette\u001B[39;00m\u001B[38;5;21;01m.\u001B[39;00m\u001B[38;5;21;01mmiddleware\u001B[39;00m\u001B[38;5;21;01m.\u001B[39;00m\u001B[38;5;21;01mcors\u001B[39;00m \u001B[38;5;28;01mimport\u001B[39;00m CORSMiddleware\n\u001B[0;32m     11\u001B[0m \u001B[38;5;28;01mfrom\u001B[39;00m \u001B[38;5;21;01mstarlette\u001B[39;00m\u001B[38;5;21;01m.\u001B[39;00m\u001B[38;5;21;01mrequests\u001B[39;00m \u001B[38;5;28;01mimport\u001B[39;00m Request\n",
      "\u001B[1;31mModuleNotFoundError\u001B[0m: No module named 'starlette'"
     ]
    }
   ],
   "source": [
    "from reactpy import component, html, run\n",
    "from reactpy.backend.starlette import configure"
   ]
  },
  {
   "cell_type": "code",
   "execution_count": 2,
   "outputs": [],
   "source": [
    "@component\n",
    "def App():\n",
    "    return html.div(\n",
    "        html.h1(\"Hello, world!\"),\n",
    "        html.p(\"This is a paragraph.\"),\n",
    "        html.button(\"Click me!\")\n",
    "    )"
   ],
   "metadata": {
    "collapsed": false,
    "ExecuteTime": {
     "end_time": "2023-06-06T08:43:36.829347100Z",
     "start_time": "2023-06-06T08:43:36.813728700Z"
    }
   }
  },
  {
   "cell_type": "code",
   "execution_count": 3,
   "outputs": [
    {
     "name": "stdout",
     "output_type": "stream",
     "text": [
      "2023-06-06T14:43:40+0600 | \u001B[33mWARNING\u001B[0m | The `run()` function is only intended for testing during development! To run in production, consider selecting a supported backend and importing its associated `configure()` function from `reactpy.backend.<package>` where `<package>` is one of ['starlette', 'fastapi', 'sanic', 'tornado', 'flask']. For details refer to the docs on how to run each package.\u001B[0m\n"
     ]
    },
    {
     "ename": "RuntimeError",
     "evalue": "No built-in server implementation installed.",
     "output_type": "error",
     "traceback": [
      "\u001B[1;31m---------------------------------------------------------------------------\u001B[0m",
      "\u001B[1;31mStopIteration\u001B[0m                             Traceback (most recent call last)",
      "File \u001B[1;32mD:\\Machine-Learning-Practice\\venv\\lib\\site-packages\\reactpy\\backend\\default.py:59\u001B[0m, in \u001B[0;36m_default_implementation\u001B[1;34m()\u001B[0m\n\u001B[0;32m     58\u001B[0m \u001B[38;5;28;01mtry\u001B[39;00m:\n\u001B[1;32m---> 59\u001B[0m     implementation \u001B[38;5;241m=\u001B[39m \u001B[38;5;28;43mnext\u001B[39;49m\u001B[43m(\u001B[49m\u001B[43mall_implementations\u001B[49m\u001B[43m(\u001B[49m\u001B[43m)\u001B[49m\u001B[43m)\u001B[49m\n\u001B[0;32m     60\u001B[0m \u001B[38;5;28;01mexcept\u001B[39;00m \u001B[38;5;167;01mStopIteration\u001B[39;00m:  \u001B[38;5;66;03m# pragma: no cover\u001B[39;00m\n",
      "\u001B[1;31mStopIteration\u001B[0m: ",
      "\nDuring handling of the above exception, another exception occurred:\n",
      "\u001B[1;31mRuntimeError\u001B[0m                              Traceback (most recent call last)",
      "Cell \u001B[1;32mIn[3], line 1\u001B[0m\n\u001B[1;32m----> 1\u001B[0m \u001B[43mrun\u001B[49m\u001B[43m(\u001B[49m\u001B[43mApp\u001B[49m\u001B[43m)\u001B[49m\n",
      "File \u001B[1;32mD:\\Machine-Learning-Practice\\venv\\lib\\site-packages\\reactpy\\backend\\utils.py:37\u001B[0m, in \u001B[0;36mrun\u001B[1;34m(component, host, port, implementation)\u001B[0m\n\u001B[0;32m     33\u001B[0m logger\u001B[38;5;241m.\u001B[39mwarning(_DEVELOPMENT_RUN_FUNC_WARNING)\n\u001B[0;32m     35\u001B[0m implementation \u001B[38;5;241m=\u001B[39m implementation \u001B[38;5;129;01mor\u001B[39;00m import_module(\u001B[38;5;124m\"\u001B[39m\u001B[38;5;124mreactpy.backend.default\u001B[39m\u001B[38;5;124m\"\u001B[39m)\n\u001B[1;32m---> 37\u001B[0m app \u001B[38;5;241m=\u001B[39m \u001B[43mimplementation\u001B[49m\u001B[38;5;241;43m.\u001B[39;49m\u001B[43mcreate_development_app\u001B[49m\u001B[43m(\u001B[49m\u001B[43m)\u001B[49m\n\u001B[0;32m     38\u001B[0m implementation\u001B[38;5;241m.\u001B[39mconfigure(app, component)\n\u001B[0;32m     40\u001B[0m host \u001B[38;5;241m=\u001B[39m host\n",
      "File \u001B[1;32mD:\\Machine-Learning-Practice\\venv\\lib\\site-packages\\reactpy\\backend\\default.py:28\u001B[0m, in \u001B[0;36mcreate_development_app\u001B[1;34m()\u001B[0m\n\u001B[0;32m     26\u001B[0m \u001B[38;5;28;01mdef\u001B[39;00m \u001B[38;5;21mcreate_development_app\u001B[39m() \u001B[38;5;241m-\u001B[39m\u001B[38;5;241m>\u001B[39m Any:\n\u001B[0;32m     27\u001B[0m \u001B[38;5;250m    \u001B[39m\u001B[38;5;124;03m\"\"\"Create an application instance for development purposes\"\"\"\u001B[39;00m\n\u001B[1;32m---> 28\u001B[0m     \u001B[38;5;28;01mreturn\u001B[39;00m \u001B[43m_default_implementation\u001B[49m\u001B[43m(\u001B[49m\u001B[43m)\u001B[49m\u001B[38;5;241m.\u001B[39mcreate_development_app()\n",
      "File \u001B[1;32mD:\\Machine-Learning-Practice\\venv\\lib\\site-packages\\reactpy\\backend\\default.py:62\u001B[0m, in \u001B[0;36m_default_implementation\u001B[1;34m()\u001B[0m\n\u001B[0;32m     60\u001B[0m \u001B[38;5;28;01mexcept\u001B[39;00m \u001B[38;5;167;01mStopIteration\u001B[39;00m:  \u001B[38;5;66;03m# pragma: no cover\u001B[39;00m\n\u001B[0;32m     61\u001B[0m     logger\u001B[38;5;241m.\u001B[39mdebug(\u001B[38;5;124m\"\u001B[39m\u001B[38;5;124mBackend implementation import failed\u001B[39m\u001B[38;5;124m\"\u001B[39m, exc_info\u001B[38;5;241m=\u001B[39mexc_info())\n\u001B[1;32m---> 62\u001B[0m     \u001B[38;5;28;01mraise\u001B[39;00m \u001B[38;5;167;01mRuntimeError\u001B[39;00m(\u001B[38;5;124m\"\u001B[39m\u001B[38;5;124mNo built-in server implementation installed.\u001B[39m\u001B[38;5;124m\"\u001B[39m)\n\u001B[0;32m     63\u001B[0m \u001B[38;5;28;01melse\u001B[39;00m:\n\u001B[0;32m     64\u001B[0m     _DEFAULT_IMPLEMENTATION \u001B[38;5;241m=\u001B[39m implementation\n",
      "\u001B[1;31mRuntimeError\u001B[0m: No built-in server implementation installed."
     ]
    }
   ],
   "source": [
    "run(App)"
   ],
   "metadata": {
    "collapsed": false,
    "ExecuteTime": {
     "end_time": "2023-06-06T08:43:41.636606300Z",
     "start_time": "2023-06-06T08:43:40.331031400Z"
    }
   }
  },
  {
   "cell_type": "code",
   "execution_count": 4,
   "outputs": [],
   "source": [
    "!pip install \"reactpy[fastapi,flask,sanic,starlette,tornado]\""
   ],
   "metadata": {
    "collapsed": false,
    "ExecuteTime": {
     "end_time": "2023-06-06T08:44:34.823439800Z",
     "start_time": "2023-06-06T08:44:31.514473300Z"
    }
   }
  }
 ],
 "metadata": {
  "kernelspec": {
   "display_name": "Python 3",
   "language": "python",
   "name": "python3"
  },
  "language_info": {
   "codemirror_mode": {
    "name": "ipython",
    "version": 2
   },
   "file_extension": ".py",
   "mimetype": "text/x-python",
   "name": "python",
   "nbconvert_exporter": "python",
   "pygments_lexer": "ipython2",
   "version": "2.7.6"
  }
 },
 "nbformat": 4,
 "nbformat_minor": 0
}
