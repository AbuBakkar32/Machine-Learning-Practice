{
 "cells": [
  {
   "cell_type": "code",
   "execution_count": 1,
   "id": "initial_id",
   "metadata": {
    "collapsed": true,
    "ExecuteTime": {
     "end_time": "2023-10-25T13:24:55.118126700Z",
     "start_time": "2023-10-25T13:24:49.936849200Z"
    }
   },
   "outputs": [],
   "source": [
    "#Importing the libraries\n",
    "import pandas as pd\n",
    "import numpy as np\n",
    "import matplotlib.pyplot as plt"
   ]
  },
  {
   "cell_type": "code",
   "execution_count": 2,
   "outputs": [],
   "source": [
    "# loading the csv data to a Pandas DataFrame\n",
    "df = pd.read_csv(\"data/country_wise_latest.csv\")"
   ],
   "metadata": {
    "collapsed": false,
    "ExecuteTime": {
     "end_time": "2023-10-25T13:25:30.346050400Z",
     "start_time": "2023-10-25T13:25:30.330421400Z"
    }
   },
   "id": "ed0412428c5fc53d"
  },
  {
   "cell_type": "code",
   "execution_count": 3,
   "outputs": [
    {
     "data": {
      "text/plain": "  Country/Region  Confirmed  Deaths  Recovered  Active  New cases  New deaths  \\\n0    Afghanistan      36263    1269      25198    9796        106          10   \n1        Albania       4880     144       2745    1991        117           6   \n2        Algeria      27973    1163      18837    7973        616           8   \n3        Andorra        907      52        803      52         10           0   \n4         Angola        950      41        242     667         18           1   \n\n   New recovered  Deaths / 100 Cases  Recovered / 100 Cases  \\\n0             18                3.50                  69.49   \n1             63                2.95                  56.25   \n2            749                4.16                  67.34   \n3              0                5.73                  88.53   \n4              0                4.32                  25.47   \n\n   Deaths / 100 Recovered  Confirmed last week  1 week change  \\\n0                    5.04                35526            737   \n1                    5.25                 4171            709   \n2                    6.17                23691           4282   \n3                    6.48                  884             23   \n4                   16.94                  749            201   \n\n   1 week % increase             WHO Region  \n0               2.07  Eastern Mediterranean  \n1              17.00                 Europe  \n2              18.07                 Africa  \n3               2.60                 Europe  \n4              26.84                 Africa  ",
      "text/html": "<div>\n<style scoped>\n    .dataframe tbody tr th:only-of-type {\n        vertical-align: middle;\n    }\n\n    .dataframe tbody tr th {\n        vertical-align: top;\n    }\n\n    .dataframe thead th {\n        text-align: right;\n    }\n</style>\n<table border=\"1\" class=\"dataframe\">\n  <thead>\n    <tr style=\"text-align: right;\">\n      <th></th>\n      <th>Country/Region</th>\n      <th>Confirmed</th>\n      <th>Deaths</th>\n      <th>Recovered</th>\n      <th>Active</th>\n      <th>New cases</th>\n      <th>New deaths</th>\n      <th>New recovered</th>\n      <th>Deaths / 100 Cases</th>\n      <th>Recovered / 100 Cases</th>\n      <th>Deaths / 100 Recovered</th>\n      <th>Confirmed last week</th>\n      <th>1 week change</th>\n      <th>1 week % increase</th>\n      <th>WHO Region</th>\n    </tr>\n  </thead>\n  <tbody>\n    <tr>\n      <th>0</th>\n      <td>Afghanistan</td>\n      <td>36263</td>\n      <td>1269</td>\n      <td>25198</td>\n      <td>9796</td>\n      <td>106</td>\n      <td>10</td>\n      <td>18</td>\n      <td>3.50</td>\n      <td>69.49</td>\n      <td>5.04</td>\n      <td>35526</td>\n      <td>737</td>\n      <td>2.07</td>\n      <td>Eastern Mediterranean</td>\n    </tr>\n    <tr>\n      <th>1</th>\n      <td>Albania</td>\n      <td>4880</td>\n      <td>144</td>\n      <td>2745</td>\n      <td>1991</td>\n      <td>117</td>\n      <td>6</td>\n      <td>63</td>\n      <td>2.95</td>\n      <td>56.25</td>\n      <td>5.25</td>\n      <td>4171</td>\n      <td>709</td>\n      <td>17.00</td>\n      <td>Europe</td>\n    </tr>\n    <tr>\n      <th>2</th>\n      <td>Algeria</td>\n      <td>27973</td>\n      <td>1163</td>\n      <td>18837</td>\n      <td>7973</td>\n      <td>616</td>\n      <td>8</td>\n      <td>749</td>\n      <td>4.16</td>\n      <td>67.34</td>\n      <td>6.17</td>\n      <td>23691</td>\n      <td>4282</td>\n      <td>18.07</td>\n      <td>Africa</td>\n    </tr>\n    <tr>\n      <th>3</th>\n      <td>Andorra</td>\n      <td>907</td>\n      <td>52</td>\n      <td>803</td>\n      <td>52</td>\n      <td>10</td>\n      <td>0</td>\n      <td>0</td>\n      <td>5.73</td>\n      <td>88.53</td>\n      <td>6.48</td>\n      <td>884</td>\n      <td>23</td>\n      <td>2.60</td>\n      <td>Europe</td>\n    </tr>\n    <tr>\n      <th>4</th>\n      <td>Angola</td>\n      <td>950</td>\n      <td>41</td>\n      <td>242</td>\n      <td>667</td>\n      <td>18</td>\n      <td>1</td>\n      <td>0</td>\n      <td>4.32</td>\n      <td>25.47</td>\n      <td>16.94</td>\n      <td>749</td>\n      <td>201</td>\n      <td>26.84</td>\n      <td>Africa</td>\n    </tr>\n  </tbody>\n</table>\n</div>"
     },
     "execution_count": 3,
     "metadata": {},
     "output_type": "execute_result"
    }
   ],
   "source": [
    "# inspecting the first 5 rows of the dataframe\n",
    "df.head()"
   ],
   "metadata": {
    "collapsed": false,
    "ExecuteTime": {
     "end_time": "2023-10-25T13:27:48.796872900Z",
     "start_time": "2023-10-25T13:27:48.168816400Z"
    }
   },
   "id": "a23a17d4d4564d37"
  },
  {
   "cell_type": "code",
   "execution_count": 4,
   "outputs": [
    {
     "name": "stderr",
     "output_type": "stream",
     "text": [
      "C:\\Users\\ABS RAKIB\\AppData\\Local\\Programs\\Python\\Python311\\Lib\\site-packages\\pandas\\core\\nanops.py:1010: RuntimeWarning: invalid value encountered in subtract\n",
      "  sqr = _ensure_numeric((avg - values) ** 2)\n"
     ]
    },
    {
     "data": {
      "text/plain": "          Confirmed         Deaths     Recovered        Active     New cases  \\\ncount  1.870000e+02     187.000000  1.870000e+02  1.870000e+02    187.000000   \nmean   8.813094e+04    3497.518717  5.063148e+04  3.400194e+04   1222.957219   \nstd    3.833187e+05   14100.002482  1.901882e+05  2.133262e+05   5710.374790   \nmin    1.000000e+01       0.000000  0.000000e+00  0.000000e+00      0.000000   \n25%    1.114000e+03      18.500000  6.265000e+02  1.415000e+02      4.000000   \n50%    5.059000e+03     108.000000  2.815000e+03  1.600000e+03     49.000000   \n75%    4.046050e+04     734.000000  2.260600e+04  9.149000e+03    419.500000   \nmax    4.290259e+06  148011.000000  1.846641e+06  2.816444e+06  56336.000000   \n\n        New deaths  New recovered  Deaths / 100 Cases  Recovered / 100 Cases  \\\ncount   187.000000     187.000000          187.000000             187.000000   \nmean     28.957219     933.812834            3.019519              64.820535   \nstd     120.037173    4197.719635            3.454302              26.287694   \nmin       0.000000       0.000000            0.000000               0.000000   \n25%       0.000000       0.000000            0.945000              48.770000   \n50%       1.000000      22.000000            2.150000              71.320000   \n75%       6.000000     221.000000            3.875000              86.885000   \nmax    1076.000000   33728.000000           28.560000             100.000000   \n\n       Deaths / 100 Recovered  Confirmed last week  1 week change  \\\ncount                  187.00         1.870000e+02     187.000000   \nmean                      inf         7.868248e+04    9448.459893   \nstd                       NaN         3.382737e+05   47491.127684   \nmin                      0.00         1.000000e+01     -47.000000   \n25%                      1.45         1.051500e+03      49.000000   \n50%                      3.62         5.020000e+03     432.000000   \n75%                      6.44         3.708050e+04    3172.000000   \nmax                       inf         3.834677e+06  455582.000000   \n\n       1 week % increase  \ncount         187.000000  \nmean           13.606203  \nstd            24.509838  \nmin            -3.840000  \n25%             2.775000  \n50%             6.890000  \n75%            16.855000  \nmax           226.320000  ",
      "text/html": "<div>\n<style scoped>\n    .dataframe tbody tr th:only-of-type {\n        vertical-align: middle;\n    }\n\n    .dataframe tbody tr th {\n        vertical-align: top;\n    }\n\n    .dataframe thead th {\n        text-align: right;\n    }\n</style>\n<table border=\"1\" class=\"dataframe\">\n  <thead>\n    <tr style=\"text-align: right;\">\n      <th></th>\n      <th>Confirmed</th>\n      <th>Deaths</th>\n      <th>Recovered</th>\n      <th>Active</th>\n      <th>New cases</th>\n      <th>New deaths</th>\n      <th>New recovered</th>\n      <th>Deaths / 100 Cases</th>\n      <th>Recovered / 100 Cases</th>\n      <th>Deaths / 100 Recovered</th>\n      <th>Confirmed last week</th>\n      <th>1 week change</th>\n      <th>1 week % increase</th>\n    </tr>\n  </thead>\n  <tbody>\n    <tr>\n      <th>count</th>\n      <td>1.870000e+02</td>\n      <td>187.000000</td>\n      <td>1.870000e+02</td>\n      <td>1.870000e+02</td>\n      <td>187.000000</td>\n      <td>187.000000</td>\n      <td>187.000000</td>\n      <td>187.000000</td>\n      <td>187.000000</td>\n      <td>187.00</td>\n      <td>1.870000e+02</td>\n      <td>187.000000</td>\n      <td>187.000000</td>\n    </tr>\n    <tr>\n      <th>mean</th>\n      <td>8.813094e+04</td>\n      <td>3497.518717</td>\n      <td>5.063148e+04</td>\n      <td>3.400194e+04</td>\n      <td>1222.957219</td>\n      <td>28.957219</td>\n      <td>933.812834</td>\n      <td>3.019519</td>\n      <td>64.820535</td>\n      <td>inf</td>\n      <td>7.868248e+04</td>\n      <td>9448.459893</td>\n      <td>13.606203</td>\n    </tr>\n    <tr>\n      <th>std</th>\n      <td>3.833187e+05</td>\n      <td>14100.002482</td>\n      <td>1.901882e+05</td>\n      <td>2.133262e+05</td>\n      <td>5710.374790</td>\n      <td>120.037173</td>\n      <td>4197.719635</td>\n      <td>3.454302</td>\n      <td>26.287694</td>\n      <td>NaN</td>\n      <td>3.382737e+05</td>\n      <td>47491.127684</td>\n      <td>24.509838</td>\n    </tr>\n    <tr>\n      <th>min</th>\n      <td>1.000000e+01</td>\n      <td>0.000000</td>\n      <td>0.000000e+00</td>\n      <td>0.000000e+00</td>\n      <td>0.000000</td>\n      <td>0.000000</td>\n      <td>0.000000</td>\n      <td>0.000000</td>\n      <td>0.000000</td>\n      <td>0.00</td>\n      <td>1.000000e+01</td>\n      <td>-47.000000</td>\n      <td>-3.840000</td>\n    </tr>\n    <tr>\n      <th>25%</th>\n      <td>1.114000e+03</td>\n      <td>18.500000</td>\n      <td>6.265000e+02</td>\n      <td>1.415000e+02</td>\n      <td>4.000000</td>\n      <td>0.000000</td>\n      <td>0.000000</td>\n      <td>0.945000</td>\n      <td>48.770000</td>\n      <td>1.45</td>\n      <td>1.051500e+03</td>\n      <td>49.000000</td>\n      <td>2.775000</td>\n    </tr>\n    <tr>\n      <th>50%</th>\n      <td>5.059000e+03</td>\n      <td>108.000000</td>\n      <td>2.815000e+03</td>\n      <td>1.600000e+03</td>\n      <td>49.000000</td>\n      <td>1.000000</td>\n      <td>22.000000</td>\n      <td>2.150000</td>\n      <td>71.320000</td>\n      <td>3.62</td>\n      <td>5.020000e+03</td>\n      <td>432.000000</td>\n      <td>6.890000</td>\n    </tr>\n    <tr>\n      <th>75%</th>\n      <td>4.046050e+04</td>\n      <td>734.000000</td>\n      <td>2.260600e+04</td>\n      <td>9.149000e+03</td>\n      <td>419.500000</td>\n      <td>6.000000</td>\n      <td>221.000000</td>\n      <td>3.875000</td>\n      <td>86.885000</td>\n      <td>6.44</td>\n      <td>3.708050e+04</td>\n      <td>3172.000000</td>\n      <td>16.855000</td>\n    </tr>\n    <tr>\n      <th>max</th>\n      <td>4.290259e+06</td>\n      <td>148011.000000</td>\n      <td>1.846641e+06</td>\n      <td>2.816444e+06</td>\n      <td>56336.000000</td>\n      <td>1076.000000</td>\n      <td>33728.000000</td>\n      <td>28.560000</td>\n      <td>100.000000</td>\n      <td>inf</td>\n      <td>3.834677e+06</td>\n      <td>455582.000000</td>\n      <td>226.320000</td>\n    </tr>\n  </tbody>\n</table>\n</div>"
     },
     "execution_count": 4,
     "metadata": {},
     "output_type": "execute_result"
    }
   ],
   "source": [
    "#statistical information about the dataset\n",
    "df.describe()"
   ],
   "metadata": {
    "collapsed": false,
    "ExecuteTime": {
     "end_time": "2023-10-25T13:28:27.703229400Z",
     "start_time": "2023-10-25T13:28:27.377351400Z"
    }
   },
   "id": "f6a50069534dba26"
  },
  {
   "cell_type": "markdown",
   "source": [
    "**Data Preprocessing**"
   ],
   "metadata": {
    "collapsed": false
   },
   "id": "88b542859e74a816"
  },
  {
   "cell_type": "code",
   "execution_count": 5,
   "outputs": [
    {
     "name": "stdout",
     "output_type": "stream",
     "text": [
      "<class 'pandas.core.frame.DataFrame'>\n",
      "RangeIndex: 187 entries, 0 to 186\n",
      "Data columns (total 15 columns):\n",
      " #   Column                  Non-Null Count  Dtype  \n",
      "---  ------                  --------------  -----  \n",
      " 0   Country/Region          187 non-null    object \n",
      " 1   Confirmed               187 non-null    int64  \n",
      " 2   Deaths                  187 non-null    int64  \n",
      " 3   Recovered               187 non-null    int64  \n",
      " 4   Active                  187 non-null    int64  \n",
      " 5   New cases               187 non-null    int64  \n",
      " 6   New deaths              187 non-null    int64  \n",
      " 7   New recovered           187 non-null    int64  \n",
      " 8   Deaths / 100 Cases      187 non-null    float64\n",
      " 9   Recovered / 100 Cases   187 non-null    float64\n",
      " 10  Deaths / 100 Recovered  187 non-null    float64\n",
      " 11  Confirmed last week     187 non-null    int64  \n",
      " 12  1 week change           187 non-null    int64  \n",
      " 13  1 week % increase       187 non-null    float64\n",
      " 14  WHO Region              187 non-null    object \n",
      "dtypes: float64(4), int64(9), object(2)\n",
      "memory usage: 22.0+ KB\n"
     ]
    }
   ],
   "source": [
    "# getting some information about the dataset\n",
    "df.info()"
   ],
   "metadata": {
    "collapsed": false,
    "ExecuteTime": {
     "end_time": "2023-10-25T13:36:23.450858700Z",
     "start_time": "2023-10-25T13:36:23.154104200Z"
    }
   },
   "id": "5c4f0220552fc1d3"
  },
  {
   "cell_type": "code",
   "execution_count": 7,
   "outputs": [
    {
     "data": {
      "text/plain": "(187, 15)"
     },
     "execution_count": 7,
     "metadata": {},
     "output_type": "execute_result"
    }
   ],
   "source": [
    "df.shape"
   ],
   "metadata": {
    "collapsed": false,
    "ExecuteTime": {
     "end_time": "2023-10-25T13:37:22.643302200Z",
     "start_time": "2023-10-25T13:37:22.361017100Z"
    }
   },
   "id": "50abf2625a5f4d71"
  },
  {
   "cell_type": "code",
   "execution_count": 13,
   "outputs": [
    {
     "data": {
      "text/plain": "array(['Eastern Mediterranean', 'Europe', 'Africa', 'Americas',\n       'Western Pacific', 'South-East Asia'], dtype=object)"
     },
     "execution_count": 13,
     "metadata": {},
     "output_type": "execute_result"
    }
   ],
   "source": [
    "df[\"WHO Region\"].unique()"
   ],
   "metadata": {
    "collapsed": false,
    "ExecuteTime": {
     "end_time": "2023-10-25T13:59:20.623757800Z",
     "start_time": "2023-10-25T13:59:20.573030600Z"
    }
   },
   "id": "dd18d3dfd376622e"
  },
  {
   "cell_type": "code",
   "execution_count": 15,
   "outputs": [
    {
     "data": {
      "text/plain": "Country/Region            0\nConfirmed                 0\nDeaths                    0\nRecovered                 0\nActive                    0\nNew cases                 0\nNew deaths                0\nNew recovered             0\nDeaths / 100 Cases        0\nRecovered / 100 Cases     0\nDeaths / 100 Recovered    0\nConfirmed last week       0\n1 week change             0\n1 week % increase         0\nWHO Region                0\ndtype: int64"
     },
     "execution_count": 15,
     "metadata": {},
     "output_type": "execute_result"
    }
   ],
   "source": [
    "df.isnull().sum()"
   ],
   "metadata": {
    "collapsed": false,
    "ExecuteTime": {
     "end_time": "2023-10-25T13:59:45.031962800Z",
     "start_time": "2023-10-25T13:59:44.906405800Z"
    }
   },
   "id": "e7257f5b9926678c"
  },
  {
   "cell_type": "code",
   "execution_count": 24,
   "outputs": [
    {
     "data": {
      "text/plain": "<Axes: xlabel='WHO Region'>"
     },
     "execution_count": 24,
     "metadata": {},
     "output_type": "execute_result"
    },
    {
     "data": {
      "text/plain": "<Figure size 800x300 with 1 Axes>",
      "image/png": "[encoded data removed]"
     },
     "metadata": {},
     "output_type": "display_data"
    }
   ],
   "source": [
    "df[\"WHO Region\"].value_counts().plot(kind=\"bar\",color=\"blue\",figsize=(8,3))"
   ],
   "metadata": {
    "collapsed": false,
    "ExecuteTime": {
     "end_time": "2023-10-25T14:06:13.601287500Z",
     "start_time": "2023-10-25T14:06:11.167705800Z"
    }
   },
   "id": "16b23190dcd4e84b"
  },
  {
   "cell_type": "code",
   "execution_count": 17,
   "outputs": [
    {
     "data": {
      "text/plain": "WHO Region\nEurope                   56\nAfrica                   48\nAmericas                 35\nEastern Mediterranean    22\nWestern Pacific          16\nSouth-East Asia          10\nName: count, dtype: int64"
     },
     "execution_count": 17,
     "metadata": {},
     "output_type": "execute_result"
    }
   ],
   "source": [
    "df[\"WHO Region\"].value_counts()"
   ],
   "metadata": {
    "collapsed": false,
    "ExecuteTime": {
     "end_time": "2023-10-25T14:02:08.836332900Z",
     "start_time": "2023-10-25T14:02:08.171111800Z"
    }
   },
   "id": "c391504e5224f39f"
  },
  {
   "cell_type": "code",
   "execution_count": null,
   "outputs": [],
   "source": [],
   "metadata": {
    "collapsed": false
   },
   "id": "c0d8dedf09a82a26"
  }
 ],
 "metadata": {
  "kernelspec": {
   "display_name": "Python 3",
   "language": "python",
   "name": "python3"
  },
  "language_info": {
   "codemirror_mode": {
    "name": "ipython",
    "version": 2
   },
   "file_extension": ".py",
   "mimetype": "text/x-python",
   "name": "python",
   "nbconvert_exporter": "python",
   "pygments_lexer": "ipython2",
   "version": "2.7.6"
  }
 },
 "nbformat": 4,
 "nbformat_minor": 5
}
