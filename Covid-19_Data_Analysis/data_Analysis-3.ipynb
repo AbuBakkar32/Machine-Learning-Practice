{
 "cells": [
  {
   "cell_type": "code",
   "execution_count": 1,
   "id": "initial_id",
   "metadata": {
    "collapsed": true,
    "ExecuteTime": {
     "end_time": "2023-10-31T12:23:35.106288Z",
     "start_time": "2023-10-31T12:23:28.815225800Z"
    }
   },
   "outputs": [],
   "source": [
    "import pandas as pd # data manipulation , analysis, cleaning \n",
    "import numpy as np # mathematical calculations\n",
    "\n",
    "import plotly.express as px\n",
    "import plotly.graph_objects as go\n",
    "from plotly.subplots import make_subplots"
   ]
  },
  {
   "cell_type": "code",
   "execution_count": null,
   "outputs": [],
   "source": [
    "country_wise = pd.read_csv('data/country_wise_latest.csv')\n",
    "day_wise = pd.read_csv('data/day_wise.csv')\n",
    "worldometer_data = pd.read_csv('data/worldometer_data.csv')\n",
    "DD_CW1 = pd.read_csv('data/full_grouped.csv')\n",
    "DD_CW2 = pd.read_csv('data/covid_19_clean_complete.csv')\n",
    "usa = pd.read_csv('data/usa_county_wise.csv')"
   ],
   "metadata": {
    "collapsed": false,
    "is_executing": true,
    "ExecuteTime": {
     "start_time": "2023-10-31T12:23:42.243869900Z"
    }
   },
   "id": "4e762a0f56a2b501"
  },
  {
   "cell_type": "code",
   "execution_count": null,
   "outputs": [],
   "source": [],
   "metadata": {
    "collapsed": false
   },
   "id": "55d6d133bc96ed2f"
  }
 ],
 "metadata": {
  "kernelspec": {
   "display_name": "Python 3",
   "language": "python",
   "name": "python3"
  },
  "language_info": {
   "codemirror_mode": {
    "name": "ipython",
    "version": 2
   },
   "file_extension": ".py",
   "mimetype": "text/x-python",
   "name": "python",
   "nbconvert_exporter": "python",
   "pygments_lexer": "ipython2",
   "version": "2.7.6"
  }
 },
 "nbformat": 4,
 "nbformat_minor": 5
}
