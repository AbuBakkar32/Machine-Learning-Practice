{
 "cells": [
  {
   "cell_type": "code",
   "execution_count": 1,
   "id": "initial_id",
   "metadata": {
    "collapsed": true,
    "ExecuteTime": {
     "end_time": "2023-10-28T03:49:07.222525700Z",
     "start_time": "2023-10-28T03:49:06.928898500Z"
    }
   },
   "outputs": [],
   "source": [
    "#Importing libraries\n",
    "import pandas as pd\n",
    "import numpy as np\n",
    "import matplotlib.pyplot as plt\n",
    "import seaborn as sns\n",
    "import plotly.graph_objects as go\n",
    "import plotly.express as px\n",
    "import plotly.io as pio\n",
    "pio.templates.default = \"plotly_dark\"\n",
    "from plotly.subplots import make_subplots\n",
    "\n",
    "# pd.options.display.max_columns = None\n",
    "# pd.options.display.max_rows = None\n",
    "pd.set_option('display.max_columns', None)\n",
    "# pd.set_option('display.width', 1000)"
   ]
  },
  {
   "cell_type": "code",
   "execution_count": 2,
   "outputs": [],
   "source": [
    "#Importing datasets\n",
    "df_covid = pd.read_csv(\"data/covid_19_clean_complete.csv\")\n",
    "df_country = pd.read_csv(\"data/country_wise_latest.csv\")\n",
    "df_day = pd.read_csv(\"data/day_wise.csv\")\n",
    "df_f_group = pd.read_csv(\"data/full_grouped.csv\")\n",
    "df_world = pd.read_csv(\"data/worldometer_data.csv\")"
   ],
   "metadata": {
    "collapsed": false,
    "ExecuteTime": {
     "end_time": "2023-10-28T03:49:12.869290700Z",
     "start_time": "2023-10-28T03:49:10.140405Z"
    }
   },
   "id": "3b6dc65d10fa0ade"
  },
  {
   "cell_type": "code",
   "execution_count": 16,
   "outputs": [
    {
     "name": "stdout",
     "output_type": "stream",
     "text": [
      "  Province/State Country/Region       Lat       Long        Date  Confirmed  Deaths  Recovered  Active             WHO Region\n",
      "0            NaN    Afghanistan  33.93911  67.709953  2020-01-22          0       0          0       0  Eastern Mediterranean\n",
      "1            NaN        Albania  41.15330  20.168300  2020-01-22          0       0          0       0                 Europe\n",
      "2            NaN        Algeria  28.03390   1.659600  2020-01-22          0       0          0       0                 Africa\n",
      "3            NaN        Andorra  42.50630   1.521800  2020-01-22          0       0          0       0                 Europe\n",
      "4            NaN         Angola -11.20270  17.873900  2020-01-22          0       0          0       0                 Africa\n",
      "  Country/Region  Confirmed  Deaths  Recovered  Active  New cases  New deaths  New recovered  Deaths / 100 Cases  Recovered / 100 Cases  Deaths / 100 Recovered  Confirmed last week  1 week change  1 week % increase             WHO Region\n",
      "0    Afghanistan      36263    1269      25198    9796        106          10             18                3.50                  69.49                    5.04                35526            737               2.07  Eastern Mediterranean\n",
      "1        Albania       4880     144       2745    1991        117           6             63                2.95                  56.25                    5.25                 4171            709              17.00                 Europe\n",
      "2        Algeria      27973    1163      18837    7973        616           8            749                4.16                  67.34                    6.17                23691           4282              18.07                 Africa\n",
      "3        Andorra        907      52        803      52         10           0              0                5.73                  88.53                    6.48                  884             23               2.60                 Europe\n",
      "4         Angola        950      41        242     667         18           1              0                4.32                  25.47                   16.94                  749            201              26.84                 Africa\n",
      "         Date  Confirmed  Deaths  Recovered  Active  New cases  New deaths  New recovered  Deaths / 100 Cases  Recovered / 100 Cases  Deaths / 100 Recovered  No. of countries\n",
      "0  2020-01-22        555      17         28     510          0           0              0                3.06                   5.05                   60.71                 6\n",
      "1  2020-01-23        654      18         30     606         99           1              2                2.75                   4.59                   60.00                 8\n",
      "2  2020-01-24        941      26         36     879        287           8              6                2.76                   3.83                   72.22                 9\n",
      "3  2020-01-25       1434      42         39    1353        493          16              3                2.93                   2.72                  107.69                11\n",
      "4  2020-01-26       2118      56         52    2010        684          14             13                2.64                   2.46                  107.69                13\n",
      "         Date Country/Region  Confirmed  Deaths  Recovered  Active  New cases  New deaths  New recovered             WHO Region\n",
      "0  2020-01-22    Afghanistan          0       0          0       0          0           0              0  Eastern Mediterranean\n",
      "1  2020-01-22        Albania          0       0          0       0          0           0              0                 Europe\n",
      "2  2020-01-22        Algeria          0       0          0       0          0           0              0                 Africa\n",
      "3  2020-01-22        Andorra          0       0          0       0          0           0              0                 Europe\n",
      "4  2020-01-22         Angola          0       0          0       0          0           0              0                 Africa\n",
      "  Country/Region      Continent    Population  TotalCases  NewCases  TotalDeaths  NewDeaths  TotalRecovered  NewRecovered  ActiveCases  Serious,Critical  Tot Cases/1M pop  Deaths/1M pop  TotalTests  Tests/1M pop      WHO Region\n",
      "0            USA  North America  3.311981e+08     5032179       NaN     162804.0        NaN       2576668.0           NaN    2292707.0           18296.0           15194.0          492.0  63139605.0      190640.0        Americas\n",
      "1         Brazil  South America  2.127107e+08     2917562       NaN      98644.0        NaN       2047660.0           NaN     771258.0            8318.0           13716.0          464.0  13206188.0       62085.0        Americas\n",
      "2          India           Asia  1.381345e+09     2025409       NaN      41638.0        NaN       1377384.0           NaN     606387.0            8944.0            1466.0           30.0  22149351.0       16035.0  South-EastAsia\n",
      "3         Russia         Europe  1.459409e+08      871894       NaN      14606.0        NaN        676357.0           NaN     180931.0            2300.0            5974.0          100.0  29716907.0      203623.0          Europe\n",
      "4   South Africa         Africa  5.938157e+07      538184       NaN       9604.0        NaN        387316.0           NaN     141264.0             539.0            9063.0          162.0   3149807.0       53044.0          Africa\n"
     ]
    }
   ],
   "source": [
    "all_dfs = [df_covid, df_country, df_day, df_f_group, df_world]\n",
    "for df in all_dfs:\n",
    "    print(f'{df.head()}')"
   ],
   "metadata": {
    "collapsed": false,
    "ExecuteTime": {
     "end_time": "2023-10-27T15:18:26.144743Z",
     "start_time": "2023-10-27T15:18:26.128718900Z"
    }
   },
   "id": "117ed35ff03fb04f"
  },
  {
   "cell_type": "code",
   "execution_count": null,
   "outputs": [],
   "source": [
    "#df_covid.columns.tolist()"
   ],
   "metadata": {
    "collapsed": false
   },
   "id": "ab93b8931b05502f"
  },
  {
   "cell_type": "code",
   "execution_count": null,
   "outputs": [],
   "source": [
    "df_covid['Province/State'] = df_covid['Province/State'].fillna('')"
   ],
   "metadata": {
    "collapsed": false
   },
   "id": "fbcb5932a91fc5d9"
  },
  {
   "cell_type": "code",
   "execution_count": 17,
   "outputs": [
    {
     "data": {
      "text/plain": "  Province/State Country/Region       Lat       Long        Date  Confirmed  Deaths  Recovered  Active             WHO Region\n0            NaN    Afghanistan  33.93911  67.709953  2020-01-22          0       0          0       0  Eastern Mediterranean\n1            NaN        Albania  41.15330  20.168300  2020-01-22          0       0          0       0                 Europe\n2            NaN        Algeria  28.03390   1.659600  2020-01-22          0       0          0       0                 Africa\n3            NaN        Andorra  42.50630   1.521800  2020-01-22          0       0          0       0                 Europe\n4            NaN         Angola -11.20270  17.873900  2020-01-22          0       0          0       0                 Africa",
      "text/html": "<div>\n<style scoped>\n    .dataframe tbody tr th:only-of-type {\n        vertical-align: middle;\n    }\n\n    .dataframe tbody tr th {\n        vertical-align: top;\n    }\n\n    .dataframe thead th {\n        text-align: right;\n    }\n</style>\n<table border=\"1\" class=\"dataframe\">\n  <thead>\n    <tr style=\"text-align: right;\">\n      <th></th>\n      <th>Province/State</th>\n      <th>Country/Region</th>\n      <th>Lat</th>\n      <th>Long</th>\n      <th>Date</th>\n      <th>Confirmed</th>\n      <th>Deaths</th>\n      <th>Recovered</th>\n      <th>Active</th>\n      <th>WHO Region</th>\n    </tr>\n  </thead>\n  <tbody>\n    <tr>\n      <th>0</th>\n      <td>NaN</td>\n      <td>Afghanistan</td>\n      <td>33.93911</td>\n      <td>67.709953</td>\n      <td>2020-01-22</td>\n      <td>0</td>\n      <td>0</td>\n      <td>0</td>\n      <td>0</td>\n      <td>Eastern Mediterranean</td>\n    </tr>\n    <tr>\n      <th>1</th>\n      <td>NaN</td>\n      <td>Albania</td>\n      <td>41.15330</td>\n      <td>20.168300</td>\n      <td>2020-01-22</td>\n      <td>0</td>\n      <td>0</td>\n      <td>0</td>\n      <td>0</td>\n      <td>Europe</td>\n    </tr>\n    <tr>\n      <th>2</th>\n      <td>NaN</td>\n      <td>Algeria</td>\n      <td>28.03390</td>\n      <td>1.659600</td>\n      <td>2020-01-22</td>\n      <td>0</td>\n      <td>0</td>\n      <td>0</td>\n      <td>0</td>\n      <td>Africa</td>\n    </tr>\n    <tr>\n      <th>3</th>\n      <td>NaN</td>\n      <td>Andorra</td>\n      <td>42.50630</td>\n      <td>1.521800</td>\n      <td>2020-01-22</td>\n      <td>0</td>\n      <td>0</td>\n      <td>0</td>\n      <td>0</td>\n      <td>Europe</td>\n    </tr>\n    <tr>\n      <th>4</th>\n      <td>NaN</td>\n      <td>Angola</td>\n      <td>-11.20270</td>\n      <td>17.873900</td>\n      <td>2020-01-22</td>\n      <td>0</td>\n      <td>0</td>\n      <td>0</td>\n      <td>0</td>\n      <td>Africa</td>\n    </tr>\n  </tbody>\n</table>\n</div>"
     },
     "execution_count": 17,
     "metadata": {},
     "output_type": "execute_result"
    }
   ],
   "source": [
    "df_covid.head()"
   ],
   "metadata": {
    "collapsed": false,
    "ExecuteTime": {
     "end_time": "2023-10-27T15:19:19.563567300Z",
     "start_time": "2023-10-27T15:19:19.408195800Z"
    }
   },
   "id": "12072f887b19856c"
  },
  {
   "cell_type": "code",
   "execution_count": 22,
   "outputs": [],
   "source": [
    "#replace Province/State data if empty string with NaN\n",
    "df_covid['Province/State'] = df_covid['Province/State'].replace('', np.nan)"
   ],
   "metadata": {
    "collapsed": false,
    "ExecuteTime": {
     "end_time": "2023-10-27T15:23:41.486425800Z",
     "start_time": "2023-10-27T15:23:41.421632Z"
    }
   },
   "id": "fbf16eb4f718a447"
  },
  {
   "cell_type": "code",
   "execution_count": 23,
   "outputs": [
    {
     "data": {
      "text/plain": "                  Province/State          Country/Region        Lat        Long        Date  Confirmed  Deaths  Recovered  Active             WHO Region\n0                            NaN             Afghanistan  33.939110   67.709953  2020-01-22          0       0          0       0  Eastern Mediterranean\n1                            NaN                 Albania  41.153300   20.168300  2020-01-22          0       0          0       0                 Europe\n2                            NaN                 Algeria  28.033900    1.659600  2020-01-22          0       0          0       0                 Africa\n3                            NaN                 Andorra  42.506300    1.521800  2020-01-22          0       0          0       0                 Europe\n4                            NaN                  Angola -11.202700   17.873900  2020-01-22          0       0          0       0                 Africa\n5                            NaN     Antigua and Barbuda  17.060800  -61.796400  2020-01-22          0       0          0       0               Americas\n6                            NaN               Argentina -38.416100  -63.616700  2020-01-22          0       0          0       0               Americas\n7                            NaN                 Armenia  40.069100   45.038200  2020-01-22          0       0          0       0                 Europe\n8   Australian Capital Territory               Australia -35.473500  149.012400  2020-01-22          0       0          0       0        Western Pacific\n9                New South Wales               Australia -33.868800  151.209300  2020-01-22          0       0          0       0        Western Pacific\n10            Northern Territory               Australia -12.463400  130.845600  2020-01-22          0       0          0       0        Western Pacific\n11                    Queensland               Australia -27.469800  153.025100  2020-01-22          0       0          0       0        Western Pacific\n12               South Australia               Australia -34.928500  138.600700  2020-01-22          0       0          0       0        Western Pacific\n13                      Tasmania               Australia -42.882100  147.327200  2020-01-22          0       0          0       0        Western Pacific\n14                      Victoria               Australia -37.813600  144.963100  2020-01-22          0       0          0       0        Western Pacific\n15             Western Australia               Australia -31.950500  115.860500  2020-01-22          0       0          0       0        Western Pacific\n16                           NaN                 Austria  47.516200   14.550100  2020-01-22          0       0          0       0                 Europe\n17                           NaN              Azerbaijan  40.143100   47.576900  2020-01-22          0       0          0       0                 Europe\n18                           NaN                 Bahamas  25.025885  -78.035889  2020-01-22          0       0          0       0               Americas\n19                           NaN                 Bahrain  26.027500   50.550000  2020-01-22          0       0          0       0  Eastern Mediterranean\n20                           NaN              Bangladesh  23.685000   90.356300  2020-01-22          0       0          0       0        South-East Asia\n21                           NaN                Barbados  13.193900  -59.543200  2020-01-22          0       0          0       0               Americas\n22                           NaN                 Belarus  53.709800   27.953400  2020-01-22          0       0          0       0                 Europe\n23                           NaN                 Belgium  50.833300    4.469936  2020-01-22          0       0          0       0                 Europe\n24                           NaN                   Benin   9.307700    2.315800  2020-01-22          0       0          0       0                 Africa\n25                           NaN                  Bhutan  27.514200   90.433600  2020-01-22          0       0          0       0        South-East Asia\n26                           NaN                 Bolivia -16.290200  -63.588700  2020-01-22          0       0          0       0               Americas\n27                           NaN  Bosnia and Herzegovina  43.915900   17.679100  2020-01-22          0       0          0       0                 Europe\n28                           NaN                  Brazil -14.235000  -51.925300  2020-01-22          0       0          0       0               Americas\n29                           NaN                  Brunei   4.535300  114.727700  2020-01-22          0       0          0       0        Western Pacific\n30                           NaN                Bulgaria  42.733900   25.485800  2020-01-22          0       0          0       0                 Europe\n31                           NaN            Burkina Faso  12.238300   -1.561600  2020-01-22          0       0          0       0                 Africa\n32                           NaN              Cabo Verde  16.538800  -23.041800  2020-01-22          0       0          0       0                 Africa\n33                           NaN                Cambodia  11.550000  104.916700  2020-01-22          0       0          0       0        Western Pacific\n34                           NaN                Cameroon   3.848000   11.502100  2020-01-22          0       0          0       0                 Africa\n35                       Alberta                  Canada  53.933300 -116.576500  2020-01-22          0       0          0       0               Americas\n36              British Columbia                  Canada  53.726700 -127.647600  2020-01-22          0       0          0       0               Americas\n37                      Manitoba                  Canada  53.760900  -98.813900  2020-01-22          0       0          0       0               Americas\n38                 New Brunswick                  Canada  46.565300  -66.461900  2020-01-22          0       0          0       0               Americas\n39     Newfoundland and Labrador                  Canada  53.135500  -57.660400  2020-01-22          0       0          0       0               Americas",
      "text/html": "<div>\n<style scoped>\n    .dataframe tbody tr th:only-of-type {\n        vertical-align: middle;\n    }\n\n    .dataframe tbody tr th {\n        vertical-align: top;\n    }\n\n    .dataframe thead th {\n        text-align: right;\n    }\n</style>\n<table border=\"1\" class=\"dataframe\">\n  <thead>\n    <tr style=\"text-align: right;\">\n      <th></th>\n      <th>Province/State</th>\n      <th>Country/Region</th>\n      <th>Lat</th>\n      <th>Long</th>\n      <th>Date</th>\n      <th>Confirmed</th>\n      <th>Deaths</th>\n      <th>Recovered</th>\n      <th>Active</th>\n      <th>WHO Region</th>\n    </tr>\n  </thead>\n  <tbody>\n    <tr>\n      <th>0</th>\n      <td>NaN</td>\n      <td>Afghanistan</td>\n      <td>33.939110</td>\n      <td>67.709953</td>\n      <td>2020-01-22</td>\n      <td>0</td>\n      <td>0</td>\n      <td>0</td>\n      <td>0</td>\n      <td>Eastern Mediterranean</td>\n    </tr>\n    <tr>\n      <th>1</th>\n      <td>NaN</td>\n      <td>Albania</td>\n      <td>41.153300</td>\n      <td>20.168300</td>\n      <td>2020-01-22</td>\n      <td>0</td>\n      <td>0</td>\n      <td>0</td>\n      <td>0</td>\n      <td>Europe</td>\n    </tr>\n    <tr>\n      <th>2</th>\n      <td>NaN</td>\n      <td>Algeria</td>\n      <td>28.033900</td>\n      <td>1.659600</td>\n      <td>2020-01-22</td>\n      <td>0</td>\n      <td>0</td>\n      <td>0</td>\n      <td>0</td>\n      <td>Africa</td>\n    </tr>\n    <tr>\n      <th>3</th>\n      <td>NaN</td>\n      <td>Andorra</td>\n      <td>42.506300</td>\n      <td>1.521800</td>\n      <td>2020-01-22</td>\n      <td>0</td>\n      <td>0</td>\n      <td>0</td>\n      <td>0</td>\n      <td>Europe</td>\n    </tr>\n    <tr>\n      <th>4</th>\n      <td>NaN</td>\n      <td>Angola</td>\n      <td>-11.202700</td>\n      <td>17.873900</td>\n      <td>2020-01-22</td>\n      <td>0</td>\n      <td>0</td>\n      <td>0</td>\n      <td>0</td>\n      <td>Africa</td>\n    </tr>\n    <tr>\n      <th>5</th>\n      <td>NaN</td>\n      <td>Antigua and Barbuda</td>\n      <td>17.060800</td>\n      <td>-61.796400</td>\n      <td>2020-01-22</td>\n      <td>0</td>\n      <td>0</td>\n      <td>0</td>\n      <td>0</td>\n      <td>Americas</td>\n    </tr>\n    <tr>\n      <th>6</th>\n      <td>NaN</td>\n      <td>Argentina</td>\n      <td>-38.416100</td>\n      <td>-63.616700</td>\n      <td>2020-01-22</td>\n      <td>0</td>\n      <td>0</td>\n      <td>0</td>\n      <td>0</td>\n      <td>Americas</td>\n    </tr>\n    <tr>\n      <th>7</th>\n      <td>NaN</td>\n      <td>Armenia</td>\n      <td>40.069100</td>\n      <td>45.038200</td>\n      <td>2020-01-22</td>\n      <td>0</td>\n      <td>0</td>\n      <td>0</td>\n      <td>0</td>\n      <td>Europe</td>\n    </tr>\n    <tr>\n      <th>8</th>\n      <td>Australian Capital Territory</td>\n      <td>Australia</td>\n      <td>-35.473500</td>\n      <td>149.012400</td>\n      <td>2020-01-22</td>\n      <td>0</td>\n      <td>0</td>\n      <td>0</td>\n      <td>0</td>\n      <td>Western Pacific</td>\n    </tr>\n    <tr>\n      <th>9</th>\n      <td>New South Wales</td>\n      <td>Australia</td>\n      <td>-33.868800</td>\n      <td>151.209300</td>\n      <td>2020-01-22</td>\n      <td>0</td>\n      <td>0</td>\n      <td>0</td>\n      <td>0</td>\n      <td>Western Pacific</td>\n    </tr>\n    <tr>\n      <th>10</th>\n      <td>Northern Territory</td>\n      <td>Australia</td>\n      <td>-12.463400</td>\n      <td>130.845600</td>\n      <td>2020-01-22</td>\n      <td>0</td>\n      <td>0</td>\n      <td>0</td>\n      <td>0</td>\n      <td>Western Pacific</td>\n    </tr>\n    <tr>\n      <th>11</th>\n      <td>Queensland</td>\n      <td>Australia</td>\n      <td>-27.469800</td>\n      <td>153.025100</td>\n      <td>2020-01-22</td>\n      <td>0</td>\n      <td>0</td>\n      <td>0</td>\n      <td>0</td>\n      <td>Western Pacific</td>\n    </tr>\n    <tr>\n      <th>12</th>\n      <td>South Australia</td>\n      <td>Australia</td>\n      <td>-34.928500</td>\n      <td>138.600700</td>\n      <td>2020-01-22</td>\n      <td>0</td>\n      <td>0</td>\n      <td>0</td>\n      <td>0</td>\n      <td>Western Pacific</td>\n    </tr>\n    <tr>\n      <th>13</th>\n      <td>Tasmania</td>\n      <td>Australia</td>\n      <td>-42.882100</td>\n      <td>147.327200</td>\n      <td>2020-01-22</td>\n      <td>0</td>\n      <td>0</td>\n      <td>0</td>\n      <td>0</td>\n      <td>Western Pacific</td>\n    </tr>\n    <tr>\n      <th>14</th>\n      <td>Victoria</td>\n      <td>Australia</td>\n      <td>-37.813600</td>\n      <td>144.963100</td>\n      <td>2020-01-22</td>\n      <td>0</td>\n      <td>0</td>\n      <td>0</td>\n      <td>0</td>\n      <td>Western Pacific</td>\n    </tr>\n    <tr>\n      <th>15</th>\n      <td>Western Australia</td>\n      <td>Australia</td>\n      <td>-31.950500</td>\n      <td>115.860500</td>\n      <td>2020-01-22</td>\n      <td>0</td>\n      <td>0</td>\n      <td>0</td>\n      <td>0</td>\n      <td>Western Pacific</td>\n    </tr>\n    <tr>\n      <th>16</th>\n      <td>NaN</td>\n      <td>Austria</td>\n      <td>47.516200</td>\n      <td>14.550100</td>\n      <td>2020-01-22</td>\n      <td>0</td>\n      <td>0</td>\n      <td>0</td>\n      <td>0</td>\n      <td>Europe</td>\n    </tr>\n    <tr>\n      <th>17</th>\n      <td>NaN</td>\n      <td>Azerbaijan</td>\n      <td>40.143100</td>\n      <td>47.576900</td>\n      <td>2020-01-22</td>\n      <td>0</td>\n      <td>0</td>\n      <td>0</td>\n      <td>0</td>\n      <td>Europe</td>\n    </tr>\n    <tr>\n      <th>18</th>\n      <td>NaN</td>\n      <td>Bahamas</td>\n      <td>25.025885</td>\n      <td>-78.035889</td>\n      <td>2020-01-22</td>\n      <td>0</td>\n      <td>0</td>\n      <td>0</td>\n      <td>0</td>\n      <td>Americas</td>\n    </tr>\n    <tr>\n      <th>19</th>\n      <td>NaN</td>\n      <td>Bahrain</td>\n      <td>26.027500</td>\n      <td>50.550000</td>\n      <td>2020-01-22</td>\n      <td>0</td>\n      <td>0</td>\n      <td>0</td>\n      <td>0</td>\n      <td>Eastern Mediterranean</td>\n    </tr>\n    <tr>\n      <th>20</th>\n      <td>NaN</td>\n      <td>Bangladesh</td>\n      <td>23.685000</td>\n      <td>90.356300</td>\n      <td>2020-01-22</td>\n      <td>0</td>\n      <td>0</td>\n      <td>0</td>\n      <td>0</td>\n      <td>South-East Asia</td>\n    </tr>\n    <tr>\n      <th>21</th>\n      <td>NaN</td>\n      <td>Barbados</td>\n      <td>13.193900</td>\n      <td>-59.543200</td>\n      <td>2020-01-22</td>\n      <td>0</td>\n      <td>0</td>\n      <td>0</td>\n      <td>0</td>\n      <td>Americas</td>\n    </tr>\n    <tr>\n      <th>22</th>\n      <td>NaN</td>\n      <td>Belarus</td>\n      <td>53.709800</td>\n      <td>27.953400</td>\n      <td>2020-01-22</td>\n      <td>0</td>\n      <td>0</td>\n      <td>0</td>\n      <td>0</td>\n      <td>Europe</td>\n    </tr>\n    <tr>\n      <th>23</th>\n      <td>NaN</td>\n      <td>Belgium</td>\n      <td>50.833300</td>\n      <td>4.469936</td>\n      <td>2020-01-22</td>\n      <td>0</td>\n      <td>0</td>\n      <td>0</td>\n      <td>0</td>\n      <td>Europe</td>\n    </tr>\n    <tr>\n      <th>24</th>\n      <td>NaN</td>\n      <td>Benin</td>\n      <td>9.307700</td>\n      <td>2.315800</td>\n      <td>2020-01-22</td>\n      <td>0</td>\n      <td>0</td>\n      <td>0</td>\n      <td>0</td>\n      <td>Africa</td>\n    </tr>\n    <tr>\n      <th>25</th>\n      <td>NaN</td>\n      <td>Bhutan</td>\n      <td>27.514200</td>\n      <td>90.433600</td>\n      <td>2020-01-22</td>\n      <td>0</td>\n      <td>0</td>\n      <td>0</td>\n      <td>0</td>\n      <td>South-East Asia</td>\n    </tr>\n    <tr>\n      <th>26</th>\n      <td>NaN</td>\n      <td>Bolivia</td>\n      <td>-16.290200</td>\n      <td>-63.588700</td>\n      <td>2020-01-22</td>\n      <td>0</td>\n      <td>0</td>\n      <td>0</td>\n      <td>0</td>\n      <td>Americas</td>\n    </tr>\n    <tr>\n      <th>27</th>\n      <td>NaN</td>\n      <td>Bosnia and Herzegovina</td>\n      <td>43.915900</td>\n      <td>17.679100</td>\n      <td>2020-01-22</td>\n      <td>0</td>\n      <td>0</td>\n      <td>0</td>\n      <td>0</td>\n      <td>Europe</td>\n    </tr>\n    <tr>\n      <th>28</th>\n      <td>NaN</td>\n      <td>Brazil</td>\n      <td>-14.235000</td>\n      <td>-51.925300</td>\n      <td>2020-01-22</td>\n      <td>0</td>\n      <td>0</td>\n      <td>0</td>\n      <td>0</td>\n      <td>Americas</td>\n    </tr>\n    <tr>\n      <th>29</th>\n      <td>NaN</td>\n      <td>Brunei</td>\n      <td>4.535300</td>\n      <td>114.727700</td>\n      <td>2020-01-22</td>\n      <td>0</td>\n      <td>0</td>\n      <td>0</td>\n      <td>0</td>\n      <td>Western Pacific</td>\n    </tr>\n    <tr>\n      <th>30</th>\n      <td>NaN</td>\n      <td>Bulgaria</td>\n      <td>42.733900</td>\n      <td>25.485800</td>\n      <td>2020-01-22</td>\n      <td>0</td>\n      <td>0</td>\n      <td>0</td>\n      <td>0</td>\n      <td>Europe</td>\n    </tr>\n    <tr>\n      <th>31</th>\n      <td>NaN</td>\n      <td>Burkina Faso</td>\n      <td>12.238300</td>\n      <td>-1.561600</td>\n      <td>2020-01-22</td>\n      <td>0</td>\n      <td>0</td>\n      <td>0</td>\n      <td>0</td>\n      <td>Africa</td>\n    </tr>\n    <tr>\n      <th>32</th>\n      <td>NaN</td>\n      <td>Cabo Verde</td>\n      <td>16.538800</td>\n      <td>-23.041800</td>\n      <td>2020-01-22</td>\n      <td>0</td>\n      <td>0</td>\n      <td>0</td>\n      <td>0</td>\n      <td>Africa</td>\n    </tr>\n    <tr>\n      <th>33</th>\n      <td>NaN</td>\n      <td>Cambodia</td>\n      <td>11.550000</td>\n      <td>104.916700</td>\n      <td>2020-01-22</td>\n      <td>0</td>\n      <td>0</td>\n      <td>0</td>\n      <td>0</td>\n      <td>Western Pacific</td>\n    </tr>\n    <tr>\n      <th>34</th>\n      <td>NaN</td>\n      <td>Cameroon</td>\n      <td>3.848000</td>\n      <td>11.502100</td>\n      <td>2020-01-22</td>\n      <td>0</td>\n      <td>0</td>\n      <td>0</td>\n      <td>0</td>\n      <td>Africa</td>\n    </tr>\n    <tr>\n      <th>35</th>\n      <td>Alberta</td>\n      <td>Canada</td>\n      <td>53.933300</td>\n      <td>-116.576500</td>\n      <td>2020-01-22</td>\n      <td>0</td>\n      <td>0</td>\n      <td>0</td>\n      <td>0</td>\n      <td>Americas</td>\n    </tr>\n    <tr>\n      <th>36</th>\n      <td>British Columbia</td>\n      <td>Canada</td>\n      <td>53.726700</td>\n      <td>-127.647600</td>\n      <td>2020-01-22</td>\n      <td>0</td>\n      <td>0</td>\n      <td>0</td>\n      <td>0</td>\n      <td>Americas</td>\n    </tr>\n    <tr>\n      <th>37</th>\n      <td>Manitoba</td>\n      <td>Canada</td>\n      <td>53.760900</td>\n      <td>-98.813900</td>\n      <td>2020-01-22</td>\n      <td>0</td>\n      <td>0</td>\n      <td>0</td>\n      <td>0</td>\n      <td>Americas</td>\n    </tr>\n    <tr>\n      <th>38</th>\n      <td>New Brunswick</td>\n      <td>Canada</td>\n      <td>46.565300</td>\n      <td>-66.461900</td>\n      <td>2020-01-22</td>\n      <td>0</td>\n      <td>0</td>\n      <td>0</td>\n      <td>0</td>\n      <td>Americas</td>\n    </tr>\n    <tr>\n      <th>39</th>\n      <td>Newfoundland and Labrador</td>\n      <td>Canada</td>\n      <td>53.135500</td>\n      <td>-57.660400</td>\n      <td>2020-01-22</td>\n      <td>0</td>\n      <td>0</td>\n      <td>0</td>\n      <td>0</td>\n      <td>Americas</td>\n    </tr>\n  </tbody>\n</table>\n</div>"
     },
     "execution_count": 23,
     "metadata": {},
     "output_type": "execute_result"
    }
   ],
   "source": [
    "df_covid.head(40)"
   ],
   "metadata": {
    "collapsed": false,
    "ExecuteTime": {
     "end_time": "2023-10-27T15:23:50.829377700Z",
     "start_time": "2023-10-27T15:23:50.797719500Z"
    }
   },
   "id": "e6386f23cf917d9d"
  },
  {
   "cell_type": "markdown",
   "source": [
    "### Pre-processing"
   ],
   "metadata": {
    "collapsed": false
   },
   "id": "2012e5f6a74acd39"
  },
  {
   "cell_type": "code",
   "execution_count": 4,
   "outputs": [
    {
     "data": {
      "text/plain": "(49068, 10)"
     },
     "execution_count": 4,
     "metadata": {},
     "output_type": "execute_result"
    }
   ],
   "source": [
    "## Inspecting the shape \n",
    "df_covid.shape"
   ],
   "metadata": {
    "collapsed": false,
    "ExecuteTime": {
     "end_time": "2023-10-28T03:49:19.699668800Z",
     "start_time": "2023-10-28T03:49:19.418663500Z"
    }
   },
   "id": "2b1af7984a77432d"
  },
  {
   "cell_type": "code",
   "execution_count": 5,
   "outputs": [
    {
     "name": "stdout",
     "output_type": "stream",
     "text": [
      "<class 'pandas.core.frame.DataFrame'>\n",
      "RangeIndex: 49068 entries, 0 to 49067\n",
      "Data columns (total 10 columns):\n",
      " #   Column          Non-Null Count  Dtype  \n",
      "---  ------          --------------  -----  \n",
      " 0   Province/State  14664 non-null  object \n",
      " 1   Country/Region  49068 non-null  object \n",
      " 2   Lat             49068 non-null  float64\n",
      " 3   Long            49068 non-null  float64\n",
      " 4   Date            49068 non-null  object \n",
      " 5   Confirmed       49068 non-null  int64  \n",
      " 6   Deaths          49068 non-null  int64  \n",
      " 7   Recovered       49068 non-null  int64  \n",
      " 8   Active          49068 non-null  int64  \n",
      " 9   WHO Region      49068 non-null  object \n",
      "dtypes: float64(2), int64(4), object(4)\n",
      "memory usage: 3.7+ MB\n"
     ]
    }
   ],
   "source": [
    "df_covid.info()"
   ],
   "metadata": {
    "collapsed": false,
    "ExecuteTime": {
     "end_time": "2023-10-28T03:50:12.675883400Z",
     "start_time": "2023-10-28T03:50:12.503906400Z"
    }
   },
   "id": "a9bf146ef5baec08"
  },
  {
   "cell_type": "code",
   "execution_count": 6,
   "outputs": [
    {
     "data": {
      "text/plain": "                Lat          Long     Confirmed         Deaths     Recovered  \\\ncount  49068.000000  49068.000000  4.906800e+04   49068.000000  4.906800e+04   \nmean      21.433730     23.528236  1.688490e+04     884.179160  7.915713e+03   \nstd       24.950320     70.442740  1.273002e+05    6313.584411  5.480092e+04   \nmin      -51.796300   -135.000000  0.000000e+00       0.000000  0.000000e+00   \n25%        7.873054    -15.310100  4.000000e+00       0.000000  0.000000e+00   \n50%       23.634500     21.745300  1.680000e+02       2.000000  2.900000e+01   \n75%       41.204380     80.771797  1.518250e+03      30.000000  6.660000e+02   \nmax       71.706900    178.065000  4.290259e+06  148011.000000  1.846641e+06   \n\n             Active  \ncount  4.906800e+04  \nmean   8.085012e+03  \nstd    7.625890e+04  \nmin   -1.400000e+01  \n25%    0.000000e+00  \n50%    2.600000e+01  \n75%    6.060000e+02  \nmax    2.816444e+06  ",
      "text/html": "<div>\n<style scoped>\n    .dataframe tbody tr th:only-of-type {\n        vertical-align: middle;\n    }\n\n    .dataframe tbody tr th {\n        vertical-align: top;\n    }\n\n    .dataframe thead th {\n        text-align: right;\n    }\n</style>\n<table border=\"1\" class=\"dataframe\">\n  <thead>\n    <tr style=\"text-align: right;\">\n      <th></th>\n      <th>Lat</th>\n      <th>Long</th>\n      <th>Confirmed</th>\n      <th>Deaths</th>\n      <th>Recovered</th>\n      <th>Active</th>\n    </tr>\n  </thead>\n  <tbody>\n    <tr>\n      <th>count</th>\n      <td>49068.000000</td>\n      <td>49068.000000</td>\n      <td>4.906800e+04</td>\n      <td>49068.000000</td>\n      <td>4.906800e+04</td>\n      <td>4.906800e+04</td>\n    </tr>\n    <tr>\n      <th>mean</th>\n      <td>21.433730</td>\n      <td>23.528236</td>\n      <td>1.688490e+04</td>\n      <td>884.179160</td>\n      <td>7.915713e+03</td>\n      <td>8.085012e+03</td>\n    </tr>\n    <tr>\n      <th>std</th>\n      <td>24.950320</td>\n      <td>70.442740</td>\n      <td>1.273002e+05</td>\n      <td>6313.584411</td>\n      <td>5.480092e+04</td>\n      <td>7.625890e+04</td>\n    </tr>\n    <tr>\n      <th>min</th>\n      <td>-51.796300</td>\n      <td>-135.000000</td>\n      <td>0.000000e+00</td>\n      <td>0.000000</td>\n      <td>0.000000e+00</td>\n      <td>-1.400000e+01</td>\n    </tr>\n    <tr>\n      <th>25%</th>\n      <td>7.873054</td>\n      <td>-15.310100</td>\n      <td>4.000000e+00</td>\n      <td>0.000000</td>\n      <td>0.000000e+00</td>\n      <td>0.000000e+00</td>\n    </tr>\n    <tr>\n      <th>50%</th>\n      <td>23.634500</td>\n      <td>21.745300</td>\n      <td>1.680000e+02</td>\n      <td>2.000000</td>\n      <td>2.900000e+01</td>\n      <td>2.600000e+01</td>\n    </tr>\n    <tr>\n      <th>75%</th>\n      <td>41.204380</td>\n      <td>80.771797</td>\n      <td>1.518250e+03</td>\n      <td>30.000000</td>\n      <td>6.660000e+02</td>\n      <td>6.060000e+02</td>\n    </tr>\n    <tr>\n      <th>max</th>\n      <td>71.706900</td>\n      <td>178.065000</td>\n      <td>4.290259e+06</td>\n      <td>148011.000000</td>\n      <td>1.846641e+06</td>\n      <td>2.816444e+06</td>\n    </tr>\n  </tbody>\n</table>\n</div>"
     },
     "execution_count": 6,
     "metadata": {},
     "output_type": "execute_result"
    }
   ],
   "source": [
    "df_covid.describe()"
   ],
   "metadata": {
    "collapsed": false,
    "ExecuteTime": {
     "end_time": "2023-10-28T03:50:46.124355900Z",
     "start_time": "2023-10-28T03:50:42.457213200Z"
    }
   },
   "id": "9465a494b6447dce"
  },
  {
   "cell_type": "code",
   "execution_count": 7,
   "outputs": [
    {
     "data": {
      "text/plain": "Province/State    34404\nCountry/Region        0\nLat                   0\nLong                  0\nDate                  0\nConfirmed             0\nDeaths                0\nRecovered             0\nActive                0\nWHO Region            0\ndtype: int64"
     },
     "execution_count": 7,
     "metadata": {},
     "output_type": "execute_result"
    }
   ],
   "source": [
    "df_covid.isnull().sum()"
   ],
   "metadata": {
    "collapsed": false,
    "ExecuteTime": {
     "end_time": "2023-10-28T03:51:18.981939100Z",
     "start_time": "2023-10-28T03:51:17.652434900Z"
    }
   },
   "id": "30776a94d73a9ada"
  },
  {
   "cell_type": "code",
   "execution_count": null,
   "outputs": [],
   "source": [],
   "metadata": {
    "collapsed": false
   },
   "id": "b62df3b0a0002376"
  }
 ],
 "metadata": {
  "kernelspec": {
   "display_name": "Python 3",
   "language": "python",
   "name": "python3"
  },
  "language_info": {
   "codemirror_mode": {
    "name": "ipython",
    "version": 2
   },
   "file_extension": ".py",
   "mimetype": "text/x-python",
   "name": "python",
   "nbconvert_exporter": "python",
   "pygments_lexer": "ipython2",
   "version": "2.7.6"
  }
 },
 "nbformat": 4,
 "nbformat_minor": 5
}
